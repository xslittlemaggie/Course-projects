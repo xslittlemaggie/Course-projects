{
 "cells": [
  {
   "cell_type": "markdown",
   "metadata": {},
   "source": [
    "### Where is the recommended place to open a restaurant, a coffee shop, or to start a new business?"
   ]
  },
  {
   "cell_type": "markdown",
   "metadata": {},
   "source": [
    "## Introduction\n",
    "\n",
    "In this project, I will provide a general guide about where you should open a restaruant, a coffee shop, or to setup a office for the new business based on . The **Foursquare API** is used to explore the neighborhoods in a particular city, and the **explore** function is used to get the most common venue categories in each neighborhood. After this project, you will get a general idea on determining the location for your business. "
   ]
  },
  {
   "cell_type": "markdown",
   "metadata": {},
   "source": [
    "## Table of Contents\n",
    "\n",
    "#### 1. Import Dataset\n",
    "\n",
    "#### 2. Analysis of the cities in Los Angeles, CA\n",
    "\n",
    "#### 3. Analyze venue category in each city (Neighborhood) \n",
    "\n",
    "#### 4. Cluster Neighborhoods\n",
    "\n",
    "#### 5. Examine Each of the Five Clusters\n",
    "\n",
    "#### 6. Conclusions & Recommendation    \n",
    "</font>\n",
    "</div>"
   ]
  },
  {
   "cell_type": "markdown",
   "metadata": {},
   "source": [
    "Import libraries that are used in this project"
   ]
  },
  {
   "cell_type": "code",
   "execution_count": 3,
   "metadata": {},
   "outputs": [],
   "source": [
    "import pandas as pd # library for data analsysis\n",
    "import numpy as np # library to handle data in a vectorized manner\n",
    "\n",
    "from geopy.geocoders import Nominatim # convert an address into latitude and longitude values\n",
    "\n",
    "import requests # library to handle requests\n",
    "from pandas.io.json import json_normalize # tranform JSON file into a pandas dataframe\n",
    "\n",
    "from sklearn.cluster import KMeans  # import k-means from clustering stage\n",
    "\n",
    "import matplotlib.cm as cm   # Matplotlib and associated plotting modules\n",
    "import matplotlib.colors as colors\n",
    "from matplotlib import pyplot as plt\n",
    "\n",
    "import folium # map rendering library"
   ]
  },
  {
   "cell_type": "markdown",
   "metadata": {},
   "source": [
    "## 1. Import Dataset: Get all the neighborhood names of California from wikipedia"
   ]
  },
  {
   "cell_type": "code",
   "execution_count": 4,
   "metadata": {},
   "outputs": [],
   "source": [
    "url_cal = 'https://en.wikipedia.org/wiki/List_of_cities_and_towns_in_California'\n",
    "California_raw = pd.read_clipboard()"
   ]
  },
  {
   "cell_type": "code",
   "execution_count": 5,
   "metadata": {},
   "outputs": [
    {
     "data": {
      "text/html": [
       "<div>\n",
       "<style scoped>\n",
       "    .dataframe tbody tr th:only-of-type {\n",
       "        vertical-align: middle;\n",
       "    }\n",
       "\n",
       "    .dataframe tbody tr th {\n",
       "        vertical-align: top;\n",
       "    }\n",
       "\n",
       "    .dataframe thead th {\n",
       "        text-align: right;\n",
       "    }\n",
       "</style>\n",
       "<table border=\"1\" class=\"dataframe\">\n",
       "  <thead>\n",
       "    <tr style=\"text-align: right;\">\n",
       "      <th></th>\n",
       "      <th>Adelanto</th>\n",
       "      <th>City</th>\n",
       "      <th>San Bernardino</th>\n",
       "      <th>31,765</th>\n",
       "      <th>56.01</th>\n",
       "      <th>145.1</th>\n",
       "      <th>December 22, 1970</th>\n",
       "    </tr>\n",
       "  </thead>\n",
       "  <tbody>\n",
       "    <tr>\n",
       "      <th>0</th>\n",
       "      <td>Agoura Hills</td>\n",
       "      <td>City</td>\n",
       "      <td>Los Angeles</td>\n",
       "      <td>20,330</td>\n",
       "      <td>7.79</td>\n",
       "      <td>20.2</td>\n",
       "      <td>December 8, 1982</td>\n",
       "    </tr>\n",
       "    <tr>\n",
       "      <th>1</th>\n",
       "      <td>Alameda</td>\n",
       "      <td>City</td>\n",
       "      <td>Alameda</td>\n",
       "      <td>73,812</td>\n",
       "      <td>10.61</td>\n",
       "      <td>27.5</td>\n",
       "      <td>April 19, 1854</td>\n",
       "    </tr>\n",
       "    <tr>\n",
       "      <th>2</th>\n",
       "      <td>Albany</td>\n",
       "      <td>City</td>\n",
       "      <td>Alameda</td>\n",
       "      <td>18,539</td>\n",
       "      <td>1.79</td>\n",
       "      <td>4.6</td>\n",
       "      <td>September 22, 1908</td>\n",
       "    </tr>\n",
       "    <tr>\n",
       "      <th>3</th>\n",
       "      <td>Alhambra</td>\n",
       "      <td>City</td>\n",
       "      <td>Los Angeles</td>\n",
       "      <td>83,089</td>\n",
       "      <td>7.63</td>\n",
       "      <td>19.8</td>\n",
       "      <td>July 11, 1903</td>\n",
       "    </tr>\n",
       "    <tr>\n",
       "      <th>4</th>\n",
       "      <td>Aliso Viejo</td>\n",
       "      <td>City</td>\n",
       "      <td>Orange</td>\n",
       "      <td>47,823</td>\n",
       "      <td>7.47</td>\n",
       "      <td>19.3</td>\n",
       "      <td>July 1, 2001</td>\n",
       "    </tr>\n",
       "  </tbody>\n",
       "</table>\n",
       "</div>"
      ],
      "text/plain": [
       "       Adelanto  City San Bernardino  31,765  56.01 145.1   December 22, 1970\n",
       "0  Agoura Hills  City    Los Angeles  20,330   7.79  20.2    December 8, 1982\n",
       "1       Alameda  City        Alameda  73,812  10.61  27.5      April 19, 1854\n",
       "2        Albany  City        Alameda  18,539   1.79   4.6  September 22, 1908\n",
       "3      Alhambra  City    Los Angeles  83,089   7.63  19.8       July 11, 1903\n",
       "4   Aliso Viejo  City         Orange  47,823   7.47  19.3        July 1, 2001"
      ]
     },
     "execution_count": 5,
     "metadata": {},
     "output_type": "execute_result"
    }
   ],
   "source": [
    "California_raw.head()"
   ]
  },
  {
   "cell_type": "code",
   "execution_count": 7,
   "metadata": {},
   "outputs": [
    {
     "data": {
      "text/plain": [
       "481"
      ]
     },
     "execution_count": 7,
     "metadata": {},
     "output_type": "execute_result"
    }
   ],
   "source": [
    "len(California_raw)"
   ]
  },
  {
   "cell_type": "code",
   "execution_count": 8,
   "metadata": {},
   "outputs": [
    {
     "data": {
      "text/html": [
       "<div>\n",
       "<style scoped>\n",
       "    .dataframe tbody tr th:only-of-type {\n",
       "        vertical-align: middle;\n",
       "    }\n",
       "\n",
       "    .dataframe tbody tr th {\n",
       "        vertical-align: top;\n",
       "    }\n",
       "\n",
       "    .dataframe thead th {\n",
       "        text-align: right;\n",
       "    }\n",
       "</style>\n",
       "<table border=\"1\" class=\"dataframe\">\n",
       "  <thead>\n",
       "    <tr style=\"text-align: right;\">\n",
       "      <th></th>\n",
       "      <th>0</th>\n",
       "      <th>1</th>\n",
       "      <th>2</th>\n",
       "      <th>3</th>\n",
       "      <th>4</th>\n",
       "      <th>5</th>\n",
       "      <th>6</th>\n",
       "    </tr>\n",
       "  </thead>\n",
       "  <tbody>\n",
       "    <tr>\n",
       "      <th>0</th>\n",
       "      <td>Adelanto</td>\n",
       "      <td>City</td>\n",
       "      <td>San Bernardino</td>\n",
       "      <td>31,765</td>\n",
       "      <td>56.01</td>\n",
       "      <td>145.1</td>\n",
       "      <td>December 22, 1970</td>\n",
       "    </tr>\n",
       "    <tr>\n",
       "      <th>1</th>\n",
       "      <td>Agoura Hills</td>\n",
       "      <td>City</td>\n",
       "      <td>Los Angeles</td>\n",
       "      <td>20,330</td>\n",
       "      <td>7.79</td>\n",
       "      <td>20.2</td>\n",
       "      <td>December 8, 1982</td>\n",
       "    </tr>\n",
       "    <tr>\n",
       "      <th>2</th>\n",
       "      <td>Alameda</td>\n",
       "      <td>City</td>\n",
       "      <td>Alameda</td>\n",
       "      <td>73,812</td>\n",
       "      <td>10.61</td>\n",
       "      <td>27.5</td>\n",
       "      <td>April 19, 1854</td>\n",
       "    </tr>\n",
       "    <tr>\n",
       "      <th>3</th>\n",
       "      <td>Albany</td>\n",
       "      <td>City</td>\n",
       "      <td>Alameda</td>\n",
       "      <td>18,539</td>\n",
       "      <td>1.79</td>\n",
       "      <td>4.6</td>\n",
       "      <td>September 22, 1908</td>\n",
       "    </tr>\n",
       "    <tr>\n",
       "      <th>4</th>\n",
       "      <td>Alhambra</td>\n",
       "      <td>City</td>\n",
       "      <td>Los Angeles</td>\n",
       "      <td>83,089</td>\n",
       "      <td>7.63</td>\n",
       "      <td>19.8</td>\n",
       "      <td>July 11, 1903</td>\n",
       "    </tr>\n",
       "  </tbody>\n",
       "</table>\n",
       "</div>"
      ],
      "text/plain": [
       "              0     1               2       3      4      5  \\\n",
       "0      Adelanto  City  San Bernardino  31,765  56.01  145.1   \n",
       "1  Agoura Hills  City     Los Angeles  20,330   7.79   20.2   \n",
       "2       Alameda  City         Alameda  73,812  10.61   27.5   \n",
       "3        Albany  City         Alameda  18,539   1.79    4.6   \n",
       "4      Alhambra  City     Los Angeles  83,089   7.63   19.8   \n",
       "\n",
       "                    6  \n",
       "0   December 22, 1970  \n",
       "1    December 8, 1982  \n",
       "2      April 19, 1854  \n",
       "3  September 22, 1908  \n",
       "4       July 11, 1903  "
      ]
     },
     "execution_count": 8,
     "metadata": {},
     "output_type": "execute_result"
    }
   ],
   "source": [
    "# move the title into the data\n",
    "California_update = np.vstack([California_raw.columns, California_raw])\n",
    "California_update = pd.DataFrame(California_update)\n",
    "California_update.head()"
   ]
  },
  {
   "cell_type": "code",
   "execution_count": 9,
   "metadata": {},
   "outputs": [],
   "source": [
    "California_update.sort_values([2, 0]).head()\n",
    "California_update.columns = ['Name', \n",
    "                             'Type', \n",
    "                             'County', \n",
    "                             'Population(2010)', \n",
    "                             'Land area (sq mi)', \n",
    "                             'Land area (km^2)', \n",
    "                             'Incorporated']"
   ]
  },
  {
   "cell_type": "code",
   "execution_count": 10,
   "metadata": {},
   "outputs": [
    {
     "data": {
      "text/html": [
       "<div>\n",
       "<style scoped>\n",
       "    .dataframe tbody tr th:only-of-type {\n",
       "        vertical-align: middle;\n",
       "    }\n",
       "\n",
       "    .dataframe tbody tr th {\n",
       "        vertical-align: top;\n",
       "    }\n",
       "\n",
       "    .dataframe thead th {\n",
       "        text-align: right;\n",
       "    }\n",
       "</style>\n",
       "<table border=\"1\" class=\"dataframe\">\n",
       "  <thead>\n",
       "    <tr style=\"text-align: right;\">\n",
       "      <th></th>\n",
       "      <th>Name</th>\n",
       "      <th>Type</th>\n",
       "      <th>County</th>\n",
       "      <th>Population(2010)</th>\n",
       "      <th>Land area (sq mi)</th>\n",
       "      <th>Land area (km^2)</th>\n",
       "      <th>Incorporated</th>\n",
       "    </tr>\n",
       "  </thead>\n",
       "  <tbody>\n",
       "    <tr>\n",
       "      <th>0</th>\n",
       "      <td>Adelanto</td>\n",
       "      <td>City</td>\n",
       "      <td>San Bernardino</td>\n",
       "      <td>31,765</td>\n",
       "      <td>56.01</td>\n",
       "      <td>145.1</td>\n",
       "      <td>December 22, 1970</td>\n",
       "    </tr>\n",
       "    <tr>\n",
       "      <th>1</th>\n",
       "      <td>Agoura Hills</td>\n",
       "      <td>City</td>\n",
       "      <td>Los Angeles</td>\n",
       "      <td>20,330</td>\n",
       "      <td>7.79</td>\n",
       "      <td>20.2</td>\n",
       "      <td>December 8, 1982</td>\n",
       "    </tr>\n",
       "    <tr>\n",
       "      <th>2</th>\n",
       "      <td>Alameda</td>\n",
       "      <td>City</td>\n",
       "      <td>Alameda</td>\n",
       "      <td>73,812</td>\n",
       "      <td>10.61</td>\n",
       "      <td>27.5</td>\n",
       "      <td>April 19, 1854</td>\n",
       "    </tr>\n",
       "    <tr>\n",
       "      <th>3</th>\n",
       "      <td>Albany</td>\n",
       "      <td>City</td>\n",
       "      <td>Alameda</td>\n",
       "      <td>18,539</td>\n",
       "      <td>1.79</td>\n",
       "      <td>4.6</td>\n",
       "      <td>September 22, 1908</td>\n",
       "    </tr>\n",
       "    <tr>\n",
       "      <th>4</th>\n",
       "      <td>Alhambra</td>\n",
       "      <td>City</td>\n",
       "      <td>Los Angeles</td>\n",
       "      <td>83,089</td>\n",
       "      <td>7.63</td>\n",
       "      <td>19.8</td>\n",
       "      <td>July 11, 1903</td>\n",
       "    </tr>\n",
       "  </tbody>\n",
       "</table>\n",
       "</div>"
      ],
      "text/plain": [
       "           Name  Type          County Population(2010) Land area (sq mi)  \\\n",
       "0      Adelanto  City  San Bernardino           31,765             56.01   \n",
       "1  Agoura Hills  City     Los Angeles           20,330              7.79   \n",
       "2       Alameda  City         Alameda           73,812             10.61   \n",
       "3        Albany  City         Alameda           18,539              1.79   \n",
       "4      Alhambra  City     Los Angeles           83,089              7.63   \n",
       "\n",
       "  Land area (km^2)        Incorporated  \n",
       "0            145.1   December 22, 1970  \n",
       "1             20.2    December 8, 1982  \n",
       "2             27.5      April 19, 1854  \n",
       "3              4.6  September 22, 1908  \n",
       "4             19.8       July 11, 1903  "
      ]
     },
     "execution_count": 10,
     "metadata": {},
     "output_type": "execute_result"
    }
   ],
   "source": [
    "California_update.head()"
   ]
  },
  {
   "cell_type": "markdown",
   "metadata": {},
   "source": [
    "Get the total number of counties and their cororesponding number of cities (or towns) within them."
   ]
  },
  {
   "cell_type": "code",
   "execution_count": 11,
   "metadata": {},
   "outputs": [
    {
     "data": {
      "text/plain": [
       "55"
      ]
     },
     "execution_count": 11,
     "metadata": {},
     "output_type": "execute_result"
    }
   ],
   "source": [
    "total_counties = California_update['County'].value_counts()\n",
    "len(total_counties)"
   ]
  },
  {
   "cell_type": "markdown",
   "metadata": {},
   "source": [
    "There are a total of 55 counties, and 481 cities in Los Angeles. Instead of focusing on all of the 481 cities from all the 55 counties, I will only focus on Log Angeles, which is famous for its diversity. I am interested to explore how many venues categories are there, what are these categories, and how they are distributed."
   ]
  },
  {
   "cell_type": "markdown",
   "metadata": {},
   "source": [
    "Get the cities is Los Angeles."
   ]
  },
  {
   "cell_type": "code",
   "execution_count": 190,
   "metadata": {},
   "outputs": [],
   "source": [
    "# Notes: create a dataframe for the top 5 counties, where the cities are not index\n",
    "\n",
    "#df1 = pd.DataFrame(data = top_5_counties.index, columns = ['County'])\n",
    "#df2 = pd.DataFrame(data = top_5_counties.values, columns = ['Number of Cities'])\n",
    "#top_5_counties = pd.concat([df1, df2], axis = 1)\n",
    "\n",
    "# Notes: get the cities (or towns) when county is in ['Los Angeles', 'Orange']\n",
    "# California_update[California_update['County'].isin(['Los Angeles', 'Orange'])]\n",
    "\n",
    "# California_df = California_update[California_update['County'].isin(top_5_counties.index)]\n",
    "# California_df.head()"
   ]
  },
  {
   "cell_type": "code",
   "execution_count": 12,
   "metadata": {},
   "outputs": [],
   "source": [
    "# get the cities (or towns) when county = 'Log Angeles'\n",
    "Los_Angeles_df = California_update[California_update['County'] == 'Los Angeles']"
   ]
  },
  {
   "cell_type": "code",
   "execution_count": 13,
   "metadata": {},
   "outputs": [
    {
     "data": {
      "text/html": [
       "<div>\n",
       "<style scoped>\n",
       "    .dataframe tbody tr th:only-of-type {\n",
       "        vertical-align: middle;\n",
       "    }\n",
       "\n",
       "    .dataframe tbody tr th {\n",
       "        vertical-align: top;\n",
       "    }\n",
       "\n",
       "    .dataframe thead th {\n",
       "        text-align: right;\n",
       "    }\n",
       "</style>\n",
       "<table border=\"1\" class=\"dataframe\">\n",
       "  <thead>\n",
       "    <tr style=\"text-align: right;\">\n",
       "      <th></th>\n",
       "      <th>Name</th>\n",
       "      <th>Type</th>\n",
       "      <th>County</th>\n",
       "      <th>Population(2010)</th>\n",
       "      <th>Land area (sq mi)</th>\n",
       "      <th>Land area (km^2)</th>\n",
       "      <th>Incorporated</th>\n",
       "    </tr>\n",
       "  </thead>\n",
       "  <tbody>\n",
       "    <tr>\n",
       "      <th>1</th>\n",
       "      <td>Agoura Hills</td>\n",
       "      <td>City</td>\n",
       "      <td>Los Angeles</td>\n",
       "      <td>20,330</td>\n",
       "      <td>7.79</td>\n",
       "      <td>20.2</td>\n",
       "      <td>December 8, 1982</td>\n",
       "    </tr>\n",
       "    <tr>\n",
       "      <th>4</th>\n",
       "      <td>Alhambra</td>\n",
       "      <td>City</td>\n",
       "      <td>Los Angeles</td>\n",
       "      <td>83,089</td>\n",
       "      <td>7.63</td>\n",
       "      <td>19.8</td>\n",
       "      <td>July 11, 1903</td>\n",
       "    </tr>\n",
       "    <tr>\n",
       "      <th>14</th>\n",
       "      <td>Arcadia</td>\n",
       "      <td>City</td>\n",
       "      <td>Los Angeles</td>\n",
       "      <td>56,364</td>\n",
       "      <td>10.93</td>\n",
       "      <td>28.3</td>\n",
       "      <td>August 5, 1903</td>\n",
       "    </tr>\n",
       "    <tr>\n",
       "      <th>17</th>\n",
       "      <td>Artesia</td>\n",
       "      <td>City</td>\n",
       "      <td>Los Angeles</td>\n",
       "      <td>16,522</td>\n",
       "      <td>1.62</td>\n",
       "      <td>4.2</td>\n",
       "      <td>May 29, 1959</td>\n",
       "    </tr>\n",
       "    <tr>\n",
       "      <th>23</th>\n",
       "      <td>Avalon</td>\n",
       "      <td>City</td>\n",
       "      <td>Los Angeles</td>\n",
       "      <td>3,728</td>\n",
       "      <td>2.94</td>\n",
       "      <td>7.6</td>\n",
       "      <td>June 26, 1913</td>\n",
       "    </tr>\n",
       "  </tbody>\n",
       "</table>\n",
       "</div>"
      ],
      "text/plain": [
       "            Name  Type       County Population(2010) Land area (sq mi)  \\\n",
       "1   Agoura Hills  City  Los Angeles           20,330              7.79   \n",
       "4       Alhambra  City  Los Angeles           83,089              7.63   \n",
       "14       Arcadia  City  Los Angeles           56,364             10.93   \n",
       "17       Artesia  City  Los Angeles           16,522              1.62   \n",
       "23        Avalon  City  Los Angeles            3,728              2.94   \n",
       "\n",
       "   Land area (km^2)      Incorporated  \n",
       "1              20.2  December 8, 1982  \n",
       "4              19.8     July 11, 1903  \n",
       "14             28.3    August 5, 1903  \n",
       "17              4.2      May 29, 1959  \n",
       "23              7.6     June 26, 1913  "
      ]
     },
     "execution_count": 13,
     "metadata": {},
     "output_type": "execute_result"
    }
   ],
   "source": [
    "Los_Angeles_df.head()"
   ]
  },
  {
   "cell_type": "code",
   "execution_count": 15,
   "metadata": {},
   "outputs": [
    {
     "data": {
      "text/plain": [
       "88"
      ]
     },
     "execution_count": 15,
     "metadata": {},
     "output_type": "execute_result"
    }
   ],
   "source": [
    "len(Los_Angeles_df)"
   ]
  },
  {
   "cell_type": "markdown",
   "metadata": {},
   "source": [
    "There are 88 cities in Log Angeles."
   ]
  },
  {
   "cell_type": "markdown",
   "metadata": {},
   "source": [
    "## 2. Analysis of the cities in Los Angeles"
   ]
  },
  {
   "cell_type": "markdown",
   "metadata": {},
   "source": [
    "#### Define Foursquare Credentials and Version"
   ]
  },
  {
   "cell_type": "code",
   "execution_count": 36,
   "metadata": {},
   "outputs": [
    {
     "name": "stdout",
     "output_type": "stream",
     "text": [
      "My credentails:\n",
      "CLIENT_ID: YTSPDYDJGJEEEWEPD3TYZILXIVRPQVRUM5JEBV3ZRVP4PHMP\n",
      "CLIENT_SECRET:LFNOHUGVR4K2C23MEKLZ1RLZUOLU1EHL434LKTKPCPIVVRXZ\n"
     ]
    }
   ],
   "source": [
    "CLIENT_ID = 'YTSPDYDJGJEEEWEPD3TYZILXIVRPQVRUM5JEBV3ZRVP4PHMP' # my Foursquare ID\n",
    "CLIENT_SECRET = 'LFNOHUGVR4K2C23MEKLZ1RLZUOLU1EHL434LKTKPCPIVVRXZ' # my Foursquare Secret\n",
    "\n",
    "VERSION = '20190105' # Foursquare API version\n",
    "\n",
    "print('My credentails:')\n",
    "print('CLIENT_ID: ' + CLIENT_ID)\n",
    "print('CLIENT_SECRET:' + CLIENT_SECRET)"
   ]
  },
  {
   "cell_type": "markdown",
   "metadata": {},
   "source": [
    "#### Use geopy library to get the latitude and longitude values for all the cities (towns) in California."
   ]
  },
  {
   "cell_type": "code",
   "execution_count": 37,
   "metadata": {},
   "outputs": [],
   "source": [
    "Latitude = []\n",
    "Longitude = []\n",
    "for address in Los_Angeles_df['Name']:\n",
    "    geolocator = Nominatim(user_agent = 'specify_your_app_name_here')\n",
    "    try:   \n",
    "        location = geolocator.geocode(address)\n",
    "        latitude = location.latitude\n",
    "        longitude = location.longitude\n",
    "    except:\n",
    "        location = np.nan  # assign lat, lng with NaN if the data are not avaialbel\n",
    "        latitude = np.nan\n",
    "        longitude = np.nan\n",
    "    Latitude.append(latitude)\n",
    "    Longitude.append(longitude)\n",
    "#print(Latitude)\n",
    "#print(Longitude)"
   ]
  },
  {
   "cell_type": "code",
   "execution_count": 38,
   "metadata": {},
   "outputs": [],
   "source": [
    "Los_Angeles_df.loc[:, 'Latitude'] = Latitude\n",
    "Los_Angeles_df.loc[:, 'Longitude'] = Longitude"
   ]
  },
  {
   "cell_type": "code",
   "execution_count": 283,
   "metadata": {},
   "outputs": [],
   "source": [
    "# latitude = [x for x in Latitude if x != np.NaN]\n",
    "# latitude = Latitude_copy.remove('np.nan')"
   ]
  },
  {
   "cell_type": "code",
   "execution_count": 39,
   "metadata": {},
   "outputs": [
    {
     "data": {
      "text/html": [
       "<div>\n",
       "<style scoped>\n",
       "    .dataframe tbody tr th:only-of-type {\n",
       "        vertical-align: middle;\n",
       "    }\n",
       "\n",
       "    .dataframe tbody tr th {\n",
       "        vertical-align: top;\n",
       "    }\n",
       "\n",
       "    .dataframe thead th {\n",
       "        text-align: right;\n",
       "    }\n",
       "</style>\n",
       "<table border=\"1\" class=\"dataframe\">\n",
       "  <thead>\n",
       "    <tr style=\"text-align: right;\">\n",
       "      <th></th>\n",
       "      <th>Name</th>\n",
       "      <th>Type</th>\n",
       "      <th>County</th>\n",
       "      <th>Population(2010)</th>\n",
       "      <th>Land area (sq mi)</th>\n",
       "      <th>Land area (km^2)</th>\n",
       "      <th>Incorporated</th>\n",
       "      <th>Latitude</th>\n",
       "      <th>Longitude</th>\n",
       "    </tr>\n",
       "  </thead>\n",
       "  <tbody>\n",
       "    <tr>\n",
       "      <th>0</th>\n",
       "      <td>Agoura Hills</td>\n",
       "      <td>City</td>\n",
       "      <td>Los Angeles</td>\n",
       "      <td>20,330</td>\n",
       "      <td>7.79</td>\n",
       "      <td>20.2</td>\n",
       "      <td>December 8, 1982</td>\n",
       "      <td>34.136395</td>\n",
       "      <td>-118.774535</td>\n",
       "    </tr>\n",
       "    <tr>\n",
       "      <th>1</th>\n",
       "      <td>Alhambra</td>\n",
       "      <td>City</td>\n",
       "      <td>Los Angeles</td>\n",
       "      <td>83,089</td>\n",
       "      <td>7.63</td>\n",
       "      <td>19.8</td>\n",
       "      <td>July 11, 1903</td>\n",
       "      <td>37.176036</td>\n",
       "      <td>-3.587974</td>\n",
       "    </tr>\n",
       "    <tr>\n",
       "      <th>2</th>\n",
       "      <td>Arcadia</td>\n",
       "      <td>City</td>\n",
       "      <td>Los Angeles</td>\n",
       "      <td>56,364</td>\n",
       "      <td>10.93</td>\n",
       "      <td>28.3</td>\n",
       "      <td>August 5, 1903</td>\n",
       "      <td>34.136207</td>\n",
       "      <td>-118.040150</td>\n",
       "    </tr>\n",
       "    <tr>\n",
       "      <th>3</th>\n",
       "      <td>Artesia</td>\n",
       "      <td>City</td>\n",
       "      <td>Los Angeles</td>\n",
       "      <td>16,522</td>\n",
       "      <td>1.62</td>\n",
       "      <td>4.2</td>\n",
       "      <td>May 29, 1959</td>\n",
       "      <td>33.869020</td>\n",
       "      <td>-118.079620</td>\n",
       "    </tr>\n",
       "    <tr>\n",
       "      <th>4</th>\n",
       "      <td>Avalon</td>\n",
       "      <td>City</td>\n",
       "      <td>Los Angeles</td>\n",
       "      <td>3,728</td>\n",
       "      <td>2.94</td>\n",
       "      <td>7.6</td>\n",
       "      <td>June 26, 1913</td>\n",
       "      <td>47.488537</td>\n",
       "      <td>3.907066</td>\n",
       "    </tr>\n",
       "  </tbody>\n",
       "</table>\n",
       "</div>"
      ],
      "text/plain": [
       "           Name  Type       County Population(2010) Land area (sq mi)  \\\n",
       "0  Agoura Hills  City  Los Angeles           20,330              7.79   \n",
       "1      Alhambra  City  Los Angeles           83,089              7.63   \n",
       "2       Arcadia  City  Los Angeles           56,364             10.93   \n",
       "3       Artesia  City  Los Angeles           16,522              1.62   \n",
       "4        Avalon  City  Los Angeles            3,728              2.94   \n",
       "\n",
       "  Land area (km^2)      Incorporated   Latitude   Longitude  \n",
       "0             20.2  December 8, 1982  34.136395 -118.774535  \n",
       "1             19.8     July 11, 1903  37.176036   -3.587974  \n",
       "2             28.3    August 5, 1903  34.136207 -118.040150  \n",
       "3              4.2      May 29, 1959  33.869020 -118.079620  \n",
       "4              7.6     June 26, 1913  47.488537    3.907066  "
      ]
     },
     "execution_count": 39,
     "metadata": {},
     "output_type": "execute_result"
    }
   ],
   "source": [
    "Los_Angeles_df.head()"
   ]
  },
  {
   "cell_type": "markdown",
   "metadata": {},
   "source": [
    "Check missing values"
   ]
  },
  {
   "cell_type": "code",
   "execution_count": 40,
   "metadata": {},
   "outputs": [
    {
     "data": {
      "text/plain": [
       "Name                 0\n",
       "Type                 0\n",
       "County               0\n",
       "Population(2010)     0\n",
       "Land area (sq mi)    0\n",
       "Land area (km^2)     0\n",
       "Incorporated         0\n",
       "Latitude             0\n",
       "Longitude            0\n",
       "dtype: int64"
      ]
     },
     "execution_count": 40,
     "metadata": {},
     "output_type": "execute_result"
    }
   ],
   "source": [
    "Los_Angeles_df.isnull().sum()"
   ]
  },
  {
   "cell_type": "markdown",
   "metadata": {},
   "source": [
    "Remove the rows with missing values (cities where the longitide and latitudes are not availabel)"
   ]
  },
  {
   "cell_type": "code",
   "execution_count": 41,
   "metadata": {},
   "outputs": [
    {
     "data": {
      "text/html": [
       "<div>\n",
       "<style scoped>\n",
       "    .dataframe tbody tr th:only-of-type {\n",
       "        vertical-align: middle;\n",
       "    }\n",
       "\n",
       "    .dataframe tbody tr th {\n",
       "        vertical-align: top;\n",
       "    }\n",
       "\n",
       "    .dataframe thead th {\n",
       "        text-align: right;\n",
       "    }\n",
       "</style>\n",
       "<table border=\"1\" class=\"dataframe\">\n",
       "  <thead>\n",
       "    <tr style=\"text-align: right;\">\n",
       "      <th></th>\n",
       "      <th>Name</th>\n",
       "      <th>Type</th>\n",
       "      <th>County</th>\n",
       "      <th>Population(2010)</th>\n",
       "      <th>Land area (sq mi)</th>\n",
       "      <th>Land area (km^2)</th>\n",
       "      <th>Incorporated</th>\n",
       "      <th>Latitude</th>\n",
       "      <th>Longitude</th>\n",
       "    </tr>\n",
       "  </thead>\n",
       "  <tbody>\n",
       "    <tr>\n",
       "      <th>0</th>\n",
       "      <td>Agoura Hills</td>\n",
       "      <td>City</td>\n",
       "      <td>Los Angeles</td>\n",
       "      <td>20,330</td>\n",
       "      <td>7.79</td>\n",
       "      <td>20.2</td>\n",
       "      <td>December 8, 1982</td>\n",
       "      <td>34.136395</td>\n",
       "      <td>-118.774535</td>\n",
       "    </tr>\n",
       "    <tr>\n",
       "      <th>1</th>\n",
       "      <td>Alhambra</td>\n",
       "      <td>City</td>\n",
       "      <td>Los Angeles</td>\n",
       "      <td>83,089</td>\n",
       "      <td>7.63</td>\n",
       "      <td>19.8</td>\n",
       "      <td>July 11, 1903</td>\n",
       "      <td>37.176036</td>\n",
       "      <td>-3.587974</td>\n",
       "    </tr>\n",
       "    <tr>\n",
       "      <th>2</th>\n",
       "      <td>Arcadia</td>\n",
       "      <td>City</td>\n",
       "      <td>Los Angeles</td>\n",
       "      <td>56,364</td>\n",
       "      <td>10.93</td>\n",
       "      <td>28.3</td>\n",
       "      <td>August 5, 1903</td>\n",
       "      <td>34.136207</td>\n",
       "      <td>-118.040150</td>\n",
       "    </tr>\n",
       "    <tr>\n",
       "      <th>3</th>\n",
       "      <td>Artesia</td>\n",
       "      <td>City</td>\n",
       "      <td>Los Angeles</td>\n",
       "      <td>16,522</td>\n",
       "      <td>1.62</td>\n",
       "      <td>4.2</td>\n",
       "      <td>May 29, 1959</td>\n",
       "      <td>33.869020</td>\n",
       "      <td>-118.079620</td>\n",
       "    </tr>\n",
       "    <tr>\n",
       "      <th>4</th>\n",
       "      <td>Avalon</td>\n",
       "      <td>City</td>\n",
       "      <td>Los Angeles</td>\n",
       "      <td>3,728</td>\n",
       "      <td>2.94</td>\n",
       "      <td>7.6</td>\n",
       "      <td>June 26, 1913</td>\n",
       "      <td>47.488537</td>\n",
       "      <td>3.907066</td>\n",
       "    </tr>\n",
       "  </tbody>\n",
       "</table>\n",
       "</div>"
      ],
      "text/plain": [
       "           Name  Type       County Population(2010) Land area (sq mi)  \\\n",
       "0  Agoura Hills  City  Los Angeles           20,330              7.79   \n",
       "1      Alhambra  City  Los Angeles           83,089              7.63   \n",
       "2       Arcadia  City  Los Angeles           56,364             10.93   \n",
       "3       Artesia  City  Los Angeles           16,522              1.62   \n",
       "4        Avalon  City  Los Angeles            3,728              2.94   \n",
       "\n",
       "  Land area (km^2)      Incorporated   Latitude   Longitude  \n",
       "0             20.2  December 8, 1982  34.136395 -118.774535  \n",
       "1             19.8     July 11, 1903  37.176036   -3.587974  \n",
       "2             28.3    August 5, 1903  34.136207 -118.040150  \n",
       "3              4.2      May 29, 1959  33.869020 -118.079620  \n",
       "4              7.6     June 26, 1913  47.488537    3.907066  "
      ]
     },
     "execution_count": 41,
     "metadata": {},
     "output_type": "execute_result"
    }
   ],
   "source": [
    "Los_Angeles_df = Los_Angeles_df.dropna().reset_index(drop = True)  # dropna() drop all rows that have any NaN values\n",
    "Los_Angeles_df.head()"
   ]
  },
  {
   "cell_type": "code",
   "execution_count": 42,
   "metadata": {},
   "outputs": [
    {
     "data": {
      "text/plain": [
       "86"
      ]
     },
     "execution_count": 42,
     "metadata": {},
     "output_type": "execute_result"
    }
   ],
   "source": [
    "len(Los_Angeles_df)"
   ]
  },
  {
   "cell_type": "code",
   "execution_count": 43,
   "metadata": {},
   "outputs": [
    {
     "data": {
      "text/plain": [
       "Name                 0\n",
       "Type                 0\n",
       "County               0\n",
       "Population(2010)     0\n",
       "Land area (sq mi)    0\n",
       "Land area (km^2)     0\n",
       "Incorporated         0\n",
       "Latitude             0\n",
       "Longitude            0\n",
       "dtype: int64"
      ]
     },
     "execution_count": 43,
     "metadata": {},
     "output_type": "execute_result"
    }
   ],
   "source": [
    "Los_Angeles_df.isnull().sum()"
   ]
  },
  {
   "cell_type": "markdown",
   "metadata": {},
   "source": [
    "### Part 1: Create a map to visualize the cities in Los Angeles"
   ]
  },
  {
   "cell_type": "code",
   "execution_count": 44,
   "metadata": {},
   "outputs": [
    {
     "data": {
      "text/html": [
       "<div style=\"width:100%;\"><div style=\"position:relative;width:100%;height:0;padding-bottom:60%;\"><iframe src=\"data:text/html;charset=utf-8;base64,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\" style=\"position:absolute;width:100%;height:100%;left:0;top:0;border:none !important;\" allowfullscreen webkitallowfullscreen mozallowfullscreen></iframe></div></div>"
      ],
      "text/plain": [
       "<folium.folium.Map at 0x1a0c3a6c18>"
      ]
     },
     "execution_count": 44,
     "metadata": {},
     "output_type": "execute_result"
    }
   ],
   "source": [
    "# create map of all cities in Los Angeles\n",
    "map_Los_Angeles = folium.Map(location = [latitude, longitude])\n",
    "\n",
    "# add markers to map\n",
    "for lat, lng, County, City in zip(Los_Angeles_df['Latitude'], \n",
    "                                  Los_Angeles_df['Longitude'], \n",
    "                                  Los_Angeles_df['County'], \n",
    "                                  Los_Angeles_df['Name']):\n",
    "    label = '{}, {}'.format(City, County)\n",
    "    label = folium.Popup(label, parse_html = True)\n",
    "    folium.CircleMarker(\n",
    "    [lat, lng], \n",
    "    radius = 5, \n",
    "    popup = label,\n",
    "    fill = True, \n",
    "    fill_color = '#3186cc',\n",
    "    fill_opacity = 0.7, \n",
    "    parse_html = False).add_to(map_Los_Angeles)\n",
    "    \n",
    "map_Los_Angeles"
   ]
  },
  {
   "cell_type": "markdown",
   "metadata": {},
   "source": [
    "**Folium** is a great visualization library. It's available to zoom into the above map, and click on each circle mark to reveal the name of the neighborhood and its FM.\n",
    "\n",
    "However, this **folium** map containing **all cities in Los Angeles**, may not available on **GitHub**."
   ]
  },
  {
   "cell_type": "markdown",
   "metadata": {},
   "source": [
    "### Part 2: Explore the venues from the first city in Los Angeles step by step"
   ]
  },
  {
   "cell_type": "markdown",
   "metadata": {},
   "source": [
    "Get the first neighborhood's name"
   ]
  },
  {
   "cell_type": "code",
   "execution_count": 45,
   "metadata": {},
   "outputs": [
    {
     "data": {
      "text/plain": [
       "'Agoura Hills'"
      ]
     },
     "execution_count": 45,
     "metadata": {},
     "output_type": "execute_result"
    }
   ],
   "source": [
    "Los_Angeles_df.loc[0, 'Name'] # get the information of the first row, column = 'Name'"
   ]
  },
  {
   "cell_type": "markdown",
   "metadata": {},
   "source": [
    "Get the neighborhood's latitude and longitude"
   ]
  },
  {
   "cell_type": "code",
   "execution_count": 46,
   "metadata": {},
   "outputs": [
    {
     "name": "stdout",
     "output_type": "stream",
     "text": [
      "The latitude and longitude of Agoura Hills are 34.1363945, -118.7745348.\n"
     ]
    }
   ],
   "source": [
    "neighborhood_latitude = Los_Angeles_df.loc[0, 'Latitude'] # neighborhood latitude value\n",
    "neighborhood_longitude = Los_Angeles_df.loc[0, 'Longitude'] # neighborhood longitude value\n",
    "\n",
    "neighborhood_name = Los_Angeles_df.loc[0, 'Name'] # neighborhood name\n",
    "\n",
    "print('The latitude and longitude of {} are {}, {}.'.format(neighborhood_name, \n",
    "                                                               neighborhood_latitude, \n",
    "                                                               neighborhood_longitude))"
   ]
  },
  {
   "cell_type": "markdown",
   "metadata": {},
   "source": [
    "#### Extract the top 500 venues that are in this neighborhood within a radius of 1000 meters."
   ]
  },
  {
   "cell_type": "markdown",
   "metadata": {},
   "source": [
    "##### **Step 1**: Get the url for the Foursqurae API"
   ]
  },
  {
   "cell_type": "code",
   "execution_count": 51,
   "metadata": {},
   "outputs": [
    {
     "data": {
      "text/plain": [
       "'https://api.foursquare.com/v2/venues/explore?&client_id=YTSPDYDJGJEEEWEPD3TYZILXIVRPQVRUM5JEBV3ZRVP4PHMP&client_secret=LFNOHUGVR4K2C23MEKLZ1RLZUOLU1EHL434LKTKPCPIVVRXZ&v=20190105&ll=34.1363945,-118.7745348&radius=1000&limit=500'"
      ]
     },
     "execution_count": 51,
     "metadata": {},
     "output_type": "execute_result"
    }
   ],
   "source": [
    "LIMIT = 500 # limit of number of venues returned by Foursquare API\n",
    "radius = 1000 # define radius in meters\n",
    "url = 'https://api.foursquare.com/v2/venues/explore?&client_id={}&client_secret={}&v={}&ll={},{}&radius={}&limit={}'.format(\n",
    "    CLIENT_ID, \n",
    "    CLIENT_SECRET, \n",
    "    VERSION, \n",
    "    neighborhood_latitude, \n",
    "    neighborhood_longitude, \n",
    "    radius, \n",
    "    LIMIT)\n",
    "url"
   ]
  },
  {
   "cell_type": "markdown",
   "metadata": {},
   "source": [
    "##### **Step 2**: Send the GET request and extract the information step by step"
   ]
  },
  {
   "cell_type": "markdown",
   "metadata": {},
   "source": [
    "**a.** get the overal results"
   ]
  },
  {
   "cell_type": "code",
   "execution_count": 52,
   "metadata": {},
   "outputs": [
    {
     "data": {
      "text/plain": [
       "dict_keys(['meta', 'response'])"
      ]
     },
     "execution_count": 52,
     "metadata": {},
     "output_type": "execute_result"
    }
   ],
   "source": [
    "result = requests.get(url).json()\n",
    "result.keys()"
   ]
  },
  {
   "cell_type": "code",
   "execution_count": 53,
   "metadata": {},
   "outputs": [
    {
     "data": {
      "text/plain": [
       "{'meta': {'code': 200, 'requestId': '5c3279d79fb6b7151562ee0f'},\n",
       " 'response': {'headerLocation': 'Agoura Hills',\n",
       "  'headerFullLocation': 'Agoura Hills',\n",
       "  'headerLocationGranularity': 'city',\n",
       "  'totalResults': 7,\n",
       "  'suggestedBounds': {'ne': {'lat': 34.14539450900001,\n",
       "    'lng': -118.76368163940467},\n",
       "   'sw': {'lat': 34.12739449099999, 'lng': -118.78538796059533}},\n",
       "  'groups': [{'type': 'Recommended Places',\n",
       "    'name': 'recommended',\n",
       "    'items': [{'reasons': {'count': 0,\n",
       "       'items': [{'summary': 'This spot is popular',\n",
       "         'type': 'general',\n",
       "         'reasonName': 'globalInteractionReason'}]},\n",
       "      'venue': {'id': '4b1ae736f964a52055f423e3',\n",
       "       'name': 'Sheraton Agoura Hills Hotel',\n",
       "       'location': {'address': '30100 Agoura Rd',\n",
       "        'crossStreet': 'Reyes Adobe Rd',\n",
       "        'lat': 34.1443363,\n",
       "        'lng': -118.7794874,\n",
       "        'labeledLatLngs': [{'label': 'display',\n",
       "          'lat': 34.1443363,\n",
       "          'lng': -118.7794874}],\n",
       "        'distance': 994,\n",
       "        'postalCode': '91301',\n",
       "        'cc': 'US',\n",
       "        'city': 'Agoura Hills',\n",
       "        'state': 'CA',\n",
       "        'country': 'United States',\n",
       "        'formattedAddress': ['30100 Agoura Rd (Reyes Adobe Rd)',\n",
       "         'Agoura Hills, CA 91301',\n",
       "         'United States']},\n",
       "       'categories': [{'id': '4bf58dd8d48988d1fa931735',\n",
       "         'name': 'Hotel',\n",
       "         'pluralName': 'Hotels',\n",
       "         'shortName': 'Hotel',\n",
       "         'icon': {'prefix': 'https://ss3.4sqi.net/img/categories_v2/travel/hotel_',\n",
       "          'suffix': '.png'},\n",
       "         'primary': True}],\n",
       "       'photos': {'count': 0, 'groups': []}},\n",
       "      'referralId': 'e-0-4b1ae736f964a52055f423e3-0'},\n",
       "     {'reasons': {'count': 0,\n",
       "       'items': [{'summary': 'This spot is popular',\n",
       "         'type': 'general',\n",
       "         'reasonName': 'globalInteractionReason'}]},\n",
       "      'venue': {'id': '4bd4c4c629eb9c74325792e1',\n",
       "       'name': 'Camp Kinneret',\n",
       "       'location': {'lat': 34.14365209612649,\n",
       "        'lng': -118.77099193013021,\n",
       "        'labeledLatLngs': [{'label': 'display',\n",
       "          'lat': 34.14365209612649,\n",
       "          'lng': -118.77099193013021}],\n",
       "        'distance': 871,\n",
       "        'postalCode': '91301',\n",
       "        'cc': 'US',\n",
       "        'city': 'Agoura Hills',\n",
       "        'state': 'CA',\n",
       "        'country': 'United States',\n",
       "        'formattedAddress': ['Agoura Hills, CA 91301', 'United States']},\n",
       "       'categories': [{'id': '52e81612bcbc57f1066b7a10',\n",
       "         'name': 'Summer Camp',\n",
       "         'pluralName': 'Summer Camps',\n",
       "         'shortName': 'Summer Camp',\n",
       "         'icon': {'prefix': 'https://ss3.4sqi.net/img/categories_v2/parks_outdoors/campground_',\n",
       "          'suffix': '.png'},\n",
       "         'primary': True}],\n",
       "       'photos': {'count': 0, 'groups': []}},\n",
       "      'referralId': 'e-0-4bd4c4c629eb9c74325792e1-1'},\n",
       "     {'reasons': {'count': 0,\n",
       "       'items': [{'summary': 'This spot is popular',\n",
       "         'type': 'general',\n",
       "         'reasonName': 'globalInteractionReason'}]},\n",
       "      'venue': {'id': '51847d44498ee416278bf743',\n",
       "       'name': 'Liquid Lounge At The Sheraton',\n",
       "       'location': {'lat': 34.144098933834975,\n",
       "        'lng': -118.77925139531557,\n",
       "        'labeledLatLngs': [{'label': 'display',\n",
       "          'lat': 34.144098933834975,\n",
       "          'lng': -118.77925139531557}],\n",
       "        'distance': 961,\n",
       "        'cc': 'US',\n",
       "        'city': 'Agoura Hills',\n",
       "        'state': 'CA',\n",
       "        'country': 'United States',\n",
       "        'formattedAddress': ['Agoura Hills, CA', 'United States']},\n",
       "       'categories': [{'id': '4bf58dd8d48988d1d5941735',\n",
       "         'name': 'Hotel Bar',\n",
       "         'pluralName': 'Hotel Bars',\n",
       "         'shortName': 'Hotel Bar',\n",
       "         'icon': {'prefix': 'https://ss3.4sqi.net/img/categories_v2/travel/hotel_bar_',\n",
       "          'suffix': '.png'},\n",
       "         'primary': True}],\n",
       "       'photos': {'count': 0, 'groups': []}},\n",
       "      'referralId': 'e-0-51847d44498ee416278bf743-2'},\n",
       "     {'reasons': {'count': 0,\n",
       "       'items': [{'summary': 'This spot is popular',\n",
       "         'type': 'general',\n",
       "         'reasonName': 'globalInteractionReason'}]},\n",
       "      'venue': {'id': '4dd979f82271c5d36d6d727b',\n",
       "       'name': 'Picnic De Chefs',\n",
       "       'location': {'address': 'vasa park',\n",
       "        'lat': 34.127699,\n",
       "        'lng': -118.776552,\n",
       "        'labeledLatLngs': [{'label': 'display',\n",
       "          'lat': 34.127699,\n",
       "          'lng': -118.776552}],\n",
       "        'distance': 985,\n",
       "        'postalCode': '91301',\n",
       "        'cc': 'US',\n",
       "        'city': 'Agoura Hills',\n",
       "        'state': 'CA',\n",
       "        'country': 'United States',\n",
       "        'formattedAddress': ['vasa park',\n",
       "         'Agoura Hills, CA 91301',\n",
       "         'United States']},\n",
       "       'categories': [{'id': '4bf58dd8d48988d163941735',\n",
       "         'name': 'Park',\n",
       "         'pluralName': 'Parks',\n",
       "         'shortName': 'Park',\n",
       "         'icon': {'prefix': 'https://ss3.4sqi.net/img/categories_v2/parks_outdoors/park_',\n",
       "          'suffix': '.png'},\n",
       "         'primary': True}],\n",
       "       'photos': {'count': 0, 'groups': []}},\n",
       "      'referralId': 'e-0-4dd979f82271c5d36d6d727b-3'},\n",
       "     {'reasons': {'count': 0,\n",
       "       'items': [{'summary': 'This spot is popular',\n",
       "         'type': 'general',\n",
       "         'reasonName': 'globalInteractionReason'}]},\n",
       "      'venue': {'id': '5099cb60e4b00d5fa66aa021',\n",
       "       'name': 'The Sheraton Hotel Bar',\n",
       "       'location': {'lat': 34.144466400146484,\n",
       "        'lng': -118.7790756225586,\n",
       "        'labeledLatLngs': [{'label': 'display',\n",
       "          'lat': 34.144466400146484,\n",
       "          'lng': -118.7790756225586}],\n",
       "        'distance': 991,\n",
       "        'postalCode': '91301',\n",
       "        'cc': 'US',\n",
       "        'city': 'Agoura Hills',\n",
       "        'state': 'CA',\n",
       "        'country': 'United States',\n",
       "        'formattedAddress': ['Agoura Hills, CA 91301', 'United States']},\n",
       "       'categories': [{'id': '4bf58dd8d48988d1d5941735',\n",
       "         'name': 'Hotel Bar',\n",
       "         'pluralName': 'Hotel Bars',\n",
       "         'shortName': 'Hotel Bar',\n",
       "         'icon': {'prefix': 'https://ss3.4sqi.net/img/categories_v2/travel/hotel_bar_',\n",
       "          'suffix': '.png'},\n",
       "         'primary': True}],\n",
       "       'photos': {'count': 0, 'groups': []}},\n",
       "      'referralId': 'e-0-5099cb60e4b00d5fa66aa021-4'},\n",
       "     {'reasons': {'count': 0,\n",
       "       'items': [{'summary': 'This spot is popular',\n",
       "         'type': 'general',\n",
       "         'reasonName': 'globalInteractionReason'}]},\n",
       "      'venue': {'id': '51f7c025498ea51ab6207c3f',\n",
       "       'name': 'Sheraton Gym',\n",
       "       'location': {'lat': 34.144530848225855,\n",
       "        'lng': -118.77897248172559,\n",
       "        'labeledLatLngs': [{'label': 'display',\n",
       "          'lat': 34.144530848225855,\n",
       "          'lng': -118.77897248172559}],\n",
       "        'distance': 993,\n",
       "        'cc': 'US',\n",
       "        'city': 'Agoura Hills',\n",
       "        'state': 'CA',\n",
       "        'country': 'United States',\n",
       "        'formattedAddress': ['Agoura Hills, CA', 'United States']},\n",
       "       'categories': [{'id': '4bf58dd8d48988d176941735',\n",
       "         'name': 'Gym',\n",
       "         'pluralName': 'Gyms',\n",
       "         'shortName': 'Gym',\n",
       "         'icon': {'prefix': 'https://ss3.4sqi.net/img/categories_v2/building/gym_',\n",
       "          'suffix': '.png'},\n",
       "         'primary': True}],\n",
       "       'photos': {'count': 0, 'groups': []}},\n",
       "      'referralId': 'e-0-51f7c025498ea51ab6207c3f-5'},\n",
       "     {'reasons': {'count': 0,\n",
       "       'items': [{'summary': 'This spot is popular',\n",
       "         'type': 'general',\n",
       "         'reasonName': 'globalInteractionReason'}]},\n",
       "      'venue': {'id': '4d40dfaa00e8a35d8b4bfffa',\n",
       "       'name': 'H2O Sea Grill',\n",
       "       'location': {'address': '30100 Agoura Rd',\n",
       "        'crossStreet': 'Reyes Adobe',\n",
       "        'lat': 34.1444835950139,\n",
       "        'lng': -118.77925139531557,\n",
       "        'labeledLatLngs': [{'label': 'display',\n",
       "          'lat': 34.1444835950139,\n",
       "          'lng': -118.77925139531557}],\n",
       "        'distance': 999,\n",
       "        'postalCode': '91301',\n",
       "        'cc': 'US',\n",
       "        'city': 'Agoura Hills',\n",
       "        'state': 'CA',\n",
       "        'country': 'United States',\n",
       "        'formattedAddress': ['30100 Agoura Rd (Reyes Adobe)',\n",
       "         'Agoura Hills, CA 91301',\n",
       "         'United States']},\n",
       "       'categories': [{'id': '4bf58dd8d48988d14e941735',\n",
       "         'name': 'American Restaurant',\n",
       "         'pluralName': 'American Restaurants',\n",
       "         'shortName': 'American',\n",
       "         'icon': {'prefix': 'https://ss3.4sqi.net/img/categories_v2/food/default_',\n",
       "          'suffix': '.png'},\n",
       "         'primary': True}],\n",
       "       'photos': {'count': 0, 'groups': []}},\n",
       "      'referralId': 'e-0-4d40dfaa00e8a35d8b4bfffa-6'}]}]}}"
      ]
     },
     "execution_count": 53,
     "metadata": {},
     "output_type": "execute_result"
    }
   ],
   "source": [
    "result"
   ]
  },
  {
   "cell_type": "markdown",
   "metadata": {},
   "source": [
    "**b.** get the venues from the **key: response**"
   ]
  },
  {
   "cell_type": "code",
   "execution_count": 54,
   "metadata": {},
   "outputs": [
    {
     "data": {
      "text/plain": [
       "[{'reasons': {'count': 0,\n",
       "   'items': [{'summary': 'This spot is popular',\n",
       "     'type': 'general',\n",
       "     'reasonName': 'globalInteractionReason'}]},\n",
       "  'venue': {'id': '4b1ae736f964a52055f423e3',\n",
       "   'name': 'Sheraton Agoura Hills Hotel',\n",
       "   'location': {'address': '30100 Agoura Rd',\n",
       "    'crossStreet': 'Reyes Adobe Rd',\n",
       "    'lat': 34.1443363,\n",
       "    'lng': -118.7794874,\n",
       "    'labeledLatLngs': [{'label': 'display',\n",
       "      'lat': 34.1443363,\n",
       "      'lng': -118.7794874}],\n",
       "    'distance': 994,\n",
       "    'postalCode': '91301',\n",
       "    'cc': 'US',\n",
       "    'city': 'Agoura Hills',\n",
       "    'state': 'CA',\n",
       "    'country': 'United States',\n",
       "    'formattedAddress': ['30100 Agoura Rd (Reyes Adobe Rd)',\n",
       "     'Agoura Hills, CA 91301',\n",
       "     'United States']},\n",
       "   'categories': [{'id': '4bf58dd8d48988d1fa931735',\n",
       "     'name': 'Hotel',\n",
       "     'pluralName': 'Hotels',\n",
       "     'shortName': 'Hotel',\n",
       "     'icon': {'prefix': 'https://ss3.4sqi.net/img/categories_v2/travel/hotel_',\n",
       "      'suffix': '.png'},\n",
       "     'primary': True}],\n",
       "   'photos': {'count': 0, 'groups': []}},\n",
       "  'referralId': 'e-0-4b1ae736f964a52055f423e3-0'}]"
      ]
     },
     "execution_count": 54,
     "metadata": {},
     "output_type": "execute_result"
    }
   ],
   "source": [
    "# display the informaiton for the first two venues\n",
    "venues = result['response']['groups'][0]['items']\n",
    "venues[0:1]"
   ]
  },
  {
   "cell_type": "markdown",
   "metadata": {},
   "source": [
    "**c.** flatten JSON and structure it into a **pandas** dataframe."
   ]
  },
  {
   "cell_type": "code",
   "execution_count": 55,
   "metadata": {},
   "outputs": [
    {
     "data": {
      "text/html": [
       "<div>\n",
       "<style scoped>\n",
       "    .dataframe tbody tr th:only-of-type {\n",
       "        vertical-align: middle;\n",
       "    }\n",
       "\n",
       "    .dataframe tbody tr th {\n",
       "        vertical-align: top;\n",
       "    }\n",
       "\n",
       "    .dataframe thead th {\n",
       "        text-align: right;\n",
       "    }\n",
       "</style>\n",
       "<table border=\"1\" class=\"dataframe\">\n",
       "  <thead>\n",
       "    <tr style=\"text-align: right;\">\n",
       "      <th></th>\n",
       "      <th>reasons.count</th>\n",
       "      <th>reasons.items</th>\n",
       "      <th>referralId</th>\n",
       "      <th>venue.categories</th>\n",
       "      <th>venue.id</th>\n",
       "      <th>venue.location.address</th>\n",
       "      <th>venue.location.cc</th>\n",
       "      <th>venue.location.city</th>\n",
       "      <th>venue.location.country</th>\n",
       "      <th>venue.location.crossStreet</th>\n",
       "      <th>venue.location.distance</th>\n",
       "      <th>venue.location.formattedAddress</th>\n",
       "      <th>venue.location.labeledLatLngs</th>\n",
       "      <th>venue.location.lat</th>\n",
       "      <th>venue.location.lng</th>\n",
       "      <th>venue.location.postalCode</th>\n",
       "      <th>venue.location.state</th>\n",
       "      <th>venue.name</th>\n",
       "      <th>venue.photos.count</th>\n",
       "      <th>venue.photos.groups</th>\n",
       "    </tr>\n",
       "  </thead>\n",
       "  <tbody>\n",
       "    <tr>\n",
       "      <th>0</th>\n",
       "      <td>0</td>\n",
       "      <td>[{'summary': 'This spot is popular', 'type': '...</td>\n",
       "      <td>e-0-4b1ae736f964a52055f423e3-0</td>\n",
       "      <td>[{'id': '4bf58dd8d48988d1fa931735', 'name': 'H...</td>\n",
       "      <td>4b1ae736f964a52055f423e3</td>\n",
       "      <td>30100 Agoura Rd</td>\n",
       "      <td>US</td>\n",
       "      <td>Agoura Hills</td>\n",
       "      <td>United States</td>\n",
       "      <td>Reyes Adobe Rd</td>\n",
       "      <td>994</td>\n",
       "      <td>[30100 Agoura Rd (Reyes Adobe Rd), Agoura Hill...</td>\n",
       "      <td>[{'label': 'display', 'lat': 34.1443363, 'lng'...</td>\n",
       "      <td>34.144336</td>\n",
       "      <td>-118.779487</td>\n",
       "      <td>91301</td>\n",
       "      <td>CA</td>\n",
       "      <td>Sheraton Agoura Hills Hotel</td>\n",
       "      <td>0</td>\n",
       "      <td>[]</td>\n",
       "    </tr>\n",
       "    <tr>\n",
       "      <th>1</th>\n",
       "      <td>0</td>\n",
       "      <td>[{'summary': 'This spot is popular', 'type': '...</td>\n",
       "      <td>e-0-4bd4c4c629eb9c74325792e1-1</td>\n",
       "      <td>[{'id': '52e81612bcbc57f1066b7a10', 'name': 'S...</td>\n",
       "      <td>4bd4c4c629eb9c74325792e1</td>\n",
       "      <td>NaN</td>\n",
       "      <td>US</td>\n",
       "      <td>Agoura Hills</td>\n",
       "      <td>United States</td>\n",
       "      <td>NaN</td>\n",
       "      <td>871</td>\n",
       "      <td>[Agoura Hills, CA 91301, United States]</td>\n",
       "      <td>[{'label': 'display', 'lat': 34.14365209612649...</td>\n",
       "      <td>34.143652</td>\n",
       "      <td>-118.770992</td>\n",
       "      <td>91301</td>\n",
       "      <td>CA</td>\n",
       "      <td>Camp Kinneret</td>\n",
       "      <td>0</td>\n",
       "      <td>[]</td>\n",
       "    </tr>\n",
       "    <tr>\n",
       "      <th>2</th>\n",
       "      <td>0</td>\n",
       "      <td>[{'summary': 'This spot is popular', 'type': '...</td>\n",
       "      <td>e-0-51847d44498ee416278bf743-2</td>\n",
       "      <td>[{'id': '4bf58dd8d48988d1d5941735', 'name': 'H...</td>\n",
       "      <td>51847d44498ee416278bf743</td>\n",
       "      <td>NaN</td>\n",
       "      <td>US</td>\n",
       "      <td>Agoura Hills</td>\n",
       "      <td>United States</td>\n",
       "      <td>NaN</td>\n",
       "      <td>961</td>\n",
       "      <td>[Agoura Hills, CA, United States]</td>\n",
       "      <td>[{'label': 'display', 'lat': 34.14409893383497...</td>\n",
       "      <td>34.144099</td>\n",
       "      <td>-118.779251</td>\n",
       "      <td>NaN</td>\n",
       "      <td>CA</td>\n",
       "      <td>Liquid Lounge At The Sheraton</td>\n",
       "      <td>0</td>\n",
       "      <td>[]</td>\n",
       "    </tr>\n",
       "    <tr>\n",
       "      <th>3</th>\n",
       "      <td>0</td>\n",
       "      <td>[{'summary': 'This spot is popular', 'type': '...</td>\n",
       "      <td>e-0-4dd979f82271c5d36d6d727b-3</td>\n",
       "      <td>[{'id': '4bf58dd8d48988d163941735', 'name': 'P...</td>\n",
       "      <td>4dd979f82271c5d36d6d727b</td>\n",
       "      <td>vasa park</td>\n",
       "      <td>US</td>\n",
       "      <td>Agoura Hills</td>\n",
       "      <td>United States</td>\n",
       "      <td>NaN</td>\n",
       "      <td>985</td>\n",
       "      <td>[vasa park, Agoura Hills, CA 91301, United Sta...</td>\n",
       "      <td>[{'label': 'display', 'lat': 34.127699, 'lng':...</td>\n",
       "      <td>34.127699</td>\n",
       "      <td>-118.776552</td>\n",
       "      <td>91301</td>\n",
       "      <td>CA</td>\n",
       "      <td>Picnic De Chefs</td>\n",
       "      <td>0</td>\n",
       "      <td>[]</td>\n",
       "    </tr>\n",
       "    <tr>\n",
       "      <th>4</th>\n",
       "      <td>0</td>\n",
       "      <td>[{'summary': 'This spot is popular', 'type': '...</td>\n",
       "      <td>e-0-5099cb60e4b00d5fa66aa021-4</td>\n",
       "      <td>[{'id': '4bf58dd8d48988d1d5941735', 'name': 'H...</td>\n",
       "      <td>5099cb60e4b00d5fa66aa021</td>\n",
       "      <td>NaN</td>\n",
       "      <td>US</td>\n",
       "      <td>Agoura Hills</td>\n",
       "      <td>United States</td>\n",
       "      <td>NaN</td>\n",
       "      <td>991</td>\n",
       "      <td>[Agoura Hills, CA 91301, United States]</td>\n",
       "      <td>[{'label': 'display', 'lat': 34.14446640014648...</td>\n",
       "      <td>34.144466</td>\n",
       "      <td>-118.779076</td>\n",
       "      <td>91301</td>\n",
       "      <td>CA</td>\n",
       "      <td>The Sheraton Hotel Bar</td>\n",
       "      <td>0</td>\n",
       "      <td>[]</td>\n",
       "    </tr>\n",
       "  </tbody>\n",
       "</table>\n",
       "</div>"
      ],
      "text/plain": [
       "   reasons.count                                      reasons.items  \\\n",
       "0              0  [{'summary': 'This spot is popular', 'type': '...   \n",
       "1              0  [{'summary': 'This spot is popular', 'type': '...   \n",
       "2              0  [{'summary': 'This spot is popular', 'type': '...   \n",
       "3              0  [{'summary': 'This spot is popular', 'type': '...   \n",
       "4              0  [{'summary': 'This spot is popular', 'type': '...   \n",
       "\n",
       "                       referralId  \\\n",
       "0  e-0-4b1ae736f964a52055f423e3-0   \n",
       "1  e-0-4bd4c4c629eb9c74325792e1-1   \n",
       "2  e-0-51847d44498ee416278bf743-2   \n",
       "3  e-0-4dd979f82271c5d36d6d727b-3   \n",
       "4  e-0-5099cb60e4b00d5fa66aa021-4   \n",
       "\n",
       "                                    venue.categories  \\\n",
       "0  [{'id': '4bf58dd8d48988d1fa931735', 'name': 'H...   \n",
       "1  [{'id': '52e81612bcbc57f1066b7a10', 'name': 'S...   \n",
       "2  [{'id': '4bf58dd8d48988d1d5941735', 'name': 'H...   \n",
       "3  [{'id': '4bf58dd8d48988d163941735', 'name': 'P...   \n",
       "4  [{'id': '4bf58dd8d48988d1d5941735', 'name': 'H...   \n",
       "\n",
       "                   venue.id venue.location.address venue.location.cc  \\\n",
       "0  4b1ae736f964a52055f423e3        30100 Agoura Rd                US   \n",
       "1  4bd4c4c629eb9c74325792e1                    NaN                US   \n",
       "2  51847d44498ee416278bf743                    NaN                US   \n",
       "3  4dd979f82271c5d36d6d727b              vasa park                US   \n",
       "4  5099cb60e4b00d5fa66aa021                    NaN                US   \n",
       "\n",
       "  venue.location.city venue.location.country venue.location.crossStreet  \\\n",
       "0        Agoura Hills          United States             Reyes Adobe Rd   \n",
       "1        Agoura Hills          United States                        NaN   \n",
       "2        Agoura Hills          United States                        NaN   \n",
       "3        Agoura Hills          United States                        NaN   \n",
       "4        Agoura Hills          United States                        NaN   \n",
       "\n",
       "   venue.location.distance                    venue.location.formattedAddress  \\\n",
       "0                      994  [30100 Agoura Rd (Reyes Adobe Rd), Agoura Hill...   \n",
       "1                      871            [Agoura Hills, CA 91301, United States]   \n",
       "2                      961                  [Agoura Hills, CA, United States]   \n",
       "3                      985  [vasa park, Agoura Hills, CA 91301, United Sta...   \n",
       "4                      991            [Agoura Hills, CA 91301, United States]   \n",
       "\n",
       "                       venue.location.labeledLatLngs  venue.location.lat  \\\n",
       "0  [{'label': 'display', 'lat': 34.1443363, 'lng'...           34.144336   \n",
       "1  [{'label': 'display', 'lat': 34.14365209612649...           34.143652   \n",
       "2  [{'label': 'display', 'lat': 34.14409893383497...           34.144099   \n",
       "3  [{'label': 'display', 'lat': 34.127699, 'lng':...           34.127699   \n",
       "4  [{'label': 'display', 'lat': 34.14446640014648...           34.144466   \n",
       "\n",
       "   venue.location.lng venue.location.postalCode venue.location.state  \\\n",
       "0         -118.779487                     91301                   CA   \n",
       "1         -118.770992                     91301                   CA   \n",
       "2         -118.779251                       NaN                   CA   \n",
       "3         -118.776552                     91301                   CA   \n",
       "4         -118.779076                     91301                   CA   \n",
       "\n",
       "                      venue.name  venue.photos.count venue.photos.groups  \n",
       "0    Sheraton Agoura Hills Hotel                   0                  []  \n",
       "1                  Camp Kinneret                   0                  []  \n",
       "2  Liquid Lounge At The Sheraton                   0                  []  \n",
       "3                Picnic De Chefs                   0                  []  \n",
       "4         The Sheraton Hotel Bar                   0                  []  "
      ]
     },
     "execution_count": 55,
     "metadata": {},
     "output_type": "execute_result"
    }
   ],
   "source": [
    "nearby_venues = json_normalize(venues)\n",
    "nearby_venues.head()"
   ]
  },
  {
   "cell_type": "markdown",
   "metadata": {},
   "source": [
    "**d.** filter columns, extract the columns (or features) of interested, **'venue.name', 'venue.categories', 'venue.location.lat', 'venue.location.lng'**"
   ]
  },
  {
   "cell_type": "code",
   "execution_count": 56,
   "metadata": {},
   "outputs": [],
   "source": [
    "filtered_columns = ['venue.name', 'venue.categories', 'venue.location.lat', 'venue.location.lng']\n",
    "nearby_venues =nearby_venues.loc[:, filtered_columns]"
   ]
  },
  {
   "cell_type": "code",
   "execution_count": 57,
   "metadata": {},
   "outputs": [
    {
     "data": {
      "text/html": [
       "<div>\n",
       "<style scoped>\n",
       "    .dataframe tbody tr th:only-of-type {\n",
       "        vertical-align: middle;\n",
       "    }\n",
       "\n",
       "    .dataframe tbody tr th {\n",
       "        vertical-align: top;\n",
       "    }\n",
       "\n",
       "    .dataframe thead th {\n",
       "        text-align: right;\n",
       "    }\n",
       "</style>\n",
       "<table border=\"1\" class=\"dataframe\">\n",
       "  <thead>\n",
       "    <tr style=\"text-align: right;\">\n",
       "      <th></th>\n",
       "      <th>venue.name</th>\n",
       "      <th>venue.categories</th>\n",
       "      <th>venue.location.lat</th>\n",
       "      <th>venue.location.lng</th>\n",
       "    </tr>\n",
       "  </thead>\n",
       "  <tbody>\n",
       "    <tr>\n",
       "      <th>0</th>\n",
       "      <td>Sheraton Agoura Hills Hotel</td>\n",
       "      <td>[{'id': '4bf58dd8d48988d1fa931735', 'name': 'H...</td>\n",
       "      <td>34.144336</td>\n",
       "      <td>-118.779487</td>\n",
       "    </tr>\n",
       "    <tr>\n",
       "      <th>1</th>\n",
       "      <td>Camp Kinneret</td>\n",
       "      <td>[{'id': '52e81612bcbc57f1066b7a10', 'name': 'S...</td>\n",
       "      <td>34.143652</td>\n",
       "      <td>-118.770992</td>\n",
       "    </tr>\n",
       "    <tr>\n",
       "      <th>2</th>\n",
       "      <td>Liquid Lounge At The Sheraton</td>\n",
       "      <td>[{'id': '4bf58dd8d48988d1d5941735', 'name': 'H...</td>\n",
       "      <td>34.144099</td>\n",
       "      <td>-118.779251</td>\n",
       "    </tr>\n",
       "    <tr>\n",
       "      <th>3</th>\n",
       "      <td>Picnic De Chefs</td>\n",
       "      <td>[{'id': '4bf58dd8d48988d163941735', 'name': 'P...</td>\n",
       "      <td>34.127699</td>\n",
       "      <td>-118.776552</td>\n",
       "    </tr>\n",
       "    <tr>\n",
       "      <th>4</th>\n",
       "      <td>The Sheraton Hotel Bar</td>\n",
       "      <td>[{'id': '4bf58dd8d48988d1d5941735', 'name': 'H...</td>\n",
       "      <td>34.144466</td>\n",
       "      <td>-118.779076</td>\n",
       "    </tr>\n",
       "  </tbody>\n",
       "</table>\n",
       "</div>"
      ],
      "text/plain": [
       "                      venue.name  \\\n",
       "0    Sheraton Agoura Hills Hotel   \n",
       "1                  Camp Kinneret   \n",
       "2  Liquid Lounge At The Sheraton   \n",
       "3                Picnic De Chefs   \n",
       "4         The Sheraton Hotel Bar   \n",
       "\n",
       "                                    venue.categories  venue.location.lat  \\\n",
       "0  [{'id': '4bf58dd8d48988d1fa931735', 'name': 'H...           34.144336   \n",
       "1  [{'id': '52e81612bcbc57f1066b7a10', 'name': 'S...           34.143652   \n",
       "2  [{'id': '4bf58dd8d48988d1d5941735', 'name': 'H...           34.144099   \n",
       "3  [{'id': '4bf58dd8d48988d163941735', 'name': 'P...           34.127699   \n",
       "4  [{'id': '4bf58dd8d48988d1d5941735', 'name': 'H...           34.144466   \n",
       "\n",
       "   venue.location.lng  \n",
       "0         -118.779487  \n",
       "1         -118.770992  \n",
       "2         -118.779251  \n",
       "3         -118.776552  \n",
       "4         -118.779076  "
      ]
     },
     "execution_count": 57,
     "metadata": {},
     "output_type": "execute_result"
    }
   ],
   "source": [
    "nearby_venues.head()"
   ]
  },
  {
   "cell_type": "markdown",
   "metadata": {},
   "source": [
    "**e.** clear the **venue.categories**, extract the **name** from categories"
   ]
  },
  {
   "cell_type": "markdown",
   "metadata": {},
   "source": [
    "#### Take the first venue as the example, extract the **name** from the categories"
   ]
  },
  {
   "cell_type": "code",
   "execution_count": 58,
   "metadata": {},
   "outputs": [
    {
     "data": {
      "text/plain": [
       "[{'id': '4bf58dd8d48988d1fa931735',\n",
       "  'name': 'Hotel',\n",
       "  'pluralName': 'Hotels',\n",
       "  'shortName': 'Hotel',\n",
       "  'icon': {'prefix': 'https://ss3.4sqi.net/img/categories_v2/travel/hotel_',\n",
       "   'suffix': '.png'},\n",
       "  'primary': True}]"
      ]
     },
     "execution_count": 58,
     "metadata": {},
     "output_type": "execute_result"
    }
   ],
   "source": [
    "first_venue_cat = nearby_venues.loc[0, 'venue.categories']\n",
    "first_venue_cat"
   ]
  },
  {
   "cell_type": "markdown",
   "metadata": {},
   "source": [
    "The **venue.categories** is a list with one dict"
   ]
  },
  {
   "cell_type": "code",
   "execution_count": 59,
   "metadata": {},
   "outputs": [
    {
     "data": {
      "text/plain": [
       "'Hotel'"
      ]
     },
     "execution_count": 59,
     "metadata": {},
     "output_type": "execute_result"
    }
   ],
   "source": [
    "first_venue_cat[0]['name']"
   ]
  },
  {
   "cell_type": "markdown",
   "metadata": {},
   "source": [
    "#### Extract the **name** from the categories for all venues"
   ]
  },
  {
   "cell_type": "markdown",
   "metadata": {},
   "source": [
    "Create a new feature with only the **category.name** values for all venues"
   ]
  },
  {
   "cell_type": "code",
   "execution_count": 60,
   "metadata": {},
   "outputs": [
    {
     "data": {
      "text/html": [
       "<div>\n",
       "<style scoped>\n",
       "    .dataframe tbody tr th:only-of-type {\n",
       "        vertical-align: middle;\n",
       "    }\n",
       "\n",
       "    .dataframe tbody tr th {\n",
       "        vertical-align: top;\n",
       "    }\n",
       "\n",
       "    .dataframe thead th {\n",
       "        text-align: right;\n",
       "    }\n",
       "</style>\n",
       "<table border=\"1\" class=\"dataframe\">\n",
       "  <thead>\n",
       "    <tr style=\"text-align: right;\">\n",
       "      <th></th>\n",
       "      <th>venue.name</th>\n",
       "      <th>venue.categories</th>\n",
       "      <th>venue.location.lat</th>\n",
       "      <th>venue.location.lng</th>\n",
       "      <th>category</th>\n",
       "    </tr>\n",
       "  </thead>\n",
       "  <tbody>\n",
       "    <tr>\n",
       "      <th>0</th>\n",
       "      <td>Sheraton Agoura Hills Hotel</td>\n",
       "      <td>[{'id': '4bf58dd8d48988d1fa931735', 'name': 'H...</td>\n",
       "      <td>34.144336</td>\n",
       "      <td>-118.779487</td>\n",
       "      <td>Hotel</td>\n",
       "    </tr>\n",
       "    <tr>\n",
       "      <th>1</th>\n",
       "      <td>Camp Kinneret</td>\n",
       "      <td>[{'id': '52e81612bcbc57f1066b7a10', 'name': 'S...</td>\n",
       "      <td>34.143652</td>\n",
       "      <td>-118.770992</td>\n",
       "      <td>Summer Camp</td>\n",
       "    </tr>\n",
       "    <tr>\n",
       "      <th>2</th>\n",
       "      <td>Liquid Lounge At The Sheraton</td>\n",
       "      <td>[{'id': '4bf58dd8d48988d1d5941735', 'name': 'H...</td>\n",
       "      <td>34.144099</td>\n",
       "      <td>-118.779251</td>\n",
       "      <td>Hotel Bar</td>\n",
       "    </tr>\n",
       "    <tr>\n",
       "      <th>3</th>\n",
       "      <td>Picnic De Chefs</td>\n",
       "      <td>[{'id': '4bf58dd8d48988d163941735', 'name': 'P...</td>\n",
       "      <td>34.127699</td>\n",
       "      <td>-118.776552</td>\n",
       "      <td>Park</td>\n",
       "    </tr>\n",
       "    <tr>\n",
       "      <th>4</th>\n",
       "      <td>The Sheraton Hotel Bar</td>\n",
       "      <td>[{'id': '4bf58dd8d48988d1d5941735', 'name': 'H...</td>\n",
       "      <td>34.144466</td>\n",
       "      <td>-118.779076</td>\n",
       "      <td>Hotel Bar</td>\n",
       "    </tr>\n",
       "  </tbody>\n",
       "</table>\n",
       "</div>"
      ],
      "text/plain": [
       "                      venue.name  \\\n",
       "0    Sheraton Agoura Hills Hotel   \n",
       "1                  Camp Kinneret   \n",
       "2  Liquid Lounge At The Sheraton   \n",
       "3                Picnic De Chefs   \n",
       "4         The Sheraton Hotel Bar   \n",
       "\n",
       "                                    venue.categories  venue.location.lat  \\\n",
       "0  [{'id': '4bf58dd8d48988d1fa931735', 'name': 'H...           34.144336   \n",
       "1  [{'id': '52e81612bcbc57f1066b7a10', 'name': 'S...           34.143652   \n",
       "2  [{'id': '4bf58dd8d48988d1d5941735', 'name': 'H...           34.144099   \n",
       "3  [{'id': '4bf58dd8d48988d163941735', 'name': 'P...           34.127699   \n",
       "4  [{'id': '4bf58dd8d48988d1d5941735', 'name': 'H...           34.144466   \n",
       "\n",
       "   venue.location.lng     category  \n",
       "0         -118.779487        Hotel  \n",
       "1         -118.770992  Summer Camp  \n",
       "2         -118.779251    Hotel Bar  \n",
       "3         -118.776552         Park  \n",
       "4         -118.779076    Hotel Bar  "
      ]
     },
     "execution_count": 60,
     "metadata": {},
     "output_type": "execute_result"
    }
   ],
   "source": [
    "nearby_venues['category'] = [v[0]['name'] for v in nearby_venues['venue.categories']]\n",
    "nearby_venues.head()"
   ]
  },
  {
   "cell_type": "markdown",
   "metadata": {},
   "source": [
    "**f.** clear the columns, ane remove the unnecessary column **venue.categories**"
   ]
  },
  {
   "cell_type": "code",
   "execution_count": 61,
   "metadata": {},
   "outputs": [],
   "source": [
    "nearby_venues.rename(columns = {'venue.name':'name', 'venue.location.lat':'lat', 'venue.location.lng':'lng'}, inplace = True)"
   ]
  },
  {
   "cell_type": "code",
   "execution_count": 62,
   "metadata": {},
   "outputs": [],
   "source": [
    "nearby_venues.drop(['venue.categories'], axis = 1, inplace = True)"
   ]
  },
  {
   "cell_type": "code",
   "execution_count": 104,
   "metadata": {},
   "outputs": [
    {
     "data": {
      "text/html": [
       "<div>\n",
       "<style scoped>\n",
       "    .dataframe tbody tr th:only-of-type {\n",
       "        vertical-align: middle;\n",
       "    }\n",
       "\n",
       "    .dataframe tbody tr th {\n",
       "        vertical-align: top;\n",
       "    }\n",
       "\n",
       "    .dataframe thead th {\n",
       "        text-align: right;\n",
       "    }\n",
       "</style>\n",
       "<table border=\"1\" class=\"dataframe\">\n",
       "  <thead>\n",
       "    <tr style=\"text-align: right;\">\n",
       "      <th></th>\n",
       "      <th>name</th>\n",
       "      <th>category</th>\n",
       "      <th>lat</th>\n",
       "      <th>lng</th>\n",
       "    </tr>\n",
       "  </thead>\n",
       "  <tbody>\n",
       "    <tr>\n",
       "      <th>0</th>\n",
       "      <td>Sheraton Agoura Hills Hotel</td>\n",
       "      <td>Hotel</td>\n",
       "      <td>34.144336</td>\n",
       "      <td>-118.779487</td>\n",
       "    </tr>\n",
       "    <tr>\n",
       "      <th>1</th>\n",
       "      <td>Camp Kinneret</td>\n",
       "      <td>Summer Camp</td>\n",
       "      <td>34.143652</td>\n",
       "      <td>-118.770992</td>\n",
       "    </tr>\n",
       "    <tr>\n",
       "      <th>2</th>\n",
       "      <td>Liquid Lounge At The Sheraton</td>\n",
       "      <td>Hotel Bar</td>\n",
       "      <td>34.144099</td>\n",
       "      <td>-118.779251</td>\n",
       "    </tr>\n",
       "    <tr>\n",
       "      <th>3</th>\n",
       "      <td>Picnic De Chefs</td>\n",
       "      <td>Park</td>\n",
       "      <td>34.127699</td>\n",
       "      <td>-118.776552</td>\n",
       "    </tr>\n",
       "    <tr>\n",
       "      <th>4</th>\n",
       "      <td>The Sheraton Hotel Bar</td>\n",
       "      <td>Hotel Bar</td>\n",
       "      <td>34.144466</td>\n",
       "      <td>-118.779076</td>\n",
       "    </tr>\n",
       "    <tr>\n",
       "      <th>5</th>\n",
       "      <td>Sheraton Gym</td>\n",
       "      <td>Gym</td>\n",
       "      <td>34.144531</td>\n",
       "      <td>-118.778972</td>\n",
       "    </tr>\n",
       "    <tr>\n",
       "      <th>6</th>\n",
       "      <td>H2O Sea Grill</td>\n",
       "      <td>American Restaurant</td>\n",
       "      <td>34.144484</td>\n",
       "      <td>-118.779251</td>\n",
       "    </tr>\n",
       "  </tbody>\n",
       "</table>\n",
       "</div>"
      ],
      "text/plain": [
       "                            name             category        lat         lng\n",
       "0    Sheraton Agoura Hills Hotel                Hotel  34.144336 -118.779487\n",
       "1                  Camp Kinneret          Summer Camp  34.143652 -118.770992\n",
       "2  Liquid Lounge At The Sheraton            Hotel Bar  34.144099 -118.779251\n",
       "3                Picnic De Chefs                 Park  34.127699 -118.776552\n",
       "4         The Sheraton Hotel Bar            Hotel Bar  34.144466 -118.779076\n",
       "5                   Sheraton Gym                  Gym  34.144531 -118.778972\n",
       "6                  H2O Sea Grill  American Restaurant  34.144484 -118.779251"
      ]
     },
     "execution_count": 104,
     "metadata": {},
     "output_type": "execute_result"
    }
   ],
   "source": [
    "# change the orders of the columns\n",
    "column_order = ['name', 'category', 'lat', 'lng']\n",
    "nearby_venues[column_order]"
   ]
  },
  {
   "cell_type": "markdown",
   "metadata": {},
   "source": [
    "There are 7 venues belonging to the city **Agoura Hills** in Los Angeles, we can notice that the lat and lng are very close, but different. This make sense that these 7 venues are within 1000 meters around the city **Agoura Hills**."
   ]
  },
  {
   "cell_type": "code",
   "execution_count": 64,
   "metadata": {},
   "outputs": [
    {
     "data": {
      "text/html": [
       "<div style=\"width:100%;\"><div style=\"position:relative;width:100%;height:0;padding-bottom:60%;\"><iframe src=\"data:text/html;charset=utf-8;base64,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\" style=\"position:absolute;width:100%;height:100%;left:0;top:0;border:none !important;\" allowfullscreen webkitallowfullscreen mozallowfullscreen></iframe></div></div>"
      ],
      "text/plain": [
       "<folium.folium.Map at 0x104fbb080>"
      ]
     },
     "execution_count": 64,
     "metadata": {},
     "output_type": "execute_result"
    }
   ],
   "source": [
    "# create map of the venues from the first city (neighborhood)in California using latitude and longitude values\n",
    "map_first_Los_Angeles = folium.Map(location=[latitude, longitude], zoom_start=10)\n",
    "\n",
    "# add markers to map\n",
    "for lat, lng, category, Name in zip(nearby_venues['lat'], nearby_venues['lng'], nearby_venues['category'], nearby_venues['name']):\n",
    "    label = '{}, {}'.format(Name, category)\n",
    "    label = folium.Popup(label, parse_html=True)\n",
    "    folium.CircleMarker(\n",
    "        [lat, lng],\n",
    "        radius=5,\n",
    "        popup=label,\n",
    "        color='green',\n",
    "        fill=True,\n",
    "        fill_color='#3186cc',\n",
    "        fill_opacity=0.7,\n",
    "        parse_html=False).add_to(map_first_Los_Angeles)  \n",
    "    \n",
    "map_first_Los_Angeles"
   ]
  },
  {
   "cell_type": "markdown",
   "metadata": {},
   "source": [
    "Ths **folium** map containing all venues in city **Agoura Hills** in Los Angeles, may not available on **GitHub**."
   ]
  },
  {
   "cell_type": "markdown",
   "metadata": {},
   "source": [
    "### Part 3: Explore venues from all cities in Los Angeles"
   ]
  },
  {
   "cell_type": "markdown",
   "metadata": {},
   "source": [
    "#### Create a function to get the venues of all cities in Los Angeles"
   ]
  },
  {
   "cell_type": "code",
   "execution_count": 109,
   "metadata": {},
   "outputs": [],
   "source": [
    "LIMIT = 500 # limit of number of venues returned by Foursquare API\n",
    "radius = 1000 # define radius with meters\n",
    "\n",
    "def getNearbyVenues(names, latitudes, longitudes, radius = 1000):\n",
    "    venues_list = []\n",
    "    \n",
    "    # use loop funciton to visit each of the city, to get the lat, lng\n",
    "    for name, lat, lng in zip(names, latitudes, longitudes):\n",
    "        \n",
    "        # create the API request URL\n",
    "        url = 'https://api.foursquare.com/v2/venues/explore?&client_id={}&client_secret={}&v={}&ll={},{}&radius={}&limit={}'.format(\n",
    "            CLIENT_ID, \n",
    "            CLIENT_SECRET, \n",
    "            VERSION, \n",
    "            lat, \n",
    "            lng, \n",
    "            radius, \n",
    "            LIMIT)\n",
    "        # print(url)\n",
    "\n",
    "        # make the GET request\n",
    "        results = requests.get(url).json()['response']['groups'][0]['items']\n",
    "        \n",
    "        # acquire the relevant informaiton for each nearby venue\n",
    "        venues_list.append([(name, lat, lng,\n",
    "          v['venue']['name'], \n",
    "          v['venue']['location']['lat'],\n",
    "          v['venue']['location']['lng'], \n",
    "          v['venue']['categories'][0]['name']) for v in results])\n",
    "       \n",
    "        # create dataframe for the venues_list\n",
    "        nearby_venues = pd.DataFrame([item for venue_list in venues_list for item in venue_list]) \n",
    "\n",
    "        # add column names\n",
    "        nearby_venues.columns = ['Neighborhood', \n",
    "                      'Neighborhood Latitude', \n",
    "                      'Neighborhood Longitude', \n",
    "                      'Venue', \n",
    "                      'Venue Latitude', \n",
    "                      'Venue Longitude', \n",
    "                      'Venue Category']\n",
    "    \n",
    "    return nearby_venues            "
   ]
  },
  {
   "cell_type": "code",
   "execution_count": 110,
   "metadata": {},
   "outputs": [],
   "source": [
    "Los_Angeles_venues = getNearbyVenues(Los_Angeles_df['Name'], Los_Angeles_df['Latitude'], Los_Angeles_df['Longitude'])"
   ]
  },
  {
   "cell_type": "code",
   "execution_count": 111,
   "metadata": {},
   "outputs": [
    {
     "data": {
      "text/html": [
       "<div>\n",
       "<style scoped>\n",
       "    .dataframe tbody tr th:only-of-type {\n",
       "        vertical-align: middle;\n",
       "    }\n",
       "\n",
       "    .dataframe tbody tr th {\n",
       "        vertical-align: top;\n",
       "    }\n",
       "\n",
       "    .dataframe thead th {\n",
       "        text-align: right;\n",
       "    }\n",
       "</style>\n",
       "<table border=\"1\" class=\"dataframe\">\n",
       "  <thead>\n",
       "    <tr style=\"text-align: right;\">\n",
       "      <th></th>\n",
       "      <th>Neighborhood</th>\n",
       "      <th>Neighborhood Latitude</th>\n",
       "      <th>Neighborhood Longitude</th>\n",
       "      <th>Venue</th>\n",
       "      <th>Venue Latitude</th>\n",
       "      <th>Venue Longitude</th>\n",
       "      <th>Venue Category</th>\n",
       "    </tr>\n",
       "  </thead>\n",
       "  <tbody>\n",
       "    <tr>\n",
       "      <th>0</th>\n",
       "      <td>Agoura Hills</td>\n",
       "      <td>34.136395</td>\n",
       "      <td>-118.774535</td>\n",
       "      <td>Sheraton Agoura Hills Hotel</td>\n",
       "      <td>34.144336</td>\n",
       "      <td>-118.779487</td>\n",
       "      <td>Hotel</td>\n",
       "    </tr>\n",
       "    <tr>\n",
       "      <th>1</th>\n",
       "      <td>Agoura Hills</td>\n",
       "      <td>34.136395</td>\n",
       "      <td>-118.774535</td>\n",
       "      <td>Camp Kinneret</td>\n",
       "      <td>34.143652</td>\n",
       "      <td>-118.770992</td>\n",
       "      <td>Summer Camp</td>\n",
       "    </tr>\n",
       "    <tr>\n",
       "      <th>2</th>\n",
       "      <td>Agoura Hills</td>\n",
       "      <td>34.136395</td>\n",
       "      <td>-118.774535</td>\n",
       "      <td>Liquid Lounge At The Sheraton</td>\n",
       "      <td>34.144099</td>\n",
       "      <td>-118.779251</td>\n",
       "      <td>Hotel Bar</td>\n",
       "    </tr>\n",
       "    <tr>\n",
       "      <th>3</th>\n",
       "      <td>Agoura Hills</td>\n",
       "      <td>34.136395</td>\n",
       "      <td>-118.774535</td>\n",
       "      <td>Picnic De Chefs</td>\n",
       "      <td>34.127699</td>\n",
       "      <td>-118.776552</td>\n",
       "      <td>Park</td>\n",
       "    </tr>\n",
       "    <tr>\n",
       "      <th>4</th>\n",
       "      <td>Agoura Hills</td>\n",
       "      <td>34.136395</td>\n",
       "      <td>-118.774535</td>\n",
       "      <td>The Sheraton Hotel Bar</td>\n",
       "      <td>34.144466</td>\n",
       "      <td>-118.779076</td>\n",
       "      <td>Hotel Bar</td>\n",
       "    </tr>\n",
       "    <tr>\n",
       "      <th>5</th>\n",
       "      <td>Agoura Hills</td>\n",
       "      <td>34.136395</td>\n",
       "      <td>-118.774535</td>\n",
       "      <td>Sheraton Gym</td>\n",
       "      <td>34.144531</td>\n",
       "      <td>-118.778972</td>\n",
       "      <td>Gym</td>\n",
       "    </tr>\n",
       "    <tr>\n",
       "      <th>6</th>\n",
       "      <td>Agoura Hills</td>\n",
       "      <td>34.136395</td>\n",
       "      <td>-118.774535</td>\n",
       "      <td>H2O Sea Grill</td>\n",
       "      <td>34.144484</td>\n",
       "      <td>-118.779251</td>\n",
       "      <td>American Restaurant</td>\n",
       "    </tr>\n",
       "    <tr>\n",
       "      <th>7</th>\n",
       "      <td>Alhambra</td>\n",
       "      <td>37.176036</td>\n",
       "      <td>-3.587974</td>\n",
       "      <td>La Alhambra y el Generalife</td>\n",
       "      <td>37.175620</td>\n",
       "      <td>-3.586435</td>\n",
       "      <td>Historic Site</td>\n",
       "    </tr>\n",
       "    <tr>\n",
       "      <th>8</th>\n",
       "      <td>Alhambra</td>\n",
       "      <td>37.176036</td>\n",
       "      <td>-3.587974</td>\n",
       "      <td>Patio de los Leones</td>\n",
       "      <td>37.177078</td>\n",
       "      <td>-3.589270</td>\n",
       "      <td>Historic Site</td>\n",
       "    </tr>\n",
       "    <tr>\n",
       "      <th>9</th>\n",
       "      <td>Alhambra</td>\n",
       "      <td>37.176036</td>\n",
       "      <td>-3.587974</td>\n",
       "      <td>Palacios Nazaríes</td>\n",
       "      <td>37.177343</td>\n",
       "      <td>-3.589747</td>\n",
       "      <td>Historic Site</td>\n",
       "    </tr>\n",
       "  </tbody>\n",
       "</table>\n",
       "</div>"
      ],
      "text/plain": [
       "   Neighborhood  Neighborhood Latitude  Neighborhood Longitude  \\\n",
       "0  Agoura Hills              34.136395             -118.774535   \n",
       "1  Agoura Hills              34.136395             -118.774535   \n",
       "2  Agoura Hills              34.136395             -118.774535   \n",
       "3  Agoura Hills              34.136395             -118.774535   \n",
       "4  Agoura Hills              34.136395             -118.774535   \n",
       "5  Agoura Hills              34.136395             -118.774535   \n",
       "6  Agoura Hills              34.136395             -118.774535   \n",
       "7      Alhambra              37.176036               -3.587974   \n",
       "8      Alhambra              37.176036               -3.587974   \n",
       "9      Alhambra              37.176036               -3.587974   \n",
       "\n",
       "                           Venue  Venue Latitude  Venue Longitude  \\\n",
       "0    Sheraton Agoura Hills Hotel       34.144336      -118.779487   \n",
       "1                  Camp Kinneret       34.143652      -118.770992   \n",
       "2  Liquid Lounge At The Sheraton       34.144099      -118.779251   \n",
       "3                Picnic De Chefs       34.127699      -118.776552   \n",
       "4         The Sheraton Hotel Bar       34.144466      -118.779076   \n",
       "5                   Sheraton Gym       34.144531      -118.778972   \n",
       "6                  H2O Sea Grill       34.144484      -118.779251   \n",
       "7    La Alhambra y el Generalife       37.175620        -3.586435   \n",
       "8            Patio de los Leones       37.177078        -3.589270   \n",
       "9              Palacios Nazaríes       37.177343        -3.589747   \n",
       "\n",
       "        Venue Category  \n",
       "0                Hotel  \n",
       "1          Summer Camp  \n",
       "2            Hotel Bar  \n",
       "3                 Park  \n",
       "4            Hotel Bar  \n",
       "5                  Gym  \n",
       "6  American Restaurant  \n",
       "7        Historic Site  \n",
       "8        Historic Site  \n",
       "9        Historic Site  "
      ]
     },
     "execution_count": 111,
     "metadata": {},
     "output_type": "execute_result"
    }
   ],
   "source": [
    "Los_Angeles_venues.head(10)"
   ]
  },
  {
   "cell_type": "code",
   "execution_count": 302,
   "metadata": {},
   "outputs": [
    {
     "name": "stdout",
     "output_type": "stream",
     "text": [
      "There are a total of 3779 venues in Los Angeles\n"
     ]
    }
   ],
   "source": [
    "print('There are a total of', len(Los_Angeles_venues), 'venues in Los Angeles')"
   ]
  },
  {
   "cell_type": "markdown",
   "metadata": {},
   "source": [
    "#### Get the counts of venues in each of the city (neighborhood)"
   ]
  },
  {
   "cell_type": "code",
   "execution_count": 303,
   "metadata": {},
   "outputs": [
    {
     "data": {
      "text/plain": [
       "Beverly Hills    100\n",
       "Redondo Beach    100\n",
       "Alhambra         100\n",
       "Santa Monica     100\n",
       "Pasadena         100\n",
       "Name: Neighborhood, dtype: int64"
      ]
     },
     "execution_count": 303,
     "metadata": {},
     "output_type": "execute_result"
    }
   ],
   "source": [
    "venue_count = Los_Angeles_venues['Neighborhood'] .value_counts()\n",
    "venue_count.head()"
   ]
  },
  {
   "cell_type": "markdown",
   "metadata": {},
   "source": [
    "There are a tolal of 86 cities in Los Angeles, and 100 venues in each city."
   ]
  },
  {
   "cell_type": "markdown",
   "metadata": {},
   "source": [
    "#### Find out how many unique categories can be curated from all the returned venues"
   ]
  },
  {
   "cell_type": "code",
   "execution_count": 115,
   "metadata": {},
   "outputs": [
    {
     "name": "stdout",
     "output_type": "stream",
     "text": [
      "There are 319 uniques categories.\n",
      "The categories are:  ['Hotel' 'Summer Camp' 'Hotel Bar' 'Park' 'Gym' 'American Restaurant'\n",
      " 'Historic Site' 'Monument / Landmark' 'Garden' 'Palace'] , etc.\n"
     ]
    }
   ],
   "source": [
    "print('There are {} uniques categories.'.format(len(Los_Angeles_venues['Venue Category'].unique())))\n",
    "print('The categories are: ', Los_Angeles_venues['Venue Category'].unique()[:10], ', etc.')"
   ]
  },
  {
   "cell_type": "code",
   "execution_count": 304,
   "metadata": {},
   "outputs": [
    {
     "data": {
      "text/plain": [
       "Mexican Restaurant      180\n",
       "Fast Food Restaurant    139\n",
       "Coffee Shop             127\n",
       "Pizza Place             116\n",
       "American Restaurant      99\n",
       "Sandwich Place           98\n",
       "Park                     79\n",
       "Burger Joint             78\n",
       "Pharmacy                 74\n",
       "Grocery Store            67\n",
       "Chinese Restaurant       65\n",
       "Convenience Store        65\n",
       "Hotel                    61\n",
       "Clothing Store           55\n",
       "Café                     50\n",
       "Bakery                   50\n",
       "Seafood Restaurant       50\n",
       "Italian Restaurant       50\n",
       "Bar                      47\n",
       "Cosmetics Shop           47\n",
       "Name: Venue Category, dtype: int64"
      ]
     },
     "execution_count": 304,
     "metadata": {},
     "output_type": "execute_result"
    }
   ],
   "source": [
    "Los_Angeles_venues['Venue Category'].value_counts()[:20]"
   ]
  },
  {
   "cell_type": "markdown",
   "metadata": {},
   "source": [
    "Even though there are a lot of venues, most of them are of the same category. Since how the venues being categorized is not clearly defined, I am interested to see the details of the venues, whether the venues are quite varied."
   ]
  },
  {
   "cell_type": "markdown",
   "metadata": {},
   "source": [
    "#### Find out how many unique venues curated from all the returned venues"
   ]
  },
  {
   "cell_type": "code",
   "execution_count": 117,
   "metadata": {},
   "outputs": [
    {
     "name": "stdout",
     "output_type": "stream",
     "text": [
      "There are 2897 uniques venues.\n",
      "The venues are:  ['Sheraton Agoura Hills Hotel' 'Camp Kinneret'\n",
      " 'Liquid Lounge At The Sheraton' ... 'Taco Truck'\n",
      " 'Law Office Richard S. Sailer & Associates' 'John Greenleaf Park'] , etc.\n"
     ]
    }
   ],
   "source": [
    "print('There are {} uniques venues.'.format(len(Los_Angeles_venues['Venue'].unique())))\n",
    "print('The venues are: ', Los_Angeles_venues['Venue'].unique(), ', etc.')"
   ]
  },
  {
   "cell_type": "code",
   "execution_count": 305,
   "metadata": {},
   "outputs": [
    {
     "data": {
      "text/plain": [
       "Starbucks                     53\n",
       "7-Eleven                      42\n",
       "SUBWAY                        40\n",
       "Chase Bank                    29\n",
       "McDonald's                    29\n",
       "CVS pharmacy                  29\n",
       "Redbox                        24\n",
       "Domino's Pizza                19\n",
       "Rite Aid                      19\n",
       "Jack in the Box               18\n",
       "Subway                        16\n",
       "Little Caesars Pizza          15\n",
       "El Pollo Loco                 15\n",
       "Walgreens                     15\n",
       "The UPS Store                 13\n",
       "The Coffee Bean & Tea Leaf    13\n",
       "Chipotle Mexican Grill        12\n",
       "ampm                          12\n",
       "AT&T                          12\n",
       "Dollar Tree                   12\n",
       "Name: Venue, dtype: int64"
      ]
     },
     "execution_count": 305,
     "metadata": {},
     "output_type": "execute_result"
    }
   ],
   "source": [
    "Los_Angeles_venues['Venue'].value_counts()[:20]"
   ]
  },
  {
   "cell_type": "markdown",
   "metadata": {},
   "source": [
    "The venue are equally distributed in California. "
   ]
  },
  {
   "cell_type": "markdown",
   "metadata": {},
   "source": [
    "## 3. Analyze venue category in each city (Neighborhood) "
   ]
  },
  {
   "cell_type": "code",
   "execution_count": 191,
   "metadata": {},
   "outputs": [
    {
     "data": {
      "text/html": [
       "<div>\n",
       "<style scoped>\n",
       "    .dataframe tbody tr th:only-of-type {\n",
       "        vertical-align: middle;\n",
       "    }\n",
       "\n",
       "    .dataframe tbody tr th {\n",
       "        vertical-align: top;\n",
       "    }\n",
       "\n",
       "    .dataframe thead th {\n",
       "        text-align: right;\n",
       "    }\n",
       "</style>\n",
       "<table border=\"1\" class=\"dataframe\">\n",
       "  <thead>\n",
       "    <tr style=\"text-align: right;\">\n",
       "      <th></th>\n",
       "      <th>ATM</th>\n",
       "      <th>Accessories Store</th>\n",
       "      <th>Advertising Agency</th>\n",
       "      <th>African Restaurant</th>\n",
       "      <th>Airport Service</th>\n",
       "      <th>American Restaurant</th>\n",
       "      <th>Animal Shelter</th>\n",
       "      <th>Antique Shop</th>\n",
       "      <th>Arcade</th>\n",
       "      <th>Arepa Restaurant</th>\n",
       "      <th>...</th>\n",
       "      <th>Water Park</th>\n",
       "      <th>Whisky Bar</th>\n",
       "      <th>Wine Bar</th>\n",
       "      <th>Wine Shop</th>\n",
       "      <th>Winery</th>\n",
       "      <th>Wings Joint</th>\n",
       "      <th>Women's Store</th>\n",
       "      <th>Yoga Studio</th>\n",
       "      <th>Zoo</th>\n",
       "      <th>Neighborhoods</th>\n",
       "    </tr>\n",
       "  </thead>\n",
       "  <tbody>\n",
       "    <tr>\n",
       "      <th>0</th>\n",
       "      <td>0</td>\n",
       "      <td>0</td>\n",
       "      <td>0</td>\n",
       "      <td>0</td>\n",
       "      <td>0</td>\n",
       "      <td>0</td>\n",
       "      <td>0</td>\n",
       "      <td>0</td>\n",
       "      <td>0</td>\n",
       "      <td>0</td>\n",
       "      <td>...</td>\n",
       "      <td>0</td>\n",
       "      <td>0</td>\n",
       "      <td>0</td>\n",
       "      <td>0</td>\n",
       "      <td>0</td>\n",
       "      <td>0</td>\n",
       "      <td>0</td>\n",
       "      <td>0</td>\n",
       "      <td>0</td>\n",
       "      <td>Agoura Hills</td>\n",
       "    </tr>\n",
       "    <tr>\n",
       "      <th>1</th>\n",
       "      <td>0</td>\n",
       "      <td>0</td>\n",
       "      <td>0</td>\n",
       "      <td>0</td>\n",
       "      <td>0</td>\n",
       "      <td>0</td>\n",
       "      <td>0</td>\n",
       "      <td>0</td>\n",
       "      <td>0</td>\n",
       "      <td>0</td>\n",
       "      <td>...</td>\n",
       "      <td>0</td>\n",
       "      <td>0</td>\n",
       "      <td>0</td>\n",
       "      <td>0</td>\n",
       "      <td>0</td>\n",
       "      <td>0</td>\n",
       "      <td>0</td>\n",
       "      <td>0</td>\n",
       "      <td>0</td>\n",
       "      <td>Agoura Hills</td>\n",
       "    </tr>\n",
       "    <tr>\n",
       "      <th>2</th>\n",
       "      <td>0</td>\n",
       "      <td>0</td>\n",
       "      <td>0</td>\n",
       "      <td>0</td>\n",
       "      <td>0</td>\n",
       "      <td>0</td>\n",
       "      <td>0</td>\n",
       "      <td>0</td>\n",
       "      <td>0</td>\n",
       "      <td>0</td>\n",
       "      <td>...</td>\n",
       "      <td>0</td>\n",
       "      <td>0</td>\n",
       "      <td>0</td>\n",
       "      <td>0</td>\n",
       "      <td>0</td>\n",
       "      <td>0</td>\n",
       "      <td>0</td>\n",
       "      <td>0</td>\n",
       "      <td>0</td>\n",
       "      <td>Agoura Hills</td>\n",
       "    </tr>\n",
       "    <tr>\n",
       "      <th>3</th>\n",
       "      <td>0</td>\n",
       "      <td>0</td>\n",
       "      <td>0</td>\n",
       "      <td>0</td>\n",
       "      <td>0</td>\n",
       "      <td>0</td>\n",
       "      <td>0</td>\n",
       "      <td>0</td>\n",
       "      <td>0</td>\n",
       "      <td>0</td>\n",
       "      <td>...</td>\n",
       "      <td>0</td>\n",
       "      <td>0</td>\n",
       "      <td>0</td>\n",
       "      <td>0</td>\n",
       "      <td>0</td>\n",
       "      <td>0</td>\n",
       "      <td>0</td>\n",
       "      <td>0</td>\n",
       "      <td>0</td>\n",
       "      <td>Agoura Hills</td>\n",
       "    </tr>\n",
       "    <tr>\n",
       "      <th>4</th>\n",
       "      <td>0</td>\n",
       "      <td>0</td>\n",
       "      <td>0</td>\n",
       "      <td>0</td>\n",
       "      <td>0</td>\n",
       "      <td>0</td>\n",
       "      <td>0</td>\n",
       "      <td>0</td>\n",
       "      <td>0</td>\n",
       "      <td>0</td>\n",
       "      <td>...</td>\n",
       "      <td>0</td>\n",
       "      <td>0</td>\n",
       "      <td>0</td>\n",
       "      <td>0</td>\n",
       "      <td>0</td>\n",
       "      <td>0</td>\n",
       "      <td>0</td>\n",
       "      <td>0</td>\n",
       "      <td>0</td>\n",
       "      <td>Agoura Hills</td>\n",
       "    </tr>\n",
       "  </tbody>\n",
       "</table>\n",
       "<p>5 rows × 320 columns</p>\n",
       "</div>"
      ],
      "text/plain": [
       "   ATM  Accessories Store  Advertising Agency  African Restaurant  \\\n",
       "0    0                  0                   0                   0   \n",
       "1    0                  0                   0                   0   \n",
       "2    0                  0                   0                   0   \n",
       "3    0                  0                   0                   0   \n",
       "4    0                  0                   0                   0   \n",
       "\n",
       "   Airport Service  American Restaurant  Animal Shelter  Antique Shop  Arcade  \\\n",
       "0                0                    0               0             0       0   \n",
       "1                0                    0               0             0       0   \n",
       "2                0                    0               0             0       0   \n",
       "3                0                    0               0             0       0   \n",
       "4                0                    0               0             0       0   \n",
       "\n",
       "   Arepa Restaurant      ...        Water Park  Whisky Bar  Wine Bar  \\\n",
       "0                 0      ...                 0           0         0   \n",
       "1                 0      ...                 0           0         0   \n",
       "2                 0      ...                 0           0         0   \n",
       "3                 0      ...                 0           0         0   \n",
       "4                 0      ...                 0           0         0   \n",
       "\n",
       "   Wine Shop  Winery  Wings Joint  Women's Store  Yoga Studio  Zoo  \\\n",
       "0          0       0            0              0            0    0   \n",
       "1          0       0            0              0            0    0   \n",
       "2          0       0            0              0            0    0   \n",
       "3          0       0            0              0            0    0   \n",
       "4          0       0            0              0            0    0   \n",
       "\n",
       "   Neighborhoods  \n",
       "0   Agoura Hills  \n",
       "1   Agoura Hills  \n",
       "2   Agoura Hills  \n",
       "3   Agoura Hills  \n",
       "4   Agoura Hills  \n",
       "\n",
       "[5 rows x 320 columns]"
      ]
     },
     "execution_count": 191,
     "metadata": {},
     "output_type": "execute_result"
    }
   ],
   "source": [
    "# convert each of the venue into column by utilizing dummies\n",
    "Los_Angeles_onehot = pd.get_dummies(Los_Angeles_venues[['Venue Category']], prefix=\"\", prefix_sep=\"\")\n",
    "\n",
    "# add neighborhoods column back to dataframe\n",
    "Los_Angeles_onehot['Neighborhoods'] = Los_Angeles_venues['Neighborhood'] \n",
    "\n",
    "# move neighborhood column to the first column\n",
    "fixed_columns = [Los_Angeles_onehot.columns[-1]] + list(Los_Angeles_onehot.columns[:-1])\n",
    "California_onehot = Los_Angeles_onehot[fixed_columns]\n",
    "\n",
    "Los_Angeles_onehot.head()"
   ]
  },
  {
   "cell_type": "code",
   "execution_count": 192,
   "metadata": {},
   "outputs": [
    {
     "data": {
      "text/plain": [
       "(3779, 320)"
      ]
     },
     "execution_count": 192,
     "metadata": {},
     "output_type": "execute_result"
    }
   ],
   "source": [
    "Los_Angeles_onehot.shape"
   ]
  },
  {
   "cell_type": "markdown",
   "metadata": {},
   "source": [
    "#### Group rows by neighborhood and take the mean of the frequency of occurrence of each category"
   ]
  },
  {
   "cell_type": "code",
   "execution_count": 193,
   "metadata": {},
   "outputs": [
    {
     "data": {
      "text/html": [
       "<div>\n",
       "<style scoped>\n",
       "    .dataframe tbody tr th:only-of-type {\n",
       "        vertical-align: middle;\n",
       "    }\n",
       "\n",
       "    .dataframe tbody tr th {\n",
       "        vertical-align: top;\n",
       "    }\n",
       "\n",
       "    .dataframe thead th {\n",
       "        text-align: right;\n",
       "    }\n",
       "</style>\n",
       "<table border=\"1\" class=\"dataframe\">\n",
       "  <thead>\n",
       "    <tr style=\"text-align: right;\">\n",
       "      <th></th>\n",
       "      <th>Neighborhoods</th>\n",
       "      <th>ATM</th>\n",
       "      <th>Accessories Store</th>\n",
       "      <th>Advertising Agency</th>\n",
       "      <th>African Restaurant</th>\n",
       "      <th>Airport Service</th>\n",
       "      <th>American Restaurant</th>\n",
       "      <th>Animal Shelter</th>\n",
       "      <th>Antique Shop</th>\n",
       "      <th>Arcade</th>\n",
       "      <th>...</th>\n",
       "      <th>Warehouse Store</th>\n",
       "      <th>Water Park</th>\n",
       "      <th>Whisky Bar</th>\n",
       "      <th>Wine Bar</th>\n",
       "      <th>Wine Shop</th>\n",
       "      <th>Winery</th>\n",
       "      <th>Wings Joint</th>\n",
       "      <th>Women's Store</th>\n",
       "      <th>Yoga Studio</th>\n",
       "      <th>Zoo</th>\n",
       "    </tr>\n",
       "  </thead>\n",
       "  <tbody>\n",
       "    <tr>\n",
       "      <th>0</th>\n",
       "      <td>Agoura Hills</td>\n",
       "      <td>0.0</td>\n",
       "      <td>0.0</td>\n",
       "      <td>0.0</td>\n",
       "      <td>0.0</td>\n",
       "      <td>0.0</td>\n",
       "      <td>0.142857</td>\n",
       "      <td>0.0</td>\n",
       "      <td>0.0</td>\n",
       "      <td>0.000000</td>\n",
       "      <td>...</td>\n",
       "      <td>0.0</td>\n",
       "      <td>0.0</td>\n",
       "      <td>0.0</td>\n",
       "      <td>0.00</td>\n",
       "      <td>0.0</td>\n",
       "      <td>0.0</td>\n",
       "      <td>0.0</td>\n",
       "      <td>0.0</td>\n",
       "      <td>0.0</td>\n",
       "      <td>0.0</td>\n",
       "    </tr>\n",
       "    <tr>\n",
       "      <th>1</th>\n",
       "      <td>Alhambra</td>\n",
       "      <td>0.0</td>\n",
       "      <td>0.0</td>\n",
       "      <td>0.0</td>\n",
       "      <td>0.0</td>\n",
       "      <td>0.0</td>\n",
       "      <td>0.000000</td>\n",
       "      <td>0.0</td>\n",
       "      <td>0.0</td>\n",
       "      <td>0.000000</td>\n",
       "      <td>...</td>\n",
       "      <td>0.0</td>\n",
       "      <td>0.0</td>\n",
       "      <td>0.0</td>\n",
       "      <td>0.01</td>\n",
       "      <td>0.0</td>\n",
       "      <td>0.0</td>\n",
       "      <td>0.0</td>\n",
       "      <td>0.0</td>\n",
       "      <td>0.0</td>\n",
       "      <td>0.0</td>\n",
       "    </tr>\n",
       "    <tr>\n",
       "      <th>2</th>\n",
       "      <td>Arcadia</td>\n",
       "      <td>0.0</td>\n",
       "      <td>0.0</td>\n",
       "      <td>0.0</td>\n",
       "      <td>0.0</td>\n",
       "      <td>0.0</td>\n",
       "      <td>0.069767</td>\n",
       "      <td>0.0</td>\n",
       "      <td>0.0</td>\n",
       "      <td>0.023256</td>\n",
       "      <td>...</td>\n",
       "      <td>0.0</td>\n",
       "      <td>0.0</td>\n",
       "      <td>0.0</td>\n",
       "      <td>0.00</td>\n",
       "      <td>0.0</td>\n",
       "      <td>0.0</td>\n",
       "      <td>0.0</td>\n",
       "      <td>0.0</td>\n",
       "      <td>0.0</td>\n",
       "      <td>0.0</td>\n",
       "    </tr>\n",
       "    <tr>\n",
       "      <th>3</th>\n",
       "      <td>Artesia</td>\n",
       "      <td>0.0</td>\n",
       "      <td>0.0</td>\n",
       "      <td>0.0</td>\n",
       "      <td>0.0</td>\n",
       "      <td>0.0</td>\n",
       "      <td>0.010204</td>\n",
       "      <td>0.0</td>\n",
       "      <td>0.0</td>\n",
       "      <td>0.000000</td>\n",
       "      <td>...</td>\n",
       "      <td>0.0</td>\n",
       "      <td>0.0</td>\n",
       "      <td>0.0</td>\n",
       "      <td>0.00</td>\n",
       "      <td>0.0</td>\n",
       "      <td>0.0</td>\n",
       "      <td>0.0</td>\n",
       "      <td>0.0</td>\n",
       "      <td>0.0</td>\n",
       "      <td>0.0</td>\n",
       "    </tr>\n",
       "    <tr>\n",
       "      <th>4</th>\n",
       "      <td>Avalon</td>\n",
       "      <td>0.0</td>\n",
       "      <td>0.0</td>\n",
       "      <td>0.0</td>\n",
       "      <td>0.0</td>\n",
       "      <td>0.0</td>\n",
       "      <td>0.000000</td>\n",
       "      <td>0.0</td>\n",
       "      <td>0.0</td>\n",
       "      <td>0.000000</td>\n",
       "      <td>...</td>\n",
       "      <td>0.0</td>\n",
       "      <td>0.0</td>\n",
       "      <td>0.0</td>\n",
       "      <td>0.00</td>\n",
       "      <td>0.0</td>\n",
       "      <td>0.0</td>\n",
       "      <td>0.0</td>\n",
       "      <td>0.0</td>\n",
       "      <td>0.0</td>\n",
       "      <td>0.0</td>\n",
       "    </tr>\n",
       "  </tbody>\n",
       "</table>\n",
       "<p>5 rows × 320 columns</p>\n",
       "</div>"
      ],
      "text/plain": [
       "  Neighborhoods  ATM  Accessories Store  Advertising Agency  \\\n",
       "0  Agoura Hills  0.0                0.0                 0.0   \n",
       "1      Alhambra  0.0                0.0                 0.0   \n",
       "2       Arcadia  0.0                0.0                 0.0   \n",
       "3       Artesia  0.0                0.0                 0.0   \n",
       "4        Avalon  0.0                0.0                 0.0   \n",
       "\n",
       "   African Restaurant  Airport Service  American Restaurant  Animal Shelter  \\\n",
       "0                 0.0              0.0             0.142857             0.0   \n",
       "1                 0.0              0.0             0.000000             0.0   \n",
       "2                 0.0              0.0             0.069767             0.0   \n",
       "3                 0.0              0.0             0.010204             0.0   \n",
       "4                 0.0              0.0             0.000000             0.0   \n",
       "\n",
       "   Antique Shop    Arcade ...   Warehouse Store  Water Park  Whisky Bar  \\\n",
       "0           0.0  0.000000 ...               0.0         0.0         0.0   \n",
       "1           0.0  0.000000 ...               0.0         0.0         0.0   \n",
       "2           0.0  0.023256 ...               0.0         0.0         0.0   \n",
       "3           0.0  0.000000 ...               0.0         0.0         0.0   \n",
       "4           0.0  0.000000 ...               0.0         0.0         0.0   \n",
       "\n",
       "   Wine Bar  Wine Shop  Winery  Wings Joint  Women's Store  Yoga Studio  Zoo  \n",
       "0      0.00        0.0     0.0          0.0            0.0          0.0  0.0  \n",
       "1      0.01        0.0     0.0          0.0            0.0          0.0  0.0  \n",
       "2      0.00        0.0     0.0          0.0            0.0          0.0  0.0  \n",
       "3      0.00        0.0     0.0          0.0            0.0          0.0  0.0  \n",
       "4      0.00        0.0     0.0          0.0            0.0          0.0  0.0  \n",
       "\n",
       "[5 rows x 320 columns]"
      ]
     },
     "execution_count": 193,
     "metadata": {},
     "output_type": "execute_result"
    }
   ],
   "source": [
    "Los_Angeles_grouped = Los_Angeles_onehot.groupby('Neighborhoods').mean().reset_index()\n",
    "Los_Angeles_grouped.head()"
   ]
  },
  {
   "cell_type": "markdown",
   "metadata": {},
   "source": [
    "The dataset **Los_Angeles_grouped** contains the frequency of each of the 319 venues for each city (neighborhood) in Los Angeles. Next, I will explore the most frequent venues for each city (neighborhood)."
   ]
  },
  {
   "cell_type": "markdown",
   "metadata": {},
   "source": [
    "#### Print each city (neighborhood) along with the top 5 most common venues (5 cities to save space)"
   ]
  },
  {
   "cell_type": "code",
   "execution_count": 194,
   "metadata": {},
   "outputs": [
    {
     "name": "stdout",
     "output_type": "stream",
     "text": [
      "-------Agoura Hills-------\n",
      "                 venue  freq\n",
      "0            Hotel Bar  0.29\n",
      "1                  Gym  0.14\n",
      "2  American Restaurant  0.14\n",
      "3                Hotel  0.14\n",
      "4          Summer Camp  0.14\n",
      "\n",
      "\n",
      "-------Alhambra-------\n",
      "                venue  freq\n",
      "0       Historic Site  0.13\n",
      "1  Spanish Restaurant  0.12\n",
      "2               Hotel  0.10\n",
      "3               Plaza  0.06\n",
      "4    Tapas Restaurant  0.05\n",
      "\n",
      "\n",
      "-------Arcadia-------\n",
      "                 venue  freq\n",
      "0            Racetrack  0.07\n",
      "1  American Restaurant  0.07\n",
      "2           Food Truck  0.07\n",
      "3       Sandwich Place  0.05\n",
      "4   Mexican Restaurant  0.05\n",
      "\n",
      "\n",
      "-------Artesia-------\n",
      "                  venue  freq\n",
      "0     Indian Restaurant  0.15\n",
      "1     Korean Restaurant  0.07\n",
      "2    Chinese Restaurant  0.06\n",
      "3         Grocery Store  0.04\n",
      "4  Fast Food Restaurant  0.04\n",
      "\n",
      "\n",
      "-------Avalon-------\n",
      "           venue  freq\n",
      "0          Hotel   0.2\n",
      "1    Supermarket   0.1\n",
      "2    Flea Market   0.1\n",
      "3       Tea Room   0.1\n",
      "4  Train Station   0.1\n",
      "\n",
      "\n"
     ]
    }
   ],
   "source": [
    "num_top_venues = 5\n",
    "for hood in Los_Angeles_grouped['Neighborhoods'][:5]:\n",
    "    print(\"-------\"+hood+\"-------\")\n",
    "    temp = Los_Angeles_grouped[Los_Angeles_grouped['Neighborhoods'] == hood].T.reset_index()\n",
    "    temp.columns = ['venue','freq']\n",
    "    temp = temp.loc[1:]\n",
    "    temp['freq'] = temp['freq'].astype(float)\n",
    "    temp = temp.round({'freq': 2})\n",
    "    print(temp.sort_values(by = ['freq'], ascending=False).reset_index(drop=True).head(num_top_venues))\n",
    "#    print(\"\")\n",
    "    print('\\n')"
   ]
  },
  {
   "cell_type": "markdown",
   "metadata": {},
   "source": [
    "#### Put the neighborhood along with the top 5 most common venues into a *pandas* dataframe"
   ]
  },
  {
   "cell_type": "markdown",
   "metadata": {},
   "source": [
    "First, write a function to sort the venues in descending order."
   ]
  },
  {
   "cell_type": "code",
   "execution_count": 195,
   "metadata": {},
   "outputs": [],
   "source": [
    "def return_most_common_venues(row, num_top_venues):\n",
    "    row_categories = row.iloc[1:]\n",
    "    row_categories_sorted = row_categories.sort_values(ascending=False)\n",
    "    \n",
    "    return row_categories_sorted.index.values[0:num_top_venues]"
   ]
  },
  {
   "cell_type": "markdown",
   "metadata": {},
   "source": [
    "Now let's create the new dataframe and display the top 1 venues for each neighborhood."
   ]
  },
  {
   "cell_type": "code",
   "execution_count": 196,
   "metadata": {},
   "outputs": [
    {
     "data": {
      "text/html": [
       "<div>\n",
       "<style scoped>\n",
       "    .dataframe tbody tr th:only-of-type {\n",
       "        vertical-align: middle;\n",
       "    }\n",
       "\n",
       "    .dataframe tbody tr th {\n",
       "        vertical-align: top;\n",
       "    }\n",
       "\n",
       "    .dataframe thead th {\n",
       "        text-align: right;\n",
       "    }\n",
       "</style>\n",
       "<table border=\"1\" class=\"dataframe\">\n",
       "  <thead>\n",
       "    <tr style=\"text-align: right;\">\n",
       "      <th></th>\n",
       "      <th>Neighborhoods</th>\n",
       "      <th>1st Most Common Venue</th>\n",
       "      <th>2nd Most Common Venue</th>\n",
       "      <th>3rd Most Common Venue</th>\n",
       "      <th>4th Most Common Venue</th>\n",
       "      <th>5th Most Common Venue</th>\n",
       "      <th>6th Most Common Venue</th>\n",
       "      <th>7th Most Common Venue</th>\n",
       "      <th>8th Most Common Venue</th>\n",
       "      <th>9th Most Common Venue</th>\n",
       "      <th>10th Most Common Venue</th>\n",
       "    </tr>\n",
       "  </thead>\n",
       "  <tbody>\n",
       "    <tr>\n",
       "      <th>0</th>\n",
       "      <td>Agoura Hills</td>\n",
       "      <td>Hotel Bar</td>\n",
       "      <td>American Restaurant</td>\n",
       "      <td>Park</td>\n",
       "      <td>Summer Camp</td>\n",
       "      <td>Gym</td>\n",
       "      <td>Hotel</td>\n",
       "      <td>Home Service</td>\n",
       "      <td>Dumpling Restaurant</td>\n",
       "      <td>Electronics Store</td>\n",
       "      <td>Empanada Restaurant</td>\n",
       "    </tr>\n",
       "    <tr>\n",
       "      <th>1</th>\n",
       "      <td>Alhambra</td>\n",
       "      <td>Historic Site</td>\n",
       "      <td>Spanish Restaurant</td>\n",
       "      <td>Hotel</td>\n",
       "      <td>Plaza</td>\n",
       "      <td>Tapas Restaurant</td>\n",
       "      <td>Bar</td>\n",
       "      <td>Restaurant</td>\n",
       "      <td>Scenic Lookout</td>\n",
       "      <td>Garden</td>\n",
       "      <td>Museum</td>\n",
       "    </tr>\n",
       "    <tr>\n",
       "      <th>2</th>\n",
       "      <td>Arcadia</td>\n",
       "      <td>Racetrack</td>\n",
       "      <td>American Restaurant</td>\n",
       "      <td>Food Truck</td>\n",
       "      <td>Mexican Restaurant</td>\n",
       "      <td>Sandwich Place</td>\n",
       "      <td>Lingerie Store</td>\n",
       "      <td>Tea Room</td>\n",
       "      <td>Bakery</td>\n",
       "      <td>Bar</td>\n",
       "      <td>Baseball Field</td>\n",
       "    </tr>\n",
       "    <tr>\n",
       "      <th>3</th>\n",
       "      <td>Artesia</td>\n",
       "      <td>Indian Restaurant</td>\n",
       "      <td>Korean Restaurant</td>\n",
       "      <td>Chinese Restaurant</td>\n",
       "      <td>Sandwich Place</td>\n",
       "      <td>Fast Food Restaurant</td>\n",
       "      <td>Pizza Place</td>\n",
       "      <td>Grocery Store</td>\n",
       "      <td>Filipino Restaurant</td>\n",
       "      <td>Coffee Shop</td>\n",
       "      <td>Thai Restaurant</td>\n",
       "    </tr>\n",
       "    <tr>\n",
       "      <th>4</th>\n",
       "      <td>Avalon</td>\n",
       "      <td>Hotel</td>\n",
       "      <td>Flea Market</td>\n",
       "      <td>Supermarket</td>\n",
       "      <td>Tea Room</td>\n",
       "      <td>Other Repair Shop</td>\n",
       "      <td>Gastropub</td>\n",
       "      <td>Train Station</td>\n",
       "      <td>Diner</td>\n",
       "      <td>Café</td>\n",
       "      <td>Field</td>\n",
       "    </tr>\n",
       "  </tbody>\n",
       "</table>\n",
       "</div>"
      ],
      "text/plain": [
       "  Neighborhoods 1st Most Common Venue 2nd Most Common Venue  \\\n",
       "0  Agoura Hills             Hotel Bar   American Restaurant   \n",
       "1      Alhambra         Historic Site    Spanish Restaurant   \n",
       "2       Arcadia             Racetrack   American Restaurant   \n",
       "3       Artesia     Indian Restaurant     Korean Restaurant   \n",
       "4        Avalon                 Hotel           Flea Market   \n",
       "\n",
       "  3rd Most Common Venue 4th Most Common Venue 5th Most Common Venue  \\\n",
       "0                  Park           Summer Camp                   Gym   \n",
       "1                 Hotel                 Plaza      Tapas Restaurant   \n",
       "2            Food Truck    Mexican Restaurant        Sandwich Place   \n",
       "3    Chinese Restaurant        Sandwich Place  Fast Food Restaurant   \n",
       "4           Supermarket              Tea Room     Other Repair Shop   \n",
       "\n",
       "  6th Most Common Venue 7th Most Common Venue 8th Most Common Venue  \\\n",
       "0                 Hotel          Home Service   Dumpling Restaurant   \n",
       "1                   Bar            Restaurant        Scenic Lookout   \n",
       "2        Lingerie Store              Tea Room                Bakery   \n",
       "3           Pizza Place         Grocery Store   Filipino Restaurant   \n",
       "4             Gastropub         Train Station                 Diner   \n",
       "\n",
       "  9th Most Common Venue 10th Most Common Venue  \n",
       "0     Electronics Store    Empanada Restaurant  \n",
       "1                Garden                 Museum  \n",
       "2                   Bar         Baseball Field  \n",
       "3           Coffee Shop        Thai Restaurant  \n",
       "4                  Café                  Field  "
      ]
     },
     "execution_count": 196,
     "metadata": {},
     "output_type": "execute_result"
    }
   ],
   "source": [
    "num_top_venues = 10\n",
    "\n",
    "indicators = ['st', 'nd', 'rd']\n",
    "\n",
    "# create columns according to number of top venues\n",
    "columns = ['Neighborhoods']\n",
    "for ind in np.arange(num_top_venues):\n",
    "    try:\n",
    "        columns.append('{}{} Most Common Venue'.format(ind+1, indicators[ind]))\n",
    "    except:\n",
    "        columns.append('{}th Most Common Venue'.format(ind+1))\n",
    "\n",
    "# create a new dataframe\n",
    "neighborhoods_venues_sorted = pd.DataFrame(columns=columns)\n",
    "neighborhoods_venues_sorted['Neighborhoods'] = Los_Angeles_grouped['Neighborhoods']\n",
    "\n",
    "for ind in np.arange(Los_Angeles_grouped.shape[0]):\n",
    "    neighborhoods_venues_sorted.iloc[ind, 1:] = return_most_common_venues(Los_Angeles_grouped.iloc[ind, :], num_top_venues)\n",
    "\n",
    "neighborhoods_venues_sorted.head()"
   ]
  },
  {
   "cell_type": "markdown",
   "metadata": {},
   "source": [
    "Since there is limited access to the Foursqure API everyday. The data are very evenly distributed, I need to further check the outputs tomorrow. But the process are correct."
   ]
  },
  {
   "cell_type": "markdown",
   "metadata": {},
   "source": [
    "## 4. Cluster Neighborhoods"
   ]
  },
  {
   "cell_type": "markdown",
   "metadata": {},
   "source": [
    "Run *k*-means to cluster the city (neighborhood) in California into 5 clusters."
   ]
  },
  {
   "cell_type": "code",
   "execution_count": 197,
   "metadata": {},
   "outputs": [
    {
     "data": {
      "text/plain": [
       "array([0, 1, 1, 1, 1, 3, 3, 3, 3, 1], dtype=int32)"
      ]
     },
     "execution_count": 197,
     "metadata": {},
     "output_type": "execute_result"
    }
   ],
   "source": [
    "# set number of clusters\n",
    "kclusters = 5\n",
    "\n",
    "Los_Angeles_grouped_clustering = Los_Angeles_grouped.drop('Neighborhoods', axis = 1)\n",
    "\n",
    "# run k-means clustering\n",
    "kmeans = KMeans(n_clusters=kclusters, random_state=0).fit(Los_Angeles_grouped_clustering)\n",
    "\n",
    "# check cluster labels generated for each row in the dataframe\n",
    "kmeans.labels_[0:10] "
   ]
  },
  {
   "cell_type": "markdown",
   "metadata": {},
   "source": [
    "Now the neighborhoods are clustered into five groups based on their characterisitcs, the frequency of the venue categories here. "
   ]
  },
  {
   "cell_type": "markdown",
   "metadata": {},
   "source": [
    "Create a new dataframe that includes the cluster as well as the top 10 venues for each neighborhood."
   ]
  },
  {
   "cell_type": "code",
   "execution_count": 198,
   "metadata": {},
   "outputs": [
    {
     "data": {
      "text/html": [
       "<div>\n",
       "<style scoped>\n",
       "    .dataframe tbody tr th:only-of-type {\n",
       "        vertical-align: middle;\n",
       "    }\n",
       "\n",
       "    .dataframe tbody tr th {\n",
       "        vertical-align: top;\n",
       "    }\n",
       "\n",
       "    .dataframe thead th {\n",
       "        text-align: right;\n",
       "    }\n",
       "</style>\n",
       "<table border=\"1\" class=\"dataframe\">\n",
       "  <thead>\n",
       "    <tr style=\"text-align: right;\">\n",
       "      <th></th>\n",
       "      <th>Name</th>\n",
       "      <th>Type</th>\n",
       "      <th>County</th>\n",
       "      <th>Population(2010)</th>\n",
       "      <th>Land area (sq mi)</th>\n",
       "      <th>Land area (km^2)</th>\n",
       "      <th>Incorporated</th>\n",
       "      <th>Latitude</th>\n",
       "      <th>Longitude</th>\n",
       "      <th>Cluster Labels</th>\n",
       "      <th>1st Most Common Venue</th>\n",
       "      <th>2nd Most Common Venue</th>\n",
       "      <th>3rd Most Common Venue</th>\n",
       "      <th>4th Most Common Venue</th>\n",
       "      <th>5th Most Common Venue</th>\n",
       "      <th>6th Most Common Venue</th>\n",
       "      <th>7th Most Common Venue</th>\n",
       "      <th>8th Most Common Venue</th>\n",
       "      <th>9th Most Common Venue</th>\n",
       "      <th>10th Most Common Venue</th>\n",
       "    </tr>\n",
       "  </thead>\n",
       "  <tbody>\n",
       "    <tr>\n",
       "      <th>0</th>\n",
       "      <td>Agoura Hills</td>\n",
       "      <td>City</td>\n",
       "      <td>Los Angeles</td>\n",
       "      <td>20,330</td>\n",
       "      <td>7.79</td>\n",
       "      <td>20.2</td>\n",
       "      <td>December 8, 1982</td>\n",
       "      <td>34.136395</td>\n",
       "      <td>-118.774535</td>\n",
       "      <td>0.0</td>\n",
       "      <td>Hotel Bar</td>\n",
       "      <td>American Restaurant</td>\n",
       "      <td>Park</td>\n",
       "      <td>Summer Camp</td>\n",
       "      <td>Gym</td>\n",
       "      <td>Hotel</td>\n",
       "      <td>Home Service</td>\n",
       "      <td>Dumpling Restaurant</td>\n",
       "      <td>Electronics Store</td>\n",
       "      <td>Empanada Restaurant</td>\n",
       "    </tr>\n",
       "    <tr>\n",
       "      <th>1</th>\n",
       "      <td>Alhambra</td>\n",
       "      <td>City</td>\n",
       "      <td>Los Angeles</td>\n",
       "      <td>83,089</td>\n",
       "      <td>7.63</td>\n",
       "      <td>19.8</td>\n",
       "      <td>July 11, 1903</td>\n",
       "      <td>37.176036</td>\n",
       "      <td>-3.587974</td>\n",
       "      <td>1.0</td>\n",
       "      <td>Historic Site</td>\n",
       "      <td>Spanish Restaurant</td>\n",
       "      <td>Hotel</td>\n",
       "      <td>Plaza</td>\n",
       "      <td>Tapas Restaurant</td>\n",
       "      <td>Bar</td>\n",
       "      <td>Restaurant</td>\n",
       "      <td>Scenic Lookout</td>\n",
       "      <td>Garden</td>\n",
       "      <td>Museum</td>\n",
       "    </tr>\n",
       "    <tr>\n",
       "      <th>2</th>\n",
       "      <td>Arcadia</td>\n",
       "      <td>City</td>\n",
       "      <td>Los Angeles</td>\n",
       "      <td>56,364</td>\n",
       "      <td>10.93</td>\n",
       "      <td>28.3</td>\n",
       "      <td>August 5, 1903</td>\n",
       "      <td>34.136207</td>\n",
       "      <td>-118.040150</td>\n",
       "      <td>1.0</td>\n",
       "      <td>Racetrack</td>\n",
       "      <td>American Restaurant</td>\n",
       "      <td>Food Truck</td>\n",
       "      <td>Mexican Restaurant</td>\n",
       "      <td>Sandwich Place</td>\n",
       "      <td>Lingerie Store</td>\n",
       "      <td>Tea Room</td>\n",
       "      <td>Bakery</td>\n",
       "      <td>Bar</td>\n",
       "      <td>Baseball Field</td>\n",
       "    </tr>\n",
       "    <tr>\n",
       "      <th>3</th>\n",
       "      <td>Artesia</td>\n",
       "      <td>City</td>\n",
       "      <td>Los Angeles</td>\n",
       "      <td>16,522</td>\n",
       "      <td>1.62</td>\n",
       "      <td>4.2</td>\n",
       "      <td>May 29, 1959</td>\n",
       "      <td>33.869020</td>\n",
       "      <td>-118.079620</td>\n",
       "      <td>1.0</td>\n",
       "      <td>Indian Restaurant</td>\n",
       "      <td>Korean Restaurant</td>\n",
       "      <td>Chinese Restaurant</td>\n",
       "      <td>Sandwich Place</td>\n",
       "      <td>Fast Food Restaurant</td>\n",
       "      <td>Pizza Place</td>\n",
       "      <td>Grocery Store</td>\n",
       "      <td>Filipino Restaurant</td>\n",
       "      <td>Coffee Shop</td>\n",
       "      <td>Thai Restaurant</td>\n",
       "    </tr>\n",
       "    <tr>\n",
       "      <th>4</th>\n",
       "      <td>Avalon</td>\n",
       "      <td>City</td>\n",
       "      <td>Los Angeles</td>\n",
       "      <td>3,728</td>\n",
       "      <td>2.94</td>\n",
       "      <td>7.6</td>\n",
       "      <td>June 26, 1913</td>\n",
       "      <td>47.488537</td>\n",
       "      <td>3.907066</td>\n",
       "      <td>1.0</td>\n",
       "      <td>Hotel</td>\n",
       "      <td>Flea Market</td>\n",
       "      <td>Supermarket</td>\n",
       "      <td>Tea Room</td>\n",
       "      <td>Other Repair Shop</td>\n",
       "      <td>Gastropub</td>\n",
       "      <td>Train Station</td>\n",
       "      <td>Diner</td>\n",
       "      <td>Café</td>\n",
       "      <td>Field</td>\n",
       "    </tr>\n",
       "  </tbody>\n",
       "</table>\n",
       "</div>"
      ],
      "text/plain": [
       "           Name  Type       County Population(2010) Land area (sq mi)  \\\n",
       "0  Agoura Hills  City  Los Angeles           20,330              7.79   \n",
       "1      Alhambra  City  Los Angeles           83,089              7.63   \n",
       "2       Arcadia  City  Los Angeles           56,364             10.93   \n",
       "3       Artesia  City  Los Angeles           16,522              1.62   \n",
       "4        Avalon  City  Los Angeles            3,728              2.94   \n",
       "\n",
       "  Land area (km^2)      Incorporated   Latitude   Longitude  Cluster Labels  \\\n",
       "0             20.2  December 8, 1982  34.136395 -118.774535             0.0   \n",
       "1             19.8     July 11, 1903  37.176036   -3.587974             1.0   \n",
       "2             28.3    August 5, 1903  34.136207 -118.040150             1.0   \n",
       "3              4.2      May 29, 1959  33.869020 -118.079620             1.0   \n",
       "4              7.6     June 26, 1913  47.488537    3.907066             1.0   \n",
       "\n",
       "  1st Most Common Venue 2nd Most Common Venue 3rd Most Common Venue  \\\n",
       "0             Hotel Bar   American Restaurant                  Park   \n",
       "1         Historic Site    Spanish Restaurant                 Hotel   \n",
       "2             Racetrack   American Restaurant            Food Truck   \n",
       "3     Indian Restaurant     Korean Restaurant    Chinese Restaurant   \n",
       "4                 Hotel           Flea Market           Supermarket   \n",
       "\n",
       "  4th Most Common Venue 5th Most Common Venue 6th Most Common Venue  \\\n",
       "0           Summer Camp                   Gym                 Hotel   \n",
       "1                 Plaza      Tapas Restaurant                   Bar   \n",
       "2    Mexican Restaurant        Sandwich Place        Lingerie Store   \n",
       "3        Sandwich Place  Fast Food Restaurant           Pizza Place   \n",
       "4              Tea Room     Other Repair Shop             Gastropub   \n",
       "\n",
       "  7th Most Common Venue 8th Most Common Venue 9th Most Common Venue  \\\n",
       "0          Home Service   Dumpling Restaurant     Electronics Store   \n",
       "1            Restaurant        Scenic Lookout                Garden   \n",
       "2              Tea Room                Bakery                   Bar   \n",
       "3         Grocery Store   Filipino Restaurant           Coffee Shop   \n",
       "4         Train Station                 Diner                  Café   \n",
       "\n",
       "  10th Most Common Venue  \n",
       "0    Empanada Restaurant  \n",
       "1                 Museum  \n",
       "2         Baseball Field  \n",
       "3        Thai Restaurant  \n",
       "4                  Field  "
      ]
     },
     "execution_count": 198,
     "metadata": {},
     "output_type": "execute_result"
    }
   ],
   "source": [
    "Los_Angeles_merged = Los_Angeles_df\n",
    "\n",
    "# add clustering labels\n",
    "Los_Angeles_merged['Cluster Labels'] = pd.Series(kmeans.labels_)\n",
    "\n",
    "# merge OCoT_grouped with OCoT_df to add latitude/longitude for each neighborhood\n",
    "Los_Angeles_merged = Los_Angeles_merged.join(neighborhoods_venues_sorted.set_index('Neighborhoods'), on='Name')\n",
    "\n",
    "Los_Angeles_merged.head() # check the last columns!"
   ]
  },
  {
   "cell_type": "code",
   "execution_count": 199,
   "metadata": {},
   "outputs": [],
   "source": [
    "# drop the missing values\n",
    "Los_Angeles_merged = Los_Angeles_merged.dropna()"
   ]
  },
  {
   "cell_type": "code",
   "execution_count": 200,
   "metadata": {},
   "outputs": [],
   "source": [
    "# convert the labels into integer\n",
    "Los_Angeles_merged['Cluster Labels'] = Los_Angeles_merged['Cluster Labels'].astype(int)"
   ]
  },
  {
   "cell_type": "markdown",
   "metadata": {},
   "source": [
    "Visualize the resulting clusters"
   ]
  },
  {
   "cell_type": "code",
   "execution_count": 201,
   "metadata": {},
   "outputs": [
    {
     "data": {
      "text/html": [
       "<div style=\"width:100%;\"><div style=\"position:relative;width:100%;height:0;padding-bottom:60%;\"><iframe src=\"data:text/html;charset=utf-8;base64,PCFET0NUWVBFIGh0bWw+CjxoZWFkPiAgICAKICAgIDxtZXRhIGh0dHAtZXF1aXY9ImNvbnRlbnQtdHlwZSIgY29udGVudD0idGV4dC9odG1sOyBjaGFyc2V0PVVURi04IiAvPgogICAgPHNjcmlwdD5MX1BSRUZFUl9DQU5WQVMgPSBmYWxzZTsgTF9OT19UT1VDSCA9IGZhbHNlOyBMX0RJU0FCTEVfM0QgPSBmYWxzZTs8L3NjcmlwdD4KICAgIDxzY3JpcHQgc3JjPSJodHRwczovL2Nkbi5qc2RlbGl2ci5uZXQvbnBtL2xlYWZsZXRAMS4yLjAvZGlzdC9sZWFmbGV0LmpzIj48L3NjcmlwdD4KICAgIDxzY3JpcHQgc3JjPSJodHRwczovL2FqYXguZ29vZ2xlYXBpcy5jb20vYWpheC9saWJzL2pxdWVyeS8xLjExLjEvanF1ZXJ5Lm1pbi5qcyI+PC9zY3JpcHQ+CiAgICA8c2NyaXB0IHNyYz0iaHR0cHM6Ly9tYXhjZG4uYm9vdHN0cmFwY2RuLmNvbS9ib290c3RyYXAvMy4yLjAvanMvYm9vdHN0cmFwLm1pbi5qcyI+PC9zY3JpcHQ+CiAgICA8c2NyaXB0IHNyYz0iaHR0cHM6Ly9jZG5qcy5jbG91ZGZsYXJlLmNvbS9hamF4L2xpYnMvTGVhZmxldC5hd2Vzb21lLW1hcmtlcnMvMi4wLjIvbGVhZmxldC5hd2Vzb21lLW1hcmtlcnMuanMiPjwvc2NyaXB0PgogICAgPGxpbmsgcmVsPSJzdHlsZXNoZWV0IiBocmVmPSJodHRwczovL2Nkbi5qc2RlbGl2ci5uZXQvbnBtL2xlYWZsZXRAMS4yLjAvZGlzdC9sZWFmbGV0LmNzcyIvPgogICAgPGxpbmsgcmVsPSJzdHlsZXNoZWV0IiBocmVmPSJodHRwczovL21heGNkbi5ib290c3RyYXBjZG4uY29tL2Jvb3RzdHJhcC8zLjIuMC9jc3MvYm9vdHN0cmFwLm1pbi5jc3MiLz4KICAgIDxsaW5rIHJlbD0ic3R5bGVzaGVldCIgaHJlZj0iaHR0cHM6Ly9tYXhjZG4uYm9vdHN0cmFwY2RuLmNvbS9ib290c3RyYXAvMy4yLjAvY3NzL2Jvb3RzdHJhcC10aGVtZS5taW4uY3NzIi8+CiAgICA8bGluayByZWw9InN0eWxlc2hlZXQiIGhyZWY9Imh0dHBzOi8vbWF4Y2RuLmJvb3RzdHJhcGNkbi5jb20vZm9udC1hd2Vzb21lLzQuNi4zL2Nzcy9mb250LWF3ZXNvbWUubWluLmNzcyIvPgogICAgPGxpbmsgcmVsPSJzdHlsZXNoZWV0IiBocmVmPSJodHRwczovL2NkbmpzLmNsb3VkZmxhcmUuY29tL2FqYXgvbGlicy9MZWFmbGV0LmF3ZXNvbWUtbWFya2Vycy8yLjAuMi9sZWFmbGV0LmF3ZXNvbWUtbWFya2Vycy5jc3MiLz4KICAgIDxsaW5rIHJlbD0ic3R5bGVzaGVldCIgaHJlZj0iaHR0cHM6Ly9yYXdnaXQuY29tL3B5dGhvbi12aXN1YWxpemF0aW9uL2ZvbGl1bS9tYXN0ZXIvZm9saXVtL3RlbXBsYXRlcy9sZWFmbGV0LmF3ZXNvbWUucm90YXRlLmNzcyIvPgogICAgPHN0eWxlPmh0bWwsIGJvZHkge3dpZHRoOiAxMDAlO2hlaWdodDogMTAwJTttYXJnaW46IDA7cGFkZGluZzogMDt9PC9zdHlsZT4KICAgIDxzdHlsZT4jbWFwIHtwb3NpdGlvbjphYnNvbHV0ZTt0b3A6MDtib3R0b206MDtyaWdodDowO2xlZnQ6MDt9PC9zdHlsZT4KICAgIAogICAgICAgICAgICA8c3R5bGU+ICNtYXBfNDIyOTUyODhmODU4NGI2ZGEyMzcyMjYzN2I2ZGY4Y2MgewogICAgICAgICAgICAgICAgcG9zaXRpb24gOiByZWxhdGl2ZTsKICAgICAgICAgICAgICAgIHdpZHRoIDogMTAwLjAlOwogICAgICAgICAgICAgICAgaGVpZ2h0OiAxMDAuMCU7CiAgICAgICAgICAgICAgICBsZWZ0OiAwLjAlOwogICAgICAgICAgICAgICAgdG9wOiAwLjAlOwogICAgICAgICAgICAgICAgfQogICAgICAgICAgICA8L3N0eWxlPgogICAgICAgIAo8L2hlYWQ+Cjxib2R5PiAgICAKICAgIAogICAgICAgICAgICA8ZGl2IGNsYXNzPSJmb2xpdW0tbWFwIiBpZD0ibWFwXzQyMjk1Mjg4Zjg1ODRiNmRhMjM3MjI2MzdiNmRmOGNjIiA+PC9kaXY+CiAgICAgICAgCjwvYm9keT4KPHNjcmlwdD4gICAgCiAgICAKCiAgICAgICAgICAgIAogICAgICAgICAgICAgICAgdmFyIGJvdW5kcyA9IG51bGw7CiAgICAgICAgICAgIAoKICAgICAgICAgICAgdmFyIG1hcF80MjI5NTI4OGY4NTg0YjZkYTIzNzIyNjM3YjZkZjhjYyA9IEwubWFwKAogICAgICAgICAgICAgICAgICAgICAgICAgICAgICAgICAgJ21hcF80MjI5NTI4OGY4NTg0YjZkYTIzNzIyNjM3YjZkZjhjYycsCiAgICAgICAgICAgICAgICAgICAgICAgICAgICAgICAgICB7Y2VudGVyOiBbMzMuOTc0ODkzMiwtMTE4LjAzMzY5NzVdLAogICAgICAgICAgICAgICAgICAgICAgICAgICAgICAgICAgem9vbTogMTEsCiAgICAgICAgICAgICAgICAgICAgICAgICAgICAgICAgICBtYXhCb3VuZHM6IGJvdW5kcywKICAgICAgICAgICAgICAgICAgICAgICAgICAgICAgICAgIGxheWVyczogW10sCiAgICAgICAgICAgICAgICAgICAgICAgICAgICAgICAgICB3b3JsZENvcHlKdW1wOiBmYWxzZSwKICAgICAgICAgICAgICAgICAgICAgICAgICAgICAgICAgIGNyczogTC5DUlMuRVBTRzM4NTcKICAgICAgICAgICAgICAgICAgICAgICAgICAgICAgICAgfSk7CiAgICAgICAgICAgIAogICAgICAgIAogICAgCiAgICAgICAgICAgIHZhciB0aWxlX2xheWVyXzU4YjVjNTc4NGMxYjQ3MWJiYzZiY2IxODZkNTE5NDg4ID0gTC50aWxlTGF5ZXIoCiAgICAgICAgICAgICAgICAnaHR0cHM6Ly97c30udGlsZS5vcGVuc3RyZWV0bWFwLm9yZy97en0ve3h9L3t5fS5wbmcnLAogICAgICAgICAgICAgICAgewogICJhdHRyaWJ1dGlvbiI6IG51bGwsCiAgImRldGVjdFJldGluYSI6IGZhbHNlLAogICJtYXhab29tIjogMTgsCiAgIm1pblpvb20iOiAxLAogICJub1dyYXAiOiBmYWxzZSwKICAic3ViZG9tYWlucyI6ICJhYmMiCn0KICAgICAgICAgICAgICAgICkuYWRkVG8obWFwXzQyMjk1Mjg4Zjg1ODRiNmRhMjM3MjI2MzdiNmRmOGNjKTsKICAgICAgICAKICAgIAogICAgICAgICAgICB2YXIgY2lyY2xlX21hcmtlcl8zYzgwMzMxOTc2OTU0ZGFjYmYxMWE2ZDY5YWI1MjUyNCA9IEwuY2lyY2xlTWFya2VyKAogICAgICAgICAgICAgICAgWzM0LjEzNjM5NDUsLTExOC43NzQ1MzQ4XSwKICAgICAgICAgICAgICAgIHsKICAiYnViYmxpbmdNb3VzZUV2ZW50cyI6IHRydWUsCiAgImNvbG9yIjogIiNmZjAwMDAiLAogICJkYXNoQXJyYXkiOiBudWxsLAogICJkYXNoT2Zmc2V0IjogbnVsbCwKICAiZmlsbCI6IHRydWUsCiAgImZpbGxDb2xvciI6ICIjZmYwMDAwIiwKICAiZmlsbE9wYWNpdHkiOiAwLjcsCiAgImZpbGxSdWxlIjogImV2ZW5vZGQiLAogICJsaW5lQ2FwIjogInJvdW5kIiwKICAibGluZUpvaW4iOiAicm91bmQiLAogICJvcGFjaXR5IjogMS4wLAogICJyYWRpdXMiOiA1LAogICJzdHJva2UiOiB0cnVlLAogICJ3ZWlnaHQiOiAzCn0KICAgICAgICAgICAgICAgICkuYWRkVG8obWFwXzQyMjk1Mjg4Zjg1ODRiNmRhMjM3MjI2MzdiNmRmOGNjKTsKICAgICAgICAgICAgCiAgICAKICAgICAgICAgICAgdmFyIHBvcHVwXzJlYWJhM2I1NGI0MjQwNGQ5ZWE3NDkxMjkwZjU3ZDNlID0gTC5wb3B1cCh7bWF4V2lkdGg6ICczMDAnfSk7CgogICAgICAgICAgICAKICAgICAgICAgICAgICAgIHZhciBodG1sXzJjZTAxOGRmNDRlNzQ4NmE5YWFkY2Q4ZjgxYjQ3YjJiID0gJCgnPGRpdiBpZD0iaHRtbF8yY2UwMThkZjQ0ZTc0ODZhOWFhZGNkOGY4MWI0N2IyYiIgc3R5bGU9IndpZHRoOiAxMDAuMCU7IGhlaWdodDogMTAwLjAlOyI+QWdvdXJhIEhpbGxzIENsdXN0ZXIgMDwvZGl2PicpWzBdOwogICAgICAgICAgICAgICAgcG9wdXBfMmVhYmEzYjU0YjQyNDA0ZDllYTc0OTEyOTBmNTdkM2Uuc2V0Q29udGVudChodG1sXzJjZTAxOGRmNDRlNzQ4NmE5YWFkY2Q4ZjgxYjQ3YjJiKTsKICAgICAgICAgICAgCgogICAgICAgICAgICBjaXJjbGVfbWFya2VyXzNjODAzMzE5NzY5NTRkYWNiZjExYTZkNjlhYjUyNTI0LmJpbmRQb3B1cChwb3B1cF8yZWFiYTNiNTRiNDI0MDRkOWVhNzQ5MTI5MGY1N2QzZSk7CgogICAgICAgICAgICAKICAgICAgICAKICAgIAogICAgICAgICAgICB2YXIgY2lyY2xlX21hcmtlcl84OTBlY2FmZmQ5ZjQ0OWQ2YjBlZjgyNzJmNTk0ZDVjNCA9IEwuY2lyY2xlTWFya2VyKAogICAgICAgICAgICAgICAgWzM3LjE3NjAzNjEsLTMuNTg3OTc0MzMxMzg2OTldLAogICAgICAgICAgICAgICAgewogICJidWJibGluZ01vdXNlRXZlbnRzIjogdHJ1ZSwKICAiY29sb3IiOiAiIzgwMDBmZiIsCiAgImRhc2hBcnJheSI6IG51bGwsCiAgImRhc2hPZmZzZXQiOiBudWxsLAogICJmaWxsIjogdHJ1ZSwKICAiZmlsbENvbG9yIjogIiM4MDAwZmYiLAogICJmaWxsT3BhY2l0eSI6IDAuNywKICAiZmlsbFJ1bGUiOiAiZXZlbm9kZCIsCiAgImxpbmVDYXAiOiAicm91bmQiLAogICJsaW5lSm9pbiI6ICJyb3VuZCIsCiAgIm9wYWNpdHkiOiAxLjAsCiAgInJhZGl1cyI6IDUsCiAgInN0cm9rZSI6IHRydWUsCiAgIndlaWdodCI6IDMKfQogICAgICAgICAgICAgICAgKS5hZGRUbyhtYXBfNDIyOTUyODhmODU4NGI2ZGEyMzcyMjYzN2I2ZGY4Y2MpOwogICAgICAgICAgICAKICAgIAogICAgICAgICAgICB2YXIgcG9wdXBfYzc0NDA2ZWE4MTFkNDcwNmJmOTAwN2RhYTEzZDdmNzIgPSBMLnBvcHVwKHttYXhXaWR0aDogJzMwMCd9KTsKCiAgICAgICAgICAgIAogICAgICAgICAgICAgICAgdmFyIGh0bWxfNzNiZjM0NTdlOGYxNGZjNjlhY2JmY2U4ZDgxYWMxNjYgPSAkKCc8ZGl2IGlkPSJodG1sXzczYmYzNDU3ZThmMTRmYzY5YWNiZmNlOGQ4MWFjMTY2IiBzdHlsZT0id2lkdGg6IDEwMC4wJTsgaGVpZ2h0OiAxMDAuMCU7Ij5BbGhhbWJyYSBDbHVzdGVyIDE8L2Rpdj4nKVswXTsKICAgICAgICAgICAgICAgIHBvcHVwX2M3NDQwNmVhODExZDQ3MDZiZjkwMDdkYWExM2Q3ZjcyLnNldENvbnRlbnQoaHRtbF83M2JmMzQ1N2U4ZjE0ZmM2OWFjYmZjZThkODFhYzE2Nik7CiAgICAgICAgICAgIAoKICAgICAgICAgICAgY2lyY2xlX21hcmtlcl84OTBlY2FmZmQ5ZjQ0OWQ2YjBlZjgyNzJmNTk0ZDVjNC5iaW5kUG9wdXAocG9wdXBfYzc0NDA2ZWE4MTFkNDcwNmJmOTAwN2RhYTEzZDdmNzIpOwoKICAgICAgICAgICAgCiAgICAgICAgCiAgICAKICAgICAgICAgICAgdmFyIGNpcmNsZV9tYXJrZXJfMzBiYjA2Y2MxODQ0NDNhNTk3OTljMWUxNTc0ZTgwN2YgPSBMLmNpcmNsZU1hcmtlcigKICAgICAgICAgICAgICAgIFszNC4xMzYyMDc1LC0xMTguMDQwMTQ5N10sCiAgICAgICAgICAgICAgICB7CiAgImJ1YmJsaW5nTW91c2VFdmVudHMiOiB0cnVlLAogICJjb2xvciI6ICIjODAwMGZmIiwKICAiZGFzaEFycmF5IjogbnVsbCwKICAiZGFzaE9mZnNldCI6IG51bGwsCiAgImZpbGwiOiB0cnVlLAogICJmaWxsQ29sb3IiOiAiIzgwMDBmZiIsCiAgImZpbGxPcGFjaXR5IjogMC43LAogICJmaWxsUnVsZSI6ICJldmVub2RkIiwKICAibGluZUNhcCI6ICJyb3VuZCIsCiAgImxpbmVKb2luIjogInJvdW5kIiwKICAib3BhY2l0eSI6IDEuMCwKICAicmFkaXVzIjogNSwKICAic3Ryb2tlIjogdHJ1ZSwKICAid2VpZ2h0IjogMwp9CiAgICAgICAgICAgICAgICApLmFkZFRvKG1hcF80MjI5NTI4OGY4NTg0YjZkYTIzNzIyNjM3YjZkZjhjYyk7CiAgICAgICAgICAgIAogICAgCiAgICAgICAgICAgIHZhciBwb3B1cF8xNDRmOTQ2MDczOTQ0ZTQzOTMzZmM1MmQ0Y2EyNDgxNSA9IEwucG9wdXAoe21heFdpZHRoOiAnMzAwJ30pOwoKICAgICAgICAgICAgCiAgICAgICAgICAgICAgICB2YXIgaHRtbF82ZmRjNzA2ODIyOGY0MGE1YWFjMDQzNjA2MmMyMTE5ZSA9ICQoJzxkaXYgaWQ9Imh0bWxfNmZkYzcwNjgyMjhmNDBhNWFhYzA0MzYwNjJjMjExOWUiIHN0eWxlPSJ3aWR0aDogMTAwLjAlOyBoZWlnaHQ6IDEwMC4wJTsiPkFyY2FkaWEgQ2x1c3RlciAxPC9kaXY+JylbMF07CiAgICAgICAgICAgICAgICBwb3B1cF8xNDRmOTQ2MDczOTQ0ZTQzOTMzZmM1MmQ0Y2EyNDgxNS5zZXRDb250ZW50KGh0bWxfNmZkYzcwNjgyMjhmNDBhNWFhYzA0MzYwNjJjMjExOWUpOwogICAgICAgICAgICAKCiAgICAgICAgICAgIGNpcmNsZV9tYXJrZXJfMzBiYjA2Y2MxODQ0NDNhNTk3OTljMWUxNTc0ZTgwN2YuYmluZFBvcHVwKHBvcHVwXzE0NGY5NDYwNzM5NDRlNDM5MzNmYzUyZDRjYTI0ODE1KTsKCiAgICAgICAgICAgIAogICAgICAgIAogICAgCiAgICAgICAgICAgIHZhciBjaXJjbGVfbWFya2VyXzA5NTJjYTFjZWEzOTQxZjM5M2QzODBjOTQwMmMxNmY0ID0gTC5jaXJjbGVNYXJrZXIoCiAgICAgICAgICAgICAgICBbMzMuODY5MDE5NywtMTE4LjA3OTYxOTVdLAogICAgICAgICAgICAgICAgewogICJidWJibGluZ01vdXNlRXZlbnRzIjogdHJ1ZSwKICAiY29sb3IiOiAiIzgwMDBmZiIsCiAgImRhc2hBcnJheSI6IG51bGwsCiAgImRhc2hPZmZzZXQiOiBudWxsLAogICJmaWxsIjogdHJ1ZSwKICAiZmlsbENvbG9yIjogIiM4MDAwZmYiLAogICJmaWxsT3BhY2l0eSI6IDAuNywKICAiZmlsbFJ1bGUiOiAiZXZlbm9kZCIsCiAgImxpbmVDYXAiOiAicm91bmQiLAogICJsaW5lSm9pbiI6ICJyb3VuZCIsCiAgIm9wYWNpdHkiOiAxLjAsCiAgInJhZGl1cyI6IDUsCiAgInN0cm9rZSI6IHRydWUsCiAgIndlaWdodCI6IDMKfQogICAgICAgICAgICAgICAgKS5hZGRUbyhtYXBfNDIyOTUyODhmODU4NGI2ZGEyMzcyMjYzN2I2ZGY4Y2MpOwogICAgICAgICAgICAKICAgIAogICAgICAgICAgICB2YXIgcG9wdXBfNDEyMzJjYWJmYmYwNDIyM2E5ZmRjNmUwN2JmNzE5NDcgPSBMLnBvcHVwKHttYXhXaWR0aDogJzMwMCd9KTsKCiAgICAgICAgICAgIAogICAgICAgICAgICAgICAgdmFyIGh0bWxfYWNmZmVhNzliYmMwNDg3Yjg2YTM5NjZlMGU1NTBjMTAgPSAkKCc8ZGl2IGlkPSJodG1sX2FjZmZlYTc5YmJjMDQ4N2I4NmEzOTY2ZTBlNTUwYzEwIiBzdHlsZT0id2lkdGg6IDEwMC4wJTsgaGVpZ2h0OiAxMDAuMCU7Ij5BcnRlc2lhIENsdXN0ZXIgMTwvZGl2PicpWzBdOwogICAgICAgICAgICAgICAgcG9wdXBfNDEyMzJjYWJmYmYwNDIyM2E5ZmRjNmUwN2JmNzE5NDcuc2V0Q29udGVudChodG1sX2FjZmZlYTc5YmJjMDQ4N2I4NmEzOTY2ZTBlNTUwYzEwKTsKICAgICAgICAgICAgCgogICAgICAgICAgICBjaXJjbGVfbWFya2VyXzA5NTJjYTFjZWEzOTQxZjM5M2QzODBjOTQwMmMxNmY0LmJpbmRQb3B1cChwb3B1cF80MTIzMmNhYmZiZjA0MjIzYTlmZGM2ZTA3YmY3MTk0Nyk7CgogICAgICAgICAgICAKICAgICAgICAKICAgIAogICAgICAgICAgICB2YXIgY2lyY2xlX21hcmtlcl8zMDlmNWJkNzAwMjM0NmY1ODVlNmJlMjYwODJjZWIyYiA9IEwuY2lyY2xlTWFya2VyKAogICAgICAgICAgICAgICAgWzQ3LjQ4ODUzNjUsMy45MDcwNjU4XSwKICAgICAgICAgICAgICAgIHsKICAiYnViYmxpbmdNb3VzZUV2ZW50cyI6IHRydWUsCiAgImNvbG9yIjogIiM4MDAwZmYiLAogICJkYXNoQXJyYXkiOiBudWxsLAogICJkYXNoT2Zmc2V0IjogbnVsbCwKICAiZmlsbCI6IHRydWUsCiAgImZpbGxDb2xvciI6ICIjODAwMGZmIiwKICAiZmlsbE9wYWNpdHkiOiAwLjcsCiAgImZpbGxSdWxlIjogImV2ZW5vZGQiLAogICJsaW5lQ2FwIjogInJvdW5kIiwKICAibGluZUpvaW4iOiAicm91bmQiLAogICJvcGFjaXR5IjogMS4wLAogICJyYWRpdXMiOiA1LAogICJzdHJva2UiOiB0cnVlLAogICJ3ZWlnaHQiOiAzCn0KICAgICAgICAgICAgICAgICkuYWRkVG8obWFwXzQyMjk1Mjg4Zjg1ODRiNmRhMjM3MjI2MzdiNmRmOGNjKTsKICAgICAgICAgICAgCiAgICAKICAgICAgICAgICAgdmFyIHBvcHVwX2FjMmM5NzgxMjRkMTRmM2E5MWYzNTg0ZGVjNWVjYTM5ID0gTC5wb3B1cCh7bWF4V2lkdGg6ICczMDAnfSk7CgogICAgICAgICAgICAKICAgICAgICAgICAgICAgIHZhciBodG1sX2QxMDBkZTkxMjNiMTQ5ZWI5ZDljNjQ1Y2Q3NDNlODUxID0gJCgnPGRpdiBpZD0iaHRtbF9kMTAwZGU5MTIzYjE0OWViOWQ5YzY0NWNkNzQzZTg1MSIgc3R5bGU9IndpZHRoOiAxMDAuMCU7IGhlaWdodDogMTAwLjAlOyI+QXZhbG9uIENsdXN0ZXIgMTwvZGl2PicpWzBdOwogICAgICAgICAgICAgICAgcG9wdXBfYWMyYzk3ODEyNGQxNGYzYTkxZjM1ODRkZWM1ZWNhMzkuc2V0Q29udGVudChodG1sX2QxMDBkZTkxMjNiMTQ5ZWI5ZDljNjQ1Y2Q3NDNlODUxKTsKICAgICAgICAgICAgCgogICAgICAgICAgICBjaXJjbGVfbWFya2VyXzMwOWY1YmQ3MDAyMzQ2ZjU4NWU2YmUyNjA4MmNlYjJiLmJpbmRQb3B1cChwb3B1cF9hYzJjOTc4MTI0ZDE0ZjNhOTFmMzU4NGRlYzVlY2EzOSk7CgogICAgICAgICAgICAKICAgICAgICAKICAgIAogICAgICAgICAgICB2YXIgY2lyY2xlX21hcmtlcl9jNzc3ZDUxMWI3YjU0NzA0OTRlZTBhZTAxMWE0MGE4ZSA9IEwuY2lyY2xlTWFya2VyKAogICAgICAgICAgICAgICAgWzM0LjEzMzg3NTEsLTExNy45MDU2MDQ2XSwKICAgICAgICAgICAgICAgIHsKICAiYnViYmxpbmdNb3VzZUV2ZW50cyI6IHRydWUsCiAgImNvbG9yIjogIiM4MGZmYjQiLAogICJkYXNoQXJyYXkiOiBudWxsLAogICJkYXNoT2Zmc2V0IjogbnVsbCwKICAiZmlsbCI6IHRydWUsCiAgImZpbGxDb2xvciI6ICIjODBmZmI0IiwKICAiZmlsbE9wYWNpdHkiOiAwLjcsCiAgImZpbGxSdWxlIjogImV2ZW5vZGQiLAogICJsaW5lQ2FwIjogInJvdW5kIiwKICAibGluZUpvaW4iOiAicm91bmQiLAogICJvcGFjaXR5IjogMS4wLAogICJyYWRpdXMiOiA1LAogICJzdHJva2UiOiB0cnVlLAogICJ3ZWlnaHQiOiAzCn0KICAgICAgICAgICAgICAgICkuYWRkVG8obWFwXzQyMjk1Mjg4Zjg1ODRiNmRhMjM3MjI2MzdiNmRmOGNjKTsKICAgICAgICAgICAgCiAgICAKICAgICAgICAgICAgdmFyIHBvcHVwXzI3YWViNjRkZGEyODQxMTI4MTc3MmE4NTY3YjVkNzZiID0gTC5wb3B1cCh7bWF4V2lkdGg6ICczMDAnfSk7CgogICAgICAgICAgICAKICAgICAgICAgICAgICAgIHZhciBodG1sXzQ3ZWE0NWM5ZTA5MDRlOGFiMTFlMDRkNDI5OGVhODcwID0gJCgnPGRpdiBpZD0iaHRtbF80N2VhNDVjOWUwOTA0ZThhYjExZTA0ZDQyOThlYTg3MCIgc3R5bGU9IndpZHRoOiAxMDAuMCU7IGhlaWdodDogMTAwLjAlOyI+QXp1c2EgQ2x1c3RlciAzPC9kaXY+JylbMF07CiAgICAgICAgICAgICAgICBwb3B1cF8yN2FlYjY0ZGRhMjg0MTEyODE3NzJhODU2N2I1ZDc2Yi5zZXRDb250ZW50KGh0bWxfNDdlYTQ1YzllMDkwNGU4YWIxMWUwNGQ0Mjk4ZWE4NzApOwogICAgICAgICAgICAKCiAgICAgICAgICAgIGNpcmNsZV9tYXJrZXJfYzc3N2Q1MTFiN2I1NDcwNDk0ZWUwYWUwMTFhNDBhOGUuYmluZFBvcHVwKHBvcHVwXzI3YWViNjRkZGEyODQxMTI4MTc3MmE4NTY3YjVkNzZiKTsKCiAgICAgICAgICAgIAogICAgICAgIAogICAgCiAgICAgICAgICAgIHZhciBjaXJjbGVfbWFya2VyXzJmYTNjNTljZTcxNDQyMGI4YmFmNjZmYzg5NmViZTZmID0gTC5jaXJjbGVNYXJrZXIoCiAgICAgICAgICAgICAgICBbMzQuMDg1NDczOSwtMTE3Ljk2MTE3NjFdLAogICAgICAgICAgICAgICAgewogICJidWJibGluZ01vdXNlRXZlbnRzIjogdHJ1ZSwKICAiY29sb3IiOiAiIzgwZmZiNCIsCiAgImRhc2hBcnJheSI6IG51bGwsCiAgImRhc2hPZmZzZXQiOiBudWxsLAogICJmaWxsIjogdHJ1ZSwKICAiZmlsbENvbG9yIjogIiM4MGZmYjQiLAogICJmaWxsT3BhY2l0eSI6IDAuNywKICAiZmlsbFJ1bGUiOiAiZXZlbm9kZCIsCiAgImxpbmVDYXAiOiAicm91bmQiLAogICJsaW5lSm9pbiI6ICJyb3VuZCIsCiAgIm9wYWNpdHkiOiAxLjAsCiAgInJhZGl1cyI6IDUsCiAgInN0cm9rZSI6IHRydWUsCiAgIndlaWdodCI6IDMKfQogICAgICAgICAgICAgICAgKS5hZGRUbyhtYXBfNDIyOTUyODhmODU4NGI2ZGEyMzcyMjYzN2I2ZGY4Y2MpOwogICAgICAgICAgICAKICAgIAogICAgICAgICAgICB2YXIgcG9wdXBfNDJiNmU0NjliYjkzNDc2NDk0MDBiZmM4NWUzZmNmZTAgPSBMLnBvcHVwKHttYXhXaWR0aDogJzMwMCd9KTsKCiAgICAgICAgICAgIAogICAgICAgICAgICAgICAgdmFyIGh0bWxfYzA0MDcwNmVjOGVkNGI3OWFiODg0NWQ0Zjk5ZDZmYWEgPSAkKCc8ZGl2IGlkPSJodG1sX2MwNDA3MDZlYzhlZDRiNzlhYjg4NDVkNGY5OWQ2ZmFhIiBzdHlsZT0id2lkdGg6IDEwMC4wJTsgaGVpZ2h0OiAxMDAuMCU7Ij5CYWxkd2luIFBhcmsgQ2x1c3RlciAzPC9kaXY+JylbMF07CiAgICAgICAgICAgICAgICBwb3B1cF80MmI2ZTQ2OWJiOTM0NzY0OTQwMGJmYzg1ZTNmY2ZlMC5zZXRDb250ZW50KGh0bWxfYzA0MDcwNmVjOGVkNGI3OWFiODg0NWQ0Zjk5ZDZmYWEpOwogICAgICAgICAgICAKCiAgICAgICAgICAgIGNpcmNsZV9tYXJrZXJfMmZhM2M1OWNlNzE0NDIwYjhiYWY2NmZjODk2ZWJlNmYuYmluZFBvcHVwKHBvcHVwXzQyYjZlNDY5YmI5MzQ3NjQ5NDAwYmZjODVlM2ZjZmUwKTsKCiAgICAgICAgICAgIAogICAgICAgIAogICAgCiAgICAgICAgICAgIHZhciBjaXJjbGVfbWFya2VyX2VjYzE3N2VhNTQ5ZTQxNWZhYTEwYTU1YTg5Y2Y0YWRlID0gTC5jaXJjbGVNYXJrZXIoCiAgICAgICAgICAgICAgICBbNDUuNjA5MDQwOSwtNzQuNjEyODMxM10sCiAgICAgICAgICAgICAgICB7CiAgImJ1YmJsaW5nTW91c2VFdmVudHMiOiB0cnVlLAogICJjb2xvciI6ICIjODBmZmI0IiwKICAiZGFzaEFycmF5IjogbnVsbCwKICAiZGFzaE9mZnNldCI6IG51bGwsCiAgImZpbGwiOiB0cnVlLAogICJmaWxsQ29sb3IiOiAiIzgwZmZiNCIsCiAgImZpbGxPcGFjaXR5IjogMC43LAogICJmaWxsUnVsZSI6ICJldmVub2RkIiwKICAibGluZUNhcCI6ICJyb3VuZCIsCiAgImxpbmVKb2luIjogInJvdW5kIiwKICAib3BhY2l0eSI6IDEuMCwKICAicmFkaXVzIjogNSwKICAic3Ryb2tlIjogdHJ1ZSwKICAid2VpZ2h0IjogMwp9CiAgICAgICAgICAgICAgICApLmFkZFRvKG1hcF80MjI5NTI4OGY4NTg0YjZkYTIzNzIyNjM3YjZkZjhjYyk7CiAgICAgICAgICAgIAogICAgCiAgICAgICAgICAgIHZhciBwb3B1cF9kZWEyZjVmOTIxMDY0OTliODVkYzFhYTVmN2M1MGYxMSA9IEwucG9wdXAoe21heFdpZHRoOiAnMzAwJ30pOwoKICAgICAgICAgICAgCiAgICAgICAgICAgICAgICB2YXIgaHRtbF8yMDk2MzNjYjI2ZjE0ZjBkOWJlNTIwY2FiZDY2ODE3MiA9ICQoJzxkaXYgaWQ9Imh0bWxfMjA5NjMzY2IyNmYxNGYwZDliZTUyMGNhYmQ2NjgxNzIiIHN0eWxlPSJ3aWR0aDogMTAwLjAlOyBoZWlnaHQ6IDEwMC4wJTsiPkJlbGwgQ2x1c3RlciAzPC9kaXY+JylbMF07CiAgICAgICAgICAgICAgICBwb3B1cF9kZWEyZjVmOTIxMDY0OTliODVkYzFhYTVmN2M1MGYxMS5zZXRDb250ZW50KGh0bWxfMjA5NjMzY2IyNmYxNGYwZDliZTUyMGNhYmQ2NjgxNzIpOwogICAgICAgICAgICAKCiAgICAgICAgICAgIGNpcmNsZV9tYXJrZXJfZWNjMTc3ZWE1NDllNDE1ZmFhMTBhNTVhODljZjRhZGUuYmluZFBvcHVwKHBvcHVwX2RlYTJmNWY5MjEwNjQ5OWI4NWRjMWFhNWY3YzUwZjExKTsKCiAgICAgICAgICAgIAogICAgICAgIAogICAgCiAgICAgICAgICAgIHZhciBjaXJjbGVfbWFya2VyXzgxZjgyOWU3ZmI4NzQyN2I4MmYzYTA1MDk2NzdiY2JhID0gTC5jaXJjbGVNYXJrZXIoCiAgICAgICAgICAgICAgICBbMzMuOTY1MjkxOCwtMTE4LjE1MTQ1ODhdLAogICAgICAgICAgICAgICAgewogICJidWJibGluZ01vdXNlRXZlbnRzIjogdHJ1ZSwKICAiY29sb3IiOiAiIzgwZmZiNCIsCiAgImRhc2hBcnJheSI6IG51bGwsCiAgImRhc2hPZmZzZXQiOiBudWxsLAogICJmaWxsIjogdHJ1ZSwKICAiZmlsbENvbG9yIjogIiM4MGZmYjQiLAogICJmaWxsT3BhY2l0eSI6IDAuNywKICAiZmlsbFJ1bGUiOiAiZXZlbm9kZCIsCiAgImxpbmVDYXAiOiAicm91bmQiLAogICJsaW5lSm9pbiI6ICJyb3VuZCIsCiAgIm9wYWNpdHkiOiAxLjAsCiAgInJhZGl1cyI6IDUsCiAgInN0cm9rZSI6IHRydWUsCiAgIndlaWdodCI6IDMKfQogICAgICAgICAgICAgICAgKS5hZGRUbyhtYXBfNDIyOTUyODhmODU4NGI2ZGEyMzcyMjYzN2I2ZGY4Y2MpOwogICAgICAgICAgICAKICAgIAogICAgICAgICAgICB2YXIgcG9wdXBfMzhhY2VjMTE4ZmVkNDcyZmE0YTk3ZGMyNjA4YzdjNDMgPSBMLnBvcHVwKHttYXhXaWR0aDogJzMwMCd9KTsKCiAgICAgICAgICAgIAogICAgICAgICAgICAgICAgdmFyIGh0bWxfOTJlZTM0ZjE1YjRhNDNiOTk2ZTU5NGJkZDlkY2QwOTkgPSAkKCc8ZGl2IGlkPSJodG1sXzkyZWUzNGYxNWI0YTQzYjk5NmU1OTRiZGQ5ZGNkMDk5IiBzdHlsZT0id2lkdGg6IDEwMC4wJTsgaGVpZ2h0OiAxMDAuMCU7Ij5CZWxsIEdhcmRlbnMgQ2x1c3RlciAzPC9kaXY+JylbMF07CiAgICAgICAgICAgICAgICBwb3B1cF8zOGFjZWMxMThmZWQ0NzJmYTRhOTdkYzI2MDhjN2M0My5zZXRDb250ZW50KGh0bWxfOTJlZTM0ZjE1YjRhNDNiOTk2ZTU5NGJkZDlkY2QwOTkpOwogICAgICAgICAgICAKCiAgICAgICAgICAgIGNpcmNsZV9tYXJrZXJfODFmODI5ZTdmYjg3NDI3YjgyZjNhMDUwOTY3N2JjYmEuYmluZFBvcHVwKHBvcHVwXzM4YWNlYzExOGZlZDQ3MmZhNGE5N2RjMjYwOGM3YzQzKTsKCiAgICAgICAgICAgIAogICAgICAgIAogICAgCiAgICAgICAgICAgIHZhciBjaXJjbGVfbWFya2VyX2Y0MjBhYzY3MWRlZDQxYTA5MjBlYjIwY2U2ODU5MzNiID0gTC5jaXJjbGVNYXJrZXIoCiAgICAgICAgICAgICAgICBbMzMuODgyNTcwNSwtMTE4LjExNjc2NzldLAogICAgICAgICAgICAgICAgewogICJidWJibGluZ01vdXNlRXZlbnRzIjogdHJ1ZSwKICAiY29sb3IiOiAiIzgwMDBmZiIsCiAgImRhc2hBcnJheSI6IG51bGwsCiAgImRhc2hPZmZzZXQiOiBudWxsLAogICJmaWxsIjogdHJ1ZSwKICAiZmlsbENvbG9yIjogIiM4MDAwZmYiLAogICJmaWxsT3BhY2l0eSI6IDAuNywKICAiZmlsbFJ1bGUiOiAiZXZlbm9kZCIsCiAgImxpbmVDYXAiOiAicm91bmQiLAogICJsaW5lSm9pbiI6ICJyb3VuZCIsCiAgIm9wYWNpdHkiOiAxLjAsCiAgInJhZGl1cyI6IDUsCiAgInN0cm9rZSI6IHRydWUsCiAgIndlaWdodCI6IDMKfQogICAgICAgICAgICAgICAgKS5hZGRUbyhtYXBfNDIyOTUyODhmODU4NGI2ZGEyMzcyMjYzN2I2ZGY4Y2MpOwogICAgICAgICAgICAKICAgIAogICAgICAgICAgICB2YXIgcG9wdXBfMzY0MGI1MjE4OTJlNDZjOTg4MjUyMjNiOGM2ODkwNWEgPSBMLnBvcHVwKHttYXhXaWR0aDogJzMwMCd9KTsKCiAgICAgICAgICAgIAogICAgICAgICAgICAgICAgdmFyIGh0bWxfNTBlOGU1NjE4MzRmNGZjMWFjYjJkYjljZTU4MTAyYzMgPSAkKCc8ZGl2IGlkPSJodG1sXzUwZThlNTYxODM0ZjRmYzFhY2IyZGI5Y2U1ODEwMmMzIiBzdHlsZT0id2lkdGg6IDEwMC4wJTsgaGVpZ2h0OiAxMDAuMCU7Ij5CZWxsZmxvd2VyIENsdXN0ZXIgMTwvZGl2PicpWzBdOwogICAgICAgICAgICAgICAgcG9wdXBfMzY0MGI1MjE4OTJlNDZjOTg4MjUyMjNiOGM2ODkwNWEuc2V0Q29udGVudChodG1sXzUwZThlNTYxODM0ZjRmYzFhY2IyZGI5Y2U1ODEwMmMzKTsKICAgICAgICAgICAgCgogICAgICAgICAgICBjaXJjbGVfbWFya2VyX2Y0MjBhYzY3MWRlZDQxYTA5MjBlYjIwY2U2ODU5MzNiLmJpbmRQb3B1cChwb3B1cF8zNjQwYjUyMTg5MmU0NmM5ODgyNTIyM2I4YzY4OTA1YSk7CgogICAgICAgICAgICAKICAgICAgICAKICAgIAogICAgICAgICAgICB2YXIgY2lyY2xlX21hcmtlcl8zN2Q2MjhjMTRkOGY0NGJlYjg5YzU4M2MwN2U1MGVmNiA9IEwuY2lyY2xlTWFya2VyKAogICAgICAgICAgICAgICAgWzM0LjA3MzYyMDQsLTExOC40MDAzNTYzXSwKICAgICAgICAgICAgICAgIHsKICAiYnViYmxpbmdNb3VzZUV2ZW50cyI6IHRydWUsCiAgImNvbG9yIjogIiM4MDAwZmYiLAogICJkYXNoQXJyYXkiOiBudWxsLAogICJkYXNoT2Zmc2V0IjogbnVsbCwKICAiZmlsbCI6IHRydWUsCiAgImZpbGxDb2xvciI6ICIjODAwMGZmIiwKICAiZmlsbE9wYWNpdHkiOiAwLjcsCiAgImZpbGxSdWxlIjogImV2ZW5vZGQiLAogICJsaW5lQ2FwIjogInJvdW5kIiwKICAibGluZUpvaW4iOiAicm91bmQiLAogICJvcGFjaXR5IjogMS4wLAogICJyYWRpdXMiOiA1LAogICJzdHJva2UiOiB0cnVlLAogICJ3ZWlnaHQiOiAzCn0KICAgICAgICAgICAgICAgICkuYWRkVG8obWFwXzQyMjk1Mjg4Zjg1ODRiNmRhMjM3MjI2MzdiNmRmOGNjKTsKICAgICAgICAgICAgCiAgICAKICAgICAgICAgICAgdmFyIHBvcHVwX2ZmYmI3MTEyNGYyNTQ1NGRiNTFkYTY2MjBjNDY5ODg3ID0gTC5wb3B1cCh7bWF4V2lkdGg6ICczMDAnfSk7CgogICAgICAgICAgICAKICAgICAgICAgICAgICAgIHZhciBodG1sX2VmZjhkYzNhOTEzMDQ5ZWJhY2Y2NDU1ZjE3MWIwNTI0ID0gJCgnPGRpdiBpZD0iaHRtbF9lZmY4ZGMzYTkxMzA0OWViYWNmNjQ1NWYxNzFiMDUyNCIgc3R5bGU9IndpZHRoOiAxMDAuMCU7IGhlaWdodDogMTAwLjAlOyI+QmV2ZXJseSBIaWxscyBDbHVzdGVyIDE8L2Rpdj4nKVswXTsKICAgICAgICAgICAgICAgIHBvcHVwX2ZmYmI3MTEyNGYyNTQ1NGRiNTFkYTY2MjBjNDY5ODg3LnNldENvbnRlbnQoaHRtbF9lZmY4ZGMzYTkxMzA0OWViYWNmNjQ1NWYxNzFiMDUyNCk7CiAgICAgICAgICAgIAoKICAgICAgICAgICAgY2lyY2xlX21hcmtlcl8zN2Q2MjhjMTRkOGY0NGJlYjg5YzU4M2MwN2U1MGVmNi5iaW5kUG9wdXAocG9wdXBfZmZiYjcxMTI0ZjI1NDU0ZGI1MWRhNjYyMGM0Njk4ODcpOwoKICAgICAgICAgICAgCiAgICAgICAgCiAgICAKICAgICAgICAgICAgdmFyIGNpcmNsZV9tYXJrZXJfZjE4MWFhZTk2Mjg2NDI4OWFhMjg1OGVmNmQ1YzdmMTMgPSBMLmNpcmNsZU1hcmtlcigKICAgICAgICAgICAgICAgIFszNC4xNDY5NTExLC0xMTcuOTcwODk4Ml0sCiAgICAgICAgICAgICAgICB7CiAgImJ1YmJsaW5nTW91c2VFdmVudHMiOiB0cnVlLAogICJjb2xvciI6ICIjODBmZmI0IiwKICAiZGFzaEFycmF5IjogbnVsbCwKICAiZGFzaE9mZnNldCI6IG51bGwsCiAgImZpbGwiOiB0cnVlLAogICJmaWxsQ29sb3IiOiAiIzgwZmZiNCIsCiAgImZpbGxPcGFjaXR5IjogMC43LAogICJmaWxsUnVsZSI6ICJldmVub2RkIiwKICAibGluZUNhcCI6ICJyb3VuZCIsCiAgImxpbmVKb2luIjogInJvdW5kIiwKICAib3BhY2l0eSI6IDEuMCwKICAicmFkaXVzIjogNSwKICAic3Ryb2tlIjogdHJ1ZSwKICAid2VpZ2h0IjogMwp9CiAgICAgICAgICAgICAgICApLmFkZFRvKG1hcF80MjI5NTI4OGY4NTg0YjZkYTIzNzIyNjM3YjZkZjhjYyk7CiAgICAgICAgICAgIAogICAgCiAgICAgICAgICAgIHZhciBwb3B1cF9mMGM4YmIwZjY3NGU0Y2FjOGQyZWMyNTZiMmQ2Y2EyOSA9IEwucG9wdXAoe21heFdpZHRoOiAnMzAwJ30pOwoKICAgICAgICAgICAgCiAgICAgICAgICAgICAgICB2YXIgaHRtbF8xYTcwNzgyNGJiOTA0MTliYjlkM2I2NGY4Mjk3ZTk3NyA9ICQoJzxkaXYgaWQ9Imh0bWxfMWE3MDc4MjRiYjkwNDE5YmI5ZDNiNjRmODI5N2U5NzciIHN0eWxlPSJ3aWR0aDogMTAwLjAlOyBoZWlnaHQ6IDEwMC4wJTsiPkJyYWRidXJ5IENsdXN0ZXIgMzwvZGl2PicpWzBdOwogICAgICAgICAgICAgICAgcG9wdXBfZjBjOGJiMGY2NzRlNGNhYzhkMmVjMjU2YjJkNmNhMjkuc2V0Q29udGVudChodG1sXzFhNzA3ODI0YmI5MDQxOWJiOWQzYjY0ZjgyOTdlOTc3KTsKICAgICAgICAgICAgCgogICAgICAgICAgICBjaXJjbGVfbWFya2VyX2YxODFhYWU5NjI4NjQyODlhYTI4NThlZjZkNWM3ZjEzLmJpbmRQb3B1cChwb3B1cF9mMGM4YmIwZjY3NGU0Y2FjOGQyZWMyNTZiMmQ2Y2EyOSk7CgogICAgICAgICAgICAKICAgICAgICAKICAgIAogICAgICAgICAgICB2YXIgY2lyY2xlX21hcmtlcl9hZWU3ZmUxNTM5MGQ0ZGMwOTRiZTIwNWJhNDEzYzViOSA9IEwuY2lyY2xlTWFya2VyKAogICAgICAgICAgICAgICAgWzM0LjE4MTY0ODIsLTExOC4zMjU4NTU0XSwKICAgICAgICAgICAgICAgIHsKICAiYnViYmxpbmdNb3VzZUV2ZW50cyI6IHRydWUsCiAgImNvbG9yIjogIiM4MDAwZmYiLAogICJkYXNoQXJyYXkiOiBudWxsLAogICJkYXNoT2Zmc2V0IjogbnVsbCwKICAiZmlsbCI6IHRydWUsCiAgImZpbGxDb2xvciI6ICIjODAwMGZmIiwKICAiZmlsbE9wYWNpdHkiOiAwLjcsCiAgImZpbGxSdWxlIjogImV2ZW5vZGQiLAogICJsaW5lQ2FwIjogInJvdW5kIiwKICAibGluZUpvaW4iOiAicm91bmQiLAogICJvcGFjaXR5IjogMS4wLAogICJyYWRpdXMiOiA1LAogICJzdHJva2UiOiB0cnVlLAogICJ3ZWlnaHQiOiAzCn0KICAgICAgICAgICAgICAgICkuYWRkVG8obWFwXzQyMjk1Mjg4Zjg1ODRiNmRhMjM3MjI2MzdiNmRmOGNjKTsKICAgICAgICAgICAgCiAgICAKICAgICAgICAgICAgdmFyIHBvcHVwX2EyZDcyMDY2MjcxMzQyMTA5ZjIyOWQ0YTNlNWY2YzZhID0gTC5wb3B1cCh7bWF4V2lkdGg6ICczMDAnfSk7CgogICAgICAgICAgICAKICAgICAgICAgICAgICAgIHZhciBodG1sXzFjODdhYzUzNTNhYzQxZjBhYmIyNDAyYTgwYjFlM2NmID0gJCgnPGRpdiBpZD0iaHRtbF8xYzg3YWM1MzUzYWM0MWYwYWJiMjQwMmE4MGIxZTNjZiIgc3R5bGU9IndpZHRoOiAxMDAuMCU7IGhlaWdodDogMTAwLjAlOyI+QnVyYmFuayBDbHVzdGVyIDE8L2Rpdj4nKVswXTsKICAgICAgICAgICAgICAgIHBvcHVwX2EyZDcyMDY2MjcxMzQyMTA5ZjIyOWQ0YTNlNWY2YzZhLnNldENvbnRlbnQoaHRtbF8xYzg3YWM1MzUzYWM0MWYwYWJiMjQwMmE4MGIxZTNjZik7CiAgICAgICAgICAgIAoKICAgICAgICAgICAgY2lyY2xlX21hcmtlcl9hZWU3ZmUxNTM5MGQ0ZGMwOTRiZTIwNWJhNDEzYzViOS5iaW5kUG9wdXAocG9wdXBfYTJkNzIwNjYyNzEzNDIxMDlmMjI5ZDRhM2U1ZjZjNmEpOwoKICAgICAgICAgICAgCiAgICAgICAgCiAgICAKICAgICAgICAgICAgdmFyIGNpcmNsZV9tYXJrZXJfNmJhOTBhYjJlNjBjNGJkNGI3N2UyYmE4ZWRjOTAzOGUgPSBMLmNpcmNsZU1hcmtlcigKICAgICAgICAgICAgICAgIFszNC4xNDQ2NjQzLC0xMTguNjQ0MDk3M10sCiAgICAgICAgICAgICAgICB7CiAgImJ1YmJsaW5nTW91c2VFdmVudHMiOiB0cnVlLAogICJjb2xvciI6ICIjODAwMGZmIiwKICAiZGFzaEFycmF5IjogbnVsbCwKICAiZGFzaE9mZnNldCI6IG51bGwsCiAgImZpbGwiOiB0cnVlLAogICJmaWxsQ29sb3IiOiAiIzgwMDBmZiIsCiAgImZpbGxPcGFjaXR5IjogMC43LAogICJmaWxsUnVsZSI6ICJldmVub2RkIiwKICAibGluZUNhcCI6ICJyb3VuZCIsCiAgImxpbmVKb2luIjogInJvdW5kIiwKICAib3BhY2l0eSI6IDEuMCwKICAicmFkaXVzIjogNSwKICAic3Ryb2tlIjogdHJ1ZSwKICAid2VpZ2h0IjogMwp9CiAgICAgICAgICAgICAgICApLmFkZFRvKG1hcF80MjI5NTI4OGY4NTg0YjZkYTIzNzIyNjM3YjZkZjhjYyk7CiAgICAgICAgICAgIAogICAgCiAgICAgICAgICAgIHZhciBwb3B1cF85NDc0ZDc4MzEzMGU0N2UyOWI5Zjc4NTViMzBlOTgxMCA9IEwucG9wdXAoe21heFdpZHRoOiAnMzAwJ30pOwoKICAgICAgICAgICAgCiAgICAgICAgICAgICAgICB2YXIgaHRtbF81MWExNTE5NjFkNDg0NzgxYWJlZjEyYjQzMzVlMTE4NSA9ICQoJzxkaXYgaWQ9Imh0bWxfNTFhMTUxOTYxZDQ4NDc4MWFiZWYxMmI0MzM1ZTExODUiIHN0eWxlPSJ3aWR0aDogMTAwLjAlOyBoZWlnaHQ6IDEwMC4wJTsiPkNhbGFiYXNhcyBDbHVzdGVyIDE8L2Rpdj4nKVswXTsKICAgICAgICAgICAgICAgIHBvcHVwXzk0NzRkNzgzMTMwZTQ3ZTI5YjlmNzg1NWIzMGU5ODEwLnNldENvbnRlbnQoaHRtbF81MWExNTE5NjFkNDg0NzgxYWJlZjEyYjQzMzVlMTE4NSk7CiAgICAgICAgICAgIAoKICAgICAgICAgICAgY2lyY2xlX21hcmtlcl82YmE5MGFiMmU2MGM0YmQ0Yjc3ZTJiYThlZGM5MDM4ZS5iaW5kUG9wdXAocG9wdXBfOTQ3NGQ3ODMxMzBlNDdlMjliOWY3ODU1YjMwZTk4MTApOwoKICAgICAgICAgICAgCiAgICAgICAgCiAgICAKICAgICAgICAgICAgdmFyIGNpcmNsZV9tYXJrZXJfMTY0NDk4NjUxN2E1NDAxZjk5MzgyMmEyOTc0YjZlYTAgPSBMLmNpcmNsZU1hcmtlcigKICAgICAgICAgICAgICAgIFszMy44MzIyMDQzLC0xMTguMjUxNzU0N10sCiAgICAgICAgICAgICAgICB7CiAgImJ1YmJsaW5nTW91c2VFdmVudHMiOiB0cnVlLAogICJjb2xvciI6ICIjODAwMGZmIiwKICAiZGFzaEFycmF5IjogbnVsbCwKICAiZGFzaE9mZnNldCI6IG51bGwsCiAgImZpbGwiOiB0cnVlLAogICJmaWxsQ29sb3IiOiAiIzgwMDBmZiIsCiAgImZpbGxPcGFjaXR5IjogMC43LAogICJmaWxsUnVsZSI6ICJldmVub2RkIiwKICAibGluZUNhcCI6ICJyb3VuZCIsCiAgImxpbmVKb2luIjogInJvdW5kIiwKICAib3BhY2l0eSI6IDEuMCwKICAicmFkaXVzIjogNSwKICAic3Ryb2tlIjogdHJ1ZSwKICAid2VpZ2h0IjogMwp9CiAgICAgICAgICAgICAgICApLmFkZFRvKG1hcF80MjI5NTI4OGY4NTg0YjZkYTIzNzIyNjM3YjZkZjhjYyk7CiAgICAgICAgICAgIAogICAgCiAgICAgICAgICAgIHZhciBwb3B1cF9iYzRjMjFlODFhN2M0MTQ0YmJlNWM4YWJhMjRmMzZhYyA9IEwucG9wdXAoe21heFdpZHRoOiAnMzAwJ30pOwoKICAgICAgICAgICAgCiAgICAgICAgICAgICAgICB2YXIgaHRtbF9kMTBlNTk2NDM2ZTc0YTVhYWFiNmY3MThjNzc4ODhhNyA9ICQoJzxkaXYgaWQ9Imh0bWxfZDEwZTU5NjQzNmU3NGE1YWFhYjZmNzE4Yzc3ODg4YTciIHN0eWxlPSJ3aWR0aDogMTAwLjAlOyBoZWlnaHQ6IDEwMC4wJTsiPkNhcnNvbiBDbHVzdGVyIDE8L2Rpdj4nKVswXTsKICAgICAgICAgICAgICAgIHBvcHVwX2JjNGMyMWU4MWE3YzQxNDRiYmU1YzhhYmEyNGYzNmFjLnNldENvbnRlbnQoaHRtbF9kMTBlNTk2NDM2ZTc0YTVhYWFiNmY3MThjNzc4ODhhNyk7CiAgICAgICAgICAgIAoKICAgICAgICAgICAgY2lyY2xlX21hcmtlcl8xNjQ0OTg2NTE3YTU0MDFmOTkzODIyYTI5NzRiNmVhMC5iaW5kUG9wdXAocG9wdXBfYmM0YzIxZTgxYTdjNDE0NGJiZTVjOGFiYTI0ZjM2YWMpOwoKICAgICAgICAgICAgCiAgICAgICAgCiAgICAKICAgICAgICAgICAgdmFyIGNpcmNsZV9tYXJrZXJfYTZiODYwOTEzODYwNDljZWFiY2Y3ZGNiY2YwNjllNjggPSBMLmNpcmNsZU1hcmtlcigKICAgICAgICAgICAgICAgIFszNC4wOTY2NzY0LC0xMTcuNzE5Nzc4NV0sCiAgICAgICAgICAgICAgICB7CiAgImJ1YmJsaW5nTW91c2VFdmVudHMiOiB0cnVlLAogICJjb2xvciI6ICIjODAwMGZmIiwKICAiZGFzaEFycmF5IjogbnVsbCwKICAiZGFzaE9mZnNldCI6IG51bGwsCiAgImZpbGwiOiB0cnVlLAogICJmaWxsQ29sb3IiOiAiIzgwMDBmZiIsCiAgImZpbGxPcGFjaXR5IjogMC43LAogICJmaWxsUnVsZSI6ICJldmVub2RkIiwKICAibGluZUNhcCI6ICJyb3VuZCIsCiAgImxpbmVKb2luIjogInJvdW5kIiwKICAib3BhY2l0eSI6IDEuMCwKICAicmFkaXVzIjogNSwKICAic3Ryb2tlIjogdHJ1ZSwKICAid2VpZ2h0IjogMwp9CiAgICAgICAgICAgICAgICApLmFkZFRvKG1hcF80MjI5NTI4OGY4NTg0YjZkYTIzNzIyNjM3YjZkZjhjYyk7CiAgICAgICAgICAgIAogICAgCiAgICAgICAgICAgIHZhciBwb3B1cF8xYjg5YWI3MjliY2I0ZWUzODRlYzAwNTMxMDA5YzE5ZCA9IEwucG9wdXAoe21heFdpZHRoOiAnMzAwJ30pOwoKICAgICAgICAgICAgCiAgICAgICAgICAgICAgICB2YXIgaHRtbF8xNzRmZWIxOTc3OWQ0NmQ5OTE1MjhmMGQyZTA3YzI2MiA9ICQoJzxkaXYgaWQ9Imh0bWxfMTc0ZmViMTk3NzlkNDZkOTkxNTI4ZjBkMmUwN2MyNjIiIHN0eWxlPSJ3aWR0aDogMTAwLjAlOyBoZWlnaHQ6IDEwMC4wJTsiPkNsYXJlbW9udCBDbHVzdGVyIDE8L2Rpdj4nKVswXTsKICAgICAgICAgICAgICAgIHBvcHVwXzFiODlhYjcyOWJjYjRlZTM4NGVjMDA1MzEwMDljMTlkLnNldENvbnRlbnQoaHRtbF8xNzRmZWIxOTc3OWQ0NmQ5OTE1MjhmMGQyZTA3YzI2Mik7CiAgICAgICAgICAgIAoKICAgICAgICAgICAgY2lyY2xlX21hcmtlcl9hNmI4NjA5MTM4NjA0OWNlYWJjZjdkY2JjZjA2OWU2OC5iaW5kUG9wdXAocG9wdXBfMWI4OWFiNzI5YmNiNGVlMzg0ZWMwMDUzMTAwOWMxOWQpOwoKICAgICAgICAgICAgCiAgICAgICAgCiAgICAKICAgICAgICAgICAgdmFyIGNpcmNsZV9tYXJrZXJfYmJiODg3Yzc1NTgwNGYxZTg0NTdjZDMxN2ZmZThhYzQgPSBMLmNpcmNsZU1hcmtlcigKICAgICAgICAgICAgICAgIFszNC4wMDI1ODEsLTExOC4xNTY1ODZdLAogICAgICAgICAgICAgICAgewogICJidWJibGluZ01vdXNlRXZlbnRzIjogdHJ1ZSwKICAiY29sb3IiOiAiIzgwZmZiNCIsCiAgImRhc2hBcnJheSI6IG51bGwsCiAgImRhc2hPZmZzZXQiOiBudWxsLAogICJmaWxsIjogdHJ1ZSwKICAiZmlsbENvbG9yIjogIiM4MGZmYjQiLAogICJmaWxsT3BhY2l0eSI6IDAuNywKICAiZmlsbFJ1bGUiOiAiZXZlbm9kZCIsCiAgImxpbmVDYXAiOiAicm91bmQiLAogICJsaW5lSm9pbiI6ICJyb3VuZCIsCiAgIm9wYWNpdHkiOiAxLjAsCiAgInJhZGl1cyI6IDUsCiAgInN0cm9rZSI6IHRydWUsCiAgIndlaWdodCI6IDMKfQogICAgICAgICAgICAgICAgKS5hZGRUbyhtYXBfNDIyOTUyODhmODU4NGI2ZGEyMzcyMjYzN2I2ZGY4Y2MpOwogICAgICAgICAgICAKICAgIAogICAgICAgICAgICB2YXIgcG9wdXBfMGViMmI3NDUyZGMyNGQ5ODg0MTMyMjUyMzI3OTJlMDcgPSBMLnBvcHVwKHttYXhXaWR0aDogJzMwMCd9KTsKCiAgICAgICAgICAgIAogICAgICAgICAgICAgICAgdmFyIGh0bWxfMmM0NzVmMmVkZmMyNDhjZDkzZWY1NjM4ZTFmZWM0OGEgPSAkKCc8ZGl2IGlkPSJodG1sXzJjNDc1ZjJlZGZjMjQ4Y2Q5M2VmNTYzOGUxZmVjNDhhIiBzdHlsZT0id2lkdGg6IDEwMC4wJTsgaGVpZ2h0OiAxMDAuMCU7Ij5Db21tZXJjZSBDbHVzdGVyIDM8L2Rpdj4nKVswXTsKICAgICAgICAgICAgICAgIHBvcHVwXzBlYjJiNzQ1MmRjMjRkOTg4NDEzMjI1MjMyNzkyZTA3LnNldENvbnRlbnQoaHRtbF8yYzQ3NWYyZWRmYzI0OGNkOTNlZjU2MzhlMWZlYzQ4YSk7CiAgICAgICAgICAgIAoKICAgICAgICAgICAgY2lyY2xlX21hcmtlcl9iYmI4ODdjNzU1ODA0ZjFlODQ1N2NkMzE3ZmZlOGFjNC5iaW5kUG9wdXAocG9wdXBfMGViMmI3NDUyZGMyNGQ5ODg0MTMyMjUyMzI3OTJlMDcpOwoKICAgICAgICAgICAgCiAgICAgICAgCiAgICAKICAgICAgICAgICAgdmFyIGNpcmNsZV9tYXJrZXJfOTQ2N2NkN2UzNDc3NGZkY2I1YmU1YzM4YmI4MzhkNTggPSBMLmNpcmNsZU1hcmtlcigKICAgICAgICAgICAgICAgIFszMy44OTQ5MjcsLTExOC4yMjY2MjRdLAogICAgICAgICAgICAgICAgewogICJidWJibGluZ01vdXNlRXZlbnRzIjogdHJ1ZSwKICAiY29sb3IiOiAiIzgwZmZiNCIsCiAgImRhc2hBcnJheSI6IG51bGwsCiAgImRhc2hPZmZzZXQiOiBudWxsLAogICJmaWxsIjogdHJ1ZSwKICAiZmlsbENvbG9yIjogIiM4MGZmYjQiLAogICJmaWxsT3BhY2l0eSI6IDAuNywKICAiZmlsbFJ1bGUiOiAiZXZlbm9kZCIsCiAgImxpbmVDYXAiOiAicm91bmQiLAogICJsaW5lSm9pbiI6ICJyb3VuZCIsCiAgIm9wYWNpdHkiOiAxLjAsCiAgInJhZGl1cyI6IDUsCiAgInN0cm9rZSI6IHRydWUsCiAgIndlaWdodCI6IDMKfQogICAgICAgICAgICAgICAgKS5hZGRUbyhtYXBfNDIyOTUyODhmODU4NGI2ZGEyMzcyMjYzN2I2ZGY4Y2MpOwogICAgICAgICAgICAKICAgIAogICAgICAgICAgICB2YXIgcG9wdXBfMjVmZGIwMDliMGIxNDcxMWJkN2Q3Nzg1ZjFhZjE4OGIgPSBMLnBvcHVwKHttYXhXaWR0aDogJzMwMCd9KTsKCiAgICAgICAgICAgIAogICAgICAgICAgICAgICAgdmFyIGh0bWxfOGFjOWVhNjdiMWY3NGJiMDljYTU3ZjgwZGFkN2I1N2EgPSAkKCc8ZGl2IGlkPSJodG1sXzhhYzllYTY3YjFmNzRiYjA5Y2E1N2Y4MGRhZDdiNTdhIiBzdHlsZT0id2lkdGg6IDEwMC4wJTsgaGVpZ2h0OiAxMDAuMCU7Ij5Db21wdG9uIENsdXN0ZXIgMzwvZGl2PicpWzBdOwogICAgICAgICAgICAgICAgcG9wdXBfMjVmZGIwMDliMGIxNDcxMWJkN2Q3Nzg1ZjFhZjE4OGIuc2V0Q29udGVudChodG1sXzhhYzllYTY3YjFmNzRiYjA5Y2E1N2Y4MGRhZDdiNTdhKTsKICAgICAgICAgICAgCgogICAgICAgICAgICBjaXJjbGVfbWFya2VyXzk0NjdjZDdlMzQ3NzRmZGNiNWJlNWMzOGJiODM4ZDU4LmJpbmRQb3B1cChwb3B1cF8yNWZkYjAwOWIwYjE0NzExYmQ3ZDc3ODVmMWFmMTg4Yik7CgogICAgICAgICAgICAKICAgICAgICAKICAgIAogICAgICAgICAgICB2YXIgY2lyY2xlX21hcmtlcl85YTdiY2Y2YzE5MDI0NmNjOTFkYjc3ZDM1Y2FlOWNkZSA9IEwuY2lyY2xlTWFya2VyKAogICAgICAgICAgICAgICAgWzM0LjEwMjQsLTExNy44NTQ4NjVdLAogICAgICAgICAgICAgICAgewogICJidWJibGluZ01vdXNlRXZlbnRzIjogdHJ1ZSwKICAiY29sb3IiOiAiIzgwMDBmZiIsCiAgImRhc2hBcnJheSI6IG51bGwsCiAgImRhc2hPZmZzZXQiOiBudWxsLAogICJmaWxsIjogdHJ1ZSwKICAiZmlsbENvbG9yIjogIiM4MDAwZmYiLAogICJmaWxsT3BhY2l0eSI6IDAuNywKICAiZmlsbFJ1bGUiOiAiZXZlbm9kZCIsCiAgImxpbmVDYXAiOiAicm91bmQiLAogICJsaW5lSm9pbiI6ICJyb3VuZCIsCiAgIm9wYWNpdHkiOiAxLjAsCiAgInJhZGl1cyI6IDUsCiAgInN0cm9rZSI6IHRydWUsCiAgIndlaWdodCI6IDMKfQogICAgICAgICAgICAgICAgKS5hZGRUbyhtYXBfNDIyOTUyODhmODU4NGI2ZGEyMzcyMjYzN2I2ZGY4Y2MpOwogICAgICAgICAgICAKICAgIAogICAgICAgICAgICB2YXIgcG9wdXBfZGQ1MTE1ODBjOGM0NDI0YzllZDg3MDI5ZDhkYzY5MDIgPSBMLnBvcHVwKHttYXhXaWR0aDogJzMwMCd9KTsKCiAgICAgICAgICAgIAogICAgICAgICAgICAgICAgdmFyIGh0bWxfNTA0ZGE1MTQ3NGY5NDVmYWI0OTUxMzQ4MzI5M2E3OWMgPSAkKCc8ZGl2IGlkPSJodG1sXzUwNGRhNTE0NzRmOTQ1ZmFiNDk1MTM0ODMyOTNhNzljIiBzdHlsZT0id2lkdGg6IDEwMC4wJTsgaGVpZ2h0OiAxMDAuMCU7Ij5Db3ZpbmEgQ2x1c3RlciAxPC9kaXY+JylbMF07CiAgICAgICAgICAgICAgICBwb3B1cF9kZDUxMTU4MGM4YzQ0MjRjOWVkODcwMjlkOGRjNjkwMi5zZXRDb250ZW50KGh0bWxfNTA0ZGE1MTQ3NGY5NDVmYWI0OTUxMzQ4MzI5M2E3OWMpOwogICAgICAgICAgICAKCiAgICAgICAgICAgIGNpcmNsZV9tYXJrZXJfOWE3YmNmNmMxOTAyNDZjYzkxZGI3N2QzNWNhZTljZGUuYmluZFBvcHVwKHBvcHVwX2RkNTExNTgwYzhjNDQyNGM5ZWQ4NzAyOWQ4ZGM2OTAyKTsKCiAgICAgICAgICAgIAogICAgICAgIAogICAgCiAgICAgICAgICAgIHZhciBjaXJjbGVfbWFya2VyXzc1NGY5OWZlMGJmYzRjYzViNGU0ZTIyY2UwOWI1MTE4ID0gTC5jaXJjbGVNYXJrZXIoCiAgICAgICAgICAgICAgICBbNDIuOTU5NzM4LC04Ny44NjE0NzFdLAogICAgICAgICAgICAgICAgewogICJidWJibGluZ01vdXNlRXZlbnRzIjogdHJ1ZSwKICAiY29sb3IiOiAiIzgwMDBmZiIsCiAgImRhc2hBcnJheSI6IG51bGwsCiAgImRhc2hPZmZzZXQiOiBudWxsLAogICJmaWxsIjogdHJ1ZSwKICAiZmlsbENvbG9yIjogIiM4MDAwZmYiLAogICJmaWxsT3BhY2l0eSI6IDAuNywKICAiZmlsbFJ1bGUiOiAiZXZlbm9kZCIsCiAgImxpbmVDYXAiOiAicm91bmQiLAogICJsaW5lSm9pbiI6ICJyb3VuZCIsCiAgIm9wYWNpdHkiOiAxLjAsCiAgInJhZGl1cyI6IDUsCiAgInN0cm9rZSI6IHRydWUsCiAgIndlaWdodCI6IDMKfQogICAgICAgICAgICAgICAgKS5hZGRUbyhtYXBfNDIyOTUyODhmODU4NGI2ZGEyMzcyMjYzN2I2ZGY4Y2MpOwogICAgICAgICAgICAKICAgIAogICAgICAgICAgICB2YXIgcG9wdXBfMGYxZTg1NTRhNWVmNGQ2M2E3YWJlYTM2OGFjY2YyMTQgPSBMLnBvcHVwKHttYXhXaWR0aDogJzMwMCd9KTsKCiAgICAgICAgICAgIAogICAgICAgICAgICAgICAgdmFyIGh0bWxfYjMxZWRmZTgyZTRkNDU2N2I1NWE0ODUwNDdiNWE4ZjUgPSAkKCc8ZGl2IGlkPSJodG1sX2IzMWVkZmU4MmU0ZDQ1NjdiNTVhNDg1MDQ3YjVhOGY1IiBzdHlsZT0id2lkdGg6IDEwMC4wJTsgaGVpZ2h0OiAxMDAuMCU7Ij5DdWRhaHkgQ2x1c3RlciAxPC9kaXY+JylbMF07CiAgICAgICAgICAgICAgICBwb3B1cF8wZjFlODU1NGE1ZWY0ZDYzYTdhYmVhMzY4YWNjZjIxNC5zZXRDb250ZW50KGh0bWxfYjMxZWRmZTgyZTRkNDU2N2I1NWE0ODUwNDdiNWE4ZjUpOwogICAgICAgICAgICAKCiAgICAgICAgICAgIGNpcmNsZV9tYXJrZXJfNzU0Zjk5ZmUwYmZjNGNjNWI0ZTRlMjJjZTA5YjUxMTguYmluZFBvcHVwKHBvcHVwXzBmMWU4NTU0YTVlZjRkNjNhN2FiZWEzNjhhY2NmMjE0KTsKCiAgICAgICAgICAgIAogICAgICAgIAogICAgCiAgICAgICAgICAgIHZhciBjaXJjbGVfbWFya2VyX2VjOGVkYTg1ZDUyNDRhMDlhMWNmNGQ0MjEzNDc2ZWRlID0gTC5jaXJjbGVNYXJrZXIoCiAgICAgICAgICAgICAgICBbMzQuMDIxMTIyNCwtMTE4LjM5NjQ2NjVdLAogICAgICAgICAgICAgICAgewogICJidWJibGluZ01vdXNlRXZlbnRzIjogdHJ1ZSwKICAiY29sb3IiOiAiIzgwZmZiNCIsCiAgImRhc2hBcnJheSI6IG51bGwsCiAgImRhc2hPZmZzZXQiOiBudWxsLAogICJmaWxsIjogdHJ1ZSwKICAiZmlsbENvbG9yIjogIiM4MGZmYjQiLAogICJmaWxsT3BhY2l0eSI6IDAuNywKICAiZmlsbFJ1bGUiOiAiZXZlbm9kZCIsCiAgImxpbmVDYXAiOiAicm91bmQiLAogICJsaW5lSm9pbiI6ICJyb3VuZCIsCiAgIm9wYWNpdHkiOiAxLjAsCiAgInJhZGl1cyI6IDUsCiAgInN0cm9rZSI6IHRydWUsCiAgIndlaWdodCI6IDMKfQogICAgICAgICAgICAgICAgKS5hZGRUbyhtYXBfNDIyOTUyODhmODU4NGI2ZGEyMzcyMjYzN2I2ZGY4Y2MpOwogICAgICAgICAgICAKICAgIAogICAgICAgICAgICB2YXIgcG9wdXBfNTM3ZWU0ZDgxNWE2NDBkNDg1NzFjMTdmZmRiODI2NmMgPSBMLnBvcHVwKHttYXhXaWR0aDogJzMwMCd9KTsKCiAgICAgICAgICAgIAogICAgICAgICAgICAgICAgdmFyIGh0bWxfN2E0ZTIwMDhlYTJlNDNkZDg1OTRlNjgwZTZlYjc4ZWUgPSAkKCc8ZGl2IGlkPSJodG1sXzdhNGUyMDA4ZWEyZTQzZGQ4NTk0ZTY4MGU2ZWI3OGVlIiBzdHlsZT0id2lkdGg6IDEwMC4wJTsgaGVpZ2h0OiAxMDAuMCU7Ij5DdWx2ZXIgQ2l0eSBDbHVzdGVyIDM8L2Rpdj4nKVswXTsKICAgICAgICAgICAgICAgIHBvcHVwXzUzN2VlNGQ4MTVhNjQwZDQ4NTcxYzE3ZmZkYjgyNjZjLnNldENvbnRlbnQoaHRtbF83YTRlMjAwOGVhMmU0M2RkODU5NGU2ODBlNmViNzhlZSk7CiAgICAgICAgICAgIAoKICAgICAgICAgICAgY2lyY2xlX21hcmtlcl9lYzhlZGE4NWQ1MjQ0YTA5YTFjZjRkNDIxMzQ3NmVkZS5iaW5kUG9wdXAocG9wdXBfNTM3ZWU0ZDgxNWE2NDBkNDg1NzFjMTdmZmRiODI2NmMpOwoKICAgICAgICAgICAgCiAgICAgICAgCiAgICAKICAgICAgICAgICAgdmFyIGNpcmNsZV9tYXJrZXJfNWRhMmEyNTQzN2NkNDRlZWI5NGVmNTAwZTQ1YWJmNzcgPSBMLmNpcmNsZU1hcmtlcigKICAgICAgICAgICAgICAgIFszNC4wMjg2MjI2LC0xMTcuODEwMzM2N10sCiAgICAgICAgICAgICAgICB7CiAgImJ1YmJsaW5nTW91c2VFdmVudHMiOiB0cnVlLAogICJjb2xvciI6ICIjODBmZmI0IiwKICAiZGFzaEFycmF5IjogbnVsbCwKICAiZGFzaE9mZnNldCI6IG51bGwsCiAgImZpbGwiOiB0cnVlLAogICJmaWxsQ29sb3IiOiAiIzgwZmZiNCIsCiAgImZpbGxPcGFjaXR5IjogMC43LAogICJmaWxsUnVsZSI6ICJldmVub2RkIiwKICAibGluZUNhcCI6ICJyb3VuZCIsCiAgImxpbmVKb2luIjogInJvdW5kIiwKICAib3BhY2l0eSI6IDEuMCwKICAicmFkaXVzIjogNSwKICAic3Ryb2tlIjogdHJ1ZSwKICAid2VpZ2h0IjogMwp9CiAgICAgICAgICAgICAgICApLmFkZFRvKG1hcF80MjI5NTI4OGY4NTg0YjZkYTIzNzIyNjM3YjZkZjhjYyk7CiAgICAgICAgICAgIAogICAgCiAgICAgICAgICAgIHZhciBwb3B1cF8xMzgwNWJlMDE2Zjk0OWE4OGYyYjdiNDE4ZWFmYzMxYyA9IEwucG9wdXAoe21heFdpZHRoOiAnMzAwJ30pOwoKICAgICAgICAgICAgCiAgICAgICAgICAgICAgICB2YXIgaHRtbF9mNDU3ZDYyMWZlODk0YjQ1ODZiNzc5ODNlZGI5OTg0MiA9ICQoJzxkaXYgaWQ9Imh0bWxfZjQ1N2Q2MjFmZTg5NGI0NTg2Yjc3OTgzZWRiOTk4NDIiIHN0eWxlPSJ3aWR0aDogMTAwLjAlOyBoZWlnaHQ6IDEwMC4wJTsiPkRpYW1vbmQgQmFyIENsdXN0ZXIgMzwvZGl2PicpWzBdOwogICAgICAgICAgICAgICAgcG9wdXBfMTM4MDViZTAxNmY5NDlhODhmMmI3YjQxOGVhZmMzMWMuc2V0Q29udGVudChodG1sX2Y0NTdkNjIxZmU4OTRiNDU4NmI3Nzk4M2VkYjk5ODQyKTsKICAgICAgICAgICAgCgogICAgICAgICAgICBjaXJjbGVfbWFya2VyXzVkYTJhMjU0MzdjZDQ0ZWViOTRlZjUwMGU0NWFiZjc3LmJpbmRQb3B1cChwb3B1cF8xMzgwNWJlMDE2Zjk0OWE4OGYyYjdiNDE4ZWFmYzMxYyk7CgogICAgICAgICAgICAKICAgICAgICAKICAgIAogICAgICAgICAgICB2YXIgY2lyY2xlX21hcmtlcl9kMWQyYjQ5ZTNjNGY0ZmI0OWY1OWIzOWY0MDRhNDlmMyA9IEwuY2lyY2xlTWFya2VyKAogICAgICAgICAgICAgICAgWzMzLjk0MDAxNDMsLTExOC4xMzI1Njg4XSwKICAgICAgICAgICAgICAgIHsKICAiYnViYmxpbmdNb3VzZUV2ZW50cyI6IHRydWUsCiAgImNvbG9yIjogIiM4MGZmYjQiLAogICJkYXNoQXJyYXkiOiBudWxsLAogICJkYXNoT2Zmc2V0IjogbnVsbCwKICAiZmlsbCI6IHRydWUsCiAgImZpbGxDb2xvciI6ICIjODBmZmI0IiwKICAiZmlsbE9wYWNpdHkiOiAwLjcsCiAgImZpbGxSdWxlIjogImV2ZW5vZGQiLAogICJsaW5lQ2FwIjogInJvdW5kIiwKICAibGluZUpvaW4iOiAicm91bmQiLAogICJvcGFjaXR5IjogMS4wLAogICJyYWRpdXMiOiA1LAogICJzdHJva2UiOiB0cnVlLAogICJ3ZWlnaHQiOiAzCn0KICAgICAgICAgICAgICAgICkuYWRkVG8obWFwXzQyMjk1Mjg4Zjg1ODRiNmRhMjM3MjI2MzdiNmRmOGNjKTsKICAgICAgICAgICAgCiAgICAKICAgICAgICAgICAgdmFyIHBvcHVwXzVlZDEwYTY3MjZmMzRhMmVhMWNkOTQzZmI2OGE3ZTBkID0gTC5wb3B1cCh7bWF4V2lkdGg6ICczMDAnfSk7CgogICAgICAgICAgICAKICAgICAgICAgICAgICAgIHZhciBodG1sXzExYTgyZWE1OGFlZjRjN2Y4MTAzYmY3ZDFkNzRhOTgzID0gJCgnPGRpdiBpZD0iaHRtbF8xMWE4MmVhNThhZWY0YzdmODEwM2JmN2QxZDc0YTk4MyIgc3R5bGU9IndpZHRoOiAxMDAuMCU7IGhlaWdodDogMTAwLjAlOyI+RG93bmV5IENsdXN0ZXIgMzwvZGl2PicpWzBdOwogICAgICAgICAgICAgICAgcG9wdXBfNWVkMTBhNjcyNmYzNGEyZWExY2Q5NDNmYjY4YTdlMGQuc2V0Q29udGVudChodG1sXzExYTgyZWE1OGFlZjRjN2Y4MTAzYmY3ZDFkNzRhOTgzKTsKICAgICAgICAgICAgCgogICAgICAgICAgICBjaXJjbGVfbWFya2VyX2QxZDJiNDllM2M0ZjRmYjQ5ZjU5YjM5ZjQwNGE0OWYzLmJpbmRQb3B1cChwb3B1cF81ZWQxMGE2NzI2ZjM0YTJlYTFjZDk0M2ZiNjhhN2UwZCk7CgogICAgICAgICAgICAKICAgICAgICAKICAgIAogICAgICAgICAgICB2YXIgY2lyY2xlX21hcmtlcl9jOWNkZGU3MmU3Y2Y0YTU1YjZjYThjZGE4NjgzNGE1MyA9IEwuY2lyY2xlTWFya2VyKAogICAgICAgICAgICAgICAgWzM0LjEzOTQ1MTMsLTExNy45NzcyODczXSwKICAgICAgICAgICAgICAgIHsKICAiYnViYmxpbmdNb3VzZUV2ZW50cyI6IHRydWUsCiAgImNvbG9yIjogIiM4MGZmYjQiLAogICJkYXNoQXJyYXkiOiBudWxsLAogICJkYXNoT2Zmc2V0IjogbnVsbCwKICAiZmlsbCI6IHRydWUsCiAgImZpbGxDb2xvciI6ICIjODBmZmI0IiwKICAiZmlsbE9wYWNpdHkiOiAwLjcsCiAgImZpbGxSdWxlIjogImV2ZW5vZGQiLAogICJsaW5lQ2FwIjogInJvdW5kIiwKICAibGluZUpvaW4iOiAicm91bmQiLAogICJvcGFjaXR5IjogMS4wLAogICJyYWRpdXMiOiA1LAogICJzdHJva2UiOiB0cnVlLAogICJ3ZWlnaHQiOiAzCn0KICAgICAgICAgICAgICAgICkuYWRkVG8obWFwXzQyMjk1Mjg4Zjg1ODRiNmRhMjM3MjI2MzdiNmRmOGNjKTsKICAgICAgICAgICAgCiAgICAKICAgICAgICAgICAgdmFyIHBvcHVwXzBlZTQ1YTE3OWZjYTRjMTJiMzAyOWMzMGFiOThhYWExID0gTC5wb3B1cCh7bWF4V2lkdGg6ICczMDAnfSk7CgogICAgICAgICAgICAKICAgICAgICAgICAgICAgIHZhciBodG1sX2U2NGMzY2Y5MDlmYjQwYjk5N2IyZWY0ODIyMjA2NDhmID0gJCgnPGRpdiBpZD0iaHRtbF9lNjRjM2NmOTA5ZmI0MGI5OTdiMmVmNDgyMjIwNjQ4ZiIgc3R5bGU9IndpZHRoOiAxMDAuMCU7IGhlaWdodDogMTAwLjAlOyI+RHVhcnRlIENsdXN0ZXIgMzwvZGl2PicpWzBdOwogICAgICAgICAgICAgICAgcG9wdXBfMGVlNDVhMTc5ZmNhNGMxMmIzMDI5YzMwYWI5OGFhYTEuc2V0Q29udGVudChodG1sX2U2NGMzY2Y5MDlmYjQwYjk5N2IyZWY0ODIyMjA2NDhmKTsKICAgICAgICAgICAgCgogICAgICAgICAgICBjaXJjbGVfbWFya2VyX2M5Y2RkZTcyZTdjZjRhNTViNmNhOGNkYTg2ODM0YTUzLmJpbmRQb3B1cChwb3B1cF8wZWU0NWExNzlmY2E0YzEyYjMwMjljMzBhYjk4YWFhMSk7CgogICAgICAgICAgICAKICAgICAgICAKICAgIAogICAgICAgICAgICB2YXIgY2lyY2xlX21hcmtlcl85MDJkNmZhNjUwMzI0NTAxODRlMmFlNGU4NWI2ZjI5OSA9IEwuY2lyY2xlTWFya2VyKAogICAgICAgICAgICAgICAgWzM0LjA3NTE1NzEsLTExOC4wMzY4NDldLAogICAgICAgICAgICAgICAgewogICJidWJibGluZ01vdXNlRXZlbnRzIjogdHJ1ZSwKICAiY29sb3IiOiAiIzgwMDBmZiIsCiAgImRhc2hBcnJheSI6IG51bGwsCiAgImRhc2hPZmZzZXQiOiBudWxsLAogICJmaWxsIjogdHJ1ZSwKICAiZmlsbENvbG9yIjogIiM4MDAwZmYiLAogICJmaWxsT3BhY2l0eSI6IDAuNywKICAiZmlsbFJ1bGUiOiAiZXZlbm9kZCIsCiAgImxpbmVDYXAiOiAicm91bmQiLAogICJsaW5lSm9pbiI6ICJyb3VuZCIsCiAgIm9wYWNpdHkiOiAxLjAsCiAgInJhZGl1cyI6IDUsCiAgInN0cm9rZSI6IHRydWUsCiAgIndlaWdodCI6IDMKfQogICAgICAgICAgICAgICAgKS5hZGRUbyhtYXBfNDIyOTUyODhmODU4NGI2ZGEyMzcyMjYzN2I2ZGY4Y2MpOwogICAgICAgICAgICAKICAgIAogICAgICAgICAgICB2YXIgcG9wdXBfZDJhMGZkN2ZiMWI5NGJjZmFhNDJjZmM2ZTVmYTBjYzIgPSBMLnBvcHVwKHttYXhXaWR0aDogJzMwMCd9KTsKCiAgICAgICAgICAgIAogICAgICAgICAgICAgICAgdmFyIGh0bWxfNDZmNWYzM2U4MmJkNGNjOTgzMDZkYzAzZTEzNGY3NzQgPSAkKCc8ZGl2IGlkPSJodG1sXzQ2ZjVmMzNlODJiZDRjYzk4MzA2ZGMwM2UxMzRmNzc0IiBzdHlsZT0id2lkdGg6IDEwMC4wJTsgaGVpZ2h0OiAxMDAuMCU7Ij5FbCBNb250ZSBDbHVzdGVyIDE8L2Rpdj4nKVswXTsKICAgICAgICAgICAgICAgIHBvcHVwX2QyYTBmZDdmYjFiOTRiY2ZhYTQyY2ZjNmU1ZmEwY2MyLnNldENvbnRlbnQoaHRtbF80NmY1ZjMzZTgyYmQ0Y2M5ODMwNmRjMDNlMTM0Zjc3NCk7CiAgICAgICAgICAgIAoKICAgICAgICAgICAgY2lyY2xlX21hcmtlcl85MDJkNmZhNjUwMzI0NTAxODRlMmFlNGU4NWI2ZjI5OS5iaW5kUG9wdXAocG9wdXBfZDJhMGZkN2ZiMWI5NGJjZmFhNDJjZmM2ZTVmYTBjYzIpOwoKICAgICAgICAgICAgCiAgICAgICAgCiAgICAKICAgICAgICAgICAgdmFyIGNpcmNsZV9tYXJrZXJfODY5OGZlNTk3ZjgzNGE3MWEwYmQyYjFkYTcyYmFiOGIgPSBMLmNpcmNsZU1hcmtlcigKICAgICAgICAgICAgICAgIFszMy45MTI1OTQsLTExOC4zODMxNzldLAogICAgICAgICAgICAgICAgewogICJidWJibGluZ01vdXNlRXZlbnRzIjogdHJ1ZSwKICAiY29sb3IiOiAiIzgwMDBmZiIsCiAgImRhc2hBcnJheSI6IG51bGwsCiAgImRhc2hPZmZzZXQiOiBudWxsLAogICJmaWxsIjogdHJ1ZSwKICAiZmlsbENvbG9yIjogIiM4MDAwZmYiLAogICJmaWxsT3BhY2l0eSI6IDAuNywKICAiZmlsbFJ1bGUiOiAiZXZlbm9kZCIsCiAgImxpbmVDYXAiOiAicm91bmQiLAogICJsaW5lSm9pbiI6ICJyb3VuZCIsCiAgIm9wYWNpdHkiOiAxLjAsCiAgInJhZGl1cyI6IDUsCiAgInN0cm9rZSI6IHRydWUsCiAgIndlaWdodCI6IDMKfQogICAgICAgICAgICAgICAgKS5hZGRUbyhtYXBfNDIyOTUyODhmODU4NGI2ZGEyMzcyMjYzN2I2ZGY4Y2MpOwogICAgICAgICAgICAKICAgIAogICAgICAgICAgICB2YXIgcG9wdXBfYzRiYjQ3M2Q4NzdlNDU0MThkNGU1MjQ4ODhmZmRlNWIgPSBMLnBvcHVwKHttYXhXaWR0aDogJzMwMCd9KTsKCiAgICAgICAgICAgIAogICAgICAgICAgICAgICAgdmFyIGh0bWxfMmYzZjJlOTI1ZWI5NDYyMTgyOWY5NTUwODJhMGM1OTggPSAkKCc8ZGl2IGlkPSJodG1sXzJmM2YyZTkyNWViOTQ2MjE4MjlmOTU1MDgyYTBjNTk4IiBzdHlsZT0id2lkdGg6IDEwMC4wJTsgaGVpZ2h0OiAxMDAuMCU7Ij5FbCBTZWd1bmRvIENsdXN0ZXIgMTwvZGl2PicpWzBdOwogICAgICAgICAgICAgICAgcG9wdXBfYzRiYjQ3M2Q4NzdlNDU0MThkNGU1MjQ4ODhmZmRlNWIuc2V0Q29udGVudChodG1sXzJmM2YyZTkyNWViOTQ2MjE4MjlmOTU1MDgyYTBjNTk4KTsKICAgICAgICAgICAgCgogICAgICAgICAgICBjaXJjbGVfbWFya2VyXzg2OThmZTU5N2Y4MzRhNzFhMGJkMmIxZGE3MmJhYjhiLmJpbmRQb3B1cChwb3B1cF9jNGJiNDczZDg3N2U0NTQxOGQ0ZTUyNDg4OGZmZGU1Yik7CgogICAgICAgICAgICAKICAgICAgICAKICAgIAogICAgICAgICAgICB2YXIgY2lyY2xlX21hcmtlcl9kOTYzMGE3MzZmMDI0NzYwYmViMTdmMDlhNDRjNmJjOSA9IEwuY2lyY2xlTWFya2VyKAogICAgICAgICAgICAgICAgWzMzLjg4ODY1OCwtMTE4LjMwNzY0OF0sCiAgICAgICAgICAgICAgICB7CiAgImJ1YmJsaW5nTW91c2VFdmVudHMiOiB0cnVlLAogICJjb2xvciI6ICIjZmZiMzYwIiwKICAiZGFzaEFycmF5IjogbnVsbCwKICAiZGFzaE9mZnNldCI6IG51bGwsCiAgImZpbGwiOiB0cnVlLAogICJmaWxsQ29sb3IiOiAiI2ZmYjM2MCIsCiAgImZpbGxPcGFjaXR5IjogMC43LAogICJmaWxsUnVsZSI6ICJldmVub2RkIiwKICAibGluZUNhcCI6ICJyb3VuZCIsCiAgImxpbmVKb2luIjogInJvdW5kIiwKICAib3BhY2l0eSI6IDEuMCwKICAicmFkaXVzIjogNSwKICAic3Ryb2tlIjogdHJ1ZSwKICAid2VpZ2h0IjogMwp9CiAgICAgICAgICAgICAgICApLmFkZFRvKG1hcF80MjI5NTI4OGY4NTg0YjZkYTIzNzIyNjM3YjZkZjhjYyk7CiAgICAgICAgICAgIAogICAgCiAgICAgICAgICAgIHZhciBwb3B1cF9kOGZiMzhkYTFkMGE0M2Q0ODUzNGEyNWJjMDM5Yjc2ZCA9IEwucG9wdXAoe21heFdpZHRoOiAnMzAwJ30pOwoKICAgICAgICAgICAgCiAgICAgICAgICAgICAgICB2YXIgaHRtbF82ZGI5MGRiNzRiMDg0NTQyYjU5NmJkM2EyZTkwNDE4OCA9ICQoJzxkaXYgaWQ9Imh0bWxfNmRiOTBkYjc0YjA4NDU0MmI1OTZiZDNhMmU5MDQxODgiIHN0eWxlPSJ3aWR0aDogMTAwLjAlOyBoZWlnaHQ6IDEwMC4wJTsiPkdhcmRlbmEgQ2x1c3RlciA0PC9kaXY+JylbMF07CiAgICAgICAgICAgICAgICBwb3B1cF9kOGZiMzhkYTFkMGE0M2Q0ODUzNGEyNWJjMDM5Yjc2ZC5zZXRDb250ZW50KGh0bWxfNmRiOTBkYjc0YjA4NDU0MmI1OTZiZDNhMmU5MDQxODgpOwogICAgICAgICAgICAKCiAgICAgICAgICAgIGNpcmNsZV9tYXJrZXJfZDk2MzBhNzM2ZjAyNDc2MGJlYjE3ZjA5YTQ0YzZiYzkuYmluZFBvcHVwKHBvcHVwX2Q4ZmIzOGRhMWQwYTQzZDQ4NTM0YTI1YmMwMzliNzZkKTsKCiAgICAgICAgICAgIAogICAgICAgIAogICAgCiAgICAgICAgICAgIHZhciBjaXJjbGVfbWFya2VyX2ZhNTQ1OWZkNDc3NjQwNjQ5NWZlOTRhOTNiNmUxYjIyID0gTC5jaXJjbGVNYXJrZXIoCiAgICAgICAgICAgICAgICBbMzQuMTkyOTEyLC0xMTguMjQ2MjQ4NjE0NzU0XSwKICAgICAgICAgICAgICAgIHsKICAiYnViYmxpbmdNb3VzZUV2ZW50cyI6IHRydWUsCiAgImNvbG9yIjogIiM4MGZmYjQiLAogICJkYXNoQXJyYXkiOiBudWxsLAogICJkYXNoT2Zmc2V0IjogbnVsbCwKICAiZmlsbCI6IHRydWUsCiAgImZpbGxDb2xvciI6ICIjODBmZmI0IiwKICAiZmlsbE9wYWNpdHkiOiAwLjcsCiAgImZpbGxSdWxlIjogImV2ZW5vZGQiLAogICJsaW5lQ2FwIjogInJvdW5kIiwKICAibGluZUpvaW4iOiAicm91bmQiLAogICJvcGFjaXR5IjogMS4wLAogICJyYWRpdXMiOiA1LAogICJzdHJva2UiOiB0cnVlLAogICJ3ZWlnaHQiOiAzCn0KICAgICAgICAgICAgICAgICkuYWRkVG8obWFwXzQyMjk1Mjg4Zjg1ODRiNmRhMjM3MjI2MzdiNmRmOGNjKTsKICAgICAgICAgICAgCiAgICAKICAgICAgICAgICAgdmFyIHBvcHVwX2Q0NThhNGM1MDBiZDQxYWJhZjkwN2Y5OGEyMTUwNjBmID0gTC5wb3B1cCh7bWF4V2lkdGg6ICczMDAnfSk7CgogICAgICAgICAgICAKICAgICAgICAgICAgICAgIHZhciBodG1sXzMzOTJkYzAyNGY0ODQ0MmRhYjg2NWQyMzc0MWYxZDhiID0gJCgnPGRpdiBpZD0iaHRtbF8zMzkyZGMwMjRmNDg0NDJkYWI4NjVkMjM3NDFmMWQ4YiIgc3R5bGU9IndpZHRoOiAxMDAuMCU7IGhlaWdodDogMTAwLjAlOyI+R2xlbmRhbGUgQ2x1c3RlciAzPC9kaXY+JylbMF07CiAgICAgICAgICAgICAgICBwb3B1cF9kNDU4YTRjNTAwYmQ0MWFiYWY5MDdmOThhMjE1MDYwZi5zZXRDb250ZW50KGh0bWxfMzM5MmRjMDI0ZjQ4NDQyZGFiODY1ZDIzNzQxZjFkOGIpOwogICAgICAgICAgICAKCiAgICAgICAgICAgIGNpcmNsZV9tYXJrZXJfZmE1NDU5ZmQ0Nzc2NDA2NDk1ZmU5NGE5M2I2ZTFiMjIuYmluZFBvcHVwKHBvcHVwX2Q0NThhNGM1MDBiZDQxYWJhZjkwN2Y5OGEyMTUwNjBmKTsKCiAgICAgICAgICAgIAogICAgICAgIAogICAgCiAgICAgICAgICAgIHZhciBjaXJjbGVfbWFya2VyX2E4OWJkNGQ5OGQ0YjQ3NDA5MDIyNWYzNDRiNTNhOGYxID0gTC5jaXJjbGVNYXJrZXIoCiAgICAgICAgICAgICAgICBbMzQuMTM2MTE4NywtMTE3Ljg2NTMzOV0sCiAgICAgICAgICAgICAgICB7CiAgImJ1YmJsaW5nTW91c2VFdmVudHMiOiB0cnVlLAogICJjb2xvciI6ICIjODBmZmI0IiwKICAiZGFzaEFycmF5IjogbnVsbCwKICAiZGFzaE9mZnNldCI6IG51bGwsCiAgImZpbGwiOiB0cnVlLAogICJmaWxsQ29sb3IiOiAiIzgwZmZiNCIsCiAgImZpbGxPcGFjaXR5IjogMC43LAogICJmaWxsUnVsZSI6ICJldmVub2RkIiwKICAibGluZUNhcCI6ICJyb3VuZCIsCiAgImxpbmVKb2luIjogInJvdW5kIiwKICAib3BhY2l0eSI6IDEuMCwKICAicmFkaXVzIjogNSwKICAic3Ryb2tlIjogdHJ1ZSwKICAid2VpZ2h0IjogMwp9CiAgICAgICAgICAgICAgICApLmFkZFRvKG1hcF80MjI5NTI4OGY4NTg0YjZkYTIzNzIyNjM3YjZkZjhjYyk7CiAgICAgICAgICAgIAogICAgCiAgICAgICAgICAgIHZhciBwb3B1cF82OGI5ZWQyYjI1NzU0MTc4YTNjODYyNjhmMzc1NTIyMyA9IEwucG9wdXAoe21heFdpZHRoOiAnMzAwJ30pOwoKICAgICAgICAgICAgCiAgICAgICAgICAgICAgICB2YXIgaHRtbF9lODMyMTdjYzY3ZDU0M2I5YWNkN2RjYTI5NjdiYjVmNCA9ICQoJzxkaXYgaWQ9Imh0bWxfZTgzMjE3Y2M2N2Q1NDNiOWFjZDdkY2EyOTY3YmI1ZjQiIHN0eWxlPSJ3aWR0aDogMTAwLjAlOyBoZWlnaHQ6IDEwMC4wJTsiPkdsZW5kb3JhIENsdXN0ZXIgMzwvZGl2PicpWzBdOwogICAgICAgICAgICAgICAgcG9wdXBfNjhiOWVkMmIyNTc1NDE3OGEzYzg2MjY4ZjM3NTUyMjMuc2V0Q29udGVudChodG1sX2U4MzIxN2NjNjdkNTQzYjlhY2Q3ZGNhMjk2N2JiNWY0KTsKICAgICAgICAgICAgCgogICAgICAgICAgICBjaXJjbGVfbWFya2VyX2E4OWJkNGQ5OGQ0YjQ3NDA5MDIyNWYzNDRiNTNhOGYxLmJpbmRQb3B1cChwb3B1cF82OGI5ZWQyYjI1NzU0MTc4YTNjODYyNjhmMzc1NTIyMyk7CgogICAgICAgICAgICAKICAgICAgICAKICAgIAogICAgICAgICAgICB2YXIgY2lyY2xlX21hcmtlcl8zNjczMDI2YzE1MjM0NjRkOWIzMTk0N2FlZGJlZWE3ZCA9IEwuY2lyY2xlTWFya2VyKAogICAgICAgICAgICAgICAgWzMzLjgyODQ3ODcsLTExOC4wNzQzMTM3XSwKICAgICAgICAgICAgICAgIHsKICAiYnViYmxpbmdNb3VzZUV2ZW50cyI6IHRydWUsCiAgImNvbG9yIjogIiM4MGZmYjQiLAogICJkYXNoQXJyYXkiOiBudWxsLAogICJkYXNoT2Zmc2V0IjogbnVsbCwKICAiZmlsbCI6IHRydWUsCiAgImZpbGxDb2xvciI6ICIjODBmZmI0IiwKICAiZmlsbE9wYWNpdHkiOiAwLjcsCiAgImZpbGxSdWxlIjogImV2ZW5vZGQiLAogICJsaW5lQ2FwIjogInJvdW5kIiwKICAibGluZUpvaW4iOiAicm91bmQiLAogICJvcGFjaXR5IjogMS4wLAogICJyYWRpdXMiOiA1LAogICJzdHJva2UiOiB0cnVlLAogICJ3ZWlnaHQiOiAzCn0KICAgICAgICAgICAgICAgICkuYWRkVG8obWFwXzQyMjk1Mjg4Zjg1ODRiNmRhMjM3MjI2MzdiNmRmOGNjKTsKICAgICAgICAgICAgCiAgICAKICAgICAgICAgICAgdmFyIHBvcHVwXzA2YWUyM2QzZTY4NTQ3NDZhZjZhMTIyZGMzYmY3MTBmID0gTC5wb3B1cCh7bWF4V2lkdGg6ICczMDAnfSk7CgogICAgICAgICAgICAKICAgICAgICAgICAgICAgIHZhciBodG1sXzRjMWRmNjFmNThjZTQzYWM5OTE3MDJkYzQ3Nzc3YTJjID0gJCgnPGRpdiBpZD0iaHRtbF80YzFkZjYxZjU4Y2U0M2FjOTkxNzAyZGM0Nzc3N2EyYyIgc3R5bGU9IndpZHRoOiAxMDAuMCU7IGhlaWdodDogMTAwLjAlOyI+SGF3YWlpYW4gR2FyZGVucyBDbHVzdGVyIDM8L2Rpdj4nKVswXTsKICAgICAgICAgICAgICAgIHBvcHVwXzA2YWUyM2QzZTY4NTQ3NDZhZjZhMTIyZGMzYmY3MTBmLnNldENvbnRlbnQoaHRtbF80YzFkZjYxZjU4Y2U0M2FjOTkxNzAyZGM0Nzc3N2EyYyk7CiAgICAgICAgICAgIAoKICAgICAgICAgICAgY2lyY2xlX21hcmtlcl8zNjczMDI2YzE1MjM0NjRkOWIzMTk0N2FlZGJlZWE3ZC5iaW5kUG9wdXAocG9wdXBfMDZhZTIzZDNlNjg1NDc0NmFmNmExMjJkYzNiZjcxMGYpOwoKICAgICAgICAgICAgCiAgICAgICAgCiAgICAKICAgICAgICAgICAgdmFyIGNpcmNsZV9tYXJrZXJfODk1MDQ0M2NjYTJiNDQ2Yjg0M2FlYmQ5NGQ0NmU5MGQgPSBMLmNpcmNsZU1hcmtlcigKICAgICAgICAgICAgICAgIFszMy45MTE0NTQsLTExOC4zNDgxNl0sCiAgICAgICAgICAgICAgICB7CiAgImJ1YmJsaW5nTW91c2VFdmVudHMiOiB0cnVlLAogICJjb2xvciI6ICIjODAwMGZmIiwKICAiZGFzaEFycmF5IjogbnVsbCwKICAiZGFzaE9mZnNldCI6IG51bGwsCiAgImZpbGwiOiB0cnVlLAogICJmaWxsQ29sb3IiOiAiIzgwMDBmZiIsCiAgImZpbGxPcGFjaXR5IjogMC43LAogICJmaWxsUnVsZSI6ICJldmVub2RkIiwKICAibGluZUNhcCI6ICJyb3VuZCIsCiAgImxpbmVKb2luIjogInJvdW5kIiwKICAib3BhY2l0eSI6IDEuMCwKICAicmFkaXVzIjogNSwKICAic3Ryb2tlIjogdHJ1ZSwKICAid2VpZ2h0IjogMwp9CiAgICAgICAgICAgICAgICApLmFkZFRvKG1hcF80MjI5NTI4OGY4NTg0YjZkYTIzNzIyNjM3YjZkZjhjYyk7CiAgICAgICAgICAgIAogICAgCiAgICAgICAgICAgIHZhciBwb3B1cF9lMTMxZDk1MmY1YmU0YjUzYWZiNWNhNTAxOTc2ZDY2MCA9IEwucG9wdXAoe21heFdpZHRoOiAnMzAwJ30pOwoKICAgICAgICAgICAgCiAgICAgICAgICAgICAgICB2YXIgaHRtbF81YjEzMTY2ODZmZDE0YmI3ODA0NjdmNDczOGVjMTAzMiA9ICQoJzxkaXYgaWQ9Imh0bWxfNWIxMzE2Njg2ZmQxNGJiNzgwNDY3ZjQ3MzhlYzEwMzIiIHN0eWxlPSJ3aWR0aDogMTAwLjAlOyBoZWlnaHQ6IDEwMC4wJTsiPkhhd3Rob3JuZSBDbHVzdGVyIDE8L2Rpdj4nKVswXTsKICAgICAgICAgICAgICAgIHBvcHVwX2UxMzFkOTUyZjViZTRiNTNhZmI1Y2E1MDE5NzZkNjYwLnNldENvbnRlbnQoaHRtbF81YjEzMTY2ODZmZDE0YmI3ODA0NjdmNDczOGVjMTAzMik7CiAgICAgICAgICAgIAoKICAgICAgICAgICAgY2lyY2xlX21hcmtlcl84OTUwNDQzY2NhMmI0NDZiODQzYWViZDk0ZDQ2ZTkwZC5iaW5kUG9wdXAocG9wdXBfZTEzMWQ5NTJmNWJlNGI1M2FmYjVjYTUwMTk3NmQ2NjApOwoKICAgICAgICAgICAgCiAgICAgICAgCiAgICAKICAgICAgICAgICAgdmFyIGNpcmNsZV9tYXJrZXJfZmU5ZDgyYjA5YTQ5NDM3Mzg0NWI2ZDhkNDgyMWVkYjIgPSBMLmNpcmNsZU1hcmtlcigKICAgICAgICAgICAgICAgIFszMy44NjQyOCwtMTE4LjM5NTkxXSwKICAgICAgICAgICAgICAgIHsKICAiYnViYmxpbmdNb3VzZUV2ZW50cyI6IHRydWUsCiAgImNvbG9yIjogIiNmZmIzNjAiLAogICJkYXNoQXJyYXkiOiBudWxsLAogICJkYXNoT2Zmc2V0IjogbnVsbCwKICAiZmlsbCI6IHRydWUsCiAgImZpbGxDb2xvciI6ICIjZmZiMzYwIiwKICAiZmlsbE9wYWNpdHkiOiAwLjcsCiAgImZpbGxSdWxlIjogImV2ZW5vZGQiLAogICJsaW5lQ2FwIjogInJvdW5kIiwKICAibGluZUpvaW4iOiAicm91bmQiLAogICJvcGFjaXR5IjogMS4wLAogICJyYWRpdXMiOiA1LAogICJzdHJva2UiOiB0cnVlLAogICJ3ZWlnaHQiOiAzCn0KICAgICAgICAgICAgICAgICkuYWRkVG8obWFwXzQyMjk1Mjg4Zjg1ODRiNmRhMjM3MjI2MzdiNmRmOGNjKTsKICAgICAgICAgICAgCiAgICAKICAgICAgICAgICAgdmFyIHBvcHVwX2ZlODNhODVlMmU0NzRjOGViNGI5YzU0NjQzZGZmNGFmID0gTC5wb3B1cCh7bWF4V2lkdGg6ICczMDAnfSk7CgogICAgICAgICAgICAKICAgICAgICAgICAgICAgIHZhciBodG1sX2I2ZTZhMmNhMjE4ZjQzYjk5NGNmZGY3MjZmNDc0NjAzID0gJCgnPGRpdiBpZD0iaHRtbF9iNmU2YTJjYTIxOGY0M2I5OTRjZmRmNzI2ZjQ3NDYwMyIgc3R5bGU9IndpZHRoOiAxMDAuMCU7IGhlaWdodDogMTAwLjAlOyI+SGVybW9zYSBCZWFjaCBDbHVzdGVyIDQ8L2Rpdj4nKVswXTsKICAgICAgICAgICAgICAgIHBvcHVwX2ZlODNhODVlMmU0NzRjOGViNGI5YzU0NjQzZGZmNGFmLnNldENvbnRlbnQoaHRtbF9iNmU2YTJjYTIxOGY0M2I5OTRjZmRmNzI2ZjQ3NDYwMyk7CiAgICAgICAgICAgIAoKICAgICAgICAgICAgY2lyY2xlX21hcmtlcl9mZTlkODJiMDlhNDk0MzczODQ1YjZkOGQ0ODIxZWRiMi5iaW5kUG9wdXAocG9wdXBfZmU4M2E4NWUyZTQ3NGM4ZWI0YjljNTQ2NDNkZmY0YWYpOwoKICAgICAgICAgICAgCiAgICAgICAgCiAgICAKICAgICAgICAgICAgdmFyIGNpcmNsZV9tYXJrZXJfMmRhODMwOWZmY2ViNGVkZmJiNTM4Njc1MDU0ODJlNmMgPSBMLmNpcmNsZU1hcmtlcigKICAgICAgICAgICAgICAgIFszNC4xNjQwOTEsLTExOC42NTc4MzddLAogICAgICAgICAgICAgICAgewogICJidWJibGluZ01vdXNlRXZlbnRzIjogdHJ1ZSwKICAiY29sb3IiOiAiIzgwZmZiNCIsCiAgImRhc2hBcnJheSI6IG51bGwsCiAgImRhc2hPZmZzZXQiOiBudWxsLAogICJmaWxsIjogdHJ1ZSwKICAiZmlsbENvbG9yIjogIiM4MGZmYjQiLAogICJmaWxsT3BhY2l0eSI6IDAuNywKICAiZmlsbFJ1bGUiOiAiZXZlbm9kZCIsCiAgImxpbmVDYXAiOiAicm91bmQiLAogICJsaW5lSm9pbiI6ICJyb3VuZCIsCiAgIm9wYWNpdHkiOiAxLjAsCiAgInJhZGl1cyI6IDUsCiAgInN0cm9rZSI6IHRydWUsCiAgIndlaWdodCI6IDMKfQogICAgICAgICAgICAgICAgKS5hZGRUbyhtYXBfNDIyOTUyODhmODU4NGI2ZGEyMzcyMjYzN2I2ZGY4Y2MpOwogICAgICAgICAgICAKICAgIAogICAgICAgICAgICB2YXIgcG9wdXBfZWNjODU2M2YwY2M4NDExMDhkMjdkMjY3OGZmMjMxZjMgPSBMLnBvcHVwKHttYXhXaWR0aDogJzMwMCd9KTsKCiAgICAgICAgICAgIAogICAgICAgICAgICAgICAgdmFyIGh0bWxfMDY5YTc2ZWM1NjAyNGNiZGI3MWQ4OGJkYTA5NjhlNjYgPSAkKCc8ZGl2IGlkPSJodG1sXzA2OWE3NmVjNTYwMjRjYmRiNzFkODhiZGEwOTY4ZTY2IiBzdHlsZT0id2lkdGg6IDEwMC4wJTsgaGVpZ2h0OiAxMDAuMCU7Ij5IaWRkZW4gSGlsbHMgQ2x1c3RlciAzPC9kaXY+JylbMF07CiAgICAgICAgICAgICAgICBwb3B1cF9lY2M4NTYzZjBjYzg0MTEwOGQyN2QyNjc4ZmYyMzFmMy5zZXRDb250ZW50KGh0bWxfMDY5YTc2ZWM1NjAyNGNiZGI3MWQ4OGJkYTA5NjhlNjYpOwogICAgICAgICAgICAKCiAgICAgICAgICAgIGNpcmNsZV9tYXJrZXJfMmRhODMwOWZmY2ViNGVkZmJiNTM4Njc1MDU0ODJlNmMuYmluZFBvcHVwKHBvcHVwX2VjYzg1NjNmMGNjODQxMTA4ZDI3ZDI2NzhmZjIzMWYzKTsKCiAgICAgICAgICAgIAogICAgICAgIAogICAgCiAgICAgICAgICAgIHZhciBjaXJjbGVfbWFya2VyX2M5ZTFlMTA2ZDJiNzRlZGVhNTQ4ZWIzODVlMTg5MjU1ID0gTC5jaXJjbGVNYXJrZXIoCiAgICAgICAgICAgICAgICBbMzMuOTgxNjgxMiwtMTE4LjIyNTA3MjVdLAogICAgICAgICAgICAgICAgewogICJidWJibGluZ01vdXNlRXZlbnRzIjogdHJ1ZSwKICAiY29sb3IiOiAiIzgwMDBmZiIsCiAgImRhc2hBcnJheSI6IG51bGwsCiAgImRhc2hPZmZzZXQiOiBudWxsLAogICJmaWxsIjogdHJ1ZSwKICAiZmlsbENvbG9yIjogIiM4MDAwZmYiLAogICJmaWxsT3BhY2l0eSI6IDAuNywKICAiZmlsbFJ1bGUiOiAiZXZlbm9kZCIsCiAgImxpbmVDYXAiOiAicm91bmQiLAogICJsaW5lSm9pbiI6ICJyb3VuZCIsCiAgIm9wYWNpdHkiOiAxLjAsCiAgInJhZGl1cyI6IDUsCiAgInN0cm9rZSI6IHRydWUsCiAgIndlaWdodCI6IDMKfQogICAgICAgICAgICAgICAgKS5hZGRUbyhtYXBfNDIyOTUyODhmODU4NGI2ZGEyMzcyMjYzN2I2ZGY4Y2MpOwogICAgICAgICAgICAKICAgIAogICAgICAgICAgICB2YXIgcG9wdXBfYjY4M2ZiNjUxODNiNDUwMWE2ZTA5MzY5MjZjOWFjY2QgPSBMLnBvcHVwKHttYXhXaWR0aDogJzMwMCd9KTsKCiAgICAgICAgICAgIAogICAgICAgICAgICAgICAgdmFyIGh0bWxfNTM0ZTY3MWUwMzc5NGYwNDhlM2MwYmJkNzA1YzFjODcgPSAkKCc8ZGl2IGlkPSJodG1sXzUzNGU2NzFlMDM3OTRmMDQ4ZTNjMGJiZDcwNWMxYzg3IiBzdHlsZT0id2lkdGg6IDEwMC4wJTsgaGVpZ2h0OiAxMDAuMCU7Ij5IdW50aW5ndG9uIFBhcmsgQ2x1c3RlciAxPC9kaXY+JylbMF07CiAgICAgICAgICAgICAgICBwb3B1cF9iNjgzZmI2NTE4M2I0NTAxYTZlMDkzNjkyNmM5YWNjZC5zZXRDb250ZW50KGh0bWxfNTM0ZTY3MWUwMzc5NGYwNDhlM2MwYmJkNzA1YzFjODcpOwogICAgICAgICAgICAKCiAgICAgICAgICAgIGNpcmNsZV9tYXJrZXJfYzllMWUxMDZkMmI3NGVkZWE1NDhlYjM4NWUxODkyNTUuYmluZFBvcHVwKHBvcHVwX2I2ODNmYjY1MTgzYjQ1MDFhNmUwOTM2OTI2YzlhY2NkKTsKCiAgICAgICAgICAgIAogICAgICAgIAogICAgCiAgICAgICAgICAgIHZhciBjaXJjbGVfbWFya2VyXzhmMWU4M2EwNzEyMDQyNDhiNDZmNjA0YmM5OGYzZGU1ID0gTC5jaXJjbGVNYXJrZXIoCiAgICAgICAgICAgICAgICBbMzMuOTk2ODIxLC0xMTcuODg2MTEwNTc1NDc4XSwKICAgICAgICAgICAgICAgIHsKICAiYnViYmxpbmdNb3VzZUV2ZW50cyI6IHRydWUsCiAgImNvbG9yIjogIiM4MGZmYjQiLAogICJkYXNoQXJyYXkiOiBudWxsLAogICJkYXNoT2Zmc2V0IjogbnVsbCwKICAiZmlsbCI6IHRydWUsCiAgImZpbGxDb2xvciI6ICIjODBmZmI0IiwKICAiZmlsbE9wYWNpdHkiOiAwLjcsCiAgImZpbGxSdWxlIjogImV2ZW5vZGQiLAogICJsaW5lQ2FwIjogInJvdW5kIiwKICAibGluZUpvaW4iOiAicm91bmQiLAogICJvcGFjaXR5IjogMS4wLAogICJyYWRpdXMiOiA1LAogICJzdHJva2UiOiB0cnVlLAogICJ3ZWlnaHQiOiAzCn0KICAgICAgICAgICAgICAgICkuYWRkVG8obWFwXzQyMjk1Mjg4Zjg1ODRiNmRhMjM3MjI2MzdiNmRmOGNjKTsKICAgICAgICAgICAgCiAgICAKICAgICAgICAgICAgdmFyIHBvcHVwX2Q1YWExODgxMGQ2ZjQ5YmNiNjIwNDgyMGE1NmM2ZmI3ID0gTC5wb3B1cCh7bWF4V2lkdGg6ICczMDAnfSk7CgogICAgICAgICAgICAKICAgICAgICAgICAgICAgIHZhciBodG1sX2JmZThhM2ZjMGIyNzQxOGI5ZDY5ZjZjM2RjZWM4YWUwID0gJCgnPGRpdiBpZD0iaHRtbF9iZmU4YTNmYzBiMjc0MThiOWQ2OWY2YzNkY2VjOGFlMCIgc3R5bGU9IndpZHRoOiAxMDAuMCU7IGhlaWdodDogMTAwLjAlOyI+SW5kdXN0cnkgQ2x1c3RlciAzPC9kaXY+JylbMF07CiAgICAgICAgICAgICAgICBwb3B1cF9kNWFhMTg4MTBkNmY0OWJjYjYyMDQ4MjBhNTZjNmZiNy5zZXRDb250ZW50KGh0bWxfYmZlOGEzZmMwYjI3NDE4YjlkNjlmNmMzZGNlYzhhZTApOwogICAgICAgICAgICAKCiAgICAgICAgICAgIGNpcmNsZV9tYXJrZXJfOGYxZTgzYTA3MTIwNDI0OGI0NmY2MDRiYzk4ZjNkZTUuYmluZFBvcHVwKHBvcHVwX2Q1YWExODgxMGQ2ZjQ5YmNiNjIwNDgyMGE1NmM2ZmI3KTsKCiAgICAgICAgICAgIAogICAgICAgIAogICAgCiAgICAgICAgICAgIHZhciBjaXJjbGVfbWFya2VyXzkzZTAwN2E4YzE0NTQyZjBhY2RlOTU4YTk5ZWQ0ZmVmID0gTC5jaXJjbGVNYXJrZXIoCiAgICAgICAgICAgICAgICBbMzMuOTYxODUsLTExOC4zNTUwMzc3XSwKICAgICAgICAgICAgICAgIHsKICAiYnViYmxpbmdNb3VzZUV2ZW50cyI6IHRydWUsCiAgImNvbG9yIjogIiM4MGZmYjQiLAogICJkYXNoQXJyYXkiOiBudWxsLAogICJkYXNoT2Zmc2V0IjogbnVsbCwKICAiZmlsbCI6IHRydWUsCiAgImZpbGxDb2xvciI6ICIjODBmZmI0IiwKICAiZmlsbE9wYWNpdHkiOiAwLjcsCiAgImZpbGxSdWxlIjogImV2ZW5vZGQiLAogICJsaW5lQ2FwIjogInJvdW5kIiwKICAibGluZUpvaW4iOiAicm91bmQiLAogICJvcGFjaXR5IjogMS4wLAogICJyYWRpdXMiOiA1LAogICJzdHJva2UiOiB0cnVlLAogICJ3ZWlnaHQiOiAzCn0KICAgICAgICAgICAgICAgICkuYWRkVG8obWFwXzQyMjk1Mjg4Zjg1ODRiNmRhMjM3MjI2MzdiNmRmOGNjKTsKICAgICAgICAgICAgCiAgICAKICAgICAgICAgICAgdmFyIHBvcHVwXzQ2NGE0MGRkODc3NTRhNDZhMDc5NTc2ZWMwZGM4YmI0ID0gTC5wb3B1cCh7bWF4V2lkdGg6ICczMDAnfSk7CgogICAgICAgICAgICAKICAgICAgICAgICAgICAgIHZhciBodG1sXzk4N2QzNjU2YzdhODRhODY5YWI2ZTNlZTk2MTFkZTE5ID0gJCgnPGRpdiBpZD0iaHRtbF85ODdkMzY1NmM3YTg0YTg2OWFiNmUzZWU5NjExZGUxOSIgc3R5bGU9IndpZHRoOiAxMDAuMCU7IGhlaWdodDogMTAwLjAlOyI+SW5nbGV3b29kIENsdXN0ZXIgMzwvZGl2PicpWzBdOwogICAgICAgICAgICAgICAgcG9wdXBfNDY0YTQwZGQ4Nzc1NGE0NmEwNzk1NzZlYzBkYzhiYjQuc2V0Q29udGVudChodG1sXzk4N2QzNjU2YzdhODRhODY5YWI2ZTNlZTk2MTFkZTE5KTsKICAgICAgICAgICAgCgogICAgICAgICAgICBjaXJjbGVfbWFya2VyXzkzZTAwN2E4YzE0NTQyZjBhY2RlOTU4YTk5ZWQ0ZmVmLmJpbmRQb3B1cChwb3B1cF80NjRhNDBkZDg3NzU0YTQ2YTA3OTU3NmVjMGRjOGJiNCk7CgogICAgICAgICAgICAKICAgICAgICAKICAgIAogICAgICAgICAgICB2YXIgY2lyY2xlX21hcmtlcl83ZGE2MGU4Yzc4ZDc0OWFiYTU0YmYyZGI5YmQ0ZmI4YSA9IEwuY2lyY2xlTWFya2VyKAogICAgICAgICAgICAgICAgWzM0LjEwNjk1MjcsLTExNy45MzUzNDEzXSwKICAgICAgICAgICAgICAgIHsKICAiYnViYmxpbmdNb3VzZUV2ZW50cyI6IHRydWUsCiAgImNvbG9yIjogIiM4MDAwZmYiLAogICJkYXNoQXJyYXkiOiBudWxsLAogICJkYXNoT2Zmc2V0IjogbnVsbCwKICAiZmlsbCI6IHRydWUsCiAgImZpbGxDb2xvciI6ICIjODAwMGZmIiwKICAiZmlsbE9wYWNpdHkiOiAwLjcsCiAgImZpbGxSdWxlIjogImV2ZW5vZGQiLAogICJsaW5lQ2FwIjogInJvdW5kIiwKICAibGluZUpvaW4iOiAicm91bmQiLAogICJvcGFjaXR5IjogMS4wLAogICJyYWRpdXMiOiA1LAogICJzdHJva2UiOiB0cnVlLAogICJ3ZWlnaHQiOiAzCn0KICAgICAgICAgICAgICAgICkuYWRkVG8obWFwXzQyMjk1Mjg4Zjg1ODRiNmRhMjM3MjI2MzdiNmRmOGNjKTsKICAgICAgICAgICAgCiAgICAKICAgICAgICAgICAgdmFyIHBvcHVwXzMyMWY5ZGEyMmJlNzRmMTFiM2VhZTM2ODM5YjIzMTMxID0gTC5wb3B1cCh7bWF4V2lkdGg6ICczMDAnfSk7CgogICAgICAgICAgICAKICAgICAgICAgICAgICAgIHZhciBodG1sXzBiMzMyMzI0ODM2NTQ5Nzk5ZWUzMzViOTVmM2Y0Y2UzID0gJCgnPGRpdiBpZD0iaHRtbF8wYjMzMjMyNDgzNjU0OTc5OWVlMzM1Yjk1ZjNmNGNlMyIgc3R5bGU9IndpZHRoOiAxMDAuMCU7IGhlaWdodDogMTAwLjAlOyI+SXJ3aW5kYWxlIENsdXN0ZXIgMTwvZGl2PicpWzBdOwogICAgICAgICAgICAgICAgcG9wdXBfMzIxZjlkYTIyYmU3NGYxMWIzZWFlMzY4MzliMjMxMzEuc2V0Q29udGVudChodG1sXzBiMzMyMzI0ODM2NTQ5Nzk5ZWUzMzViOTVmM2Y0Y2UzKTsKICAgICAgICAgICAgCgogICAgICAgICAgICBjaXJjbGVfbWFya2VyXzdkYTYwZThjNzhkNzQ5YWJhNTRiZjJkYjliZDRmYjhhLmJpbmRQb3B1cChwb3B1cF8zMjFmOWRhMjJiZTc0ZjExYjNlYWUzNjgzOWIyMzEzMSk7CgogICAgICAgICAgICAKICAgICAgICAKICAgIAogICAgICAgICAgICB2YXIgY2lyY2xlX21hcmtlcl8wMWUzZDg5ZDFmM2I0N2ZjOTcxODJiODI3OTc2YmE4OCA9IEwuY2lyY2xlTWFya2VyKAogICAgICAgICAgICAgICAgWzM0LjE5OTgzMDIsLTExOC4yMDA1MjM2XSwKICAgICAgICAgICAgICAgIHsKICAiYnViYmxpbmdNb3VzZUV2ZW50cyI6IHRydWUsCiAgImNvbG9yIjogIiNmZjAwMDAiLAogICJkYXNoQXJyYXkiOiBudWxsLAogICJkYXNoT2Zmc2V0IjogbnVsbCwKICAiZmlsbCI6IHRydWUsCiAgImZpbGxDb2xvciI6ICIjZmYwMDAwIiwKICAiZmlsbE9wYWNpdHkiOiAwLjcsCiAgImZpbGxSdWxlIjogImV2ZW5vZGQiLAogICJsaW5lQ2FwIjogInJvdW5kIiwKICAibGluZUpvaW4iOiAicm91bmQiLAogICJvcGFjaXR5IjogMS4wLAogICJyYWRpdXMiOiA1LAogICJzdHJva2UiOiB0cnVlLAogICJ3ZWlnaHQiOiAzCn0KICAgICAgICAgICAgICAgICkuYWRkVG8obWFwXzQyMjk1Mjg4Zjg1ODRiNmRhMjM3MjI2MzdiNmRmOGNjKTsKICAgICAgICAgICAgCiAgICAKICAgICAgICAgICAgdmFyIHBvcHVwXzU2ZDA0ZDZlZDEwZjQ1MGY4ZjkzNWNjN2ZhY2M2NDc3ID0gTC5wb3B1cCh7bWF4V2lkdGg6ICczMDAnfSk7CgogICAgICAgICAgICAKICAgICAgICAgICAgICAgIHZhciBodG1sX2MxNDdlMjE3MTIyMTQ3ZjhhNGFhMmEzNzM5OTMzMjJmID0gJCgnPGRpdiBpZD0iaHRtbF9jMTQ3ZTIxNzEyMjE0N2Y4YTRhYTJhMzczOTkzMzIyZiIgc3R5bGU9IndpZHRoOiAxMDAuMCU7IGhlaWdodDogMTAwLjAlOyI+TGEgQ2HDsWFkYSBGbGludHJpZGdlIENsdXN0ZXIgMDwvZGl2PicpWzBdOwogICAgICAgICAgICAgICAgcG9wdXBfNTZkMDRkNmVkMTBmNDUwZjhmOTM1Y2M3ZmFjYzY0Nzcuc2V0Q29udGVudChodG1sX2MxNDdlMjE3MTIyMTQ3ZjhhNGFhMmEzNzM5OTMzMjJmKTsKICAgICAgICAgICAgCgogICAgICAgICAgICBjaXJjbGVfbWFya2VyXzAxZTNkODlkMWYzYjQ3ZmM5NzE4MmI4Mjc5NzZiYTg4LmJpbmRQb3B1cChwb3B1cF81NmQwNGQ2ZWQxMGY0NTBmOGY5MzVjYzdmYWNjNjQ3Nyk7CgogICAgICAgICAgICAKICAgICAgICAKICAgIAogICAgICAgICAgICB2YXIgY2lyY2xlX21hcmtlcl82ZjMzYzY0ZWVkMzg0MDkzYTY3NTZjZDg1NjEzNDEyYyA9IEwuY2lyY2xlTWFya2VyKAogICAgICAgICAgICAgICAgWzMzLjk2MDQ1NDYsLTExNy45NTA0MjU1XSwKICAgICAgICAgICAgICAgIHsKICAiYnViYmxpbmdNb3VzZUV2ZW50cyI6IHRydWUsCiAgImNvbG9yIjogIiM4MDAwZmYiLAogICJkYXNoQXJyYXkiOiBudWxsLAogICJkYXNoT2Zmc2V0IjogbnVsbCwKICAiZmlsbCI6IHRydWUsCiAgImZpbGxDb2xvciI6ICIjODAwMGZmIiwKICAiZmlsbE9wYWNpdHkiOiAwLjcsCiAgImZpbGxSdWxlIjogImV2ZW5vZGQiLAogICJsaW5lQ2FwIjogInJvdW5kIiwKICAibGluZUpvaW4iOiAicm91bmQiLAogICJvcGFjaXR5IjogMS4wLAogICJyYWRpdXMiOiA1LAogICJzdHJva2UiOiB0cnVlLAogICJ3ZWlnaHQiOiAzCn0KICAgICAgICAgICAgICAgICkuYWRkVG8obWFwXzQyMjk1Mjg4Zjg1ODRiNmRhMjM3MjI2MzdiNmRmOGNjKTsKICAgICAgICAgICAgCiAgICAKICAgICAgICAgICAgdmFyIHBvcHVwXzZmYTg5ZmJiYjdhYzRjOTg5ZTUyODllNGM0YjY5YmQyID0gTC5wb3B1cCh7bWF4V2lkdGg6ICczMDAnfSk7CgogICAgICAgICAgICAKICAgICAgICAgICAgICAgIHZhciBodG1sX2E1MGFmYjE0ODVmOTQzZGNhODJlODU5N2Y0M2E0NzVmID0gJCgnPGRpdiBpZD0iaHRtbF9hNTBhZmIxNDg1Zjk0M2RjYTgyZTg1OTdmNDNhNDc1ZiIgc3R5bGU9IndpZHRoOiAxMDAuMCU7IGhlaWdodDogMTAwLjAlOyI+TGEgSGFicmEgSGVpZ2h0cyBDbHVzdGVyIDE8L2Rpdj4nKVswXTsKICAgICAgICAgICAgICAgIHBvcHVwXzZmYTg5ZmJiYjdhYzRjOTg5ZTUyODllNGM0YjY5YmQyLnNldENvbnRlbnQoaHRtbF9hNTBhZmIxNDg1Zjk0M2RjYTgyZTg1OTdmNDNhNDc1Zik7CiAgICAgICAgICAgIAoKICAgICAgICAgICAgY2lyY2xlX21hcmtlcl82ZjMzYzY0ZWVkMzg0MDkzYTY3NTZjZDg1NjEzNDEyYy5iaW5kUG9wdXAocG9wdXBfNmZhODlmYmJiN2FjNGM5ODllNTI4OWU0YzRiNjliZDIpOwoKICAgICAgICAgICAgCiAgICAgICAgCiAgICAKICAgICAgICAgICAgdmFyIGNpcmNsZV9tYXJrZXJfMTY1NzM4YTBhNWVhNDIyY2ExMTM2YzQ2MWYzZDg2YTYgPSBMLmNpcmNsZU1hcmtlcigKICAgICAgICAgICAgICAgIFszMy45MDYwOTcxLC0xMTguMDEwNzA5Ml0sCiAgICAgICAgICAgICAgICB7CiAgImJ1YmJsaW5nTW91c2VFdmVudHMiOiB0cnVlLAogICJjb2xvciI6ICIjODBmZmI0IiwKICAiZGFzaEFycmF5IjogbnVsbCwKICAiZGFzaE9mZnNldCI6IG51bGwsCiAgImZpbGwiOiB0cnVlLAogICJmaWxsQ29sb3IiOiAiIzgwZmZiNCIsCiAgImZpbGxPcGFjaXR5IjogMC43LAogICJmaWxsUnVsZSI6ICJldmVub2RkIiwKICAibGluZUNhcCI6ICJyb3VuZCIsCiAgImxpbmVKb2luIjogInJvdW5kIiwKICAib3BhY2l0eSI6IDEuMCwKICAicmFkaXVzIjogNSwKICAic3Ryb2tlIjogdHJ1ZSwKICAid2VpZ2h0IjogMwp9CiAgICAgICAgICAgICAgICApLmFkZFRvKG1hcF80MjI5NTI4OGY4NTg0YjZkYTIzNzIyNjM3YjZkZjhjYyk7CiAgICAgICAgICAgIAogICAgCiAgICAgICAgICAgIHZhciBwb3B1cF9iMTA3MWYyMDZiNmM0MDA5YWU0ZTA2Mzk3YTUxYmNkYSA9IEwucG9wdXAoe21heFdpZHRoOiAnMzAwJ30pOwoKICAgICAgICAgICAgCiAgICAgICAgICAgICAgICB2YXIgaHRtbF9iZDgyZTUxZTgxNzU0YjkzODgxYzYwZTQ5Nzg4N2FmNSA9ICQoJzxkaXYgaWQ9Imh0bWxfYmQ4MmU1MWU4MTc1NGI5Mzg4MWM2MGU0OTc4ODdhZjUiIHN0eWxlPSJ3aWR0aDogMTAwLjAlOyBoZWlnaHQ6IDEwMC4wJTsiPkxhIE1pcmFkYSBDbHVzdGVyIDM8L2Rpdj4nKVswXTsKICAgICAgICAgICAgICAgIHBvcHVwX2IxMDcxZjIwNmI2YzQwMDlhZTRlMDYzOTdhNTFiY2RhLnNldENvbnRlbnQoaHRtbF9iZDgyZTUxZTgxNzU0YjkzODgxYzYwZTQ5Nzg4N2FmNSk7CiAgICAgICAgICAgIAoKICAgICAgICAgICAgY2lyY2xlX21hcmtlcl8xNjU3MzhhMGE1ZWE0MjJjYTExMzZjNDYxZjNkODZhNi5iaW5kUG9wdXAocG9wdXBfYjEwNzFmMjA2YjZjNDAwOWFlNGUwNjM5N2E1MWJjZGEpOwoKICAgICAgICAgICAgCiAgICAgICAgCiAgICAKICAgICAgICAgICAgdmFyIGNpcmNsZV9tYXJrZXJfZDhkZmFkNWJlZmUxNDFiZDhmMDZkZjViY2U0OTViMGEgPSBMLmNpcmNsZU1hcmtlcigKICAgICAgICAgICAgICAgIFszNC4wMTk3OSwtMTE3Ljk1MDM2NzddLAogICAgICAgICAgICAgICAgewogICJidWJibGluZ01vdXNlRXZlbnRzIjogdHJ1ZSwKICAiY29sb3IiOiAiIzgwZmZiNCIsCiAgImRhc2hBcnJheSI6IG51bGwsCiAgImRhc2hPZmZzZXQiOiBudWxsLAogICJmaWxsIjogdHJ1ZSwKICAiZmlsbENvbG9yIjogIiM4MGZmYjQiLAogICJmaWxsT3BhY2l0eSI6IDAuNywKICAiZmlsbFJ1bGUiOiAiZXZlbm9kZCIsCiAgImxpbmVDYXAiOiAicm91bmQiLAogICJsaW5lSm9pbiI6ICJyb3VuZCIsCiAgIm9wYWNpdHkiOiAxLjAsCiAgInJhZGl1cyI6IDUsCiAgInN0cm9rZSI6IHRydWUsCiAgIndlaWdodCI6IDMKfQogICAgICAgICAgICAgICAgKS5hZGRUbyhtYXBfNDIyOTUyODhmODU4NGI2ZGEyMzcyMjYzN2I2ZGY4Y2MpOwogICAgICAgICAgICAKICAgIAogICAgICAgICAgICB2YXIgcG9wdXBfZDg5ZTJkYzYwNTNmNDNhMzllMjkzZmQyZTM4ZWQwMTQgPSBMLnBvcHVwKHttYXhXaWR0aDogJzMwMCd9KTsKCiAgICAgICAgICAgIAogICAgICAgICAgICAgICAgdmFyIGh0bWxfMTdiMDZjYTE0NjQwNGNiMWI4OGYwOWU4MWU5MzljMDQgPSAkKCc8ZGl2IGlkPSJodG1sXzE3YjA2Y2ExNDY0MDRjYjFiODhmMDllODFlOTM5YzA0IiBzdHlsZT0id2lkdGg6IDEwMC4wJTsgaGVpZ2h0OiAxMDAuMCU7Ij5MYSBQdWVudGUgQ2x1c3RlciAzPC9kaXY+JylbMF07CiAgICAgICAgICAgICAgICBwb3B1cF9kODllMmRjNjA1M2Y0M2EzOWUyOTNmZDJlMzhlZDAxNC5zZXRDb250ZW50KGh0bWxfMTdiMDZjYTE0NjQwNGNiMWI4OGYwOWU4MWU5MzljMDQpOwogICAgICAgICAgICAKCiAgICAgICAgICAgIGNpcmNsZV9tYXJrZXJfZDhkZmFkNWJlZmUxNDFiZDhmMDZkZjViY2U0OTViMGEuYmluZFBvcHVwKHBvcHVwX2Q4OWUyZGM2MDUzZjQzYTM5ZTI5M2ZkMmUzOGVkMDE0KTsKCiAgICAgICAgICAgIAogICAgICAgIAogICAgCiAgICAgICAgICAgIHZhciBjaXJjbGVfbWFya2VyX2ExNjY5NTc4NWIxOTQ3NmQ4NzI0ZTc4ZTU3Yjk3Zjg2ID0gTC5jaXJjbGVNYXJrZXIoCiAgICAgICAgICAgICAgICBbMzkuNjMxMTA4NSwtMTA1LjExMDA1ODE4MjIzXSwKICAgICAgICAgICAgICAgIHsKICAiYnViYmxpbmdNb3VzZUV2ZW50cyI6IHRydWUsCiAgImNvbG9yIjogIiM4MGZmYjQiLAogICJkYXNoQXJyYXkiOiBudWxsLAogICJkYXNoT2Zmc2V0IjogbnVsbCwKICAiZmlsbCI6IHRydWUsCiAgImZpbGxDb2xvciI6ICIjODBmZmI0IiwKICAiZmlsbE9wYWNpdHkiOiAwLjcsCiAgImZpbGxSdWxlIjogImV2ZW5vZGQiLAogICJsaW5lQ2FwIjogInJvdW5kIiwKICAibGluZUpvaW4iOiAicm91bmQiLAogICJvcGFjaXR5IjogMS4wLAogICJyYWRpdXMiOiA1LAogICJzdHJva2UiOiB0cnVlLAogICJ3ZWlnaHQiOiAzCn0KICAgICAgICAgICAgICAgICkuYWRkVG8obWFwXzQyMjk1Mjg4Zjg1ODRiNmRhMjM3MjI2MzdiNmRmOGNjKTsKICAgICAgICAgICAgCiAgICAKICAgICAgICAgICAgdmFyIHBvcHVwXzdiYTI3ZGRiNzljYTQ5ZTdiOWQwMjhlZTY1MTYwNjNmID0gTC5wb3B1cCh7bWF4V2lkdGg6ICczMDAnfSk7CgogICAgICAgICAgICAKICAgICAgICAgICAgICAgIHZhciBodG1sXzNjZWE5NDUxYTA4NjQ3MjhiMjg2M2Y3YzdhMjAxODRkID0gJCgnPGRpdiBpZD0iaHRtbF8zY2VhOTQ1MWEwODY0NzI4YjI4NjNmN2M3YTIwMTg0ZCIgc3R5bGU9IndpZHRoOiAxMDAuMCU7IGhlaWdodDogMTAwLjAlOyI+TGFrZXdvb2QgQ2x1c3RlciAzPC9kaXY+JylbMF07CiAgICAgICAgICAgICAgICBwb3B1cF83YmEyN2RkYjc5Y2E0OWU3YjlkMDI4ZWU2NTE2MDYzZi5zZXRDb250ZW50KGh0bWxfM2NlYTk0NTFhMDg2NDcyOGIyODYzZjdjN2EyMDE4NGQpOwogICAgICAgICAgICAKCiAgICAgICAgICAgIGNpcmNsZV9tYXJrZXJfYTE2Njk1Nzg1YjE5NDc2ZDg3MjRlNzhlNTdiOTdmODYuYmluZFBvcHVwKHBvcHVwXzdiYTI3ZGRiNzljYTQ5ZTdiOWQwMjhlZTY1MTYwNjNmKTsKCiAgICAgICAgICAgIAogICAgICAgIAogICAgCiAgICAgICAgICAgIHZhciBjaXJjbGVfbWFya2VyX2E5ZWMwZDliNDNjMzRiNDg4NzgwNTJkNzA4NTQ1YjVjID0gTC5jaXJjbGVNYXJrZXIoCiAgICAgICAgICAgICAgICBbNDAuMDM4MTMsLTc2LjMwNTY2ODZdLAogICAgICAgICAgICAgICAgewogICJidWJibGluZ01vdXNlRXZlbnRzIjogdHJ1ZSwKICAiY29sb3IiOiAiIzgwMDBmZiIsCiAgImRhc2hBcnJheSI6IG51bGwsCiAgImRhc2hPZmZzZXQiOiBudWxsLAogICJmaWxsIjogdHJ1ZSwKICAiZmlsbENvbG9yIjogIiM4MDAwZmYiLAogICJmaWxsT3BhY2l0eSI6IDAuNywKICAiZmlsbFJ1bGUiOiAiZXZlbm9kZCIsCiAgImxpbmVDYXAiOiAicm91bmQiLAogICJsaW5lSm9pbiI6ICJyb3VuZCIsCiAgIm9wYWNpdHkiOiAxLjAsCiAgInJhZGl1cyI6IDUsCiAgInN0cm9rZSI6IHRydWUsCiAgIndlaWdodCI6IDMKfQogICAgICAgICAgICAgICAgKS5hZGRUbyhtYXBfNDIyOTUyODhmODU4NGI2ZGEyMzcyMjYzN2I2ZGY4Y2MpOwogICAgICAgICAgICAKICAgIAogICAgICAgICAgICB2YXIgcG9wdXBfODMxNzIyNmRhOGRmNDI3N2JhZTQ1YWUwNTk4YTc2ZjAgPSBMLnBvcHVwKHttYXhXaWR0aDogJzMwMCd9KTsKCiAgICAgICAgICAgIAogICAgICAgICAgICAgICAgdmFyIGh0bWxfOTBlOTE4NGJhOGFjNGNhMTgwNDhlOTA4YmVjMDM3ZjggPSAkKCc8ZGl2IGlkPSJodG1sXzkwZTkxODRiYThhYzRjYTE4MDQ4ZTkwOGJlYzAzN2Y4IiBzdHlsZT0id2lkdGg6IDEwMC4wJTsgaGVpZ2h0OiAxMDAuMCU7Ij5MYW5jYXN0ZXIgQ2x1c3RlciAxPC9kaXY+JylbMF07CiAgICAgICAgICAgICAgICBwb3B1cF84MzE3MjI2ZGE4ZGY0Mjc3YmFlNDVhZTA1OThhNzZmMC5zZXRDb250ZW50KGh0bWxfOTBlOTE4NGJhOGFjNGNhMTgwNDhlOTA4YmVjMDM3ZjgpOwogICAgICAgICAgICAKCiAgICAgICAgICAgIGNpcmNsZV9tYXJrZXJfYTllYzBkOWI0M2MzNGI0ODg3ODA1MmQ3MDg1NDViNWMuYmluZFBvcHVwKHBvcHVwXzgzMTcyMjZkYThkZjQyNzdiYWU0NWFlMDU5OGE3NmYwKTsKCiAgICAgICAgICAgIAogICAgICAgIAogICAgCiAgICAgICAgICAgIHZhciBjaXJjbGVfbWFya2VyXzdjZmQ3ZjZiNjZlMDQxNzc4N2YwZjNmNDY3NWE5OTkyID0gTC5jaXJjbGVNYXJrZXIoCiAgICAgICAgICAgICAgICBbMzMuODg3MTEsLTExOC4zNTMxNDgxXSwKICAgICAgICAgICAgICAgIHsKICAiYnViYmxpbmdNb3VzZUV2ZW50cyI6IHRydWUsCiAgImNvbG9yIjogIiM4MGZmYjQiLAogICJkYXNoQXJyYXkiOiBudWxsLAogICJkYXNoT2Zmc2V0IjogbnVsbCwKICAiZmlsbCI6IHRydWUsCiAgImZpbGxDb2xvciI6ICIjODBmZmI0IiwKICAiZmlsbE9wYWNpdHkiOiAwLjcsCiAgImZpbGxSdWxlIjogImV2ZW5vZGQiLAogICJsaW5lQ2FwIjogInJvdW5kIiwKICAibGluZUpvaW4iOiAicm91bmQiLAogICJvcGFjaXR5IjogMS4wLAogICJyYWRpdXMiOiA1LAogICJzdHJva2UiOiB0cnVlLAogICJ3ZWlnaHQiOiAzCn0KICAgICAgICAgICAgICAgICkuYWRkVG8obWFwXzQyMjk1Mjg4Zjg1ODRiNmRhMjM3MjI2MzdiNmRmOGNjKTsKICAgICAgICAgICAgCiAgICAKICAgICAgICAgICAgdmFyIHBvcHVwX2ZjMmM5MGZmZjViNzRkMjNiN2I1NTg0NDBkYWM5MDk0ID0gTC5wb3B1cCh7bWF4V2lkdGg6ICczMDAnfSk7CgogICAgICAgICAgICAKICAgICAgICAgICAgICAgIHZhciBodG1sXzQyYjc2YWRkOGFiYzRiOTM4N2ZkZmNiODRmZjUwODQ1ID0gJCgnPGRpdiBpZD0iaHRtbF80MmI3NmFkZDhhYmM0YjkzODdmZGZjYjg0ZmY1MDg0NSIgc3R5bGU9IndpZHRoOiAxMDAuMCU7IGhlaWdodDogMTAwLjAlOyI+TGF3bmRhbGUgQ2x1c3RlciAzPC9kaXY+JylbMF07CiAgICAgICAgICAgICAgICBwb3B1cF9mYzJjOTBmZmY1Yjc0ZDIzYjdiNTU4NDQwZGFjOTA5NC5zZXRDb250ZW50KGh0bWxfNDJiNzZhZGQ4YWJjNGI5Mzg3ZmRmY2I4NGZmNTA4NDUpOwogICAgICAgICAgICAKCiAgICAgICAgICAgIGNpcmNsZV9tYXJrZXJfN2NmZDdmNmI2NmUwNDE3Nzg3ZjBmM2Y0Njc1YTk5OTIuYmluZFBvcHVwKHBvcHVwX2ZjMmM5MGZmZjViNzRkMjNiN2I1NTg0NDBkYWM5MDk0KTsKCiAgICAgICAgICAgIAogICAgICAgIAogICAgCiAgICAgICAgICAgIHZhciBjaXJjbGVfbWFya2VyX2FjN2I4Nzg5M2ZhMDRlNGM4YWRlOTljZGNmZjcyYWZiID0gTC5jaXJjbGVNYXJrZXIoCiAgICAgICAgICAgICAgICBbMzMuODAzNjU0NSwtMTE4LjMxOTUwMTRdLAogICAgICAgICAgICAgICAgewogICJidWJibGluZ01vdXNlRXZlbnRzIjogdHJ1ZSwKICAiY29sb3IiOiAiIzgwZmZiNCIsCiAgImRhc2hBcnJheSI6IG51bGwsCiAgImRhc2hPZmZzZXQiOiBudWxsLAogICJmaWxsIjogdHJ1ZSwKICAiZmlsbENvbG9yIjogIiM4MGZmYjQiLAogICJmaWxsT3BhY2l0eSI6IDAuNywKICAiZmlsbFJ1bGUiOiAiZXZlbm9kZCIsCiAgImxpbmVDYXAiOiAicm91bmQiLAogICJsaW5lSm9pbiI6ICJyb3VuZCIsCiAgIm9wYWNpdHkiOiAxLjAsCiAgInJhZGl1cyI6IDUsCiAgInN0cm9rZSI6IHRydWUsCiAgIndlaWdodCI6IDMKfQogICAgICAgICAgICAgICAgKS5hZGRUbyhtYXBfNDIyOTUyODhmODU4NGI2ZGEyMzcyMjYzN2I2ZGY4Y2MpOwogICAgICAgICAgICAKICAgIAogICAgICAgICAgICB2YXIgcG9wdXBfYmY2OTQxZjBhZmU2NDhhYzlhMDYwZWIxOTg5NzM2OTcgPSBMLnBvcHVwKHttYXhXaWR0aDogJzMwMCd9KTsKCiAgICAgICAgICAgIAogICAgICAgICAgICAgICAgdmFyIGh0bWxfZmFkNmI4ODE4ZGNkNGZlNzg3MDI2MDM5ZTA2YjNhMWIgPSAkKCc8ZGl2IGlkPSJodG1sX2ZhZDZiODgxOGRjZDRmZTc4NzAyNjAzOWUwNmIzYTFiIiBzdHlsZT0id2lkdGg6IDEwMC4wJTsgaGVpZ2h0OiAxMDAuMCU7Ij5Mb21pdGEgQ2x1c3RlciAzPC9kaXY+JylbMF07CiAgICAgICAgICAgICAgICBwb3B1cF9iZjY5NDFmMGFmZTY0OGFjOWEwNjBlYjE5ODk3MzY5Ny5zZXRDb250ZW50KGh0bWxfZmFkNmI4ODE4ZGNkNGZlNzg3MDI2MDM5ZTA2YjNhMWIpOwogICAgICAgICAgICAKCiAgICAgICAgICAgIGNpcmNsZV9tYXJrZXJfYWM3Yjg3ODkzZmEwNGU0YzhhZGU5OWNkY2ZmNzJhZmIuYmluZFBvcHVwKHBvcHVwX2JmNjk0MWYwYWZlNjQ4YWM5YTA2MGViMTk4OTczNjk3KTsKCiAgICAgICAgICAgIAogICAgICAgIAogICAgCiAgICAgICAgICAgIHZhciBjaXJjbGVfbWFya2VyXzM1ODEyZTVkNTAxMzQwMGQ5OTU4ZmNkNDQ2NTRhYjg5ID0gTC5jaXJjbGVNYXJrZXIoCiAgICAgICAgICAgICAgICBbMzMuNzg1Mzg5NDUsLTExOC4xNTgwNDkzMTUzMTFdLAogICAgICAgICAgICAgICAgewogICJidWJibGluZ01vdXNlRXZlbnRzIjogdHJ1ZSwKICAiY29sb3IiOiAiIzgwMDBmZiIsCiAgImRhc2hBcnJheSI6IG51bGwsCiAgImRhc2hPZmZzZXQiOiBudWxsLAogICJmaWxsIjogdHJ1ZSwKICAiZmlsbENvbG9yIjogIiM4MDAwZmYiLAogICJmaWxsT3BhY2l0eSI6IDAuNywKICAiZmlsbFJ1bGUiOiAiZXZlbm9kZCIsCiAgImxpbmVDYXAiOiAicm91bmQiLAogICJsaW5lSm9pbiI6ICJyb3VuZCIsCiAgIm9wYWNpdHkiOiAxLjAsCiAgInJhZGl1cyI6IDUsCiAgInN0cm9rZSI6IHRydWUsCiAgIndlaWdodCI6IDMKfQogICAgICAgICAgICAgICAgKS5hZGRUbyhtYXBfNDIyOTUyODhmODU4NGI2ZGEyMzcyMjYzN2I2ZGY4Y2MpOwogICAgICAgICAgICAKICAgIAogICAgICAgICAgICB2YXIgcG9wdXBfZWJiYWQ0ZjM1Yzk1NDEzZDkzNzk4NzMwNWFjNDhlYjIgPSBMLnBvcHVwKHttYXhXaWR0aDogJzMwMCd9KTsKCiAgICAgICAgICAgIAogICAgICAgICAgICAgICAgdmFyIGh0bWxfNzlkNzI4OWIwYTM4NDNmM2FkMzk5OWUwMGQzYmIxMDcgPSAkKCc8ZGl2IGlkPSJodG1sXzc5ZDcyODliMGEzODQzZjNhZDM5OTllMDBkM2JiMTA3IiBzdHlsZT0id2lkdGg6IDEwMC4wJTsgaGVpZ2h0OiAxMDAuMCU7Ij5Mb25nIEJlYWNoIENsdXN0ZXIgMTwvZGl2PicpWzBdOwogICAgICAgICAgICAgICAgcG9wdXBfZWJiYWQ0ZjM1Yzk1NDEzZDkzNzk4NzMwNWFjNDhlYjIuc2V0Q29udGVudChodG1sXzc5ZDcyODliMGEzODQzZjNhZDM5OTllMDBkM2JiMTA3KTsKICAgICAgICAgICAgCgogICAgICAgICAgICBjaXJjbGVfbWFya2VyXzM1ODEyZTVkNTAxMzQwMGQ5OTU4ZmNkNDQ2NTRhYjg5LmJpbmRQb3B1cChwb3B1cF9lYmJhZDRmMzVjOTU0MTNkOTM3OTg3MzA1YWM0OGViMik7CgogICAgICAgICAgICAKICAgICAgICAKICAgIAogICAgICAgICAgICB2YXIgY2lyY2xlX21hcmtlcl9lM2FmZjE3ODhjZDE0ZWNkOGRlY2VkZGJmNzUyYzc4MCA9IEwuY2lyY2xlTWFya2VyKAogICAgICAgICAgICAgICAgWzMzLjkzMDMyMjUsLTExOC4yMTE0OTMzXSwKICAgICAgICAgICAgICAgIHsKICAiYnViYmxpbmdNb3VzZUV2ZW50cyI6IHRydWUsCiAgImNvbG9yIjogIiM4MDAwZmYiLAogICJkYXNoQXJyYXkiOiBudWxsLAogICJkYXNoT2Zmc2V0IjogbnVsbCwKICAiZmlsbCI6IHRydWUsCiAgImZpbGxDb2xvciI6ICIjODAwMGZmIiwKICAiZmlsbE9wYWNpdHkiOiAwLjcsCiAgImZpbGxSdWxlIjogImV2ZW5vZGQiLAogICJsaW5lQ2FwIjogInJvdW5kIiwKICAibGluZUpvaW4iOiAicm91bmQiLAogICJvcGFjaXR5IjogMS4wLAogICJyYWRpdXMiOiA1LAogICJzdHJva2UiOiB0cnVlLAogICJ3ZWlnaHQiOiAzCn0KICAgICAgICAgICAgICAgICkuYWRkVG8obWFwXzQyMjk1Mjg4Zjg1ODRiNmRhMjM3MjI2MzdiNmRmOGNjKTsKICAgICAgICAgICAgCiAgICAKICAgICAgICAgICAgdmFyIHBvcHVwXzBhNWYwMjNiY2JkZjRjZDRhN2UyNDNkNDA1ZWFhMzljID0gTC5wb3B1cCh7bWF4V2lkdGg6ICczMDAnfSk7CgogICAgICAgICAgICAKICAgICAgICAgICAgICAgIHZhciBodG1sXzdhYzQ2MmQ4NGQ1YjRiODI4MTgxZTdjNTA5MjI5N2FmID0gJCgnPGRpdiBpZD0iaHRtbF83YWM0NjJkODRkNWI0YjgyODE4MWU3YzUwOTIyOTdhZiIgc3R5bGU9IndpZHRoOiAxMDAuMCU7IGhlaWdodDogMTAwLjAlOyI+THlud29vZCBDbHVzdGVyIDE8L2Rpdj4nKVswXTsKICAgICAgICAgICAgICAgIHBvcHVwXzBhNWYwMjNiY2JkZjRjZDRhN2UyNDNkNDA1ZWFhMzljLnNldENvbnRlbnQoaHRtbF83YWM0NjJkODRkNWI0YjgyODE4MWU3YzUwOTIyOTdhZik7CiAgICAgICAgICAgIAoKICAgICAgICAgICAgY2lyY2xlX21hcmtlcl9lM2FmZjE3ODhjZDE0ZWNkOGRlY2VkZGJmNzUyYzc4MC5iaW5kUG9wdXAocG9wdXBfMGE1ZjAyM2JjYmRmNGNkNGE3ZTI0M2Q0MDVlYWEzOWMpOwoKICAgICAgICAgICAgCiAgICAgICAgCiAgICAKICAgICAgICAgICAgdmFyIGNpcmNsZV9tYXJrZXJfODZhYmE1YzQ0MGQ5NGJiMTk2YmEwZmQ2NGYzYjc4ZWEgPSBMLmNpcmNsZU1hcmtlcigKICAgICAgICAgICAgICAgIFszNC4wMzU1OTEsLTExOC42ODk0MjNdLAogICAgICAgICAgICAgICAgewogICJidWJibGluZ01vdXNlRXZlbnRzIjogdHJ1ZSwKICAiY29sb3IiOiAiIzgwZmZiNCIsCiAgImRhc2hBcnJheSI6IG51bGwsCiAgImRhc2hPZmZzZXQiOiBudWxsLAogICJmaWxsIjogdHJ1ZSwKICAiZmlsbENvbG9yIjogIiM4MGZmYjQiLAogICJmaWxsT3BhY2l0eSI6IDAuNywKICAiZmlsbFJ1bGUiOiAiZXZlbm9kZCIsCiAgImxpbmVDYXAiOiAicm91bmQiLAogICJsaW5lSm9pbiI6ICJyb3VuZCIsCiAgIm9wYWNpdHkiOiAxLjAsCiAgInJhZGl1cyI6IDUsCiAgInN0cm9rZSI6IHRydWUsCiAgIndlaWdodCI6IDMKfQogICAgICAgICAgICAgICAgKS5hZGRUbyhtYXBfNDIyOTUyODhmODU4NGI2ZGEyMzcyMjYzN2I2ZGY4Y2MpOwogICAgICAgICAgICAKICAgIAogICAgICAgICAgICB2YXIgcG9wdXBfNjZhMzg1OTExYjU1NDdmOWJhOTk1MmUyYTFiNGY5OTggPSBMLnBvcHVwKHttYXhXaWR0aDogJzMwMCd9KTsKCiAgICAgICAgICAgIAogICAgICAgICAgICAgICAgdmFyIGh0bWxfMTBiMWY4N2E5OTVjNGJhM2I4OGRiMjQ3MWZiOTMxZGUgPSAkKCc8ZGl2IGlkPSJodG1sXzEwYjFmODdhOTk1YzRiYTNiODhkYjI0NzFmYjkzMWRlIiBzdHlsZT0id2lkdGg6IDEwMC4wJTsgaGVpZ2h0OiAxMDAuMCU7Ij5NYWxpYnUgQ2x1c3RlciAzPC9kaXY+JylbMF07CiAgICAgICAgICAgICAgICBwb3B1cF82NmEzODU5MTFiNTU0N2Y5YmE5OTUyZTJhMWI0Zjk5OC5zZXRDb250ZW50KGh0bWxfMTBiMWY4N2E5OTVjNGJhM2I4OGRiMjQ3MWZiOTMxZGUpOwogICAgICAgICAgICAKCiAgICAgICAgICAgIGNpcmNsZV9tYXJrZXJfODZhYmE1YzQ0MGQ5NGJiMTk2YmEwZmQ2NGYzYjc4ZWEuYmluZFBvcHVwKHBvcHVwXzY2YTM4NTkxMWI1NTQ3ZjliYTk5NTJlMmExYjRmOTk4KTsKCiAgICAgICAgICAgIAogICAgICAgIAogICAgCiAgICAgICAgICAgIHZhciBjaXJjbGVfbWFya2VyXzlkYWU5ODUwYjRkZTRjNTY4YTkyNTNjMTk1NzYwMGE5ID0gTC5jaXJjbGVNYXJrZXIoCiAgICAgICAgICAgICAgICBbMzMuODk1NDk3LC0xMTguNDAwMzQ1XSwKICAgICAgICAgICAgICAgIHsKICAiYnViYmxpbmdNb3VzZUV2ZW50cyI6IHRydWUsCiAgImNvbG9yIjogIiMwMGI1ZWIiLAogICJkYXNoQXJyYXkiOiBudWxsLAogICJkYXNoT2Zmc2V0IjogbnVsbCwKICAiZmlsbCI6IHRydWUsCiAgImZpbGxDb2xvciI6ICIjMDBiNWViIiwKICAiZmlsbE9wYWNpdHkiOiAwLjcsCiAgImZpbGxSdWxlIjogImV2ZW5vZGQiLAogICJsaW5lQ2FwIjogInJvdW5kIiwKICAibGluZUpvaW4iOiAicm91bmQiLAogICJvcGFjaXR5IjogMS4wLAogICJyYWRpdXMiOiA1LAogICJzdHJva2UiOiB0cnVlLAogICJ3ZWlnaHQiOiAzCn0KICAgICAgICAgICAgICAgICkuYWRkVG8obWFwXzQyMjk1Mjg4Zjg1ODRiNmRhMjM3MjI2MzdiNmRmOGNjKTsKICAgICAgICAgICAgCiAgICAKICAgICAgICAgICAgdmFyIHBvcHVwX2Q2NmZlZDk5N2Q5NzRmZDc4MDdiNTNlZTc5Y2Y1OTMxID0gTC5wb3B1cCh7bWF4V2lkdGg6ICczMDAnfSk7CgogICAgICAgICAgICAKICAgICAgICAgICAgICAgIHZhciBodG1sX2U3ODE3Y2M0YzBkMzQ1YTliODNhZGU5ZjcxNmVlNGQzID0gJCgnPGRpdiBpZD0iaHRtbF9lNzgxN2NjNGMwZDM0NWE5YjgzYWRlOWY3MTZlZTRkMyIgc3R5bGU9IndpZHRoOiAxMDAuMCU7IGhlaWdodDogMTAwLjAlOyI+TWFuaGF0dGFuIEJlYWNoIENsdXN0ZXIgMjwvZGl2PicpWzBdOwogICAgICAgICAgICAgICAgcG9wdXBfZDY2ZmVkOTk3ZDk3NGZkNzgwN2I1M2VlNzljZjU5MzEuc2V0Q29udGVudChodG1sX2U3ODE3Y2M0YzBkMzQ1YTliODNhZGU5ZjcxNmVlNGQzKTsKICAgICAgICAgICAgCgogICAgICAgICAgICBjaXJjbGVfbWFya2VyXzlkYWU5ODUwYjRkZTRjNTY4YTkyNTNjMTk1NzYwMGE5LmJpbmRQb3B1cChwb3B1cF9kNjZmZWQ5OTdkOTc0ZmQ3ODA3YjUzZWU3OWNmNTkzMSk7CgogICAgICAgICAgICAKICAgICAgICAKICAgIAogICAgICAgICAgICB2YXIgY2lyY2xlX21hcmtlcl80YzI5YWI3NDE4MmE0NzEyYmYxZTk1MzViZWM2NDAzNCA9IEwuY2lyY2xlTWFya2VyKAogICAgICAgICAgICAgICAgWzMzLjk4NjY4MDcsLTExOC4xODUzNDldLAogICAgICAgICAgICAgICAgewogICJidWJibGluZ01vdXNlRXZlbnRzIjogdHJ1ZSwKICAiY29sb3IiOiAiIzgwZmZiNCIsCiAgImRhc2hBcnJheSI6IG51bGwsCiAgImRhc2hPZmZzZXQiOiBudWxsLAogICJmaWxsIjogdHJ1ZSwKICAiZmlsbENvbG9yIjogIiM4MGZmYjQiLAogICJmaWxsT3BhY2l0eSI6IDAuNywKICAiZmlsbFJ1bGUiOiAiZXZlbm9kZCIsCiAgImxpbmVDYXAiOiAicm91bmQiLAogICJsaW5lSm9pbiI6ICJyb3VuZCIsCiAgIm9wYWNpdHkiOiAxLjAsCiAgInJhZGl1cyI6IDUsCiAgInN0cm9rZSI6IHRydWUsCiAgIndlaWdodCI6IDMKfQogICAgICAgICAgICAgICAgKS5hZGRUbyhtYXBfNDIyOTUyODhmODU4NGI2ZGEyMzcyMjYzN2I2ZGY4Y2MpOwogICAgICAgICAgICAKICAgIAogICAgICAgICAgICB2YXIgcG9wdXBfMTc5OGYxODBhNWEyNDE2YmIxZWIxZTBmYWY1MmJkY2YgPSBMLnBvcHVwKHttYXhXaWR0aDogJzMwMCd9KTsKCiAgICAgICAgICAgIAogICAgICAgICAgICAgICAgdmFyIGh0bWxfYmIyN2ExNmNmNmUxNDBjZGFmYTI3Yjc5ZDBkMjRjNmIgPSAkKCc8ZGl2IGlkPSJodG1sX2JiMjdhMTZjZjZlMTQwY2RhZmEyN2I3OWQwZDI0YzZiIiBzdHlsZT0id2lkdGg6IDEwMC4wJTsgaGVpZ2h0OiAxMDAuMCU7Ij5NYXl3b29kIENsdXN0ZXIgMzwvZGl2PicpWzBdOwogICAgICAgICAgICAgICAgcG9wdXBfMTc5OGYxODBhNWEyNDE2YmIxZWIxZTBmYWY1MmJkY2Yuc2V0Q29udGVudChodG1sX2JiMjdhMTZjZjZlMTQwY2RhZmEyN2I3OWQwZDI0YzZiKTsKICAgICAgICAgICAgCgogICAgICAgICAgICBjaXJjbGVfbWFya2VyXzRjMjlhYjc0MTgyYTQ3MTJiZjFlOTUzNWJlYzY0MDM0LmJpbmRQb3B1cChwb3B1cF8xNzk4ZjE4MGE1YTI0MTZiYjFlYjFlMGZhZjUyYmRjZik7CgogICAgICAgICAgICAKICAgICAgICAKICAgIAogICAgICAgICAgICB2YXIgY2lyY2xlX21hcmtlcl9lZDJkMjZlZTMwNDg0M2ZhODk4NDMxMmU3MGZiYzMwZSA9IEwuY2lyY2xlTWFya2VyKAogICAgICAgICAgICAgICAgWzYuMzI4MDM0LC0xMC43OTc3ODhdLAogICAgICAgICAgICAgICAgewogICJidWJibGluZ01vdXNlRXZlbnRzIjogdHJ1ZSwKICAiY29sb3IiOiAiIzgwMDBmZiIsCiAgImRhc2hBcnJheSI6IG51bGwsCiAgImRhc2hPZmZzZXQiOiBudWxsLAogICJmaWxsIjogdHJ1ZSwKICAiZmlsbENvbG9yIjogIiM4MDAwZmYiLAogICJmaWxsT3BhY2l0eSI6IDAuNywKICAiZmlsbFJ1bGUiOiAiZXZlbm9kZCIsCiAgImxpbmVDYXAiOiAicm91bmQiLAogICJsaW5lSm9pbiI6ICJyb3VuZCIsCiAgIm9wYWNpdHkiOiAxLjAsCiAgInJhZGl1cyI6IDUsCiAgInN0cm9rZSI6IHRydWUsCiAgIndlaWdodCI6IDMKfQogICAgICAgICAgICAgICAgKS5hZGRUbyhtYXBfNDIyOTUyODhmODU4NGI2ZGEyMzcyMjYzN2I2ZGY4Y2MpOwogICAgICAgICAgICAKICAgIAogICAgICAgICAgICB2YXIgcG9wdXBfMDYwM2Y1YjcwMjM4NDg5NTk2Mzg5ZWQxZjUwZTJlMmMgPSBMLnBvcHVwKHttYXhXaWR0aDogJzMwMCd9KTsKCiAgICAgICAgICAgIAogICAgICAgICAgICAgICAgdmFyIGh0bWxfMTgxZDIxNWEzZWM3NDlhOWJjZWYzMTNhMGEzYjg0MDggPSAkKCc8ZGl2IGlkPSJodG1sXzE4MWQyMTVhM2VjNzQ5YTliY2VmMzEzYTBhM2I4NDA4IiBzdHlsZT0id2lkdGg6IDEwMC4wJTsgaGVpZ2h0OiAxMDAuMCU7Ij5Nb25yb3ZpYSBDbHVzdGVyIDE8L2Rpdj4nKVswXTsKICAgICAgICAgICAgICAgIHBvcHVwXzA2MDNmNWI3MDIzODQ4OTU5NjM4OWVkMWY1MGUyZTJjLnNldENvbnRlbnQoaHRtbF8xODFkMjE1YTNlYzc0OWE5YmNlZjMxM2EwYTNiODQwOCk7CiAgICAgICAgICAgIAoKICAgICAgICAgICAgY2lyY2xlX21hcmtlcl9lZDJkMjZlZTMwNDg0M2ZhODk4NDMxMmU3MGZiYzMwZS5iaW5kUG9wdXAocG9wdXBfMDYwM2Y1YjcwMjM4NDg5NTk2Mzg5ZWQxZjUwZTJlMmMpOwoKICAgICAgICAgICAgCiAgICAgICAgCiAgICAKICAgICAgICAgICAgdmFyIGNpcmNsZV9tYXJrZXJfZTJlOTVkZWYxZWM2NGE3NmJhMmQ3NmExNjk4MTEyZDMgPSBMLmNpcmNsZU1hcmtlcigKICAgICAgICAgICAgICAgIFszNC4wMTU5Mzk4LC0xMTguMTExOTc1XSwKICAgICAgICAgICAgICAgIHsKICAiYnViYmxpbmdNb3VzZUV2ZW50cyI6IHRydWUsCiAgImNvbG9yIjogIiM4MDAwZmYiLAogICJkYXNoQXJyYXkiOiBudWxsLAogICJkYXNoT2Zmc2V0IjogbnVsbCwKICAiZmlsbCI6IHRydWUsCiAgImZpbGxDb2xvciI6ICIjODAwMGZmIiwKICAiZmlsbE9wYWNpdHkiOiAwLjcsCiAgImZpbGxSdWxlIjogImV2ZW5vZGQiLAogICJsaW5lQ2FwIjogInJvdW5kIiwKICAibGluZUpvaW4iOiAicm91bmQiLAogICJvcGFjaXR5IjogMS4wLAogICJyYWRpdXMiOiA1LAogICJzdHJva2UiOiB0cnVlLAogICJ3ZWlnaHQiOiAzCn0KICAgICAgICAgICAgICAgICkuYWRkVG8obWFwXzQyMjk1Mjg4Zjg1ODRiNmRhMjM3MjI2MzdiNmRmOGNjKTsKICAgICAgICAgICAgCiAgICAKICAgICAgICAgICAgdmFyIHBvcHVwXzYwM2NkNWU2NDZiNTQ1YWI4NDM1YWM2ZmZhNDkwZTYzID0gTC5wb3B1cCh7bWF4V2lkdGg6ICczMDAnfSk7CgogICAgICAgICAgICAKICAgICAgICAgICAgICAgIHZhciBodG1sXzI0OWQ0MTExMmYxYTRiNGJiM2YyYzAyZmU1MDAzYzFjID0gJCgnPGRpdiBpZD0iaHRtbF8yNDlkNDExMTJmMWE0YjRiYjNmMmMwMmZlNTAwM2MxYyIgc3R5bGU9IndpZHRoOiAxMDAuMCU7IGhlaWdodDogMTAwLjAlOyI+TW9udGViZWxsbyBDbHVzdGVyIDE8L2Rpdj4nKVswXTsKICAgICAgICAgICAgICAgIHBvcHVwXzYwM2NkNWU2NDZiNTQ1YWI4NDM1YWM2ZmZhNDkwZTYzLnNldENvbnRlbnQoaHRtbF8yNDlkNDExMTJmMWE0YjRiYjNmMmMwMmZlNTAwM2MxYyk7CiAgICAgICAgICAgIAoKICAgICAgICAgICAgY2lyY2xlX21hcmtlcl9lMmU5NWRlZjFlYzY0YTc2YmEyZDc2YTE2OTgxMTJkMy5iaW5kUG9wdXAocG9wdXBfNjAzY2Q1ZTY0NmI1NDVhYjg0MzVhYzZmZmE0OTBlNjMpOwoKICAgICAgICAgICAgCiAgICAgICAgCiAgICAKICAgICAgICAgICAgdmFyIGNpcmNsZV9tYXJrZXJfZWU0YjNjMWVkMTQzNGQ3ZjhkOWFmYTgxMGFhMGE0MWEgPSBMLmNpcmNsZU1hcmtlcigKICAgICAgICAgICAgICAgIFszNC4wNTE1MjIsLTExOC4xMjk4MDddLAogICAgICAgICAgICAgICAgewogICJidWJibGluZ01vdXNlRXZlbnRzIjogdHJ1ZSwKICAiY29sb3IiOiAiIzgwMDBmZiIsCiAgImRhc2hBcnJheSI6IG51bGwsCiAgImRhc2hPZmZzZXQiOiBudWxsLAogICJmaWxsIjogdHJ1ZSwKICAiZmlsbENvbG9yIjogIiM4MDAwZmYiLAogICJmaWxsT3BhY2l0eSI6IDAuNywKICAiZmlsbFJ1bGUiOiAiZXZlbm9kZCIsCiAgImxpbmVDYXAiOiAicm91bmQiLAogICJsaW5lSm9pbiI6ICJyb3VuZCIsCiAgIm9wYWNpdHkiOiAxLjAsCiAgInJhZGl1cyI6IDUsCiAgInN0cm9rZSI6IHRydWUsCiAgIndlaWdodCI6IDMKfQogICAgICAgICAgICAgICAgKS5hZGRUbyhtYXBfNDIyOTUyODhmODU4NGI2ZGEyMzcyMjYzN2I2ZGY4Y2MpOwogICAgICAgICAgICAKICAgIAogICAgICAgICAgICB2YXIgcG9wdXBfZTlhYzQxNDZiYjgwNGY4YTk2NTU3M2YyNDU2NmI5ZGYgPSBMLnBvcHVwKHttYXhXaWR0aDogJzMwMCd9KTsKCiAgICAgICAgICAgIAogICAgICAgICAgICAgICAgdmFyIGh0bWxfY2YzN2E4NjE4MjY3NGVmMmEyMzdkOThiYjk3Y2QzNTkgPSAkKCc8ZGl2IGlkPSJodG1sX2NmMzdhODYxODI2NzRlZjJhMjM3ZDk4YmI5N2NkMzU5IiBzdHlsZT0id2lkdGg6IDEwMC4wJTsgaGVpZ2h0OiAxMDAuMCU7Ij5Nb250ZXJleSBQYXJrIENsdXN0ZXIgMTwvZGl2PicpWzBdOwogICAgICAgICAgICAgICAgcG9wdXBfZTlhYzQxNDZiYjgwNGY4YTk2NTU3M2YyNDU2NmI5ZGYuc2V0Q29udGVudChodG1sX2NmMzdhODYxODI2NzRlZjJhMjM3ZDk4YmI5N2NkMzU5KTsKICAgICAgICAgICAgCgogICAgICAgICAgICBjaXJjbGVfbWFya2VyX2VlNGIzYzFlZDE0MzRkN2Y4ZDlhZmE4MTBhYTBhNDFhLmJpbmRQb3B1cChwb3B1cF9lOWFjNDE0NmJiODA0ZjhhOTY1NTczZjI0NTY2YjlkZik7CgogICAgICAgICAgICAKICAgICAgICAKICAgIAogICAgICAgICAgICB2YXIgY2lyY2xlX21hcmtlcl8zNWIzYzlhYzNmMTQ0MjMwOGIwNmI3NTFkMzZhNjZhOSA9IEwuY2lyY2xlTWFya2VyKAogICAgICAgICAgICAgICAgWzQxLjExNzU5NjYsLTczLjQwNzg5NjhdLAogICAgICAgICAgICAgICAgewogICJidWJibGluZ01vdXNlRXZlbnRzIjogdHJ1ZSwKICAiY29sb3IiOiAiI2ZmYjM2MCIsCiAgImRhc2hBcnJheSI6IG51bGwsCiAgImRhc2hPZmZzZXQiOiBudWxsLAogICJmaWxsIjogdHJ1ZSwKICAiZmlsbENvbG9yIjogIiNmZmIzNjAiLAogICJmaWxsT3BhY2l0eSI6IDAuNywKICAiZmlsbFJ1bGUiOiAiZXZlbm9kZCIsCiAgImxpbmVDYXAiOiAicm91bmQiLAogICJsaW5lSm9pbiI6ICJyb3VuZCIsCiAgIm9wYWNpdHkiOiAxLjAsCiAgInJhZGl1cyI6IDUsCiAgInN0cm9rZSI6IHRydWUsCiAgIndlaWdodCI6IDMKfQogICAgICAgICAgICAgICAgKS5hZGRUbyhtYXBfNDIyOTUyODhmODU4NGI2ZGEyMzcyMjYzN2I2ZGY4Y2MpOwogICAgICAgICAgICAKICAgIAogICAgICAgICAgICB2YXIgcG9wdXBfYmVmYjg3MGU0Y2MxNDE2ZmI3NWEyYjUyODcwMjc3ZjEgPSBMLnBvcHVwKHttYXhXaWR0aDogJzMwMCd9KTsKCiAgICAgICAgICAgIAogICAgICAgICAgICAgICAgdmFyIGh0bWxfZmVhMWYzZmZkZGI4NDFmY2FkMmUxY2YzNzIxYmFjYzEgPSAkKCc8ZGl2IGlkPSJodG1sX2ZlYTFmM2ZmZGRiODQxZmNhZDJlMWNmMzcyMWJhY2MxIiBzdHlsZT0id2lkdGg6IDEwMC4wJTsgaGVpZ2h0OiAxMDAuMCU7Ij5Ob3J3YWxrIENsdXN0ZXIgNDwvZGl2PicpWzBdOwogICAgICAgICAgICAgICAgcG9wdXBfYmVmYjg3MGU0Y2MxNDE2ZmI3NWEyYjUyODcwMjc3ZjEuc2V0Q29udGVudChodG1sX2ZlYTFmM2ZmZGRiODQxZmNhZDJlMWNmMzcyMWJhY2MxKTsKICAgICAgICAgICAgCgogICAgICAgICAgICBjaXJjbGVfbWFya2VyXzM1YjNjOWFjM2YxNDQyMzA4YjA2Yjc1MWQzNmE2NmE5LmJpbmRQb3B1cChwb3B1cF9iZWZiODcwZTRjYzE0MTZmYjc1YTJiNTI4NzAyNzdmMSk7CgogICAgICAgICAgICAKICAgICAgICAKICAgIAogICAgICAgICAgICB2YXIgY2lyY2xlX21hcmtlcl9hYmMzNTZkMjBhNTY0Zjg1OTAxNTQyNGRkNjBkYmViNSA9IEwuY2lyY2xlTWFya2VyKAogICAgICAgICAgICAgICAgWzI1LjA2NjkzNDI1LC03Ny4zMjc3NTY1OTI4MjgyXSwKICAgICAgICAgICAgICAgIHsKICAiYnViYmxpbmdNb3VzZUV2ZW50cyI6IHRydWUsCiAgImNvbG9yIjogIiM4MGZmYjQiLAogICJkYXNoQXJyYXkiOiBudWxsLAogICJkYXNoT2Zmc2V0IjogbnVsbCwKICAiZmlsbCI6IHRydWUsCiAgImZpbGxDb2xvciI6ICIjODBmZmI0IiwKICAiZmlsbE9wYWNpdHkiOiAwLjcsCiAgImZpbGxSdWxlIjogImV2ZW5vZGQiLAogICJsaW5lQ2FwIjogInJvdW5kIiwKICAibGluZUpvaW4iOiAicm91bmQiLAogICJvcGFjaXR5IjogMS4wLAogICJyYWRpdXMiOiA1LAogICJzdHJva2UiOiB0cnVlLAogICJ3ZWlnaHQiOiAzCn0KICAgICAgICAgICAgICAgICkuYWRkVG8obWFwXzQyMjk1Mjg4Zjg1ODRiNmRhMjM3MjI2MzdiNmRmOGNjKTsKICAgICAgICAgICAgCiAgICAKICAgICAgICAgICAgdmFyIHBvcHVwXzY4ZjNjNzYxMTkxYzQ4OTNhZjQ3MWRiYTFiYmJhNWU3ID0gTC5wb3B1cCh7bWF4V2lkdGg6ICczMDAnfSk7CgogICAgICAgICAgICAKICAgICAgICAgICAgICAgIHZhciBodG1sXzczY2E4ZmI0MjM4YjQwZGY4OWEyNjJhMjc4MjMxYTViID0gJCgnPGRpdiBpZD0iaHRtbF83M2NhOGZiNDIzOGI0MGRmODlhMjYyYTI3ODIzMWE1YiIgc3R5bGU9IndpZHRoOiAxMDAuMCU7IGhlaWdodDogMTAwLjAlOyI+UGFsbWRhbGUgQ2x1c3RlciAzPC9kaXY+JylbMF07CiAgICAgICAgICAgICAgICBwb3B1cF82OGYzYzc2MTE5MWM0ODkzYWY0NzFkYmExYmJiYTVlNy5zZXRDb250ZW50KGh0bWxfNzNjYThmYjQyMzhiNDBkZjg5YTI2MmEyNzgyMzFhNWIpOwogICAgICAgICAgICAKCiAgICAgICAgICAgIGNpcmNsZV9tYXJrZXJfYWJjMzU2ZDIwYTU2NGY4NTkwMTU0MjRkZDYwZGJlYjUuYmluZFBvcHVwKHBvcHVwXzY4ZjNjNzYxMTkxYzQ4OTNhZjQ3MWRiYTFiYmJhNWU3KTsKCiAgICAgICAgICAgIAogICAgICAgIAogICAgCiAgICAgICAgICAgIHZhciBjaXJjbGVfbWFya2VyXzZiNGI3NjU3NWY4NTQyYTg4YjllZDg5YzE5MDExYzMxID0gTC5jaXJjbGVNYXJrZXIoCiAgICAgICAgICAgICAgICBbMzMuNzg3MjM4NiwtMTE4LjQwMTgxM10sCiAgICAgICAgICAgICAgICB7CiAgImJ1YmJsaW5nTW91c2VFdmVudHMiOiB0cnVlLAogICJjb2xvciI6ICIjODAwMGZmIiwKICAiZGFzaEFycmF5IjogbnVsbCwKICAiZGFzaE9mZnNldCI6IG51bGwsCiAgImZpbGwiOiB0cnVlLAogICJmaWxsQ29sb3IiOiAiIzgwMDBmZiIsCiAgImZpbGxPcGFjaXR5IjogMC43LAogICJmaWxsUnVsZSI6ICJldmVub2RkIiwKICAibGluZUNhcCI6ICJyb3VuZCIsCiAgImxpbmVKb2luIjogInJvdW5kIiwKICAib3BhY2l0eSI6IDEuMCwKICAicmFkaXVzIjogNSwKICAic3Ryb2tlIjogdHJ1ZSwKICAid2VpZ2h0IjogMwp9CiAgICAgICAgICAgICAgICApLmFkZFRvKG1hcF80MjI5NTI4OGY4NTg0YjZkYTIzNzIyNjM3YjZkZjhjYyk7CiAgICAgICAgICAgIAogICAgCiAgICAgICAgICAgIHZhciBwb3B1cF85NDQ1MDJhNjFlMzk0ZDZhOWJiN2UyNDUzN2RkZDQ3NiA9IEwucG9wdXAoe21heFdpZHRoOiAnMzAwJ30pOwoKICAgICAgICAgICAgCiAgICAgICAgICAgICAgICB2YXIgaHRtbF8yN2QxYzg2N2UwMzc0MjZjOWFiNTk4ODBhYjA3YzUwYiA9ICQoJzxkaXYgaWQ9Imh0bWxfMjdkMWM4NjdlMDM3NDI2YzlhYjU5ODgwYWIwN2M1MGIiIHN0eWxlPSJ3aWR0aDogMTAwLjAlOyBoZWlnaHQ6IDEwMC4wJTsiPlBhbG9zIFZlcmRlcyBFc3RhdGVzIENsdXN0ZXIgMTwvZGl2PicpWzBdOwogICAgICAgICAgICAgICAgcG9wdXBfOTQ0NTAyYTYxZTM5NGQ2YTliYjdlMjQ1MzdkZGQ0NzYuc2V0Q29udGVudChodG1sXzI3ZDFjODY3ZTAzNzQyNmM5YWI1OTg4MGFiMDdjNTBiKTsKICAgICAgICAgICAgCgogICAgICAgICAgICBjaXJjbGVfbWFya2VyXzZiNGI3NjU3NWY4NTQyYTg4YjllZDg5YzE5MDExYzMxLmJpbmRQb3B1cChwb3B1cF85NDQ1MDJhNjFlMzk0ZDZhOWJiN2UyNDUzN2RkZDQ3Nik7CgogICAgICAgICAgICAKICAgICAgICAKICAgIAogICAgICAgICAgICB2YXIgY2lyY2xlX21hcmtlcl82NGZiNTAwNmNjNjU0YjAzODQ1Yjc5MWE4MzBkMGJhOSA9IEwuY2lyY2xlTWFya2VyKAogICAgICAgICAgICAgICAgWzMzLjg5ODkxNywtMTE4LjE3MTAwNV0sCiAgICAgICAgICAgICAgICB7CiAgImJ1YmJsaW5nTW91c2VFdmVudHMiOiB0cnVlLAogICJjb2xvciI6ICIjODBmZmI0IiwKICAiZGFzaEFycmF5IjogbnVsbCwKICAiZGFzaE9mZnNldCI6IG51bGwsCiAgImZpbGwiOiB0cnVlLAogICJmaWxsQ29sb3IiOiAiIzgwZmZiNCIsCiAgImZpbGxPcGFjaXR5IjogMC43LAogICJmaWxsUnVsZSI6ICJldmVub2RkIiwKICAibGluZUNhcCI6ICJyb3VuZCIsCiAgImxpbmVKb2luIjogInJvdW5kIiwKICAib3BhY2l0eSI6IDEuMCwKICAicmFkaXVzIjogNSwKICAic3Ryb2tlIjogdHJ1ZSwKICAid2VpZ2h0IjogMwp9CiAgICAgICAgICAgICAgICApLmFkZFRvKG1hcF80MjI5NTI4OGY4NTg0YjZkYTIzNzIyNjM3YjZkZjhjYyk7CiAgICAgICAgICAgIAogICAgCiAgICAgICAgICAgIHZhciBwb3B1cF82MDIwYTQ1ZjVlNWU0OWVhYjY0ZDRkNzUwYTdiMmQwZCA9IEwucG9wdXAoe21heFdpZHRoOiAnMzAwJ30pOwoKICAgICAgICAgICAgCiAgICAgICAgICAgICAgICB2YXIgaHRtbF9kZTA0MWYzZWYzNWI0NjdiYjRlYmM0YzFhMDFlOTY2ZCA9ICQoJzxkaXYgaWQ9Imh0bWxfZGUwNDFmM2VmMzViNDY3YmI0ZWJjNGMxYTAxZTk2NmQiIHN0eWxlPSJ3aWR0aDogMTAwLjAlOyBoZWlnaHQ6IDEwMC4wJTsiPlBhcmFtb3VudCBDbHVzdGVyIDM8L2Rpdj4nKVswXTsKICAgICAgICAgICAgICAgIHBvcHVwXzYwMjBhNDVmNWU1ZTQ5ZWFiNjRkNGQ3NTBhN2IyZDBkLnNldENvbnRlbnQoaHRtbF9kZTA0MWYzZWYzNWI0NjdiYjRlYmM0YzFhMDFlOTY2ZCk7CiAgICAgICAgICAgIAoKICAgICAgICAgICAgY2lyY2xlX21hcmtlcl82NGZiNTAwNmNjNjU0YjAzODQ1Yjc5MWE4MzBkMGJhOS5iaW5kUG9wdXAocG9wdXBfNjAyMGE0NWY1ZTVlNDllYWI2NGQ0ZDc1MGE3YjJkMGQpOwoKICAgICAgICAgICAgCiAgICAgICAgCiAgICAKICAgICAgICAgICAgdmFyIGNpcmNsZV9tYXJrZXJfMDc1ODcxYjk3NTBjNGRkMDhkMDRiYTk2OTI4MTZhOTUgPSBMLmNpcmNsZU1hcmtlcigKICAgICAgICAgICAgICAgIFszNC4xNDc2NDUyLC0xMTguMTQ0NDc3OV0sCiAgICAgICAgICAgICAgICB7CiAgImJ1YmJsaW5nTW91c2VFdmVudHMiOiB0cnVlLAogICJjb2xvciI6ICIjODBmZmI0IiwKICAiZGFzaEFycmF5IjogbnVsbCwKICAiZGFzaE9mZnNldCI6IG51bGwsCiAgImZpbGwiOiB0cnVlLAogICJmaWxsQ29sb3IiOiAiIzgwZmZiNCIsCiAgImZpbGxPcGFjaXR5IjogMC43LAogICJmaWxsUnVsZSI6ICJldmVub2RkIiwKICAibGluZUNhcCI6ICJyb3VuZCIsCiAgImxpbmVKb2luIjogInJvdW5kIiwKICAib3BhY2l0eSI6IDEuMCwKICAicmFkaXVzIjogNSwKICAic3Ryb2tlIjogdHJ1ZSwKICAid2VpZ2h0IjogMwp9CiAgICAgICAgICAgICAgICApLmFkZFRvKG1hcF80MjI5NTI4OGY4NTg0YjZkYTIzNzIyNjM3YjZkZjhjYyk7CiAgICAgICAgICAgIAogICAgCiAgICAgICAgICAgIHZhciBwb3B1cF84ZjdlMDU3YzZlYzc0MGFiOTQ2YzgzM2YyMjBkNWQwZSA9IEwucG9wdXAoe21heFdpZHRoOiAnMzAwJ30pOwoKICAgICAgICAgICAgCiAgICAgICAgICAgICAgICB2YXIgaHRtbF83NjljZjJhMjkzYTg0ODU1YmZhMWM0NGI3YTA0NTQ5ZiA9ICQoJzxkaXYgaWQ9Imh0bWxfNzY5Y2YyYTI5M2E4NDg1NWJmYTFjNDRiN2EwNDU0OWYiIHN0eWxlPSJ3aWR0aDogMTAwLjAlOyBoZWlnaHQ6IDEwMC4wJTsiPlBhc2FkZW5hIENsdXN0ZXIgMzwvZGl2PicpWzBdOwogICAgICAgICAgICAgICAgcG9wdXBfOGY3ZTA1N2M2ZWM3NDBhYjk0NmM4MzNmMjIwZDVkMGUuc2V0Q29udGVudChodG1sXzc2OWNmMmEyOTNhODQ4NTViZmExYzQ0YjdhMDQ1NDlmKTsKICAgICAgICAgICAgCgogICAgICAgICAgICBjaXJjbGVfbWFya2VyXzA3NTg3MWI5NzUwYzRkZDA4ZDA0YmE5NjkyODE2YTk1LmJpbmRQb3B1cChwb3B1cF84ZjdlMDU3YzZlYzc0MGFiOTQ2YzgzM2YyMjBkNWQwZSk7CgogICAgICAgICAgICAKICAgICAgICAKICAgIAogICAgICAgICAgICB2YXIgY2lyY2xlX21hcmtlcl9kN2JjM2M4NjgwNjg0M2NkYjYwMzgwMGMyY2UwZGQ2NSA9IEwuY2lyY2xlTWFya2VyKAogICAgICAgICAgICAgICAgWzMzLjk4MzA2ODgsLTExOC4wOTY3MzVdLAogICAgICAgICAgICAgICAgewogICJidWJibGluZ01vdXNlRXZlbnRzIjogdHJ1ZSwKICAiY29sb3IiOiAiI2ZmYjM2MCIsCiAgImRhc2hBcnJheSI6IG51bGwsCiAgImRhc2hPZmZzZXQiOiBudWxsLAogICJmaWxsIjogdHJ1ZSwKICAiZmlsbENvbG9yIjogIiNmZmIzNjAiLAogICJmaWxsT3BhY2l0eSI6IDAuNywKICAiZmlsbFJ1bGUiOiAiZXZlbm9kZCIsCiAgImxpbmVDYXAiOiAicm91bmQiLAogICJsaW5lSm9pbiI6ICJyb3VuZCIsCiAgIm9wYWNpdHkiOiAxLjAsCiAgInJhZGl1cyI6IDUsCiAgInN0cm9rZSI6IHRydWUsCiAgIndlaWdodCI6IDMKfQogICAgICAgICAgICAgICAgKS5hZGRUbyhtYXBfNDIyOTUyODhmODU4NGI2ZGEyMzcyMjYzN2I2ZGY4Y2MpOwogICAgICAgICAgICAKICAgIAogICAgICAgICAgICB2YXIgcG9wdXBfZTM4NjI2OWU5YTU1NDllZGEwNmRjYzU0NGI4ODlkMzIgPSBMLnBvcHVwKHttYXhXaWR0aDogJzMwMCd9KTsKCiAgICAgICAgICAgIAogICAgICAgICAgICAgICAgdmFyIGh0bWxfZmZiMzk3MmZjNWM5NDRlODk5N2UxOTY3NzdmZjk1YjMgPSAkKCc8ZGl2IGlkPSJodG1sX2ZmYjM5NzJmYzVjOTQ0ZTg5OTdlMTk2Nzc3ZmY5NWIzIiBzdHlsZT0id2lkdGg6IDEwMC4wJTsgaGVpZ2h0OiAxMDAuMCU7Ij5QaWNvIFJpdmVyYSBDbHVzdGVyIDQ8L2Rpdj4nKVswXTsKICAgICAgICAgICAgICAgIHBvcHVwX2UzODYyNjllOWE1NTQ5ZWRhMDZkY2M1NDRiODg5ZDMyLnNldENvbnRlbnQoaHRtbF9mZmIzOTcyZmM1Yzk0NGU4OTk3ZTE5Njc3N2ZmOTViMyk7CiAgICAgICAgICAgIAoKICAgICAgICAgICAgY2lyY2xlX21hcmtlcl9kN2JjM2M4NjgwNjg0M2NkYjYwMzgwMGMyY2UwZGQ2NS5iaW5kUG9wdXAocG9wdXBfZTM4NjI2OWU5YTU1NDllZGEwNmRjYzU0NGI4ODlkMzIpOwoKICAgICAgICAgICAgCiAgICAgICAgCiAgICAKICAgICAgICAgICAgdmFyIGNpcmNsZV9tYXJrZXJfMDVmMjlhOWZkMDM1NDAyOThhZjhkYjM5ZmRmNTBjOGUgPSBMLmNpcmNsZU1hcmtlcigKICAgICAgICAgICAgICAgIFszNC4wNTUzODEzLC0xMTcuNzUxNzQ5Nl0sCiAgICAgICAgICAgICAgICB7CiAgImJ1YmJsaW5nTW91c2VFdmVudHMiOiB0cnVlLAogICJjb2xvciI6ICIjODAwMGZmIiwKICAiZGFzaEFycmF5IjogbnVsbCwKICAiZGFzaE9mZnNldCI6IG51bGwsCiAgImZpbGwiOiB0cnVlLAogICJmaWxsQ29sb3IiOiAiIzgwMDBmZiIsCiAgImZpbGxPcGFjaXR5IjogMC43LAogICJmaWxsUnVsZSI6ICJldmVub2RkIiwKICAibGluZUNhcCI6ICJyb3VuZCIsCiAgImxpbmVKb2luIjogInJvdW5kIiwKICAib3BhY2l0eSI6IDEuMCwKICAicmFkaXVzIjogNSwKICAic3Ryb2tlIjogdHJ1ZSwKICAid2VpZ2h0IjogMwp9CiAgICAgICAgICAgICAgICApLmFkZFRvKG1hcF80MjI5NTI4OGY4NTg0YjZkYTIzNzIyNjM3YjZkZjhjYyk7CiAgICAgICAgICAgIAogICAgCiAgICAgICAgICAgIHZhciBwb3B1cF9hNzdhM2Y5NjMwODk0YzFhOTVkMDliN2ExYjZjNjhmOSA9IEwucG9wdXAoe21heFdpZHRoOiAnMzAwJ30pOwoKICAgICAgICAgICAgCiAgICAgICAgICAgICAgICB2YXIgaHRtbF8yY2ZjNTNkMWVmZjg0MWM5YmY0ZTk4OTI2Y2NkM2I5YSA9ICQoJzxkaXYgaWQ9Imh0bWxfMmNmYzUzZDFlZmY4NDFjOWJmNGU5ODkyNmNjZDNiOWEiIHN0eWxlPSJ3aWR0aDogMTAwLjAlOyBoZWlnaHQ6IDEwMC4wJTsiPlBvbW9uYSBDbHVzdGVyIDE8L2Rpdj4nKVswXTsKICAgICAgICAgICAgICAgIHBvcHVwX2E3N2EzZjk2MzA4OTRjMWE5NWQwOWI3YTFiNmM2OGY5LnNldENvbnRlbnQoaHRtbF8yY2ZjNTNkMWVmZjg0MWM5YmY0ZTk4OTI2Y2NkM2I5YSk7CiAgICAgICAgICAgIAoKICAgICAgICAgICAgY2lyY2xlX21hcmtlcl8wNWYyOWE5ZmQwMzU0MDI5OGFmOGRiMzlmZGY1MGM4ZS5iaW5kUG9wdXAocG9wdXBfYTc3YTNmOTYzMDg5NGMxYTk1ZDA5YjdhMWI2YzY4ZjkpOwoKICAgICAgICAgICAgCiAgICAgICAgCiAgICAKICAgICAgICAgICAgdmFyIGNpcmNsZV9tYXJrZXJfMDNmMzY1ODZjOTAzNDYyMWI2MDgwNGE1ZWUzNDAwNzQgPSBMLmNpcmNsZU1hcmtlcigKICAgICAgICAgICAgICAgIFszMy43NDgzMzExLC0xMTguMzcwNzY4M10sCiAgICAgICAgICAgICAgICB7CiAgImJ1YmJsaW5nTW91c2VFdmVudHMiOiB0cnVlLAogICJjb2xvciI6ICIjZmZiMzYwIiwKICAiZGFzaEFycmF5IjogbnVsbCwKICAiZGFzaE9mZnNldCI6IG51bGwsCiAgImZpbGwiOiB0cnVlLAogICJmaWxsQ29sb3IiOiAiI2ZmYjM2MCIsCiAgImZpbGxPcGFjaXR5IjogMC43LAogICJmaWxsUnVsZSI6ICJldmVub2RkIiwKICAibGluZUNhcCI6ICJyb3VuZCIsCiAgImxpbmVKb2luIjogInJvdW5kIiwKICAib3BhY2l0eSI6IDEuMCwKICAicmFkaXVzIjogNSwKICAic3Ryb2tlIjogdHJ1ZSwKICAid2VpZ2h0IjogMwp9CiAgICAgICAgICAgICAgICApLmFkZFRvKG1hcF80MjI5NTI4OGY4NTg0YjZkYTIzNzIyNjM3YjZkZjhjYyk7CiAgICAgICAgICAgIAogICAgCiAgICAgICAgICAgIHZhciBwb3B1cF83OTUwZThmYTE1ODg0ZTZmYmJhYzVlNTg5ZmY3YTQ0NSA9IEwucG9wdXAoe21heFdpZHRoOiAnMzAwJ30pOwoKICAgICAgICAgICAgCiAgICAgICAgICAgICAgICB2YXIgaHRtbF8zN2M4MDY4M2FkYmY0Mzg4ODM5Nzg4ZmNiZDE4YWNhYiA9ICQoJzxkaXYgaWQ9Imh0bWxfMzdjODA2ODNhZGJmNDM4ODgzOTc4OGZjYmQxOGFjYWIiIHN0eWxlPSJ3aWR0aDogMTAwLjAlOyBoZWlnaHQ6IDEwMC4wJTsiPlJhbmNobyBQYWxvcyBWZXJkZXMgQ2x1c3RlciA0PC9kaXY+JylbMF07CiAgICAgICAgICAgICAgICBwb3B1cF83OTUwZThmYTE1ODg0ZTZmYmJhYzVlNTg5ZmY3YTQ0NS5zZXRDb250ZW50KGh0bWxfMzdjODA2ODNhZGJmNDM4ODgzOTc4OGZjYmQxOGFjYWIpOwogICAgICAgICAgICAKCiAgICAgICAgICAgIGNpcmNsZV9tYXJrZXJfMDNmMzY1ODZjOTAzNDYyMWI2MDgwNGE1ZWUzNDAwNzQuYmluZFBvcHVwKHBvcHVwXzc5NTBlOGZhMTU4ODRlNmZiYmFjNWU1ODlmZjdhNDQ1KTsKCiAgICAgICAgICAgIAogICAgICAgIAogICAgCiAgICAgICAgICAgIHZhciBjaXJjbGVfbWFya2VyXzEzNTEzOGE3ZTE4YjQyZjZhNjQ0YWVjZGNiZGFkOGJjID0gTC5jaXJjbGVNYXJrZXIoCiAgICAgICAgICAgICAgICBbMzMuODQ1NTkxMSwtMTE4LjM4ODY3NjZdLAogICAgICAgICAgICAgICAgewogICJidWJibGluZ01vdXNlRXZlbnRzIjogdHJ1ZSwKICAiY29sb3IiOiAiI2ZmMDAwMCIsCiAgImRhc2hBcnJheSI6IG51bGwsCiAgImRhc2hPZmZzZXQiOiBudWxsLAogICJmaWxsIjogdHJ1ZSwKICAiZmlsbENvbG9yIjogIiNmZjAwMDAiLAogICJmaWxsT3BhY2l0eSI6IDAuNywKICAiZmlsbFJ1bGUiOiAiZXZlbm9kZCIsCiAgImxpbmVDYXAiOiAicm91bmQiLAogICJsaW5lSm9pbiI6ICJyb3VuZCIsCiAgIm9wYWNpdHkiOiAxLjAsCiAgInJhZGl1cyI6IDUsCiAgInN0cm9rZSI6IHRydWUsCiAgIndlaWdodCI6IDMKfQogICAgICAgICAgICAgICAgKS5hZGRUbyhtYXBfNDIyOTUyODhmODU4NGI2ZGEyMzcyMjYzN2I2ZGY4Y2MpOwogICAgICAgICAgICAKICAgIAogICAgICAgICAgICB2YXIgcG9wdXBfNDRmMjI1YjA3ZTFmNDA5M2I1ZmRhY2M5NGE5ZTc4ZWMgPSBMLnBvcHVwKHttYXhXaWR0aDogJzMwMCd9KTsKCiAgICAgICAgICAgIAogICAgICAgICAgICAgICAgdmFyIGh0bWxfOTU4ZmRhMTQ4NTE5NGYwMTgzN2RhY2E3MzA0YzU1MjEgPSAkKCc8ZGl2IGlkPSJodG1sXzk1OGZkYTE0ODUxOTRmMDE4MzdkYWNhNzMwNGM1NTIxIiBzdHlsZT0id2lkdGg6IDEwMC4wJTsgaGVpZ2h0OiAxMDAuMCU7Ij5SZWRvbmRvIEJlYWNoIENsdXN0ZXIgMDwvZGl2PicpWzBdOwogICAgICAgICAgICAgICAgcG9wdXBfNDRmMjI1YjA3ZTFmNDA5M2I1ZmRhY2M5NGE5ZTc4ZWMuc2V0Q29udGVudChodG1sXzk1OGZkYTE0ODUxOTRmMDE4MzdkYWNhNzMwNGM1NTIxKTsKICAgICAgICAgICAgCgogICAgICAgICAgICBjaXJjbGVfbWFya2VyXzEzNTEzOGE3ZTE4YjQyZjZhNjQ0YWVjZGNiZGFkOGJjLmJpbmRQb3B1cChwb3B1cF80NGYyMjViMDdlMWY0MDkzYjVmZGFjYzk0YTllNzhlYyk7CgogICAgICAgICAgICAKICAgICAgICAKICAgIAogICAgICAgICAgICB2YXIgY2lyY2xlX21hcmtlcl84MzY0Y2Q2ZWMxN2M0YmE1YWI5NDJkMWEwZDVkZGFkMCA9IEwuY2lyY2xlTWFya2VyKAogICAgICAgICAgICAgICAgWzMzLjc2NjgwNDEsLTExOC4zNDk2NjIzXSwKICAgICAgICAgICAgICAgIHsKICAiYnViYmxpbmdNb3VzZUV2ZW50cyI6IHRydWUsCiAgImNvbG9yIjogIiM4MGZmYjQiLAogICJkYXNoQXJyYXkiOiBudWxsLAogICJkYXNoT2Zmc2V0IjogbnVsbCwKICAiZmlsbCI6IHRydWUsCiAgImZpbGxDb2xvciI6ICIjODBmZmI0IiwKICAiZmlsbE9wYWNpdHkiOiAwLjcsCiAgImZpbGxSdWxlIjogImV2ZW5vZGQiLAogICJsaW5lQ2FwIjogInJvdW5kIiwKICAibGluZUpvaW4iOiAicm91bmQiLAogICJvcGFjaXR5IjogMS4wLAogICJyYWRpdXMiOiA1LAogICJzdHJva2UiOiB0cnVlLAogICJ3ZWlnaHQiOiAzCn0KICAgICAgICAgICAgICAgICkuYWRkVG8obWFwXzQyMjk1Mjg4Zjg1ODRiNmRhMjM3MjI2MzdiNmRmOGNjKTsKICAgICAgICAgICAgCiAgICAKICAgICAgICAgICAgdmFyIHBvcHVwXzUzZTExZjJhZTYyYjRiYjI5ZTJiMmU2NjE2NmMzN2QwID0gTC5wb3B1cCh7bWF4V2lkdGg6ICczMDAnfSk7CgogICAgICAgICAgICAKICAgICAgICAgICAgICAgIHZhciBodG1sX2Q2NGIwNjIxMmRiMDRlNTdiMzQyYTRiYzc4ZWU2NDU1ID0gJCgnPGRpdiBpZD0iaHRtbF9kNjRiMDYyMTJkYjA0ZTU3YjM0MmE0YmM3OGVlNjQ1NSIgc3R5bGU9IndpZHRoOiAxMDAuMCU7IGhlaWdodDogMTAwLjAlOyI+Um9sbGluZyBIaWxscyBDbHVzdGVyIDM8L2Rpdj4nKVswXTsKICAgICAgICAgICAgICAgIHBvcHVwXzUzZTExZjJhZTYyYjRiYjI5ZTJiMmU2NjE2NmMzN2QwLnNldENvbnRlbnQoaHRtbF9kNjRiMDYyMTJkYjA0ZTU3YjM0MmE0YmM3OGVlNjQ1NSk7CiAgICAgICAgICAgIAoKICAgICAgICAgICAgY2lyY2xlX21hcmtlcl84MzY0Y2Q2ZWMxN2M0YmE1YWI5NDJkMWEwZDVkZGFkMC5iaW5kUG9wdXAocG9wdXBfNTNlMTFmMmFlNjJiNGJiMjllMmIyZTY2MTY2YzM3ZDApOwoKICAgICAgICAgICAgCiAgICAgICAgCiAgICAKICAgICAgICAgICAgdmFyIGNpcmNsZV9tYXJrZXJfNmNjNjIyNjIwOWY4NDExMzliNGQwZDFkMjk3MTA4M2QgPSBMLmNpcmNsZU1hcmtlcigKICAgICAgICAgICAgICAgIFszMy43ODc3OTQzLC0xMTguMzU4MTI4NF0sCiAgICAgICAgICAgICAgICB7CiAgImJ1YmJsaW5nTW91c2VFdmVudHMiOiB0cnVlLAogICJjb2xvciI6ICIjODAwMGZmIiwKICAiZGFzaEFycmF5IjogbnVsbCwKICAiZGFzaE9mZnNldCI6IG51bGwsCiAgImZpbGwiOiB0cnVlLAogICJmaWxsQ29sb3IiOiAiIzgwMDBmZiIsCiAgImZpbGxPcGFjaXR5IjogMC43LAogICJmaWxsUnVsZSI6ICJldmVub2RkIiwKICAibGluZUNhcCI6ICJyb3VuZCIsCiAgImxpbmVKb2luIjogInJvdW5kIiwKICAib3BhY2l0eSI6IDEuMCwKICAicmFkaXVzIjogNSwKICAic3Ryb2tlIjogdHJ1ZSwKICAid2VpZ2h0IjogMwp9CiAgICAgICAgICAgICAgICApLmFkZFRvKG1hcF80MjI5NTI4OGY4NTg0YjZkYTIzNzIyNjM3YjZkZjhjYyk7CiAgICAgICAgICAgIAogICAgCiAgICAgICAgICAgIHZhciBwb3B1cF8xYjY1ZGI3MzcwOGU0YmMyOTc4ZjU5NmIyY2UxYzQ4NSA9IEwucG9wdXAoe21heFdpZHRoOiAnMzAwJ30pOwoKICAgICAgICAgICAgCiAgICAgICAgICAgICAgICB2YXIgaHRtbF85M2UxN2NiMjIxMjg0OTU5OTI4MzYwMjczYWU2NDBiNiA9ICQoJzxkaXYgaWQ9Imh0bWxfOTNlMTdjYjIyMTI4NDk1OTkyODM2MDI3M2FlNjQwYjYiIHN0eWxlPSJ3aWR0aDogMTAwLjAlOyBoZWlnaHQ6IDEwMC4wJTsiPlJvbGxpbmcgSGlsbHMgRXN0YXRlcyBDbHVzdGVyIDE8L2Rpdj4nKVswXTsKICAgICAgICAgICAgICAgIHBvcHVwXzFiNjVkYjczNzA4ZTRiYzI5NzhmNTk2YjJjZTFjNDg1LnNldENvbnRlbnQoaHRtbF85M2UxN2NiMjIxMjg0OTU5OTI4MzYwMjczYWU2NDBiNik7CiAgICAgICAgICAgIAoKICAgICAgICAgICAgY2lyY2xlX21hcmtlcl82Y2M2MjI2MjA5Zjg0MTEzOWI0ZDBkMWQyOTcxMDgzZC5iaW5kUG9wdXAocG9wdXBfMWI2NWRiNzM3MDhlNGJjMjk3OGY1OTZiMmNlMWM0ODUpOwoKICAgICAgICAgICAgCiAgICAgICAgCiAgICAKICAgICAgICAgICAgdmFyIGNpcmNsZV9tYXJrZXJfMTdhNTk2MDg5ZTRiNDBlZTgzMTUyMzc2NjEzNDFkOTIgPSBMLmNpcmNsZU1hcmtlcigKICAgICAgICAgICAgICAgIFszNC4wNjc2MTY5LC0xMTguMDg3OTc2M10sCiAgICAgICAgICAgICAgICB7CiAgImJ1YmJsaW5nTW91c2VFdmVudHMiOiB0cnVlLAogICJjb2xvciI6ICIjODAwMGZmIiwKICAiZGFzaEFycmF5IjogbnVsbCwKICAiZGFzaE9mZnNldCI6IG51bGwsCiAgImZpbGwiOiB0cnVlLAogICJmaWxsQ29sb3IiOiAiIzgwMDBmZiIsCiAgImZpbGxPcGFjaXR5IjogMC43LAogICJmaWxsUnVsZSI6ICJldmVub2RkIiwKICAibGluZUNhcCI6ICJyb3VuZCIsCiAgImxpbmVKb2luIjogInJvdW5kIiwKICAib3BhY2l0eSI6IDEuMCwKICAicmFkaXVzIjogNSwKICAic3Ryb2tlIjogdHJ1ZSwKICAid2VpZ2h0IjogMwp9CiAgICAgICAgICAgICAgICApLmFkZFRvKG1hcF80MjI5NTI4OGY4NTg0YjZkYTIzNzIyNjM3YjZkZjhjYyk7CiAgICAgICAgICAgIAogICAgCiAgICAgICAgICAgIHZhciBwb3B1cF81YTI2YzliMTMxNzM0YzM3YTcxZWQyNjAyNWNjZDZkMCA9IEwucG9wdXAoe21heFdpZHRoOiAnMzAwJ30pOwoKICAgICAgICAgICAgCiAgICAgICAgICAgICAgICB2YXIgaHRtbF8yN2YzZDZiMzZkZDY0MmRhOGNmMjI2ZjI1Mjg5MjA0NyA9ICQoJzxkaXYgaWQ9Imh0bWxfMjdmM2Q2YjM2ZGQ2NDJkYThjZjIyNmYyNTI4OTIwNDciIHN0eWxlPSJ3aWR0aDogMTAwLjAlOyBoZWlnaHQ6IDEwMC4wJTsiPlJvc2VtZWFkIENsdXN0ZXIgMTwvZGl2PicpWzBdOwogICAgICAgICAgICAgICAgcG9wdXBfNWEyNmM5YjEzMTczNGMzN2E3MWVkMjYwMjVjY2Q2ZDAuc2V0Q29udGVudChodG1sXzI3ZjNkNmIzNmRkNjQyZGE4Y2YyMjZmMjUyODkyMDQ3KTsKICAgICAgICAgICAgCgogICAgICAgICAgICBjaXJjbGVfbWFya2VyXzE3YTU5NjA4OWU0YjQwZWU4MzE1MjM3NjYxMzQxZDkyLmJpbmRQb3B1cChwb3B1cF81YTI2YzliMTMxNzM0YzM3YTcxZWQyNjAyNWNjZDZkMCk7CgogICAgICAgICAgICAKICAgICAgICAKICAgIAogICAgICAgICAgICB2YXIgY2lyY2xlX21hcmtlcl81YzIyODQ4ZjNhNTA0NzM0YjA1ZGI4NWQ0MzE3Nzk0ZSA9IEwuY2lyY2xlTWFya2VyKAogICAgICAgICAgICAgICAgWzM0LjEwNjY3NTYsLTExNy44MDY3MjU3XSwKICAgICAgICAgICAgICAgIHsKICAiYnViYmxpbmdNb3VzZUV2ZW50cyI6IHRydWUsCiAgImNvbG9yIjogIiNmZjAwMDAiLAogICJkYXNoQXJyYXkiOiBudWxsLAogICJkYXNoT2Zmc2V0IjogbnVsbCwKICAiZmlsbCI6IHRydWUsCiAgImZpbGxDb2xvciI6ICIjZmYwMDAwIiwKICAiZmlsbE9wYWNpdHkiOiAwLjcsCiAgImZpbGxSdWxlIjogImV2ZW5vZGQiLAogICJsaW5lQ2FwIjogInJvdW5kIiwKICAibGluZUpvaW4iOiAicm91bmQiLAogICJvcGFjaXR5IjogMS4wLAogICJyYWRpdXMiOiA1LAogICJzdHJva2UiOiB0cnVlLAogICJ3ZWlnaHQiOiAzCn0KICAgICAgICAgICAgICAgICkuYWRkVG8obWFwXzQyMjk1Mjg4Zjg1ODRiNmRhMjM3MjI2MzdiNmRmOGNjKTsKICAgICAgICAgICAgCiAgICAKICAgICAgICAgICAgdmFyIHBvcHVwXzZkMGQ4YWY2ODE0OTQyNjU5ZTkyNmUyYTcyOTQ4ZWRhID0gTC5wb3B1cCh7bWF4V2lkdGg6ICczMDAnfSk7CgogICAgICAgICAgICAKICAgICAgICAgICAgICAgIHZhciBodG1sXzk3M2NjZWFlOWVjODRjOGJiMjdkOGNmZjJlZjAzYTRmID0gJCgnPGRpdiBpZD0iaHRtbF85NzNjY2VhZTllYzg0YzhiYjI3ZDhjZmYyZWYwM2E0ZiIgc3R5bGU9IndpZHRoOiAxMDAuMCU7IGhlaWdodDogMTAwLjAlOyI+U2FuIERpbWFzIENsdXN0ZXIgMDwvZGl2PicpWzBdOwogICAgICAgICAgICAgICAgcG9wdXBfNmQwZDhhZjY4MTQ5NDI2NTllOTI2ZTJhNzI5NDhlZGEuc2V0Q29udGVudChodG1sXzk3M2NjZWFlOWVjODRjOGJiMjdkOGNmZjJlZjAzYTRmKTsKICAgICAgICAgICAgCgogICAgICAgICAgICBjaXJjbGVfbWFya2VyXzVjMjI4NDhmM2E1MDQ3MzRiMDVkYjg1ZDQzMTc3OTRlLmJpbmRQb3B1cChwb3B1cF82ZDBkOGFmNjgxNDk0MjY1OWU5MjZlMmE3Mjk0OGVkYSk7CgogICAgICAgICAgICAKICAgICAgICAKICAgIAogICAgICAgICAgICB2YXIgY2lyY2xlX21hcmtlcl8xYjFmNmFjYTFlZTE0MmNiOGU0MTdhMjhlMzAzZmI0ZSA9IEwuY2lyY2xlTWFya2VyKAogICAgICAgICAgICAgICAgWzQzLjk0NTg2MjMsMTIuNDU4MzA2XSwKICAgICAgICAgICAgICAgIHsKICAiYnViYmxpbmdNb3VzZUV2ZW50cyI6IHRydWUsCiAgImNvbG9yIjogIiM4MDAwZmYiLAogICJkYXNoQXJyYXkiOiBudWxsLAogICJkYXNoT2Zmc2V0IjogbnVsbCwKICAiZmlsbCI6IHRydWUsCiAgImZpbGxDb2xvciI6ICIjODAwMGZmIiwKICAiZmlsbE9wYWNpdHkiOiAwLjcsCiAgImZpbGxSdWxlIjogImV2ZW5vZGQiLAogICJsaW5lQ2FwIjogInJvdW5kIiwKICAibGluZUpvaW4iOiAicm91bmQiLAogICJvcGFjaXR5IjogMS4wLAogICJyYWRpdXMiOiA1LAogICJzdHJva2UiOiB0cnVlLAogICJ3ZWlnaHQiOiAzCn0KICAgICAgICAgICAgICAgICkuYWRkVG8obWFwXzQyMjk1Mjg4Zjg1ODRiNmRhMjM3MjI2MzdiNmRmOGNjKTsKICAgICAgICAgICAgCiAgICAKICAgICAgICAgICAgdmFyIHBvcHVwX2I2MjBjMzcyM2I1NzRkYzY4ZDRmZGYyMjZkMWFiNDY0ID0gTC5wb3B1cCh7bWF4V2lkdGg6ICczMDAnfSk7CgogICAgICAgICAgICAKICAgICAgICAgICAgICAgIHZhciBodG1sX2QyOGI1YmRhNjNjZTQxNmNhMjljOWQ1Y2ZkNjlmMjU2ID0gJCgnPGRpdiBpZD0iaHRtbF9kMjhiNWJkYTYzY2U0MTZjYTI5YzlkNWNmZDY5ZjI1NiIgc3R5bGU9IndpZHRoOiAxMDAuMCU7IGhlaWdodDogMTAwLjAlOyI+U2FuIE1hcmlubyBDbHVzdGVyIDE8L2Rpdj4nKVswXTsKICAgICAgICAgICAgICAgIHBvcHVwX2I2MjBjMzcyM2I1NzRkYzY4ZDRmZGYyMjZkMWFiNDY0LnNldENvbnRlbnQoaHRtbF9kMjhiNWJkYTYzY2U0MTZjYTI5YzlkNWNmZDY5ZjI1Nik7CiAgICAgICAgICAgIAoKICAgICAgICAgICAgY2lyY2xlX21hcmtlcl8xYjFmNmFjYTFlZTE0MmNiOGU0MTdhMjhlMzAzZmI0ZS5iaW5kUG9wdXAocG9wdXBfYjYyMGMzNzIzYjU3NGRjNjhkNGZkZjIyNmQxYWI0NjQpOwoKICAgICAgICAgICAgCiAgICAgICAgCiAgICAKICAgICAgICAgICAgdmFyIGNpcmNsZV9tYXJrZXJfNjQwNjg2ZGQzZmE4NDllOGEzNmEzYTJlMjE5OGNlZDYgPSBMLmNpcmNsZU1hcmtlcigKICAgICAgICAgICAgICAgIFszNC4zOTE2NjQxLC0xMTguNTQyNTg2XSwKICAgICAgICAgICAgICAgIHsKICAiYnViYmxpbmdNb3VzZUV2ZW50cyI6IHRydWUsCiAgImNvbG9yIjogIiM4MDAwZmYiLAogICJkYXNoQXJyYXkiOiBudWxsLAogICJkYXNoT2Zmc2V0IjogbnVsbCwKICAiZmlsbCI6IHRydWUsCiAgImZpbGxDb2xvciI6ICIjODAwMGZmIiwKICAiZmlsbE9wYWNpdHkiOiAwLjcsCiAgImZpbGxSdWxlIjogImV2ZW5vZGQiLAogICJsaW5lQ2FwIjogInJvdW5kIiwKICAibGluZUpvaW4iOiAicm91bmQiLAogICJvcGFjaXR5IjogMS4wLAogICJyYWRpdXMiOiA1LAogICJzdHJva2UiOiB0cnVlLAogICJ3ZWlnaHQiOiAzCn0KICAgICAgICAgICAgICAgICkuYWRkVG8obWFwXzQyMjk1Mjg4Zjg1ODRiNmRhMjM3MjI2MzdiNmRmOGNjKTsKICAgICAgICAgICAgCiAgICAKICAgICAgICAgICAgdmFyIHBvcHVwX2IwMTNhYjhmZTY1NTQ4Njc5MzdlODliODM5YWVlZjZiID0gTC5wb3B1cCh7bWF4V2lkdGg6ICczMDAnfSk7CgogICAgICAgICAgICAKICAgICAgICAgICAgICAgIHZhciBodG1sX2I5ODU1YTE3NTYwZjQ4NDQ5NjJhODg3MTNjM2ZiYTdjID0gJCgnPGRpdiBpZD0iaHRtbF9iOTg1NWExNzU2MGY0ODQ0OTYyYTg4NzEzYzNmYmE3YyIgc3R5bGU9IndpZHRoOiAxMDAuMCU7IGhlaWdodDogMTAwLjAlOyI+U2FudGEgQ2xhcml0YSBDbHVzdGVyIDE8L2Rpdj4nKVswXTsKICAgICAgICAgICAgICAgIHBvcHVwX2IwMTNhYjhmZTY1NTQ4Njc5MzdlODliODM5YWVlZjZiLnNldENvbnRlbnQoaHRtbF9iOTg1NWExNzU2MGY0ODQ0OTYyYTg4NzEzYzNmYmE3Yyk7CiAgICAgICAgICAgIAoKICAgICAgICAgICAgY2lyY2xlX21hcmtlcl82NDA2ODZkZDNmYTg0OWU4YTM2YTNhMmUyMTk4Y2VkNi5iaW5kUG9wdXAocG9wdXBfYjAxM2FiOGZlNjU1NDg2NzkzN2U4OWI4MzlhZWVmNmIpOwoKICAgICAgICAgICAgCiAgICAgICAgCiAgICAKICAgICAgICAgICAgdmFyIGNpcmNsZV9tYXJrZXJfMTA4ODkwZTVkZGEyNDRjNjkxMGMzMjRmMjUxYmYyZjkgPSBMLmNpcmNsZU1hcmtlcigKICAgICAgICAgICAgICAgIFszMy45NDgyNDM0LC0xMTguMDY3NjEwM10sCiAgICAgICAgICAgICAgICB7CiAgImJ1YmJsaW5nTW91c2VFdmVudHMiOiB0cnVlLAogICJjb2xvciI6ICIjODBmZmI0IiwKICAiZGFzaEFycmF5IjogbnVsbCwKICAiZGFzaE9mZnNldCI6IG51bGwsCiAgImZpbGwiOiB0cnVlLAogICJmaWxsQ29sb3IiOiAiIzgwZmZiNCIsCiAgImZpbGxPcGFjaXR5IjogMC43LAogICJmaWxsUnVsZSI6ICJldmVub2RkIiwKICAibGluZUNhcCI6ICJyb3VuZCIsCiAgImxpbmVKb2luIjogInJvdW5kIiwKICAib3BhY2l0eSI6IDEuMCwKICAicmFkaXVzIjogNSwKICAic3Ryb2tlIjogdHJ1ZSwKICAid2VpZ2h0IjogMwp9CiAgICAgICAgICAgICAgICApLmFkZFRvKG1hcF80MjI5NTI4OGY4NTg0YjZkYTIzNzIyNjM3YjZkZjhjYyk7CiAgICAgICAgICAgIAogICAgCiAgICAgICAgICAgIHZhciBwb3B1cF85YmVkNzAyMmE2MzA0NjBiYWYyMjQ4YWFiNmRjMmE1ZiA9IEwucG9wdXAoe21heFdpZHRoOiAnMzAwJ30pOwoKICAgICAgICAgICAgCiAgICAgICAgICAgICAgICB2YXIgaHRtbF9kYzA0NjhmYTIwYjc0MzA1YTMyZDAzYzE2NzZkZjg0YyA9ICQoJzxkaXYgaWQ9Imh0bWxfZGMwNDY4ZmEyMGI3NDMwNWEzMmQwM2MxNjc2ZGY4NGMiIHN0eWxlPSJ3aWR0aDogMTAwLjAlOyBoZWlnaHQ6IDEwMC4wJTsiPlNhbnRhIEZlIFNwcmluZ3MgQ2x1c3RlciAzPC9kaXY+JylbMF07CiAgICAgICAgICAgICAgICBwb3B1cF85YmVkNzAyMmE2MzA0NjBiYWYyMjQ4YWFiNmRjMmE1Zi5zZXRDb250ZW50KGh0bWxfZGMwNDY4ZmEyMGI3NDMwNWEzMmQwM2MxNjc2ZGY4NGMpOwogICAgICAgICAgICAKCiAgICAgICAgICAgIGNpcmNsZV9tYXJrZXJfMTA4ODkwZTVkZGEyNDRjNjkxMGMzMjRmMjUxYmYyZjkuYmluZFBvcHVwKHBvcHVwXzliZWQ3MDIyYTYzMDQ2MGJhZjIyNDhhYWI2ZGMyYTVmKTsKCiAgICAgICAgICAgIAogICAgICAgIAogICAgCiAgICAgICAgICAgIHZhciBjaXJjbGVfbWFya2VyXzI5YzcyNTgyNTI3MzQwZWFiYWY5YWE0YmRmNmM4YWEzID0gTC5jaXJjbGVNYXJrZXIoCiAgICAgICAgICAgICAgICBbMzQuMDE5NjU3LC0xMTguNDg3NTQ5XSwKICAgICAgICAgICAgICAgIHsKICAiYnViYmxpbmdNb3VzZUV2ZW50cyI6IHRydWUsCiAgImNvbG9yIjogIiM4MGZmYjQiLAogICJkYXNoQXJyYXkiOiBudWxsLAogICJkYXNoT2Zmc2V0IjogbnVsbCwKICAiZmlsbCI6IHRydWUsCiAgImZpbGxDb2xvciI6ICIjODBmZmI0IiwKICAiZmlsbE9wYWNpdHkiOiAwLjcsCiAgImZpbGxSdWxlIjogImV2ZW5vZGQiLAogICJsaW5lQ2FwIjogInJvdW5kIiwKICAibGluZUpvaW4iOiAicm91bmQiLAogICJvcGFjaXR5IjogMS4wLAogICJyYWRpdXMiOiA1LAogICJzdHJva2UiOiB0cnVlLAogICJ3ZWlnaHQiOiAzCn0KICAgICAgICAgICAgICAgICkuYWRkVG8obWFwXzQyMjk1Mjg4Zjg1ODRiNmRhMjM3MjI2MzdiNmRmOGNjKTsKICAgICAgICAgICAgCiAgICAKICAgICAgICAgICAgdmFyIHBvcHVwX2FiYjJjZDFjMmJiNTQ4MGZhODZlNjlkZTI2YzAwMjU5ID0gTC5wb3B1cCh7bWF4V2lkdGg6ICczMDAnfSk7CgogICAgICAgICAgICAKICAgICAgICAgICAgICAgIHZhciBodG1sXzVhMzNlMWY3YTQ3ODQyZGJhOWFlN2Y5NjQyZmMxMjVhID0gJCgnPGRpdiBpZD0iaHRtbF81YTMzZTFmN2E0Nzg0MmRiYTlhZTdmOTY0MmZjMTI1YSIgc3R5bGU9IndpZHRoOiAxMDAuMCU7IGhlaWdodDogMTAwLjAlOyI+U2FudGEgTW9uaWNhIENsdXN0ZXIgMzwvZGl2PicpWzBdOwogICAgICAgICAgICAgICAgcG9wdXBfYWJiMmNkMWMyYmI1NDgwZmE4NmU2OWRlMjZjMDAyNTkuc2V0Q29udGVudChodG1sXzVhMzNlMWY3YTQ3ODQyZGJhOWFlN2Y5NjQyZmMxMjVhKTsKICAgICAgICAgICAgCgogICAgICAgICAgICBjaXJjbGVfbWFya2VyXzI5YzcyNTgyNTI3MzQwZWFiYWY5YWE0YmRmNmM4YWEzLmJpbmRQb3B1cChwb3B1cF9hYmIyY2QxYzJiYjU0ODBmYTg2ZTY5ZGUyNmMwMDI1OSk7CgogICAgICAgICAgICAKICAgICAgICAKICAgIAogICAgICAgICAgICB2YXIgY2lyY2xlX21hcmtlcl8wYjU1MGYzZTQ1ZDk0NmY3OTllMGQ2Yzg0NGYwMzcxZSA9IEwuY2lyY2xlTWFya2VyKAogICAgICAgICAgICAgICAgWzM0LjE2MTY3MjksLTExOC4wNTI4NDU2XSwKICAgICAgICAgICAgICAgIHsKICAiYnViYmxpbmdNb3VzZUV2ZW50cyI6IHRydWUsCiAgImNvbG9yIjogIiM4MDAwZmYiLAogICJkYXNoQXJyYXkiOiBudWxsLAogICJkYXNoT2Zmc2V0IjogbnVsbCwKICAiZmlsbCI6IHRydWUsCiAgImZpbGxDb2xvciI6ICIjODAwMGZmIiwKICAiZmlsbE9wYWNpdHkiOiAwLjcsCiAgImZpbGxSdWxlIjogImV2ZW5vZGQiLAogICJsaW5lQ2FwIjogInJvdW5kIiwKICAibGluZUpvaW4iOiAicm91bmQiLAogICJvcGFjaXR5IjogMS4wLAogICJyYWRpdXMiOiA1LAogICJzdHJva2UiOiB0cnVlLAogICJ3ZWlnaHQiOiAzCn0KICAgICAgICAgICAgICAgICkuYWRkVG8obWFwXzQyMjk1Mjg4Zjg1ODRiNmRhMjM3MjI2MzdiNmRmOGNjKTsKICAgICAgICAgICAgCiAgICAKICAgICAgICAgICAgdmFyIHBvcHVwX2M5OWQwOGIyMTJkOTRiYzQ5MGJlYjQ4NzIyMWM1ZGVlID0gTC5wb3B1cCh7bWF4V2lkdGg6ICczMDAnfSk7CgogICAgICAgICAgICAKICAgICAgICAgICAgICAgIHZhciBodG1sX2Y4ZDEwNzJiZmY5ZjRjYTY4MzBlMzQwODU0ZjQ2MTdmID0gJCgnPGRpdiBpZD0iaHRtbF9mOGQxMDcyYmZmOWY0Y2E2ODMwZTM0MDg1NGY0NjE3ZiIgc3R5bGU9IndpZHRoOiAxMDAuMCU7IGhlaWdodDogMTAwLjAlOyI+U2llcnJhIE1hZHJlIENsdXN0ZXIgMTwvZGl2PicpWzBdOwogICAgICAgICAgICAgICAgcG9wdXBfYzk5ZDA4YjIxMmQ5NGJjNDkwYmViNDg3MjIxYzVkZWUuc2V0Q29udGVudChodG1sX2Y4ZDEwNzJiZmY5ZjRjYTY4MzBlMzQwODU0ZjQ2MTdmKTsKICAgICAgICAgICAgCgogICAgICAgICAgICBjaXJjbGVfbWFya2VyXzBiNTUwZjNlNDVkOTQ2Zjc5OWUwZDZjODQ0ZjAzNzFlLmJpbmRQb3B1cChwb3B1cF9jOTlkMDhiMjEyZDk0YmM0OTBiZWI0ODcyMjFjNWRlZSk7CgogICAgICAgICAgICAKICAgICAgICAKICAgIAogICAgICAgICAgICB2YXIgY2lyY2xlX21hcmtlcl9hMWZkZmQxMTc4YjM0YTM4YmYyMmIzNTA0M2U0ZGY4MiA9IEwuY2lyY2xlTWFya2VyKAogICAgICAgICAgICAgICAgWzMzLjgwNDgyNiwtMTE4LjE2ODI1OV0sCiAgICAgICAgICAgICAgICB7CiAgImJ1YmJsaW5nTW91c2VFdmVudHMiOiB0cnVlLAogICJjb2xvciI6ICIjODBmZmI0IiwKICAiZGFzaEFycmF5IjogbnVsbCwKICAiZGFzaE9mZnNldCI6IG51bGwsCiAgImZpbGwiOiB0cnVlLAogICJmaWxsQ29sb3IiOiAiIzgwZmZiNCIsCiAgImZpbGxPcGFjaXR5IjogMC43LAogICJmaWxsUnVsZSI6ICJldmVub2RkIiwKICAibGluZUNhcCI6ICJyb3VuZCIsCiAgImxpbmVKb2luIjogInJvdW5kIiwKICAib3BhY2l0eSI6IDEuMCwKICAicmFkaXVzIjogNSwKICAic3Ryb2tlIjogdHJ1ZSwKICAid2VpZ2h0IjogMwp9CiAgICAgICAgICAgICAgICApLmFkZFRvKG1hcF80MjI5NTI4OGY4NTg0YjZkYTIzNzIyNjM3YjZkZjhjYyk7CiAgICAgICAgICAgIAogICAgCiAgICAgICAgICAgIHZhciBwb3B1cF83NGJkODM3MTkzN2Y0ZGFlOGQyMGQzNTM3NTJiNDcxMCA9IEwucG9wdXAoe21heFdpZHRoOiAnMzAwJ30pOwoKICAgICAgICAgICAgCiAgICAgICAgICAgICAgICB2YXIgaHRtbF8zMjkwMGVjYzEwOTg0MzNmOTY2NTkzMGYzMDMzNzIyNiA9ICQoJzxkaXYgaWQ9Imh0bWxfMzI5MDBlY2MxMDk4NDMzZjk2NjU5MzBmMzAzMzcyMjYiIHN0eWxlPSJ3aWR0aDogMTAwLjAlOyBoZWlnaHQ6IDEwMC4wJTsiPlNpZ25hbCBIaWxsIENsdXN0ZXIgMzwvZGl2PicpWzBdOwogICAgICAgICAgICAgICAgcG9wdXBfNzRiZDgzNzE5MzdmNGRhZThkMjBkMzUzNzUyYjQ3MTAuc2V0Q29udGVudChodG1sXzMyOTAwZWNjMTA5ODQzM2Y5NjY1OTMwZjMwMzM3MjI2KTsKICAgICAgICAgICAgCgogICAgICAgICAgICBjaXJjbGVfbWFya2VyX2ExZmRmZDExNzhiMzRhMzhiZjIyYjM1MDQzZTRkZjgyLmJpbmRQb3B1cChwb3B1cF83NGJkODM3MTkzN2Y0ZGFlOGQyMGQzNTM3NTJiNDcxMCk7CgogICAgICAgICAgICAKICAgICAgICAKICAgIAogICAgICAgICAgICB2YXIgY2lyY2xlX21hcmtlcl8wNmY1NDBjNWQwMDA0YWI0OGZkN2FkZWEyNWRlMWM2ZSA9IEwuY2lyY2xlTWFya2VyKAogICAgICAgICAgICAgICAgWzM0LjA1MTk1NDgsLTExOC4wNDY3MzM5XSwKICAgICAgICAgICAgICAgIHsKICAiYnViYmxpbmdNb3VzZUV2ZW50cyI6IHRydWUsCiAgImNvbG9yIjogIiM4MDAwZmYiLAogICJkYXNoQXJyYXkiOiBudWxsLAogICJkYXNoT2Zmc2V0IjogbnVsbCwKICAiZmlsbCI6IHRydWUsCiAgImZpbGxDb2xvciI6ICIjODAwMGZmIiwKICAiZmlsbE9wYWNpdHkiOiAwLjcsCiAgImZpbGxSdWxlIjogImV2ZW5vZGQiLAogICJsaW5lQ2FwIjogInJvdW5kIiwKICAibGluZUpvaW4iOiAicm91bmQiLAogICJvcGFjaXR5IjogMS4wLAogICJyYWRpdXMiOiA1LAogICJzdHJva2UiOiB0cnVlLAogICJ3ZWlnaHQiOiAzCn0KICAgICAgICAgICAgICAgICkuYWRkVG8obWFwXzQyMjk1Mjg4Zjg1ODRiNmRhMjM3MjI2MzdiNmRmOGNjKTsKICAgICAgICAgICAgCiAgICAKICAgICAgICAgICAgdmFyIHBvcHVwXzliMzNiZTIyYTdhYzRlNWU4MWU5MTljZDg2ODMzNzc3ID0gTC5wb3B1cCh7bWF4V2lkdGg6ICczMDAnfSk7CgogICAgICAgICAgICAKICAgICAgICAgICAgICAgIHZhciBodG1sXzgwN2Y5ZDU5NmVhYjRlZTFiNTEzZmQ2NWE2NTgzMWU5ID0gJCgnPGRpdiBpZD0iaHRtbF84MDdmOWQ1OTZlYWI0ZWUxYjUxM2ZkNjVhNjU4MzFlOSIgc3R5bGU9IndpZHRoOiAxMDAuMCU7IGhlaWdodDogMTAwLjAlOyI+U291dGggRWwgTW9udGUgQ2x1c3RlciAxPC9kaXY+JylbMF07CiAgICAgICAgICAgICAgICBwb3B1cF85YjMzYmUyMmE3YWM0ZTVlODFlOTE5Y2Q4NjgzMzc3Ny5zZXRDb250ZW50KGh0bWxfODA3ZjlkNTk2ZWFiNGVlMWI1MTNmZDY1YTY1ODMxZTkpOwogICAgICAgICAgICAKCiAgICAgICAgICAgIGNpcmNsZV9tYXJrZXJfMDZmNTQwYzVkMDAwNGFiNDhmZDdhZGVhMjVkZTFjNmUuYmluZFBvcHVwKHBvcHVwXzliMzNiZTIyYTdhYzRlNWU4MWU5MTljZDg2ODMzNzc3KTsKCiAgICAgICAgICAgIAogICAgICAgIAogICAgCiAgICAgICAgICAgIHZhciBjaXJjbGVfbWFya2VyXzMwZmI5ZWQ4MDUzNzRmZWFhM2NkMmVlZjdlMzk4MjE0ID0gTC5jaXJjbGVNYXJrZXIoCiAgICAgICAgICAgICAgICBbMzMuOTQ2MzQ1NiwtMTE4LjIwMDk4MV0sCiAgICAgICAgICAgICAgICB7CiAgImJ1YmJsaW5nTW91c2VFdmVudHMiOiB0cnVlLAogICJjb2xvciI6ICIjODAwMGZmIiwKICAiZGFzaEFycmF5IjogbnVsbCwKICAiZGFzaE9mZnNldCI6IG51bGwsCiAgImZpbGwiOiB0cnVlLAogICJmaWxsQ29sb3IiOiAiIzgwMDBmZiIsCiAgImZpbGxPcGFjaXR5IjogMC43LAogICJmaWxsUnVsZSI6ICJldmVub2RkIiwKICAibGluZUNhcCI6ICJyb3VuZCIsCiAgImxpbmVKb2luIjogInJvdW5kIiwKICAib3BhY2l0eSI6IDEuMCwKICAicmFkaXVzIjogNSwKICAic3Ryb2tlIjogdHJ1ZSwKICAid2VpZ2h0IjogMwp9CiAgICAgICAgICAgICAgICApLmFkZFRvKG1hcF80MjI5NTI4OGY4NTg0YjZkYTIzNzIyNjM3YjZkZjhjYyk7CiAgICAgICAgICAgIAogICAgCiAgICAgICAgICAgIHZhciBwb3B1cF9hNGViNTExMTQ0ZmM0ZWI5ODliMjlhZmViODMyYjM3ZiA9IEwucG9wdXAoe21heFdpZHRoOiAnMzAwJ30pOwoKICAgICAgICAgICAgCiAgICAgICAgICAgICAgICB2YXIgaHRtbF8yYmNhYjg3NTRhYmU0N2VkODRiYzM2MzY5MTdjMTY3YSA9ICQoJzxkaXYgaWQ9Imh0bWxfMmJjYWI4NzU0YWJlNDdlZDg0YmMzNjM2OTE3YzE2N2EiIHN0eWxlPSJ3aWR0aDogMTAwLjAlOyBoZWlnaHQ6IDEwMC4wJTsiPlNvdXRoIEdhdGUgQ2x1c3RlciAxPC9kaXY+JylbMF07CiAgICAgICAgICAgICAgICBwb3B1cF9hNGViNTExMTQ0ZmM0ZWI5ODliMjlhZmViODMyYjM3Zi5zZXRDb250ZW50KGh0bWxfMmJjYWI4NzU0YWJlNDdlZDg0YmMzNjM2OTE3YzE2N2EpOwogICAgICAgICAgICAKCiAgICAgICAgICAgIGNpcmNsZV9tYXJrZXJfMzBmYjllZDgwNTM3NGZlYWEzY2QyZWVmN2UzOTgyMTQuYmluZFBvcHVwKHBvcHVwX2E0ZWI1MTExNDRmYzRlYjk4OWIyOWFmZWI4MzJiMzdmKTsKCiAgICAgICAgICAgIAogICAgICAgIAogICAgCiAgICAgICAgICAgIHZhciBjaXJjbGVfbWFya2VyX2FkZDE0NmRlY2ExZDRlMzRhMWE5M2I1ODI2MjZkODNkID0gTC5jaXJjbGVNYXJrZXIoCiAgICAgICAgICAgICAgICBbMzQuMTEzMzA2MiwtMTE4LjE0NzgyOTFdLAogICAgICAgICAgICAgICAgewogICJidWJibGluZ01vdXNlRXZlbnRzIjogdHJ1ZSwKICAiY29sb3IiOiAiIzgwMDBmZiIsCiAgImRhc2hBcnJheSI6IG51bGwsCiAgImRhc2hPZmZzZXQiOiBudWxsLAogICJmaWxsIjogdHJ1ZSwKICAiZmlsbENvbG9yIjogIiM4MDAwZmYiLAogICJmaWxsT3BhY2l0eSI6IDAuNywKICAiZmlsbFJ1bGUiOiAiZXZlbm9kZCIsCiAgImxpbmVDYXAiOiAicm91bmQiLAogICJsaW5lSm9pbiI6ICJyb3VuZCIsCiAgIm9wYWNpdHkiOiAxLjAsCiAgInJhZGl1cyI6IDUsCiAgInN0cm9rZSI6IHRydWUsCiAgIndlaWdodCI6IDMKfQogICAgICAgICAgICAgICAgKS5hZGRUbyhtYXBfNDIyOTUyODhmODU4NGI2ZGEyMzcyMjYzN2I2ZGY4Y2MpOwogICAgICAgICAgICAKICAgIAogICAgICAgICAgICB2YXIgcG9wdXBfYjY1OTJhOTg3YWJjNGNlODg4ZDBlM2U5MzM0MTdlN2QgPSBMLnBvcHVwKHttYXhXaWR0aDogJzMwMCd9KTsKCiAgICAgICAgICAgIAogICAgICAgICAgICAgICAgdmFyIGh0bWxfODQyYjI1MjM2ZDIyNDk0MWI0NTJkZGEwZmUxNzhkYTEgPSAkKCc8ZGl2IGlkPSJodG1sXzg0MmIyNTIzNmQyMjQ5NDFiNDUyZGRhMGZlMTc4ZGExIiBzdHlsZT0id2lkdGg6IDEwMC4wJTsgaGVpZ2h0OiAxMDAuMCU7Ij5Tb3V0aCBQYXNhZGVuYSBDbHVzdGVyIDE8L2Rpdj4nKVswXTsKICAgICAgICAgICAgICAgIHBvcHVwX2I2NTkyYTk4N2FiYzRjZTg4OGQwZTNlOTMzNDE3ZTdkLnNldENvbnRlbnQoaHRtbF84NDJiMjUyMzZkMjI0OTQxYjQ1MmRkYTBmZTE3OGRhMSk7CiAgICAgICAgICAgIAoKICAgICAgICAgICAgY2lyY2xlX21hcmtlcl9hZGQxNDZkZWNhMWQ0ZTM0YTFhOTNiNTgyNjI2ZDgzZC5iaW5kUG9wdXAocG9wdXBfYjY1OTJhOTg3YWJjNGNlODg4ZDBlM2U5MzM0MTdlN2QpOwoKICAgICAgICAgICAgCiAgICAgICAgCiAgICAKICAgICAgICAgICAgdmFyIGNpcmNsZV9tYXJrZXJfYjkzYTYxZjQwZjlkNGU5ZGI0NGIwMzU1NzI5YTg5MTcgPSBMLmNpcmNsZU1hcmtlcigKICAgICAgICAgICAgICAgIFszNC4xMDgyOTk0LC0xMTguMDU3NzU2OF0sCiAgICAgICAgICAgICAgICB7CiAgImJ1YmJsaW5nTW91c2VFdmVudHMiOiB0cnVlLAogICJjb2xvciI6ICIjODAwMGZmIiwKICAiZGFzaEFycmF5IjogbnVsbCwKICAiZGFzaE9mZnNldCI6IG51bGwsCiAgImZpbGwiOiB0cnVlLAogICJmaWxsQ29sb3IiOiAiIzgwMDBmZiIsCiAgImZpbGxPcGFjaXR5IjogMC43LAogICJmaWxsUnVsZSI6ICJldmVub2RkIiwKICAibGluZUNhcCI6ICJyb3VuZCIsCiAgImxpbmVKb2luIjogInJvdW5kIiwKICAib3BhY2l0eSI6IDEuMCwKICAicmFkaXVzIjogNSwKICAic3Ryb2tlIjogdHJ1ZSwKICAid2VpZ2h0IjogMwp9CiAgICAgICAgICAgICAgICApLmFkZFRvKG1hcF80MjI5NTI4OGY4NTg0YjZkYTIzNzIyNjM3YjZkZjhjYyk7CiAgICAgICAgICAgIAogICAgCiAgICAgICAgICAgIHZhciBwb3B1cF8xMmUzNDhmYmExNDg0ODVkOWJhMDI2YmE1MmI4Zjg3NCA9IEwucG9wdXAoe21heFdpZHRoOiAnMzAwJ30pOwoKICAgICAgICAgICAgCiAgICAgICAgICAgICAgICB2YXIgaHRtbF8wYzNjZDk5YTVlZmE0YmJmYWU5ZTRjZTI1YTg5ODRkZiA9ICQoJzxkaXYgaWQ9Imh0bWxfMGMzY2Q5OWE1ZWZhNGJiZmFlOWU0Y2UyNWE4OTg0ZGYiIHN0eWxlPSJ3aWR0aDogMTAwLjAlOyBoZWlnaHQ6IDEwMC4wJTsiPlRlbXBsZSBDaXR5IENsdXN0ZXIgMTwvZGl2PicpWzBdOwogICAgICAgICAgICAgICAgcG9wdXBfMTJlMzQ4ZmJhMTQ4NDg1ZDliYTAyNmJhNTJiOGY4NzQuc2V0Q29udGVudChodG1sXzBjM2NkOTlhNWVmYTRiYmZhZTllNGNlMjVhODk4NGRmKTsKICAgICAgICAgICAgCgogICAgICAgICAgICBjaXJjbGVfbWFya2VyX2I5M2E2MWY0MGY5ZDRlOWRiNDRiMDM1NTcyOWE4OTE3LmJpbmRQb3B1cChwb3B1cF8xMmUzNDhmYmExNDg0ODVkOWJhMDI2YmE1MmI4Zjg3NCk7CgogICAgICAgICAgICAKICAgICAgICAKICAgIAogICAgICAgICAgICB2YXIgY2lyY2xlX21hcmtlcl84MmI0MDNhMDFhYmE0ZDZhODY3NzIwNzAwZjAzZTM0YyA9IEwuY2lyY2xlTWFya2VyKAogICAgICAgICAgICAgICAgWzMzLjgzNTg0OTIsLTExOC4zNDA2Mjg4XSwKICAgICAgICAgICAgICAgIHsKICAiYnViYmxpbmdNb3VzZUV2ZW50cyI6IHRydWUsCiAgImNvbG9yIjogIiM4MDAwZmYiLAogICJkYXNoQXJyYXkiOiBudWxsLAogICJkYXNoT2Zmc2V0IjogbnVsbCwKICAiZmlsbCI6IHRydWUsCiAgImZpbGxDb2xvciI6ICIjODAwMGZmIiwKICAiZmlsbE9wYWNpdHkiOiAwLjcsCiAgImZpbGxSdWxlIjogImV2ZW5vZGQiLAogICJsaW5lQ2FwIjogInJvdW5kIiwKICAibGluZUpvaW4iOiAicm91bmQiLAogICJvcGFjaXR5IjogMS4wLAogICJyYWRpdXMiOiA1LAogICJzdHJva2UiOiB0cnVlLAogICJ3ZWlnaHQiOiAzCn0KICAgICAgICAgICAgICAgICkuYWRkVG8obWFwXzQyMjk1Mjg4Zjg1ODRiNmRhMjM3MjI2MzdiNmRmOGNjKTsKICAgICAgICAgICAgCiAgICAKICAgICAgICAgICAgdmFyIHBvcHVwXzk5MGNmYjc3YTY1ZTRhNmE4MGMwZDgxYzlkOGE4N2ExID0gTC5wb3B1cCh7bWF4V2lkdGg6ICczMDAnfSk7CgogICAgICAgICAgICAKICAgICAgICAgICAgICAgIHZhciBodG1sXzZiODViMDkxMmQ2ODRmNjg4MDdkNTFmYmE1OTVlMTk2ID0gJCgnPGRpdiBpZD0iaHRtbF82Yjg1YjA5MTJkNjg0ZjY4ODA3ZDUxZmJhNTk1ZTE5NiIgc3R5bGU9IndpZHRoOiAxMDAuMCU7IGhlaWdodDogMTAwLjAlOyI+VG9ycmFuY2UgQ2x1c3RlciAxPC9kaXY+JylbMF07CiAgICAgICAgICAgICAgICBwb3B1cF85OTBjZmI3N2E2NWU0YTZhODBjMGQ4MWM5ZDhhODdhMS5zZXRDb250ZW50KGh0bWxfNmI4NWIwOTEyZDY4NGY2ODgwN2Q1MWZiYTU5NWUxOTYpOwogICAgICAgICAgICAKCiAgICAgICAgICAgIGNpcmNsZV9tYXJrZXJfODJiNDAzYTAxYWJhNGQ2YTg2NzcyMDcwMGYwM2UzNGMuYmluZFBvcHVwKHBvcHVwXzk5MGNmYjc3YTY1ZTRhNmE4MGMwZDgxYzlkOGE4N2ExKTsKCiAgICAgICAgICAgIAogICAgICAgIAogICAgCiAgICAgICAgICAgIHZhciBjaXJjbGVfbWFya2VyXzFkNzYyM2IxMjU0NjRjOGViNjc5YzVhNDM1NGU1MDAyID0gTC5jaXJjbGVNYXJrZXIoCiAgICAgICAgICAgICAgICBbMzQuMDIwMjg5NCwtMTE3Ljg2NTMzODZdLAogICAgICAgICAgICAgICAgewogICJidWJibGluZ01vdXNlRXZlbnRzIjogdHJ1ZSwKICAiY29sb3IiOiAiIzgwZmZiNCIsCiAgImRhc2hBcnJheSI6IG51bGwsCiAgImRhc2hPZmZzZXQiOiBudWxsLAogICJmaWxsIjogdHJ1ZSwKICAiZmlsbENvbG9yIjogIiM4MGZmYjQiLAogICJmaWxsT3BhY2l0eSI6IDAuNywKICAiZmlsbFJ1bGUiOiAiZXZlbm9kZCIsCiAgImxpbmVDYXAiOiAicm91bmQiLAogICJsaW5lSm9pbiI6ICJyb3VuZCIsCiAgIm9wYWNpdHkiOiAxLjAsCiAgInJhZGl1cyI6IDUsCiAgInN0cm9rZSI6IHRydWUsCiAgIndlaWdodCI6IDMKfQogICAgICAgICAgICAgICAgKS5hZGRUbyhtYXBfNDIyOTUyODhmODU4NGI2ZGEyMzcyMjYzN2I2ZGY4Y2MpOwogICAgICAgICAgICAKICAgIAogICAgICAgICAgICB2YXIgcG9wdXBfODQxMGY3YmMwN2JhNGNiODlhMGY1ZTY3ZWJkNjI5MDkgPSBMLnBvcHVwKHttYXhXaWR0aDogJzMwMCd9KTsKCiAgICAgICAgICAgIAogICAgICAgICAgICAgICAgdmFyIGh0bWxfMTlmODY3Nzk2MTQ0NDI5Y2JhY2FmNzUwMGIxNDBhNWQgPSAkKCc8ZGl2IGlkPSJodG1sXzE5Zjg2Nzc5NjE0NDQyOWNiYWNhZjc1MDBiMTQwYTVkIiBzdHlsZT0id2lkdGg6IDEwMC4wJTsgaGVpZ2h0OiAxMDAuMCU7Ij5XYWxudXQgQ2x1c3RlciAzPC9kaXY+JylbMF07CiAgICAgICAgICAgICAgICBwb3B1cF84NDEwZjdiYzA3YmE0Y2I4OWEwZjVlNjdlYmQ2MjkwOS5zZXRDb250ZW50KGh0bWxfMTlmODY3Nzk2MTQ0NDI5Y2JhY2FmNzUwMGIxNDBhNWQpOwogICAgICAgICAgICAKCiAgICAgICAgICAgIGNpcmNsZV9tYXJrZXJfMWQ3NjIzYjEyNTQ2NGM4ZWI2NzljNWE0MzU0ZTUwMDIuYmluZFBvcHVwKHBvcHVwXzg0MTBmN2JjMDdiYTRjYjg5YTBmNWU2N2ViZDYyOTA5KTsKCiAgICAgICAgICAgIAogICAgICAgIAo8L3NjcmlwdD4=\" style=\"position:absolute;width:100%;height:100%;left:0;top:0;border:none !important;\" allowfullscreen webkitallowfullscreen mozallowfullscreen></iframe></div></div>"
      ],
      "text/plain": [
       "<folium.folium.Map at 0x1a1c0d6550>"
      ]
     },
     "execution_count": 201,
     "metadata": {},
     "output_type": "execute_result"
    }
   ],
   "source": [
    "# create map\n",
    "map_clusters = folium.Map(location=[latitude, longitude], zoom_start=11)\n",
    "\n",
    "# set color scheme for the clusters\n",
    "x = np.arange(kclusters)\n",
    "ys = [i+x+(i*x)**2 for i in range(kclusters)]\n",
    "colors_array = cm.rainbow(np.linspace(0, 1, len(ys)))\n",
    "rainbow = [colors.rgb2hex(i) for i in colors_array]\n",
    "\n",
    "# add markers to the map\n",
    "markers_colors = []\n",
    "for lat, lon, poi, cluster in zip(Los_Angeles_merged['Latitude'], Los_Angeles_merged['Longitude'], Los_Angeles_merged['Name'], Los_Angeles_merged['Cluster Labels']):\n",
    "    label = folium.Popup(str(poi) + ' Cluster ' + str(cluster), parse_html=True)\n",
    "    folium.CircleMarker(\n",
    "        [lat, lon],\n",
    "        radius=5,\n",
    "        popup=label,\n",
    "        color=rainbow[cluster-1],\n",
    "        fill=True,\n",
    "        fill_color=rainbow[cluster-1],\n",
    "        fill_opacity=0.7).add_to(map_clusters)\n",
    "       \n",
    "map_clusters"
   ]
  },
  {
   "cell_type": "markdown",
   "metadata": {},
   "source": [
    "This **folium** map containing **all cities in Los Angeles**, the same color indicats the same group cluster. This map may not available on **GitHub**."
   ]
  },
  {
   "cell_type": "markdown",
   "metadata": {},
   "source": [
    "## 5. Examine Each of the Five Clusters"
   ]
  },
  {
   "cell_type": "markdown",
   "metadata": {},
   "source": [
    "Examine each cluster and determine the discriminating venue categories that distinguish each cluster. Based on the defining categories, assign a name to each cluster."
   ]
  },
  {
   "cell_type": "markdown",
   "metadata": {},
   "source": [
    "#### Cluster 1"
   ]
  },
  {
   "cell_type": "code",
   "execution_count": 284,
   "metadata": {},
   "outputs": [
    {
     "name": "stdout",
     "output_type": "stream",
     "text": [
      "Number of city: 4\n",
      "\n",
      "Cities in first Cluster are:  ['Agoura Hills' 'La Cañada Flintridge' 'Redondo Beach' 'San Dimas']\n",
      "\n"
     ]
    },
    {
     "data": {
      "text/html": [
       "<div>\n",
       "<style scoped>\n",
       "    .dataframe tbody tr th:only-of-type {\n",
       "        vertical-align: middle;\n",
       "    }\n",
       "\n",
       "    .dataframe tbody tr th {\n",
       "        vertical-align: top;\n",
       "    }\n",
       "\n",
       "    .dataframe thead th {\n",
       "        text-align: right;\n",
       "    }\n",
       "</style>\n",
       "<table border=\"1\" class=\"dataframe\">\n",
       "  <thead>\n",
       "    <tr style=\"text-align: right;\">\n",
       "      <th></th>\n",
       "      <th>Name</th>\n",
       "      <th>Type</th>\n",
       "      <th>1st Most Common Venue</th>\n",
       "      <th>2nd Most Common Venue</th>\n",
       "      <th>3rd Most Common Venue</th>\n",
       "      <th>4th Most Common Venue</th>\n",
       "      <th>5th Most Common Venue</th>\n",
       "      <th>6th Most Common Venue</th>\n",
       "      <th>7th Most Common Venue</th>\n",
       "      <th>8th Most Common Venue</th>\n",
       "      <th>9th Most Common Venue</th>\n",
       "      <th>10th Most Common Venue</th>\n",
       "    </tr>\n",
       "  </thead>\n",
       "  <tbody>\n",
       "    <tr>\n",
       "      <th>0</th>\n",
       "      <td>Agoura Hills</td>\n",
       "      <td>City</td>\n",
       "      <td>Hotel Bar</td>\n",
       "      <td>American Restaurant</td>\n",
       "      <td>Park</td>\n",
       "      <td>Summer Camp</td>\n",
       "      <td>Gym</td>\n",
       "      <td>Hotel</td>\n",
       "      <td>Home Service</td>\n",
       "      <td>Dumpling Restaurant</td>\n",
       "      <td>Electronics Store</td>\n",
       "      <td>Empanada Restaurant</td>\n",
       "    </tr>\n",
       "    <tr>\n",
       "      <th>1</th>\n",
       "      <td>La Cañada Flintridge</td>\n",
       "      <td>City</td>\n",
       "      <td>Trail</td>\n",
       "      <td>Mexican Restaurant</td>\n",
       "      <td>Garden</td>\n",
       "      <td>Pizza Place</td>\n",
       "      <td>Sandwich Place</td>\n",
       "      <td>Department Store</td>\n",
       "      <td>Frozen Yogurt Shop</td>\n",
       "      <td>American Restaurant</td>\n",
       "      <td>Japanese Restaurant</td>\n",
       "      <td>Bakery</td>\n",
       "    </tr>\n",
       "    <tr>\n",
       "      <th>2</th>\n",
       "      <td>Redondo Beach</td>\n",
       "      <td>City</td>\n",
       "      <td>Seafood Restaurant</td>\n",
       "      <td>American Restaurant</td>\n",
       "      <td>Mexican Restaurant</td>\n",
       "      <td>Coffee Shop</td>\n",
       "      <td>Hotel</td>\n",
       "      <td>Bar</td>\n",
       "      <td>Café</td>\n",
       "      <td>Juice Bar</td>\n",
       "      <td>Burger Joint</td>\n",
       "      <td>Pharmacy</td>\n",
       "    </tr>\n",
       "    <tr>\n",
       "      <th>3</th>\n",
       "      <td>San Dimas</td>\n",
       "      <td>City</td>\n",
       "      <td>Sandwich Place</td>\n",
       "      <td>Thai Restaurant</td>\n",
       "      <td>Mexican Restaurant</td>\n",
       "      <td>Italian Restaurant</td>\n",
       "      <td>Hotel</td>\n",
       "      <td>Sushi Restaurant</td>\n",
       "      <td>Ice Cream Shop</td>\n",
       "      <td>Hobby Shop</td>\n",
       "      <td>Smoke Shop</td>\n",
       "      <td>Restaurant</td>\n",
       "    </tr>\n",
       "  </tbody>\n",
       "</table>\n",
       "</div>"
      ],
      "text/plain": [
       "                   Name  Type 1st Most Common Venue 2nd Most Common Venue  \\\n",
       "0          Agoura Hills  City             Hotel Bar   American Restaurant   \n",
       "1  La Cañada Flintridge  City                 Trail    Mexican Restaurant   \n",
       "2         Redondo Beach  City    Seafood Restaurant   American Restaurant   \n",
       "3             San Dimas  City        Sandwich Place       Thai Restaurant   \n",
       "\n",
       "  3rd Most Common Venue 4th Most Common Venue 5th Most Common Venue  \\\n",
       "0                  Park           Summer Camp                   Gym   \n",
       "1                Garden           Pizza Place        Sandwich Place   \n",
       "2    Mexican Restaurant           Coffee Shop                 Hotel   \n",
       "3    Mexican Restaurant    Italian Restaurant                 Hotel   \n",
       "\n",
       "  6th Most Common Venue 7th Most Common Venue 8th Most Common Venue  \\\n",
       "0                 Hotel          Home Service   Dumpling Restaurant   \n",
       "1      Department Store    Frozen Yogurt Shop   American Restaurant   \n",
       "2                   Bar                  Café             Juice Bar   \n",
       "3      Sushi Restaurant        Ice Cream Shop            Hobby Shop   \n",
       "\n",
       "  9th Most Common Venue 10th Most Common Venue  \n",
       "0     Electronics Store    Empanada Restaurant  \n",
       "1   Japanese Restaurant                 Bakery  \n",
       "2          Burger Joint               Pharmacy  \n",
       "3            Smoke Shop             Restaurant  "
      ]
     },
     "execution_count": 284,
     "metadata": {},
     "output_type": "execute_result"
    }
   ],
   "source": [
    "grp_1 = Los_Angeles_merged.loc[Los_Angeles_merged['Cluster Labels'] == 0, \n",
    "                               Los_Angeles_merged.columns[[0, 1] + list(range(10,Los_Angeles_merged.shape[1]))]].reset_index(drop = True)\n",
    "print('Number of city:', len(grp_1))\n",
    "print('')\n",
    "print('Cities in first Cluster are: ',grp_1['Name'].values )\n",
    "print('')\n",
    "grp_1.head(12)"
   ]
  },
  {
   "cell_type": "markdown",
   "metadata": {},
   "source": [
    "#### Cluster 2"
   ]
  },
  {
   "cell_type": "code",
   "execution_count": 272,
   "metadata": {},
   "outputs": [
    {
     "name": "stdout",
     "output_type": "stream",
     "text": [
      "Number of city: 36\n",
      "\n",
      "Cities in first Cluster are:  ['Alhambra' 'Arcadia' 'Artesia' 'Avalon' 'Bellflower' 'Beverly Hills'\n",
      " 'Burbank' 'Calabasas' 'Carson' 'Claremont' 'Covina' 'Cudahy' 'El Monte'\n",
      " 'El Segundo' 'Hawthorne' 'Huntington Park' 'Irwindale' 'La Habra Heights'\n",
      " 'Lancaster' 'Long Beach' 'Lynwood' 'Monrovia' 'Montebello'\n",
      " 'Monterey Park' 'Palos Verdes Estates' 'Pomona' 'Rolling Hills Estates'\n",
      " 'Rosemead' 'San Marino' 'Santa Clarita' 'Sierra Madre' 'South El Monte'\n",
      " 'South Gate' 'South Pasadena' 'Temple City' 'Torrance']\n",
      "\n"
     ]
    },
    {
     "data": {
      "text/html": [
       "<div>\n",
       "<style scoped>\n",
       "    .dataframe tbody tr th:only-of-type {\n",
       "        vertical-align: middle;\n",
       "    }\n",
       "\n",
       "    .dataframe tbody tr th {\n",
       "        vertical-align: top;\n",
       "    }\n",
       "\n",
       "    .dataframe thead th {\n",
       "        text-align: right;\n",
       "    }\n",
       "</style>\n",
       "<table border=\"1\" class=\"dataframe\">\n",
       "  <thead>\n",
       "    <tr style=\"text-align: right;\">\n",
       "      <th></th>\n",
       "      <th>Name</th>\n",
       "      <th>Type</th>\n",
       "      <th>1st Most Common Venue</th>\n",
       "      <th>2nd Most Common Venue</th>\n",
       "      <th>3rd Most Common Venue</th>\n",
       "      <th>4th Most Common Venue</th>\n",
       "      <th>5th Most Common Venue</th>\n",
       "      <th>6th Most Common Venue</th>\n",
       "      <th>7th Most Common Venue</th>\n",
       "      <th>8th Most Common Venue</th>\n",
       "      <th>9th Most Common Venue</th>\n",
       "      <th>10th Most Common Venue</th>\n",
       "    </tr>\n",
       "  </thead>\n",
       "  <tbody>\n",
       "    <tr>\n",
       "      <th>0</th>\n",
       "      <td>Alhambra</td>\n",
       "      <td>City</td>\n",
       "      <td>Historic Site</td>\n",
       "      <td>Spanish Restaurant</td>\n",
       "      <td>Hotel</td>\n",
       "      <td>Plaza</td>\n",
       "      <td>Tapas Restaurant</td>\n",
       "      <td>Bar</td>\n",
       "      <td>Restaurant</td>\n",
       "      <td>Scenic Lookout</td>\n",
       "      <td>Garden</td>\n",
       "      <td>Museum</td>\n",
       "    </tr>\n",
       "    <tr>\n",
       "      <th>1</th>\n",
       "      <td>Arcadia</td>\n",
       "      <td>City</td>\n",
       "      <td>Racetrack</td>\n",
       "      <td>American Restaurant</td>\n",
       "      <td>Food Truck</td>\n",
       "      <td>Mexican Restaurant</td>\n",
       "      <td>Sandwich Place</td>\n",
       "      <td>Lingerie Store</td>\n",
       "      <td>Tea Room</td>\n",
       "      <td>Bakery</td>\n",
       "      <td>Bar</td>\n",
       "      <td>Baseball Field</td>\n",
       "    </tr>\n",
       "    <tr>\n",
       "      <th>2</th>\n",
       "      <td>Artesia</td>\n",
       "      <td>City</td>\n",
       "      <td>Indian Restaurant</td>\n",
       "      <td>Korean Restaurant</td>\n",
       "      <td>Chinese Restaurant</td>\n",
       "      <td>Sandwich Place</td>\n",
       "      <td>Fast Food Restaurant</td>\n",
       "      <td>Pizza Place</td>\n",
       "      <td>Grocery Store</td>\n",
       "      <td>Filipino Restaurant</td>\n",
       "      <td>Coffee Shop</td>\n",
       "      <td>Thai Restaurant</td>\n",
       "    </tr>\n",
       "    <tr>\n",
       "      <th>3</th>\n",
       "      <td>Avalon</td>\n",
       "      <td>City</td>\n",
       "      <td>Hotel</td>\n",
       "      <td>Flea Market</td>\n",
       "      <td>Supermarket</td>\n",
       "      <td>Tea Room</td>\n",
       "      <td>Other Repair Shop</td>\n",
       "      <td>Gastropub</td>\n",
       "      <td>Train Station</td>\n",
       "      <td>Diner</td>\n",
       "      <td>Café</td>\n",
       "      <td>Field</td>\n",
       "    </tr>\n",
       "    <tr>\n",
       "      <th>4</th>\n",
       "      <td>Bellflower</td>\n",
       "      <td>City</td>\n",
       "      <td>Pharmacy</td>\n",
       "      <td>Bank</td>\n",
       "      <td>BBQ Joint</td>\n",
       "      <td>Thai Restaurant</td>\n",
       "      <td>Mexican Restaurant</td>\n",
       "      <td>Fast Food Restaurant</td>\n",
       "      <td>Grocery Store</td>\n",
       "      <td>Business Service</td>\n",
       "      <td>Sushi Restaurant</td>\n",
       "      <td>Lounge</td>\n",
       "    </tr>\n",
       "  </tbody>\n",
       "</table>\n",
       "</div>"
      ],
      "text/plain": [
       "         Name  Type 1st Most Common Venue 2nd Most Common Venue  \\\n",
       "0    Alhambra  City         Historic Site    Spanish Restaurant   \n",
       "1     Arcadia  City             Racetrack   American Restaurant   \n",
       "2     Artesia  City     Indian Restaurant     Korean Restaurant   \n",
       "3      Avalon  City                 Hotel           Flea Market   \n",
       "4  Bellflower  City              Pharmacy                  Bank   \n",
       "\n",
       "  3rd Most Common Venue 4th Most Common Venue 5th Most Common Venue  \\\n",
       "0                 Hotel                 Plaza      Tapas Restaurant   \n",
       "1            Food Truck    Mexican Restaurant        Sandwich Place   \n",
       "2    Chinese Restaurant        Sandwich Place  Fast Food Restaurant   \n",
       "3           Supermarket              Tea Room     Other Repair Shop   \n",
       "4             BBQ Joint       Thai Restaurant    Mexican Restaurant   \n",
       "\n",
       "  6th Most Common Venue 7th Most Common Venue 8th Most Common Venue  \\\n",
       "0                   Bar            Restaurant        Scenic Lookout   \n",
       "1        Lingerie Store              Tea Room                Bakery   \n",
       "2           Pizza Place         Grocery Store   Filipino Restaurant   \n",
       "3             Gastropub         Train Station                 Diner   \n",
       "4  Fast Food Restaurant         Grocery Store      Business Service   \n",
       "\n",
       "  9th Most Common Venue 10th Most Common Venue  \n",
       "0                Garden                 Museum  \n",
       "1                   Bar         Baseball Field  \n",
       "2           Coffee Shop        Thai Restaurant  \n",
       "3                  Café                  Field  \n",
       "4      Sushi Restaurant                 Lounge  "
      ]
     },
     "execution_count": 272,
     "metadata": {},
     "output_type": "execute_result"
    }
   ],
   "source": [
    "grp_2 = Los_Angeles_merged.loc[Los_Angeles_merged['Cluster Labels'] == 1, \n",
    "                               Los_Angeles_merged.columns[[0, 1] + list(range(10,Los_Angeles_merged.shape[1]))]].reset_index(drop = True)\n",
    "print('Number of city:', len(grp_2))\n",
    "print('')\n",
    "print('Cities in first Cluster are: ',grp_2['Name'].values )\n",
    "print('')\n",
    "grp_2.head()"
   ]
  },
  {
   "cell_type": "markdown",
   "metadata": {},
   "source": [
    "#### Cluster 3"
   ]
  },
  {
   "cell_type": "code",
   "execution_count": 275,
   "metadata": {},
   "outputs": [
    {
     "name": "stdout",
     "output_type": "stream",
     "text": [
      "Number of city: 1\n",
      "\n",
      "Cities in first Cluster are:  ['Manhattan Beach']\n",
      "\n"
     ]
    },
    {
     "data": {
      "text/html": [
       "<div>\n",
       "<style scoped>\n",
       "    .dataframe tbody tr th:only-of-type {\n",
       "        vertical-align: middle;\n",
       "    }\n",
       "\n",
       "    .dataframe tbody tr th {\n",
       "        vertical-align: top;\n",
       "    }\n",
       "\n",
       "    .dataframe thead th {\n",
       "        text-align: right;\n",
       "    }\n",
       "</style>\n",
       "<table border=\"1\" class=\"dataframe\">\n",
       "  <thead>\n",
       "    <tr style=\"text-align: right;\">\n",
       "      <th></th>\n",
       "      <th>Name</th>\n",
       "      <th>Type</th>\n",
       "      <th>1st Most Common Venue</th>\n",
       "      <th>2nd Most Common Venue</th>\n",
       "      <th>3rd Most Common Venue</th>\n",
       "      <th>4th Most Common Venue</th>\n",
       "      <th>5th Most Common Venue</th>\n",
       "      <th>6th Most Common Venue</th>\n",
       "      <th>7th Most Common Venue</th>\n",
       "      <th>8th Most Common Venue</th>\n",
       "      <th>9th Most Common Venue</th>\n",
       "      <th>10th Most Common Venue</th>\n",
       "    </tr>\n",
       "  </thead>\n",
       "  <tbody>\n",
       "    <tr>\n",
       "      <th>0</th>\n",
       "      <td>Manhattan Beach</td>\n",
       "      <td>City</td>\n",
       "      <td>Restaurant</td>\n",
       "      <td>Coffee Shop</td>\n",
       "      <td>Hotel</td>\n",
       "      <td>American Restaurant</td>\n",
       "      <td>Bakery</td>\n",
       "      <td>Cosmetics Shop</td>\n",
       "      <td>Sports Bar</td>\n",
       "      <td>Pizza Place</td>\n",
       "      <td>Trail</td>\n",
       "      <td>Pharmacy</td>\n",
       "    </tr>\n",
       "  </tbody>\n",
       "</table>\n",
       "</div>"
      ],
      "text/plain": [
       "              Name  Type 1st Most Common Venue 2nd Most Common Venue  \\\n",
       "0  Manhattan Beach  City            Restaurant           Coffee Shop   \n",
       "\n",
       "  3rd Most Common Venue 4th Most Common Venue 5th Most Common Venue  \\\n",
       "0                 Hotel   American Restaurant                Bakery   \n",
       "\n",
       "  6th Most Common Venue 7th Most Common Venue 8th Most Common Venue  \\\n",
       "0        Cosmetics Shop            Sports Bar           Pizza Place   \n",
       "\n",
       "  9th Most Common Venue 10th Most Common Venue  \n",
       "0                 Trail               Pharmacy  "
      ]
     },
     "execution_count": 275,
     "metadata": {},
     "output_type": "execute_result"
    }
   ],
   "source": [
    "grp_3 = Los_Angeles_merged.loc[Los_Angeles_merged['Cluster Labels'] == 2, \n",
    "                               Los_Angeles_merged.columns[[0, 1] + list(range(10,Los_Angeles_merged.shape[1]))]].reset_index(drop = True)\n",
    "print('Number of city:', len(grp_3))\n",
    "print('')\n",
    "print('Cities in first Cluster are: ',grp_3['Name'].values )\n",
    "print('')\n",
    "grp_3.head()"
   ]
  },
  {
   "cell_type": "markdown",
   "metadata": {},
   "source": [
    "#### Cluster 4"
   ]
  },
  {
   "cell_type": "code",
   "execution_count": 276,
   "metadata": {},
   "outputs": [
    {
     "name": "stdout",
     "output_type": "stream",
     "text": [
      "Number of city: 32\n",
      "\n",
      "Cities in first Cluster are:  ['Azusa' 'Baldwin Park' 'Bell' 'Bell Gardens' 'Bradbury' 'Commerce'\n",
      " 'Compton' 'Culver City' 'Diamond Bar' 'Downey' 'Duarte' 'Glendale'\n",
      " 'Glendora' 'Hawaiian Gardens' 'Hidden Hills' 'Industry' 'Inglewood'\n",
      " 'La Mirada' 'La Puente' 'Lakewood' 'Lawndale' 'Lomita' 'Malibu' 'Maywood'\n",
      " 'Palmdale' 'Paramount' 'Pasadena' 'Rolling Hills' 'Santa Fe Springs'\n",
      " 'Santa Monica' 'Signal Hill' 'Walnut']\n",
      "\n"
     ]
    },
    {
     "data": {
      "text/html": [
       "<div>\n",
       "<style scoped>\n",
       "    .dataframe tbody tr th:only-of-type {\n",
       "        vertical-align: middle;\n",
       "    }\n",
       "\n",
       "    .dataframe tbody tr th {\n",
       "        vertical-align: top;\n",
       "    }\n",
       "\n",
       "    .dataframe thead th {\n",
       "        text-align: right;\n",
       "    }\n",
       "</style>\n",
       "<table border=\"1\" class=\"dataframe\">\n",
       "  <thead>\n",
       "    <tr style=\"text-align: right;\">\n",
       "      <th></th>\n",
       "      <th>Name</th>\n",
       "      <th>Type</th>\n",
       "      <th>1st Most Common Venue</th>\n",
       "      <th>2nd Most Common Venue</th>\n",
       "      <th>3rd Most Common Venue</th>\n",
       "      <th>4th Most Common Venue</th>\n",
       "      <th>5th Most Common Venue</th>\n",
       "      <th>6th Most Common Venue</th>\n",
       "      <th>7th Most Common Venue</th>\n",
       "      <th>8th Most Common Venue</th>\n",
       "      <th>9th Most Common Venue</th>\n",
       "      <th>10th Most Common Venue</th>\n",
       "    </tr>\n",
       "  </thead>\n",
       "  <tbody>\n",
       "    <tr>\n",
       "      <th>0</th>\n",
       "      <td>Azusa</td>\n",
       "      <td>City</td>\n",
       "      <td>Mexican Restaurant</td>\n",
       "      <td>Coffee Shop</td>\n",
       "      <td>Pizza Place</td>\n",
       "      <td>Café</td>\n",
       "      <td>Sandwich Place</td>\n",
       "      <td>Liquor Store</td>\n",
       "      <td>Convenience Store</td>\n",
       "      <td>Big Box Store</td>\n",
       "      <td>Sushi Restaurant</td>\n",
       "      <td>Burger Joint</td>\n",
       "    </tr>\n",
       "    <tr>\n",
       "      <th>1</th>\n",
       "      <td>Baldwin Park</td>\n",
       "      <td>City</td>\n",
       "      <td>Mexican Restaurant</td>\n",
       "      <td>Pizza Place</td>\n",
       "      <td>Discount Store</td>\n",
       "      <td>Ice Cream Shop</td>\n",
       "      <td>Burger Joint</td>\n",
       "      <td>Fast Food Restaurant</td>\n",
       "      <td>Convenience Store</td>\n",
       "      <td>Pharmacy</td>\n",
       "      <td>Park</td>\n",
       "      <td>Bank</td>\n",
       "    </tr>\n",
       "    <tr>\n",
       "      <th>2</th>\n",
       "      <td>Bell</td>\n",
       "      <td>City</td>\n",
       "      <td>Fast Food Restaurant</td>\n",
       "      <td>Boutique</td>\n",
       "      <td>American Restaurant</td>\n",
       "      <td>Bank</td>\n",
       "      <td>Department Store</td>\n",
       "      <td>Coffee Shop</td>\n",
       "      <td>Sandwich Place</td>\n",
       "      <td>Wine Shop</td>\n",
       "      <td>Event Service</td>\n",
       "      <td>Event Space</td>\n",
       "    </tr>\n",
       "    <tr>\n",
       "      <th>3</th>\n",
       "      <td>Bell Gardens</td>\n",
       "      <td>City</td>\n",
       "      <td>Mexican Restaurant</td>\n",
       "      <td>Liquor Store</td>\n",
       "      <td>Park</td>\n",
       "      <td>ATM</td>\n",
       "      <td>Convenience Store</td>\n",
       "      <td>Burger Joint</td>\n",
       "      <td>Fried Chicken Joint</td>\n",
       "      <td>Coffee Shop</td>\n",
       "      <td>Seafood Restaurant</td>\n",
       "      <td>Field</td>\n",
       "    </tr>\n",
       "    <tr>\n",
       "      <th>4</th>\n",
       "      <td>Bradbury</td>\n",
       "      <td>City</td>\n",
       "      <td>Mexican Restaurant</td>\n",
       "      <td>Pizza Place</td>\n",
       "      <td>Vietnamese Restaurant</td>\n",
       "      <td>Grocery Store</td>\n",
       "      <td>Mediterranean Restaurant</td>\n",
       "      <td>Fast Food Restaurant</td>\n",
       "      <td>Convenience Store</td>\n",
       "      <td>Donut Shop</td>\n",
       "      <td>Chinese Restaurant</td>\n",
       "      <td>Sushi Restaurant</td>\n",
       "    </tr>\n",
       "  </tbody>\n",
       "</table>\n",
       "</div>"
      ],
      "text/plain": [
       "           Name  Type 1st Most Common Venue 2nd Most Common Venue  \\\n",
       "0         Azusa  City    Mexican Restaurant           Coffee Shop   \n",
       "1  Baldwin Park  City    Mexican Restaurant           Pizza Place   \n",
       "2          Bell  City  Fast Food Restaurant              Boutique   \n",
       "3  Bell Gardens  City    Mexican Restaurant          Liquor Store   \n",
       "4      Bradbury  City    Mexican Restaurant           Pizza Place   \n",
       "\n",
       "   3rd Most Common Venue 4th Most Common Venue     5th Most Common Venue  \\\n",
       "0            Pizza Place                  Café            Sandwich Place   \n",
       "1         Discount Store        Ice Cream Shop              Burger Joint   \n",
       "2    American Restaurant                  Bank          Department Store   \n",
       "3                   Park                   ATM         Convenience Store   \n",
       "4  Vietnamese Restaurant         Grocery Store  Mediterranean Restaurant   \n",
       "\n",
       "  6th Most Common Venue 7th Most Common Venue 8th Most Common Venue  \\\n",
       "0          Liquor Store     Convenience Store         Big Box Store   \n",
       "1  Fast Food Restaurant     Convenience Store              Pharmacy   \n",
       "2           Coffee Shop        Sandwich Place             Wine Shop   \n",
       "3          Burger Joint   Fried Chicken Joint           Coffee Shop   \n",
       "4  Fast Food Restaurant     Convenience Store            Donut Shop   \n",
       "\n",
       "  9th Most Common Venue 10th Most Common Venue  \n",
       "0      Sushi Restaurant           Burger Joint  \n",
       "1                  Park                   Bank  \n",
       "2         Event Service            Event Space  \n",
       "3    Seafood Restaurant                  Field  \n",
       "4    Chinese Restaurant       Sushi Restaurant  "
      ]
     },
     "execution_count": 276,
     "metadata": {},
     "output_type": "execute_result"
    }
   ],
   "source": [
    "grp_4 = Los_Angeles_merged.loc[Los_Angeles_merged['Cluster Labels'] == 3, \n",
    "                               Los_Angeles_merged.columns[[0, 1] + list(range(10,Los_Angeles_merged.shape[1]))]].reset_index(drop = True)\n",
    "print('Number of city:', len(grp_4))\n",
    "print('')\n",
    "print('Cities in first Cluster are: ',grp_4['Name'].values )\n",
    "print('')\n",
    "grp_4.head()"
   ]
  },
  {
   "cell_type": "markdown",
   "metadata": {},
   "source": [
    "#### Cluster 5"
   ]
  },
  {
   "cell_type": "code",
   "execution_count": 277,
   "metadata": {},
   "outputs": [
    {
     "name": "stdout",
     "output_type": "stream",
     "text": [
      "Number of city: 5\n",
      "\n",
      "Cities in first Cluster are:  ['Gardena' 'Hermosa Beach' 'Norwalk' 'Pico Rivera' 'Rancho Palos Verdes']\n",
      "\n"
     ]
    },
    {
     "data": {
      "text/html": [
       "<div>\n",
       "<style scoped>\n",
       "    .dataframe tbody tr th:only-of-type {\n",
       "        vertical-align: middle;\n",
       "    }\n",
       "\n",
       "    .dataframe tbody tr th {\n",
       "        vertical-align: top;\n",
       "    }\n",
       "\n",
       "    .dataframe thead th {\n",
       "        text-align: right;\n",
       "    }\n",
       "</style>\n",
       "<table border=\"1\" class=\"dataframe\">\n",
       "  <thead>\n",
       "    <tr style=\"text-align: right;\">\n",
       "      <th></th>\n",
       "      <th>Name</th>\n",
       "      <th>Type</th>\n",
       "      <th>1st Most Common Venue</th>\n",
       "      <th>2nd Most Common Venue</th>\n",
       "      <th>3rd Most Common Venue</th>\n",
       "      <th>4th Most Common Venue</th>\n",
       "      <th>5th Most Common Venue</th>\n",
       "      <th>6th Most Common Venue</th>\n",
       "      <th>7th Most Common Venue</th>\n",
       "      <th>8th Most Common Venue</th>\n",
       "      <th>9th Most Common Venue</th>\n",
       "      <th>10th Most Common Venue</th>\n",
       "    </tr>\n",
       "  </thead>\n",
       "  <tbody>\n",
       "    <tr>\n",
       "      <th>0</th>\n",
       "      <td>Gardena</td>\n",
       "      <td>City</td>\n",
       "      <td>Japanese Restaurant</td>\n",
       "      <td>Korean Restaurant</td>\n",
       "      <td>Sushi Restaurant</td>\n",
       "      <td>Ramen Restaurant</td>\n",
       "      <td>Dessert Shop</td>\n",
       "      <td>Vietnamese Restaurant</td>\n",
       "      <td>Ice Cream Shop</td>\n",
       "      <td>Asian Restaurant</td>\n",
       "      <td>Noodle House</td>\n",
       "      <td>Bakery</td>\n",
       "    </tr>\n",
       "    <tr>\n",
       "      <th>1</th>\n",
       "      <td>Hermosa Beach</td>\n",
       "      <td>City</td>\n",
       "      <td>Sushi Restaurant</td>\n",
       "      <td>Beach</td>\n",
       "      <td>Mexican Restaurant</td>\n",
       "      <td>Pizza Place</td>\n",
       "      <td>Coffee Shop</td>\n",
       "      <td>American Restaurant</td>\n",
       "      <td>Italian Restaurant</td>\n",
       "      <td>Hotel</td>\n",
       "      <td>Board Shop</td>\n",
       "      <td>Park</td>\n",
       "    </tr>\n",
       "    <tr>\n",
       "      <th>2</th>\n",
       "      <td>Norwalk</td>\n",
       "      <td>City</td>\n",
       "      <td>BBQ Joint</td>\n",
       "      <td>Pizza Place</td>\n",
       "      <td>Mobile Phone Shop</td>\n",
       "      <td>Fast Food Restaurant</td>\n",
       "      <td>Pharmacy</td>\n",
       "      <td>Park</td>\n",
       "      <td>Italian Restaurant</td>\n",
       "      <td>Tapas Restaurant</td>\n",
       "      <td>Latin American Restaurant</td>\n",
       "      <td>Hotel</td>\n",
       "    </tr>\n",
       "    <tr>\n",
       "      <th>3</th>\n",
       "      <td>Pico Rivera</td>\n",
       "      <td>City</td>\n",
       "      <td>Fast Food Restaurant</td>\n",
       "      <td>Mexican Restaurant</td>\n",
       "      <td>Mobile Phone Shop</td>\n",
       "      <td>Cosmetics Shop</td>\n",
       "      <td>Convenience Store</td>\n",
       "      <td>Pharmacy</td>\n",
       "      <td>Steakhouse</td>\n",
       "      <td>Discount Store</td>\n",
       "      <td>Sandwich Place</td>\n",
       "      <td>Shoe Store</td>\n",
       "    </tr>\n",
       "    <tr>\n",
       "      <th>4</th>\n",
       "      <td>Rancho Palos Verdes</td>\n",
       "      <td>City</td>\n",
       "      <td>Trail</td>\n",
       "      <td>Other Great Outdoors</td>\n",
       "      <td>Beach</td>\n",
       "      <td>Gift Shop</td>\n",
       "      <td>Home Service</td>\n",
       "      <td>Nature Preserve</td>\n",
       "      <td>Scenic Lookout</td>\n",
       "      <td>Electronics Store</td>\n",
       "      <td>Empanada Restaurant</td>\n",
       "      <td>Event Service</td>\n",
       "    </tr>\n",
       "  </tbody>\n",
       "</table>\n",
       "</div>"
      ],
      "text/plain": [
       "                  Name  Type 1st Most Common Venue 2nd Most Common Venue  \\\n",
       "0              Gardena  City   Japanese Restaurant     Korean Restaurant   \n",
       "1        Hermosa Beach  City      Sushi Restaurant                 Beach   \n",
       "2              Norwalk  City             BBQ Joint           Pizza Place   \n",
       "3          Pico Rivera  City  Fast Food Restaurant    Mexican Restaurant   \n",
       "4  Rancho Palos Verdes  City                 Trail  Other Great Outdoors   \n",
       "\n",
       "  3rd Most Common Venue 4th Most Common Venue 5th Most Common Venue  \\\n",
       "0      Sushi Restaurant      Ramen Restaurant          Dessert Shop   \n",
       "1    Mexican Restaurant           Pizza Place           Coffee Shop   \n",
       "2     Mobile Phone Shop  Fast Food Restaurant              Pharmacy   \n",
       "3     Mobile Phone Shop        Cosmetics Shop     Convenience Store   \n",
       "4                 Beach             Gift Shop          Home Service   \n",
       "\n",
       "   6th Most Common Venue 7th Most Common Venue 8th Most Common Venue  \\\n",
       "0  Vietnamese Restaurant        Ice Cream Shop      Asian Restaurant   \n",
       "1    American Restaurant    Italian Restaurant                 Hotel   \n",
       "2                   Park    Italian Restaurant      Tapas Restaurant   \n",
       "3               Pharmacy            Steakhouse        Discount Store   \n",
       "4        Nature Preserve        Scenic Lookout     Electronics Store   \n",
       "\n",
       "       9th Most Common Venue 10th Most Common Venue  \n",
       "0               Noodle House                 Bakery  \n",
       "1                 Board Shop                   Park  \n",
       "2  Latin American Restaurant                  Hotel  \n",
       "3             Sandwich Place             Shoe Store  \n",
       "4        Empanada Restaurant          Event Service  "
      ]
     },
     "execution_count": 277,
     "metadata": {},
     "output_type": "execute_result"
    }
   ],
   "source": [
    "grp_5 = Los_Angeles_merged.loc[Los_Angeles_merged['Cluster Labels'] == 4, \n",
    "                               Los_Angeles_merged.columns[[0, 1] + list(range(10,Los_Angeles_merged.shape[1]))]].reset_index(drop = True)\n",
    "print('Number of city:', len(grp_5))\n",
    "print('')\n",
    "print('Cities in first Cluster are: ',grp_5['Name'].values )\n",
    "print('')\n",
    "grp_5.head()"
   ]
  },
  {
   "cell_type": "markdown",
   "metadata": {},
   "source": [
    "#### Find the frequency of the most common venue category for each of the five cluster groups"
   ]
  },
  {
   "cell_type": "code",
   "execution_count": 294,
   "metadata": {},
   "outputs": [
    {
     "name": "stdout",
     "output_type": "stream",
     "text": [
      "The frequency each venue category for Group 1: \n"
     ]
    },
    {
     "data": {
      "text/plain": [
       "Hotel                  3\n",
       "American Restaurant    3\n",
       "Mexican Restaurant     3\n",
       "Sandwich Place         2\n",
       "dtype: int64"
      ]
     },
     "execution_count": 294,
     "metadata": {},
     "output_type": "execute_result"
    }
   ],
   "source": [
    "grp_1_most_10 = pd.concat([grp_1['1st Most Common Venue'], \n",
    "                          grp_1['2nd Most Common Venue'], \n",
    "                          grp_1['3rd Most Common Venue'],\n",
    "                          grp_1['4th Most Common Venue'],\n",
    "                          grp_1['5th Most Common Venue'],\n",
    "                          grp_1['6th Most Common Venue'],\n",
    "                          grp_1['7th Most Common Venue'],\n",
    "                          grp_1['8th Most Common Venue'],\n",
    "                          grp_1['9th Most Common Venue'],\n",
    "                          grp_1['10th Most Common Venue']], \n",
    "                         join = 'outer', axis = 0)\n",
    "print('The frequency each venue category for Group 1: ')\n",
    "grp_1_most_10.value_counts()[:4]"
   ]
  },
  {
   "cell_type": "code",
   "execution_count": 243,
   "metadata": {},
   "outputs": [
    {
     "name": "stdout",
     "output_type": "stream",
     "text": [
      "The frequency each venue category for Group 2: \n"
     ]
    },
    {
     "data": {
      "text/plain": [
       "Fast Food Restaurant    17\n",
       "Mexican Restaurant      17\n",
       "Pizza Place             16\n",
       "Park                    13\n",
       "dtype: int64"
      ]
     },
     "execution_count": 243,
     "metadata": {},
     "output_type": "execute_result"
    }
   ],
   "source": [
    "grp_2_most_10 = pd.concat([grp_2['1st Most Common Venue'], \n",
    "                          grp_2['2nd Most Common Venue'], \n",
    "                          grp_2['3rd Most Common Venue'],\n",
    "                          grp_2['4th Most Common Venue'],\n",
    "                          grp_2['5th Most Common Venue'],\n",
    "                          grp_2['6th Most Common Venue'],\n",
    "                          grp_2['7th Most Common Venue'],\n",
    "                          grp_2['8th Most Common Venue'],\n",
    "                          grp_2['9th Most Common Venue'],\n",
    "                          grp_2['10th Most Common Venue']], \n",
    "                         join = 'outer', axis = 0)\n",
    "print('The frequency each venue category for Group 2: ')\n",
    "grp_2_most_10.value_counts()[:4]"
   ]
  },
  {
   "cell_type": "code",
   "execution_count": 244,
   "metadata": {},
   "outputs": [
    {
     "name": "stdout",
     "output_type": "stream",
     "text": [
      "The frequency each venue category for Group 3: \n"
     ]
    },
    {
     "data": {
      "text/plain": [
       "Bakery                 1\n",
       "Cosmetics Shop         1\n",
       "Sports Bar             1\n",
       "Hotel                  1\n",
       "Pharmacy               1\n",
       "Restaurant             1\n",
       "Coffee Shop            1\n",
       "Pizza Place            1\n",
       "Trail                  1\n",
       "American Restaurant    1\n",
       "dtype: int64"
      ]
     },
     "execution_count": 244,
     "metadata": {},
     "output_type": "execute_result"
    }
   ],
   "source": [
    "grp_3_most_10 = pd.concat([grp_3['1st Most Common Venue'], \n",
    "                          grp_3['2nd Most Common Venue'], \n",
    "                          grp_3['3rd Most Common Venue'],\n",
    "                          grp_3['4th Most Common Venue'],\n",
    "                          grp_3['5th Most Common Venue'],\n",
    "                          grp_3['6th Most Common Venue'],\n",
    "                          grp_3['7th Most Common Venue'],\n",
    "                          grp_3['8th Most Common Venue'],\n",
    "                          grp_3['9th Most Common Venue'],\n",
    "                          grp_3['10th Most Common Venue']], \n",
    "                         join = 'outer', axis = 0)\n",
    "print('The frequency each venue category for Group 3: ')\n",
    "grp_3_most_10.value_counts()[:]"
   ]
  },
  {
   "cell_type": "code",
   "execution_count": 245,
   "metadata": {},
   "outputs": [
    {
     "name": "stdout",
     "output_type": "stream",
     "text": [
      "The frequency each venue category for Group 4: \n"
     ]
    },
    {
     "data": {
      "text/plain": [
       "Fast Food Restaurant    22\n",
       "Mexican Restaurant      17\n",
       "Coffee Shop             16\n",
       "Pizza Place             12\n",
       "Sandwich Place          10\n",
       "dtype: int64"
      ]
     },
     "execution_count": 245,
     "metadata": {},
     "output_type": "execute_result"
    }
   ],
   "source": [
    "grp_4_most_10 = pd.concat([grp_4['1st Most Common Venue'], \n",
    "                          grp_4['2nd Most Common Venue'], \n",
    "                          grp_4['3rd Most Common Venue'],\n",
    "                          grp_4['4th Most Common Venue'],\n",
    "                          grp_4['5th Most Common Venue'],\n",
    "                          grp_4['6th Most Common Venue'],\n",
    "                          grp_4['7th Most Common Venue'],\n",
    "                          grp_4['8th Most Common Venue'],\n",
    "                          grp_4['9th Most Common Venue'],\n",
    "                          grp_4['10th Most Common Venue']], \n",
    "                         join = 'outer', axis = 0)\n",
    "print('The frequency each venue category for Group 4: ')\n",
    "grp_4_most_10.value_counts()[:5]"
   ]
  },
  {
   "cell_type": "code",
   "execution_count": 246,
   "metadata": {},
   "outputs": [
    {
     "name": "stdout",
     "output_type": "stream",
     "text": [
      "The frequency each venue category for Group 5: \n"
     ]
    },
    {
     "data": {
      "text/plain": [
       "Hotel                2\n",
       "Beach                2\n",
       "Sushi Restaurant     2\n",
       "Park                 2\n",
       "Mobile Phone Shop    2\n",
       "dtype: int64"
      ]
     },
     "execution_count": 246,
     "metadata": {},
     "output_type": "execute_result"
    }
   ],
   "source": [
    "grp_5_most_10 = pd.concat([grp_5['1st Most Common Venue'], \n",
    "                          grp_5['2nd Most Common Venue'], \n",
    "                          grp_5['3rd Most Common Venue'],\n",
    "                          grp_5['4th Most Common Venue'],\n",
    "                          grp_5['5th Most Common Venue'],\n",
    "                          grp_5['6th Most Common Venue'],\n",
    "                          grp_5['7th Most Common Venue'],\n",
    "                          grp_5['8th Most Common Venue'],\n",
    "                          grp_5['9th Most Common Venue'],\n",
    "                          grp_5['10th Most Common Venue']], \n",
    "                         join = 'outer', axis = 0)\n",
    "print('The frequency each venue category for Group 5: ')\n",
    "grp_5_most_10.value_counts()[:5]"
   ]
  },
  {
   "cell_type": "code",
   "execution_count": 296,
   "metadata": {},
   "outputs": [
    {
     "data": {
      "text/html": [
       "<div>\n",
       "<style scoped>\n",
       "    .dataframe tbody tr th:only-of-type {\n",
       "        vertical-align: middle;\n",
       "    }\n",
       "\n",
       "    .dataframe tbody tr th {\n",
       "        vertical-align: top;\n",
       "    }\n",
       "\n",
       "    .dataframe thead th {\n",
       "        text-align: right;\n",
       "    }\n",
       "</style>\n",
       "<table border=\"1\" class=\"dataframe\">\n",
       "  <thead>\n",
       "    <tr style=\"text-align: right;\">\n",
       "      <th></th>\n",
       "      <th>Groups</th>\n",
       "      <th>Most Common Venue</th>\n",
       "      <th>Total Number of Cities</th>\n",
       "      <th>Frequency</th>\n",
       "    </tr>\n",
       "  </thead>\n",
       "  <tbody>\n",
       "    <tr>\n",
       "      <th>0</th>\n",
       "      <td>grp_1</td>\n",
       "      <td>Hotel/Mexican Restaurant/American Restaruant</td>\n",
       "      <td>4</td>\n",
       "      <td>3</td>\n",
       "    </tr>\n",
       "    <tr>\n",
       "      <th>1</th>\n",
       "      <td>grp_2</td>\n",
       "      <td>Fast Food Restaurant/Mexican Restaurant</td>\n",
       "      <td>36</td>\n",
       "      <td>17</td>\n",
       "    </tr>\n",
       "    <tr>\n",
       "      <th>2</th>\n",
       "      <td>grp_3</td>\n",
       "      <td>7-Eleven</td>\n",
       "      <td>1</td>\n",
       "      <td>1</td>\n",
       "    </tr>\n",
       "    <tr>\n",
       "      <th>3</th>\n",
       "      <td>grp_4</td>\n",
       "      <td>Fast Food Restaurant</td>\n",
       "      <td>32</td>\n",
       "      <td>22</td>\n",
       "    </tr>\n",
       "    <tr>\n",
       "      <th>4</th>\n",
       "      <td>grp_5</td>\n",
       "      <td>Hotel/Beach/Sushi/Park/Mobile Phone Shop</td>\n",
       "      <td>5</td>\n",
       "      <td>2</td>\n",
       "    </tr>\n",
       "  </tbody>\n",
       "</table>\n",
       "</div>"
      ],
      "text/plain": [
       "  Groups                             Most Common Venue  \\\n",
       "0  grp_1  Hotel/Mexican Restaurant/American Restaruant   \n",
       "1  grp_2       Fast Food Restaurant/Mexican Restaurant   \n",
       "2  grp_3                                      7-Eleven   \n",
       "3  grp_4                          Fast Food Restaurant   \n",
       "4  grp_5      Hotel/Beach/Sushi/Park/Mobile Phone Shop   \n",
       "\n",
       "   Total Number of Cities  Frequency  \n",
       "0                       4          3  \n",
       "1                      36         17  \n",
       "2                       1          1  \n",
       "3                      32         22  \n",
       "4                       5          2  "
      ]
     },
     "execution_count": 296,
     "metadata": {},
     "output_type": "execute_result"
    }
   ],
   "source": [
    "grp_most_common = pd.DataFrame({'Groups': ['grp_1', 'grp_2', 'grp_3', 'grp_4', 'grp_5'],\n",
    "                               'Most Common Venue': [\"Hotel/Mexican Restaurant/American Restaruant\", \n",
    "                                                     'Fast Food Restaurant/Mexican Restaurant', \n",
    "                                                     '7-Eleven', \n",
    "                                                     'Fast Food Restaurant', \n",
    "                                                     'Hotel/Beach/Sushi/Park/Mobile Phone Shop'],\n",
    "                                'Total Number of Cities': [4, 36, 1, 32, 5],\n",
    "                               'Frequency': [3, 17, 1, 22, 2],})\n",
    "grp_most_common"
   ]
  },
  {
   "cell_type": "markdown",
   "metadata": {},
   "source": [
    "## 6. Conclusions & Recommendation"
   ]
  },
  {
   "cell_type": "markdown",
   "metadata": {},
   "source": [
    "### Conclusion 1:"
   ]
  },
  {
   "cell_type": "markdown",
   "metadata": {},
   "source": [
    "From the output above, there are a lot of 88 cities in Los Angeles clustered into five groups based on the characteristics of each group. The numbers of cities for each group are **4**, **36**, **1**, **32**, and **5**, respectively.\n",
    "\n",
    "Within 1000 meters for each of the 88 cities, a limit of 300 venues are explores, a total of 3779 venues are recurred. Among the 3779 venues, there are 2897 unique venues belonging to 319 uniques venues categories. The venues categories include **'Hotel'**, **'Summer Camp'**, **'Hotel Bar'**, **'Park'**, **'Gym'**, '**American Restaurant'**,\n",
    " **'Historic Site'**, **'Monument / Landmark'**, **'Garden'**, and **'Palace'**, etc."
   ]
  },
  {
   "cell_type": "markdown",
   "metadata": {},
   "source": [
    "### Conclusion 2:"
   ]
  },
  {
   "cell_type": "markdown",
   "metadata": {},
   "source": [
    "From the discussion above, the most common venue category for each of the five groups varied a lot, may indicating some of people's living habits in the particular neighborhood. For example, the most common venues categories for group 2 are Fast Food Restaruant and Mexican Restaurant, indicating that people there are living a quite fast-speed life, and Mexicans could occupy a big portion there. Thus, if you want to start a business related to Mexicans, or your business would help improve people's live qulity who are living a fast-speed life, you may concisder the cities in group 1, 2, or 4. \n",
    "\n",
    "Moreover, if you want to start a business related to entertainment, such as fishing, diving, pleasure, it could be better to choose your cities belong to group 5. \n",
    "\n",
    "On the contrary, if you want to start a Chinese Restaurant, it would not be a good choice to start your business in these cities. At least, you need more to do more research focusing on the population of Chinese people there. "
   ]
  },
  {
   "cell_type": "markdown",
   "metadata": {},
   "source": [
    "### Recommendation:\n",
    "\n",
    "This project provides a rough guide about where to start a business. The data analytics for other key performance indicators (KPIs) are needed before starting your business. \n",
    "\n",
    "However, once your determine to start a business, it is recommended to make the start-up lean at first, set the goal on the sand. In this case, you'll not go too far into the bubble you've created, and you won't come out until you hit the wall. At the same time, this lean analytics will help you quantify your innovation, getting you closer and closer to continuous reality check, and build your own business model."
   ]
  },
  {
   "cell_type": "code",
   "execution_count": 292,
   "metadata": {},
   "outputs": [],
   "source": [
    "url_Nash ='https://en.wikipedia.org/wiki/Nash_equilibrium'"
   ]
  },
  {
   "cell_type": "code",
   "execution_count": null,
   "metadata": {},
   "outputs": [],
   "source": []
  }
 ],
 "metadata": {
  "kernelspec": {
   "display_name": "Python 3",
   "language": "python",
   "name": "python3"
  },
  "language_info": {
   "codemirror_mode": {
    "name": "ipython",
    "version": 3
   },
   "file_extension": ".py",
   "mimetype": "text/x-python",
   "name": "python",
   "nbconvert_exporter": "python",
   "pygments_lexer": "ipython3",
   "version": "3.6.7"
  }
 },
 "nbformat": 4,
 "nbformat_minor": 2
}
