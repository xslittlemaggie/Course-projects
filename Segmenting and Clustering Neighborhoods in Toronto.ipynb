{
 "cells": [
  {
   "cell_type": "markdown",
   "metadata": {},
   "source": [
    "# Segmenting and Clustering Neighborhoods in Toronto with API & Map"
   ]
  },
  {
   "cell_type": "markdown",
   "metadata": {},
   "source": [
    "## Introduction\n",
    "\n",
    "In this project, I will demonstrate how to convert addresses into their equivalent latitudes and longitudes. Also, I will use the **Foursquare API** to explore neighborhoods in Toronto, and use the **explore** function to get the most common venue categories in each neighborhood, and then I will use the **k-means** clustering algorithm to group the neighborhoods into clusters based on this feature. Finally, I will use the **Folium** library to visualize the neighborhoods in Toronto and their emerging clusters."
   ]
  },
  {
   "cell_type": "markdown",
   "metadata": {},
   "source": [
    "## Table of Contents\n",
    "\n",
    "<div class=\"alert alert-block alert-info\" style=\"margin-top: 20px\">\n",
    "\n",
    "<font size = 3>\n",
    "\n",
    "1. <a href=\"#item1\">Import Dataset</a>\n",
    "\n",
    "2. <a href=\"#item2\">Explore Neighborhoods in Old City of Toronto</a>\n",
    "\n",
    "3. <a href=\"#item3\">Analyze Venue Categories in each Neighborhood</a>\n",
    "\n",
    "4. <a href=\"#item4\">Cluster Neighborhoods</a>\n",
    "\n",
    "5. <a href=\"#item5\">Examine Each of the Five Clusters</a>    \n",
    "</font>\n",
    "</div>"
   ]
  },
  {
   "cell_type": "markdown",
   "metadata": {},
   "source": [
    "Import libraries that are used in this project"
   ]
  },
  {
   "cell_type": "code",
   "execution_count": 1,
   "metadata": {},
   "outputs": [],
   "source": [
    "import pandas as pd # library for data analsysis\n",
    "import numpy as np # library to handle data in a vectorized manner\n",
    "\n",
    "from geopy.geocoders import Nominatim # convert an address into latitude and longitude values\n",
    "\n",
    "import requests # library to handle requests\n",
    "from pandas.io.json import json_normalize # tranform JSON file into a pandas dataframe\n",
    "\n",
    "from sklearn.cluster import KMeans  # import k-means from clustering stage\n",
    "\n",
    "import matplotlib.cm as cm   # Matplotlib and associated plotting modules\n",
    "import matplotlib.colors as colors\n",
    "from matplotlib import pyplot as plt\n",
    "\n",
    "import folium # map rendering library"
   ]
  },
  {
   "cell_type": "markdown",
   "metadata": {},
   "source": [
    "## 1. Import Dataset: Get all the neighborhood names of Toronto from wikipedia"
   ]
  },
  {
   "cell_type": "code",
   "execution_count": 2,
   "metadata": {},
   "outputs": [],
   "source": [
    "# wikipedia for Toronto neighbourhoods\n",
    "Toronto_url = 'https://en.wikipedia.org/wiki/Demographics_of_Toronto_neighbourhoods'"
   ]
  },
  {
   "cell_type": "code",
   "execution_count": 2,
   "metadata": {},
   "outputs": [
    {
     "data": {
      "text/html": [
       "<div>\n",
       "<style scoped>\n",
       "    .dataframe tbody tr th:only-of-type {\n",
       "        vertical-align: middle;\n",
       "    }\n",
       "\n",
       "    .dataframe tbody tr th {\n",
       "        vertical-align: top;\n",
       "    }\n",
       "\n",
       "    .dataframe thead th {\n",
       "        text-align: right;\n",
       "    }\n",
       "</style>\n",
       "<table border=\"1\" class=\"dataframe\">\n",
       "  <thead>\n",
       "    <tr style=\"text-align: right;\">\n",
       "      <th></th>\n",
       "      <th>Name</th>\n",
       "      <th>FM</th>\n",
       "      <th>Census Tracts</th>\n",
       "      <th>Population</th>\n",
       "      <th>Land area (km2)</th>\n",
       "      <th>Density (people/km2)</th>\n",
       "      <th>% Change in Population since 2001</th>\n",
       "      <th>Average Income</th>\n",
       "      <th>Transit Commuting %</th>\n",
       "      <th>% Renters</th>\n",
       "      <th>Second most common language (after English) by name</th>\n",
       "      <th>Second most common language (after English) by percentage</th>\n",
       "      <th>Map</th>\n",
       "    </tr>\n",
       "  </thead>\n",
       "  <tbody>\n",
       "    <tr>\n",
       "      <th>0</th>\n",
       "      <td>Port Lands</td>\n",
       "      <td>OCoT</td>\n",
       "      <td>0001.00</td>\n",
       "      <td>571</td>\n",
       "      <td>6.10</td>\n",
       "      <td>94</td>\n",
       "      <td>-9.0</td>\n",
       "      <td>36,243</td>\n",
       "      <td>14.9</td>\n",
       "      <td>10.5</td>\n",
       "      <td>Mandarin (3.5%)</td>\n",
       "      <td>03.5% Mandarin</td>\n",
       "      <td>Port Lands map.PNG</td>\n",
       "    </tr>\n",
       "    <tr>\n",
       "      <th>1</th>\n",
       "      <td>Toronto Islands</td>\n",
       "      <td>OCoT</td>\n",
       "      <td>0002.00</td>\n",
       "      <td>627</td>\n",
       "      <td>3.17</td>\n",
       "      <td>198</td>\n",
       "      <td>-5.0</td>\n",
       "      <td>43,344</td>\n",
       "      <td>18.3</td>\n",
       "      <td>5.6</td>\n",
       "      <td>None (0%)</td>\n",
       "      <td>0% any</td>\n",
       "      <td>NaN</td>\n",
       "    </tr>\n",
       "    <tr>\n",
       "      <th>2</th>\n",
       "      <td>Parkdale</td>\n",
       "      <td>OCoT</td>\n",
       "      <td>0004.00, 0005.00, 0007.01, 0007.02, 0047.01, 0...</td>\n",
       "      <td>28,367</td>\n",
       "      <td>2.03</td>\n",
       "      <td>13,974</td>\n",
       "      <td>-8.0</td>\n",
       "      <td>26,314</td>\n",
       "      <td>22.2</td>\n",
       "      <td>39.0</td>\n",
       "      <td>Polish (2.9%)</td>\n",
       "      <td>02.9% Polish</td>\n",
       "      <td>Parkdale Toronto map.png</td>\n",
       "    </tr>\n",
       "    <tr>\n",
       "      <th>3</th>\n",
       "      <td>Fort York/Liberty Village</td>\n",
       "      <td>OCoT</td>\n",
       "      <td>0008.00</td>\n",
       "      <td>3,821</td>\n",
       "      <td>2.13</td>\n",
       "      <td>1794</td>\n",
       "      <td>126.0</td>\n",
       "      <td>46,086</td>\n",
       "      <td>22.8</td>\n",
       "      <td>27.9</td>\n",
       "      <td>Hindi (1.7%)</td>\n",
       "      <td>01.7% Hindi</td>\n",
       "      <td>Fort York map.png</td>\n",
       "    </tr>\n",
       "    <tr>\n",
       "      <th>4</th>\n",
       "      <td>Niagara</td>\n",
       "      <td>OCoT</td>\n",
       "      <td>0010.02</td>\n",
       "      <td>6,524</td>\n",
       "      <td>0.55</td>\n",
       "      <td>11,862</td>\n",
       "      <td>-4.0</td>\n",
       "      <td>44,611</td>\n",
       "      <td>21.2</td>\n",
       "      <td>21.4</td>\n",
       "      <td>Portuguese (4.0%)</td>\n",
       "      <td>04.0% Portuguese</td>\n",
       "      <td>Niagara map.PNG</td>\n",
       "    </tr>\n",
       "  </tbody>\n",
       "</table>\n",
       "</div>"
      ],
      "text/plain": [
       "                        Name    FM  \\\n",
       "0                 Port Lands  OCoT   \n",
       "1            Toronto Islands  OCoT   \n",
       "2                   Parkdale  OCoT   \n",
       "3  Fort York/Liberty Village  OCoT   \n",
       "4                    Niagara  OCoT   \n",
       "\n",
       "                                       Census Tracts Population  \\\n",
       "0                                            0001.00        571   \n",
       "1                                            0002.00        627   \n",
       "2  0004.00, 0005.00, 0007.01, 0007.02, 0047.01, 0...     28,367   \n",
       "3                                            0008.00      3,821   \n",
       "4                                            0010.02      6,524   \n",
       "\n",
       "   Land area (km2) Density (people/km2)  % Change in Population since 2001  \\\n",
       "0             6.10                   94                               -9.0   \n",
       "1             3.17                  198                               -5.0   \n",
       "2             2.03               13,974                               -8.0   \n",
       "3             2.13                 1794                              126.0   \n",
       "4             0.55               11,862                               -4.0   \n",
       "\n",
       "  Average Income  Transit Commuting %  % Renters  \\\n",
       "0         36,243                 14.9       10.5   \n",
       "1         43,344                 18.3        5.6   \n",
       "2         26,314                 22.2       39.0   \n",
       "3         46,086                 22.8       27.9   \n",
       "4         44,611                 21.2       21.4   \n",
       "\n",
       "  Second most common language (after English) by name  \\\n",
       "0                                    Mandarin (3.5%)    \n",
       "1                                          None (0%)    \n",
       "2                                      Polish (2.9%)    \n",
       "3                                       Hindi (1.7%)    \n",
       "4                                  Portuguese (4.0%)    \n",
       "\n",
       "  Second most common language (after English) by percentage  \\\n",
       "0                                     03.5% Mandarin          \n",
       "1                                             0% any          \n",
       "2                                       02.9% Polish          \n",
       "3                                        01.7% Hindi          \n",
       "4                                   04.0% Portuguese          \n",
       "\n",
       "                        Map  \n",
       "0        Port Lands map.PNG  \n",
       "1                       NaN  \n",
       "2  Parkdale Toronto map.png  \n",
       "3         Fort York map.png  \n",
       "4           Niagara map.PNG  "
      ]
     },
     "execution_count": 2,
     "metadata": {},
     "output_type": "execute_result"
    }
   ],
   "source": [
    "Toronto = pd.read_clipboard()\n",
    "Toronto.head()"
   ]
  },
  {
   "cell_type": "markdown",
   "metadata": {},
   "source": [
    "For this part, I am only interested in all the neighborhood names of Toronto ('Name') and the former municipality values ('FM'). Thus, I will only keep these two features, 'Name' and 'FM'."
   ]
  },
  {
   "cell_type": "code",
   "execution_count": 3,
   "metadata": {},
   "outputs": [
    {
     "data": {
      "text/html": [
       "<div>\n",
       "<style scoped>\n",
       "    .dataframe tbody tr th:only-of-type {\n",
       "        vertical-align: middle;\n",
       "    }\n",
       "\n",
       "    .dataframe tbody tr th {\n",
       "        vertical-align: top;\n",
       "    }\n",
       "\n",
       "    .dataframe thead th {\n",
       "        text-align: right;\n",
       "    }\n",
       "</style>\n",
       "<table border=\"1\" class=\"dataframe\">\n",
       "  <thead>\n",
       "    <tr style=\"text-align: right;\">\n",
       "      <th></th>\n",
       "      <th>Name</th>\n",
       "      <th>FM</th>\n",
       "    </tr>\n",
       "  </thead>\n",
       "  <tbody>\n",
       "    <tr>\n",
       "      <th>0</th>\n",
       "      <td>Port Lands</td>\n",
       "      <td>OCoT</td>\n",
       "    </tr>\n",
       "    <tr>\n",
       "      <th>1</th>\n",
       "      <td>Toronto Islands</td>\n",
       "      <td>OCoT</td>\n",
       "    </tr>\n",
       "    <tr>\n",
       "      <th>2</th>\n",
       "      <td>Parkdale</td>\n",
       "      <td>OCoT</td>\n",
       "    </tr>\n",
       "    <tr>\n",
       "      <th>3</th>\n",
       "      <td>Fort York/Liberty Village</td>\n",
       "      <td>OCoT</td>\n",
       "    </tr>\n",
       "    <tr>\n",
       "      <th>4</th>\n",
       "      <td>Niagara</td>\n",
       "      <td>OCoT</td>\n",
       "    </tr>\n",
       "  </tbody>\n",
       "</table>\n",
       "</div>"
      ],
      "text/plain": [
       "                        Name    FM\n",
       "0                 Port Lands  OCoT\n",
       "1            Toronto Islands  OCoT\n",
       "2                   Parkdale  OCoT\n",
       "3  Fort York/Liberty Village  OCoT\n",
       "4                    Niagara  OCoT"
      ]
     },
     "execution_count": 3,
     "metadata": {},
     "output_type": "execute_result"
    }
   ],
   "source": [
    "Toronto_df = Toronto[['Name', 'FM']]\n",
    "Toronto_df.head()"
   ]
  },
  {
   "cell_type": "code",
   "execution_count": 4,
   "metadata": {},
   "outputs": [
    {
     "data": {
      "text/plain": [
       "array(['OCoT', 'Y', 'EY', 'E', 'NY', 'S'], dtype=object)"
      ]
     },
     "execution_count": 4,
     "metadata": {},
     "output_type": "execute_result"
    }
   ],
   "source": [
    "Toronto_df['FM'].unique()"
   ]
  },
  {
   "cell_type": "markdown",
   "metadata": {},
   "source": [
    "To make the data more readable, I add a new feature 'Full_FM' to include the full name for the forer municipality ('FM') values below:\n",
    "- **E : Etobicoke**\n",
    "- **S : Scarborough**\n",
    "- **Y : York**\n",
    "- **EY : East York**\n",
    "- **NY : North York**\n",
    "- **OCoT : Old City of Toronto**"
   ]
  },
  {
   "cell_type": "code",
   "execution_count": 20,
   "metadata": {},
   "outputs": [],
   "source": [
    "# add a new variable 'Full_FM', and assign values above\n",
    "Full_FM = Toronto_df['Full_FM'].replace({'Y':'York', \n",
    "                                                       'EY':'East York', \n",
    "                                                       'E':'Etobicoke', \n",
    "                                                       'NY':'North York', \n",
    "                                                       'S':'Scarborough', \n",
    "                                                       'OCoT':'Old City of Toronto'})\n",
    "Toronto_df.loc[:, 'Full_FM'] = Full_FM"
   ]
  },
  {
   "cell_type": "code",
   "execution_count": 21,
   "metadata": {},
   "outputs": [
    {
     "data": {
      "text/html": [
       "<div>\n",
       "<style scoped>\n",
       "    .dataframe tbody tr th:only-of-type {\n",
       "        vertical-align: middle;\n",
       "    }\n",
       "\n",
       "    .dataframe tbody tr th {\n",
       "        vertical-align: top;\n",
       "    }\n",
       "\n",
       "    .dataframe thead th {\n",
       "        text-align: right;\n",
       "    }\n",
       "</style>\n",
       "<table border=\"1\" class=\"dataframe\">\n",
       "  <thead>\n",
       "    <tr style=\"text-align: right;\">\n",
       "      <th></th>\n",
       "      <th>Name</th>\n",
       "      <th>FM</th>\n",
       "      <th>Full_FM</th>\n",
       "    </tr>\n",
       "  </thead>\n",
       "  <tbody>\n",
       "    <tr>\n",
       "      <th>0</th>\n",
       "      <td>Port Lands</td>\n",
       "      <td>OCoT</td>\n",
       "      <td>Old City of Toronto</td>\n",
       "    </tr>\n",
       "    <tr>\n",
       "      <th>1</th>\n",
       "      <td>Toronto Islands</td>\n",
       "      <td>OCoT</td>\n",
       "      <td>Old City of Toronto</td>\n",
       "    </tr>\n",
       "    <tr>\n",
       "      <th>2</th>\n",
       "      <td>Parkdale</td>\n",
       "      <td>OCoT</td>\n",
       "      <td>Old City of Toronto</td>\n",
       "    </tr>\n",
       "    <tr>\n",
       "      <th>3</th>\n",
       "      <td>Fort York/Liberty Village</td>\n",
       "      <td>OCoT</td>\n",
       "      <td>Old City of Toronto</td>\n",
       "    </tr>\n",
       "    <tr>\n",
       "      <th>4</th>\n",
       "      <td>Niagara</td>\n",
       "      <td>OCoT</td>\n",
       "      <td>Old City of Toronto</td>\n",
       "    </tr>\n",
       "  </tbody>\n",
       "</table>\n",
       "</div>"
      ],
      "text/plain": [
       "                        Name    FM              Full_FM\n",
       "0                 Port Lands  OCoT  Old City of Toronto\n",
       "1            Toronto Islands  OCoT  Old City of Toronto\n",
       "2                   Parkdale  OCoT  Old City of Toronto\n",
       "3  Fort York/Liberty Village  OCoT  Old City of Toronto\n",
       "4                    Niagara  OCoT  Old City of Toronto"
      ]
     },
     "execution_count": 21,
     "metadata": {},
     "output_type": "execute_result"
    }
   ],
   "source": [
    "Toronto_df.head()"
   ]
  },
  {
   "cell_type": "markdown",
   "metadata": {},
   "source": [
    "#### Use geopy library to get the latitude and longitude for each of the neighborhood in Toronto."
   ]
  },
  {
   "cell_type": "code",
   "execution_count": 22,
   "metadata": {},
   "outputs": [],
   "source": [
    "Latitude = []\n",
    "Longitude = []\n",
    "for address in Toronto_df['Name']:\n",
    "    geolocator = Nominatim(user_agent = 'specify_your_app_name_here')\n",
    "    try:   \n",
    "        location = geolocator.geocode(address)\n",
    "        latitude = location.latitude\n",
    "        longitude = location.longitude\n",
    "    except:\n",
    "        location = np.nan   # assign lat, lng with NaN if the data are not avaialbel\n",
    "        latitude = np.nan\n",
    "        longitude = np.nan\n",
    "    #print('The geographical coordinate of', address, 'are {}, {}.'.format(latitude, longitude)) \n",
    "    Latitude.append(latitude)\n",
    "    Longitude.append(longitude)\n",
    "#print(Latitude)\n",
    "#print(Longitude)"
   ]
  },
  {
   "cell_type": "markdown",
   "metadata": {},
   "source": [
    "Now, I already got the latitude and longitude values for each of the neighborhood in Toronto. Next, I will add this two features to the dataset Toronto_df. "
   ]
  },
  {
   "cell_type": "code",
   "execution_count": 32,
   "metadata": {},
   "outputs": [],
   "source": [
    "Toronto_df.loc[:, 'Latitude'] = Latitude\n",
    "Toronto_df.loc[:, 'Longitude'] = Longitude"
   ]
  },
  {
   "cell_type": "code",
   "execution_count": 38,
   "metadata": {},
   "outputs": [
    {
     "data": {
      "text/html": [
       "<div>\n",
       "<style scoped>\n",
       "    .dataframe tbody tr th:only-of-type {\n",
       "        vertical-align: middle;\n",
       "    }\n",
       "\n",
       "    .dataframe tbody tr th {\n",
       "        vertical-align: top;\n",
       "    }\n",
       "\n",
       "    .dataframe thead th {\n",
       "        text-align: right;\n",
       "    }\n",
       "</style>\n",
       "<table border=\"1\" class=\"dataframe\">\n",
       "  <thead>\n",
       "    <tr style=\"text-align: right;\">\n",
       "      <th></th>\n",
       "      <th>Name</th>\n",
       "      <th>FM</th>\n",
       "      <th>Full_FM</th>\n",
       "      <th>Latitude</th>\n",
       "      <th>Longitude</th>\n",
       "    </tr>\n",
       "  </thead>\n",
       "  <tbody>\n",
       "    <tr>\n",
       "      <th>0</th>\n",
       "      <td>Port Lands</td>\n",
       "      <td>OCoT</td>\n",
       "      <td>Old City of Toronto</td>\n",
       "      <td>43.643065</td>\n",
       "      <td>-79.350601</td>\n",
       "    </tr>\n",
       "    <tr>\n",
       "      <th>1</th>\n",
       "      <td>Toronto Islands</td>\n",
       "      <td>OCoT</td>\n",
       "      <td>Old City of Toronto</td>\n",
       "      <td>43.616196</td>\n",
       "      <td>-79.369358</td>\n",
       "    </tr>\n",
       "    <tr>\n",
       "      <th>2</th>\n",
       "      <td>Parkdale</td>\n",
       "      <td>OCoT</td>\n",
       "      <td>Old City of Toronto</td>\n",
       "      <td>43.637178</td>\n",
       "      <td>-79.436004</td>\n",
       "    </tr>\n",
       "    <tr>\n",
       "      <th>3</th>\n",
       "      <td>Fort York/Liberty Village</td>\n",
       "      <td>OCoT</td>\n",
       "      <td>Old City of Toronto</td>\n",
       "      <td>NaN</td>\n",
       "      <td>NaN</td>\n",
       "    </tr>\n",
       "    <tr>\n",
       "      <th>4</th>\n",
       "      <td>Niagara</td>\n",
       "      <td>OCoT</td>\n",
       "      <td>Old City of Toronto</td>\n",
       "      <td>43.063189</td>\n",
       "      <td>-79.309809</td>\n",
       "    </tr>\n",
       "  </tbody>\n",
       "</table>\n",
       "</div>"
      ],
      "text/plain": [
       "                        Name    FM              Full_FM   Latitude  Longitude\n",
       "0                 Port Lands  OCoT  Old City of Toronto  43.643065 -79.350601\n",
       "1            Toronto Islands  OCoT  Old City of Toronto  43.616196 -79.369358\n",
       "2                   Parkdale  OCoT  Old City of Toronto  43.637178 -79.436004\n",
       "3  Fort York/Liberty Village  OCoT  Old City of Toronto        NaN        NaN\n",
       "4                    Niagara  OCoT  Old City of Toronto  43.063189 -79.309809"
      ]
     },
     "execution_count": 38,
     "metadata": {},
     "output_type": "execute_result"
    }
   ],
   "source": [
    "Toronto_df.head()"
   ]
  },
  {
   "cell_type": "code",
   "execution_count": 39,
   "metadata": {},
   "outputs": [
    {
     "data": {
      "text/plain": [
       "Name         0\n",
       "FM           0\n",
       "Full_FM      0\n",
       "Latitude     9\n",
       "Longitude    9\n",
       "dtype: int64"
      ]
     },
     "execution_count": 39,
     "metadata": {},
     "output_type": "execute_result"
    }
   ],
   "source": [
    "# check missing values\n",
    "Toronto_df.isnull().sum()"
   ]
  },
  {
   "cell_type": "markdown",
   "metadata": {},
   "source": [
    "There exists some missing values (NaN). I will remove all the rows with missing values with the function below .  "
   ]
  },
  {
   "cell_type": "code",
   "execution_count": 40,
   "metadata": {},
   "outputs": [
    {
     "data": {
      "text/html": [
       "<div>\n",
       "<style scoped>\n",
       "    .dataframe tbody tr th:only-of-type {\n",
       "        vertical-align: middle;\n",
       "    }\n",
       "\n",
       "    .dataframe tbody tr th {\n",
       "        vertical-align: top;\n",
       "    }\n",
       "\n",
       "    .dataframe thead th {\n",
       "        text-align: right;\n",
       "    }\n",
       "</style>\n",
       "<table border=\"1\" class=\"dataframe\">\n",
       "  <thead>\n",
       "    <tr style=\"text-align: right;\">\n",
       "      <th></th>\n",
       "      <th>Name</th>\n",
       "      <th>FM</th>\n",
       "      <th>Full_FM</th>\n",
       "      <th>Latitude</th>\n",
       "      <th>Longitude</th>\n",
       "    </tr>\n",
       "  </thead>\n",
       "  <tbody>\n",
       "    <tr>\n",
       "      <th>0</th>\n",
       "      <td>Port Lands</td>\n",
       "      <td>OCoT</td>\n",
       "      <td>Old City of Toronto</td>\n",
       "      <td>43.643065</td>\n",
       "      <td>-79.350601</td>\n",
       "    </tr>\n",
       "    <tr>\n",
       "      <th>1</th>\n",
       "      <td>Toronto Islands</td>\n",
       "      <td>OCoT</td>\n",
       "      <td>Old City of Toronto</td>\n",
       "      <td>43.616196</td>\n",
       "      <td>-79.369358</td>\n",
       "    </tr>\n",
       "    <tr>\n",
       "      <th>2</th>\n",
       "      <td>Parkdale</td>\n",
       "      <td>OCoT</td>\n",
       "      <td>Old City of Toronto</td>\n",
       "      <td>43.637178</td>\n",
       "      <td>-79.436004</td>\n",
       "    </tr>\n",
       "    <tr>\n",
       "      <th>4</th>\n",
       "      <td>Niagara</td>\n",
       "      <td>OCoT</td>\n",
       "      <td>Old City of Toronto</td>\n",
       "      <td>43.063189</td>\n",
       "      <td>-79.309809</td>\n",
       "    </tr>\n",
       "    <tr>\n",
       "      <th>5</th>\n",
       "      <td>Fashion District</td>\n",
       "      <td>OCoT</td>\n",
       "      <td>Old City of Toronto</td>\n",
       "      <td>43.645456</td>\n",
       "      <td>-79.394994</td>\n",
       "    </tr>\n",
       "  </tbody>\n",
       "</table>\n",
       "</div>"
      ],
      "text/plain": [
       "               Name    FM              Full_FM   Latitude  Longitude\n",
       "0        Port Lands  OCoT  Old City of Toronto  43.643065 -79.350601\n",
       "1   Toronto Islands  OCoT  Old City of Toronto  43.616196 -79.369358\n",
       "2          Parkdale  OCoT  Old City of Toronto  43.637178 -79.436004\n",
       "4           Niagara  OCoT  Old City of Toronto  43.063189 -79.309809\n",
       "5  Fashion District  OCoT  Old City of Toronto  43.645456 -79.394994"
      ]
     },
     "execution_count": 40,
     "metadata": {},
     "output_type": "execute_result"
    }
   ],
   "source": [
    "Toronto_df = Toronto_df.dropna()  # dropna() drop all rows that have any NaN values\n",
    "Toronto_df.head()"
   ]
  },
  {
   "cell_type": "markdown",
   "metadata": {},
   "source": [
    "Check the dataset to see whether the neighborhoods with missing values are removed. "
   ]
  },
  {
   "cell_type": "markdown",
   "metadata": {},
   "source": [
    "#### Create a map of Toronto with neighborhoods superimposed on top."
   ]
  },
  {
   "cell_type": "code",
   "execution_count": 41,
   "metadata": {},
   "outputs": [
    {
     "data": {
      "text/html": [
       "<div style=\"width:100%;\"><div style=\"position:relative;width:100%;height:0;padding-bottom:60%;\"><iframe src=\"data:text/html;charset=utf-8;base64,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\" style=\"position:absolute;width:100%;height:100%;left:0;top:0;border:none !important;\" allowfullscreen webkitallowfullscreen mozallowfullscreen></iframe></div></div>"
      ],
      "text/plain": [
       "<folium.folium.Map at 0x1a0e1b5a20>"
      ]
     },
     "execution_count": 41,
     "metadata": {},
     "output_type": "execute_result"
    }
   ],
   "source": [
    "# create map of New York using latitude and longitude values\n",
    "map_Toronto = folium.Map(location=[latitude, longitude], zoom_start=10)\n",
    "\n",
    "# add markers to map\n",
    "for lat, lng, FM, Name in zip(Toronto_df['Latitude'], Toronto_df['Longitude'], Toronto_df['Full_FM'], Toronto_df['Name']):\n",
    "    label = '{}, {}'.format(Name, FM)\n",
    "    label = folium.Popup(label, parse_html=True)\n",
    "    folium.CircleMarker(\n",
    "        [lat, lng],\n",
    "        radius=5,\n",
    "        popup=label,\n",
    "        color='blue',\n",
    "        fill=True,\n",
    "        fill_color='#3186cc',\n",
    "        fill_opacity=0.7,\n",
    "        parse_html=False).add_to(map_Toronto)  \n",
    "    \n",
    "map_Toronto"
   ]
  },
  {
   "cell_type": "markdown",
   "metadata": {},
   "source": [
    "**Folium** is a great visualization library. It's available to zoom into the above map, and click on each circle mark to reveal the name of the neighborhood and its FM."
   ]
  },
  {
   "cell_type": "markdown",
   "metadata": {},
   "source": [
    "## 2. Explore Neighborhoods in Old City of Toronto (OCoT)\n",
    "\n",
    "This analysis is composed of two parts:\n",
    "- **Part 1**: Explore the first neighborhood in the dataframe the Old City of Toronto (OCoT).\n",
    "- **Part 2**: Explore all neighborhoods in the Old City of Toronto (OCoT).\n",
    "\n",
    "##### At the first part, I will provide the details step by step of how to get the venues in the first neighborhood. At the second part, I will write a function to repeate the process for each of the neighborhood, and analyze the venues of all neighborhoods in Old City of Toronto. "
   ]
  },
  {
   "cell_type": "markdown",
   "metadata": {},
   "source": [
    "Now, I will simplify the above map and segment, and cluster only the neighborhoods in Old City of Toronto. So I will slice the original dataframe and create a new dataframe of the Old City of Toronto."
   ]
  },
  {
   "cell_type": "code",
   "execution_count": 42,
   "metadata": {},
   "outputs": [
    {
     "data": {
      "text/plain": [
       "array(['Old City of Toronto', 'York', 'East York', 'Etobicoke',\n",
       "       'North York', 'Scarborough'], dtype=object)"
      ]
     },
     "execution_count": 42,
     "metadata": {},
     "output_type": "execute_result"
    }
   ],
   "source": [
    "Toronto_df['Full_FM'].unique()"
   ]
  },
  {
   "cell_type": "code",
   "execution_count": 43,
   "metadata": {},
   "outputs": [
    {
     "data": {
      "text/html": [
       "<div>\n",
       "<style scoped>\n",
       "    .dataframe tbody tr th:only-of-type {\n",
       "        vertical-align: middle;\n",
       "    }\n",
       "\n",
       "    .dataframe tbody tr th {\n",
       "        vertical-align: top;\n",
       "    }\n",
       "\n",
       "    .dataframe thead th {\n",
       "        text-align: right;\n",
       "    }\n",
       "</style>\n",
       "<table border=\"1\" class=\"dataframe\">\n",
       "  <thead>\n",
       "    <tr style=\"text-align: right;\">\n",
       "      <th></th>\n",
       "      <th>Name</th>\n",
       "      <th>FM</th>\n",
       "      <th>Full_FM</th>\n",
       "      <th>Latitude</th>\n",
       "      <th>Longitude</th>\n",
       "    </tr>\n",
       "  </thead>\n",
       "  <tbody>\n",
       "    <tr>\n",
       "      <th>0</th>\n",
       "      <td>Port Lands</td>\n",
       "      <td>OCoT</td>\n",
       "      <td>Old City of Toronto</td>\n",
       "      <td>43.643065</td>\n",
       "      <td>-79.350601</td>\n",
       "    </tr>\n",
       "    <tr>\n",
       "      <th>1</th>\n",
       "      <td>Toronto Islands</td>\n",
       "      <td>OCoT</td>\n",
       "      <td>Old City of Toronto</td>\n",
       "      <td>43.616196</td>\n",
       "      <td>-79.369358</td>\n",
       "    </tr>\n",
       "    <tr>\n",
       "      <th>2</th>\n",
       "      <td>Parkdale</td>\n",
       "      <td>OCoT</td>\n",
       "      <td>Old City of Toronto</td>\n",
       "      <td>43.637178</td>\n",
       "      <td>-79.436004</td>\n",
       "    </tr>\n",
       "    <tr>\n",
       "      <th>3</th>\n",
       "      <td>Niagara</td>\n",
       "      <td>OCoT</td>\n",
       "      <td>Old City of Toronto</td>\n",
       "      <td>43.063189</td>\n",
       "      <td>-79.309809</td>\n",
       "    </tr>\n",
       "    <tr>\n",
       "      <th>4</th>\n",
       "      <td>Fashion District</td>\n",
       "      <td>OCoT</td>\n",
       "      <td>Old City of Toronto</td>\n",
       "      <td>43.645456</td>\n",
       "      <td>-79.394994</td>\n",
       "    </tr>\n",
       "  </tbody>\n",
       "</table>\n",
       "</div>"
      ],
      "text/plain": [
       "               Name    FM              Full_FM   Latitude  Longitude\n",
       "0        Port Lands  OCoT  Old City of Toronto  43.643065 -79.350601\n",
       "1   Toronto Islands  OCoT  Old City of Toronto  43.616196 -79.369358\n",
       "2          Parkdale  OCoT  Old City of Toronto  43.637178 -79.436004\n",
       "3           Niagara  OCoT  Old City of Toronto  43.063189 -79.309809\n",
       "4  Fashion District  OCoT  Old City of Toronto  43.645456 -79.394994"
      ]
     },
     "execution_count": 43,
     "metadata": {},
     "output_type": "execute_result"
    }
   ],
   "source": [
    "OCoT_df = Toronto_df[Toronto_df['FM'] == 'OCoT'].reset_index(drop= True)\n",
    "OCoT_df.head()"
   ]
  },
  {
   "cell_type": "code",
   "execution_count": 22,
   "metadata": {},
   "outputs": [
    {
     "data": {
      "text/html": [
       "<div style=\"width:100%;\"><div style=\"position:relative;width:100%;height:0;padding-bottom:60%;\"><iframe src=\"data:text/html;charset=utf-8;base64,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\" style=\"position:absolute;width:100%;height:100%;left:0;top:0;border:none !important;\" allowfullscreen webkitallowfullscreen mozallowfullscreen></iframe></div></div>"
      ],
      "text/plain": [
       "<folium.folium.Map at 0x1a176cdf98>"
      ]
     },
     "execution_count": 22,
     "metadata": {},
     "output_type": "execute_result"
    }
   ],
   "source": [
    "# create map of Old City of Toronto\n",
    "map_OCoT = folium.Map(location=[latitude, longitude], zoom_start=10)\n",
    "\n",
    "# add markers to map\n",
    "for lat, lng, FM, Name in zip(OCoT_df['Latitude'], OCoT_df['Longitude'], OCoT_df['Full_FM'], OCoT_df['Name']):\n",
    "    label = '{}, {}'.format(Name, FM)\n",
    "    label = folium.Popup(label, parse_html=True)\n",
    "    folium.CircleMarker(\n",
    "        [lat, lng],\n",
    "        radius=5,\n",
    "        popup=label,\n",
    "        color='blue',\n",
    "        fill=True,\n",
    "        fill_color='#3186cc',\n",
    "        fill_opacity=0.7,\n",
    "        parse_html=False).add_to(map_OCoT)  \n",
    "    \n",
    "map_OCoT"
   ]
  },
  {
   "cell_type": "markdown",
   "metadata": {},
   "source": [
    "Next, I am going to utilize **Foursquare API** to explore the venues of neighborhoods in Old City of Toronton, and segment them."
   ]
  },
  {
   "cell_type": "markdown",
   "metadata": {},
   "source": [
    "#### Define Foursquare Credentials and Version"
   ]
  },
  {
   "cell_type": "code",
   "execution_count": 44,
   "metadata": {},
   "outputs": [
    {
     "name": "stdout",
     "output_type": "stream",
     "text": [
      "My credentails:\n",
      "CLIENT_ID: 20YHTHRNXTTGMZBL2VPZTY0II3WY0Q4UD3BQC2RAWFQSYROE\n",
      "CLIENT_SECRET:RP5YFHFIGAV4XXIKPJRQ1SHLHDAXE1WUKRNIE3UFXFGCDWAO\n"
     ]
    }
   ],
   "source": [
    "CLIENT_ID = '20YHTHRNXTTGMZBL2VPZTY0II3WY0Q4UD3BQC2RAWFQSYROE' # my Foursquare ID\n",
    "CLIENT_SECRET = 'RP5YFHFIGAV4XXIKPJRQ1SHLHDAXE1WUKRNIE3UFXFGCDWAO' # my Foursquare Secret\n",
    "\n",
    "VERSION = '20190103' # Foursquare API version\n",
    "\n",
    "print('My credentails:')\n",
    "print('CLIENT_ID: ' + CLIENT_ID)\n",
    "print('CLIENT_SECRET:' + CLIENT_SECRET)"
   ]
  },
  {
   "cell_type": "markdown",
   "metadata": {},
   "source": [
    "### Part 1: Explore the first neighborhood in the Old City of Toronto (OCoT)"
   ]
  },
  {
   "cell_type": "markdown",
   "metadata": {},
   "source": [
    "Get the first neighborhood's name"
   ]
  },
  {
   "cell_type": "code",
   "execution_count": 45,
   "metadata": {},
   "outputs": [
    {
     "data": {
      "text/plain": [
       "'Port Lands'"
      ]
     },
     "execution_count": 45,
     "metadata": {},
     "output_type": "execute_result"
    }
   ],
   "source": [
    "OCoT_df.loc[0, 'Name'] # get the information of the first row, column = 'Name'"
   ]
  },
  {
   "cell_type": "markdown",
   "metadata": {},
   "source": [
    "Get the neighborhood's latitudes and longitudes"
   ]
  },
  {
   "cell_type": "code",
   "execution_count": 46,
   "metadata": {},
   "outputs": [
    {
     "name": "stdout",
     "output_type": "stream",
     "text": [
      "The latitude and longitude of Port Lands are 43.6430648, -79.3506012.\n"
     ]
    }
   ],
   "source": [
    "neighborhood_latitude = OCoT_df.loc[0, 'Latitude'] # neighborhood latitude value\n",
    "neighborhood_longitude = OCoT_df.loc[0, 'Longitude'] # neighborhood longitude value\n",
    "\n",
    "neighborhood_name = OCoT_df.loc[0, 'Name'] # neighborhood name\n",
    "\n",
    "print('The latitude and longitude of {} are {}, {}.'.format(neighborhood_name, \n",
    "                                                               neighborhood_latitude, \n",
    "                                                               neighborhood_longitude))"
   ]
  },
  {
   "cell_type": "markdown",
   "metadata": {},
   "source": [
    "#### Extract the top 100 venues that are in this neighborhood within a radius of 500 meters."
   ]
  },
  {
   "cell_type": "markdown",
   "metadata": {},
   "source": [
    "##### **Step 1**: Get the url for the Foursqurae API"
   ]
  },
  {
   "cell_type": "code",
   "execution_count": 47,
   "metadata": {},
   "outputs": [
    {
     "data": {
      "text/plain": [
       "'https://api.foursquare.com/v2/venues/explore?&client_id=20YHTHRNXTTGMZBL2VPZTY0II3WY0Q4UD3BQC2RAWFQSYROE&client_secret=RP5YFHFIGAV4XXIKPJRQ1SHLHDAXE1WUKRNIE3UFXFGCDWAO&v=20190103&ll=43.6430648,-79.3506012&radius=500&limit=100'"
      ]
     },
     "execution_count": 47,
     "metadata": {},
     "output_type": "execute_result"
    }
   ],
   "source": [
    "LIMIT = 100 # limit of number of venues returned by Foursquare API\n",
    "radius = 500 # define radius in meters\n",
    "url = 'https://api.foursquare.com/v2/venues/explore?&client_id={}&client_secret={}&v={}&ll={},{}&radius={}&limit={}'.format(\n",
    "    CLIENT_ID, \n",
    "    CLIENT_SECRET, \n",
    "    VERSION, \n",
    "    neighborhood_latitude, \n",
    "    neighborhood_longitude, \n",
    "    radius, \n",
    "    LIMIT)\n",
    "url"
   ]
  },
  {
   "cell_type": "markdown",
   "metadata": {},
   "source": [
    "##### **Step 2**: Send the GET request and extract the information step by step"
   ]
  },
  {
   "cell_type": "markdown",
   "metadata": {},
   "source": [
    "**a.** get the overal results"
   ]
  },
  {
   "cell_type": "code",
   "execution_count": 51,
   "metadata": {},
   "outputs": [
    {
     "data": {
      "text/plain": [
       "dict_keys(['meta', 'response'])"
      ]
     },
     "execution_count": 51,
     "metadata": {},
     "output_type": "execute_result"
    }
   ],
   "source": [
    "result = requests.get(url).json()\n",
    "result.keys()"
   ]
  },
  {
   "cell_type": "markdown",
   "metadata": {},
   "source": [
    "I can also check what we get from the result. Since it is too long, I won't print it here now."
   ]
  },
  {
   "cell_type": "code",
   "execution_count": 57,
   "metadata": {},
   "outputs": [],
   "source": [
    "# result"
   ]
  },
  {
   "cell_type": "markdown",
   "metadata": {},
   "source": [
    "**b.** get the venues from the **key: response**"
   ]
  },
  {
   "cell_type": "code",
   "execution_count": 56,
   "metadata": {},
   "outputs": [],
   "source": [
    "# display the informaiton for the first two venues\n",
    "venues = result['response']['groups'][0]['items']"
   ]
  },
  {
   "cell_type": "markdown",
   "metadata": {},
   "source": [
    "**c.** flatten JSON and structure it into a **pandas** dataframe."
   ]
  },
  {
   "cell_type": "code",
   "execution_count": 31,
   "metadata": {},
   "outputs": [
    {
     "data": {
      "text/html": [
       "<div>\n",
       "<style scoped>\n",
       "    .dataframe tbody tr th:only-of-type {\n",
       "        vertical-align: middle;\n",
       "    }\n",
       "\n",
       "    .dataframe tbody tr th {\n",
       "        vertical-align: top;\n",
       "    }\n",
       "\n",
       "    .dataframe thead th {\n",
       "        text-align: right;\n",
       "    }\n",
       "</style>\n",
       "<table border=\"1\" class=\"dataframe\">\n",
       "  <thead>\n",
       "    <tr style=\"text-align: right;\">\n",
       "      <th></th>\n",
       "      <th>reasons.count</th>\n",
       "      <th>reasons.items</th>\n",
       "      <th>referralId</th>\n",
       "      <th>venue.categories</th>\n",
       "      <th>venue.id</th>\n",
       "      <th>venue.location.address</th>\n",
       "      <th>venue.location.cc</th>\n",
       "      <th>venue.location.city</th>\n",
       "      <th>venue.location.country</th>\n",
       "      <th>venue.location.crossStreet</th>\n",
       "      <th>...</th>\n",
       "      <th>venue.location.labeledLatLngs</th>\n",
       "      <th>venue.location.lat</th>\n",
       "      <th>venue.location.lng</th>\n",
       "      <th>venue.location.neighborhood</th>\n",
       "      <th>venue.location.postalCode</th>\n",
       "      <th>venue.location.state</th>\n",
       "      <th>venue.name</th>\n",
       "      <th>venue.photos.count</th>\n",
       "      <th>venue.photos.groups</th>\n",
       "      <th>venue.venuePage.id</th>\n",
       "    </tr>\n",
       "  </thead>\n",
       "  <tbody>\n",
       "    <tr>\n",
       "      <th>0</th>\n",
       "      <td>0</td>\n",
       "      <td>[{'summary': 'This spot is popular', 'type': '...</td>\n",
       "      <td>e-0-57954f2e498e85cfbae8070e-0</td>\n",
       "      <td>[{'id': '52e81612bcbc57f1066b79e7', 'name': 'C...</td>\n",
       "      <td>57954f2e498e85cfbae8070e</td>\n",
       "      <td>51 Commissioners Street</td>\n",
       "      <td>CA</td>\n",
       "      <td>Toronto</td>\n",
       "      <td>Canada</td>\n",
       "      <td>Cherry Street</td>\n",
       "      <td>...</td>\n",
       "      <td>[{'label': 'display', 'lat': 43.64479076063794...</td>\n",
       "      <td>43.644791</td>\n",
       "      <td>-79.351000</td>\n",
       "      <td>Port Lands</td>\n",
       "      <td>NaN</td>\n",
       "      <td>ON</td>\n",
       "      <td>Cirque du Soleil - LUZIA</td>\n",
       "      <td>0</td>\n",
       "      <td>[]</td>\n",
       "      <td>NaN</td>\n",
       "    </tr>\n",
       "    <tr>\n",
       "      <th>1</th>\n",
       "      <td>0</td>\n",
       "      <td>[{'summary': 'This spot is popular', 'type': '...</td>\n",
       "      <td>e-0-4ad8f18ef964a520401621e3-1</td>\n",
       "      <td>[{'id': '52f2ab2ebcbc57f1066b8b46', 'name': 'S...</td>\n",
       "      <td>4ad8f18ef964a520401621e3</td>\n",
       "      <td>222 Cherry St.</td>\n",
       "      <td>CA</td>\n",
       "      <td>Toronto</td>\n",
       "      <td>Canada</td>\n",
       "      <td>btwn Commissioners St. &amp; Polson St.</td>\n",
       "      <td>...</td>\n",
       "      <td>[{'label': 'display', 'lat': 43.64349082636327...</td>\n",
       "      <td>43.643491</td>\n",
       "      <td>-79.351526</td>\n",
       "      <td>NaN</td>\n",
       "      <td>M5A 3L2</td>\n",
       "      <td>ON</td>\n",
       "      <td>T&amp;T Supermarket 大統華超級市場</td>\n",
       "      <td>0</td>\n",
       "      <td>[]</td>\n",
       "      <td>NaN</td>\n",
       "    </tr>\n",
       "    <tr>\n",
       "      <th>2</th>\n",
       "      <td>0</td>\n",
       "      <td>[{'summary': 'This spot is popular', 'type': '...</td>\n",
       "      <td>e-0-52adedf011d24be20f5c4a8f-2</td>\n",
       "      <td>[{'id': '4f4528bc4b90abdf24c9de85', 'name': 'A...</td>\n",
       "      <td>52adedf011d24be20f5c4a8f</td>\n",
       "      <td>33 Villiers St</td>\n",
       "      <td>CA</td>\n",
       "      <td>Toronto</td>\n",
       "      <td>Canada</td>\n",
       "      <td>Villiers St. &amp; Cherry St.</td>\n",
       "      <td>...</td>\n",
       "      <td>[{'label': 'display', 'lat': 43.64708818241131...</td>\n",
       "      <td>43.647088</td>\n",
       "      <td>-79.351306</td>\n",
       "      <td>NaN</td>\n",
       "      <td>M5A 1A9</td>\n",
       "      <td>ON</td>\n",
       "      <td>BATLgrounds</td>\n",
       "      <td>0</td>\n",
       "      <td>[]</td>\n",
       "      <td>NaN</td>\n",
       "    </tr>\n",
       "    <tr>\n",
       "      <th>3</th>\n",
       "      <td>0</td>\n",
       "      <td>[{'summary': 'This spot is popular', 'type': '...</td>\n",
       "      <td>e-0-4c61f78ae1621b8d1f832253-3</td>\n",
       "      <td>[{'id': '4bf58dd8d48988d1f4931735', 'name': 'R...</td>\n",
       "      <td>4c61f78ae1621b8d1f832253</td>\n",
       "      <td>18 Polson St</td>\n",
       "      <td>CA</td>\n",
       "      <td>Toronto</td>\n",
       "      <td>Canada</td>\n",
       "      <td>NaN</td>\n",
       "      <td>...</td>\n",
       "      <td>[{'label': 'display', 'lat': 43.64251250706496...</td>\n",
       "      <td>43.642513</td>\n",
       "      <td>-79.351435</td>\n",
       "      <td>NaN</td>\n",
       "      <td>M5A 1A4</td>\n",
       "      <td>ON</td>\n",
       "      <td>Polson Go-karts</td>\n",
       "      <td>0</td>\n",
       "      <td>[]</td>\n",
       "      <td>NaN</td>\n",
       "    </tr>\n",
       "    <tr>\n",
       "      <th>4</th>\n",
       "      <td>0</td>\n",
       "      <td>[{'summary': 'This spot is popular', 'type': '...</td>\n",
       "      <td>e-0-59b1d9cc0d8a0f05289576f0-4</td>\n",
       "      <td>[{'id': '52e81612bcbc57f1066b79e7', 'name': 'C...</td>\n",
       "      <td>59b1d9cc0d8a0f05289576f0</td>\n",
       "      <td>51 commissioner st.</td>\n",
       "      <td>CA</td>\n",
       "      <td>Toronto</td>\n",
       "      <td>Canada</td>\n",
       "      <td>NaN</td>\n",
       "      <td>...</td>\n",
       "      <td>[{'label': 'display', 'lat': 43.64499835363828...</td>\n",
       "      <td>43.644998</td>\n",
       "      <td>-79.351213</td>\n",
       "      <td>NaN</td>\n",
       "      <td>NaN</td>\n",
       "      <td>ON</td>\n",
       "      <td>Cirque Du Soleil - Volta</td>\n",
       "      <td>0</td>\n",
       "      <td>[]</td>\n",
       "      <td>NaN</td>\n",
       "    </tr>\n",
       "  </tbody>\n",
       "</table>\n",
       "<p>5 rows × 22 columns</p>\n",
       "</div>"
      ],
      "text/plain": [
       "   reasons.count                                      reasons.items  \\\n",
       "0              0  [{'summary': 'This spot is popular', 'type': '...   \n",
       "1              0  [{'summary': 'This spot is popular', 'type': '...   \n",
       "2              0  [{'summary': 'This spot is popular', 'type': '...   \n",
       "3              0  [{'summary': 'This spot is popular', 'type': '...   \n",
       "4              0  [{'summary': 'This spot is popular', 'type': '...   \n",
       "\n",
       "                       referralId  \\\n",
       "0  e-0-57954f2e498e85cfbae8070e-0   \n",
       "1  e-0-4ad8f18ef964a520401621e3-1   \n",
       "2  e-0-52adedf011d24be20f5c4a8f-2   \n",
       "3  e-0-4c61f78ae1621b8d1f832253-3   \n",
       "4  e-0-59b1d9cc0d8a0f05289576f0-4   \n",
       "\n",
       "                                    venue.categories  \\\n",
       "0  [{'id': '52e81612bcbc57f1066b79e7', 'name': 'C...   \n",
       "1  [{'id': '52f2ab2ebcbc57f1066b8b46', 'name': 'S...   \n",
       "2  [{'id': '4f4528bc4b90abdf24c9de85', 'name': 'A...   \n",
       "3  [{'id': '4bf58dd8d48988d1f4931735', 'name': 'R...   \n",
       "4  [{'id': '52e81612bcbc57f1066b79e7', 'name': 'C...   \n",
       "\n",
       "                   venue.id   venue.location.address venue.location.cc  \\\n",
       "0  57954f2e498e85cfbae8070e  51 Commissioners Street                CA   \n",
       "1  4ad8f18ef964a520401621e3           222 Cherry St.                CA   \n",
       "2  52adedf011d24be20f5c4a8f           33 Villiers St                CA   \n",
       "3  4c61f78ae1621b8d1f832253             18 Polson St                CA   \n",
       "4  59b1d9cc0d8a0f05289576f0      51 commissioner st.                CA   \n",
       "\n",
       "  venue.location.city venue.location.country  \\\n",
       "0             Toronto                 Canada   \n",
       "1             Toronto                 Canada   \n",
       "2             Toronto                 Canada   \n",
       "3             Toronto                 Canada   \n",
       "4             Toronto                 Canada   \n",
       "\n",
       "            venue.location.crossStreet         ...          \\\n",
       "0                        Cherry Street         ...           \n",
       "1  btwn Commissioners St. & Polson St.         ...           \n",
       "2            Villiers St. & Cherry St.         ...           \n",
       "3                                  NaN         ...           \n",
       "4                                  NaN         ...           \n",
       "\n",
       "                       venue.location.labeledLatLngs venue.location.lat  \\\n",
       "0  [{'label': 'display', 'lat': 43.64479076063794...          43.644791   \n",
       "1  [{'label': 'display', 'lat': 43.64349082636327...          43.643491   \n",
       "2  [{'label': 'display', 'lat': 43.64708818241131...          43.647088   \n",
       "3  [{'label': 'display', 'lat': 43.64251250706496...          43.642513   \n",
       "4  [{'label': 'display', 'lat': 43.64499835363828...          43.644998   \n",
       "\n",
       "  venue.location.lng  venue.location.neighborhood  venue.location.postalCode  \\\n",
       "0         -79.351000                   Port Lands                        NaN   \n",
       "1         -79.351526                          NaN                    M5A 3L2   \n",
       "2         -79.351306                          NaN                    M5A 1A9   \n",
       "3         -79.351435                          NaN                    M5A 1A4   \n",
       "4         -79.351213                          NaN                        NaN   \n",
       "\n",
       "  venue.location.state                venue.name venue.photos.count  \\\n",
       "0                   ON  Cirque du Soleil - LUZIA                  0   \n",
       "1                   ON   T&T Supermarket 大統華超級市場                  0   \n",
       "2                   ON               BATLgrounds                  0   \n",
       "3                   ON           Polson Go-karts                  0   \n",
       "4                   ON  Cirque Du Soleil - Volta                  0   \n",
       "\n",
       "  venue.photos.groups  venue.venuePage.id  \n",
       "0                  []                 NaN  \n",
       "1                  []                 NaN  \n",
       "2                  []                 NaN  \n",
       "3                  []                 NaN  \n",
       "4                  []                 NaN  \n",
       "\n",
       "[5 rows x 22 columns]"
      ]
     },
     "execution_count": 31,
     "metadata": {},
     "output_type": "execute_result"
    }
   ],
   "source": [
    "nearby_venues = json_normalize(venues)\n",
    "nearby_venues.head()"
   ]
  },
  {
   "cell_type": "markdown",
   "metadata": {},
   "source": [
    "**d.** filter columns, extract the columns (or features) of interested, **'venue.name', 'venue.categories', 'venue.location.lat', 'venue.location.lng'**"
   ]
  },
  {
   "cell_type": "code",
   "execution_count": 32,
   "metadata": {},
   "outputs": [],
   "source": [
    "filtered_columns = ['venue.name', 'venue.categories', 'venue.location.lat', 'venue.location.lng']\n",
    "nearby_venues =nearby_venues.loc[:, filtered_columns]"
   ]
  },
  {
   "cell_type": "code",
   "execution_count": 33,
   "metadata": {},
   "outputs": [
    {
     "data": {
      "text/html": [
       "<div>\n",
       "<style scoped>\n",
       "    .dataframe tbody tr th:only-of-type {\n",
       "        vertical-align: middle;\n",
       "    }\n",
       "\n",
       "    .dataframe tbody tr th {\n",
       "        vertical-align: top;\n",
       "    }\n",
       "\n",
       "    .dataframe thead th {\n",
       "        text-align: right;\n",
       "    }\n",
       "</style>\n",
       "<table border=\"1\" class=\"dataframe\">\n",
       "  <thead>\n",
       "    <tr style=\"text-align: right;\">\n",
       "      <th></th>\n",
       "      <th>venue.name</th>\n",
       "      <th>venue.categories</th>\n",
       "      <th>venue.location.lat</th>\n",
       "      <th>venue.location.lng</th>\n",
       "    </tr>\n",
       "  </thead>\n",
       "  <tbody>\n",
       "    <tr>\n",
       "      <th>0</th>\n",
       "      <td>Cirque du Soleil - LUZIA</td>\n",
       "      <td>[{'id': '52e81612bcbc57f1066b79e7', 'name': 'C...</td>\n",
       "      <td>43.644791</td>\n",
       "      <td>-79.351000</td>\n",
       "    </tr>\n",
       "    <tr>\n",
       "      <th>1</th>\n",
       "      <td>T&amp;T Supermarket 大統華超級市場</td>\n",
       "      <td>[{'id': '52f2ab2ebcbc57f1066b8b46', 'name': 'S...</td>\n",
       "      <td>43.643491</td>\n",
       "      <td>-79.351526</td>\n",
       "    </tr>\n",
       "    <tr>\n",
       "      <th>2</th>\n",
       "      <td>BATLgrounds</td>\n",
       "      <td>[{'id': '4f4528bc4b90abdf24c9de85', 'name': 'A...</td>\n",
       "      <td>43.647088</td>\n",
       "      <td>-79.351306</td>\n",
       "    </tr>\n",
       "    <tr>\n",
       "      <th>3</th>\n",
       "      <td>Polson Go-karts</td>\n",
       "      <td>[{'id': '4bf58dd8d48988d1f4931735', 'name': 'R...</td>\n",
       "      <td>43.642513</td>\n",
       "      <td>-79.351435</td>\n",
       "    </tr>\n",
       "    <tr>\n",
       "      <th>4</th>\n",
       "      <td>Cirque Du Soleil - Volta</td>\n",
       "      <td>[{'id': '52e81612bcbc57f1066b79e7', 'name': 'C...</td>\n",
       "      <td>43.644998</td>\n",
       "      <td>-79.351213</td>\n",
       "    </tr>\n",
       "  </tbody>\n",
       "</table>\n",
       "</div>"
      ],
      "text/plain": [
       "                 venue.name  \\\n",
       "0  Cirque du Soleil - LUZIA   \n",
       "1   T&T Supermarket 大統華超級市場   \n",
       "2               BATLgrounds   \n",
       "3           Polson Go-karts   \n",
       "4  Cirque Du Soleil - Volta   \n",
       "\n",
       "                                    venue.categories  venue.location.lat  \\\n",
       "0  [{'id': '52e81612bcbc57f1066b79e7', 'name': 'C...           43.644791   \n",
       "1  [{'id': '52f2ab2ebcbc57f1066b8b46', 'name': 'S...           43.643491   \n",
       "2  [{'id': '4f4528bc4b90abdf24c9de85', 'name': 'A...           43.647088   \n",
       "3  [{'id': '4bf58dd8d48988d1f4931735', 'name': 'R...           43.642513   \n",
       "4  [{'id': '52e81612bcbc57f1066b79e7', 'name': 'C...           43.644998   \n",
       "\n",
       "   venue.location.lng  \n",
       "0          -79.351000  \n",
       "1          -79.351526  \n",
       "2          -79.351306  \n",
       "3          -79.351435  \n",
       "4          -79.351213  "
      ]
     },
     "execution_count": 33,
     "metadata": {},
     "output_type": "execute_result"
    }
   ],
   "source": [
    "nearby_venues.head()"
   ]
  },
  {
   "cell_type": "markdown",
   "metadata": {},
   "source": [
    "**e.** clear the **venue.categories**, extract the **name** from categories"
   ]
  },
  {
   "cell_type": "markdown",
   "metadata": {},
   "source": [
    "Take the first venue as the example, extract the **name** from the categories"
   ]
  },
  {
   "cell_type": "code",
   "execution_count": 34,
   "metadata": {},
   "outputs": [
    {
     "data": {
      "text/plain": [
       "[{'id': '52e81612bcbc57f1066b79e7',\n",
       "  'name': 'Circus',\n",
       "  'pluralName': 'Circuses',\n",
       "  'shortName': 'Circus',\n",
       "  'icon': {'prefix': 'https://ss3.4sqi.net/img/categories_v2/arts_entertainment/default_',\n",
       "   'suffix': '.png'},\n",
       "  'primary': True}]"
      ]
     },
     "execution_count": 34,
     "metadata": {},
     "output_type": "execute_result"
    }
   ],
   "source": [
    "first_venue_cat = nearby_venues.loc[0, 'venue.categories']\n",
    "first_venue_cat"
   ]
  },
  {
   "cell_type": "markdown",
   "metadata": {},
   "source": [
    "The **venue.categories** is a list with one dict"
   ]
  },
  {
   "cell_type": "code",
   "execution_count": 35,
   "metadata": {},
   "outputs": [
    {
     "data": {
      "text/plain": [
       "'Circus'"
      ]
     },
     "execution_count": 35,
     "metadata": {},
     "output_type": "execute_result"
    }
   ],
   "source": [
    "first_venue_cat[0]['name']"
   ]
  },
  {
   "cell_type": "markdown",
   "metadata": {},
   "source": [
    "Create a new feature with the **category.name** values only for all venues"
   ]
  },
  {
   "cell_type": "code",
   "execution_count": 36,
   "metadata": {},
   "outputs": [
    {
     "data": {
      "text/html": [
       "<div>\n",
       "<style scoped>\n",
       "    .dataframe tbody tr th:only-of-type {\n",
       "        vertical-align: middle;\n",
       "    }\n",
       "\n",
       "    .dataframe tbody tr th {\n",
       "        vertical-align: top;\n",
       "    }\n",
       "\n",
       "    .dataframe thead th {\n",
       "        text-align: right;\n",
       "    }\n",
       "</style>\n",
       "<table border=\"1\" class=\"dataframe\">\n",
       "  <thead>\n",
       "    <tr style=\"text-align: right;\">\n",
       "      <th></th>\n",
       "      <th>venue.name</th>\n",
       "      <th>venue.categories</th>\n",
       "      <th>venue.location.lat</th>\n",
       "      <th>venue.location.lng</th>\n",
       "      <th>category</th>\n",
       "    </tr>\n",
       "  </thead>\n",
       "  <tbody>\n",
       "    <tr>\n",
       "      <th>0</th>\n",
       "      <td>Cirque du Soleil - LUZIA</td>\n",
       "      <td>[{'id': '52e81612bcbc57f1066b79e7', 'name': 'C...</td>\n",
       "      <td>43.644791</td>\n",
       "      <td>-79.351000</td>\n",
       "      <td>Circus</td>\n",
       "    </tr>\n",
       "    <tr>\n",
       "      <th>1</th>\n",
       "      <td>T&amp;T Supermarket 大統華超級市場</td>\n",
       "      <td>[{'id': '52f2ab2ebcbc57f1066b8b46', 'name': 'S...</td>\n",
       "      <td>43.643491</td>\n",
       "      <td>-79.351526</td>\n",
       "      <td>Supermarket</td>\n",
       "    </tr>\n",
       "    <tr>\n",
       "      <th>2</th>\n",
       "      <td>BATLgrounds</td>\n",
       "      <td>[{'id': '4f4528bc4b90abdf24c9de85', 'name': 'A...</td>\n",
       "      <td>43.647088</td>\n",
       "      <td>-79.351306</td>\n",
       "      <td>Athletics &amp; Sports</td>\n",
       "    </tr>\n",
       "    <tr>\n",
       "      <th>3</th>\n",
       "      <td>Polson Go-karts</td>\n",
       "      <td>[{'id': '4bf58dd8d48988d1f4931735', 'name': 'R...</td>\n",
       "      <td>43.642513</td>\n",
       "      <td>-79.351435</td>\n",
       "      <td>Racetrack</td>\n",
       "    </tr>\n",
       "    <tr>\n",
       "      <th>4</th>\n",
       "      <td>Cirque Du Soleil - Volta</td>\n",
       "      <td>[{'id': '52e81612bcbc57f1066b79e7', 'name': 'C...</td>\n",
       "      <td>43.644998</td>\n",
       "      <td>-79.351213</td>\n",
       "      <td>Circus</td>\n",
       "    </tr>\n",
       "  </tbody>\n",
       "</table>\n",
       "</div>"
      ],
      "text/plain": [
       "                 venue.name  \\\n",
       "0  Cirque du Soleil - LUZIA   \n",
       "1   T&T Supermarket 大統華超級市場   \n",
       "2               BATLgrounds   \n",
       "3           Polson Go-karts   \n",
       "4  Cirque Du Soleil - Volta   \n",
       "\n",
       "                                    venue.categories  venue.location.lat  \\\n",
       "0  [{'id': '52e81612bcbc57f1066b79e7', 'name': 'C...           43.644791   \n",
       "1  [{'id': '52f2ab2ebcbc57f1066b8b46', 'name': 'S...           43.643491   \n",
       "2  [{'id': '4f4528bc4b90abdf24c9de85', 'name': 'A...           43.647088   \n",
       "3  [{'id': '4bf58dd8d48988d1f4931735', 'name': 'R...           43.642513   \n",
       "4  [{'id': '52e81612bcbc57f1066b79e7', 'name': 'C...           43.644998   \n",
       "\n",
       "   venue.location.lng            category  \n",
       "0          -79.351000              Circus  \n",
       "1          -79.351526         Supermarket  \n",
       "2          -79.351306  Athletics & Sports  \n",
       "3          -79.351435           Racetrack  \n",
       "4          -79.351213              Circus  "
      ]
     },
     "execution_count": 36,
     "metadata": {},
     "output_type": "execute_result"
    }
   ],
   "source": [
    "nearby_venues['category'] = [v[0]['name'] for v in nearby_venues['venue.categories']]\n",
    "nearby_venues.head()"
   ]
  },
  {
   "cell_type": "markdown",
   "metadata": {},
   "source": [
    "**f.** clear the columns, ane remove the unnecessary column **venue.categories**"
   ]
  },
  {
   "cell_type": "code",
   "execution_count": 37,
   "metadata": {},
   "outputs": [],
   "source": [
    "nearby_venues.rename(columns = {'venue.name':'name', 'venue.location.lat':'lat', 'venue.location.lng':'lng'}, inplace = True)"
   ]
  },
  {
   "cell_type": "code",
   "execution_count": 38,
   "metadata": {},
   "outputs": [],
   "source": [
    "nearby_venues.drop(['venue.categories'], axis = 1, inplace = True)"
   ]
  },
  {
   "cell_type": "code",
   "execution_count": 39,
   "metadata": {},
   "outputs": [
    {
     "data": {
      "text/html": [
       "<div>\n",
       "<style scoped>\n",
       "    .dataframe tbody tr th:only-of-type {\n",
       "        vertical-align: middle;\n",
       "    }\n",
       "\n",
       "    .dataframe tbody tr th {\n",
       "        vertical-align: top;\n",
       "    }\n",
       "\n",
       "    .dataframe thead th {\n",
       "        text-align: right;\n",
       "    }\n",
       "</style>\n",
       "<table border=\"1\" class=\"dataframe\">\n",
       "  <thead>\n",
       "    <tr style=\"text-align: right;\">\n",
       "      <th></th>\n",
       "      <th>name</th>\n",
       "      <th>category</th>\n",
       "      <th>lat</th>\n",
       "      <th>lng</th>\n",
       "    </tr>\n",
       "  </thead>\n",
       "  <tbody>\n",
       "    <tr>\n",
       "      <th>0</th>\n",
       "      <td>Cirque du Soleil - LUZIA</td>\n",
       "      <td>Circus</td>\n",
       "      <td>43.644791</td>\n",
       "      <td>-79.351000</td>\n",
       "    </tr>\n",
       "    <tr>\n",
       "      <th>1</th>\n",
       "      <td>T&amp;T Supermarket 大統華超級市場</td>\n",
       "      <td>Supermarket</td>\n",
       "      <td>43.643491</td>\n",
       "      <td>-79.351526</td>\n",
       "    </tr>\n",
       "    <tr>\n",
       "      <th>2</th>\n",
       "      <td>BATLgrounds</td>\n",
       "      <td>Athletics &amp; Sports</td>\n",
       "      <td>43.647088</td>\n",
       "      <td>-79.351306</td>\n",
       "    </tr>\n",
       "    <tr>\n",
       "      <th>3</th>\n",
       "      <td>Polson Go-karts</td>\n",
       "      <td>Racetrack</td>\n",
       "      <td>43.642513</td>\n",
       "      <td>-79.351435</td>\n",
       "    </tr>\n",
       "    <tr>\n",
       "      <th>4</th>\n",
       "      <td>Cirque Du Soleil - Volta</td>\n",
       "      <td>Circus</td>\n",
       "      <td>43.644998</td>\n",
       "      <td>-79.351213</td>\n",
       "    </tr>\n",
       "  </tbody>\n",
       "</table>\n",
       "</div>"
      ],
      "text/plain": [
       "                       name            category        lat        lng\n",
       "0  Cirque du Soleil - LUZIA              Circus  43.644791 -79.351000\n",
       "1   T&T Supermarket 大統華超級市場         Supermarket  43.643491 -79.351526\n",
       "2               BATLgrounds  Athletics & Sports  43.647088 -79.351306\n",
       "3           Polson Go-karts           Racetrack  43.642513 -79.351435\n",
       "4  Cirque Du Soleil - Volta              Circus  43.644998 -79.351213"
      ]
     },
     "execution_count": 39,
     "metadata": {},
     "output_type": "execute_result"
    }
   ],
   "source": [
    "# change the orders of the columns\n",
    "column_order = ['name', 'category', 'lat', 'lng']\n",
    "nearby_venues[column_order].head()"
   ]
  },
  {
   "cell_type": "markdown",
   "metadata": {},
   "source": [
    "Alternative method to rename the columns"
   ]
  },
  {
   "cell_type": "code",
   "execution_count": 40,
   "metadata": {},
   "outputs": [],
   "source": [
    "#earby_venues.columns = [col.split(\".\")[-1] for col in nearby_venues.columns]"
   ]
  },
  {
   "cell_type": "code",
   "execution_count": 41,
   "metadata": {},
   "outputs": [
    {
     "data": {
      "text/html": [
       "<div style=\"width:100%;\"><div style=\"position:relative;width:100%;height:0;padding-bottom:60%;\"><iframe src=\"data:text/html;charset=utf-8;base64,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\" style=\"position:absolute;width:100%;height:100%;left:0;top:0;border:none !important;\" allowfullscreen webkitallowfullscreen mozallowfullscreen></iframe></div></div>"
      ],
      "text/plain": [
       "<folium.folium.Map at 0x1a17999080>"
      ]
     },
     "execution_count": 41,
     "metadata": {},
     "output_type": "execute_result"
    }
   ],
   "source": [
    "# create map of the venues from the first neighborhood in Old City of Toronto using latitude and longitude values\n",
    "map_first_OCoT = folium.Map(location=[latitude, longitude], zoom_start=10)\n",
    "\n",
    "# add markers to map\n",
    "for lat, lng, category, Name in zip(nearby_venues['lat'], nearby_venues['lng'], nearby_venues['category'], nearby_venues['name']):\n",
    "    label = '{}, {}'.format(Name, category)\n",
    "    label = folium.Popup(label, parse_html=True)\n",
    "    folium.CircleMarker(\n",
    "        [lat, lng],\n",
    "        radius=5,\n",
    "        popup=label,\n",
    "        color='green',\n",
    "        fill=True,\n",
    "        fill_color='#3186cc',\n",
    "        fill_opacity=0.7,\n",
    "        parse_html=False).add_to(map_first_OCoT)  \n",
    "    \n",
    "map_first_OCoT"
   ]
  },
  {
   "cell_type": "markdown",
   "metadata": {},
   "source": [
    "### Part 2. Explore all neighborhoods in Old City of Toronto (OCoT)"
   ]
  },
  {
   "cell_type": "markdown",
   "metadata": {},
   "source": [
    "For each neighborhood in Old City of Toronton, find the venues within radius = 500. "
   ]
  },
  {
   "cell_type": "markdown",
   "metadata": {},
   "source": [
    "Review the dataset OCoT_df"
   ]
  },
  {
   "cell_type": "code",
   "execution_count": 42,
   "metadata": {},
   "outputs": [
    {
     "data": {
      "text/html": [
       "<div>\n",
       "<style scoped>\n",
       "    .dataframe tbody tr th:only-of-type {\n",
       "        vertical-align: middle;\n",
       "    }\n",
       "\n",
       "    .dataframe tbody tr th {\n",
       "        vertical-align: top;\n",
       "    }\n",
       "\n",
       "    .dataframe thead th {\n",
       "        text-align: right;\n",
       "    }\n",
       "</style>\n",
       "<table border=\"1\" class=\"dataframe\">\n",
       "  <thead>\n",
       "    <tr style=\"text-align: right;\">\n",
       "      <th></th>\n",
       "      <th>Name</th>\n",
       "      <th>FM</th>\n",
       "      <th>Full_FM</th>\n",
       "      <th>Latitude</th>\n",
       "      <th>Longitude</th>\n",
       "    </tr>\n",
       "  </thead>\n",
       "  <tbody>\n",
       "    <tr>\n",
       "      <th>0</th>\n",
       "      <td>Port Lands</td>\n",
       "      <td>OCoT</td>\n",
       "      <td>Old City of Toronto</td>\n",
       "      <td>43.643065</td>\n",
       "      <td>-79.350601</td>\n",
       "    </tr>\n",
       "    <tr>\n",
       "      <th>1</th>\n",
       "      <td>Toronto Islands</td>\n",
       "      <td>OCoT</td>\n",
       "      <td>Old City of Toronto</td>\n",
       "      <td>43.616196</td>\n",
       "      <td>-79.369358</td>\n",
       "    </tr>\n",
       "    <tr>\n",
       "      <th>2</th>\n",
       "      <td>Parkdale</td>\n",
       "      <td>OCoT</td>\n",
       "      <td>Old City of Toronto</td>\n",
       "      <td>43.637178</td>\n",
       "      <td>-79.436004</td>\n",
       "    </tr>\n",
       "    <tr>\n",
       "      <th>3</th>\n",
       "      <td>Niagara</td>\n",
       "      <td>OCoT</td>\n",
       "      <td>Old City of Toronto</td>\n",
       "      <td>43.063189</td>\n",
       "      <td>-79.309809</td>\n",
       "    </tr>\n",
       "    <tr>\n",
       "      <th>4</th>\n",
       "      <td>Fashion District</td>\n",
       "      <td>OCoT</td>\n",
       "      <td>Old City of Toronto</td>\n",
       "      <td>43.645456</td>\n",
       "      <td>-79.394994</td>\n",
       "    </tr>\n",
       "  </tbody>\n",
       "</table>\n",
       "</div>"
      ],
      "text/plain": [
       "               Name    FM              Full_FM   Latitude  Longitude\n",
       "0        Port Lands  OCoT  Old City of Toronto  43.643065 -79.350601\n",
       "1   Toronto Islands  OCoT  Old City of Toronto  43.616196 -79.369358\n",
       "2          Parkdale  OCoT  Old City of Toronto  43.637178 -79.436004\n",
       "3           Niagara  OCoT  Old City of Toronto  43.063189 -79.309809\n",
       "4  Fashion District  OCoT  Old City of Toronto  43.645456 -79.394994"
      ]
     },
     "execution_count": 42,
     "metadata": {},
     "output_type": "execute_result"
    }
   ],
   "source": [
    "OCoT_df.head()"
   ]
  },
  {
   "cell_type": "markdown",
   "metadata": {},
   "source": [
    "#### Create a function to repeat the same process to get the venues of all neighborhoods in Old City of Toronto"
   ]
  },
  {
   "cell_type": "code",
   "execution_count": 43,
   "metadata": {},
   "outputs": [],
   "source": [
    "def getNearbyVenues(names, latitudes, longitudes, radius=500):\n",
    "\n",
    "    venues_list=[]\n",
    "\n",
    "    # use loop function to visit each of the neighborhood in Toronto, to get the lat, lng\n",
    "    for name, lat, lng in zip(names, latitudes, longitudes):\n",
    "\n",
    "        # create the API request URL\n",
    "        url = 'https://api.foursquare.com/v2/venues/explore?&client_id={}&client_secret={}&v={}&ll={},{}&radius={}&limit={}'.format(\n",
    "                    CLIENT_ID, \n",
    "                    CLIENT_SECRET, \n",
    "                    VERSION, \n",
    "                    lat, \n",
    "                    lng, \n",
    "                    radius, \n",
    "                    LIMIT)\n",
    "        # print(url)\n",
    "\n",
    "        # make the GET request\n",
    "        results = requests.get(url).json()[\"response\"]['groups'][0]['items']\n",
    "\n",
    "        # acquire the relevant information for each nearby venue\n",
    "        venues_list.append([(name, lat, lng,\n",
    "          v['venue']['name'], \n",
    "          v['venue']['location']['lat'],\n",
    "          v['venue']['location']['lng'], \n",
    "          v['venue']['categories'][0]['name']) for v in results])\n",
    "\n",
    "\n",
    "        # create dataframe for the venues_list\n",
    "        nearby_venues = pd.DataFrame([item for venue_list in venues_list for item in venue_list]) \n",
    "\n",
    "        # add column names\n",
    "        nearby_venues.columns = ['Neighborhood', \n",
    "                      'Neighborhood Latitude', \n",
    "                      'Neighborhood Longitude', \n",
    "                      'Venue', \n",
    "                      'Venue Latitude', \n",
    "                      'Venue Longitude', \n",
    "                      'Venue Category']\n",
    "    \n",
    "    return nearby_venues"
   ]
  },
  {
   "cell_type": "code",
   "execution_count": 44,
   "metadata": {},
   "outputs": [
    {
     "data": {
      "text/html": [
       "<div>\n",
       "<style scoped>\n",
       "    .dataframe tbody tr th:only-of-type {\n",
       "        vertical-align: middle;\n",
       "    }\n",
       "\n",
       "    .dataframe tbody tr th {\n",
       "        vertical-align: top;\n",
       "    }\n",
       "\n",
       "    .dataframe thead th {\n",
       "        text-align: right;\n",
       "    }\n",
       "</style>\n",
       "<table border=\"1\" class=\"dataframe\">\n",
       "  <thead>\n",
       "    <tr style=\"text-align: right;\">\n",
       "      <th></th>\n",
       "      <th>Neighborhood</th>\n",
       "      <th>Neighborhood Latitude</th>\n",
       "      <th>Neighborhood Longitude</th>\n",
       "      <th>Venue</th>\n",
       "      <th>Venue Latitude</th>\n",
       "      <th>Venue Longitude</th>\n",
       "      <th>Venue Category</th>\n",
       "    </tr>\n",
       "  </thead>\n",
       "  <tbody>\n",
       "    <tr>\n",
       "      <th>0</th>\n",
       "      <td>Port Lands</td>\n",
       "      <td>43.643065</td>\n",
       "      <td>-79.350601</td>\n",
       "      <td>Cirque du Soleil - LUZIA</td>\n",
       "      <td>43.644791</td>\n",
       "      <td>-79.351000</td>\n",
       "      <td>Circus</td>\n",
       "    </tr>\n",
       "    <tr>\n",
       "      <th>1</th>\n",
       "      <td>Port Lands</td>\n",
       "      <td>43.643065</td>\n",
       "      <td>-79.350601</td>\n",
       "      <td>T&amp;T Supermarket 大統華超級市場</td>\n",
       "      <td>43.643491</td>\n",
       "      <td>-79.351526</td>\n",
       "      <td>Supermarket</td>\n",
       "    </tr>\n",
       "    <tr>\n",
       "      <th>2</th>\n",
       "      <td>Port Lands</td>\n",
       "      <td>43.643065</td>\n",
       "      <td>-79.350601</td>\n",
       "      <td>BATLgrounds</td>\n",
       "      <td>43.647088</td>\n",
       "      <td>-79.351306</td>\n",
       "      <td>Athletics &amp; Sports</td>\n",
       "    </tr>\n",
       "    <tr>\n",
       "      <th>3</th>\n",
       "      <td>Port Lands</td>\n",
       "      <td>43.643065</td>\n",
       "      <td>-79.350601</td>\n",
       "      <td>Polson Go-karts</td>\n",
       "      <td>43.642513</td>\n",
       "      <td>-79.351435</td>\n",
       "      <td>Racetrack</td>\n",
       "    </tr>\n",
       "    <tr>\n",
       "      <th>4</th>\n",
       "      <td>Port Lands</td>\n",
       "      <td>43.643065</td>\n",
       "      <td>-79.350601</td>\n",
       "      <td>Cirque Du Soleil - Volta</td>\n",
       "      <td>43.644998</td>\n",
       "      <td>-79.351213</td>\n",
       "      <td>Circus</td>\n",
       "    </tr>\n",
       "  </tbody>\n",
       "</table>\n",
       "</div>"
      ],
      "text/plain": [
       "  Neighborhood  Neighborhood Latitude  Neighborhood Longitude  \\\n",
       "0   Port Lands              43.643065              -79.350601   \n",
       "1   Port Lands              43.643065              -79.350601   \n",
       "2   Port Lands              43.643065              -79.350601   \n",
       "3   Port Lands              43.643065              -79.350601   \n",
       "4   Port Lands              43.643065              -79.350601   \n",
       "\n",
       "                      Venue  Venue Latitude  Venue Longitude  \\\n",
       "0  Cirque du Soleil - LUZIA       43.644791       -79.351000   \n",
       "1   T&T Supermarket 大統華超級市場       43.643491       -79.351526   \n",
       "2               BATLgrounds       43.647088       -79.351306   \n",
       "3           Polson Go-karts       43.642513       -79.351435   \n",
       "4  Cirque Du Soleil - Volta       43.644998       -79.351213   \n",
       "\n",
       "       Venue Category  \n",
       "0              Circus  \n",
       "1         Supermarket  \n",
       "2  Athletics & Sports  \n",
       "3           Racetrack  \n",
       "4              Circus  "
      ]
     },
     "execution_count": 44,
     "metadata": {},
     "output_type": "execute_result"
    }
   ],
   "source": [
    "OCoT_venues = getNearbyVenues(OCoT_df['Name'], OCoT_df['Latitude'], OCoT_df['Longitude'])\n",
    "OCoT_venues.head()"
   ]
  },
  {
   "cell_type": "markdown",
   "metadata": {},
   "source": [
    "#### Get the counts of venues in each of the neighborhood in Old City of Toronto"
   ]
  },
  {
   "cell_type": "code",
   "execution_count": 45,
   "metadata": {},
   "outputs": [
    {
     "data": {
      "text/plain": [
       "Kensington Market           100\n",
       "Fashion District            100\n",
       "Yorkville                   100\n",
       "Financial District          100\n",
       "Alexandra Park              100\n",
       "Church and Wellesley         93\n",
       "Harbourfront / CityPlace     82\n",
       "Discovery District           79\n",
       "Little Italy                 66\n",
       "Dufferin Grove               57\n",
       "Name: Neighborhood, dtype: int64"
      ]
     },
     "execution_count": 45,
     "metadata": {},
     "output_type": "execute_result"
    }
   ],
   "source": [
    "venue_count = OCoT_venues['Neighborhood'].value_counts()\n",
    "venue_count.head(10)"
   ]
  },
  {
   "cell_type": "markdown",
   "metadata": {},
   "source": [
    "#### Find out how many unique categories can be curated from all the returned venues"
   ]
  },
  {
   "cell_type": "code",
   "execution_count": 46,
   "metadata": {},
   "outputs": [
    {
     "name": "stdout",
     "output_type": "stream",
     "text": [
      "There are 274 uniques categories.\n",
      "The categories are:  ['Circus' 'Supermarket' 'Athletics & Sports' 'Racetrack' 'Nightclub'] , etc.\n"
     ]
    }
   ],
   "source": [
    "print('There are {} uniques categories.'.format(len(OCoT_venues['Venue Category'].unique())))\n",
    "print('The categories are: ', OCoT_venues['Venue Category'].unique()[0:5], ', etc.')"
   ]
  },
  {
   "cell_type": "markdown",
   "metadata": {},
   "source": [
    "#### Get the 20 most common categories in Old City of Toronto"
   ]
  },
  {
   "cell_type": "code",
   "execution_count": 47,
   "metadata": {},
   "outputs": [
    {
     "data": {
      "text/plain": [
       "Coffee Shop            129\n",
       "Café                    93\n",
       "Bar                     64\n",
       "Italian Restaurant      61\n",
       "Restaurant              58\n",
       "Bakery                  49\n",
       "Pizza Place             45\n",
       "Sandwich Place          37\n",
       "Park                    36\n",
       "Grocery Store           35\n",
       "Sushi Restaurant        33\n",
       "Pub                     29\n",
       "Japanese Restaurant     27\n",
       "Indian Restaurant       26\n",
       "Hotel                   26\n",
       "Diner                   25\n",
       "American Restaurant     24\n",
       "Gym                     24\n",
       "Breakfast Spot          22\n",
       "Ice Cream Shop          22\n",
       "Name: Venue Category, dtype: int64"
      ]
     },
     "execution_count": 47,
     "metadata": {},
     "output_type": "execute_result"
    }
   ],
   "source": [
    "Most_common_cat = OCoT_venues['Venue Category'].value_counts()\n",
    "top_20_cat = Most_common_cat[0:20]\n",
    "top_20_cat"
   ]
  },
  {
   "cell_type": "markdown",
   "metadata": {},
   "source": [
    "#### Visualization of the top 20 categories in Old City of Toronto"
   ]
  },
  {
   "cell_type": "code",
   "execution_count": 48,
   "metadata": {},
   "outputs": [
    {
     "data": {
      "image/png": "[encoded data removed]",
      "text/plain": [
       "<Figure size 1080x720 with 1 Axes>"
      ]
     },
     "metadata": {
      "needs_background": "light"
     },
     "output_type": "display_data"
    }
   ],
   "source": [
    "ax = top_20_cat.plot(kind= 'bar',\n",
    "                                edgecolor = 'black',\n",
    "                                figsize = (15, 10),\n",
    "                                width = 0.6)\n",
    "figure_title = 'The 20 Most Common Categories in Old City of Toronto'\n",
    "#ax.set_title('The 20 Most Common Categories in Old City of Toronto', fontsize = 16)  # could edit the position of the title (loc='left', 'center', 'right')\n",
    "plt.text(10, 130, figure_title,\n",
    "         horizontalalignment='center',\n",
    "         fontsize=20)\n",
    "ax.set_xticklabels(top_20_cat.index, rotation = 90, ha = 'right', fontsize = 14)\n",
    "ax.spines['top'].set_visible(False)\n",
    "ax.spines['right'].set_visible(False)\n",
    "ax.spines['left'].set_visible(False)\n",
    "ax.axes.get_yaxis().set_visible(False)\n",
    "\n",
    "#for i in range(0, len(top_20_cat)):\n",
    "for index, value in enumerate(top_20_cat):\n",
    "    labels = value\n",
    "    plt.annotate(labels,\n",
    "                 xy = (index - 0.28, value + 1.55), \n",
    "                 color = 'black',\n",
    "                 fontsize = 14)"
   ]
  },
  {
   "cell_type": "markdown",
   "metadata": {},
   "source": [
    "From the figure above, the 'Coffee Shop' is the top 1 common venue category among the neighborhoods in Old City of Toronto."
   ]
  },
  {
   "cell_type": "markdown",
   "metadata": {},
   "source": [
    "## 3. Analyze Categories in each Neighborhood "
   ]
  },
  {
   "cell_type": "markdown",
   "metadata": {},
   "source": [
    "At this part, the frequency of each category will be analyzed to explore the characteristics of each neighborhood in Old City of Toronto. "
   ]
  },
  {
   "cell_type": "code",
   "execution_count": 49,
   "metadata": {},
   "outputs": [
    {
     "data": {
      "text/html": [
       "<div>\n",
       "<style scoped>\n",
       "    .dataframe tbody tr th:only-of-type {\n",
       "        vertical-align: middle;\n",
       "    }\n",
       "\n",
       "    .dataframe tbody tr th {\n",
       "        vertical-align: top;\n",
       "    }\n",
       "\n",
       "    .dataframe thead th {\n",
       "        text-align: right;\n",
       "    }\n",
       "</style>\n",
       "<table border=\"1\" class=\"dataframe\">\n",
       "  <thead>\n",
       "    <tr style=\"text-align: right;\">\n",
       "      <th></th>\n",
       "      <th>Venue Category</th>\n",
       "    </tr>\n",
       "  </thead>\n",
       "  <tbody>\n",
       "    <tr>\n",
       "      <th>0</th>\n",
       "      <td>Circus</td>\n",
       "    </tr>\n",
       "    <tr>\n",
       "      <th>1</th>\n",
       "      <td>Supermarket</td>\n",
       "    </tr>\n",
       "    <tr>\n",
       "      <th>2</th>\n",
       "      <td>Athletics &amp; Sports</td>\n",
       "    </tr>\n",
       "    <tr>\n",
       "      <th>3</th>\n",
       "      <td>Racetrack</td>\n",
       "    </tr>\n",
       "    <tr>\n",
       "      <th>4</th>\n",
       "      <td>Circus</td>\n",
       "    </tr>\n",
       "  </tbody>\n",
       "</table>\n",
       "</div>"
      ],
      "text/plain": [
       "       Venue Category\n",
       "0              Circus\n",
       "1         Supermarket\n",
       "2  Athletics & Sports\n",
       "3           Racetrack\n",
       "4              Circus"
      ]
     },
     "execution_count": 49,
     "metadata": {},
     "output_type": "execute_result"
    }
   ],
   "source": [
    "OCoT_venues[['Venue Category']].head(5)"
   ]
  },
  {
   "cell_type": "code",
   "execution_count": 50,
   "metadata": {},
   "outputs": [
    {
     "data": {
      "text/html": [
       "<div>\n",
       "<style scoped>\n",
       "    .dataframe tbody tr th:only-of-type {\n",
       "        vertical-align: middle;\n",
       "    }\n",
       "\n",
       "    .dataframe tbody tr th {\n",
       "        vertical-align: top;\n",
       "    }\n",
       "\n",
       "    .dataframe thead th {\n",
       "        text-align: right;\n",
       "    }\n",
       "</style>\n",
       "<table border=\"1\" class=\"dataframe\">\n",
       "  <thead>\n",
       "    <tr style=\"text-align: right;\">\n",
       "      <th></th>\n",
       "      <th>Neighborhoods</th>\n",
       "      <th>ATM</th>\n",
       "      <th>Accessories Store</th>\n",
       "      <th>Adult Boutique</th>\n",
       "      <th>Afghan Restaurant</th>\n",
       "      <th>American Restaurant</th>\n",
       "      <th>Animal Shelter</th>\n",
       "      <th>Antique Shop</th>\n",
       "      <th>Arcade</th>\n",
       "      <th>Arepa Restaurant</th>\n",
       "      <th>...</th>\n",
       "      <th>Video Store</th>\n",
       "      <th>Vietnamese Restaurant</th>\n",
       "      <th>Warehouse Store</th>\n",
       "      <th>Waterfront</th>\n",
       "      <th>Whisky Bar</th>\n",
       "      <th>Wine Bar</th>\n",
       "      <th>Wine Shop</th>\n",
       "      <th>Wings Joint</th>\n",
       "      <th>Women's Store</th>\n",
       "      <th>Yoga Studio</th>\n",
       "    </tr>\n",
       "  </thead>\n",
       "  <tbody>\n",
       "    <tr>\n",
       "      <th>0</th>\n",
       "      <td>Port Lands</td>\n",
       "      <td>0</td>\n",
       "      <td>0</td>\n",
       "      <td>0</td>\n",
       "      <td>0</td>\n",
       "      <td>0</td>\n",
       "      <td>0</td>\n",
       "      <td>0</td>\n",
       "      <td>0</td>\n",
       "      <td>0</td>\n",
       "      <td>...</td>\n",
       "      <td>0</td>\n",
       "      <td>0</td>\n",
       "      <td>0</td>\n",
       "      <td>0</td>\n",
       "      <td>0</td>\n",
       "      <td>0</td>\n",
       "      <td>0</td>\n",
       "      <td>0</td>\n",
       "      <td>0</td>\n",
       "      <td>0</td>\n",
       "    </tr>\n",
       "    <tr>\n",
       "      <th>1</th>\n",
       "      <td>Port Lands</td>\n",
       "      <td>0</td>\n",
       "      <td>0</td>\n",
       "      <td>0</td>\n",
       "      <td>0</td>\n",
       "      <td>0</td>\n",
       "      <td>0</td>\n",
       "      <td>0</td>\n",
       "      <td>0</td>\n",
       "      <td>0</td>\n",
       "      <td>...</td>\n",
       "      <td>0</td>\n",
       "      <td>0</td>\n",
       "      <td>0</td>\n",
       "      <td>0</td>\n",
       "      <td>0</td>\n",
       "      <td>0</td>\n",
       "      <td>0</td>\n",
       "      <td>0</td>\n",
       "      <td>0</td>\n",
       "      <td>0</td>\n",
       "    </tr>\n",
       "    <tr>\n",
       "      <th>2</th>\n",
       "      <td>Port Lands</td>\n",
       "      <td>0</td>\n",
       "      <td>0</td>\n",
       "      <td>0</td>\n",
       "      <td>0</td>\n",
       "      <td>0</td>\n",
       "      <td>0</td>\n",
       "      <td>0</td>\n",
       "      <td>0</td>\n",
       "      <td>0</td>\n",
       "      <td>...</td>\n",
       "      <td>0</td>\n",
       "      <td>0</td>\n",
       "      <td>0</td>\n",
       "      <td>0</td>\n",
       "      <td>0</td>\n",
       "      <td>0</td>\n",
       "      <td>0</td>\n",
       "      <td>0</td>\n",
       "      <td>0</td>\n",
       "      <td>0</td>\n",
       "    </tr>\n",
       "    <tr>\n",
       "      <th>3</th>\n",
       "      <td>Port Lands</td>\n",
       "      <td>0</td>\n",
       "      <td>0</td>\n",
       "      <td>0</td>\n",
       "      <td>0</td>\n",
       "      <td>0</td>\n",
       "      <td>0</td>\n",
       "      <td>0</td>\n",
       "      <td>0</td>\n",
       "      <td>0</td>\n",
       "      <td>...</td>\n",
       "      <td>0</td>\n",
       "      <td>0</td>\n",
       "      <td>0</td>\n",
       "      <td>0</td>\n",
       "      <td>0</td>\n",
       "      <td>0</td>\n",
       "      <td>0</td>\n",
       "      <td>0</td>\n",
       "      <td>0</td>\n",
       "      <td>0</td>\n",
       "    </tr>\n",
       "    <tr>\n",
       "      <th>4</th>\n",
       "      <td>Port Lands</td>\n",
       "      <td>0</td>\n",
       "      <td>0</td>\n",
       "      <td>0</td>\n",
       "      <td>0</td>\n",
       "      <td>0</td>\n",
       "      <td>0</td>\n",
       "      <td>0</td>\n",
       "      <td>0</td>\n",
       "      <td>0</td>\n",
       "      <td>...</td>\n",
       "      <td>0</td>\n",
       "      <td>0</td>\n",
       "      <td>0</td>\n",
       "      <td>0</td>\n",
       "      <td>0</td>\n",
       "      <td>0</td>\n",
       "      <td>0</td>\n",
       "      <td>0</td>\n",
       "      <td>0</td>\n",
       "      <td>0</td>\n",
       "    </tr>\n",
       "  </tbody>\n",
       "</table>\n",
       "<p>5 rows × 275 columns</p>\n",
       "</div>"
      ],
      "text/plain": [
       "  Neighborhoods  ATM  Accessories Store  Adult Boutique  Afghan Restaurant  \\\n",
       "0    Port Lands    0                  0               0                  0   \n",
       "1    Port Lands    0                  0               0                  0   \n",
       "2    Port Lands    0                  0               0                  0   \n",
       "3    Port Lands    0                  0               0                  0   \n",
       "4    Port Lands    0                  0               0                  0   \n",
       "\n",
       "   American Restaurant  Animal Shelter  Antique Shop  Arcade  \\\n",
       "0                    0               0             0       0   \n",
       "1                    0               0             0       0   \n",
       "2                    0               0             0       0   \n",
       "3                    0               0             0       0   \n",
       "4                    0               0             0       0   \n",
       "\n",
       "   Arepa Restaurant     ...       Video Store  Vietnamese Restaurant  \\\n",
       "0                 0     ...                 0                      0   \n",
       "1                 0     ...                 0                      0   \n",
       "2                 0     ...                 0                      0   \n",
       "3                 0     ...                 0                      0   \n",
       "4                 0     ...                 0                      0   \n",
       "\n",
       "   Warehouse Store  Waterfront  Whisky Bar  Wine Bar  Wine Shop  Wings Joint  \\\n",
       "0                0           0           0         0          0            0   \n",
       "1                0           0           0         0          0            0   \n",
       "2                0           0           0         0          0            0   \n",
       "3                0           0           0         0          0            0   \n",
       "4                0           0           0         0          0            0   \n",
       "\n",
       "   Women's Store  Yoga Studio  \n",
       "0              0            0  \n",
       "1              0            0  \n",
       "2              0            0  \n",
       "3              0            0  \n",
       "4              0            0  \n",
       "\n",
       "[5 rows x 275 columns]"
      ]
     },
     "execution_count": 50,
     "metadata": {},
     "output_type": "execute_result"
    }
   ],
   "source": [
    "# convert each of the venue category into column by utilizing dummies\n",
    "OCoT_onehot = pd.get_dummies(OCoT_venues[['Venue Category']], prefix=\"\", prefix_sep=\"\")\n",
    "\n",
    "# add neighborhoods column back to dataframe\n",
    "OCoT_onehot['Neighborhoods'] = OCoT_venues['Neighborhood'] \n",
    "\n",
    "# move neighborhood column to the first column\n",
    "fixed_columns = [OCoT_onehot.columns[-1]] + list(OCoT_onehot.columns[:-1])\n",
    "OCoT_onehot = OCoT_onehot[fixed_columns]\n",
    "\n",
    "OCoT_onehot.head()"
   ]
  },
  {
   "cell_type": "markdown",
   "metadata": {},
   "source": [
    "Examine the size for the new dataframe size, it should be 275 columns (274 dummies + neighborhood)"
   ]
  },
  {
   "cell_type": "code",
   "execution_count": 51,
   "metadata": {},
   "outputs": [
    {
     "data": {
      "text/plain": [
       "(1969, 275)"
      ]
     },
     "execution_count": 51,
     "metadata": {},
     "output_type": "execute_result"
    }
   ],
   "source": [
    "OCoT_onehot.shape"
   ]
  },
  {
   "cell_type": "markdown",
   "metadata": {},
   "source": [
    "#### Group rows by neighborhood and take the mean of the frequency of occurrence of each category"
   ]
  },
  {
   "cell_type": "code",
   "execution_count": 52,
   "metadata": {},
   "outputs": [
    {
     "data": {
      "text/html": [
       "<div>\n",
       "<style scoped>\n",
       "    .dataframe tbody tr th:only-of-type {\n",
       "        vertical-align: middle;\n",
       "    }\n",
       "\n",
       "    .dataframe tbody tr th {\n",
       "        vertical-align: top;\n",
       "    }\n",
       "\n",
       "    .dataframe thead th {\n",
       "        text-align: right;\n",
       "    }\n",
       "</style>\n",
       "<table border=\"1\" class=\"dataframe\">\n",
       "  <thead>\n",
       "    <tr style=\"text-align: right;\">\n",
       "      <th></th>\n",
       "      <th>Neighborhoods</th>\n",
       "      <th>ATM</th>\n",
       "      <th>Accessories Store</th>\n",
       "      <th>Adult Boutique</th>\n",
       "      <th>Afghan Restaurant</th>\n",
       "      <th>American Restaurant</th>\n",
       "      <th>Animal Shelter</th>\n",
       "      <th>Antique Shop</th>\n",
       "      <th>Arcade</th>\n",
       "      <th>Arepa Restaurant</th>\n",
       "      <th>...</th>\n",
       "      <th>Video Store</th>\n",
       "      <th>Vietnamese Restaurant</th>\n",
       "      <th>Warehouse Store</th>\n",
       "      <th>Waterfront</th>\n",
       "      <th>Whisky Bar</th>\n",
       "      <th>Wine Bar</th>\n",
       "      <th>Wine Shop</th>\n",
       "      <th>Wings Joint</th>\n",
       "      <th>Women's Store</th>\n",
       "      <th>Yoga Studio</th>\n",
       "    </tr>\n",
       "  </thead>\n",
       "  <tbody>\n",
       "    <tr>\n",
       "      <th>0</th>\n",
       "      <td>Alexandra Park</td>\n",
       "      <td>0.0</td>\n",
       "      <td>0.0</td>\n",
       "      <td>0.0</td>\n",
       "      <td>0.0</td>\n",
       "      <td>0.01</td>\n",
       "      <td>0.0</td>\n",
       "      <td>0.0</td>\n",
       "      <td>0.01</td>\n",
       "      <td>0.02</td>\n",
       "      <td>...</td>\n",
       "      <td>0.0</td>\n",
       "      <td>0.0</td>\n",
       "      <td>0.000000</td>\n",
       "      <td>0.0</td>\n",
       "      <td>0.0</td>\n",
       "      <td>0.01</td>\n",
       "      <td>0.0</td>\n",
       "      <td>0.0</td>\n",
       "      <td>0.0</td>\n",
       "      <td>0.01</td>\n",
       "    </tr>\n",
       "    <tr>\n",
       "      <th>1</th>\n",
       "      <td>Bay Street Corridor</td>\n",
       "      <td>0.0</td>\n",
       "      <td>0.0</td>\n",
       "      <td>0.0</td>\n",
       "      <td>0.0</td>\n",
       "      <td>0.00</td>\n",
       "      <td>0.0</td>\n",
       "      <td>0.0</td>\n",
       "      <td>0.00</td>\n",
       "      <td>0.00</td>\n",
       "      <td>...</td>\n",
       "      <td>0.0</td>\n",
       "      <td>0.0</td>\n",
       "      <td>0.000000</td>\n",
       "      <td>0.0</td>\n",
       "      <td>0.0</td>\n",
       "      <td>0.00</td>\n",
       "      <td>0.0</td>\n",
       "      <td>0.0</td>\n",
       "      <td>0.0</td>\n",
       "      <td>0.00</td>\n",
       "    </tr>\n",
       "    <tr>\n",
       "      <th>2</th>\n",
       "      <td>Bedford Park</td>\n",
       "      <td>0.0</td>\n",
       "      <td>0.0</td>\n",
       "      <td>0.0</td>\n",
       "      <td>0.0</td>\n",
       "      <td>0.00</td>\n",
       "      <td>0.0</td>\n",
       "      <td>0.0</td>\n",
       "      <td>0.00</td>\n",
       "      <td>0.00</td>\n",
       "      <td>...</td>\n",
       "      <td>0.0</td>\n",
       "      <td>0.0</td>\n",
       "      <td>0.000000</td>\n",
       "      <td>0.0</td>\n",
       "      <td>0.0</td>\n",
       "      <td>0.00</td>\n",
       "      <td>0.0</td>\n",
       "      <td>0.0</td>\n",
       "      <td>0.0</td>\n",
       "      <td>0.00</td>\n",
       "    </tr>\n",
       "    <tr>\n",
       "      <th>3</th>\n",
       "      <td>Bloor West Village</td>\n",
       "      <td>0.0</td>\n",
       "      <td>0.0</td>\n",
       "      <td>0.0</td>\n",
       "      <td>0.0</td>\n",
       "      <td>0.00</td>\n",
       "      <td>0.0</td>\n",
       "      <td>0.0</td>\n",
       "      <td>0.00</td>\n",
       "      <td>0.00</td>\n",
       "      <td>...</td>\n",
       "      <td>0.0</td>\n",
       "      <td>0.0</td>\n",
       "      <td>0.000000</td>\n",
       "      <td>0.0</td>\n",
       "      <td>0.0</td>\n",
       "      <td>0.00</td>\n",
       "      <td>0.0</td>\n",
       "      <td>0.0</td>\n",
       "      <td>0.0</td>\n",
       "      <td>0.00</td>\n",
       "    </tr>\n",
       "    <tr>\n",
       "      <th>4</th>\n",
       "      <td>Bracondale Hill</td>\n",
       "      <td>0.0</td>\n",
       "      <td>0.0</td>\n",
       "      <td>0.0</td>\n",
       "      <td>0.0</td>\n",
       "      <td>0.00</td>\n",
       "      <td>0.0</td>\n",
       "      <td>0.0</td>\n",
       "      <td>0.00</td>\n",
       "      <td>0.00</td>\n",
       "      <td>...</td>\n",
       "      <td>0.0</td>\n",
       "      <td>0.0</td>\n",
       "      <td>0.047619</td>\n",
       "      <td>0.0</td>\n",
       "      <td>0.0</td>\n",
       "      <td>0.00</td>\n",
       "      <td>0.0</td>\n",
       "      <td>0.0</td>\n",
       "      <td>0.0</td>\n",
       "      <td>0.00</td>\n",
       "    </tr>\n",
       "  </tbody>\n",
       "</table>\n",
       "<p>5 rows × 275 columns</p>\n",
       "</div>"
      ],
      "text/plain": [
       "         Neighborhoods  ATM  Accessories Store  Adult Boutique  \\\n",
       "0       Alexandra Park  0.0                0.0             0.0   \n",
       "1  Bay Street Corridor  0.0                0.0             0.0   \n",
       "2         Bedford Park  0.0                0.0             0.0   \n",
       "3   Bloor West Village  0.0                0.0             0.0   \n",
       "4      Bracondale Hill  0.0                0.0             0.0   \n",
       "\n",
       "   Afghan Restaurant  American Restaurant  Animal Shelter  Antique Shop  \\\n",
       "0                0.0                 0.01             0.0           0.0   \n",
       "1                0.0                 0.00             0.0           0.0   \n",
       "2                0.0                 0.00             0.0           0.0   \n",
       "3                0.0                 0.00             0.0           0.0   \n",
       "4                0.0                 0.00             0.0           0.0   \n",
       "\n",
       "   Arcade  Arepa Restaurant     ...       Video Store  Vietnamese Restaurant  \\\n",
       "0    0.01              0.02     ...               0.0                    0.0   \n",
       "1    0.00              0.00     ...               0.0                    0.0   \n",
       "2    0.00              0.00     ...               0.0                    0.0   \n",
       "3    0.00              0.00     ...               0.0                    0.0   \n",
       "4    0.00              0.00     ...               0.0                    0.0   \n",
       "\n",
       "   Warehouse Store  Waterfront  Whisky Bar  Wine Bar  Wine Shop  Wings Joint  \\\n",
       "0         0.000000         0.0         0.0      0.01        0.0          0.0   \n",
       "1         0.000000         0.0         0.0      0.00        0.0          0.0   \n",
       "2         0.000000         0.0         0.0      0.00        0.0          0.0   \n",
       "3         0.000000         0.0         0.0      0.00        0.0          0.0   \n",
       "4         0.047619         0.0         0.0      0.00        0.0          0.0   \n",
       "\n",
       "   Women's Store  Yoga Studio  \n",
       "0            0.0         0.01  \n",
       "1            0.0         0.00  \n",
       "2            0.0         0.00  \n",
       "3            0.0         0.00  \n",
       "4            0.0         0.00  \n",
       "\n",
       "[5 rows x 275 columns]"
      ]
     },
     "execution_count": 52,
     "metadata": {},
     "output_type": "execute_result"
    }
   ],
   "source": [
    "OCoT_grouped = OCoT_onehot.groupby('Neighborhoods').mean().reset_index()\n",
    "OCoT_grouped.head()"
   ]
  },
  {
   "cell_type": "markdown",
   "metadata": {},
   "source": [
    "The dataset **OCoT_grouped** contains the frequency of each of the 274 venue categories for each neighborhood in Old City of Toronto. Next, I will explore the most frequent venue categories for each neighborhood."
   ]
  },
  {
   "cell_type": "markdown",
   "metadata": {},
   "source": [
    "#### Confirm the new size"
   ]
  },
  {
   "cell_type": "code",
   "execution_count": 53,
   "metadata": {},
   "outputs": [
    {
     "data": {
      "text/plain": [
       "(58, 275)"
      ]
     },
     "execution_count": 53,
     "metadata": {},
     "output_type": "execute_result"
    }
   ],
   "source": [
    "OCoT_grouped.shape"
   ]
  },
  {
   "cell_type": "markdown",
   "metadata": {},
   "source": [
    "#### Print each neighborhood along with the top 5 most common venues"
   ]
  },
  {
   "cell_type": "code",
   "execution_count": 54,
   "metadata": {},
   "outputs": [
    {
     "name": "stdout",
     "output_type": "stream",
     "text": [
      "-------Alexandra Park-------\n",
      "                           venue  freq\n",
      "0                            Bar  0.10\n",
      "1                           Café  0.05\n",
      "2             Italian Restaurant  0.05\n",
      "3  Vegetarian / Vegan Restaurant  0.03\n",
      "4         Furniture / Home Store  0.03\n",
      "\n",
      "\n",
      "-------Bay Street Corridor-------\n",
      "                  venue  freq\n",
      "0        Sandwich Place  0.12\n",
      "1                  Café  0.12\n",
      "2           Coffee Shop  0.12\n",
      "3  Fast Food Restaurant  0.06\n",
      "4       Thai Restaurant  0.06\n",
      "\n",
      "\n",
      "-------Bedford Park-------\n",
      "                        venue  freq\n",
      "0  Construction & Landscaping   0.5\n",
      "1        Gym / Fitness Center   0.5\n",
      "2           Outdoor Sculpture   0.0\n",
      "3             Organic Grocery   0.0\n",
      "4                Optical Shop   0.0\n",
      "\n",
      "\n",
      "-------Bloor West Village-------\n",
      "              venue  freq\n",
      "0       Coffee Shop  0.10\n",
      "1              Café  0.08\n",
      "2             Diner  0.05\n",
      "3       Pizza Place  0.05\n",
      "4  Sushi Restaurant  0.05\n",
      "\n",
      "\n",
      "-------Bracondale Hill-------\n",
      "                venue  freq\n",
      "0  Chinese Restaurant  0.10\n",
      "1                 Pub  0.10\n",
      "2          Restaurant  0.10\n",
      "3       Grocery Store  0.05\n",
      "4         Coffee Shop  0.05\n",
      "\n",
      "\n",
      "-------Brockton-------\n",
      "             venue  freq\n",
      "0       Donut Shop  0.25\n",
      "1      Pizza Place  0.12\n",
      "2           Lounge  0.12\n",
      "3              Pub  0.12\n",
      "4  Automotive Shop  0.12\n",
      "\n",
      "\n",
      "-------Cabbagetown-------\n",
      "                venue  freq\n",
      "0          Restaurant  0.11\n",
      "1                Café  0.07\n",
      "2   Indian Restaurant  0.06\n",
      "3         Coffee Shop  0.06\n",
      "4  Italian Restaurant  0.04\n",
      "\n",
      "\n",
      "-------Carleton Village-------\n",
      "           venue  freq\n",
      "0     Playground  0.25\n",
      "1  Jewelry Store  0.25\n",
      "2           Park  0.25\n",
      "3        Dog Run  0.25\n",
      "4      Piano Bar  0.00\n",
      "\n",
      "\n",
      "-------Casa Loma-------\n",
      "            venue  freq\n",
      "0     Coffee Shop  0.12\n",
      "1  Sandwich Place  0.12\n",
      "2  History Museum  0.08\n",
      "3            Café  0.08\n",
      "4  Cosmetics Shop  0.04\n",
      "\n",
      "\n",
      "-------Chaplin Estates-------\n",
      "                  venue  freq\n",
      "0    Italian Restaurant  0.14\n",
      "1            Restaurant  0.10\n",
      "2           Pizza Place  0.05\n",
      "3   Arts & Crafts Store  0.05\n",
      "4  Gym / Fitness Center  0.05\n",
      "\n",
      "\n",
      "-------Christie Pits-------\n",
      "               venue  freq\n",
      "0  Indian Restaurant  0.15\n",
      "1               Café  0.15\n",
      "2      Grocery Store  0.15\n",
      "3               Park  0.08\n",
      "4          Nightclub  0.08\n",
      "\n",
      "\n",
      "-------Church and Wellesley-------\n",
      "                 venue  freq\n",
      "0          Coffee Shop  0.08\n",
      "1  Japanese Restaurant  0.06\n",
      "2     Sushi Restaurant  0.05\n",
      "3              Gay Bar  0.04\n",
      "4         Burger Joint  0.04\n",
      "\n",
      "\n",
      "-------Corktown-------\n",
      "                  venue  freq\n",
      "0           Coffee Shop  0.24\n",
      "1                  Park  0.10\n",
      "2                   Pub  0.07\n",
      "3  Gym / Fitness Center  0.07\n",
      "4                 Hotel  0.03\n",
      "\n",
      "\n",
      "-------Davenport-------\n",
      "                 venue  freq\n",
      "0  American Restaurant  0.19\n",
      "1                  Pub  0.07\n",
      "2                Hotel  0.05\n",
      "3                  Bar  0.05\n",
      "4          Music Venue  0.05\n",
      "\n",
      "\n",
      "-------Davisville-------\n",
      "                venue  freq\n",
      "0        Dessert Shop  0.10\n",
      "1      Sandwich Place  0.10\n",
      "2         Pizza Place  0.06\n",
      "3            Pharmacy  0.06\n",
      "4  Italian Restaurant  0.06\n",
      "\n",
      "\n",
      "-------Deer Park-------\n",
      "               venue  freq\n",
      "0  Convenience Store  0.12\n",
      "1             Lawyer  0.12\n",
      "2        Pizza Place  0.12\n",
      "3        Coffee Shop  0.12\n",
      "4     Clothing Store  0.12\n",
      "\n",
      "\n",
      "-------Discovery District-------\n",
      "                 venue  freq\n",
      "0          Coffee Shop  0.18\n",
      "1                 Café  0.10\n",
      "2   Chinese Restaurant  0.06\n",
      "3          Art Gallery  0.04\n",
      "4  Japanese Restaurant  0.04\n",
      "\n",
      "\n",
      "-------Dovercourt Park-------\n",
      "         venue  freq\n",
      "0         Café  0.33\n",
      "1          Bar  0.17\n",
      "2         Park  0.17\n",
      "3  Coffee Shop  0.17\n",
      "4     Bus Line  0.17\n",
      "\n",
      "\n",
      "-------Dufferin Grove-------\n",
      "                venue  freq\n",
      "0         Coffee Shop  0.11\n",
      "1                 Bar  0.11\n",
      "2  Italian Restaurant  0.05\n",
      "3          Restaurant  0.05\n",
      "4              Bakery  0.05\n",
      "\n",
      "\n",
      "-------Earlscourt-------\n",
      "                venue  freq\n",
      "0  Italian Restaurant  0.20\n",
      "1              Bakery  0.10\n",
      "2      Breakfast Spot  0.05\n",
      "3         Pizza Place  0.05\n",
      "4             Dog Run  0.05\n",
      "\n",
      "\n",
      "-------East Danforth-------\n",
      "           venue  freq\n",
      "0       Bus Line  0.07\n",
      "1   Optical Shop  0.07\n",
      "2    Coffee Shop  0.07\n",
      "3    Pizza Place  0.04\n",
      "4  Train Station  0.04\n",
      "\n",
      "\n",
      "-------Fashion District-------\n",
      "                venue  freq\n",
      "0          Restaurant  0.08\n",
      "1         Coffee Shop  0.07\n",
      "2  Italian Restaurant  0.06\n",
      "3               Hotel  0.03\n",
      "4      Sandwich Place  0.03\n",
      "\n",
      "\n",
      "-------Financial District-------\n",
      "                 venue  freq\n",
      "0          Coffee Shop  0.10\n",
      "1                Hotel  0.08\n",
      "2                 Café  0.07\n",
      "3           Restaurant  0.05\n",
      "4  American Restaurant  0.04\n",
      "\n",
      "\n",
      "-------Forest Hill-------\n",
      "          venue  freq\n",
      "0  Home Service   0.4\n",
      "1    Playground   0.2\n",
      "2          Park   0.2\n",
      "3          Bank   0.2\n",
      "4        Museum   0.0\n",
      "\n",
      "\n",
      "-------Garden District-------\n",
      "                    venue  freq\n",
      "0             Coffee Shop  0.13\n",
      "1           Historic Site  0.07\n",
      "2  Furniture / Home Store  0.07\n",
      "3              Public Art  0.07\n",
      "4                  Lounge  0.03\n",
      "\n",
      "\n",
      "-------Grange Park-------\n",
      "                  venue  freq\n",
      "0    Italian Restaurant  0.22\n",
      "1     Convenience Store  0.11\n",
      "2    Chinese Restaurant  0.11\n",
      "3            Restaurant  0.11\n",
      "4  Gym / Fitness Center  0.11\n",
      "\n",
      "\n",
      "-------Harbord Village-------\n",
      "              venue  freq\n",
      "0  Sushi Restaurant  0.08\n",
      "1        Restaurant  0.08\n",
      "2       Coffee Shop  0.05\n",
      "3              Park  0.05\n",
      "4          Beer Bar  0.05\n",
      "\n",
      "\n",
      "-------Harbourfront / CityPlace-------\n",
      "                venue  freq\n",
      "0         Coffee Shop  0.05\n",
      "1        Cocktail Bar  0.05\n",
      "2               Hotel  0.04\n",
      "3  Italian Restaurant  0.04\n",
      "4   French Restaurant  0.04\n",
      "\n",
      "\n",
      "-------High Park North-------\n",
      "             venue  freq\n",
      "0            Trail   1.0\n",
      "1              ATM   0.0\n",
      "2  Other Nightlife   0.0\n",
      "3     Optical Shop   0.0\n",
      "4           Office   0.0\n",
      "\n",
      "\n",
      "-------Junction Triangle-------\n",
      "                venue  freq\n",
      "0       Grocery Store   0.4\n",
      "1  Mexican Restaurant   0.2\n",
      "2      Discount Store   0.2\n",
      "3      Sandwich Place   0.2\n",
      "4                 ATM   0.0\n",
      "\n",
      "\n",
      "-------Kensington Market-------\n",
      "                           venue  freq\n",
      "0                           Café  0.09\n",
      "1                            Bar  0.08\n",
      "2  Vegetarian / Vegan Restaurant  0.06\n",
      "3                         Bakery  0.04\n",
      "4          Vietnamese Restaurant  0.04\n",
      "\n",
      "\n",
      "-------Lawrence Park-------\n",
      "                venue  freq\n",
      "0  Italian Restaurant  0.07\n",
      "1         Coffee Shop  0.07\n",
      "2    Sushi Restaurant  0.07\n",
      "3              Bakery  0.07\n",
      "4    Asian Restaurant  0.04\n",
      "\n",
      "\n",
      "-------Leslieville-------\n",
      "                  venue  freq\n",
      "0                Bakery  0.08\n",
      "1                 Diner  0.06\n",
      "2           Coffee Shop  0.06\n",
      "3  Fast Food Restaurant  0.04\n",
      "4         Grocery Store  0.04\n",
      "\n",
      "\n",
      "-------Little Italy-------\n",
      "                venue  freq\n",
      "0                 Bar  0.09\n",
      "1  Italian Restaurant  0.09\n",
      "2                Café  0.06\n",
      "3      Sandwich Place  0.05\n",
      "4                 Pub  0.03\n",
      "\n",
      "\n",
      "-------Little Portugal-------\n",
      "                   venue  freq\n",
      "0  Vietnamese Restaurant  0.17\n",
      "1     Mexican Restaurant  0.17\n",
      "2  Portuguese Restaurant  0.17\n",
      "3      Convenience Store  0.08\n",
      "4            Fish Market  0.08\n",
      "\n",
      "\n",
      "-------Lytton Park-------\n",
      "        venue  freq\n",
      "0  Playground  0.33\n",
      "1  Restaurant  0.33\n",
      "2      Garden  0.33\n",
      "3   Multiplex  0.00\n",
      "4      Museum  0.00\n",
      "\n",
      "\n",
      "-------Moore Park-------\n",
      "                 venue  freq\n",
      "0                 Park  0.09\n",
      "1       Farmers Market  0.09\n",
      "2          Event Space  0.09\n",
      "3            Multiplex  0.04\n",
      "4  Fried Chicken Joint  0.04\n",
      "\n",
      "\n",
      "-------Niagara-------\n",
      "                     venue  freq\n",
      "0                     Farm   1.0\n",
      "1             Neighborhood   0.0\n",
      "2             Optical Shop   0.0\n",
      "3                   Office   0.0\n",
      "4  North Indian Restaurant   0.0\n",
      "\n",
      "\n",
      "-------Parkdale-------\n",
      "                venue  freq\n",
      "0               Diner  0.08\n",
      "1                Café  0.08\n",
      "2  Tibetan Restaurant  0.08\n",
      "3         Pizza Place  0.05\n",
      "4   Indian Restaurant  0.05\n",
      "\n",
      "\n",
      "-------Port Lands-------\n",
      "                venue  freq\n",
      "0              Circus  0.12\n",
      "1         Music Venue  0.12\n",
      "2     Harbor / Marina  0.12\n",
      "3      Soccer Stadium  0.06\n",
      "4  Athletics & Sports  0.06\n",
      "\n",
      "\n",
      "-------Regal Heights-------\n",
      "              venue  freq\n",
      "0        Lighthouse   0.2\n",
      "1        Playground   0.2\n",
      "2       Flea Market   0.2\n",
      "3  Basketball Court   0.2\n",
      "4       Beer Garden   0.2\n",
      "\n",
      "\n",
      "-------Roncesvalles-------\n",
      "                venue  freq\n",
      "0               Hotel   0.2\n",
      "1              Church   0.2\n",
      "2                 Bar   0.2\n",
      "3  Spanish Restaurant   0.2\n",
      "4              Hostel   0.2\n",
      "\n",
      "\n",
      "-------Rosedale-------\n",
      "                     venue  freq\n",
      "0            Grocery Store   0.5\n",
      "1              Coffee Shop   0.5\n",
      "2                      ATM   0.0\n",
      "3  New American Restaurant   0.0\n",
      "4             Optical Shop   0.0\n",
      "\n",
      "\n",
      "-------Seaton Village-------\n",
      "                           venue  freq\n",
      "0                  Grocery Store  0.15\n",
      "1                          Diner  0.07\n",
      "2                           Park  0.07\n",
      "3  Vegetarian / Vegan Restaurant  0.07\n",
      "4                    Coffee Shop  0.07\n",
      "\n",
      "\n",
      "-------South Hill-------\n",
      "                 venue  freq\n",
      "0               Bakery  0.25\n",
      "1  American Restaurant  0.25\n",
      "2       Discount Store  0.25\n",
      "3                Diner  0.25\n",
      "4         Noodle House  0.00\n",
      "\n",
      "\n",
      "-------St. James Town-------\n",
      "               venue  freq\n",
      "0        Coffee Shop  0.12\n",
      "1        Pizza Place  0.09\n",
      "2  Indian Restaurant  0.06\n",
      "3               Café  0.06\n",
      "4         Restaurant  0.06\n",
      "\n",
      "\n",
      "-------Summerhill-------\n",
      "                     venue  freq\n",
      "0                      Bar  0.67\n",
      "1               Playground  0.33\n",
      "2                      ATM  0.00\n",
      "3  New American Restaurant  0.00\n",
      "4             Optical Shop  0.00\n",
      "\n",
      "\n",
      "-------Swansea-------\n",
      "            venue  freq\n",
      "0             Pub  0.07\n",
      "1     Coffee Shop  0.07\n",
      "2  Clothing Store  0.07\n",
      "3   Grocery Store  0.05\n",
      "4            Café  0.05\n",
      "\n",
      "\n",
      "-------The Annex-------\n",
      "            venue  freq\n",
      "0     Pizza Place  0.09\n",
      "1            Park  0.07\n",
      "2     Coffee Shop  0.07\n",
      "3  Ice Cream Shop  0.05\n",
      "4   Grocery Store  0.05\n",
      "\n",
      "\n",
      "-------The Beaches-------\n",
      "                 venue  freq\n",
      "0                Beach  0.06\n",
      "1  Japanese Restaurant  0.04\n",
      "2                  Bar  0.04\n",
      "3      Thai Restaurant  0.04\n",
      "4               Bakery  0.04\n",
      "\n",
      "\n",
      "-------The Danforth-------\n",
      "           venue  freq\n",
      "0       Bus Line  0.07\n",
      "1   Optical Shop  0.07\n",
      "2    Coffee Shop  0.07\n",
      "3    Pizza Place  0.04\n",
      "4  Train Station  0.04\n",
      "\n",
      "\n",
      "-------The Junction-------\n",
      "                venue  freq\n",
      "0  Italian Restaurant  0.07\n",
      "1                 Bar  0.07\n",
      "2         Coffee Shop  0.07\n",
      "3                Café  0.05\n",
      "4              Bakery  0.05\n",
      "\n",
      "\n",
      "-------Toronto Islands-------\n",
      "                 venue  freq\n",
      "0                 Farm   0.2\n",
      "1  American Restaurant   0.2\n",
      "2                Beach   0.2\n",
      "3          Beer Garden   0.2\n",
      "4       Scenic Lookout   0.2\n",
      "\n",
      "\n",
      "-------Trinity–Bellwoods-------\n",
      "          venue  freq\n",
      "0        Bakery  0.05\n",
      "1  Cocktail Bar  0.05\n",
      "2          Café  0.05\n",
      "3   Coffee Shop  0.04\n",
      "4    Restaurant  0.04\n",
      "\n",
      "\n",
      "-------Upper Beaches-------\n",
      "                 venue  freq\n",
      "0                Beach  0.06\n",
      "1  Japanese Restaurant  0.04\n",
      "2                  Bar  0.04\n",
      "3      Thai Restaurant  0.04\n",
      "4               Bakery  0.04\n",
      "\n",
      "\n",
      "-------Wallace Emerson-------\n",
      "                   venue  freq\n",
      "0  Portuguese Restaurant  0.09\n",
      "1            Supermarket  0.09\n",
      "2               Pharmacy  0.09\n",
      "3                    Gym  0.09\n",
      "4            Coffee Shop  0.09\n",
      "\n",
      "\n",
      "-------Wychwood-------\n",
      "                  venue  freq\n",
      "0  Fast Food Restaurant   1.0\n",
      "1                   ATM   0.0\n",
      "2          Neighborhood   0.0\n",
      "3          Optical Shop   0.0\n",
      "4                Office   0.0\n",
      "\n",
      "\n",
      "-------Yorkville-------\n",
      "               venue  freq\n",
      "0        Coffee Shop  0.06\n",
      "1               Café  0.06\n",
      "2           Boutique  0.05\n",
      "3  French Restaurant  0.04\n",
      "4         Restaurant  0.04\n",
      "\n",
      "\n"
     ]
    }
   ],
   "source": [
    "num_top_venues = 5\n",
    "for hood in OCoT_grouped['Neighborhoods']:\n",
    "    print(\"-------\"+hood+\"-------\")\n",
    "    temp = OCoT_grouped[OCoT_grouped['Neighborhoods'] == hood].T.reset_index()\n",
    "    temp.columns = ['venue','freq']\n",
    "    temp = temp.loc[1:]\n",
    "    temp['freq'] = temp['freq'].astype(float)\n",
    "    temp = temp.round({'freq': 2})\n",
    "    print(temp.sort_values(by = ['freq'], ascending=False).reset_index(drop=True).head(num_top_venues))\n",
    "#    print(\"\")\n",
    "    print('\\n')"
   ]
  },
  {
   "cell_type": "markdown",
   "metadata": {},
   "source": [
    "#### Put the neighborhood along with the top 5 most common venues into a *pandas* dataframe"
   ]
  },
  {
   "cell_type": "markdown",
   "metadata": {},
   "source": [
    "First, write a function to sort the venues in descending order."
   ]
  },
  {
   "cell_type": "code",
   "execution_count": 78,
   "metadata": {},
   "outputs": [],
   "source": [
    "def return_most_common_venues(row, num_top_venues):\n",
    "    row_categories = row.iloc[1:]\n",
    "    row_categories_sorted = row_categories.sort_values(ascending=False)\n",
    "    \n",
    "    return row_categories_sorted.index.values[0:num_top_venues]"
   ]
  },
  {
   "cell_type": "markdown",
   "metadata": {},
   "source": [
    "Now let's create the new dataframe and display the top 10 venues for each neighborhood."
   ]
  },
  {
   "cell_type": "code",
   "execution_count": 56,
   "metadata": {},
   "outputs": [
    {
     "data": {
      "text/html": [
       "<div>\n",
       "<style scoped>\n",
       "    .dataframe tbody tr th:only-of-type {\n",
       "        vertical-align: middle;\n",
       "    }\n",
       "\n",
       "    .dataframe tbody tr th {\n",
       "        vertical-align: top;\n",
       "    }\n",
       "\n",
       "    .dataframe thead th {\n",
       "        text-align: right;\n",
       "    }\n",
       "</style>\n",
       "<table border=\"1\" class=\"dataframe\">\n",
       "  <thead>\n",
       "    <tr style=\"text-align: right;\">\n",
       "      <th></th>\n",
       "      <th>Neighborhoods</th>\n",
       "      <th>1st Most Common Venue</th>\n",
       "      <th>2nd Most Common Venue</th>\n",
       "      <th>3rd Most Common Venue</th>\n",
       "      <th>4th Most Common Venue</th>\n",
       "      <th>5th Most Common Venue</th>\n",
       "      <th>6th Most Common Venue</th>\n",
       "      <th>7th Most Common Venue</th>\n",
       "      <th>8th Most Common Venue</th>\n",
       "      <th>9th Most Common Venue</th>\n",
       "      <th>10th Most Common Venue</th>\n",
       "    </tr>\n",
       "  </thead>\n",
       "  <tbody>\n",
       "    <tr>\n",
       "      <th>0</th>\n",
       "      <td>Alexandra Park</td>\n",
       "      <td>Bar</td>\n",
       "      <td>Italian Restaurant</td>\n",
       "      <td>Café</td>\n",
       "      <td>Vegetarian / Vegan Restaurant</td>\n",
       "      <td>Restaurant</td>\n",
       "      <td>Furniture / Home Store</td>\n",
       "      <td>Coffee Shop</td>\n",
       "      <td>Dessert Shop</td>\n",
       "      <td>Nightclub</td>\n",
       "      <td>Filipino Restaurant</td>\n",
       "    </tr>\n",
       "    <tr>\n",
       "      <th>1</th>\n",
       "      <td>Bay Street Corridor</td>\n",
       "      <td>Sandwich Place</td>\n",
       "      <td>Café</td>\n",
       "      <td>Coffee Shop</td>\n",
       "      <td>Pharmacy</td>\n",
       "      <td>Grocery Store</td>\n",
       "      <td>Fast Food Restaurant</td>\n",
       "      <td>Liquor Store</td>\n",
       "      <td>Bus Stop</td>\n",
       "      <td>Bank</td>\n",
       "      <td>Donut Shop</td>\n",
       "    </tr>\n",
       "    <tr>\n",
       "      <th>2</th>\n",
       "      <td>Bedford Park</td>\n",
       "      <td>Construction &amp; Landscaping</td>\n",
       "      <td>Gym / Fitness Center</td>\n",
       "      <td>Dog Run</td>\n",
       "      <td>Donut Shop</td>\n",
       "      <td>Dumpling Restaurant</td>\n",
       "      <td>Eastern European Restaurant</td>\n",
       "      <td>Electronics Store</td>\n",
       "      <td>Ethiopian Restaurant</td>\n",
       "      <td>Event Space</td>\n",
       "      <td>Exhibit</td>\n",
       "    </tr>\n",
       "    <tr>\n",
       "      <th>3</th>\n",
       "      <td>Bloor West Village</td>\n",
       "      <td>Coffee Shop</td>\n",
       "      <td>Café</td>\n",
       "      <td>Sushi Restaurant</td>\n",
       "      <td>Diner</td>\n",
       "      <td>Pizza Place</td>\n",
       "      <td>Food</td>\n",
       "      <td>Scenic Lookout</td>\n",
       "      <td>Latin American Restaurant</td>\n",
       "      <td>French Restaurant</td>\n",
       "      <td>Pub</td>\n",
       "    </tr>\n",
       "    <tr>\n",
       "      <th>4</th>\n",
       "      <td>Bracondale Hill</td>\n",
       "      <td>Chinese Restaurant</td>\n",
       "      <td>Restaurant</td>\n",
       "      <td>Pub</td>\n",
       "      <td>Coffee Shop</td>\n",
       "      <td>Soccer Field</td>\n",
       "      <td>Convenience Store</td>\n",
       "      <td>Café</td>\n",
       "      <td>Rock Club</td>\n",
       "      <td>Mobile Phone Shop</td>\n",
       "      <td>Baby Store</td>\n",
       "    </tr>\n",
       "  </tbody>\n",
       "</table>\n",
       "</div>"
      ],
      "text/plain": [
       "         Neighborhoods       1st Most Common Venue 2nd Most Common Venue  \\\n",
       "0       Alexandra Park                         Bar    Italian Restaurant   \n",
       "1  Bay Street Corridor              Sandwich Place                  Café   \n",
       "2         Bedford Park  Construction & Landscaping  Gym / Fitness Center   \n",
       "3   Bloor West Village                 Coffee Shop                  Café   \n",
       "4      Bracondale Hill          Chinese Restaurant            Restaurant   \n",
       "\n",
       "  3rd Most Common Venue          4th Most Common Venue 5th Most Common Venue  \\\n",
       "0                  Café  Vegetarian / Vegan Restaurant            Restaurant   \n",
       "1           Coffee Shop                       Pharmacy         Grocery Store   \n",
       "2               Dog Run                     Donut Shop   Dumpling Restaurant   \n",
       "3      Sushi Restaurant                          Diner           Pizza Place   \n",
       "4                   Pub                    Coffee Shop          Soccer Field   \n",
       "\n",
       "         6th Most Common Venue 7th Most Common Venue  \\\n",
       "0       Furniture / Home Store           Coffee Shop   \n",
       "1         Fast Food Restaurant          Liquor Store   \n",
       "2  Eastern European Restaurant     Electronics Store   \n",
       "3                         Food        Scenic Lookout   \n",
       "4            Convenience Store                  Café   \n",
       "\n",
       "       8th Most Common Venue 9th Most Common Venue 10th Most Common Venue  \n",
       "0               Dessert Shop             Nightclub    Filipino Restaurant  \n",
       "1                   Bus Stop                  Bank             Donut Shop  \n",
       "2       Ethiopian Restaurant           Event Space                Exhibit  \n",
       "3  Latin American Restaurant     French Restaurant                    Pub  \n",
       "4                  Rock Club     Mobile Phone Shop             Baby Store  "
      ]
     },
     "execution_count": 56,
     "metadata": {},
     "output_type": "execute_result"
    }
   ],
   "source": [
    "num_top_venues = 10\n",
    "\n",
    "indicators = ['st', 'nd', 'rd']\n",
    "\n",
    "# create columns according to number of top venues\n",
    "columns = ['Neighborhoods']\n",
    "for ind in np.arange(num_top_venues):\n",
    "    try:\n",
    "        columns.append('{}{} Most Common Venue'.format(ind+1, indicators[ind]))\n",
    "    except:\n",
    "        columns.append('{}th Most Common Venue'.format(ind+1))\n",
    "\n",
    "# create a new dataframe\n",
    "neighborhoods_venues_sorted = pd.DataFrame(columns=columns)\n",
    "neighborhoods_venues_sorted['Neighborhoods'] = OCoT_grouped['Neighborhoods']\n",
    "\n",
    "for ind in np.arange(OCoT_grouped.shape[0]):\n",
    "    neighborhoods_venues_sorted.iloc[ind, 1:] = return_most_common_venues(OCoT_grouped.iloc[ind, :], num_top_venues)\n",
    "\n",
    "neighborhoods_venues_sorted.head()"
   ]
  },
  {
   "cell_type": "code",
   "execution_count": 57,
   "metadata": {},
   "outputs": [
    {
     "data": {
      "text/plain": [
       "Coffee Shop           12\n",
       "Café                   4\n",
       "Italian Restaurant     4\n",
       "Name: 1st Most Common Venue, dtype: int64"
      ]
     },
     "execution_count": 57,
     "metadata": {},
     "output_type": "execute_result"
    }
   ],
   "source": [
    "neighborhoods_venues_sorted['1st Most Common Venue'].value_counts()[0:3]"
   ]
  },
  {
   "cell_type": "code",
   "execution_count": 58,
   "metadata": {},
   "outputs": [
    {
     "data": {
      "text/plain": [
       "Coffee Shop    8\n",
       "Café           5\n",
       "Bar            4\n",
       "Name: 2nd Most Common Venue, dtype: int64"
      ]
     },
     "execution_count": 58,
     "metadata": {},
     "output_type": "execute_result"
    }
   ],
   "source": [
    "neighborhoods_venues_sorted['2nd Most Common Venue'].value_counts()[0:3]"
   ]
  },
  {
   "cell_type": "code",
   "execution_count": 59,
   "metadata": {},
   "outputs": [
    {
     "data": {
      "text/plain": [
       "Coffee Shop          5\n",
       "Café                 4\n",
       "Indian Restaurant    4\n",
       "Name: 3rd Most Common Venue, dtype: int64"
      ]
     },
     "execution_count": 59,
     "metadata": {},
     "output_type": "execute_result"
    }
   ],
   "source": [
    "neighborhoods_venues_sorted['3rd Most Common Venue'].value_counts()[0:3]"
   ]
  },
  {
   "cell_type": "markdown",
   "metadata": {},
   "source": [
    "From the output above, the 'Coffee Shop' counts first for the first 3 most common venue categories."
   ]
  },
  {
   "cell_type": "markdown",
   "metadata": {},
   "source": [
    "## 4. Cluster Neighborhoods"
   ]
  },
  {
   "cell_type": "markdown",
   "metadata": {},
   "source": [
    "Run *k*-means to cluster the neighborhood in Old City of Toronto into 5 clusters."
   ]
  },
  {
   "cell_type": "code",
   "execution_count": 60,
   "metadata": {},
   "outputs": [
    {
     "data": {
      "text/plain": [
       "array([0, 0, 0, 0, 0, 0, 0, 0, 0, 0], dtype=int32)"
      ]
     },
     "execution_count": 60,
     "metadata": {},
     "output_type": "execute_result"
    }
   ],
   "source": [
    "# set number of clusters\n",
    "kclusters = 5\n",
    "\n",
    "OCoT_grouped_clustering = OCoT_grouped.drop('Neighborhoods', axis = 1)\n",
    "\n",
    "# run k-means clustering\n",
    "kmeans = KMeans(n_clusters=kclusters, random_state=0).fit(OCoT_grouped_clustering)\n",
    "\n",
    "# check cluster labels generated for each row in the dataframe\n",
    "kmeans.labels_[0:10] "
   ]
  },
  {
   "cell_type": "markdown",
   "metadata": {},
   "source": [
    "Now the neighborhoods are clustered into five groups based on their characterisitcs, the frequency of the venue categories here. "
   ]
  },
  {
   "cell_type": "markdown",
   "metadata": {},
   "source": [
    "Create a new dataframe that includes the cluster as well as the top 10 venues for each neighborhood."
   ]
  },
  {
   "cell_type": "code",
   "execution_count": 61,
   "metadata": {},
   "outputs": [
    {
     "data": {
      "text/html": [
       "<div>\n",
       "<style scoped>\n",
       "    .dataframe tbody tr th:only-of-type {\n",
       "        vertical-align: middle;\n",
       "    }\n",
       "\n",
       "    .dataframe tbody tr th {\n",
       "        vertical-align: top;\n",
       "    }\n",
       "\n",
       "    .dataframe thead th {\n",
       "        text-align: right;\n",
       "    }\n",
       "</style>\n",
       "<table border=\"1\" class=\"dataframe\">\n",
       "  <thead>\n",
       "    <tr style=\"text-align: right;\">\n",
       "      <th></th>\n",
       "      <th>Name</th>\n",
       "      <th>FM</th>\n",
       "      <th>Full_FM</th>\n",
       "      <th>Latitude</th>\n",
       "      <th>Longitude</th>\n",
       "      <th>Cluster Labels</th>\n",
       "      <th>1st Most Common Venue</th>\n",
       "      <th>2nd Most Common Venue</th>\n",
       "      <th>3rd Most Common Venue</th>\n",
       "      <th>4th Most Common Venue</th>\n",
       "      <th>5th Most Common Venue</th>\n",
       "      <th>6th Most Common Venue</th>\n",
       "      <th>7th Most Common Venue</th>\n",
       "      <th>8th Most Common Venue</th>\n",
       "      <th>9th Most Common Venue</th>\n",
       "      <th>10th Most Common Venue</th>\n",
       "    </tr>\n",
       "  </thead>\n",
       "  <tbody>\n",
       "    <tr>\n",
       "      <th>0</th>\n",
       "      <td>Port Lands</td>\n",
       "      <td>OCoT</td>\n",
       "      <td>Old City of Toronto</td>\n",
       "      <td>43.643065</td>\n",
       "      <td>-79.350601</td>\n",
       "      <td>0.0</td>\n",
       "      <td>Music Venue</td>\n",
       "      <td>Harbor / Marina</td>\n",
       "      <td>Circus</td>\n",
       "      <td>Racetrack</td>\n",
       "      <td>Pool</td>\n",
       "      <td>Supermarket</td>\n",
       "      <td>Theater</td>\n",
       "      <td>BBQ Joint</td>\n",
       "      <td>Athletics &amp; Sports</td>\n",
       "      <td>Golf Driving Range</td>\n",
       "    </tr>\n",
       "    <tr>\n",
       "      <th>1</th>\n",
       "      <td>Toronto Islands</td>\n",
       "      <td>OCoT</td>\n",
       "      <td>Old City of Toronto</td>\n",
       "      <td>43.616196</td>\n",
       "      <td>-79.369358</td>\n",
       "      <td>0.0</td>\n",
       "      <td>Beer Garden</td>\n",
       "      <td>Scenic Lookout</td>\n",
       "      <td>American Restaurant</td>\n",
       "      <td>Beach</td>\n",
       "      <td>Farm</td>\n",
       "      <td>Yoga Studio</td>\n",
       "      <td>Eastern European Restaurant</td>\n",
       "      <td>Electronics Store</td>\n",
       "      <td>Ethiopian Restaurant</td>\n",
       "      <td>Event Space</td>\n",
       "    </tr>\n",
       "    <tr>\n",
       "      <th>2</th>\n",
       "      <td>Parkdale</td>\n",
       "      <td>OCoT</td>\n",
       "      <td>Old City of Toronto</td>\n",
       "      <td>43.637178</td>\n",
       "      <td>-79.436004</td>\n",
       "      <td>0.0</td>\n",
       "      <td>Tibetan Restaurant</td>\n",
       "      <td>Café</td>\n",
       "      <td>Diner</td>\n",
       "      <td>Pizza Place</td>\n",
       "      <td>Bar</td>\n",
       "      <td>Indian Restaurant</td>\n",
       "      <td>Pharmacy</td>\n",
       "      <td>Lake</td>\n",
       "      <td>Bank</td>\n",
       "      <td>Gastropub</td>\n",
       "    </tr>\n",
       "    <tr>\n",
       "      <th>3</th>\n",
       "      <td>Niagara</td>\n",
       "      <td>OCoT</td>\n",
       "      <td>Old City of Toronto</td>\n",
       "      <td>43.063189</td>\n",
       "      <td>-79.309809</td>\n",
       "      <td>0.0</td>\n",
       "      <td>Farm</td>\n",
       "      <td>Yoga Studio</td>\n",
       "      <td>Exhibit</td>\n",
       "      <td>Donut Shop</td>\n",
       "      <td>Dumpling Restaurant</td>\n",
       "      <td>Eastern European Restaurant</td>\n",
       "      <td>Electronics Store</td>\n",
       "      <td>Ethiopian Restaurant</td>\n",
       "      <td>Event Space</td>\n",
       "      <td>Falafel Restaurant</td>\n",
       "    </tr>\n",
       "    <tr>\n",
       "      <th>4</th>\n",
       "      <td>Fashion District</td>\n",
       "      <td>OCoT</td>\n",
       "      <td>Old City of Toronto</td>\n",
       "      <td>43.645456</td>\n",
       "      <td>-79.394994</td>\n",
       "      <td>0.0</td>\n",
       "      <td>Restaurant</td>\n",
       "      <td>Coffee Shop</td>\n",
       "      <td>Italian Restaurant</td>\n",
       "      <td>Sandwich Place</td>\n",
       "      <td>French Restaurant</td>\n",
       "      <td>Hotel</td>\n",
       "      <td>Beer Bar</td>\n",
       "      <td>Steakhouse</td>\n",
       "      <td>Bar</td>\n",
       "      <td>Speakeasy</td>\n",
       "    </tr>\n",
       "  </tbody>\n",
       "</table>\n",
       "</div>"
      ],
      "text/plain": [
       "               Name    FM              Full_FM   Latitude  Longitude  \\\n",
       "0        Port Lands  OCoT  Old City of Toronto  43.643065 -79.350601   \n",
       "1   Toronto Islands  OCoT  Old City of Toronto  43.616196 -79.369358   \n",
       "2          Parkdale  OCoT  Old City of Toronto  43.637178 -79.436004   \n",
       "3           Niagara  OCoT  Old City of Toronto  43.063189 -79.309809   \n",
       "4  Fashion District  OCoT  Old City of Toronto  43.645456 -79.394994   \n",
       "\n",
       "   Cluster Labels 1st Most Common Venue 2nd Most Common Venue  \\\n",
       "0             0.0           Music Venue       Harbor / Marina   \n",
       "1             0.0           Beer Garden        Scenic Lookout   \n",
       "2             0.0    Tibetan Restaurant                  Café   \n",
       "3             0.0                  Farm           Yoga Studio   \n",
       "4             0.0            Restaurant           Coffee Shop   \n",
       "\n",
       "  3rd Most Common Venue 4th Most Common Venue 5th Most Common Venue  \\\n",
       "0                Circus             Racetrack                  Pool   \n",
       "1   American Restaurant                 Beach                  Farm   \n",
       "2                 Diner           Pizza Place                   Bar   \n",
       "3               Exhibit            Donut Shop   Dumpling Restaurant   \n",
       "4    Italian Restaurant        Sandwich Place     French Restaurant   \n",
       "\n",
       "         6th Most Common Venue        7th Most Common Venue  \\\n",
       "0                  Supermarket                      Theater   \n",
       "1                  Yoga Studio  Eastern European Restaurant   \n",
       "2            Indian Restaurant                     Pharmacy   \n",
       "3  Eastern European Restaurant            Electronics Store   \n",
       "4                        Hotel                     Beer Bar   \n",
       "\n",
       "  8th Most Common Venue 9th Most Common Venue 10th Most Common Venue  \n",
       "0             BBQ Joint    Athletics & Sports     Golf Driving Range  \n",
       "1     Electronics Store  Ethiopian Restaurant            Event Space  \n",
       "2                  Lake                  Bank              Gastropub  \n",
       "3  Ethiopian Restaurant           Event Space     Falafel Restaurant  \n",
       "4            Steakhouse                   Bar              Speakeasy  "
      ]
     },
     "execution_count": 61,
     "metadata": {},
     "output_type": "execute_result"
    }
   ],
   "source": [
    "OCoT_merged = OCoT_df\n",
    "\n",
    "# add clustering labels\n",
    "OCoT_merged['Cluster Labels'] = pd.Series(kmeans.labels_)\n",
    "\n",
    "# merge OCoT_grouped with OCoT_df to add latitude/longitude for each neighborhood\n",
    "OCoT_merged = OCoT_merged.join(neighborhoods_venues_sorted.set_index('Neighborhoods'), on='Name')\n",
    "\n",
    "OCoT_merged.head() # check the last columns!"
   ]
  },
  {
   "cell_type": "code",
   "execution_count": 62,
   "metadata": {},
   "outputs": [],
   "source": [
    "# drop the missing values\n",
    "OCoT_merged = OCoT_merged.dropna()"
   ]
  },
  {
   "cell_type": "code",
   "execution_count": 63,
   "metadata": {},
   "outputs": [],
   "source": [
    "# convert the labels into integer\n",
    "OCoT_merged['Cluster Labels'] = OCoT_merged['Cluster Labels'].astype(int)"
   ]
  },
  {
   "cell_type": "markdown",
   "metadata": {},
   "source": [
    "Finally, let's visualize the resulting clusters"
   ]
  },
  {
   "cell_type": "code",
   "execution_count": 64,
   "metadata": {},
   "outputs": [
    {
     "data": {
      "text/html": [
       "<div style=\"width:100%;\"><div style=\"position:relative;width:100%;height:0;padding-bottom:60%;\"><iframe src=\"data:text/html;charset=utf-8;base64,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\" style=\"position:absolute;width:100%;height:100%;left:0;top:0;border:none !important;\" allowfullscreen webkitallowfullscreen mozallowfullscreen></iframe></div></div>"
      ],
      "text/plain": [
       "<folium.folium.Map at 0x1a17a05080>"
      ]
     },
     "execution_count": 64,
     "metadata": {},
     "output_type": "execute_result"
    }
   ],
   "source": [
    "# create map\n",
    "map_clusters = folium.Map(location=[latitude, longitude], zoom_start=11)\n",
    "\n",
    "# set color scheme for the clusters\n",
    "x = np.arange(kclusters)\n",
    "ys = [i+x+(i*x)**2 for i in range(kclusters)]\n",
    "colors_array = cm.rainbow(np.linspace(0, 1, len(ys)))\n",
    "rainbow = [colors.rgb2hex(i) for i in colors_array]\n",
    "\n",
    "# add markers to the map\n",
    "markers_colors = []\n",
    "for lat, lon, poi, cluster in zip(OCoT_merged['Latitude'], OCoT_merged['Longitude'], OCoT_merged['Name'], OCoT_merged['Cluster Labels']):\n",
    "    label = folium.Popup(str(poi) + ' Cluster ' + str(cluster), parse_html=True)\n",
    "    folium.CircleMarker(\n",
    "        [lat, lon],\n",
    "        radius=5,\n",
    "        popup=label,\n",
    "        color=rainbow[cluster-1],\n",
    "        fill=True,\n",
    "        fill_color=rainbow[cluster-1],\n",
    "        fill_opacity=0.7).add_to(map_clusters)\n",
    "       \n",
    "map_clusters"
   ]
  },
  {
   "cell_type": "markdown",
   "metadata": {},
   "source": [
    "## 5. Examine Each of the Five Clusters"
   ]
  },
  {
   "cell_type": "markdown",
   "metadata": {},
   "source": [
    "Now, you can examine each cluster and determine the discriminating venue categories that distinguish each cluster. Based on the defining categories, you can then assign a name to each cluster."
   ]
  },
  {
   "cell_type": "markdown",
   "metadata": {},
   "source": [
    "#### Cluster 1"
   ]
  },
  {
   "cell_type": "code",
   "execution_count": 65,
   "metadata": {},
   "outputs": [
    {
     "data": {
      "text/html": [
       "<div>\n",
       "<style scoped>\n",
       "    .dataframe tbody tr th:only-of-type {\n",
       "        vertical-align: middle;\n",
       "    }\n",
       "\n",
       "    .dataframe tbody tr th {\n",
       "        vertical-align: top;\n",
       "    }\n",
       "\n",
       "    .dataframe thead th {\n",
       "        text-align: right;\n",
       "    }\n",
       "</style>\n",
       "<table border=\"1\" class=\"dataframe\">\n",
       "  <thead>\n",
       "    <tr style=\"text-align: right;\">\n",
       "      <th></th>\n",
       "      <th>Name</th>\n",
       "      <th>1st Most Common Venue</th>\n",
       "      <th>2nd Most Common Venue</th>\n",
       "      <th>3rd Most Common Venue</th>\n",
       "      <th>4th Most Common Venue</th>\n",
       "      <th>5th Most Common Venue</th>\n",
       "      <th>6th Most Common Venue</th>\n",
       "      <th>7th Most Common Venue</th>\n",
       "      <th>8th Most Common Venue</th>\n",
       "      <th>9th Most Common Venue</th>\n",
       "      <th>10th Most Common Venue</th>\n",
       "    </tr>\n",
       "  </thead>\n",
       "  <tbody>\n",
       "    <tr>\n",
       "      <th>0</th>\n",
       "      <td>Port Lands</td>\n",
       "      <td>Music Venue</td>\n",
       "      <td>Harbor / Marina</td>\n",
       "      <td>Circus</td>\n",
       "      <td>Racetrack</td>\n",
       "      <td>Pool</td>\n",
       "      <td>Supermarket</td>\n",
       "      <td>Theater</td>\n",
       "      <td>BBQ Joint</td>\n",
       "      <td>Athletics &amp; Sports</td>\n",
       "      <td>Golf Driving Range</td>\n",
       "    </tr>\n",
       "    <tr>\n",
       "      <th>1</th>\n",
       "      <td>Toronto Islands</td>\n",
       "      <td>Beer Garden</td>\n",
       "      <td>Scenic Lookout</td>\n",
       "      <td>American Restaurant</td>\n",
       "      <td>Beach</td>\n",
       "      <td>Farm</td>\n",
       "      <td>Yoga Studio</td>\n",
       "      <td>Eastern European Restaurant</td>\n",
       "      <td>Electronics Store</td>\n",
       "      <td>Ethiopian Restaurant</td>\n",
       "      <td>Event Space</td>\n",
       "    </tr>\n",
       "    <tr>\n",
       "      <th>2</th>\n",
       "      <td>Parkdale</td>\n",
       "      <td>Tibetan Restaurant</td>\n",
       "      <td>Café</td>\n",
       "      <td>Diner</td>\n",
       "      <td>Pizza Place</td>\n",
       "      <td>Bar</td>\n",
       "      <td>Indian Restaurant</td>\n",
       "      <td>Pharmacy</td>\n",
       "      <td>Lake</td>\n",
       "      <td>Bank</td>\n",
       "      <td>Gastropub</td>\n",
       "    </tr>\n",
       "    <tr>\n",
       "      <th>3</th>\n",
       "      <td>Niagara</td>\n",
       "      <td>Farm</td>\n",
       "      <td>Yoga Studio</td>\n",
       "      <td>Exhibit</td>\n",
       "      <td>Donut Shop</td>\n",
       "      <td>Dumpling Restaurant</td>\n",
       "      <td>Eastern European Restaurant</td>\n",
       "      <td>Electronics Store</td>\n",
       "      <td>Ethiopian Restaurant</td>\n",
       "      <td>Event Space</td>\n",
       "      <td>Falafel Restaurant</td>\n",
       "    </tr>\n",
       "    <tr>\n",
       "      <th>4</th>\n",
       "      <td>Fashion District</td>\n",
       "      <td>Restaurant</td>\n",
       "      <td>Coffee Shop</td>\n",
       "      <td>Italian Restaurant</td>\n",
       "      <td>Sandwich Place</td>\n",
       "      <td>French Restaurant</td>\n",
       "      <td>Hotel</td>\n",
       "      <td>Beer Bar</td>\n",
       "      <td>Steakhouse</td>\n",
       "      <td>Bar</td>\n",
       "      <td>Speakeasy</td>\n",
       "    </tr>\n",
       "  </tbody>\n",
       "</table>\n",
       "</div>"
      ],
      "text/plain": [
       "               Name 1st Most Common Venue 2nd Most Common Venue  \\\n",
       "0        Port Lands           Music Venue       Harbor / Marina   \n",
       "1   Toronto Islands           Beer Garden        Scenic Lookout   \n",
       "2          Parkdale    Tibetan Restaurant                  Café   \n",
       "3           Niagara                  Farm           Yoga Studio   \n",
       "4  Fashion District            Restaurant           Coffee Shop   \n",
       "\n",
       "  3rd Most Common Venue 4th Most Common Venue 5th Most Common Venue  \\\n",
       "0                Circus             Racetrack                  Pool   \n",
       "1   American Restaurant                 Beach                  Farm   \n",
       "2                 Diner           Pizza Place                   Bar   \n",
       "3               Exhibit            Donut Shop   Dumpling Restaurant   \n",
       "4    Italian Restaurant        Sandwich Place     French Restaurant   \n",
       "\n",
       "         6th Most Common Venue        7th Most Common Venue  \\\n",
       "0                  Supermarket                      Theater   \n",
       "1                  Yoga Studio  Eastern European Restaurant   \n",
       "2            Indian Restaurant                     Pharmacy   \n",
       "3  Eastern European Restaurant            Electronics Store   \n",
       "4                        Hotel                     Beer Bar   \n",
       "\n",
       "  8th Most Common Venue 9th Most Common Venue 10th Most Common Venue  \n",
       "0             BBQ Joint    Athletics & Sports     Golf Driving Range  \n",
       "1     Electronics Store  Ethiopian Restaurant            Event Space  \n",
       "2                  Lake                  Bank              Gastropub  \n",
       "3  Ethiopian Restaurant           Event Space     Falafel Restaurant  \n",
       "4            Steakhouse                   Bar              Speakeasy  "
      ]
     },
     "execution_count": 65,
     "metadata": {},
     "output_type": "execute_result"
    }
   ],
   "source": [
    "grp_1 = OCoT_merged.loc[OCoT_merged['Cluster Labels'] == 0, OCoT_merged.columns[[0] + list(range(6, OCoT_merged.shape[1]))]]\n",
    "grp_1.head()"
   ]
  },
  {
   "cell_type": "markdown",
   "metadata": {},
   "source": [
    "#### Cluster 2"
   ]
  },
  {
   "cell_type": "code",
   "execution_count": 66,
   "metadata": {},
   "outputs": [
    {
     "data": {
      "text/html": [
       "<div>\n",
       "<style scoped>\n",
       "    .dataframe tbody tr th:only-of-type {\n",
       "        vertical-align: middle;\n",
       "    }\n",
       "\n",
       "    .dataframe tbody tr th {\n",
       "        vertical-align: top;\n",
       "    }\n",
       "\n",
       "    .dataframe thead th {\n",
       "        text-align: right;\n",
       "    }\n",
       "</style>\n",
       "<table border=\"1\" class=\"dataframe\">\n",
       "  <thead>\n",
       "    <tr style=\"text-align: right;\">\n",
       "      <th></th>\n",
       "      <th>Name</th>\n",
       "      <th>1st Most Common Venue</th>\n",
       "      <th>2nd Most Common Venue</th>\n",
       "      <th>3rd Most Common Venue</th>\n",
       "      <th>4th Most Common Venue</th>\n",
       "      <th>5th Most Common Venue</th>\n",
       "      <th>6th Most Common Venue</th>\n",
       "      <th>7th Most Common Venue</th>\n",
       "      <th>8th Most Common Venue</th>\n",
       "      <th>9th Most Common Venue</th>\n",
       "      <th>10th Most Common Venue</th>\n",
       "    </tr>\n",
       "  </thead>\n",
       "  <tbody>\n",
       "    <tr>\n",
       "      <th>28</th>\n",
       "      <td>Cabbagetown</td>\n",
       "      <td>Restaurant</td>\n",
       "      <td>Café</td>\n",
       "      <td>Indian Restaurant</td>\n",
       "      <td>Coffee Shop</td>\n",
       "      <td>Italian Restaurant</td>\n",
       "      <td>Diner</td>\n",
       "      <td>Beer Store</td>\n",
       "      <td>Pizza Place</td>\n",
       "      <td>Bakery</td>\n",
       "      <td>Japanese Restaurant</td>\n",
       "    </tr>\n",
       "  </tbody>\n",
       "</table>\n",
       "</div>"
      ],
      "text/plain": [
       "           Name 1st Most Common Venue 2nd Most Common Venue  \\\n",
       "28  Cabbagetown            Restaurant                  Café   \n",
       "\n",
       "   3rd Most Common Venue 4th Most Common Venue 5th Most Common Venue  \\\n",
       "28     Indian Restaurant           Coffee Shop    Italian Restaurant   \n",
       "\n",
       "   6th Most Common Venue 7th Most Common Venue 8th Most Common Venue  \\\n",
       "28                 Diner            Beer Store           Pizza Place   \n",
       "\n",
       "   9th Most Common Venue 10th Most Common Venue  \n",
       "28                Bakery    Japanese Restaurant  "
      ]
     },
     "execution_count": 66,
     "metadata": {},
     "output_type": "execute_result"
    }
   ],
   "source": [
    "grp_2 = OCoT_merged.loc[OCoT_merged['Cluster Labels'] == 1, OCoT_merged.columns[[0] + list(range(6, OCoT_merged.shape[1]))]]\n",
    "grp_2"
   ]
  },
  {
   "cell_type": "markdown",
   "metadata": {},
   "source": [
    "#### Cluster 3"
   ]
  },
  {
   "cell_type": "code",
   "execution_count": 67,
   "metadata": {},
   "outputs": [
    {
     "data": {
      "text/html": [
       "<div>\n",
       "<style scoped>\n",
       "    .dataframe tbody tr th:only-of-type {\n",
       "        vertical-align: middle;\n",
       "    }\n",
       "\n",
       "    .dataframe tbody tr th {\n",
       "        vertical-align: top;\n",
       "    }\n",
       "\n",
       "    .dataframe thead th {\n",
       "        text-align: right;\n",
       "    }\n",
       "</style>\n",
       "<table border=\"1\" class=\"dataframe\">\n",
       "  <thead>\n",
       "    <tr style=\"text-align: right;\">\n",
       "      <th></th>\n",
       "      <th>Name</th>\n",
       "      <th>1st Most Common Venue</th>\n",
       "      <th>2nd Most Common Venue</th>\n",
       "      <th>3rd Most Common Venue</th>\n",
       "      <th>4th Most Common Venue</th>\n",
       "      <th>5th Most Common Venue</th>\n",
       "      <th>6th Most Common Venue</th>\n",
       "      <th>7th Most Common Venue</th>\n",
       "      <th>8th Most Common Venue</th>\n",
       "      <th>9th Most Common Venue</th>\n",
       "      <th>10th Most Common Venue</th>\n",
       "    </tr>\n",
       "  </thead>\n",
       "  <tbody>\n",
       "    <tr>\n",
       "      <th>37</th>\n",
       "      <td>Wallace Emerson</td>\n",
       "      <td>Coffee Shop</td>\n",
       "      <td>Pharmacy</td>\n",
       "      <td>Portuguese Restaurant</td>\n",
       "      <td>Supermarket</td>\n",
       "      <td>Gym</td>\n",
       "      <td>Bank</td>\n",
       "      <td>Bakery</td>\n",
       "      <td>Skating Rink</td>\n",
       "      <td>Bar</td>\n",
       "      <td>Discount Store</td>\n",
       "    </tr>\n",
       "  </tbody>\n",
       "</table>\n",
       "</div>"
      ],
      "text/plain": [
       "               Name 1st Most Common Venue 2nd Most Common Venue  \\\n",
       "37  Wallace Emerson           Coffee Shop              Pharmacy   \n",
       "\n",
       "    3rd Most Common Venue 4th Most Common Venue 5th Most Common Venue  \\\n",
       "37  Portuguese Restaurant           Supermarket                   Gym   \n",
       "\n",
       "   6th Most Common Venue 7th Most Common Venue 8th Most Common Venue  \\\n",
       "37                  Bank                Bakery          Skating Rink   \n",
       "\n",
       "   9th Most Common Venue 10th Most Common Venue  \n",
       "37                   Bar         Discount Store  "
      ]
     },
     "execution_count": 67,
     "metadata": {},
     "output_type": "execute_result"
    }
   ],
   "source": [
    "grp_3 = OCoT_merged.loc[OCoT_merged['Cluster Labels'] == 2, OCoT_merged.columns[[0] + list(range(6, OCoT_merged.shape[1]))]]\n",
    "grp_3"
   ]
  },
  {
   "cell_type": "markdown",
   "metadata": {},
   "source": [
    "#### Cluster 4"
   ]
  },
  {
   "cell_type": "code",
   "execution_count": 68,
   "metadata": {},
   "outputs": [
    {
     "data": {
      "text/html": [
       "<div>\n",
       "<style scoped>\n",
       "    .dataframe tbody tr th:only-of-type {\n",
       "        vertical-align: middle;\n",
       "    }\n",
       "\n",
       "    .dataframe tbody tr th {\n",
       "        vertical-align: top;\n",
       "    }\n",
       "\n",
       "    .dataframe thead th {\n",
       "        text-align: right;\n",
       "    }\n",
       "</style>\n",
       "<table border=\"1\" class=\"dataframe\">\n",
       "  <thead>\n",
       "    <tr style=\"text-align: right;\">\n",
       "      <th></th>\n",
       "      <th>Name</th>\n",
       "      <th>1st Most Common Venue</th>\n",
       "      <th>2nd Most Common Venue</th>\n",
       "      <th>3rd Most Common Venue</th>\n",
       "      <th>4th Most Common Venue</th>\n",
       "      <th>5th Most Common Venue</th>\n",
       "      <th>6th Most Common Venue</th>\n",
       "      <th>7th Most Common Venue</th>\n",
       "      <th>8th Most Common Venue</th>\n",
       "      <th>9th Most Common Venue</th>\n",
       "      <th>10th Most Common Venue</th>\n",
       "    </tr>\n",
       "  </thead>\n",
       "  <tbody>\n",
       "    <tr>\n",
       "      <th>56</th>\n",
       "      <td>Lytton Park</td>\n",
       "      <td>Playground</td>\n",
       "      <td>Restaurant</td>\n",
       "      <td>Garden</td>\n",
       "      <td>Dive Bar</td>\n",
       "      <td>Doner Restaurant</td>\n",
       "      <td>Donut Shop</td>\n",
       "      <td>Dumpling Restaurant</td>\n",
       "      <td>Eastern European Restaurant</td>\n",
       "      <td>Electronics Store</td>\n",
       "      <td>Ethiopian Restaurant</td>\n",
       "    </tr>\n",
       "  </tbody>\n",
       "</table>\n",
       "</div>"
      ],
      "text/plain": [
       "           Name 1st Most Common Venue 2nd Most Common Venue  \\\n",
       "56  Lytton Park            Playground            Restaurant   \n",
       "\n",
       "   3rd Most Common Venue 4th Most Common Venue 5th Most Common Venue  \\\n",
       "56                Garden              Dive Bar      Doner Restaurant   \n",
       "\n",
       "   6th Most Common Venue 7th Most Common Venue        8th Most Common Venue  \\\n",
       "56            Donut Shop   Dumpling Restaurant  Eastern European Restaurant   \n",
       "\n",
       "   9th Most Common Venue 10th Most Common Venue  \n",
       "56     Electronics Store   Ethiopian Restaurant  "
      ]
     },
     "execution_count": 68,
     "metadata": {},
     "output_type": "execute_result"
    }
   ],
   "source": [
    "grp_4 = OCoT_merged.loc[OCoT_merged['Cluster Labels'] == 3, OCoT_merged.columns[[0] + list(range(6, OCoT_merged.shape[1]))]]\n",
    "grp_4"
   ]
  },
  {
   "cell_type": "markdown",
   "metadata": {},
   "source": [
    "#### Cluster 5"
   ]
  },
  {
   "cell_type": "code",
   "execution_count": 69,
   "metadata": {},
   "outputs": [
    {
     "data": {
      "text/html": [
       "<div>\n",
       "<style scoped>\n",
       "    .dataframe tbody tr th:only-of-type {\n",
       "        vertical-align: middle;\n",
       "    }\n",
       "\n",
       "    .dataframe tbody tr th {\n",
       "        vertical-align: top;\n",
       "    }\n",
       "\n",
       "    .dataframe thead th {\n",
       "        text-align: right;\n",
       "    }\n",
       "</style>\n",
       "<table border=\"1\" class=\"dataframe\">\n",
       "  <thead>\n",
       "    <tr style=\"text-align: right;\">\n",
       "      <th></th>\n",
       "      <th>Name</th>\n",
       "      <th>1st Most Common Venue</th>\n",
       "      <th>2nd Most Common Venue</th>\n",
       "      <th>3rd Most Common Venue</th>\n",
       "      <th>4th Most Common Venue</th>\n",
       "      <th>5th Most Common Venue</th>\n",
       "      <th>6th Most Common Venue</th>\n",
       "      <th>7th Most Common Venue</th>\n",
       "      <th>8th Most Common Venue</th>\n",
       "      <th>9th Most Common Venue</th>\n",
       "      <th>10th Most Common Venue</th>\n",
       "    </tr>\n",
       "  </thead>\n",
       "  <tbody>\n",
       "    <tr>\n",
       "      <th>46</th>\n",
       "      <td>Bracondale Hill</td>\n",
       "      <td>Chinese Restaurant</td>\n",
       "      <td>Restaurant</td>\n",
       "      <td>Pub</td>\n",
       "      <td>Coffee Shop</td>\n",
       "      <td>Soccer Field</td>\n",
       "      <td>Convenience Store</td>\n",
       "      <td>Café</td>\n",
       "      <td>Rock Club</td>\n",
       "      <td>Mobile Phone Shop</td>\n",
       "      <td>Baby Store</td>\n",
       "    </tr>\n",
       "  </tbody>\n",
       "</table>\n",
       "</div>"
      ],
      "text/plain": [
       "               Name 1st Most Common Venue 2nd Most Common Venue  \\\n",
       "46  Bracondale Hill    Chinese Restaurant            Restaurant   \n",
       "\n",
       "   3rd Most Common Venue 4th Most Common Venue 5th Most Common Venue  \\\n",
       "46                   Pub           Coffee Shop          Soccer Field   \n",
       "\n",
       "   6th Most Common Venue 7th Most Common Venue 8th Most Common Venue  \\\n",
       "46     Convenience Store                  Café             Rock Club   \n",
       "\n",
       "   9th Most Common Venue 10th Most Common Venue  \n",
       "46     Mobile Phone Shop             Baby Store  "
      ]
     },
     "execution_count": 69,
     "metadata": {},
     "output_type": "execute_result"
    }
   ],
   "source": [
    "grp_5 = OCoT_merged.loc[OCoT_merged['Cluster Labels'] == 4, OCoT_merged.columns[[0] + list(range(6, OCoT_merged.shape[1]))]]\n",
    "grp_5"
   ]
  },
  {
   "cell_type": "markdown",
   "metadata": {},
   "source": [
    "#### Find the most common venue category for each of the five cluster groups"
   ]
  },
  {
   "cell_type": "code",
   "execution_count": 70,
   "metadata": {},
   "outputs": [
    {
     "data": {
      "text/plain": [
       "Coffee Shop    10\n",
       "Name: 1st Most Common Venue, dtype: int64"
      ]
     },
     "execution_count": 70,
     "metadata": {},
     "output_type": "execute_result"
    }
   ],
   "source": [
    "grp_1_most = grp_1['1st Most Common Venue'].value_counts()[0:1]\n",
    "grp_1_most"
   ]
  },
  {
   "cell_type": "code",
   "execution_count": 71,
   "metadata": {},
   "outputs": [
    {
     "data": {
      "text/plain": [
       "Restaurant    1\n",
       "Name: 1st Most Common Venue, dtype: int64"
      ]
     },
     "execution_count": 71,
     "metadata": {},
     "output_type": "execute_result"
    }
   ],
   "source": [
    "grp_2_most = grp_2['1st Most Common Venue'].value_counts()[0:1]\n",
    "grp_2_most"
   ]
  },
  {
   "cell_type": "code",
   "execution_count": 72,
   "metadata": {},
   "outputs": [
    {
     "data": {
      "text/plain": [
       "Coffee Shop    1\n",
       "Name: 1st Most Common Venue, dtype: int64"
      ]
     },
     "execution_count": 72,
     "metadata": {},
     "output_type": "execute_result"
    }
   ],
   "source": [
    "grp_3_most = grp_3['1st Most Common Venue'].value_counts()[0:1]\n",
    "grp_3_most"
   ]
  },
  {
   "cell_type": "code",
   "execution_count": 73,
   "metadata": {},
   "outputs": [
    {
     "data": {
      "text/plain": [
       "Playground    1\n",
       "Name: 1st Most Common Venue, dtype: int64"
      ]
     },
     "execution_count": 73,
     "metadata": {},
     "output_type": "execute_result"
    }
   ],
   "source": [
    "grp_4_most = grp_4['1st Most Common Venue'].value_counts()[0:1]\n",
    "grp_4_most"
   ]
  },
  {
   "cell_type": "code",
   "execution_count": 74,
   "metadata": {},
   "outputs": [
    {
     "data": {
      "text/plain": [
       "Chinese Restaurant    1\n",
       "Name: 1st Most Common Venue, dtype: int64"
      ]
     },
     "execution_count": 74,
     "metadata": {},
     "output_type": "execute_result"
    }
   ],
   "source": [
    "grp_5_most = grp_5['1st Most Common Venue'].value_counts()[0:1]\n",
    "grp_5_most"
   ]
  },
  {
   "cell_type": "markdown",
   "metadata": {},
   "source": [
    "Create a new dataset contain the most common venue category for each of the five clusters."
   ]
  },
  {
   "cell_type": "code",
   "execution_count": 75,
   "metadata": {},
   "outputs": [
    {
     "data": {
      "text/html": [
       "<div>\n",
       "<style scoped>\n",
       "    .dataframe tbody tr th:only-of-type {\n",
       "        vertical-align: middle;\n",
       "    }\n",
       "\n",
       "    .dataframe tbody tr th {\n",
       "        vertical-align: top;\n",
       "    }\n",
       "\n",
       "    .dataframe thead th {\n",
       "        text-align: right;\n",
       "    }\n",
       "</style>\n",
       "<table border=\"1\" class=\"dataframe\">\n",
       "  <thead>\n",
       "    <tr style=\"text-align: right;\">\n",
       "      <th></th>\n",
       "      <th>Groups</th>\n",
       "      <th>Most Common Venue</th>\n",
       "      <th>Frequency</th>\n",
       "    </tr>\n",
       "  </thead>\n",
       "  <tbody>\n",
       "    <tr>\n",
       "      <th>0</th>\n",
       "      <td>grp_1</td>\n",
       "      <td>Coffee Shop</td>\n",
       "      <td>12</td>\n",
       "    </tr>\n",
       "    <tr>\n",
       "      <th>1</th>\n",
       "      <td>grp_2</td>\n",
       "      <td>Cocktail Bar</td>\n",
       "      <td>1</td>\n",
       "    </tr>\n",
       "    <tr>\n",
       "      <th>2</th>\n",
       "      <td>grp_3</td>\n",
       "      <td>Event Space</td>\n",
       "      <td>1</td>\n",
       "    </tr>\n",
       "    <tr>\n",
       "      <th>3</th>\n",
       "      <td>grp_4</td>\n",
       "      <td>Beach</td>\n",
       "      <td>1</td>\n",
       "    </tr>\n",
       "    <tr>\n",
       "      <th>4</th>\n",
       "      <td>grp_5</td>\n",
       "      <td>Bakery</td>\n",
       "      <td>1</td>\n",
       "    </tr>\n",
       "  </tbody>\n",
       "</table>\n",
       "</div>"
      ],
      "text/plain": [
       "  Groups Most Common Venue  Frequency\n",
       "0  grp_1       Coffee Shop         12\n",
       "1  grp_2      Cocktail Bar          1\n",
       "2  grp_3       Event Space          1\n",
       "3  grp_4             Beach          1\n",
       "4  grp_5            Bakery          1"
      ]
     },
     "execution_count": 75,
     "metadata": {},
     "output_type": "execute_result"
    }
   ],
   "source": [
    "grp_most_common = pd.DataFrame({'Groups': ['grp_1', 'grp_2', 'grp_3', 'grp_4', 'grp_5'],\n",
    "                               'Most Common Venue': ['Coffee Shop', 'Cocktail Bar', 'Event Space', 'Beach', 'Bakery'],\n",
    "                                'Frequency': [12, 1, 1, 1, 1]})\n",
    "grp_most_common"
   ]
  },
  {
   "cell_type": "markdown",
   "metadata": {},
   "source": [
    "From the output above, the most common for each of the five cluster groups varied a lot, may indicating some of people's living habits in the particular neighborhood. "
   ]
  },
  {
   "cell_type": "code",
   "execution_count": null,
   "metadata": {},
   "outputs": [],
   "source": []
  }
 ],
 "metadata": {
  "kernelspec": {
   "display_name": "Python 3",
   "language": "python",
   "name": "python3"
  },
  "language_info": {
   "codemirror_mode": {
    "name": "ipython",
    "version": 3
   },
   "file_extension": ".py",
   "mimetype": "text/x-python",
   "name": "python",
   "nbconvert_exporter": "python",
   "pygments_lexer": "ipython3",
   "version": "3.6.7"
  }
 },
 "nbformat": 4,
 "nbformat_minor": 2
}
