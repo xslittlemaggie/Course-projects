{
 "cells": [
  {
   "cell_type": "markdown",
   "metadata": {},
   "source": [
    "# Segmenting and Clustering Neighborhoods in Toronto with API & Map"
   ]
  },
  {
   "cell_type": "markdown",
   "metadata": {},
   "source": [
    "## Introduction\n",
    "\n",
    "In this project, I will demonstrate how to convert addresses into their equivalent latitude and longitude values. Also, I will use the **Foursquare API** to explore neighborhoods in Toronto, and use the **explore** function to get the most common venue categories in each neighborhood, and then I will use the **k-means** clustering algorithm to group the neighborhoods into clusters based on this feature. Finally, I will use the **Folium** library to visualize the neighborhoods in Toronto and their emerging clusters."
   ]
  },
  {
   "cell_type": "markdown",
   "metadata": {},
   "source": [
    "## Table of Contents\n",
    "\n",
    "<div class=\"alert alert-block alert-info\" style=\"margin-top: 20px\">\n",
    "\n",
    "<font size = 3>\n",
    "\n",
    "1. <a href=\"#item1\">Explore Dataset</a>\n",
    "\n",
    "2. <a href=\"#item2\">Explore Neighborhoods in Old City of Toronto</a>\n",
    "\n",
    "3. <a href=\"#item3\">Analyze Categories in each Neighborhood</a>\n",
    "\n",
    "4. <a href=\"#item4\">Cluster Neighborhoods</a>\n",
    "\n",
    "5. <a href=\"#item5\">Examine Each of the Five Clusters</a>    \n",
    "</font>\n",
    "</div>"
   ]
  },
  {
   "cell_type": "markdown",
   "metadata": {},
   "source": [
    "Import libraries that will be used in this project"
   ]
  },
  {
   "cell_type": "code",
   "execution_count": 1,
   "metadata": {},
   "outputs": [],
   "source": [
    "import pandas as pd # library for data analsysis\n",
    "import numpy as np # library to handle data in a vectorized manner\n",
    "\n",
    "from geopy.geocoders import Nominatim # convert an address into latitude and longitude values\n",
    "\n",
    "import requests # library to handle requests\n",
    "from pandas.io.json import json_normalize # tranform JSON file into a pandas dataframe\n",
    "\n",
    "from sklearn.cluster import KMeans  # import k-means from clustering stage\n",
    "\n",
    "import matplotlib.cm as cm   # Matplotlib and associated plotting modules\n",
    "import matplotlib.colors as colors\n",
    "from matplotlib import pyplot as plt\n",
    "\n",
    "import folium # map rendering library"
   ]
  },
  {
   "cell_type": "markdown",
   "metadata": {},
   "source": [
    "## 1. Explore Dataset: Get all the neighborhood names of Toronto from wikipedia"
   ]
  },
  {
   "cell_type": "code",
   "execution_count": 2,
   "metadata": {},
   "outputs": [],
   "source": [
    "# wikipedia for Toronto neighbourhoods\n",
    "Toronto_url = 'https://en.wikipedia.org/wiki/Demographics_of_Toronto_neighbourhoods'"
   ]
  },
  {
   "cell_type": "code",
   "execution_count": 3,
   "metadata": {},
   "outputs": [
    {
     "data": {
      "text/html": [
       "<div>\n",
       "<style scoped>\n",
       "    .dataframe tbody tr th:only-of-type {\n",
       "        vertical-align: middle;\n",
       "    }\n",
       "\n",
       "    .dataframe tbody tr th {\n",
       "        vertical-align: top;\n",
       "    }\n",
       "\n",
       "    .dataframe thead th {\n",
       "        text-align: right;\n",
       "    }\n",
       "</style>\n",
       "<table border=\"1\" class=\"dataframe\">\n",
       "  <thead>\n",
       "    <tr style=\"text-align: right;\">\n",
       "      <th></th>\n",
       "      <th>Name</th>\n",
       "      <th>FM</th>\n",
       "      <th>Census Tracts</th>\n",
       "      <th>Population</th>\n",
       "      <th>Land area (km2)</th>\n",
       "      <th>Density (people/km2)</th>\n",
       "      <th>% Change in Population since 2001</th>\n",
       "      <th>Average Income</th>\n",
       "      <th>Transit Commuting %</th>\n",
       "      <th>% Renters</th>\n",
       "      <th>Second most common language (after English) by name</th>\n",
       "      <th>Second most common language (after English) by percentage</th>\n",
       "      <th>Map</th>\n",
       "    </tr>\n",
       "  </thead>\n",
       "  <tbody>\n",
       "    <tr>\n",
       "      <th>0</th>\n",
       "      <td>Port Lands</td>\n",
       "      <td>OCoT</td>\n",
       "      <td>0001.00</td>\n",
       "      <td>571</td>\n",
       "      <td>6.10</td>\n",
       "      <td>94</td>\n",
       "      <td>-9.0</td>\n",
       "      <td>36,243</td>\n",
       "      <td>14.9</td>\n",
       "      <td>10.5</td>\n",
       "      <td>Mandarin (3.5%)</td>\n",
       "      <td>03.5% Mandarin</td>\n",
       "      <td>Port Lands map.PNG</td>\n",
       "    </tr>\n",
       "    <tr>\n",
       "      <th>1</th>\n",
       "      <td>Toronto Islands</td>\n",
       "      <td>OCoT</td>\n",
       "      <td>0002.00</td>\n",
       "      <td>627</td>\n",
       "      <td>3.17</td>\n",
       "      <td>198</td>\n",
       "      <td>-5.0</td>\n",
       "      <td>43,344</td>\n",
       "      <td>18.3</td>\n",
       "      <td>5.6</td>\n",
       "      <td>None (0%)</td>\n",
       "      <td>0% any</td>\n",
       "      <td>NaN</td>\n",
       "    </tr>\n",
       "    <tr>\n",
       "      <th>2</th>\n",
       "      <td>Parkdale</td>\n",
       "      <td>OCoT</td>\n",
       "      <td>0004.00, 0005.00, 0007.01, 0007.02, 0047.01, 0...</td>\n",
       "      <td>28,367</td>\n",
       "      <td>2.03</td>\n",
       "      <td>13,974</td>\n",
       "      <td>-8.0</td>\n",
       "      <td>26,314</td>\n",
       "      <td>22.2</td>\n",
       "      <td>39.0</td>\n",
       "      <td>Polish (2.9%)</td>\n",
       "      <td>02.9% Polish</td>\n",
       "      <td>Parkdale Toronto map.png</td>\n",
       "    </tr>\n",
       "    <tr>\n",
       "      <th>3</th>\n",
       "      <td>Fort York/Liberty Village</td>\n",
       "      <td>OCoT</td>\n",
       "      <td>0008.00</td>\n",
       "      <td>3,821</td>\n",
       "      <td>2.13</td>\n",
       "      <td>1794</td>\n",
       "      <td>126.0</td>\n",
       "      <td>46,086</td>\n",
       "      <td>22.8</td>\n",
       "      <td>27.9</td>\n",
       "      <td>Hindi (1.7%)</td>\n",
       "      <td>01.7% Hindi</td>\n",
       "      <td>Fort York map.png</td>\n",
       "    </tr>\n",
       "    <tr>\n",
       "      <th>4</th>\n",
       "      <td>Niagara</td>\n",
       "      <td>OCoT</td>\n",
       "      <td>0010.02</td>\n",
       "      <td>6,524</td>\n",
       "      <td>0.55</td>\n",
       "      <td>11,862</td>\n",
       "      <td>-4.0</td>\n",
       "      <td>44,611</td>\n",
       "      <td>21.2</td>\n",
       "      <td>21.4</td>\n",
       "      <td>Portuguese (4.0%)</td>\n",
       "      <td>04.0% Portuguese</td>\n",
       "      <td>Niagara map.PNG</td>\n",
       "    </tr>\n",
       "  </tbody>\n",
       "</table>\n",
       "</div>"
      ],
      "text/plain": [
       "                        Name    FM  \\\n",
       "0                 Port Lands  OCoT   \n",
       "1            Toronto Islands  OCoT   \n",
       "2                   Parkdale  OCoT   \n",
       "3  Fort York/Liberty Village  OCoT   \n",
       "4                    Niagara  OCoT   \n",
       "\n",
       "                                       Census Tracts Population  \\\n",
       "0                                            0001.00        571   \n",
       "1                                            0002.00        627   \n",
       "2  0004.00, 0005.00, 0007.01, 0007.02, 0047.01, 0...     28,367   \n",
       "3                                            0008.00      3,821   \n",
       "4                                            0010.02      6,524   \n",
       "\n",
       "   Land area (km2) Density (people/km2)  % Change in Population since 2001  \\\n",
       "0             6.10                   94                               -9.0   \n",
       "1             3.17                  198                               -5.0   \n",
       "2             2.03               13,974                               -8.0   \n",
       "3             2.13                 1794                              126.0   \n",
       "4             0.55               11,862                               -4.0   \n",
       "\n",
       "  Average Income  Transit Commuting %  % Renters  \\\n",
       "0         36,243                 14.9       10.5   \n",
       "1         43,344                 18.3        5.6   \n",
       "2         26,314                 22.2       39.0   \n",
       "3         46,086                 22.8       27.9   \n",
       "4         44,611                 21.2       21.4   \n",
       "\n",
       "  Second most common language (after English) by name  \\\n",
       "0                                    Mandarin (3.5%)    \n",
       "1                                          None (0%)    \n",
       "2                                      Polish (2.9%)    \n",
       "3                                       Hindi (1.7%)    \n",
       "4                                  Portuguese (4.0%)    \n",
       "\n",
       "  Second most common language (after English) by percentage  \\\n",
       "0                                     03.5% Mandarin          \n",
       "1                                             0% any          \n",
       "2                                       02.9% Polish          \n",
       "3                                        01.7% Hindi          \n",
       "4                                   04.0% Portuguese          \n",
       "\n",
       "                        Map  \n",
       "0        Port Lands map.PNG  \n",
       "1                       NaN  \n",
       "2  Parkdale Toronto map.png  \n",
       "3         Fort York map.png  \n",
       "4           Niagara map.PNG  "
      ]
     },
     "execution_count": 3,
     "metadata": {},
     "output_type": "execute_result"
    }
   ],
   "source": [
    "Toronto = pd.read_clipboard()\n",
    "Toronto.head()"
   ]
  },
  {
   "cell_type": "markdown",
   "metadata": {},
   "source": [
    "For this part, I am only interested in all the neighborhood names of Toronto ('Name') and the former municipality values ('FM'). Thus, I will only keep these two features, 'Name' and 'FM'."
   ]
  },
  {
   "cell_type": "code",
   "execution_count": 4,
   "metadata": {},
   "outputs": [
    {
     "data": {
      "text/html": [
       "<div>\n",
       "<style scoped>\n",
       "    .dataframe tbody tr th:only-of-type {\n",
       "        vertical-align: middle;\n",
       "    }\n",
       "\n",
       "    .dataframe tbody tr th {\n",
       "        vertical-align: top;\n",
       "    }\n",
       "\n",
       "    .dataframe thead th {\n",
       "        text-align: right;\n",
       "    }\n",
       "</style>\n",
       "<table border=\"1\" class=\"dataframe\">\n",
       "  <thead>\n",
       "    <tr style=\"text-align: right;\">\n",
       "      <th></th>\n",
       "      <th>Name</th>\n",
       "      <th>FM</th>\n",
       "    </tr>\n",
       "  </thead>\n",
       "  <tbody>\n",
       "    <tr>\n",
       "      <th>0</th>\n",
       "      <td>Port Lands</td>\n",
       "      <td>OCoT</td>\n",
       "    </tr>\n",
       "    <tr>\n",
       "      <th>1</th>\n",
       "      <td>Toronto Islands</td>\n",
       "      <td>OCoT</td>\n",
       "    </tr>\n",
       "    <tr>\n",
       "      <th>2</th>\n",
       "      <td>Parkdale</td>\n",
       "      <td>OCoT</td>\n",
       "    </tr>\n",
       "    <tr>\n",
       "      <th>3</th>\n",
       "      <td>Fort York/Liberty Village</td>\n",
       "      <td>OCoT</td>\n",
       "    </tr>\n",
       "    <tr>\n",
       "      <th>4</th>\n",
       "      <td>Niagara</td>\n",
       "      <td>OCoT</td>\n",
       "    </tr>\n",
       "  </tbody>\n",
       "</table>\n",
       "</div>"
      ],
      "text/plain": [
       "                        Name    FM\n",
       "0                 Port Lands  OCoT\n",
       "1            Toronto Islands  OCoT\n",
       "2                   Parkdale  OCoT\n",
       "3  Fort York/Liberty Village  OCoT\n",
       "4                    Niagara  OCoT"
      ]
     },
     "execution_count": 4,
     "metadata": {},
     "output_type": "execute_result"
    }
   ],
   "source": [
    "Toronto_df = Toronto[['Name', 'FM']]\n",
    "Toronto_df.head()"
   ]
  },
  {
   "cell_type": "code",
   "execution_count": 5,
   "metadata": {},
   "outputs": [
    {
     "data": {
      "text/plain": [
       "array(['OCoT', 'Y', 'EY', 'E', 'NY', 'S'], dtype=object)"
      ]
     },
     "execution_count": 5,
     "metadata": {},
     "output_type": "execute_result"
    }
   ],
   "source": [
    "Toronto_df['FM'].unique()"
   ]
  },
  {
   "cell_type": "markdown",
   "metadata": {},
   "source": [
    "To make the data more readable, I add a new feature 'Full_FM' to include the full name for the forer municipality ('FM') values below:\n",
    "- **E : Etobicoke**\n",
    "- **S : Scarborough**\n",
    "- **Y : York**\n",
    "- **EY : East York**\n",
    "- **NY : North York**\n",
    "- **OCoT : Old City of Toronto**"
   ]
  },
  {
   "cell_type": "code",
   "execution_count": 11,
   "metadata": {},
   "outputs": [
    {
     "name": "stderr",
     "output_type": "stream",
     "text": [
      "/Users/xslittlemaggie/anaconda3/lib/python3.6/site-packages/ipykernel_launcher.py:2: SettingWithCopyWarning: \n",
      "A value is trying to be set on a copy of a slice from a DataFrame.\n",
      "Try using .loc[row_indexer,col_indexer] = value instead\n",
      "\n",
      "See the caveats in the documentation: http://pandas.pydata.org/pandas-docs/stable/indexing.html#indexing-view-versus-copy\n",
      "  \n",
      "/Users/xslittlemaggie/anaconda3/lib/python3.6/site-packages/ipykernel_launcher.py:8: SettingWithCopyWarning: \n",
      "A value is trying to be set on a copy of a slice from a DataFrame.\n",
      "Try using .loc[row_indexer,col_indexer] = value instead\n",
      "\n",
      "See the caveats in the documentation: http://pandas.pydata.org/pandas-docs/stable/indexing.html#indexing-view-versus-copy\n",
      "  \n"
     ]
    }
   ],
   "source": [
    "# add a new variable 'Full_FM', and assign values above\n",
    "Toronto_df['Full_FM'] = pd.Series(Toronto_df['FM'])\n",
    "Toronto_df['Full_FM'] = Toronto_df['Full_FM'].replace({'Y':'York', \n",
    "                                                       'EY':'East York', \n",
    "                                                       'E':'Etobicoke', \n",
    "                                                       'NY':'North York', \n",
    "                                                       'S':'Scarborough', \n",
    "                                                       'OCoT':'Old City of Toronto'})"
   ]
  },
  {
   "cell_type": "code",
   "execution_count": 12,
   "metadata": {},
   "outputs": [
    {
     "data": {
      "text/html": [
       "<div>\n",
       "<style scoped>\n",
       "    .dataframe tbody tr th:only-of-type {\n",
       "        vertical-align: middle;\n",
       "    }\n",
       "\n",
       "    .dataframe tbody tr th {\n",
       "        vertical-align: top;\n",
       "    }\n",
       "\n",
       "    .dataframe thead th {\n",
       "        text-align: right;\n",
       "    }\n",
       "</style>\n",
       "<table border=\"1\" class=\"dataframe\">\n",
       "  <thead>\n",
       "    <tr style=\"text-align: right;\">\n",
       "      <th></th>\n",
       "      <th>Name</th>\n",
       "      <th>FM</th>\n",
       "      <th>Full_FM</th>\n",
       "    </tr>\n",
       "  </thead>\n",
       "  <tbody>\n",
       "    <tr>\n",
       "      <th>0</th>\n",
       "      <td>Port Lands</td>\n",
       "      <td>OCoT</td>\n",
       "      <td>Old City of Toronto</td>\n",
       "    </tr>\n",
       "    <tr>\n",
       "      <th>1</th>\n",
       "      <td>Toronto Islands</td>\n",
       "      <td>OCoT</td>\n",
       "      <td>Old City of Toronto</td>\n",
       "    </tr>\n",
       "    <tr>\n",
       "      <th>2</th>\n",
       "      <td>Parkdale</td>\n",
       "      <td>OCoT</td>\n",
       "      <td>Old City of Toronto</td>\n",
       "    </tr>\n",
       "    <tr>\n",
       "      <th>3</th>\n",
       "      <td>Fort York/Liberty Village</td>\n",
       "      <td>OCoT</td>\n",
       "      <td>Old City of Toronto</td>\n",
       "    </tr>\n",
       "    <tr>\n",
       "      <th>4</th>\n",
       "      <td>Niagara</td>\n",
       "      <td>OCoT</td>\n",
       "      <td>Old City of Toronto</td>\n",
       "    </tr>\n",
       "  </tbody>\n",
       "</table>\n",
       "</div>"
      ],
      "text/plain": [
       "                        Name    FM              Full_FM\n",
       "0                 Port Lands  OCoT  Old City of Toronto\n",
       "1            Toronto Islands  OCoT  Old City of Toronto\n",
       "2                   Parkdale  OCoT  Old City of Toronto\n",
       "3  Fort York/Liberty Village  OCoT  Old City of Toronto\n",
       "4                    Niagara  OCoT  Old City of Toronto"
      ]
     },
     "execution_count": 12,
     "metadata": {},
     "output_type": "execute_result"
    }
   ],
   "source": [
    "Toronto_df.head()"
   ]
  },
  {
   "cell_type": "markdown",
   "metadata": {},
   "source": [
    "#### Use geopy library to get the latitude and longitude values for each of the neighborhood in Toronto."
   ]
  },
  {
   "cell_type": "code",
   "execution_count": 13,
   "metadata": {},
   "outputs": [],
   "source": [
    "for address in Toronto_df['Name']:\n",
    "    geolocator = Nominatim(user_agent = 'specify_your_app_name_here')\n",
    "    try:   \n",
    "        location = geolocator.geocode(address)\n",
    "        latitude = location.latitude\n",
    "        longitude = location.longitude\n",
    "    except:\n",
    "        location = np.nan   # assign lat, lng with NaN if the data are not avaialbel\n",
    "        latitude = np.nan\n",
    "        longitude = np.nan\n",
    "    #print('The geographical coordinate of', address, 'are {}, {}.'.format(latitude, longitude)) "
   ]
  },
  {
   "cell_type": "code",
   "execution_count": 14,
   "metadata": {},
   "outputs": [],
   "source": [
    "Latitude = []\n",
    "Longitude = []\n",
    "for address in Toronto_df['Name']:\n",
    "    geolocator = Nominatim(user_agent = 'specify_your_app_name_here')\n",
    "    try:   \n",
    "        location = geolocator.geocode(address)\n",
    "        latitude = location.latitude\n",
    "        longitude = location.longitude\n",
    "    except:\n",
    "        location = np.nan\n",
    "        latitude = np.nan\n",
    "        longitude = np.nan\n",
    "    Latitude.append(latitude)\n",
    "    Longitude.append(longitude)\n",
    "#print(Latitude)\n",
    "#print(Longitude)"
   ]
  },
  {
   "cell_type": "markdown",
   "metadata": {},
   "source": [
    "Now, I already got the latitude and longitude values for each of the neighborhood in Toronto. Next, I will add this two features to the dataset Toronto_df. "
   ]
  },
  {
   "cell_type": "code",
   "execution_count": 15,
   "metadata": {},
   "outputs": [
    {
     "name": "stderr",
     "output_type": "stream",
     "text": [
      "/Users/xslittlemaggie/anaconda3/lib/python3.6/site-packages/ipykernel_launcher.py:1: SettingWithCopyWarning: \n",
      "A value is trying to be set on a copy of a slice from a DataFrame.\n",
      "Try using .loc[row_indexer,col_indexer] = value instead\n",
      "\n",
      "See the caveats in the documentation: http://pandas.pydata.org/pandas-docs/stable/indexing.html#indexing-view-versus-copy\n",
      "  \"\"\"Entry point for launching an IPython kernel.\n",
      "/Users/xslittlemaggie/anaconda3/lib/python3.6/site-packages/ipykernel_launcher.py:2: SettingWithCopyWarning: \n",
      "A value is trying to be set on a copy of a slice from a DataFrame.\n",
      "Try using .loc[row_indexer,col_indexer] = value instead\n",
      "\n",
      "See the caveats in the documentation: http://pandas.pydata.org/pandas-docs/stable/indexing.html#indexing-view-versus-copy\n",
      "  \n"
     ]
    }
   ],
   "source": [
    "Toronto_df['Latitude'] = pd.Series(Latitude)\n",
    "Toronto_df['Longitude'] = pd.Series(Longitude)"
   ]
  },
  {
   "cell_type": "code",
   "execution_count": 16,
   "metadata": {},
   "outputs": [
    {
     "data": {
      "text/html": [
       "<div>\n",
       "<style scoped>\n",
       "    .dataframe tbody tr th:only-of-type {\n",
       "        vertical-align: middle;\n",
       "    }\n",
       "\n",
       "    .dataframe tbody tr th {\n",
       "        vertical-align: top;\n",
       "    }\n",
       "\n",
       "    .dataframe thead th {\n",
       "        text-align: right;\n",
       "    }\n",
       "</style>\n",
       "<table border=\"1\" class=\"dataframe\">\n",
       "  <thead>\n",
       "    <tr style=\"text-align: right;\">\n",
       "      <th></th>\n",
       "      <th>Name</th>\n",
       "      <th>FM</th>\n",
       "      <th>Full_FM</th>\n",
       "      <th>Latitude</th>\n",
       "      <th>Longitude</th>\n",
       "    </tr>\n",
       "  </thead>\n",
       "  <tbody>\n",
       "    <tr>\n",
       "      <th>0</th>\n",
       "      <td>Port Lands</td>\n",
       "      <td>OCoT</td>\n",
       "      <td>Old City of Toronto</td>\n",
       "      <td>43.643065</td>\n",
       "      <td>-79.350601</td>\n",
       "    </tr>\n",
       "    <tr>\n",
       "      <th>1</th>\n",
       "      <td>Toronto Islands</td>\n",
       "      <td>OCoT</td>\n",
       "      <td>Old City of Toronto</td>\n",
       "      <td>43.616196</td>\n",
       "      <td>-79.369358</td>\n",
       "    </tr>\n",
       "    <tr>\n",
       "      <th>2</th>\n",
       "      <td>Parkdale</td>\n",
       "      <td>OCoT</td>\n",
       "      <td>Old City of Toronto</td>\n",
       "      <td>43.637178</td>\n",
       "      <td>-79.436004</td>\n",
       "    </tr>\n",
       "    <tr>\n",
       "      <th>3</th>\n",
       "      <td>Fort York/Liberty Village</td>\n",
       "      <td>OCoT</td>\n",
       "      <td>Old City of Toronto</td>\n",
       "      <td>NaN</td>\n",
       "      <td>NaN</td>\n",
       "    </tr>\n",
       "    <tr>\n",
       "      <th>4</th>\n",
       "      <td>Niagara</td>\n",
       "      <td>OCoT</td>\n",
       "      <td>Old City of Toronto</td>\n",
       "      <td>43.063189</td>\n",
       "      <td>-79.309809</td>\n",
       "    </tr>\n",
       "  </tbody>\n",
       "</table>\n",
       "</div>"
      ],
      "text/plain": [
       "                        Name    FM              Full_FM   Latitude  Longitude\n",
       "0                 Port Lands  OCoT  Old City of Toronto  43.643065 -79.350601\n",
       "1            Toronto Islands  OCoT  Old City of Toronto  43.616196 -79.369358\n",
       "2                   Parkdale  OCoT  Old City of Toronto  43.637178 -79.436004\n",
       "3  Fort York/Liberty Village  OCoT  Old City of Toronto        NaN        NaN\n",
       "4                    Niagara  OCoT  Old City of Toronto  43.063189 -79.309809"
      ]
     },
     "execution_count": 16,
     "metadata": {},
     "output_type": "execute_result"
    }
   ],
   "source": [
    "Toronto_df.head()"
   ]
  },
  {
   "cell_type": "code",
   "execution_count": 17,
   "metadata": {},
   "outputs": [
    {
     "data": {
      "text/plain": [
       "Name         0\n",
       "FM           0\n",
       "Full_FM      0\n",
       "Latitude     8\n",
       "Longitude    8\n",
       "dtype: int64"
      ]
     },
     "execution_count": 17,
     "metadata": {},
     "output_type": "execute_result"
    }
   ],
   "source": [
    "# check missing values\n",
    "Toronto_df.isnull().sum()"
   ]
  },
  {
   "cell_type": "markdown",
   "metadata": {},
   "source": [
    "There are missing values (NaN), and I will remove the rows with missing values with the below function.  "
   ]
  },
  {
   "cell_type": "code",
   "execution_count": 18,
   "metadata": {},
   "outputs": [
    {
     "data": {
      "text/html": [
       "<div>\n",
       "<style scoped>\n",
       "    .dataframe tbody tr th:only-of-type {\n",
       "        vertical-align: middle;\n",
       "    }\n",
       "\n",
       "    .dataframe tbody tr th {\n",
       "        vertical-align: top;\n",
       "    }\n",
       "\n",
       "    .dataframe thead th {\n",
       "        text-align: right;\n",
       "    }\n",
       "</style>\n",
       "<table border=\"1\" class=\"dataframe\">\n",
       "  <thead>\n",
       "    <tr style=\"text-align: right;\">\n",
       "      <th></th>\n",
       "      <th>Name</th>\n",
       "      <th>FM</th>\n",
       "      <th>Full_FM</th>\n",
       "      <th>Latitude</th>\n",
       "      <th>Longitude</th>\n",
       "    </tr>\n",
       "  </thead>\n",
       "  <tbody>\n",
       "    <tr>\n",
       "      <th>0</th>\n",
       "      <td>Port Lands</td>\n",
       "      <td>OCoT</td>\n",
       "      <td>Old City of Toronto</td>\n",
       "      <td>43.643065</td>\n",
       "      <td>-79.350601</td>\n",
       "    </tr>\n",
       "    <tr>\n",
       "      <th>1</th>\n",
       "      <td>Toronto Islands</td>\n",
       "      <td>OCoT</td>\n",
       "      <td>Old City of Toronto</td>\n",
       "      <td>43.616196</td>\n",
       "      <td>-79.369358</td>\n",
       "    </tr>\n",
       "    <tr>\n",
       "      <th>2</th>\n",
       "      <td>Parkdale</td>\n",
       "      <td>OCoT</td>\n",
       "      <td>Old City of Toronto</td>\n",
       "      <td>43.637178</td>\n",
       "      <td>-79.436004</td>\n",
       "    </tr>\n",
       "    <tr>\n",
       "      <th>4</th>\n",
       "      <td>Niagara</td>\n",
       "      <td>OCoT</td>\n",
       "      <td>Old City of Toronto</td>\n",
       "      <td>43.063189</td>\n",
       "      <td>-79.309809</td>\n",
       "    </tr>\n",
       "    <tr>\n",
       "      <th>5</th>\n",
       "      <td>Fashion District</td>\n",
       "      <td>OCoT</td>\n",
       "      <td>Old City of Toronto</td>\n",
       "      <td>43.645456</td>\n",
       "      <td>-79.394994</td>\n",
       "    </tr>\n",
       "  </tbody>\n",
       "</table>\n",
       "</div>"
      ],
      "text/plain": [
       "               Name    FM              Full_FM   Latitude  Longitude\n",
       "0        Port Lands  OCoT  Old City of Toronto  43.643065 -79.350601\n",
       "1   Toronto Islands  OCoT  Old City of Toronto  43.616196 -79.369358\n",
       "2          Parkdale  OCoT  Old City of Toronto  43.637178 -79.436004\n",
       "4           Niagara  OCoT  Old City of Toronto  43.063189 -79.309809\n",
       "5  Fashion District  OCoT  Old City of Toronto  43.645456 -79.394994"
      ]
     },
     "execution_count": 18,
     "metadata": {},
     "output_type": "execute_result"
    }
   ],
   "source": [
    "Toronto_df = Toronto_df.dropna()  # dropna() drop all rows that have any NaN values\n",
    "Toronto_df.head()"
   ]
  },
  {
   "cell_type": "markdown",
   "metadata": {},
   "source": [
    "Check the dataset to see whether the neighborhoods with missing values are removed. "
   ]
  },
  {
   "cell_type": "markdown",
   "metadata": {},
   "source": [
    "#### Create a map of Toronto with neighborhoods superimposed on top."
   ]
  },
  {
   "cell_type": "code",
   "execution_count": 19,
   "metadata": {},
   "outputs": [
    {
     "data": {
      "text/html": [
       "<div style=\"width:100%;\"><div style=\"position:relative;width:100%;height:0;padding-bottom:60%;\"><iframe src=\"data:text/html;charset=utf-8;base64,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\" style=\"position:absolute;width:100%;height:100%;left:0;top:0;border:none !important;\" allowfullscreen webkitallowfullscreen mozallowfullscreen></iframe></div></div>"
      ],
      "text/plain": [
       "<folium.folium.Map at 0x1a16b46c50>"
      ]
     },
     "execution_count": 19,
     "metadata": {},
     "output_type": "execute_result"
    }
   ],
   "source": [
    "# create map of New York using latitude and longitude values\n",
    "map_Toronto = folium.Map(location=[latitude, longitude], zoom_start=10)\n",
    "\n",
    "# add markers to map\n",
    "for lat, lng, FM, Name in zip(Toronto_df['Latitude'], Toronto_df['Longitude'], Toronto_df['Full_FM'], Toronto_df['Name']):\n",
    "    label = '{}, {}'.format(Name, FM)\n",
    "    label = folium.Popup(label, parse_html=True)\n",
    "    folium.CircleMarker(\n",
    "        [lat, lng],\n",
    "        radius=5,\n",
    "        popup=label,\n",
    "        color='blue',\n",
    "        fill=True,\n",
    "        fill_color='#3186cc',\n",
    "        fill_opacity=0.7,\n",
    "        parse_html=False).add_to(map_Toronto)  \n",
    "    \n",
    "map_Toronto"
   ]
  },
  {
   "cell_type": "markdown",
   "metadata": {},
   "source": [
    "**Folium** is a great visualization library. It's available to zoom into the above map, and click on each circle mark to reveal the name of the neighborhood and its FM."
   ]
  },
  {
   "cell_type": "markdown",
   "metadata": {},
   "source": [
    "## 2. Explore Neighborhoods in Old City of Toronto\n",
    "\n",
    "This analysis is composed of two parts:\n",
    "- **Part 1**: Explore the first neighborhood in the dataframe the Old City of Toronto (OCoT).\n",
    "- **Part 2**: Explore all neighborhoods in the Old City of Toronto (OCoT).\n",
    "\n",
    "##### At the first part, I will demonstrate the details step by step of how to get the venues in the first neighborhood. At the second part, I will write a function to repeate the process for each of the neighborhood in the Cold City of Toronto, and analyze the venues of all neighborhoods in Old City of Toronto. "
   ]
  },
  {
   "cell_type": "markdown",
   "metadata": {},
   "source": [
    "Now, I will simplify the above map and segment and cluster only the neighborhoods in Old City of Toronto. So I will slice the original dataframe and create a new dataframe of the Old City of Toronto."
   ]
  },
  {
   "cell_type": "code",
   "execution_count": 20,
   "metadata": {},
   "outputs": [
    {
     "data": {
      "text/plain": [
       "array(['Old City of Toronto', 'York', 'East York', 'Etobicoke',\n",
       "       'North York', 'Scarborough'], dtype=object)"
      ]
     },
     "execution_count": 20,
     "metadata": {},
     "output_type": "execute_result"
    }
   ],
   "source": [
    "Toronto_df['Full_FM'].unique()"
   ]
  },
  {
   "cell_type": "code",
   "execution_count": 21,
   "metadata": {},
   "outputs": [
    {
     "data": {
      "text/html": [
       "<div>\n",
       "<style scoped>\n",
       "    .dataframe tbody tr th:only-of-type {\n",
       "        vertical-align: middle;\n",
       "    }\n",
       "\n",
       "    .dataframe tbody tr th {\n",
       "        vertical-align: top;\n",
       "    }\n",
       "\n",
       "    .dataframe thead th {\n",
       "        text-align: right;\n",
       "    }\n",
       "</style>\n",
       "<table border=\"1\" class=\"dataframe\">\n",
       "  <thead>\n",
       "    <tr style=\"text-align: right;\">\n",
       "      <th></th>\n",
       "      <th>Name</th>\n",
       "      <th>FM</th>\n",
       "      <th>Full_FM</th>\n",
       "      <th>Latitude</th>\n",
       "      <th>Longitude</th>\n",
       "    </tr>\n",
       "  </thead>\n",
       "  <tbody>\n",
       "    <tr>\n",
       "      <th>0</th>\n",
       "      <td>Port Lands</td>\n",
       "      <td>OCoT</td>\n",
       "      <td>Old City of Toronto</td>\n",
       "      <td>43.643065</td>\n",
       "      <td>-79.350601</td>\n",
       "    </tr>\n",
       "    <tr>\n",
       "      <th>1</th>\n",
       "      <td>Toronto Islands</td>\n",
       "      <td>OCoT</td>\n",
       "      <td>Old City of Toronto</td>\n",
       "      <td>43.616196</td>\n",
       "      <td>-79.369358</td>\n",
       "    </tr>\n",
       "    <tr>\n",
       "      <th>2</th>\n",
       "      <td>Parkdale</td>\n",
       "      <td>OCoT</td>\n",
       "      <td>Old City of Toronto</td>\n",
       "      <td>43.637178</td>\n",
       "      <td>-79.436004</td>\n",
       "    </tr>\n",
       "    <tr>\n",
       "      <th>3</th>\n",
       "      <td>Niagara</td>\n",
       "      <td>OCoT</td>\n",
       "      <td>Old City of Toronto</td>\n",
       "      <td>43.063189</td>\n",
       "      <td>-79.309809</td>\n",
       "    </tr>\n",
       "    <tr>\n",
       "      <th>4</th>\n",
       "      <td>Fashion District</td>\n",
       "      <td>OCoT</td>\n",
       "      <td>Old City of Toronto</td>\n",
       "      <td>43.645456</td>\n",
       "      <td>-79.394994</td>\n",
       "    </tr>\n",
       "  </tbody>\n",
       "</table>\n",
       "</div>"
      ],
      "text/plain": [
       "               Name    FM              Full_FM   Latitude  Longitude\n",
       "0        Port Lands  OCoT  Old City of Toronto  43.643065 -79.350601\n",
       "1   Toronto Islands  OCoT  Old City of Toronto  43.616196 -79.369358\n",
       "2          Parkdale  OCoT  Old City of Toronto  43.637178 -79.436004\n",
       "3           Niagara  OCoT  Old City of Toronto  43.063189 -79.309809\n",
       "4  Fashion District  OCoT  Old City of Toronto  43.645456 -79.394994"
      ]
     },
     "execution_count": 21,
     "metadata": {},
     "output_type": "execute_result"
    }
   ],
   "source": [
    "OCoT_df = Toronto_df[Toronto_df['FM'] == 'OCoT'].reset_index(drop= True)\n",
    "OCoT_df.head()"
   ]
  },
  {
   "cell_type": "code",
   "execution_count": 22,
   "metadata": {},
   "outputs": [
    {
     "data": {
      "text/html": [
       "<div style=\"width:100%;\"><div style=\"position:relative;width:100%;height:0;padding-bottom:60%;\"><iframe src=\"data:text/html;charset=utf-8;base64,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\" style=\"position:absolute;width:100%;height:100%;left:0;top:0;border:none !important;\" allowfullscreen webkitallowfullscreen mozallowfullscreen></iframe></div></div>"
      ],
      "text/plain": [
       "<folium.folium.Map at 0x1a176cdf98>"
      ]
     },
     "execution_count": 22,
     "metadata": {},
     "output_type": "execute_result"
    }
   ],
   "source": [
    "# create map of Old City of Toronto with latitude and longitude values\n",
    "map_OCoT = folium.Map(location=[latitude, longitude], zoom_start=10)\n",
    "\n",
    "# add markers to map\n",
    "for lat, lng, FM, Name in zip(OCoT_df['Latitude'], OCoT_df['Longitude'], OCoT_df['Full_FM'], OCoT_df['Name']):\n",
    "    label = '{}, {}'.format(Name, FM)\n",
    "    label = folium.Popup(label, parse_html=True)\n",
    "    folium.CircleMarker(\n",
    "        [lat, lng],\n",
    "        radius=5,\n",
    "        popup=label,\n",
    "        color='blue',\n",
    "        fill=True,\n",
    "        fill_color='#3186cc',\n",
    "        fill_opacity=0.7,\n",
    "        parse_html=False).add_to(map_OCoT)  \n",
    "    \n",
    "map_OCoT"
   ]
  },
  {
   "cell_type": "markdown",
   "metadata": {},
   "source": [
    "Next, I am going to utilize **Foursquare API** to explore the venues of neighborhoods in Old City of Toronton, and segment them."
   ]
  },
  {
   "cell_type": "markdown",
   "metadata": {},
   "source": [
    "#### Define Foursquare Credentials and Version"
   ]
  },
  {
   "cell_type": "code",
   "execution_count": 23,
   "metadata": {},
   "outputs": [
    {
     "name": "stdout",
     "output_type": "stream",
     "text": [
      "My credentails:\n",
      "CLIENT_ID: 20YHTHRNXTTGMZBL2VPZTY0II3WY0Q4UD3BQC2RAWFQSYROE\n",
      "CLIENT_SECRET:RP5YFHFIGAV4XXIKPJRQ1SHLHDAXE1WUKRNIE3UFXFGCDWAO\n"
     ]
    }
   ],
   "source": [
    "CLIENT_ID = '20YHTHRNXTTGMZBL2VPZTY0II3WY0Q4UD3BQC2RAWFQSYROE' # my Foursquare ID\n",
    "CLIENT_SECRET = 'RP5YFHFIGAV4XXIKPJRQ1SHLHDAXE1WUKRNIE3UFXFGCDWAO' # my Foursquare Secret\n",
    "\n",
    "VERSION = '20190103' # Foursquare API version\n",
    "\n",
    "print('My credentails:')\n",
    "print('CLIENT_ID: ' + CLIENT_ID)\n",
    "print('CLIENT_SECRET:' + CLIENT_SECRET)"
   ]
  },
  {
   "cell_type": "markdown",
   "metadata": {},
   "source": [
    "### Part 1: Explore the first neighborhood in the Old City of Toronto (OCoT)"
   ]
  },
  {
   "cell_type": "markdown",
   "metadata": {},
   "source": [
    "Get the first neighborhood's name"
   ]
  },
  {
   "cell_type": "code",
   "execution_count": 24,
   "metadata": {},
   "outputs": [
    {
     "data": {
      "text/plain": [
       "'Port Lands'"
      ]
     },
     "execution_count": 24,
     "metadata": {},
     "output_type": "execute_result"
    }
   ],
   "source": [
    "OCoT_df.loc[0, 'Name'] # get the information of the first row, column = 'Name'"
   ]
  },
  {
   "cell_type": "markdown",
   "metadata": {},
   "source": [
    "Get the neighborhood's latitude and longitude values"
   ]
  },
  {
   "cell_type": "code",
   "execution_count": 25,
   "metadata": {},
   "outputs": [
    {
     "name": "stdout",
     "output_type": "stream",
     "text": [
      "The latitude and longitude of Port Lands are 43.6430648, -79.3506012.\n"
     ]
    }
   ],
   "source": [
    "neighborhood_latitude = OCoT_df.loc[0, 'Latitude'] # neighborhood latitude value\n",
    "neighborhood_longitude = OCoT_df.loc[0, 'Longitude'] # neighborhood longitude value\n",
    "\n",
    "neighborhood_name = OCoT_df.loc[0, 'Name'] # neighborhood name\n",
    "\n",
    "print('The latitude and longitude of {} are {}, {}.'.format(neighborhood_name, \n",
    "                                                               neighborhood_latitude, \n",
    "                                                               neighborhood_longitude))"
   ]
  },
  {
   "cell_type": "markdown",
   "metadata": {},
   "source": [
    "#### Extract the top 100 venues that are in this neighborhood within a radius of 500 meters."
   ]
  },
  {
   "cell_type": "markdown",
   "metadata": {},
   "source": [
    "##### **Step 1**: Get the url for the Foursqurae API"
   ]
  },
  {
   "cell_type": "code",
   "execution_count": 26,
   "metadata": {},
   "outputs": [
    {
     "data": {
      "text/plain": [
       "'https://api.foursquare.com/v2/venues/explore?&client_id=20YHTHRNXTTGMZBL2VPZTY0II3WY0Q4UD3BQC2RAWFQSYROE&client_secret=RP5YFHFIGAV4XXIKPJRQ1SHLHDAXE1WUKRNIE3UFXFGCDWAO&v=20190103&ll=43.6430648,-79.3506012&radius=500&limit=100'"
      ]
     },
     "execution_count": 26,
     "metadata": {},
     "output_type": "execute_result"
    }
   ],
   "source": [
    "LIMIT = 100 # limit of number of venues returned by Foursquare API\n",
    "radius = 500 # define radius\n",
    "url = 'https://api.foursquare.com/v2/venues/explore?&client_id={}&client_secret={}&v={}&ll={},{}&radius={}&limit={}'.format(\n",
    "    CLIENT_ID, \n",
    "    CLIENT_SECRET, \n",
    "    VERSION, \n",
    "    neighborhood_latitude, \n",
    "    neighborhood_longitude, \n",
    "    radius, \n",
    "    LIMIT)\n",
    "url"
   ]
  },
  {
   "cell_type": "markdown",
   "metadata": {},
   "source": [
    "##### **Step 2**: Send the GET request and extract the information step by step"
   ]
  },
  {
   "cell_type": "markdown",
   "metadata": {},
   "source": [
    "**a.** get the overal results"
   ]
  },
  {
   "cell_type": "code",
   "execution_count": 27,
   "metadata": {},
   "outputs": [
    {
     "data": {
      "text/plain": [
       "dict_keys(['meta', 'response'])"
      ]
     },
     "execution_count": 27,
     "metadata": {},
     "output_type": "execute_result"
    }
   ],
   "source": [
    "result = requests.get(url).json()\n",
    "result.keys()"
   ]
  },
  {
   "cell_type": "markdown",
   "metadata": {},
   "source": [
    "I can also check what we get from the result. Since it is too long, I won't print it here now."
   ]
  },
  {
   "cell_type": "code",
   "execution_count": 28,
   "metadata": {},
   "outputs": [],
   "source": [
    "#result"
   ]
  },
  {
   "cell_type": "markdown",
   "metadata": {},
   "source": [
    "**b.** get the venues from the **key: response**"
   ]
  },
  {
   "cell_type": "code",
   "execution_count": 30,
   "metadata": {},
   "outputs": [
    {
     "data": {
      "text/plain": [
       "[{'reasons': {'count': 0,\n",
       "   'items': [{'summary': 'This spot is popular',\n",
       "     'type': 'general',\n",
       "     'reasonName': 'globalInteractionReason'}]},\n",
       "  'venue': {'id': '57954f2e498e85cfbae8070e',\n",
       "   'name': 'Cirque du Soleil - LUZIA',\n",
       "   'location': {'address': '51 Commissioners Street',\n",
       "    'crossStreet': 'Cherry Street',\n",
       "    'lat': 43.644790760637946,\n",
       "    'lng': -79.35100021351447,\n",
       "    'labeledLatLngs': [{'label': 'display',\n",
       "      'lat': 43.644790760637946,\n",
       "      'lng': -79.35100021351447}],\n",
       "    'distance': 194,\n",
       "    'cc': 'CA',\n",
       "    'neighborhood': 'Port Lands',\n",
       "    'city': 'Toronto',\n",
       "    'state': 'ON',\n",
       "    'country': 'Canada',\n",
       "    'formattedAddress': ['51 Commissioners Street (Cherry Street)',\n",
       "     'Toronto ON',\n",
       "     'Canada']},\n",
       "   'categories': [{'id': '52e81612bcbc57f1066b79e7',\n",
       "     'name': 'Circus',\n",
       "     'pluralName': 'Circuses',\n",
       "     'shortName': 'Circus',\n",
       "     'icon': {'prefix': 'https://ss3.4sqi.net/img/categories_v2/arts_entertainment/default_',\n",
       "      'suffix': '.png'},\n",
       "     'primary': True}],\n",
       "   'photos': {'count': 0, 'groups': []}},\n",
       "  'referralId': 'e-0-57954f2e498e85cfbae8070e-0'}]"
      ]
     },
     "execution_count": 30,
     "metadata": {},
     "output_type": "execute_result"
    }
   ],
   "source": [
    "# display the informaiton for the first two venues\n",
    "venues = result['response']['groups'][0]['items']\n",
    "venues[0:1]"
   ]
  },
  {
   "cell_type": "raw",
   "metadata": {},
   "source": [
    "Print the first part of the venues."
   ]
  },
  {
   "cell_type": "markdown",
   "metadata": {},
   "source": [
    "**c.** flatten JSON and structure it into a **pandas** dataframe."
   ]
  },
  {
   "cell_type": "code",
   "execution_count": 31,
   "metadata": {},
   "outputs": [
    {
     "data": {
      "text/html": [
       "<div>\n",
       "<style scoped>\n",
       "    .dataframe tbody tr th:only-of-type {\n",
       "        vertical-align: middle;\n",
       "    }\n",
       "\n",
       "    .dataframe tbody tr th {\n",
       "        vertical-align: top;\n",
       "    }\n",
       "\n",
       "    .dataframe thead th {\n",
       "        text-align: right;\n",
       "    }\n",
       "</style>\n",
       "<table border=\"1\" class=\"dataframe\">\n",
       "  <thead>\n",
       "    <tr style=\"text-align: right;\">\n",
       "      <th></th>\n",
       "      <th>reasons.count</th>\n",
       "      <th>reasons.items</th>\n",
       "      <th>referralId</th>\n",
       "      <th>venue.categories</th>\n",
       "      <th>venue.id</th>\n",
       "      <th>venue.location.address</th>\n",
       "      <th>venue.location.cc</th>\n",
       "      <th>venue.location.city</th>\n",
       "      <th>venue.location.country</th>\n",
       "      <th>venue.location.crossStreet</th>\n",
       "      <th>...</th>\n",
       "      <th>venue.location.labeledLatLngs</th>\n",
       "      <th>venue.location.lat</th>\n",
       "      <th>venue.location.lng</th>\n",
       "      <th>venue.location.neighborhood</th>\n",
       "      <th>venue.location.postalCode</th>\n",
       "      <th>venue.location.state</th>\n",
       "      <th>venue.name</th>\n",
       "      <th>venue.photos.count</th>\n",
       "      <th>venue.photos.groups</th>\n",
       "      <th>venue.venuePage.id</th>\n",
       "    </tr>\n",
       "  </thead>\n",
       "  <tbody>\n",
       "    <tr>\n",
       "      <th>0</th>\n",
       "      <td>0</td>\n",
       "      <td>[{'summary': 'This spot is popular', 'type': '...</td>\n",
       "      <td>e-0-57954f2e498e85cfbae8070e-0</td>\n",
       "      <td>[{'id': '52e81612bcbc57f1066b79e7', 'name': 'C...</td>\n",
       "      <td>57954f2e498e85cfbae8070e</td>\n",
       "      <td>51 Commissioners Street</td>\n",
       "      <td>CA</td>\n",
       "      <td>Toronto</td>\n",
       "      <td>Canada</td>\n",
       "      <td>Cherry Street</td>\n",
       "      <td>...</td>\n",
       "      <td>[{'label': 'display', 'lat': 43.64479076063794...</td>\n",
       "      <td>43.644791</td>\n",
       "      <td>-79.351000</td>\n",
       "      <td>Port Lands</td>\n",
       "      <td>NaN</td>\n",
       "      <td>ON</td>\n",
       "      <td>Cirque du Soleil - LUZIA</td>\n",
       "      <td>0</td>\n",
       "      <td>[]</td>\n",
       "      <td>NaN</td>\n",
       "    </tr>\n",
       "    <tr>\n",
       "      <th>1</th>\n",
       "      <td>0</td>\n",
       "      <td>[{'summary': 'This spot is popular', 'type': '...</td>\n",
       "      <td>e-0-4ad8f18ef964a520401621e3-1</td>\n",
       "      <td>[{'id': '52f2ab2ebcbc57f1066b8b46', 'name': 'S...</td>\n",
       "      <td>4ad8f18ef964a520401621e3</td>\n",
       "      <td>222 Cherry St.</td>\n",
       "      <td>CA</td>\n",
       "      <td>Toronto</td>\n",
       "      <td>Canada</td>\n",
       "      <td>btwn Commissioners St. &amp; Polson St.</td>\n",
       "      <td>...</td>\n",
       "      <td>[{'label': 'display', 'lat': 43.64349082636327...</td>\n",
       "      <td>43.643491</td>\n",
       "      <td>-79.351526</td>\n",
       "      <td>NaN</td>\n",
       "      <td>M5A 3L2</td>\n",
       "      <td>ON</td>\n",
       "      <td>T&amp;T Supermarket 大統華超級市場</td>\n",
       "      <td>0</td>\n",
       "      <td>[]</td>\n",
       "      <td>NaN</td>\n",
       "    </tr>\n",
       "    <tr>\n",
       "      <th>2</th>\n",
       "      <td>0</td>\n",
       "      <td>[{'summary': 'This spot is popular', 'type': '...</td>\n",
       "      <td>e-0-52adedf011d24be20f5c4a8f-2</td>\n",
       "      <td>[{'id': '4f4528bc4b90abdf24c9de85', 'name': 'A...</td>\n",
       "      <td>52adedf011d24be20f5c4a8f</td>\n",
       "      <td>33 Villiers St</td>\n",
       "      <td>CA</td>\n",
       "      <td>Toronto</td>\n",
       "      <td>Canada</td>\n",
       "      <td>Villiers St. &amp; Cherry St.</td>\n",
       "      <td>...</td>\n",
       "      <td>[{'label': 'display', 'lat': 43.64708818241131...</td>\n",
       "      <td>43.647088</td>\n",
       "      <td>-79.351306</td>\n",
       "      <td>NaN</td>\n",
       "      <td>M5A 1A9</td>\n",
       "      <td>ON</td>\n",
       "      <td>BATLgrounds</td>\n",
       "      <td>0</td>\n",
       "      <td>[]</td>\n",
       "      <td>NaN</td>\n",
       "    </tr>\n",
       "    <tr>\n",
       "      <th>3</th>\n",
       "      <td>0</td>\n",
       "      <td>[{'summary': 'This spot is popular', 'type': '...</td>\n",
       "      <td>e-0-4c61f78ae1621b8d1f832253-3</td>\n",
       "      <td>[{'id': '4bf58dd8d48988d1f4931735', 'name': 'R...</td>\n",
       "      <td>4c61f78ae1621b8d1f832253</td>\n",
       "      <td>18 Polson St</td>\n",
       "      <td>CA</td>\n",
       "      <td>Toronto</td>\n",
       "      <td>Canada</td>\n",
       "      <td>NaN</td>\n",
       "      <td>...</td>\n",
       "      <td>[{'label': 'display', 'lat': 43.64251250706496...</td>\n",
       "      <td>43.642513</td>\n",
       "      <td>-79.351435</td>\n",
       "      <td>NaN</td>\n",
       "      <td>M5A 1A4</td>\n",
       "      <td>ON</td>\n",
       "      <td>Polson Go-karts</td>\n",
       "      <td>0</td>\n",
       "      <td>[]</td>\n",
       "      <td>NaN</td>\n",
       "    </tr>\n",
       "    <tr>\n",
       "      <th>4</th>\n",
       "      <td>0</td>\n",
       "      <td>[{'summary': 'This spot is popular', 'type': '...</td>\n",
       "      <td>e-0-59b1d9cc0d8a0f05289576f0-4</td>\n",
       "      <td>[{'id': '52e81612bcbc57f1066b79e7', 'name': 'C...</td>\n",
       "      <td>59b1d9cc0d8a0f05289576f0</td>\n",
       "      <td>51 commissioner st.</td>\n",
       "      <td>CA</td>\n",
       "      <td>Toronto</td>\n",
       "      <td>Canada</td>\n",
       "      <td>NaN</td>\n",
       "      <td>...</td>\n",
       "      <td>[{'label': 'display', 'lat': 43.64499835363828...</td>\n",
       "      <td>43.644998</td>\n",
       "      <td>-79.351213</td>\n",
       "      <td>NaN</td>\n",
       "      <td>NaN</td>\n",
       "      <td>ON</td>\n",
       "      <td>Cirque Du Soleil - Volta</td>\n",
       "      <td>0</td>\n",
       "      <td>[]</td>\n",
       "      <td>NaN</td>\n",
       "    </tr>\n",
       "  </tbody>\n",
       "</table>\n",
       "<p>5 rows × 22 columns</p>\n",
       "</div>"
      ],
      "text/plain": [
       "   reasons.count                                      reasons.items  \\\n",
       "0              0  [{'summary': 'This spot is popular', 'type': '...   \n",
       "1              0  [{'summary': 'This spot is popular', 'type': '...   \n",
       "2              0  [{'summary': 'This spot is popular', 'type': '...   \n",
       "3              0  [{'summary': 'This spot is popular', 'type': '...   \n",
       "4              0  [{'summary': 'This spot is popular', 'type': '...   \n",
       "\n",
       "                       referralId  \\\n",
       "0  e-0-57954f2e498e85cfbae8070e-0   \n",
       "1  e-0-4ad8f18ef964a520401621e3-1   \n",
       "2  e-0-52adedf011d24be20f5c4a8f-2   \n",
       "3  e-0-4c61f78ae1621b8d1f832253-3   \n",
       "4  e-0-59b1d9cc0d8a0f05289576f0-4   \n",
       "\n",
       "                                    venue.categories  \\\n",
       "0  [{'id': '52e81612bcbc57f1066b79e7', 'name': 'C...   \n",
       "1  [{'id': '52f2ab2ebcbc57f1066b8b46', 'name': 'S...   \n",
       "2  [{'id': '4f4528bc4b90abdf24c9de85', 'name': 'A...   \n",
       "3  [{'id': '4bf58dd8d48988d1f4931735', 'name': 'R...   \n",
       "4  [{'id': '52e81612bcbc57f1066b79e7', 'name': 'C...   \n",
       "\n",
       "                   venue.id   venue.location.address venue.location.cc  \\\n",
       "0  57954f2e498e85cfbae8070e  51 Commissioners Street                CA   \n",
       "1  4ad8f18ef964a520401621e3           222 Cherry St.                CA   \n",
       "2  52adedf011d24be20f5c4a8f           33 Villiers St                CA   \n",
       "3  4c61f78ae1621b8d1f832253             18 Polson St                CA   \n",
       "4  59b1d9cc0d8a0f05289576f0      51 commissioner st.                CA   \n",
       "\n",
       "  venue.location.city venue.location.country  \\\n",
       "0             Toronto                 Canada   \n",
       "1             Toronto                 Canada   \n",
       "2             Toronto                 Canada   \n",
       "3             Toronto                 Canada   \n",
       "4             Toronto                 Canada   \n",
       "\n",
       "            venue.location.crossStreet         ...          \\\n",
       "0                        Cherry Street         ...           \n",
       "1  btwn Commissioners St. & Polson St.         ...           \n",
       "2            Villiers St. & Cherry St.         ...           \n",
       "3                                  NaN         ...           \n",
       "4                                  NaN         ...           \n",
       "\n",
       "                       venue.location.labeledLatLngs venue.location.lat  \\\n",
       "0  [{'label': 'display', 'lat': 43.64479076063794...          43.644791   \n",
       "1  [{'label': 'display', 'lat': 43.64349082636327...          43.643491   \n",
       "2  [{'label': 'display', 'lat': 43.64708818241131...          43.647088   \n",
       "3  [{'label': 'display', 'lat': 43.64251250706496...          43.642513   \n",
       "4  [{'label': 'display', 'lat': 43.64499835363828...          43.644998   \n",
       "\n",
       "  venue.location.lng  venue.location.neighborhood  venue.location.postalCode  \\\n",
       "0         -79.351000                   Port Lands                        NaN   \n",
       "1         -79.351526                          NaN                    M5A 3L2   \n",
       "2         -79.351306                          NaN                    M5A 1A9   \n",
       "3         -79.351435                          NaN                    M5A 1A4   \n",
       "4         -79.351213                          NaN                        NaN   \n",
       "\n",
       "  venue.location.state                venue.name venue.photos.count  \\\n",
       "0                   ON  Cirque du Soleil - LUZIA                  0   \n",
       "1                   ON   T&T Supermarket 大統華超級市場                  0   \n",
       "2                   ON               BATLgrounds                  0   \n",
       "3                   ON           Polson Go-karts                  0   \n",
       "4                   ON  Cirque Du Soleil - Volta                  0   \n",
       "\n",
       "  venue.photos.groups  venue.venuePage.id  \n",
       "0                  []                 NaN  \n",
       "1                  []                 NaN  \n",
       "2                  []                 NaN  \n",
       "3                  []                 NaN  \n",
       "4                  []                 NaN  \n",
       "\n",
       "[5 rows x 22 columns]"
      ]
     },
     "execution_count": 31,
     "metadata": {},
     "output_type": "execute_result"
    }
   ],
   "source": [
    "nearby_venues = json_normalize(venues)\n",
    "nearby_venues.head()"
   ]
  },
  {
   "cell_type": "markdown",
   "metadata": {},
   "source": [
    "**d.** filter columns, extract the columns (or features) of interested, **'venue.name', 'venue.categories', 'venue.location.lat', 'venue.location.lng'**"
   ]
  },
  {
   "cell_type": "code",
   "execution_count": 32,
   "metadata": {},
   "outputs": [],
   "source": [
    "filtered_columns = ['venue.name', 'venue.categories', 'venue.location.lat', 'venue.location.lng']\n",
    "nearby_venues =nearby_venues.loc[:, filtered_columns]"
   ]
  },
  {
   "cell_type": "code",
   "execution_count": 33,
   "metadata": {},
   "outputs": [
    {
     "data": {
      "text/html": [
       "<div>\n",
       "<style scoped>\n",
       "    .dataframe tbody tr th:only-of-type {\n",
       "        vertical-align: middle;\n",
       "    }\n",
       "\n",
       "    .dataframe tbody tr th {\n",
       "        vertical-align: top;\n",
       "    }\n",
       "\n",
       "    .dataframe thead th {\n",
       "        text-align: right;\n",
       "    }\n",
       "</style>\n",
       "<table border=\"1\" class=\"dataframe\">\n",
       "  <thead>\n",
       "    <tr style=\"text-align: right;\">\n",
       "      <th></th>\n",
       "      <th>venue.name</th>\n",
       "      <th>venue.categories</th>\n",
       "      <th>venue.location.lat</th>\n",
       "      <th>venue.location.lng</th>\n",
       "    </tr>\n",
       "  </thead>\n",
       "  <tbody>\n",
       "    <tr>\n",
       "      <th>0</th>\n",
       "      <td>Cirque du Soleil - LUZIA</td>\n",
       "      <td>[{'id': '52e81612bcbc57f1066b79e7', 'name': 'C...</td>\n",
       "      <td>43.644791</td>\n",
       "      <td>-79.351000</td>\n",
       "    </tr>\n",
       "    <tr>\n",
       "      <th>1</th>\n",
       "      <td>T&amp;T Supermarket 大統華超級市場</td>\n",
       "      <td>[{'id': '52f2ab2ebcbc57f1066b8b46', 'name': 'S...</td>\n",
       "      <td>43.643491</td>\n",
       "      <td>-79.351526</td>\n",
       "    </tr>\n",
       "    <tr>\n",
       "      <th>2</th>\n",
       "      <td>BATLgrounds</td>\n",
       "      <td>[{'id': '4f4528bc4b90abdf24c9de85', 'name': 'A...</td>\n",
       "      <td>43.647088</td>\n",
       "      <td>-79.351306</td>\n",
       "    </tr>\n",
       "    <tr>\n",
       "      <th>3</th>\n",
       "      <td>Polson Go-karts</td>\n",
       "      <td>[{'id': '4bf58dd8d48988d1f4931735', 'name': 'R...</td>\n",
       "      <td>43.642513</td>\n",
       "      <td>-79.351435</td>\n",
       "    </tr>\n",
       "    <tr>\n",
       "      <th>4</th>\n",
       "      <td>Cirque Du Soleil - Volta</td>\n",
       "      <td>[{'id': '52e81612bcbc57f1066b79e7', 'name': 'C...</td>\n",
       "      <td>43.644998</td>\n",
       "      <td>-79.351213</td>\n",
       "    </tr>\n",
       "  </tbody>\n",
       "</table>\n",
       "</div>"
      ],
      "text/plain": [
       "                 venue.name  \\\n",
       "0  Cirque du Soleil - LUZIA   \n",
       "1   T&T Supermarket 大統華超級市場   \n",
       "2               BATLgrounds   \n",
       "3           Polson Go-karts   \n",
       "4  Cirque Du Soleil - Volta   \n",
       "\n",
       "                                    venue.categories  venue.location.lat  \\\n",
       "0  [{'id': '52e81612bcbc57f1066b79e7', 'name': 'C...           43.644791   \n",
       "1  [{'id': '52f2ab2ebcbc57f1066b8b46', 'name': 'S...           43.643491   \n",
       "2  [{'id': '4f4528bc4b90abdf24c9de85', 'name': 'A...           43.647088   \n",
       "3  [{'id': '4bf58dd8d48988d1f4931735', 'name': 'R...           43.642513   \n",
       "4  [{'id': '52e81612bcbc57f1066b79e7', 'name': 'C...           43.644998   \n",
       "\n",
       "   venue.location.lng  \n",
       "0          -79.351000  \n",
       "1          -79.351526  \n",
       "2          -79.351306  \n",
       "3          -79.351435  \n",
       "4          -79.351213  "
      ]
     },
     "execution_count": 33,
     "metadata": {},
     "output_type": "execute_result"
    }
   ],
   "source": [
    "nearby_venues.head()"
   ]
  },
  {
   "cell_type": "markdown",
   "metadata": {},
   "source": [
    "**e.** clear the **venue.categories**, extract the **name** from categories"
   ]
  },
  {
   "cell_type": "markdown",
   "metadata": {},
   "source": [
    "Take the first venue as the example, extract the **name** from the categories"
   ]
  },
  {
   "cell_type": "code",
   "execution_count": 34,
   "metadata": {},
   "outputs": [
    {
     "data": {
      "text/plain": [
       "[{'id': '52e81612bcbc57f1066b79e7',\n",
       "  'name': 'Circus',\n",
       "  'pluralName': 'Circuses',\n",
       "  'shortName': 'Circus',\n",
       "  'icon': {'prefix': 'https://ss3.4sqi.net/img/categories_v2/arts_entertainment/default_',\n",
       "   'suffix': '.png'},\n",
       "  'primary': True}]"
      ]
     },
     "execution_count": 34,
     "metadata": {},
     "output_type": "execute_result"
    }
   ],
   "source": [
    "first_venue_cat = nearby_venues.loc[0, 'venue.categories']\n",
    "first_venue_cat"
   ]
  },
  {
   "cell_type": "markdown",
   "metadata": {},
   "source": [
    "The **venue.categories** is a list with one dict"
   ]
  },
  {
   "cell_type": "code",
   "execution_count": 35,
   "metadata": {},
   "outputs": [
    {
     "data": {
      "text/plain": [
       "'Circus'"
      ]
     },
     "execution_count": 35,
     "metadata": {},
     "output_type": "execute_result"
    }
   ],
   "source": [
    "first_venue_cat[0]['name']"
   ]
  },
  {
   "cell_type": "markdown",
   "metadata": {},
   "source": [
    "Create a new feature with the **category.name** values only for all venues"
   ]
  },
  {
   "cell_type": "code",
   "execution_count": 36,
   "metadata": {},
   "outputs": [
    {
     "data": {
      "text/html": [
       "<div>\n",
       "<style scoped>\n",
       "    .dataframe tbody tr th:only-of-type {\n",
       "        vertical-align: middle;\n",
       "    }\n",
       "\n",
       "    .dataframe tbody tr th {\n",
       "        vertical-align: top;\n",
       "    }\n",
       "\n",
       "    .dataframe thead th {\n",
       "        text-align: right;\n",
       "    }\n",
       "</style>\n",
       "<table border=\"1\" class=\"dataframe\">\n",
       "  <thead>\n",
       "    <tr style=\"text-align: right;\">\n",
       "      <th></th>\n",
       "      <th>venue.name</th>\n",
       "      <th>venue.categories</th>\n",
       "      <th>venue.location.lat</th>\n",
       "      <th>venue.location.lng</th>\n",
       "      <th>category</th>\n",
       "    </tr>\n",
       "  </thead>\n",
       "  <tbody>\n",
       "    <tr>\n",
       "      <th>0</th>\n",
       "      <td>Cirque du Soleil - LUZIA</td>\n",
       "      <td>[{'id': '52e81612bcbc57f1066b79e7', 'name': 'C...</td>\n",
       "      <td>43.644791</td>\n",
       "      <td>-79.351000</td>\n",
       "      <td>Circus</td>\n",
       "    </tr>\n",
       "    <tr>\n",
       "      <th>1</th>\n",
       "      <td>T&amp;T Supermarket 大統華超級市場</td>\n",
       "      <td>[{'id': '52f2ab2ebcbc57f1066b8b46', 'name': 'S...</td>\n",
       "      <td>43.643491</td>\n",
       "      <td>-79.351526</td>\n",
       "      <td>Supermarket</td>\n",
       "    </tr>\n",
       "    <tr>\n",
       "      <th>2</th>\n",
       "      <td>BATLgrounds</td>\n",
       "      <td>[{'id': '4f4528bc4b90abdf24c9de85', 'name': 'A...</td>\n",
       "      <td>43.647088</td>\n",
       "      <td>-79.351306</td>\n",
       "      <td>Athletics &amp; Sports</td>\n",
       "    </tr>\n",
       "    <tr>\n",
       "      <th>3</th>\n",
       "      <td>Polson Go-karts</td>\n",
       "      <td>[{'id': '4bf58dd8d48988d1f4931735', 'name': 'R...</td>\n",
       "      <td>43.642513</td>\n",
       "      <td>-79.351435</td>\n",
       "      <td>Racetrack</td>\n",
       "    </tr>\n",
       "    <tr>\n",
       "      <th>4</th>\n",
       "      <td>Cirque Du Soleil - Volta</td>\n",
       "      <td>[{'id': '52e81612bcbc57f1066b79e7', 'name': 'C...</td>\n",
       "      <td>43.644998</td>\n",
       "      <td>-79.351213</td>\n",
       "      <td>Circus</td>\n",
       "    </tr>\n",
       "  </tbody>\n",
       "</table>\n",
       "</div>"
      ],
      "text/plain": [
       "                 venue.name  \\\n",
       "0  Cirque du Soleil - LUZIA   \n",
       "1   T&T Supermarket 大統華超級市場   \n",
       "2               BATLgrounds   \n",
       "3           Polson Go-karts   \n",
       "4  Cirque Du Soleil - Volta   \n",
       "\n",
       "                                    venue.categories  venue.location.lat  \\\n",
       "0  [{'id': '52e81612bcbc57f1066b79e7', 'name': 'C...           43.644791   \n",
       "1  [{'id': '52f2ab2ebcbc57f1066b8b46', 'name': 'S...           43.643491   \n",
       "2  [{'id': '4f4528bc4b90abdf24c9de85', 'name': 'A...           43.647088   \n",
       "3  [{'id': '4bf58dd8d48988d1f4931735', 'name': 'R...           43.642513   \n",
       "4  [{'id': '52e81612bcbc57f1066b79e7', 'name': 'C...           43.644998   \n",
       "\n",
       "   venue.location.lng            category  \n",
       "0          -79.351000              Circus  \n",
       "1          -79.351526         Supermarket  \n",
       "2          -79.351306  Athletics & Sports  \n",
       "3          -79.351435           Racetrack  \n",
       "4          -79.351213              Circus  "
      ]
     },
     "execution_count": 36,
     "metadata": {},
     "output_type": "execute_result"
    }
   ],
   "source": [
    "nearby_venues['category'] = [v[0]['name'] for v in nearby_venues['venue.categories']]\n",
    "nearby_venues.head()"
   ]
  },
  {
   "cell_type": "markdown",
   "metadata": {},
   "source": [
    "**f.** clear the columns, ane remove the unnecessary column **venue.categories**"
   ]
  },
  {
   "cell_type": "code",
   "execution_count": 37,
   "metadata": {},
   "outputs": [],
   "source": [
    "nearby_venues.rename(columns = {'venue.name':'name', 'venue.location.lat':'lat', 'venue.location.lng':'lng'}, inplace = True)"
   ]
  },
  {
   "cell_type": "code",
   "execution_count": 38,
   "metadata": {},
   "outputs": [],
   "source": [
    "nearby_venues.drop(['venue.categories'], axis = 1, inplace = True)"
   ]
  },
  {
   "cell_type": "code",
   "execution_count": 39,
   "metadata": {},
   "outputs": [
    {
     "data": {
      "text/html": [
       "<div>\n",
       "<style scoped>\n",
       "    .dataframe tbody tr th:only-of-type {\n",
       "        vertical-align: middle;\n",
       "    }\n",
       "\n",
       "    .dataframe tbody tr th {\n",
       "        vertical-align: top;\n",
       "    }\n",
       "\n",
       "    .dataframe thead th {\n",
       "        text-align: right;\n",
       "    }\n",
       "</style>\n",
       "<table border=\"1\" class=\"dataframe\">\n",
       "  <thead>\n",
       "    <tr style=\"text-align: right;\">\n",
       "      <th></th>\n",
       "      <th>name</th>\n",
       "      <th>category</th>\n",
       "      <th>lat</th>\n",
       "      <th>lng</th>\n",
       "    </tr>\n",
       "  </thead>\n",
       "  <tbody>\n",
       "    <tr>\n",
       "      <th>0</th>\n",
       "      <td>Cirque du Soleil - LUZIA</td>\n",
       "      <td>Circus</td>\n",
       "      <td>43.644791</td>\n",
       "      <td>-79.351000</td>\n",
       "    </tr>\n",
       "    <tr>\n",
       "      <th>1</th>\n",
       "      <td>T&amp;T Supermarket 大統華超級市場</td>\n",
       "      <td>Supermarket</td>\n",
       "      <td>43.643491</td>\n",
       "      <td>-79.351526</td>\n",
       "    </tr>\n",
       "    <tr>\n",
       "      <th>2</th>\n",
       "      <td>BATLgrounds</td>\n",
       "      <td>Athletics &amp; Sports</td>\n",
       "      <td>43.647088</td>\n",
       "      <td>-79.351306</td>\n",
       "    </tr>\n",
       "    <tr>\n",
       "      <th>3</th>\n",
       "      <td>Polson Go-karts</td>\n",
       "      <td>Racetrack</td>\n",
       "      <td>43.642513</td>\n",
       "      <td>-79.351435</td>\n",
       "    </tr>\n",
       "    <tr>\n",
       "      <th>4</th>\n",
       "      <td>Cirque Du Soleil - Volta</td>\n",
       "      <td>Circus</td>\n",
       "      <td>43.644998</td>\n",
       "      <td>-79.351213</td>\n",
       "    </tr>\n",
       "  </tbody>\n",
       "</table>\n",
       "</div>"
      ],
      "text/plain": [
       "                       name            category        lat        lng\n",
       "0  Cirque du Soleil - LUZIA              Circus  43.644791 -79.351000\n",
       "1   T&T Supermarket 大統華超級市場         Supermarket  43.643491 -79.351526\n",
       "2               BATLgrounds  Athletics & Sports  43.647088 -79.351306\n",
       "3           Polson Go-karts           Racetrack  43.642513 -79.351435\n",
       "4  Cirque Du Soleil - Volta              Circus  43.644998 -79.351213"
      ]
     },
     "execution_count": 39,
     "metadata": {},
     "output_type": "execute_result"
    }
   ],
   "source": [
    "# change the orders of the columns\n",
    "column_order = ['name', 'category', 'lat', 'lng']\n",
    "nearby_venues[column_order].head()"
   ]
  },
  {
   "cell_type": "markdown",
   "metadata": {},
   "source": [
    "Alternative method to rename the columns"
   ]
  },
  {
   "cell_type": "code",
   "execution_count": 40,
   "metadata": {},
   "outputs": [],
   "source": [
    "#earby_venues.columns = [col.split(\".\")[-1] for col in nearby_venues.columns]"
   ]
  },
  {
   "cell_type": "code",
   "execution_count": 41,
   "metadata": {},
   "outputs": [
    {
     "data": {
      "text/html": [
       "<div style=\"width:100%;\"><div style=\"position:relative;width:100%;height:0;padding-bottom:60%;\"><iframe src=\"data:text/html;charset=utf-8;base64,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\" style=\"position:absolute;width:100%;height:100%;left:0;top:0;border:none !important;\" allowfullscreen webkitallowfullscreen mozallowfullscreen></iframe></div></div>"
      ],
      "text/plain": [
       "<folium.folium.Map at 0x1a17999080>"
      ]
     },
     "execution_count": 41,
     "metadata": {},
     "output_type": "execute_result"
    }
   ],
   "source": [
    "# create map of the venues from the first neighborhood in Old City of Toronto using latitude and longitude values\n",
    "map_first_OCoT = folium.Map(location=[latitude, longitude], zoom_start=10)\n",
    "\n",
    "# add markers to map\n",
    "for lat, lng, category, Name in zip(nearby_venues['lat'], nearby_venues['lng'], nearby_venues['category'], nearby_venues['name']):\n",
    "    label = '{}, {}'.format(Name, category)\n",
    "    label = folium.Popup(label, parse_html=True)\n",
    "    folium.CircleMarker(\n",
    "        [lat, lng],\n",
    "        radius=5,\n",
    "        popup=label,\n",
    "        color='green',\n",
    "        fill=True,\n",
    "        fill_color='#3186cc',\n",
    "        fill_opacity=0.7,\n",
    "        parse_html=False).add_to(map_first_OCoT)  \n",
    "    \n",
    "map_first_OCoT"
   ]
  },
  {
   "cell_type": "markdown",
   "metadata": {},
   "source": [
    "### Part 2. Explore all neighborhoods in Old City of Toronto (OCoT)"
   ]
  },
  {
   "cell_type": "markdown",
   "metadata": {},
   "source": [
    "For each neighborhood in Old City of Toronton, find the venues within radius = 500. "
   ]
  },
  {
   "cell_type": "markdown",
   "metadata": {},
   "source": [
    "Review the dataset OCoT_df"
   ]
  },
  {
   "cell_type": "code",
   "execution_count": 42,
   "metadata": {},
   "outputs": [
    {
     "data": {
      "text/html": [
       "<div>\n",
       "<style scoped>\n",
       "    .dataframe tbody tr th:only-of-type {\n",
       "        vertical-align: middle;\n",
       "    }\n",
       "\n",
       "    .dataframe tbody tr th {\n",
       "        vertical-align: top;\n",
       "    }\n",
       "\n",
       "    .dataframe thead th {\n",
       "        text-align: right;\n",
       "    }\n",
       "</style>\n",
       "<table border=\"1\" class=\"dataframe\">\n",
       "  <thead>\n",
       "    <tr style=\"text-align: right;\">\n",
       "      <th></th>\n",
       "      <th>Name</th>\n",
       "      <th>FM</th>\n",
       "      <th>Full_FM</th>\n",
       "      <th>Latitude</th>\n",
       "      <th>Longitude</th>\n",
       "    </tr>\n",
       "  </thead>\n",
       "  <tbody>\n",
       "    <tr>\n",
       "      <th>0</th>\n",
       "      <td>Port Lands</td>\n",
       "      <td>OCoT</td>\n",
       "      <td>Old City of Toronto</td>\n",
       "      <td>43.643065</td>\n",
       "      <td>-79.350601</td>\n",
       "    </tr>\n",
       "    <tr>\n",
       "      <th>1</th>\n",
       "      <td>Toronto Islands</td>\n",
       "      <td>OCoT</td>\n",
       "      <td>Old City of Toronto</td>\n",
       "      <td>43.616196</td>\n",
       "      <td>-79.369358</td>\n",
       "    </tr>\n",
       "    <tr>\n",
       "      <th>2</th>\n",
       "      <td>Parkdale</td>\n",
       "      <td>OCoT</td>\n",
       "      <td>Old City of Toronto</td>\n",
       "      <td>43.637178</td>\n",
       "      <td>-79.436004</td>\n",
       "    </tr>\n",
       "    <tr>\n",
       "      <th>3</th>\n",
       "      <td>Niagara</td>\n",
       "      <td>OCoT</td>\n",
       "      <td>Old City of Toronto</td>\n",
       "      <td>43.063189</td>\n",
       "      <td>-79.309809</td>\n",
       "    </tr>\n",
       "    <tr>\n",
       "      <th>4</th>\n",
       "      <td>Fashion District</td>\n",
       "      <td>OCoT</td>\n",
       "      <td>Old City of Toronto</td>\n",
       "      <td>43.645456</td>\n",
       "      <td>-79.394994</td>\n",
       "    </tr>\n",
       "  </tbody>\n",
       "</table>\n",
       "</div>"
      ],
      "text/plain": [
       "               Name    FM              Full_FM   Latitude  Longitude\n",
       "0        Port Lands  OCoT  Old City of Toronto  43.643065 -79.350601\n",
       "1   Toronto Islands  OCoT  Old City of Toronto  43.616196 -79.369358\n",
       "2          Parkdale  OCoT  Old City of Toronto  43.637178 -79.436004\n",
       "3           Niagara  OCoT  Old City of Toronto  43.063189 -79.309809\n",
       "4  Fashion District  OCoT  Old City of Toronto  43.645456 -79.394994"
      ]
     },
     "execution_count": 42,
     "metadata": {},
     "output_type": "execute_result"
    }
   ],
   "source": [
    "OCoT_df.head()"
   ]
  },
  {
   "cell_type": "markdown",
   "metadata": {},
   "source": [
    "#### Create a function to repeat the same process to get the venues of all neighborhoods in Old City of Toronto"
   ]
  },
  {
   "cell_type": "code",
   "execution_count": 43,
   "metadata": {},
   "outputs": [],
   "source": [
    "def getNearbyVenues(names, latitudes, longitudes, radius=500):\n",
    "\n",
    "    venues_list=[]\n",
    "\n",
    "    # use loop function to visit each of the neighborhood in Toronto, to get the lat, lng\n",
    "    for name, lat, lng in zip(names, latitudes, longitudes):\n",
    "\n",
    "        # create the API request URL\n",
    "        url = 'https://api.foursquare.com/v2/venues/explore?&client_id={}&client_secret={}&v={}&ll={},{}&radius={}&limit={}'.format(\n",
    "                    CLIENT_ID, \n",
    "                    CLIENT_SECRET, \n",
    "                    VERSION, \n",
    "                    lat, \n",
    "                    lng, \n",
    "                    radius, \n",
    "                    LIMIT)\n",
    "        # print(url)\n",
    "\n",
    "        # make the GET request\n",
    "        results = requests.get(url).json()[\"response\"]['groups'][0]['items']\n",
    "\n",
    "        # acquire the relevant information for each nearby venue\n",
    "        venues_list.append([(name, lat, lng,\n",
    "          v['venue']['name'], \n",
    "          v['venue']['location']['lat'],\n",
    "          v['venue']['location']['lng'], \n",
    "          v['venue']['categories'][0]['name']) for v in results])\n",
    "\n",
    "\n",
    "        # create dataframe for the venues_list\n",
    "        nearby_venues = pd.DataFrame([item for venue_list in venues_list for item in venue_list]) \n",
    "\n",
    "        # add column names\n",
    "        nearby_venues.columns = ['Neighborhood', \n",
    "                      'Neighborhood Latitude', \n",
    "                      'Neighborhood Longitude', \n",
    "                      'Venue', \n",
    "                      'Venue Latitude', \n",
    "                      'Venue Longitude', \n",
    "                      'Venue Category']\n",
    "    \n",
    "    return nearby_venues"
   ]
  },
  {
   "cell_type": "code",
   "execution_count": 44,
   "metadata": {},
   "outputs": [
    {
     "data": {
      "text/html": [
       "<div>\n",
       "<style scoped>\n",
       "    .dataframe tbody tr th:only-of-type {\n",
       "        vertical-align: middle;\n",
       "    }\n",
       "\n",
       "    .dataframe tbody tr th {\n",
       "        vertical-align: top;\n",
       "    }\n",
       "\n",
       "    .dataframe thead th {\n",
       "        text-align: right;\n",
       "    }\n",
       "</style>\n",
       "<table border=\"1\" class=\"dataframe\">\n",
       "  <thead>\n",
       "    <tr style=\"text-align: right;\">\n",
       "      <th></th>\n",
       "      <th>Neighborhood</th>\n",
       "      <th>Neighborhood Latitude</th>\n",
       "      <th>Neighborhood Longitude</th>\n",
       "      <th>Venue</th>\n",
       "      <th>Venue Latitude</th>\n",
       "      <th>Venue Longitude</th>\n",
       "      <th>Venue Category</th>\n",
       "    </tr>\n",
       "  </thead>\n",
       "  <tbody>\n",
       "    <tr>\n",
       "      <th>0</th>\n",
       "      <td>Port Lands</td>\n",
       "      <td>43.643065</td>\n",
       "      <td>-79.350601</td>\n",
       "      <td>Cirque du Soleil - LUZIA</td>\n",
       "      <td>43.644791</td>\n",
       "      <td>-79.351000</td>\n",
       "      <td>Circus</td>\n",
       "    </tr>\n",
       "    <tr>\n",
       "      <th>1</th>\n",
       "      <td>Port Lands</td>\n",
       "      <td>43.643065</td>\n",
       "      <td>-79.350601</td>\n",
       "      <td>T&amp;T Supermarket 大統華超級市場</td>\n",
       "      <td>43.643491</td>\n",
       "      <td>-79.351526</td>\n",
       "      <td>Supermarket</td>\n",
       "    </tr>\n",
       "    <tr>\n",
       "      <th>2</th>\n",
       "      <td>Port Lands</td>\n",
       "      <td>43.643065</td>\n",
       "      <td>-79.350601</td>\n",
       "      <td>BATLgrounds</td>\n",
       "      <td>43.647088</td>\n",
       "      <td>-79.351306</td>\n",
       "      <td>Athletics &amp; Sports</td>\n",
       "    </tr>\n",
       "    <tr>\n",
       "      <th>3</th>\n",
       "      <td>Port Lands</td>\n",
       "      <td>43.643065</td>\n",
       "      <td>-79.350601</td>\n",
       "      <td>Polson Go-karts</td>\n",
       "      <td>43.642513</td>\n",
       "      <td>-79.351435</td>\n",
       "      <td>Racetrack</td>\n",
       "    </tr>\n",
       "    <tr>\n",
       "      <th>4</th>\n",
       "      <td>Port Lands</td>\n",
       "      <td>43.643065</td>\n",
       "      <td>-79.350601</td>\n",
       "      <td>Cirque Du Soleil - Volta</td>\n",
       "      <td>43.644998</td>\n",
       "      <td>-79.351213</td>\n",
       "      <td>Circus</td>\n",
       "    </tr>\n",
       "  </tbody>\n",
       "</table>\n",
       "</div>"
      ],
      "text/plain": [
       "  Neighborhood  Neighborhood Latitude  Neighborhood Longitude  \\\n",
       "0   Port Lands              43.643065              -79.350601   \n",
       "1   Port Lands              43.643065              -79.350601   \n",
       "2   Port Lands              43.643065              -79.350601   \n",
       "3   Port Lands              43.643065              -79.350601   \n",
       "4   Port Lands              43.643065              -79.350601   \n",
       "\n",
       "                      Venue  Venue Latitude  Venue Longitude  \\\n",
       "0  Cirque du Soleil - LUZIA       43.644791       -79.351000   \n",
       "1   T&T Supermarket 大統華超級市場       43.643491       -79.351526   \n",
       "2               BATLgrounds       43.647088       -79.351306   \n",
       "3           Polson Go-karts       43.642513       -79.351435   \n",
       "4  Cirque Du Soleil - Volta       43.644998       -79.351213   \n",
       "\n",
       "       Venue Category  \n",
       "0              Circus  \n",
       "1         Supermarket  \n",
       "2  Athletics & Sports  \n",
       "3           Racetrack  \n",
       "4              Circus  "
      ]
     },
     "execution_count": 44,
     "metadata": {},
     "output_type": "execute_result"
    }
   ],
   "source": [
    "OCoT_venues = getNearbyVenues(OCoT_df['Name'], OCoT_df['Latitude'], OCoT_df['Longitude'])\n",
    "OCoT_venues.head()"
   ]
  },
  {
   "cell_type": "markdown",
   "metadata": {},
   "source": [
    "#### Get the counts of venues in each of the neighborhood in Old City of Toronto"
   ]
  },
  {
   "cell_type": "code",
   "execution_count": 45,
   "metadata": {},
   "outputs": [
    {
     "data": {
      "text/plain": [
       "Kensington Market           100\n",
       "Fashion District            100\n",
       "Yorkville                   100\n",
       "Financial District          100\n",
       "Alexandra Park              100\n",
       "Church and Wellesley         93\n",
       "Harbourfront / CityPlace     82\n",
       "Discovery District           79\n",
       "Little Italy                 66\n",
       "Dufferin Grove               57\n",
       "Name: Neighborhood, dtype: int64"
      ]
     },
     "execution_count": 45,
     "metadata": {},
     "output_type": "execute_result"
    }
   ],
   "source": [
    "venue_count = OCoT_venues['Neighborhood'].value_counts()\n",
    "venue_count.head(10)"
   ]
  },
  {
   "cell_type": "markdown",
   "metadata": {},
   "source": [
    "#### Find out how many unique categories can be curated from all the returned venues"
   ]
  },
  {
   "cell_type": "code",
   "execution_count": 46,
   "metadata": {},
   "outputs": [
    {
     "name": "stdout",
     "output_type": "stream",
     "text": [
      "There are 274 uniques categories.\n",
      "The categories are:  ['Circus' 'Supermarket' 'Athletics & Sports' 'Racetrack' 'Nightclub'] , etc.\n"
     ]
    }
   ],
   "source": [
    "print('There are {} uniques categories.'.format(len(OCoT_venues['Venue Category'].unique())))\n",
    "print('The categories are: ', OCoT_venues['Venue Category'].unique()[0:5], ', etc.')"
   ]
  },
  {
   "cell_type": "markdown",
   "metadata": {},
   "source": [
    "#### Get the 20 most common categories in Old City of Toronto"
   ]
  },
  {
   "cell_type": "code",
   "execution_count": 47,
   "metadata": {},
   "outputs": [
    {
     "data": {
      "text/plain": [
       "Coffee Shop            129\n",
       "Café                    93\n",
       "Bar                     64\n",
       "Italian Restaurant      61\n",
       "Restaurant              58\n",
       "Bakery                  49\n",
       "Pizza Place             45\n",
       "Sandwich Place          37\n",
       "Park                    36\n",
       "Grocery Store           35\n",
       "Sushi Restaurant        33\n",
       "Pub                     29\n",
       "Japanese Restaurant     27\n",
       "Indian Restaurant       26\n",
       "Hotel                   26\n",
       "Diner                   25\n",
       "American Restaurant     24\n",
       "Gym                     24\n",
       "Breakfast Spot          22\n",
       "Ice Cream Shop          22\n",
       "Name: Venue Category, dtype: int64"
      ]
     },
     "execution_count": 47,
     "metadata": {},
     "output_type": "execute_result"
    }
   ],
   "source": [
    "Most_common_cat = OCoT_venues['Venue Category'].value_counts()\n",
    "top_20_cat = Most_common_cat[0:20]\n",
    "top_20_cat"
   ]
  },
  {
   "cell_type": "markdown",
   "metadata": {},
   "source": [
    "#### Visualization of the top 20 categories in Old City of Toronto"
   ]
  },
  {
   "cell_type": "code",
   "execution_count": 48,
   "metadata": {},
   "outputs": [
    {
     "data": {
      "image/png": "[encoded data removed]",
      "text/plain": [
       "<Figure size 1080x720 with 1 Axes>"
      ]
     },
     "metadata": {
      "needs_background": "light"
     },
     "output_type": "display_data"
    }
   ],
   "source": [
    "ax = top_20_cat.plot(kind= 'bar',\n",
    "                                edgecolor = 'black',\n",
    "                                figsize = (15, 10),\n",
    "                                width = 0.6)\n",
    "figure_title = 'The 20 Most Common Categories in Old City of Toronto'\n",
    "#ax.set_title('The 20 Most Common Categories in Old City of Toronto', fontsize = 16)  # could edit the position of the title (loc='left', 'center', 'right')\n",
    "plt.text(10, 130, figure_title,\n",
    "         horizontalalignment='center',\n",
    "         fontsize=20)\n",
    "ax.set_xticklabels(top_20_cat.index, rotation = 90, ha = 'right', fontsize = 14)\n",
    "ax.spines['top'].set_visible(False)\n",
    "ax.spines['right'].set_visible(False)\n",
    "ax.spines['left'].set_visible(False)\n",
    "ax.axes.get_yaxis().set_visible(False)\n",
    "\n",
    "#for i in range(0, len(top_20_cat)):\n",
    "for index, value in enumerate(top_20_cat):\n",
    "    labels = value\n",
    "    plt.annotate(labels,\n",
    "                 xy = (index - 0.28, value + 1.55), \n",
    "                 color = 'black',\n",
    "                 fontsize = 14)"
   ]
  },
  {
   "cell_type": "markdown",
   "metadata": {},
   "source": [
    "From the figure above, the 'Coffee Shop' is the top 1 common venue categories among the neighborhoods in Old City of Toronto."
   ]
  },
  {
   "cell_type": "markdown",
   "metadata": {},
   "source": [
    "## 3. Analyze Categories in each Neighborhood "
   ]
  },
  {
   "cell_type": "markdown",
   "metadata": {},
   "source": [
    "At this part, the frequency of each category will be analyzed to explore the characteristics of each neighborhood in Old City of Toronto. "
   ]
  },
  {
   "cell_type": "code",
   "execution_count": 49,
   "metadata": {},
   "outputs": [
    {
     "data": {
      "text/html": [
       "<div>\n",
       "<style scoped>\n",
       "    .dataframe tbody tr th:only-of-type {\n",
       "        vertical-align: middle;\n",
       "    }\n",
       "\n",
       "    .dataframe tbody tr th {\n",
       "        vertical-align: top;\n",
       "    }\n",
       "\n",
       "    .dataframe thead th {\n",
       "        text-align: right;\n",
       "    }\n",
       "</style>\n",
       "<table border=\"1\" class=\"dataframe\">\n",
       "  <thead>\n",
       "    <tr style=\"text-align: right;\">\n",
       "      <th></th>\n",
       "      <th>Venue Category</th>\n",
       "    </tr>\n",
       "  </thead>\n",
       "  <tbody>\n",
       "    <tr>\n",
       "      <th>0</th>\n",
       "      <td>Circus</td>\n",
       "    </tr>\n",
       "    <tr>\n",
       "      <th>1</th>\n",
       "      <td>Supermarket</td>\n",
       "    </tr>\n",
       "    <tr>\n",
       "      <th>2</th>\n",
       "      <td>Athletics &amp; Sports</td>\n",
       "    </tr>\n",
       "    <tr>\n",
       "      <th>3</th>\n",
       "      <td>Racetrack</td>\n",
       "    </tr>\n",
       "    <tr>\n",
       "      <th>4</th>\n",
       "      <td>Circus</td>\n",
       "    </tr>\n",
       "  </tbody>\n",
       "</table>\n",
       "</div>"
      ],
      "text/plain": [
       "       Venue Category\n",
       "0              Circus\n",
       "1         Supermarket\n",
       "2  Athletics & Sports\n",
       "3           Racetrack\n",
       "4              Circus"
      ]
     },
     "execution_count": 49,
     "metadata": {},
     "output_type": "execute_result"
    }
   ],
   "source": [
    "OCoT_venues[['Venue Category']].head(5)"
   ]
  },
  {
   "cell_type": "code",
   "execution_count": 50,
   "metadata": {},
   "outputs": [
    {
     "data": {
      "text/html": [
       "<div>\n",
       "<style scoped>\n",
       "    .dataframe tbody tr th:only-of-type {\n",
       "        vertical-align: middle;\n",
       "    }\n",
       "\n",
       "    .dataframe tbody tr th {\n",
       "        vertical-align: top;\n",
       "    }\n",
       "\n",
       "    .dataframe thead th {\n",
       "        text-align: right;\n",
       "    }\n",
       "</style>\n",
       "<table border=\"1\" class=\"dataframe\">\n",
       "  <thead>\n",
       "    <tr style=\"text-align: right;\">\n",
       "      <th></th>\n",
       "      <th>Neighborhoods</th>\n",
       "      <th>ATM</th>\n",
       "      <th>Accessories Store</th>\n",
       "      <th>Adult Boutique</th>\n",
       "      <th>Afghan Restaurant</th>\n",
       "      <th>American Restaurant</th>\n",
       "      <th>Animal Shelter</th>\n",
       "      <th>Antique Shop</th>\n",
       "      <th>Arcade</th>\n",
       "      <th>Arepa Restaurant</th>\n",
       "      <th>...</th>\n",
       "      <th>Video Store</th>\n",
       "      <th>Vietnamese Restaurant</th>\n",
       "      <th>Warehouse Store</th>\n",
       "      <th>Waterfront</th>\n",
       "      <th>Whisky Bar</th>\n",
       "      <th>Wine Bar</th>\n",
       "      <th>Wine Shop</th>\n",
       "      <th>Wings Joint</th>\n",
       "      <th>Women's Store</th>\n",
       "      <th>Yoga Studio</th>\n",
       "    </tr>\n",
       "  </thead>\n",
       "  <tbody>\n",
       "    <tr>\n",
       "      <th>0</th>\n",
       "      <td>Port Lands</td>\n",
       "      <td>0</td>\n",
       "      <td>0</td>\n",
       "      <td>0</td>\n",
       "      <td>0</td>\n",
       "      <td>0</td>\n",
       "      <td>0</td>\n",
       "      <td>0</td>\n",
       "      <td>0</td>\n",
       "      <td>0</td>\n",
       "      <td>...</td>\n",
       "      <td>0</td>\n",
       "      <td>0</td>\n",
       "      <td>0</td>\n",
       "      <td>0</td>\n",
       "      <td>0</td>\n",
       "      <td>0</td>\n",
       "      <td>0</td>\n",
       "      <td>0</td>\n",
       "      <td>0</td>\n",
       "      <td>0</td>\n",
       "    </tr>\n",
       "    <tr>\n",
       "      <th>1</th>\n",
       "      <td>Port Lands</td>\n",
       "      <td>0</td>\n",
       "      <td>0</td>\n",
       "      <td>0</td>\n",
       "      <td>0</td>\n",
       "      <td>0</td>\n",
       "      <td>0</td>\n",
       "      <td>0</td>\n",
       "      <td>0</td>\n",
       "      <td>0</td>\n",
       "      <td>...</td>\n",
       "      <td>0</td>\n",
       "      <td>0</td>\n",
       "      <td>0</td>\n",
       "      <td>0</td>\n",
       "      <td>0</td>\n",
       "      <td>0</td>\n",
       "      <td>0</td>\n",
       "      <td>0</td>\n",
       "      <td>0</td>\n",
       "      <td>0</td>\n",
       "    </tr>\n",
       "    <tr>\n",
       "      <th>2</th>\n",
       "      <td>Port Lands</td>\n",
       "      <td>0</td>\n",
       "      <td>0</td>\n",
       "      <td>0</td>\n",
       "      <td>0</td>\n",
       "      <td>0</td>\n",
       "      <td>0</td>\n",
       "      <td>0</td>\n",
       "      <td>0</td>\n",
       "      <td>0</td>\n",
       "      <td>...</td>\n",
       "      <td>0</td>\n",
       "      <td>0</td>\n",
       "      <td>0</td>\n",
       "      <td>0</td>\n",
       "      <td>0</td>\n",
       "      <td>0</td>\n",
       "      <td>0</td>\n",
       "      <td>0</td>\n",
       "      <td>0</td>\n",
       "      <td>0</td>\n",
       "    </tr>\n",
       "    <tr>\n",
       "      <th>3</th>\n",
       "      <td>Port Lands</td>\n",
       "      <td>0</td>\n",
       "      <td>0</td>\n",
       "      <td>0</td>\n",
       "      <td>0</td>\n",
       "      <td>0</td>\n",
       "      <td>0</td>\n",
       "      <td>0</td>\n",
       "      <td>0</td>\n",
       "      <td>0</td>\n",
       "      <td>...</td>\n",
       "      <td>0</td>\n",
       "      <td>0</td>\n",
       "      <td>0</td>\n",
       "      <td>0</td>\n",
       "      <td>0</td>\n",
       "      <td>0</td>\n",
       "      <td>0</td>\n",
       "      <td>0</td>\n",
       "      <td>0</td>\n",
       "      <td>0</td>\n",
       "    </tr>\n",
       "    <tr>\n",
       "      <th>4</th>\n",
       "      <td>Port Lands</td>\n",
       "      <td>0</td>\n",
       "      <td>0</td>\n",
       "      <td>0</td>\n",
       "      <td>0</td>\n",
       "      <td>0</td>\n",
       "      <td>0</td>\n",
       "      <td>0</td>\n",
       "      <td>0</td>\n",
       "      <td>0</td>\n",
       "      <td>...</td>\n",
       "      <td>0</td>\n",
       "      <td>0</td>\n",
       "      <td>0</td>\n",
       "      <td>0</td>\n",
       "      <td>0</td>\n",
       "      <td>0</td>\n",
       "      <td>0</td>\n",
       "      <td>0</td>\n",
       "      <td>0</td>\n",
       "      <td>0</td>\n",
       "    </tr>\n",
       "  </tbody>\n",
       "</table>\n",
       "<p>5 rows × 275 columns</p>\n",
       "</div>"
      ],
      "text/plain": [
       "  Neighborhoods  ATM  Accessories Store  Adult Boutique  Afghan Restaurant  \\\n",
       "0    Port Lands    0                  0               0                  0   \n",
       "1    Port Lands    0                  0               0                  0   \n",
       "2    Port Lands    0                  0               0                  0   \n",
       "3    Port Lands    0                  0               0                  0   \n",
       "4    Port Lands    0                  0               0                  0   \n",
       "\n",
       "   American Restaurant  Animal Shelter  Antique Shop  Arcade  \\\n",
       "0                    0               0             0       0   \n",
       "1                    0               0             0       0   \n",
       "2                    0               0             0       0   \n",
       "3                    0               0             0       0   \n",
       "4                    0               0             0       0   \n",
       "\n",
       "   Arepa Restaurant     ...       Video Store  Vietnamese Restaurant  \\\n",
       "0                 0     ...                 0                      0   \n",
       "1                 0     ...                 0                      0   \n",
       "2                 0     ...                 0                      0   \n",
       "3                 0     ...                 0                      0   \n",
       "4                 0     ...                 0                      0   \n",
       "\n",
       "   Warehouse Store  Waterfront  Whisky Bar  Wine Bar  Wine Shop  Wings Joint  \\\n",
       "0                0           0           0         0          0            0   \n",
       "1                0           0           0         0          0            0   \n",
       "2                0           0           0         0          0            0   \n",
       "3                0           0           0         0          0            0   \n",
       "4                0           0           0         0          0            0   \n",
       "\n",
       "   Women's Store  Yoga Studio  \n",
       "0              0            0  \n",
       "1              0            0  \n",
       "2              0            0  \n",
       "3              0            0  \n",
       "4              0            0  \n",
       "\n",
       "[5 rows x 275 columns]"
      ]
     },
     "execution_count": 50,
     "metadata": {},
     "output_type": "execute_result"
    }
   ],
   "source": [
    "# convert each of the venue category into column by utilizing dummies\n",
    "OCoT_onehot = pd.get_dummies(OCoT_venues[['Venue Category']], prefix=\"\", prefix_sep=\"\")\n",
    "\n",
    "# add neighborhoods column back to dataframe\n",
    "OCoT_onehot['Neighborhoods'] = OCoT_venues['Neighborhood'] \n",
    "\n",
    "# move neighborhood column to the first column\n",
    "fixed_columns = [OCoT_onehot.columns[-1]] + list(OCoT_onehot.columns[:-1])\n",
    "OCoT_onehot = OCoT_onehot[fixed_columns]\n",
    "\n",
    "OCoT_onehot.head()"
   ]
  },
  {
   "cell_type": "markdown",
   "metadata": {},
   "source": [
    "Examine the size for the new dataframe size, it should be 275 columns (274 dummies + neighborhood)"
   ]
  },
  {
   "cell_type": "code",
   "execution_count": 51,
   "metadata": {},
   "outputs": [
    {
     "data": {
      "text/plain": [
       "(1969, 275)"
      ]
     },
     "execution_count": 51,
     "metadata": {},
     "output_type": "execute_result"
    }
   ],
   "source": [
    "OCoT_onehot.shape"
   ]
  },
  {
   "cell_type": "markdown",
   "metadata": {},
   "source": [
    "#### Group rows by neighborhood and take the mean of the frequency of occurrence of each category"
   ]
  },
  {
   "cell_type": "code",
   "execution_count": 52,
   "metadata": {},
   "outputs": [
    {
     "data": {
      "text/html": [
       "<div>\n",
       "<style scoped>\n",
       "    .dataframe tbody tr th:only-of-type {\n",
       "        vertical-align: middle;\n",
       "    }\n",
       "\n",
       "    .dataframe tbody tr th {\n",
       "        vertical-align: top;\n",
       "    }\n",
       "\n",
       "    .dataframe thead th {\n",
       "        text-align: right;\n",
       "    }\n",
       "</style>\n",
       "<table border=\"1\" class=\"dataframe\">\n",
       "  <thead>\n",
       "    <tr style=\"text-align: right;\">\n",
       "      <th></th>\n",
       "      <th>Neighborhoods</th>\n",
       "      <th>ATM</th>\n",
       "      <th>Accessories Store</th>\n",
       "      <th>Adult Boutique</th>\n",
       "      <th>Afghan Restaurant</th>\n",
       "      <th>American Restaurant</th>\n",
       "      <th>Animal Shelter</th>\n",
       "      <th>Antique Shop</th>\n",
       "      <th>Arcade</th>\n",
       "      <th>Arepa Restaurant</th>\n",
       "      <th>...</th>\n",
       "      <th>Video Store</th>\n",
       "      <th>Vietnamese Restaurant</th>\n",
       "      <th>Warehouse Store</th>\n",
       "      <th>Waterfront</th>\n",
       "      <th>Whisky Bar</th>\n",
       "      <th>Wine Bar</th>\n",
       "      <th>Wine Shop</th>\n",
       "      <th>Wings Joint</th>\n",
       "      <th>Women's Store</th>\n",
       "      <th>Yoga Studio</th>\n",
       "    </tr>\n",
       "  </thead>\n",
       "  <tbody>\n",
       "    <tr>\n",
       "      <th>0</th>\n",
       "      <td>Alexandra Park</td>\n",
       "      <td>0.0</td>\n",
       "      <td>0.0</td>\n",
       "      <td>0.0</td>\n",
       "      <td>0.0</td>\n",
       "      <td>0.01</td>\n",
       "      <td>0.0</td>\n",
       "      <td>0.0</td>\n",
       "      <td>0.01</td>\n",
       "      <td>0.02</td>\n",
       "      <td>...</td>\n",
       "      <td>0.0</td>\n",
       "      <td>0.0</td>\n",
       "      <td>0.000000</td>\n",
       "      <td>0.0</td>\n",
       "      <td>0.0</td>\n",
       "      <td>0.01</td>\n",
       "      <td>0.0</td>\n",
       "      <td>0.0</td>\n",
       "      <td>0.0</td>\n",
       "      <td>0.01</td>\n",
       "    </tr>\n",
       "    <tr>\n",
       "      <th>1</th>\n",
       "      <td>Bay Street Corridor</td>\n",
       "      <td>0.0</td>\n",
       "      <td>0.0</td>\n",
       "      <td>0.0</td>\n",
       "      <td>0.0</td>\n",
       "      <td>0.00</td>\n",
       "      <td>0.0</td>\n",
       "      <td>0.0</td>\n",
       "      <td>0.00</td>\n",
       "      <td>0.00</td>\n",
       "      <td>...</td>\n",
       "      <td>0.0</td>\n",
       "      <td>0.0</td>\n",
       "      <td>0.000000</td>\n",
       "      <td>0.0</td>\n",
       "      <td>0.0</td>\n",
       "      <td>0.00</td>\n",
       "      <td>0.0</td>\n",
       "      <td>0.0</td>\n",
       "      <td>0.0</td>\n",
       "      <td>0.00</td>\n",
       "    </tr>\n",
       "    <tr>\n",
       "      <th>2</th>\n",
       "      <td>Bedford Park</td>\n",
       "      <td>0.0</td>\n",
       "      <td>0.0</td>\n",
       "      <td>0.0</td>\n",
       "      <td>0.0</td>\n",
       "      <td>0.00</td>\n",
       "      <td>0.0</td>\n",
       "      <td>0.0</td>\n",
       "      <td>0.00</td>\n",
       "      <td>0.00</td>\n",
       "      <td>...</td>\n",
       "      <td>0.0</td>\n",
       "      <td>0.0</td>\n",
       "      <td>0.000000</td>\n",
       "      <td>0.0</td>\n",
       "      <td>0.0</td>\n",
       "      <td>0.00</td>\n",
       "      <td>0.0</td>\n",
       "      <td>0.0</td>\n",
       "      <td>0.0</td>\n",
       "      <td>0.00</td>\n",
       "    </tr>\n",
       "    <tr>\n",
       "      <th>3</th>\n",
       "      <td>Bloor West Village</td>\n",
       "      <td>0.0</td>\n",
       "      <td>0.0</td>\n",
       "      <td>0.0</td>\n",
       "      <td>0.0</td>\n",
       "      <td>0.00</td>\n",
       "      <td>0.0</td>\n",
       "      <td>0.0</td>\n",
       "      <td>0.00</td>\n",
       "      <td>0.00</td>\n",
       "      <td>...</td>\n",
       "      <td>0.0</td>\n",
       "      <td>0.0</td>\n",
       "      <td>0.000000</td>\n",
       "      <td>0.0</td>\n",
       "      <td>0.0</td>\n",
       "      <td>0.00</td>\n",
       "      <td>0.0</td>\n",
       "      <td>0.0</td>\n",
       "      <td>0.0</td>\n",
       "      <td>0.00</td>\n",
       "    </tr>\n",
       "    <tr>\n",
       "      <th>4</th>\n",
       "      <td>Bracondale Hill</td>\n",
       "      <td>0.0</td>\n",
       "      <td>0.0</td>\n",
       "      <td>0.0</td>\n",
       "      <td>0.0</td>\n",
       "      <td>0.00</td>\n",
       "      <td>0.0</td>\n",
       "      <td>0.0</td>\n",
       "      <td>0.00</td>\n",
       "      <td>0.00</td>\n",
       "      <td>...</td>\n",
       "      <td>0.0</td>\n",
       "      <td>0.0</td>\n",
       "      <td>0.047619</td>\n",
       "      <td>0.0</td>\n",
       "      <td>0.0</td>\n",
       "      <td>0.00</td>\n",
       "      <td>0.0</td>\n",
       "      <td>0.0</td>\n",
       "      <td>0.0</td>\n",
       "      <td>0.00</td>\n",
       "    </tr>\n",
       "  </tbody>\n",
       "</table>\n",
       "<p>5 rows × 275 columns</p>\n",
       "</div>"
      ],
      "text/plain": [
       "         Neighborhoods  ATM  Accessories Store  Adult Boutique  \\\n",
       "0       Alexandra Park  0.0                0.0             0.0   \n",
       "1  Bay Street Corridor  0.0                0.0             0.0   \n",
       "2         Bedford Park  0.0                0.0             0.0   \n",
       "3   Bloor West Village  0.0                0.0             0.0   \n",
       "4      Bracondale Hill  0.0                0.0             0.0   \n",
       "\n",
       "   Afghan Restaurant  American Restaurant  Animal Shelter  Antique Shop  \\\n",
       "0                0.0                 0.01             0.0           0.0   \n",
       "1                0.0                 0.00             0.0           0.0   \n",
       "2                0.0                 0.00             0.0           0.0   \n",
       "3                0.0                 0.00             0.0           0.0   \n",
       "4                0.0                 0.00             0.0           0.0   \n",
       "\n",
       "   Arcade  Arepa Restaurant     ...       Video Store  Vietnamese Restaurant  \\\n",
       "0    0.01              0.02     ...               0.0                    0.0   \n",
       "1    0.00              0.00     ...               0.0                    0.0   \n",
       "2    0.00              0.00     ...               0.0                    0.0   \n",
       "3    0.00              0.00     ...               0.0                    0.0   \n",
       "4    0.00              0.00     ...               0.0                    0.0   \n",
       "\n",
       "   Warehouse Store  Waterfront  Whisky Bar  Wine Bar  Wine Shop  Wings Joint  \\\n",
       "0         0.000000         0.0         0.0      0.01        0.0          0.0   \n",
       "1         0.000000         0.0         0.0      0.00        0.0          0.0   \n",
       "2         0.000000         0.0         0.0      0.00        0.0          0.0   \n",
       "3         0.000000         0.0         0.0      0.00        0.0          0.0   \n",
       "4         0.047619         0.0         0.0      0.00        0.0          0.0   \n",
       "\n",
       "   Women's Store  Yoga Studio  \n",
       "0            0.0         0.01  \n",
       "1            0.0         0.00  \n",
       "2            0.0         0.00  \n",
       "3            0.0         0.00  \n",
       "4            0.0         0.00  \n",
       "\n",
       "[5 rows x 275 columns]"
      ]
     },
     "execution_count": 52,
     "metadata": {},
     "output_type": "execute_result"
    }
   ],
   "source": [
    "OCoT_grouped = OCoT_onehot.groupby('Neighborhoods').mean().reset_index()\n",
    "OCoT_grouped.head()"
   ]
  },
  {
   "cell_type": "markdown",
   "metadata": {},
   "source": [
    "The dataset **OCoT_grouped** contains the frequency of each of the 274 venue categories for each neighborhood in Old City of Toronto. Next, I will explore the most frequent venue categories for each neighborhood."
   ]
  },
  {
   "cell_type": "markdown",
   "metadata": {},
   "source": [
    "#### Confirm the new size"
   ]
  },
  {
   "cell_type": "code",
   "execution_count": 53,
   "metadata": {},
   "outputs": [
    {
     "data": {
      "text/plain": [
       "(58, 275)"
      ]
     },
     "execution_count": 53,
     "metadata": {},
     "output_type": "execute_result"
    }
   ],
   "source": [
    "OCoT_grouped.shape"
   ]
  },
  {
   "cell_type": "markdown",
   "metadata": {},
   "source": [
    "#### Print each neighborhood along with the top 5 most common venues"
   ]
  },
  {
   "cell_type": "code",
   "execution_count": 54,
   "metadata": {},
   "outputs": [
    {
     "name": "stdout",
     "output_type": "stream",
     "text": [
      "-------Alexandra Park-------\n",
      "                           venue  freq\n",
      "0                            Bar  0.10\n",
      "1                           Café  0.05\n",
      "2             Italian Restaurant  0.05\n",
      "3  Vegetarian / Vegan Restaurant  0.03\n",
      "4         Furniture / Home Store  0.03\n",
      "\n",
      "\n",
      "-------Bay Street Corridor-------\n",
      "                  venue  freq\n",
      "0        Sandwich Place  0.12\n",
      "1                  Café  0.12\n",
      "2           Coffee Shop  0.12\n",
      "3  Fast Food Restaurant  0.06\n",
      "4       Thai Restaurant  0.06\n",
      "\n",
      "\n",
      "-------Bedford Park-------\n",
      "                        venue  freq\n",
      "0  Construction & Landscaping   0.5\n",
      "1        Gym / Fitness Center   0.5\n",
      "2           Outdoor Sculpture   0.0\n",
      "3             Organic Grocery   0.0\n",
      "4                Optical Shop   0.0\n",
      "\n",
      "\n",
      "-------Bloor West Village-------\n",
      "              venue  freq\n",
      "0       Coffee Shop  0.10\n",
      "1              Café  0.08\n",
      "2             Diner  0.05\n",
      "3       Pizza Place  0.05\n",
      "4  Sushi Restaurant  0.05\n",
      "\n",
      "\n",
      "-------Bracondale Hill-------\n",
      "                venue  freq\n",
      "0  Chinese Restaurant  0.10\n",
      "1                 Pub  0.10\n",
      "2          Restaurant  0.10\n",
      "3       Grocery Store  0.05\n",
      "4         Coffee Shop  0.05\n",
      "\n",
      "\n",
      "-------Brockton-------\n",
      "             venue  freq\n",
      "0       Donut Shop  0.25\n",
      "1      Pizza Place  0.12\n",
      "2           Lounge  0.12\n",
      "3              Pub  0.12\n",
      "4  Automotive Shop  0.12\n",
      "\n",
      "\n",
      "-------Cabbagetown-------\n",
      "                venue  freq\n",
      "0          Restaurant  0.11\n",
      "1                Café  0.07\n",
      "2   Indian Restaurant  0.06\n",
      "3         Coffee Shop  0.06\n",
      "4  Italian Restaurant  0.04\n",
      "\n",
      "\n",
      "-------Carleton Village-------\n",
      "           venue  freq\n",
      "0     Playground  0.25\n",
      "1  Jewelry Store  0.25\n",
      "2           Park  0.25\n",
      "3        Dog Run  0.25\n",
      "4      Piano Bar  0.00\n",
      "\n",
      "\n",
      "-------Casa Loma-------\n",
      "            venue  freq\n",
      "0     Coffee Shop  0.12\n",
      "1  Sandwich Place  0.12\n",
      "2  History Museum  0.08\n",
      "3            Café  0.08\n",
      "4  Cosmetics Shop  0.04\n",
      "\n",
      "\n",
      "-------Chaplin Estates-------\n",
      "                  venue  freq\n",
      "0    Italian Restaurant  0.14\n",
      "1            Restaurant  0.10\n",
      "2           Pizza Place  0.05\n",
      "3   Arts & Crafts Store  0.05\n",
      "4  Gym / Fitness Center  0.05\n",
      "\n",
      "\n",
      "-------Christie Pits-------\n",
      "               venue  freq\n",
      "0  Indian Restaurant  0.15\n",
      "1               Café  0.15\n",
      "2      Grocery Store  0.15\n",
      "3               Park  0.08\n",
      "4          Nightclub  0.08\n",
      "\n",
      "\n",
      "-------Church and Wellesley-------\n",
      "                 venue  freq\n",
      "0          Coffee Shop  0.08\n",
      "1  Japanese Restaurant  0.06\n",
      "2     Sushi Restaurant  0.05\n",
      "3              Gay Bar  0.04\n",
      "4         Burger Joint  0.04\n",
      "\n",
      "\n",
      "-------Corktown-------\n",
      "                  venue  freq\n",
      "0           Coffee Shop  0.24\n",
      "1                  Park  0.10\n",
      "2                   Pub  0.07\n",
      "3  Gym / Fitness Center  0.07\n",
      "4                 Hotel  0.03\n",
      "\n",
      "\n",
      "-------Davenport-------\n",
      "                 venue  freq\n",
      "0  American Restaurant  0.19\n",
      "1                  Pub  0.07\n",
      "2                Hotel  0.05\n",
      "3                  Bar  0.05\n",
      "4          Music Venue  0.05\n",
      "\n",
      "\n",
      "-------Davisville-------\n",
      "                venue  freq\n",
      "0        Dessert Shop  0.10\n",
      "1      Sandwich Place  0.10\n",
      "2         Pizza Place  0.06\n",
      "3            Pharmacy  0.06\n",
      "4  Italian Restaurant  0.06\n",
      "\n",
      "\n",
      "-------Deer Park-------\n",
      "               venue  freq\n",
      "0  Convenience Store  0.12\n",
      "1             Lawyer  0.12\n",
      "2        Pizza Place  0.12\n",
      "3        Coffee Shop  0.12\n",
      "4     Clothing Store  0.12\n",
      "\n",
      "\n",
      "-------Discovery District-------\n",
      "                 venue  freq\n",
      "0          Coffee Shop  0.18\n",
      "1                 Café  0.10\n",
      "2   Chinese Restaurant  0.06\n",
      "3          Art Gallery  0.04\n",
      "4  Japanese Restaurant  0.04\n",
      "\n",
      "\n",
      "-------Dovercourt Park-------\n",
      "         venue  freq\n",
      "0         Café  0.33\n",
      "1          Bar  0.17\n",
      "2         Park  0.17\n",
      "3  Coffee Shop  0.17\n",
      "4     Bus Line  0.17\n",
      "\n",
      "\n",
      "-------Dufferin Grove-------\n",
      "                venue  freq\n",
      "0         Coffee Shop  0.11\n",
      "1                 Bar  0.11\n",
      "2  Italian Restaurant  0.05\n",
      "3          Restaurant  0.05\n",
      "4              Bakery  0.05\n",
      "\n",
      "\n",
      "-------Earlscourt-------\n",
      "                venue  freq\n",
      "0  Italian Restaurant  0.20\n",
      "1              Bakery  0.10\n",
      "2      Breakfast Spot  0.05\n",
      "3         Pizza Place  0.05\n",
      "4             Dog Run  0.05\n",
      "\n",
      "\n",
      "-------East Danforth-------\n",
      "           venue  freq\n",
      "0       Bus Line  0.07\n",
      "1   Optical Shop  0.07\n",
      "2    Coffee Shop  0.07\n",
      "3    Pizza Place  0.04\n",
      "4  Train Station  0.04\n",
      "\n",
      "\n",
      "-------Fashion District-------\n",
      "                venue  freq\n",
      "0          Restaurant  0.08\n",
      "1         Coffee Shop  0.07\n",
      "2  Italian Restaurant  0.06\n",
      "3               Hotel  0.03\n",
      "4      Sandwich Place  0.03\n",
      "\n",
      "\n",
      "-------Financial District-------\n",
      "                 venue  freq\n",
      "0          Coffee Shop  0.10\n",
      "1                Hotel  0.08\n",
      "2                 Café  0.07\n",
      "3           Restaurant  0.05\n",
      "4  American Restaurant  0.04\n",
      "\n",
      "\n",
      "-------Forest Hill-------\n",
      "          venue  freq\n",
      "0  Home Service   0.4\n",
      "1    Playground   0.2\n",
      "2          Park   0.2\n",
      "3          Bank   0.2\n",
      "4        Museum   0.0\n",
      "\n",
      "\n",
      "-------Garden District-------\n",
      "                    venue  freq\n",
      "0             Coffee Shop  0.13\n",
      "1           Historic Site  0.07\n",
      "2  Furniture / Home Store  0.07\n",
      "3              Public Art  0.07\n",
      "4                  Lounge  0.03\n",
      "\n",
      "\n",
      "-------Grange Park-------\n",
      "                  venue  freq\n",
      "0    Italian Restaurant  0.22\n",
      "1     Convenience Store  0.11\n",
      "2    Chinese Restaurant  0.11\n",
      "3            Restaurant  0.11\n",
      "4  Gym / Fitness Center  0.11\n",
      "\n",
      "\n",
      "-------Harbord Village-------\n",
      "              venue  freq\n",
      "0  Sushi Restaurant  0.08\n",
      "1        Restaurant  0.08\n",
      "2       Coffee Shop  0.05\n",
      "3              Park  0.05\n",
      "4          Beer Bar  0.05\n",
      "\n",
      "\n",
      "-------Harbourfront / CityPlace-------\n",
      "                venue  freq\n",
      "0         Coffee Shop  0.05\n",
      "1        Cocktail Bar  0.05\n",
      "2               Hotel  0.04\n",
      "3  Italian Restaurant  0.04\n",
      "4   French Restaurant  0.04\n",
      "\n",
      "\n",
      "-------High Park North-------\n",
      "             venue  freq\n",
      "0            Trail   1.0\n",
      "1              ATM   0.0\n",
      "2  Other Nightlife   0.0\n",
      "3     Optical Shop   0.0\n",
      "4           Office   0.0\n",
      "\n",
      "\n",
      "-------Junction Triangle-------\n",
      "                venue  freq\n",
      "0       Grocery Store   0.4\n",
      "1  Mexican Restaurant   0.2\n",
      "2      Discount Store   0.2\n",
      "3      Sandwich Place   0.2\n",
      "4                 ATM   0.0\n",
      "\n",
      "\n",
      "-------Kensington Market-------\n",
      "                           venue  freq\n",
      "0                           Café  0.09\n",
      "1                            Bar  0.08\n",
      "2  Vegetarian / Vegan Restaurant  0.06\n",
      "3                         Bakery  0.04\n",
      "4          Vietnamese Restaurant  0.04\n",
      "\n",
      "\n",
      "-------Lawrence Park-------\n",
      "                venue  freq\n",
      "0  Italian Restaurant  0.07\n",
      "1         Coffee Shop  0.07\n",
      "2    Sushi Restaurant  0.07\n",
      "3              Bakery  0.07\n",
      "4    Asian Restaurant  0.04\n",
      "\n",
      "\n",
      "-------Leslieville-------\n",
      "                  venue  freq\n",
      "0                Bakery  0.08\n",
      "1                 Diner  0.06\n",
      "2           Coffee Shop  0.06\n",
      "3  Fast Food Restaurant  0.04\n",
      "4         Grocery Store  0.04\n",
      "\n",
      "\n",
      "-------Little Italy-------\n",
      "                venue  freq\n",
      "0                 Bar  0.09\n",
      "1  Italian Restaurant  0.09\n",
      "2                Café  0.06\n",
      "3      Sandwich Place  0.05\n",
      "4                 Pub  0.03\n",
      "\n",
      "\n",
      "-------Little Portugal-------\n",
      "                   venue  freq\n",
      "0  Vietnamese Restaurant  0.17\n",
      "1     Mexican Restaurant  0.17\n",
      "2  Portuguese Restaurant  0.17\n",
      "3      Convenience Store  0.08\n",
      "4            Fish Market  0.08\n",
      "\n",
      "\n",
      "-------Lytton Park-------\n",
      "        venue  freq\n",
      "0  Playground  0.33\n",
      "1  Restaurant  0.33\n",
      "2      Garden  0.33\n",
      "3   Multiplex  0.00\n",
      "4      Museum  0.00\n",
      "\n",
      "\n",
      "-------Moore Park-------\n",
      "                 venue  freq\n",
      "0                 Park  0.09\n",
      "1       Farmers Market  0.09\n",
      "2          Event Space  0.09\n",
      "3            Multiplex  0.04\n",
      "4  Fried Chicken Joint  0.04\n",
      "\n",
      "\n",
      "-------Niagara-------\n",
      "                     venue  freq\n",
      "0                     Farm   1.0\n",
      "1             Neighborhood   0.0\n",
      "2             Optical Shop   0.0\n",
      "3                   Office   0.0\n",
      "4  North Indian Restaurant   0.0\n",
      "\n",
      "\n",
      "-------Parkdale-------\n",
      "                venue  freq\n",
      "0               Diner  0.08\n",
      "1                Café  0.08\n",
      "2  Tibetan Restaurant  0.08\n",
      "3         Pizza Place  0.05\n",
      "4   Indian Restaurant  0.05\n",
      "\n",
      "\n",
      "-------Port Lands-------\n",
      "                venue  freq\n",
      "0              Circus  0.12\n",
      "1         Music Venue  0.12\n",
      "2     Harbor / Marina  0.12\n",
      "3      Soccer Stadium  0.06\n",
      "4  Athletics & Sports  0.06\n",
      "\n",
      "\n",
      "-------Regal Heights-------\n",
      "              venue  freq\n",
      "0        Lighthouse   0.2\n",
      "1        Playground   0.2\n",
      "2       Flea Market   0.2\n",
      "3  Basketball Court   0.2\n",
      "4       Beer Garden   0.2\n",
      "\n",
      "\n",
      "-------Roncesvalles-------\n",
      "                venue  freq\n",
      "0               Hotel   0.2\n",
      "1              Church   0.2\n",
      "2                 Bar   0.2\n",
      "3  Spanish Restaurant   0.2\n",
      "4              Hostel   0.2\n",
      "\n",
      "\n",
      "-------Rosedale-------\n",
      "                     venue  freq\n",
      "0            Grocery Store   0.5\n",
      "1              Coffee Shop   0.5\n",
      "2                      ATM   0.0\n",
      "3  New American Restaurant   0.0\n",
      "4             Optical Shop   0.0\n",
      "\n",
      "\n",
      "-------Seaton Village-------\n",
      "                           venue  freq\n",
      "0                  Grocery Store  0.15\n",
      "1                          Diner  0.07\n",
      "2                           Park  0.07\n",
      "3  Vegetarian / Vegan Restaurant  0.07\n",
      "4                    Coffee Shop  0.07\n",
      "\n",
      "\n",
      "-------South Hill-------\n",
      "                 venue  freq\n",
      "0               Bakery  0.25\n",
      "1  American Restaurant  0.25\n",
      "2       Discount Store  0.25\n",
      "3                Diner  0.25\n",
      "4         Noodle House  0.00\n",
      "\n",
      "\n",
      "-------St. James Town-------\n",
      "               venue  freq\n",
      "0        Coffee Shop  0.12\n",
      "1        Pizza Place  0.09\n",
      "2  Indian Restaurant  0.06\n",
      "3               Café  0.06\n",
      "4         Restaurant  0.06\n",
      "\n",
      "\n",
      "-------Summerhill-------\n",
      "                     venue  freq\n",
      "0                      Bar  0.67\n",
      "1               Playground  0.33\n",
      "2                      ATM  0.00\n",
      "3  New American Restaurant  0.00\n",
      "4             Optical Shop  0.00\n",
      "\n",
      "\n",
      "-------Swansea-------\n",
      "            venue  freq\n",
      "0             Pub  0.07\n",
      "1     Coffee Shop  0.07\n",
      "2  Clothing Store  0.07\n",
      "3   Grocery Store  0.05\n",
      "4            Café  0.05\n",
      "\n",
      "\n",
      "-------The Annex-------\n",
      "            venue  freq\n",
      "0     Pizza Place  0.09\n",
      "1            Park  0.07\n",
      "2     Coffee Shop  0.07\n",
      "3  Ice Cream Shop  0.05\n",
      "4   Grocery Store  0.05\n",
      "\n",
      "\n",
      "-------The Beaches-------\n",
      "                 venue  freq\n",
      "0                Beach  0.06\n",
      "1  Japanese Restaurant  0.04\n",
      "2                  Bar  0.04\n",
      "3      Thai Restaurant  0.04\n",
      "4               Bakery  0.04\n",
      "\n",
      "\n",
      "-------The Danforth-------\n",
      "           venue  freq\n",
      "0       Bus Line  0.07\n",
      "1   Optical Shop  0.07\n",
      "2    Coffee Shop  0.07\n",
      "3    Pizza Place  0.04\n",
      "4  Train Station  0.04\n",
      "\n",
      "\n",
      "-------The Junction-------\n",
      "                venue  freq\n",
      "0  Italian Restaurant  0.07\n",
      "1                 Bar  0.07\n",
      "2         Coffee Shop  0.07\n",
      "3                Café  0.05\n",
      "4              Bakery  0.05\n",
      "\n",
      "\n",
      "-------Toronto Islands-------\n",
      "                 venue  freq\n",
      "0                 Farm   0.2\n",
      "1  American Restaurant   0.2\n",
      "2                Beach   0.2\n",
      "3          Beer Garden   0.2\n",
      "4       Scenic Lookout   0.2\n",
      "\n",
      "\n",
      "-------Trinity–Bellwoods-------\n",
      "          venue  freq\n",
      "0        Bakery  0.05\n",
      "1  Cocktail Bar  0.05\n",
      "2          Café  0.05\n",
      "3   Coffee Shop  0.04\n",
      "4    Restaurant  0.04\n",
      "\n",
      "\n",
      "-------Upper Beaches-------\n",
      "                 venue  freq\n",
      "0                Beach  0.06\n",
      "1  Japanese Restaurant  0.04\n",
      "2                  Bar  0.04\n",
      "3      Thai Restaurant  0.04\n",
      "4               Bakery  0.04\n",
      "\n",
      "\n",
      "-------Wallace Emerson-------\n",
      "                   venue  freq\n",
      "0  Portuguese Restaurant  0.09\n",
      "1            Supermarket  0.09\n",
      "2               Pharmacy  0.09\n",
      "3                    Gym  0.09\n",
      "4            Coffee Shop  0.09\n",
      "\n",
      "\n",
      "-------Wychwood-------\n",
      "                  venue  freq\n",
      "0  Fast Food Restaurant   1.0\n",
      "1                   ATM   0.0\n",
      "2          Neighborhood   0.0\n",
      "3          Optical Shop   0.0\n",
      "4                Office   0.0\n",
      "\n",
      "\n",
      "-------Yorkville-------\n",
      "               venue  freq\n",
      "0        Coffee Shop  0.06\n",
      "1               Café  0.06\n",
      "2           Boutique  0.05\n",
      "3  French Restaurant  0.04\n",
      "4         Restaurant  0.04\n",
      "\n",
      "\n"
     ]
    }
   ],
   "source": [
    "num_top_venues = 5\n",
    "for hood in OCoT_grouped['Neighborhoods']:\n",
    "    print(\"-------\"+hood+\"-------\")\n",
    "    temp = OCoT_grouped[OCoT_grouped['Neighborhoods'] == hood].T.reset_index()\n",
    "    temp.columns = ['venue','freq']\n",
    "    temp = temp.loc[1:]\n",
    "    temp['freq'] = temp['freq'].astype(float)\n",
    "    temp = temp.round({'freq': 2})\n",
    "    print(temp.sort_values(by = ['freq'], ascending=False).reset_index(drop=True).head(num_top_venues))\n",
    "#    print(\"\")\n",
    "    print('\\n')"
   ]
  },
  {
   "cell_type": "markdown",
   "metadata": {},
   "source": [
    "#### Put the neighborhood along with the top 5 most common venues into a *pandas* dataframe"
   ]
  },
  {
   "cell_type": "markdown",
   "metadata": {},
   "source": [
    "First, write a function to sort the venues in descending order."
   ]
  },
  {
   "cell_type": "code",
   "execution_count": 55,
   "metadata": {},
   "outputs": [],
   "source": [
    "def return_most_common_venues(row, num_top_venues):\n",
    "    row_categories = row.iloc[1:]\n",
    "    row_categories_sorted = row_categories.sort_values(ascending=False)\n",
    "    \n",
    "    return row_categories_sorted.index.values[0:num_top_venues]"
   ]
  },
  {
   "cell_type": "markdown",
   "metadata": {},
   "source": [
    "Now let's create the new dataframe and display the top 10 venues for each neighborhood."
   ]
  },
  {
   "cell_type": "code",
   "execution_count": 56,
   "metadata": {},
   "outputs": [
    {
     "data": {
      "text/html": [
       "<div>\n",
       "<style scoped>\n",
       "    .dataframe tbody tr th:only-of-type {\n",
       "        vertical-align: middle;\n",
       "    }\n",
       "\n",
       "    .dataframe tbody tr th {\n",
       "        vertical-align: top;\n",
       "    }\n",
       "\n",
       "    .dataframe thead th {\n",
       "        text-align: right;\n",
       "    }\n",
       "</style>\n",
       "<table border=\"1\" class=\"dataframe\">\n",
       "  <thead>\n",
       "    <tr style=\"text-align: right;\">\n",
       "      <th></th>\n",
       "      <th>Neighborhoods</th>\n",
       "      <th>1st Most Common Venue</th>\n",
       "      <th>2nd Most Common Venue</th>\n",
       "      <th>3rd Most Common Venue</th>\n",
       "      <th>4th Most Common Venue</th>\n",
       "      <th>5th Most Common Venue</th>\n",
       "      <th>6th Most Common Venue</th>\n",
       "      <th>7th Most Common Venue</th>\n",
       "      <th>8th Most Common Venue</th>\n",
       "      <th>9th Most Common Venue</th>\n",
       "      <th>10th Most Common Venue</th>\n",
       "    </tr>\n",
       "  </thead>\n",
       "  <tbody>\n",
       "    <tr>\n",
       "      <th>0</th>\n",
       "      <td>Alexandra Park</td>\n",
       "      <td>Bar</td>\n",
       "      <td>Italian Restaurant</td>\n",
       "      <td>Café</td>\n",
       "      <td>Vegetarian / Vegan Restaurant</td>\n",
       "      <td>Restaurant</td>\n",
       "      <td>Furniture / Home Store</td>\n",
       "      <td>Coffee Shop</td>\n",
       "      <td>Dessert Shop</td>\n",
       "      <td>Nightclub</td>\n",
       "      <td>Filipino Restaurant</td>\n",
       "    </tr>\n",
       "    <tr>\n",
       "      <th>1</th>\n",
       "      <td>Bay Street Corridor</td>\n",
       "      <td>Sandwich Place</td>\n",
       "      <td>Café</td>\n",
       "      <td>Coffee Shop</td>\n",
       "      <td>Pharmacy</td>\n",
       "      <td>Grocery Store</td>\n",
       "      <td>Fast Food Restaurant</td>\n",
       "      <td>Liquor Store</td>\n",
       "      <td>Bus Stop</td>\n",
       "      <td>Bank</td>\n",
       "      <td>Donut Shop</td>\n",
       "    </tr>\n",
       "    <tr>\n",
       "      <th>2</th>\n",
       "      <td>Bedford Park</td>\n",
       "      <td>Construction &amp; Landscaping</td>\n",
       "      <td>Gym / Fitness Center</td>\n",
       "      <td>Dog Run</td>\n",
       "      <td>Donut Shop</td>\n",
       "      <td>Dumpling Restaurant</td>\n",
       "      <td>Eastern European Restaurant</td>\n",
       "      <td>Electronics Store</td>\n",
       "      <td>Ethiopian Restaurant</td>\n",
       "      <td>Event Space</td>\n",
       "      <td>Exhibit</td>\n",
       "    </tr>\n",
       "    <tr>\n",
       "      <th>3</th>\n",
       "      <td>Bloor West Village</td>\n",
       "      <td>Coffee Shop</td>\n",
       "      <td>Café</td>\n",
       "      <td>Sushi Restaurant</td>\n",
       "      <td>Diner</td>\n",
       "      <td>Pizza Place</td>\n",
       "      <td>Food</td>\n",
       "      <td>Scenic Lookout</td>\n",
       "      <td>Latin American Restaurant</td>\n",
       "      <td>French Restaurant</td>\n",
       "      <td>Pub</td>\n",
       "    </tr>\n",
       "    <tr>\n",
       "      <th>4</th>\n",
       "      <td>Bracondale Hill</td>\n",
       "      <td>Chinese Restaurant</td>\n",
       "      <td>Restaurant</td>\n",
       "      <td>Pub</td>\n",
       "      <td>Coffee Shop</td>\n",
       "      <td>Soccer Field</td>\n",
       "      <td>Convenience Store</td>\n",
       "      <td>Café</td>\n",
       "      <td>Rock Club</td>\n",
       "      <td>Mobile Phone Shop</td>\n",
       "      <td>Baby Store</td>\n",
       "    </tr>\n",
       "  </tbody>\n",
       "</table>\n",
       "</div>"
      ],
      "text/plain": [
       "         Neighborhoods       1st Most Common Venue 2nd Most Common Venue  \\\n",
       "0       Alexandra Park                         Bar    Italian Restaurant   \n",
       "1  Bay Street Corridor              Sandwich Place                  Café   \n",
       "2         Bedford Park  Construction & Landscaping  Gym / Fitness Center   \n",
       "3   Bloor West Village                 Coffee Shop                  Café   \n",
       "4      Bracondale Hill          Chinese Restaurant            Restaurant   \n",
       "\n",
       "  3rd Most Common Venue          4th Most Common Venue 5th Most Common Venue  \\\n",
       "0                  Café  Vegetarian / Vegan Restaurant            Restaurant   \n",
       "1           Coffee Shop                       Pharmacy         Grocery Store   \n",
       "2               Dog Run                     Donut Shop   Dumpling Restaurant   \n",
       "3      Sushi Restaurant                          Diner           Pizza Place   \n",
       "4                   Pub                    Coffee Shop          Soccer Field   \n",
       "\n",
       "         6th Most Common Venue 7th Most Common Venue  \\\n",
       "0       Furniture / Home Store           Coffee Shop   \n",
       "1         Fast Food Restaurant          Liquor Store   \n",
       "2  Eastern European Restaurant     Electronics Store   \n",
       "3                         Food        Scenic Lookout   \n",
       "4            Convenience Store                  Café   \n",
       "\n",
       "       8th Most Common Venue 9th Most Common Venue 10th Most Common Venue  \n",
       "0               Dessert Shop             Nightclub    Filipino Restaurant  \n",
       "1                   Bus Stop                  Bank             Donut Shop  \n",
       "2       Ethiopian Restaurant           Event Space                Exhibit  \n",
       "3  Latin American Restaurant     French Restaurant                    Pub  \n",
       "4                  Rock Club     Mobile Phone Shop             Baby Store  "
      ]
     },
     "execution_count": 56,
     "metadata": {},
     "output_type": "execute_result"
    }
   ],
   "source": [
    "num_top_venues = 10\n",
    "\n",
    "indicators = ['st', 'nd', 'rd']\n",
    "\n",
    "# create columns according to number of top venues\n",
    "columns = ['Neighborhoods']\n",
    "for ind in np.arange(num_top_venues):\n",
    "    try:\n",
    "        columns.append('{}{} Most Common Venue'.format(ind+1, indicators[ind]))\n",
    "    except:\n",
    "        columns.append('{}th Most Common Venue'.format(ind+1))\n",
    "\n",
    "# create a new dataframe\n",
    "neighborhoods_venues_sorted = pd.DataFrame(columns=columns)\n",
    "neighborhoods_venues_sorted['Neighborhoods'] = OCoT_grouped['Neighborhoods']\n",
    "\n",
    "for ind in np.arange(OCoT_grouped.shape[0]):\n",
    "    neighborhoods_venues_sorted.iloc[ind, 1:] = return_most_common_venues(OCoT_grouped.iloc[ind, :], num_top_venues)\n",
    "\n",
    "neighborhoods_venues_sorted.head()"
   ]
  },
  {
   "cell_type": "code",
   "execution_count": 57,
   "metadata": {},
   "outputs": [
    {
     "data": {
      "text/plain": [
       "Coffee Shop           12\n",
       "Café                   4\n",
       "Italian Restaurant     4\n",
       "Name: 1st Most Common Venue, dtype: int64"
      ]
     },
     "execution_count": 57,
     "metadata": {},
     "output_type": "execute_result"
    }
   ],
   "source": [
    "neighborhoods_venues_sorted['1st Most Common Venue'].value_counts()[0:3]"
   ]
  },
  {
   "cell_type": "code",
   "execution_count": 58,
   "metadata": {},
   "outputs": [
    {
     "data": {
      "text/plain": [
       "Coffee Shop    8\n",
       "Café           5\n",
       "Bar            4\n",
       "Name: 2nd Most Common Venue, dtype: int64"
      ]
     },
     "execution_count": 58,
     "metadata": {},
     "output_type": "execute_result"
    }
   ],
   "source": [
    "neighborhoods_venues_sorted['2nd Most Common Venue'].value_counts()[0:3]"
   ]
  },
  {
   "cell_type": "code",
   "execution_count": 59,
   "metadata": {},
   "outputs": [
    {
     "data": {
      "text/plain": [
       "Coffee Shop          5\n",
       "Café                 4\n",
       "Indian Restaurant    4\n",
       "Name: 3rd Most Common Venue, dtype: int64"
      ]
     },
     "execution_count": 59,
     "metadata": {},
     "output_type": "execute_result"
    }
   ],
   "source": [
    "neighborhoods_venues_sorted['3rd Most Common Venue'].value_counts()[0:3]"
   ]
  },
  {
   "cell_type": "markdown",
   "metadata": {},
   "source": [
    "From the output above, the 'Coffee Shop' counts first for the first 3 most common venue categories."
   ]
  },
  {
   "cell_type": "markdown",
   "metadata": {},
   "source": [
    "## 4. Cluster Neighborhoods"
   ]
  },
  {
   "cell_type": "markdown",
   "metadata": {},
   "source": [
    "Run *k*-means to cluster the neighborhood in Old City of Toronto into 5 clusters."
   ]
  },
  {
   "cell_type": "code",
   "execution_count": 60,
   "metadata": {},
   "outputs": [
    {
     "data": {
      "text/plain": [
       "array([0, 0, 0, 0, 0, 0, 0, 0, 0, 0], dtype=int32)"
      ]
     },
     "execution_count": 60,
     "metadata": {},
     "output_type": "execute_result"
    }
   ],
   "source": [
    "# set number of clusters\n",
    "kclusters = 5\n",
    "\n",
    "OCoT_grouped_clustering = OCoT_grouped.drop('Neighborhoods', axis = 1)\n",
    "\n",
    "# run k-means clustering\n",
    "kmeans = KMeans(n_clusters=kclusters, random_state=0).fit(OCoT_grouped_clustering)\n",
    "\n",
    "# check cluster labels generated for each row in the dataframe\n",
    "kmeans.labels_[0:10] "
   ]
  },
  {
   "cell_type": "markdown",
   "metadata": {},
   "source": [
    "Now the neighborhoods are clustered into five groups based on their characterisitcs, the frequency of the venue categories here. "
   ]
  },
  {
   "cell_type": "markdown",
   "metadata": {},
   "source": [
    "Create a new dataframe that includes the cluster as well as the top 10 venues for each neighborhood."
   ]
  },
  {
   "cell_type": "code",
   "execution_count": 61,
   "metadata": {},
   "outputs": [
    {
     "data": {
      "text/html": [
       "<div>\n",
       "<style scoped>\n",
       "    .dataframe tbody tr th:only-of-type {\n",
       "        vertical-align: middle;\n",
       "    }\n",
       "\n",
       "    .dataframe tbody tr th {\n",
       "        vertical-align: top;\n",
       "    }\n",
       "\n",
       "    .dataframe thead th {\n",
       "        text-align: right;\n",
       "    }\n",
       "</style>\n",
       "<table border=\"1\" class=\"dataframe\">\n",
       "  <thead>\n",
       "    <tr style=\"text-align: right;\">\n",
       "      <th></th>\n",
       "      <th>Name</th>\n",
       "      <th>FM</th>\n",
       "      <th>Full_FM</th>\n",
       "      <th>Latitude</th>\n",
       "      <th>Longitude</th>\n",
       "      <th>Cluster Labels</th>\n",
       "      <th>1st Most Common Venue</th>\n",
       "      <th>2nd Most Common Venue</th>\n",
       "      <th>3rd Most Common Venue</th>\n",
       "      <th>4th Most Common Venue</th>\n",
       "      <th>5th Most Common Venue</th>\n",
       "      <th>6th Most Common Venue</th>\n",
       "      <th>7th Most Common Venue</th>\n",
       "      <th>8th Most Common Venue</th>\n",
       "      <th>9th Most Common Venue</th>\n",
       "      <th>10th Most Common Venue</th>\n",
       "    </tr>\n",
       "  </thead>\n",
       "  <tbody>\n",
       "    <tr>\n",
       "      <th>0</th>\n",
       "      <td>Port Lands</td>\n",
       "      <td>OCoT</td>\n",
       "      <td>Old City of Toronto</td>\n",
       "      <td>43.643065</td>\n",
       "      <td>-79.350601</td>\n",
       "      <td>0.0</td>\n",
       "      <td>Music Venue</td>\n",
       "      <td>Harbor / Marina</td>\n",
       "      <td>Circus</td>\n",
       "      <td>Racetrack</td>\n",
       "      <td>Pool</td>\n",
       "      <td>Supermarket</td>\n",
       "      <td>Theater</td>\n",
       "      <td>BBQ Joint</td>\n",
       "      <td>Athletics &amp; Sports</td>\n",
       "      <td>Golf Driving Range</td>\n",
       "    </tr>\n",
       "    <tr>\n",
       "      <th>1</th>\n",
       "      <td>Toronto Islands</td>\n",
       "      <td>OCoT</td>\n",
       "      <td>Old City of Toronto</td>\n",
       "      <td>43.616196</td>\n",
       "      <td>-79.369358</td>\n",
       "      <td>0.0</td>\n",
       "      <td>Beer Garden</td>\n",
       "      <td>Scenic Lookout</td>\n",
       "      <td>American Restaurant</td>\n",
       "      <td>Beach</td>\n",
       "      <td>Farm</td>\n",
       "      <td>Yoga Studio</td>\n",
       "      <td>Eastern European Restaurant</td>\n",
       "      <td>Electronics Store</td>\n",
       "      <td>Ethiopian Restaurant</td>\n",
       "      <td>Event Space</td>\n",
       "    </tr>\n",
       "    <tr>\n",
       "      <th>2</th>\n",
       "      <td>Parkdale</td>\n",
       "      <td>OCoT</td>\n",
       "      <td>Old City of Toronto</td>\n",
       "      <td>43.637178</td>\n",
       "      <td>-79.436004</td>\n",
       "      <td>0.0</td>\n",
       "      <td>Tibetan Restaurant</td>\n",
       "      <td>Café</td>\n",
       "      <td>Diner</td>\n",
       "      <td>Pizza Place</td>\n",
       "      <td>Bar</td>\n",
       "      <td>Indian Restaurant</td>\n",
       "      <td>Pharmacy</td>\n",
       "      <td>Lake</td>\n",
       "      <td>Bank</td>\n",
       "      <td>Gastropub</td>\n",
       "    </tr>\n",
       "    <tr>\n",
       "      <th>3</th>\n",
       "      <td>Niagara</td>\n",
       "      <td>OCoT</td>\n",
       "      <td>Old City of Toronto</td>\n",
       "      <td>43.063189</td>\n",
       "      <td>-79.309809</td>\n",
       "      <td>0.0</td>\n",
       "      <td>Farm</td>\n",
       "      <td>Yoga Studio</td>\n",
       "      <td>Exhibit</td>\n",
       "      <td>Donut Shop</td>\n",
       "      <td>Dumpling Restaurant</td>\n",
       "      <td>Eastern European Restaurant</td>\n",
       "      <td>Electronics Store</td>\n",
       "      <td>Ethiopian Restaurant</td>\n",
       "      <td>Event Space</td>\n",
       "      <td>Falafel Restaurant</td>\n",
       "    </tr>\n",
       "    <tr>\n",
       "      <th>4</th>\n",
       "      <td>Fashion District</td>\n",
       "      <td>OCoT</td>\n",
       "      <td>Old City of Toronto</td>\n",
       "      <td>43.645456</td>\n",
       "      <td>-79.394994</td>\n",
       "      <td>0.0</td>\n",
       "      <td>Restaurant</td>\n",
       "      <td>Coffee Shop</td>\n",
       "      <td>Italian Restaurant</td>\n",
       "      <td>Sandwich Place</td>\n",
       "      <td>French Restaurant</td>\n",
       "      <td>Hotel</td>\n",
       "      <td>Beer Bar</td>\n",
       "      <td>Steakhouse</td>\n",
       "      <td>Bar</td>\n",
       "      <td>Speakeasy</td>\n",
       "    </tr>\n",
       "  </tbody>\n",
       "</table>\n",
       "</div>"
      ],
      "text/plain": [
       "               Name    FM              Full_FM   Latitude  Longitude  \\\n",
       "0        Port Lands  OCoT  Old City of Toronto  43.643065 -79.350601   \n",
       "1   Toronto Islands  OCoT  Old City of Toronto  43.616196 -79.369358   \n",
       "2          Parkdale  OCoT  Old City of Toronto  43.637178 -79.436004   \n",
       "3           Niagara  OCoT  Old City of Toronto  43.063189 -79.309809   \n",
       "4  Fashion District  OCoT  Old City of Toronto  43.645456 -79.394994   \n",
       "\n",
       "   Cluster Labels 1st Most Common Venue 2nd Most Common Venue  \\\n",
       "0             0.0           Music Venue       Harbor / Marina   \n",
       "1             0.0           Beer Garden        Scenic Lookout   \n",
       "2             0.0    Tibetan Restaurant                  Café   \n",
       "3             0.0                  Farm           Yoga Studio   \n",
       "4             0.0            Restaurant           Coffee Shop   \n",
       "\n",
       "  3rd Most Common Venue 4th Most Common Venue 5th Most Common Venue  \\\n",
       "0                Circus             Racetrack                  Pool   \n",
       "1   American Restaurant                 Beach                  Farm   \n",
       "2                 Diner           Pizza Place                   Bar   \n",
       "3               Exhibit            Donut Shop   Dumpling Restaurant   \n",
       "4    Italian Restaurant        Sandwich Place     French Restaurant   \n",
       "\n",
       "         6th Most Common Venue        7th Most Common Venue  \\\n",
       "0                  Supermarket                      Theater   \n",
       "1                  Yoga Studio  Eastern European Restaurant   \n",
       "2            Indian Restaurant                     Pharmacy   \n",
       "3  Eastern European Restaurant            Electronics Store   \n",
       "4                        Hotel                     Beer Bar   \n",
       "\n",
       "  8th Most Common Venue 9th Most Common Venue 10th Most Common Venue  \n",
       "0             BBQ Joint    Athletics & Sports     Golf Driving Range  \n",
       "1     Electronics Store  Ethiopian Restaurant            Event Space  \n",
       "2                  Lake                  Bank              Gastropub  \n",
       "3  Ethiopian Restaurant           Event Space     Falafel Restaurant  \n",
       "4            Steakhouse                   Bar              Speakeasy  "
      ]
     },
     "execution_count": 61,
     "metadata": {},
     "output_type": "execute_result"
    }
   ],
   "source": [
    "OCoT_merged = OCoT_df\n",
    "\n",
    "# add clustering labels\n",
    "OCoT_merged['Cluster Labels'] = pd.Series(kmeans.labels_)\n",
    "\n",
    "# merge OCoT_grouped with OCoT_df to add latitude/longitude for each neighborhood\n",
    "OCoT_merged = OCoT_merged.join(neighborhoods_venues_sorted.set_index('Neighborhoods'), on='Name')\n",
    "\n",
    "OCoT_merged.head() # check the last columns!"
   ]
  },
  {
   "cell_type": "code",
   "execution_count": 62,
   "metadata": {},
   "outputs": [],
   "source": [
    "# drop the missing values\n",
    "OCoT_merged = OCoT_merged.dropna()"
   ]
  },
  {
   "cell_type": "code",
   "execution_count": 63,
   "metadata": {},
   "outputs": [],
   "source": [
    "# convert the labels into integer\n",
    "OCoT_merged['Cluster Labels'] = OCoT_merged['Cluster Labels'].astype(int)"
   ]
  },
  {
   "cell_type": "markdown",
   "metadata": {},
   "source": [
    "Finally, let's visualize the resulting clusters"
   ]
  },
  {
   "cell_type": "code",
   "execution_count": 64,
   "metadata": {},
   "outputs": [
    {
     "data": {
      "text/html": [
       "<div style=\"width:100%;\"><div style=\"position:relative;width:100%;height:0;padding-bottom:60%;\"><iframe src=\"data:text/html;charset=utf-8;base64,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\" style=\"position:absolute;width:100%;height:100%;left:0;top:0;border:none !important;\" allowfullscreen webkitallowfullscreen mozallowfullscreen></iframe></div></div>"
      ],
      "text/plain": [
       "<folium.folium.Map at 0x1a17a05080>"
      ]
     },
     "execution_count": 64,
     "metadata": {},
     "output_type": "execute_result"
    }
   ],
   "source": [
    "# create map\n",
    "map_clusters = folium.Map(location=[latitude, longitude], zoom_start=11)\n",
    "\n",
    "# set color scheme for the clusters\n",
    "x = np.arange(kclusters)\n",
    "ys = [i+x+(i*x)**2 for i in range(kclusters)]\n",
    "colors_array = cm.rainbow(np.linspace(0, 1, len(ys)))\n",
    "rainbow = [colors.rgb2hex(i) for i in colors_array]\n",
    "\n",
    "# add markers to the map\n",
    "markers_colors = []\n",
    "for lat, lon, poi, cluster in zip(OCoT_merged['Latitude'], OCoT_merged['Longitude'], OCoT_merged['Name'], OCoT_merged['Cluster Labels']):\n",
    "    label = folium.Popup(str(poi) + ' Cluster ' + str(cluster), parse_html=True)\n",
    "    folium.CircleMarker(\n",
    "        [lat, lon],\n",
    "        radius=5,\n",
    "        popup=label,\n",
    "        color=rainbow[cluster-1],\n",
    "        fill=True,\n",
    "        fill_color=rainbow[cluster-1],\n",
    "        fill_opacity=0.7).add_to(map_clusters)\n",
    "       \n",
    "map_clusters"
   ]
  },
  {
   "cell_type": "markdown",
   "metadata": {},
   "source": [
    "## 5. Examine Each of the Five Clusters"
   ]
  },
  {
   "cell_type": "markdown",
   "metadata": {},
   "source": [
    "Now, you can examine each cluster and determine the discriminating venue categories that distinguish each cluster. Based on the defining categories, you can then assign a name to each cluster. I will leave this exercise to you."
   ]
  },
  {
   "cell_type": "markdown",
   "metadata": {},
   "source": [
    "#### Cluster 1"
   ]
  },
  {
   "cell_type": "code",
   "execution_count": 65,
   "metadata": {},
   "outputs": [
    {
     "data": {
      "text/html": [
       "<div>\n",
       "<style scoped>\n",
       "    .dataframe tbody tr th:only-of-type {\n",
       "        vertical-align: middle;\n",
       "    }\n",
       "\n",
       "    .dataframe tbody tr th {\n",
       "        vertical-align: top;\n",
       "    }\n",
       "\n",
       "    .dataframe thead th {\n",
       "        text-align: right;\n",
       "    }\n",
       "</style>\n",
       "<table border=\"1\" class=\"dataframe\">\n",
       "  <thead>\n",
       "    <tr style=\"text-align: right;\">\n",
       "      <th></th>\n",
       "      <th>Name</th>\n",
       "      <th>1st Most Common Venue</th>\n",
       "      <th>2nd Most Common Venue</th>\n",
       "      <th>3rd Most Common Venue</th>\n",
       "      <th>4th Most Common Venue</th>\n",
       "      <th>5th Most Common Venue</th>\n",
       "      <th>6th Most Common Venue</th>\n",
       "      <th>7th Most Common Venue</th>\n",
       "      <th>8th Most Common Venue</th>\n",
       "      <th>9th Most Common Venue</th>\n",
       "      <th>10th Most Common Venue</th>\n",
       "    </tr>\n",
       "  </thead>\n",
       "  <tbody>\n",
       "    <tr>\n",
       "      <th>0</th>\n",
       "      <td>Port Lands</td>\n",
       "      <td>Music Venue</td>\n",
       "      <td>Harbor / Marina</td>\n",
       "      <td>Circus</td>\n",
       "      <td>Racetrack</td>\n",
       "      <td>Pool</td>\n",
       "      <td>Supermarket</td>\n",
       "      <td>Theater</td>\n",
       "      <td>BBQ Joint</td>\n",
       "      <td>Athletics &amp; Sports</td>\n",
       "      <td>Golf Driving Range</td>\n",
       "    </tr>\n",
       "    <tr>\n",
       "      <th>1</th>\n",
       "      <td>Toronto Islands</td>\n",
       "      <td>Beer Garden</td>\n",
       "      <td>Scenic Lookout</td>\n",
       "      <td>American Restaurant</td>\n",
       "      <td>Beach</td>\n",
       "      <td>Farm</td>\n",
       "      <td>Yoga Studio</td>\n",
       "      <td>Eastern European Restaurant</td>\n",
       "      <td>Electronics Store</td>\n",
       "      <td>Ethiopian Restaurant</td>\n",
       "      <td>Event Space</td>\n",
       "    </tr>\n",
       "    <tr>\n",
       "      <th>2</th>\n",
       "      <td>Parkdale</td>\n",
       "      <td>Tibetan Restaurant</td>\n",
       "      <td>Café</td>\n",
       "      <td>Diner</td>\n",
       "      <td>Pizza Place</td>\n",
       "      <td>Bar</td>\n",
       "      <td>Indian Restaurant</td>\n",
       "      <td>Pharmacy</td>\n",
       "      <td>Lake</td>\n",
       "      <td>Bank</td>\n",
       "      <td>Gastropub</td>\n",
       "    </tr>\n",
       "    <tr>\n",
       "      <th>3</th>\n",
       "      <td>Niagara</td>\n",
       "      <td>Farm</td>\n",
       "      <td>Yoga Studio</td>\n",
       "      <td>Exhibit</td>\n",
       "      <td>Donut Shop</td>\n",
       "      <td>Dumpling Restaurant</td>\n",
       "      <td>Eastern European Restaurant</td>\n",
       "      <td>Electronics Store</td>\n",
       "      <td>Ethiopian Restaurant</td>\n",
       "      <td>Event Space</td>\n",
       "      <td>Falafel Restaurant</td>\n",
       "    </tr>\n",
       "    <tr>\n",
       "      <th>4</th>\n",
       "      <td>Fashion District</td>\n",
       "      <td>Restaurant</td>\n",
       "      <td>Coffee Shop</td>\n",
       "      <td>Italian Restaurant</td>\n",
       "      <td>Sandwich Place</td>\n",
       "      <td>French Restaurant</td>\n",
       "      <td>Hotel</td>\n",
       "      <td>Beer Bar</td>\n",
       "      <td>Steakhouse</td>\n",
       "      <td>Bar</td>\n",
       "      <td>Speakeasy</td>\n",
       "    </tr>\n",
       "  </tbody>\n",
       "</table>\n",
       "</div>"
      ],
      "text/plain": [
       "               Name 1st Most Common Venue 2nd Most Common Venue  \\\n",
       "0        Port Lands           Music Venue       Harbor / Marina   \n",
       "1   Toronto Islands           Beer Garden        Scenic Lookout   \n",
       "2          Parkdale    Tibetan Restaurant                  Café   \n",
       "3           Niagara                  Farm           Yoga Studio   \n",
       "4  Fashion District            Restaurant           Coffee Shop   \n",
       "\n",
       "  3rd Most Common Venue 4th Most Common Venue 5th Most Common Venue  \\\n",
       "0                Circus             Racetrack                  Pool   \n",
       "1   American Restaurant                 Beach                  Farm   \n",
       "2                 Diner           Pizza Place                   Bar   \n",
       "3               Exhibit            Donut Shop   Dumpling Restaurant   \n",
       "4    Italian Restaurant        Sandwich Place     French Restaurant   \n",
       "\n",
       "         6th Most Common Venue        7th Most Common Venue  \\\n",
       "0                  Supermarket                      Theater   \n",
       "1                  Yoga Studio  Eastern European Restaurant   \n",
       "2            Indian Restaurant                     Pharmacy   \n",
       "3  Eastern European Restaurant            Electronics Store   \n",
       "4                        Hotel                     Beer Bar   \n",
       "\n",
       "  8th Most Common Venue 9th Most Common Venue 10th Most Common Venue  \n",
       "0             BBQ Joint    Athletics & Sports     Golf Driving Range  \n",
       "1     Electronics Store  Ethiopian Restaurant            Event Space  \n",
       "2                  Lake                  Bank              Gastropub  \n",
       "3  Ethiopian Restaurant           Event Space     Falafel Restaurant  \n",
       "4            Steakhouse                   Bar              Speakeasy  "
      ]
     },
     "execution_count": 65,
     "metadata": {},
     "output_type": "execute_result"
    }
   ],
   "source": [
    "grp_1 = OCoT_merged.loc[OCoT_merged['Cluster Labels'] == 0, OCoT_merged.columns[[0] + list(range(6, OCoT_merged.shape[1]))]]\n",
    "grp_1.head()"
   ]
  },
  {
   "cell_type": "markdown",
   "metadata": {},
   "source": [
    "#### Cluster 2"
   ]
  },
  {
   "cell_type": "code",
   "execution_count": 66,
   "metadata": {},
   "outputs": [
    {
     "data": {
      "text/html": [
       "<div>\n",
       "<style scoped>\n",
       "    .dataframe tbody tr th:only-of-type {\n",
       "        vertical-align: middle;\n",
       "    }\n",
       "\n",
       "    .dataframe tbody tr th {\n",
       "        vertical-align: top;\n",
       "    }\n",
       "\n",
       "    .dataframe thead th {\n",
       "        text-align: right;\n",
       "    }\n",
       "</style>\n",
       "<table border=\"1\" class=\"dataframe\">\n",
       "  <thead>\n",
       "    <tr style=\"text-align: right;\">\n",
       "      <th></th>\n",
       "      <th>Name</th>\n",
       "      <th>1st Most Common Venue</th>\n",
       "      <th>2nd Most Common Venue</th>\n",
       "      <th>3rd Most Common Venue</th>\n",
       "      <th>4th Most Common Venue</th>\n",
       "      <th>5th Most Common Venue</th>\n",
       "      <th>6th Most Common Venue</th>\n",
       "      <th>7th Most Common Venue</th>\n",
       "      <th>8th Most Common Venue</th>\n",
       "      <th>9th Most Common Venue</th>\n",
       "      <th>10th Most Common Venue</th>\n",
       "    </tr>\n",
       "  </thead>\n",
       "  <tbody>\n",
       "    <tr>\n",
       "      <th>28</th>\n",
       "      <td>Cabbagetown</td>\n",
       "      <td>Restaurant</td>\n",
       "      <td>Café</td>\n",
       "      <td>Indian Restaurant</td>\n",
       "      <td>Coffee Shop</td>\n",
       "      <td>Italian Restaurant</td>\n",
       "      <td>Diner</td>\n",
       "      <td>Beer Store</td>\n",
       "      <td>Pizza Place</td>\n",
       "      <td>Bakery</td>\n",
       "      <td>Japanese Restaurant</td>\n",
       "    </tr>\n",
       "  </tbody>\n",
       "</table>\n",
       "</div>"
      ],
      "text/plain": [
       "           Name 1st Most Common Venue 2nd Most Common Venue  \\\n",
       "28  Cabbagetown            Restaurant                  Café   \n",
       "\n",
       "   3rd Most Common Venue 4th Most Common Venue 5th Most Common Venue  \\\n",
       "28     Indian Restaurant           Coffee Shop    Italian Restaurant   \n",
       "\n",
       "   6th Most Common Venue 7th Most Common Venue 8th Most Common Venue  \\\n",
       "28                 Diner            Beer Store           Pizza Place   \n",
       "\n",
       "   9th Most Common Venue 10th Most Common Venue  \n",
       "28                Bakery    Japanese Restaurant  "
      ]
     },
     "execution_count": 66,
     "metadata": {},
     "output_type": "execute_result"
    }
   ],
   "source": [
    "grp_2 = OCoT_merged.loc[OCoT_merged['Cluster Labels'] == 1, OCoT_merged.columns[[0] + list(range(6, OCoT_merged.shape[1]))]]\n",
    "grp_2"
   ]
  },
  {
   "cell_type": "markdown",
   "metadata": {},
   "source": [
    "#### Cluster 3"
   ]
  },
  {
   "cell_type": "code",
   "execution_count": 67,
   "metadata": {},
   "outputs": [
    {
     "data": {
      "text/html": [
       "<div>\n",
       "<style scoped>\n",
       "    .dataframe tbody tr th:only-of-type {\n",
       "        vertical-align: middle;\n",
       "    }\n",
       "\n",
       "    .dataframe tbody tr th {\n",
       "        vertical-align: top;\n",
       "    }\n",
       "\n",
       "    .dataframe thead th {\n",
       "        text-align: right;\n",
       "    }\n",
       "</style>\n",
       "<table border=\"1\" class=\"dataframe\">\n",
       "  <thead>\n",
       "    <tr style=\"text-align: right;\">\n",
       "      <th></th>\n",
       "      <th>Name</th>\n",
       "      <th>1st Most Common Venue</th>\n",
       "      <th>2nd Most Common Venue</th>\n",
       "      <th>3rd Most Common Venue</th>\n",
       "      <th>4th Most Common Venue</th>\n",
       "      <th>5th Most Common Venue</th>\n",
       "      <th>6th Most Common Venue</th>\n",
       "      <th>7th Most Common Venue</th>\n",
       "      <th>8th Most Common Venue</th>\n",
       "      <th>9th Most Common Venue</th>\n",
       "      <th>10th Most Common Venue</th>\n",
       "    </tr>\n",
       "  </thead>\n",
       "  <tbody>\n",
       "    <tr>\n",
       "      <th>37</th>\n",
       "      <td>Wallace Emerson</td>\n",
       "      <td>Coffee Shop</td>\n",
       "      <td>Pharmacy</td>\n",
       "      <td>Portuguese Restaurant</td>\n",
       "      <td>Supermarket</td>\n",
       "      <td>Gym</td>\n",
       "      <td>Bank</td>\n",
       "      <td>Bakery</td>\n",
       "      <td>Skating Rink</td>\n",
       "      <td>Bar</td>\n",
       "      <td>Discount Store</td>\n",
       "    </tr>\n",
       "  </tbody>\n",
       "</table>\n",
       "</div>"
      ],
      "text/plain": [
       "               Name 1st Most Common Venue 2nd Most Common Venue  \\\n",
       "37  Wallace Emerson           Coffee Shop              Pharmacy   \n",
       "\n",
       "    3rd Most Common Venue 4th Most Common Venue 5th Most Common Venue  \\\n",
       "37  Portuguese Restaurant           Supermarket                   Gym   \n",
       "\n",
       "   6th Most Common Venue 7th Most Common Venue 8th Most Common Venue  \\\n",
       "37                  Bank                Bakery          Skating Rink   \n",
       "\n",
       "   9th Most Common Venue 10th Most Common Venue  \n",
       "37                   Bar         Discount Store  "
      ]
     },
     "execution_count": 67,
     "metadata": {},
     "output_type": "execute_result"
    }
   ],
   "source": [
    "grp_3 = OCoT_merged.loc[OCoT_merged['Cluster Labels'] == 2, OCoT_merged.columns[[0] + list(range(6, OCoT_merged.shape[1]))]]\n",
    "grp_3"
   ]
  },
  {
   "cell_type": "markdown",
   "metadata": {},
   "source": [
    "#### Cluster 4"
   ]
  },
  {
   "cell_type": "code",
   "execution_count": 68,
   "metadata": {},
   "outputs": [
    {
     "data": {
      "text/html": [
       "<div>\n",
       "<style scoped>\n",
       "    .dataframe tbody tr th:only-of-type {\n",
       "        vertical-align: middle;\n",
       "    }\n",
       "\n",
       "    .dataframe tbody tr th {\n",
       "        vertical-align: top;\n",
       "    }\n",
       "\n",
       "    .dataframe thead th {\n",
       "        text-align: right;\n",
       "    }\n",
       "</style>\n",
       "<table border=\"1\" class=\"dataframe\">\n",
       "  <thead>\n",
       "    <tr style=\"text-align: right;\">\n",
       "      <th></th>\n",
       "      <th>Name</th>\n",
       "      <th>1st Most Common Venue</th>\n",
       "      <th>2nd Most Common Venue</th>\n",
       "      <th>3rd Most Common Venue</th>\n",
       "      <th>4th Most Common Venue</th>\n",
       "      <th>5th Most Common Venue</th>\n",
       "      <th>6th Most Common Venue</th>\n",
       "      <th>7th Most Common Venue</th>\n",
       "      <th>8th Most Common Venue</th>\n",
       "      <th>9th Most Common Venue</th>\n",
       "      <th>10th Most Common Venue</th>\n",
       "    </tr>\n",
       "  </thead>\n",
       "  <tbody>\n",
       "    <tr>\n",
       "      <th>56</th>\n",
       "      <td>Lytton Park</td>\n",
       "      <td>Playground</td>\n",
       "      <td>Restaurant</td>\n",
       "      <td>Garden</td>\n",
       "      <td>Dive Bar</td>\n",
       "      <td>Doner Restaurant</td>\n",
       "      <td>Donut Shop</td>\n",
       "      <td>Dumpling Restaurant</td>\n",
       "      <td>Eastern European Restaurant</td>\n",
       "      <td>Electronics Store</td>\n",
       "      <td>Ethiopian Restaurant</td>\n",
       "    </tr>\n",
       "  </tbody>\n",
       "</table>\n",
       "</div>"
      ],
      "text/plain": [
       "           Name 1st Most Common Venue 2nd Most Common Venue  \\\n",
       "56  Lytton Park            Playground            Restaurant   \n",
       "\n",
       "   3rd Most Common Venue 4th Most Common Venue 5th Most Common Venue  \\\n",
       "56                Garden              Dive Bar      Doner Restaurant   \n",
       "\n",
       "   6th Most Common Venue 7th Most Common Venue        8th Most Common Venue  \\\n",
       "56            Donut Shop   Dumpling Restaurant  Eastern European Restaurant   \n",
       "\n",
       "   9th Most Common Venue 10th Most Common Venue  \n",
       "56     Electronics Store   Ethiopian Restaurant  "
      ]
     },
     "execution_count": 68,
     "metadata": {},
     "output_type": "execute_result"
    }
   ],
   "source": [
    "grp_4 = OCoT_merged.loc[OCoT_merged['Cluster Labels'] == 3, OCoT_merged.columns[[0] + list(range(6, OCoT_merged.shape[1]))]]\n",
    "grp_4"
   ]
  },
  {
   "cell_type": "markdown",
   "metadata": {},
   "source": [
    "#### Cluster 5"
   ]
  },
  {
   "cell_type": "code",
   "execution_count": 69,
   "metadata": {},
   "outputs": [
    {
     "data": {
      "text/html": [
       "<div>\n",
       "<style scoped>\n",
       "    .dataframe tbody tr th:only-of-type {\n",
       "        vertical-align: middle;\n",
       "    }\n",
       "\n",
       "    .dataframe tbody tr th {\n",
       "        vertical-align: top;\n",
       "    }\n",
       "\n",
       "    .dataframe thead th {\n",
       "        text-align: right;\n",
       "    }\n",
       "</style>\n",
       "<table border=\"1\" class=\"dataframe\">\n",
       "  <thead>\n",
       "    <tr style=\"text-align: right;\">\n",
       "      <th></th>\n",
       "      <th>Name</th>\n",
       "      <th>1st Most Common Venue</th>\n",
       "      <th>2nd Most Common Venue</th>\n",
       "      <th>3rd Most Common Venue</th>\n",
       "      <th>4th Most Common Venue</th>\n",
       "      <th>5th Most Common Venue</th>\n",
       "      <th>6th Most Common Venue</th>\n",
       "      <th>7th Most Common Venue</th>\n",
       "      <th>8th Most Common Venue</th>\n",
       "      <th>9th Most Common Venue</th>\n",
       "      <th>10th Most Common Venue</th>\n",
       "    </tr>\n",
       "  </thead>\n",
       "  <tbody>\n",
       "    <tr>\n",
       "      <th>46</th>\n",
       "      <td>Bracondale Hill</td>\n",
       "      <td>Chinese Restaurant</td>\n",
       "      <td>Restaurant</td>\n",
       "      <td>Pub</td>\n",
       "      <td>Coffee Shop</td>\n",
       "      <td>Soccer Field</td>\n",
       "      <td>Convenience Store</td>\n",
       "      <td>Café</td>\n",
       "      <td>Rock Club</td>\n",
       "      <td>Mobile Phone Shop</td>\n",
       "      <td>Baby Store</td>\n",
       "    </tr>\n",
       "  </tbody>\n",
       "</table>\n",
       "</div>"
      ],
      "text/plain": [
       "               Name 1st Most Common Venue 2nd Most Common Venue  \\\n",
       "46  Bracondale Hill    Chinese Restaurant            Restaurant   \n",
       "\n",
       "   3rd Most Common Venue 4th Most Common Venue 5th Most Common Venue  \\\n",
       "46                   Pub           Coffee Shop          Soccer Field   \n",
       "\n",
       "   6th Most Common Venue 7th Most Common Venue 8th Most Common Venue  \\\n",
       "46     Convenience Store                  Café             Rock Club   \n",
       "\n",
       "   9th Most Common Venue 10th Most Common Venue  \n",
       "46     Mobile Phone Shop             Baby Store  "
      ]
     },
     "execution_count": 69,
     "metadata": {},
     "output_type": "execute_result"
    }
   ],
   "source": [
    "grp_5 = OCoT_merged.loc[OCoT_merged['Cluster Labels'] == 4, OCoT_merged.columns[[0] + list(range(6, OCoT_merged.shape[1]))]]\n",
    "grp_5"
   ]
  },
  {
   "cell_type": "markdown",
   "metadata": {},
   "source": [
    "#### Find the most common venue category for each of the five cluster groups"
   ]
  },
  {
   "cell_type": "code",
   "execution_count": 70,
   "metadata": {},
   "outputs": [
    {
     "data": {
      "text/plain": [
       "Coffee Shop    10\n",
       "Name: 1st Most Common Venue, dtype: int64"
      ]
     },
     "execution_count": 70,
     "metadata": {},
     "output_type": "execute_result"
    }
   ],
   "source": [
    "grp_1_most = grp_1['1st Most Common Venue'].value_counts()[0:1]\n",
    "grp_1_most"
   ]
  },
  {
   "cell_type": "code",
   "execution_count": 71,
   "metadata": {},
   "outputs": [
    {
     "data": {
      "text/plain": [
       "Restaurant    1\n",
       "Name: 1st Most Common Venue, dtype: int64"
      ]
     },
     "execution_count": 71,
     "metadata": {},
     "output_type": "execute_result"
    }
   ],
   "source": [
    "grp_2_most = grp_2['1st Most Common Venue'].value_counts()[0:1]\n",
    "grp_2_most"
   ]
  },
  {
   "cell_type": "code",
   "execution_count": 72,
   "metadata": {},
   "outputs": [
    {
     "data": {
      "text/plain": [
       "Coffee Shop    1\n",
       "Name: 1st Most Common Venue, dtype: int64"
      ]
     },
     "execution_count": 72,
     "metadata": {},
     "output_type": "execute_result"
    }
   ],
   "source": [
    "grp_3_most = grp_3['1st Most Common Venue'].value_counts()[0:1]\n",
    "grp_3_most"
   ]
  },
  {
   "cell_type": "code",
   "execution_count": 73,
   "metadata": {},
   "outputs": [
    {
     "data": {
      "text/plain": [
       "Playground    1\n",
       "Name: 1st Most Common Venue, dtype: int64"
      ]
     },
     "execution_count": 73,
     "metadata": {},
     "output_type": "execute_result"
    }
   ],
   "source": [
    "grp_4_most = grp_4['1st Most Common Venue'].value_counts()[0:1]\n",
    "grp_4_most"
   ]
  },
  {
   "cell_type": "code",
   "execution_count": 74,
   "metadata": {},
   "outputs": [
    {
     "data": {
      "text/plain": [
       "Chinese Restaurant    1\n",
       "Name: 1st Most Common Venue, dtype: int64"
      ]
     },
     "execution_count": 74,
     "metadata": {},
     "output_type": "execute_result"
    }
   ],
   "source": [
    "grp_5_most = grp_5['1st Most Common Venue'].value_counts()[0:1]\n",
    "grp_5_most"
   ]
  },
  {
   "cell_type": "markdown",
   "metadata": {},
   "source": [
    "Create a new dataset contain the most common venue category for each of the five clusters."
   ]
  },
  {
   "cell_type": "code",
   "execution_count": 75,
   "metadata": {},
   "outputs": [
    {
     "data": {
      "text/html": [
       "<div>\n",
       "<style scoped>\n",
       "    .dataframe tbody tr th:only-of-type {\n",
       "        vertical-align: middle;\n",
       "    }\n",
       "\n",
       "    .dataframe tbody tr th {\n",
       "        vertical-align: top;\n",
       "    }\n",
       "\n",
       "    .dataframe thead th {\n",
       "        text-align: right;\n",
       "    }\n",
       "</style>\n",
       "<table border=\"1\" class=\"dataframe\">\n",
       "  <thead>\n",
       "    <tr style=\"text-align: right;\">\n",
       "      <th></th>\n",
       "      <th>Groups</th>\n",
       "      <th>Most Common Venue</th>\n",
       "      <th>Frequency</th>\n",
       "    </tr>\n",
       "  </thead>\n",
       "  <tbody>\n",
       "    <tr>\n",
       "      <th>0</th>\n",
       "      <td>grp_1</td>\n",
       "      <td>Coffee Shop</td>\n",
       "      <td>12</td>\n",
       "    </tr>\n",
       "    <tr>\n",
       "      <th>1</th>\n",
       "      <td>grp_2</td>\n",
       "      <td>Cocktail Bar</td>\n",
       "      <td>1</td>\n",
       "    </tr>\n",
       "    <tr>\n",
       "      <th>2</th>\n",
       "      <td>grp_3</td>\n",
       "      <td>Event Space</td>\n",
       "      <td>1</td>\n",
       "    </tr>\n",
       "    <tr>\n",
       "      <th>3</th>\n",
       "      <td>grp_4</td>\n",
       "      <td>Beach</td>\n",
       "      <td>1</td>\n",
       "    </tr>\n",
       "    <tr>\n",
       "      <th>4</th>\n",
       "      <td>grp_5</td>\n",
       "      <td>Bakery</td>\n",
       "      <td>1</td>\n",
       "    </tr>\n",
       "  </tbody>\n",
       "</table>\n",
       "</div>"
      ],
      "text/plain": [
       "  Groups Most Common Venue  Frequency\n",
       "0  grp_1       Coffee Shop         12\n",
       "1  grp_2      Cocktail Bar          1\n",
       "2  grp_3       Event Space          1\n",
       "3  grp_4             Beach          1\n",
       "4  grp_5            Bakery          1"
      ]
     },
     "execution_count": 75,
     "metadata": {},
     "output_type": "execute_result"
    }
   ],
   "source": [
    "grp_most_common = pd.DataFrame({'Groups': ['grp_1', 'grp_2', 'grp_3', 'grp_4', 'grp_5'],\n",
    "                               'Most Common Venue': ['Coffee Shop', 'Cocktail Bar', 'Event Space', 'Beach', 'Bakery'],\n",
    "                                'Frequency': [12, 1, 1, 1, 1]})\n",
    "grp_most_common"
   ]
  },
  {
   "cell_type": "markdown",
   "metadata": {},
   "source": [
    "From the output above, the most common for each of the five cluster groups varied a lot, may indicating some of people's living habits in the particular neighborhood. "
   ]
  },
  {
   "cell_type": "code",
   "execution_count": null,
   "metadata": {},
   "outputs": [],
   "source": []
  }
 ],
 "metadata": {
  "kernelspec": {
   "display_name": "Python 3",
   "language": "python",
   "name": "python3"
  },
  "language_info": {
   "codemirror_mode": {
    "name": "ipython",
    "version": 3
   },
   "file_extension": ".py",
   "mimetype": "text/x-python",
   "name": "python",
   "nbconvert_exporter": "python",
   "pygments_lexer": "ipython3",
   "version": "3.6.7"
  }
 },
 "nbformat": 4,
 "nbformat_minor": 2
}
