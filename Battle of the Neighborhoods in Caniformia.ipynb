{
 "cells": [
  {
   "cell_type": "markdown",
   "metadata": {},
   "source": [
    "### Where is the recommended place to open a restaurant, a coffee shop, or to start a new business?"
   ]
  },
  {
   "cell_type": "markdown",
   "metadata": {},
   "source": [
    "## Introduction\n",
    "\n",
    "In this project, I will provide a general guide about where to open a restaurant, a coffee shop, or to setup an office for the new business based on. The Foursquare API is used to explore the neighborhoods in a particular city, and the explore function is used to get the most common venue categories in each neighborhood. After this project, you will get a general idea on determining the location for your business."
   ]
  },
  {
   "cell_type": "markdown",
   "metadata": {},
   "source": [
    "### Data "
   ]
  },
  {
   "cell_type": "markdown",
   "metadata": {},
   "source": [
    "The data for this project is all the neighborhood in California. There is a total of 55 counties and 481 cities in California. And 500 venues within 1000 meters of each cities are investiaged. Since the total number of venues for all the 55 counties (481 cities) are too big, which exceeds the personal call limit of Foursquare API. I downsize the counties to Log Angeles only, consisting 88 cities, which is famous for its diversity. "
   ]
  },
  {
   "cell_type": "markdown",
   "metadata": {},
   "source": [
    "Import libraries that are used in this project"
   ]
  },
  {
   "cell_type": "code",
   "execution_count": 3,
   "metadata": {},
   "outputs": [],
   "source": [
    "import pandas as pd # library for data analsysis\n",
    "import numpy as np # library to handle data in a vectorized manner\n",
    "\n",
    "from geopy.geocoders import Nominatim # convert an address into latitude and longitude values\n",
    "\n",
    "import requests # library to handle requests\n",
    "from pandas.io.json import json_normalize # tranform JSON file into a pandas dataframe\n",
    "\n",
    "from sklearn.cluster import KMeans  # import k-means from clustering stage\n",
    "\n",
    "import matplotlib.cm as cm   # Matplotlib and associated plotting modules\n",
    "import matplotlib.colors as colors\n",
    "from matplotlib import pyplot as plt\n",
    "\n",
    "import folium # map rendering library"
   ]
  },
  {
   "cell_type": "markdown",
   "metadata": {},
   "source": [
    "## 1. Import Dataset: Get all the neighborhood names of California from wikipedia"
   ]
  },
  {
   "cell_type": "code",
   "execution_count": 4,
   "metadata": {},
   "outputs": [],
   "source": [
    "url_cal = 'https://en.wikipedia.org/wiki/List_of_cities_and_towns_in_California'\n",
    "California_raw = pd.read_clipboard()"
   ]
  },
  {
   "cell_type": "code",
   "execution_count": 5,
   "metadata": {},
   "outputs": [
    {
     "data": {
      "text/html": [
       "<div>\n",
       "<style scoped>\n",
       "    .dataframe tbody tr th:only-of-type {\n",
       "        vertical-align: middle;\n",
       "    }\n",
       "\n",
       "    .dataframe tbody tr th {\n",
       "        vertical-align: top;\n",
       "    }\n",
       "\n",
       "    .dataframe thead th {\n",
       "        text-align: right;\n",
       "    }\n",
       "</style>\n",
       "<table border=\"1\" class=\"dataframe\">\n",
       "  <thead>\n",
       "    <tr style=\"text-align: right;\">\n",
       "      <th></th>\n",
       "      <th>Adelanto</th>\n",
       "      <th>City</th>\n",
       "      <th>San Bernardino</th>\n",
       "      <th>31,765</th>\n",
       "      <th>56.01</th>\n",
       "      <th>145.1</th>\n",
       "      <th>December 22, 1970</th>\n",
       "    </tr>\n",
       "  </thead>\n",
       "  <tbody>\n",
       "    <tr>\n",
       "      <th>0</th>\n",
       "      <td>Agoura Hills</td>\n",
       "      <td>City</td>\n",
       "      <td>Los Angeles</td>\n",
       "      <td>20,330</td>\n",
       "      <td>7.79</td>\n",
       "      <td>20.2</td>\n",
       "      <td>December 8, 1982</td>\n",
       "    </tr>\n",
       "    <tr>\n",
       "      <th>1</th>\n",
       "      <td>Alameda</td>\n",
       "      <td>City</td>\n",
       "      <td>Alameda</td>\n",
       "      <td>73,812</td>\n",
       "      <td>10.61</td>\n",
       "      <td>27.5</td>\n",
       "      <td>April 19, 1854</td>\n",
       "    </tr>\n",
       "    <tr>\n",
       "      <th>2</th>\n",
       "      <td>Albany</td>\n",
       "      <td>City</td>\n",
       "      <td>Alameda</td>\n",
       "      <td>18,539</td>\n",
       "      <td>1.79</td>\n",
       "      <td>4.6</td>\n",
       "      <td>September 22, 1908</td>\n",
       "    </tr>\n",
       "    <tr>\n",
       "      <th>3</th>\n",
       "      <td>Alhambra</td>\n",
       "      <td>City</td>\n",
       "      <td>Los Angeles</td>\n",
       "      <td>83,089</td>\n",
       "      <td>7.63</td>\n",
       "      <td>19.8</td>\n",
       "      <td>July 11, 1903</td>\n",
       "    </tr>\n",
       "    <tr>\n",
       "      <th>4</th>\n",
       "      <td>Aliso Viejo</td>\n",
       "      <td>City</td>\n",
       "      <td>Orange</td>\n",
       "      <td>47,823</td>\n",
       "      <td>7.47</td>\n",
       "      <td>19.3</td>\n",
       "      <td>July 1, 2001</td>\n",
       "    </tr>\n",
       "  </tbody>\n",
       "</table>\n",
       "</div>"
      ],
      "text/plain": [
       "       Adelanto  City San Bernardino  31,765  56.01 145.1   December 22, 1970\n",
       "0  Agoura Hills  City    Los Angeles  20,330   7.79  20.2    December 8, 1982\n",
       "1       Alameda  City        Alameda  73,812  10.61  27.5      April 19, 1854\n",
       "2        Albany  City        Alameda  18,539   1.79   4.6  September 22, 1908\n",
       "3      Alhambra  City    Los Angeles  83,089   7.63  19.8       July 11, 1903\n",
       "4   Aliso Viejo  City         Orange  47,823   7.47  19.3        July 1, 2001"
      ]
     },
     "execution_count": 5,
     "metadata": {},
     "output_type": "execute_result"
    }
   ],
   "source": [
    "California_raw.head()"
   ]
  },
  {
   "cell_type": "code",
   "execution_count": 7,
   "metadata": {},
   "outputs": [
    {
     "data": {
      "text/plain": [
       "481"
      ]
     },
     "execution_count": 7,
     "metadata": {},
     "output_type": "execute_result"
    }
   ],
   "source": [
    "len(California_raw)"
   ]
  },
  {
   "cell_type": "code",
   "execution_count": 8,
   "metadata": {},
   "outputs": [
    {
     "data": {
      "text/html": [
       "<div>\n",
       "<style scoped>\n",
       "    .dataframe tbody tr th:only-of-type {\n",
       "        vertical-align: middle;\n",
       "    }\n",
       "\n",
       "    .dataframe tbody tr th {\n",
       "        vertical-align: top;\n",
       "    }\n",
       "\n",
       "    .dataframe thead th {\n",
       "        text-align: right;\n",
       "    }\n",
       "</style>\n",
       "<table border=\"1\" class=\"dataframe\">\n",
       "  <thead>\n",
       "    <tr style=\"text-align: right;\">\n",
       "      <th></th>\n",
       "      <th>0</th>\n",
       "      <th>1</th>\n",
       "      <th>2</th>\n",
       "      <th>3</th>\n",
       "      <th>4</th>\n",
       "      <th>5</th>\n",
       "      <th>6</th>\n",
       "    </tr>\n",
       "  </thead>\n",
       "  <tbody>\n",
       "    <tr>\n",
       "      <th>0</th>\n",
       "      <td>Adelanto</td>\n",
       "      <td>City</td>\n",
       "      <td>San Bernardino</td>\n",
       "      <td>31,765</td>\n",
       "      <td>56.01</td>\n",
       "      <td>145.1</td>\n",
       "      <td>December 22, 1970</td>\n",
       "    </tr>\n",
       "    <tr>\n",
       "      <th>1</th>\n",
       "      <td>Agoura Hills</td>\n",
       "      <td>City</td>\n",
       "      <td>Los Angeles</td>\n",
       "      <td>20,330</td>\n",
       "      <td>7.79</td>\n",
       "      <td>20.2</td>\n",
       "      <td>December 8, 1982</td>\n",
       "    </tr>\n",
       "    <tr>\n",
       "      <th>2</th>\n",
       "      <td>Alameda</td>\n",
       "      <td>City</td>\n",
       "      <td>Alameda</td>\n",
       "      <td>73,812</td>\n",
       "      <td>10.61</td>\n",
       "      <td>27.5</td>\n",
       "      <td>April 19, 1854</td>\n",
       "    </tr>\n",
       "    <tr>\n",
       "      <th>3</th>\n",
       "      <td>Albany</td>\n",
       "      <td>City</td>\n",
       "      <td>Alameda</td>\n",
       "      <td>18,539</td>\n",
       "      <td>1.79</td>\n",
       "      <td>4.6</td>\n",
       "      <td>September 22, 1908</td>\n",
       "    </tr>\n",
       "    <tr>\n",
       "      <th>4</th>\n",
       "      <td>Alhambra</td>\n",
       "      <td>City</td>\n",
       "      <td>Los Angeles</td>\n",
       "      <td>83,089</td>\n",
       "      <td>7.63</td>\n",
       "      <td>19.8</td>\n",
       "      <td>July 11, 1903</td>\n",
       "    </tr>\n",
       "  </tbody>\n",
       "</table>\n",
       "</div>"
      ],
      "text/plain": [
       "              0     1               2       3      4      5  \\\n",
       "0      Adelanto  City  San Bernardino  31,765  56.01  145.1   \n",
       "1  Agoura Hills  City     Los Angeles  20,330   7.79   20.2   \n",
       "2       Alameda  City         Alameda  73,812  10.61   27.5   \n",
       "3        Albany  City         Alameda  18,539   1.79    4.6   \n",
       "4      Alhambra  City     Los Angeles  83,089   7.63   19.8   \n",
       "\n",
       "                    6  \n",
       "0   December 22, 1970  \n",
       "1    December 8, 1982  \n",
       "2      April 19, 1854  \n",
       "3  September 22, 1908  \n",
       "4       July 11, 1903  "
      ]
     },
     "execution_count": 8,
     "metadata": {},
     "output_type": "execute_result"
    }
   ],
   "source": [
    "# move the title into the data\n",
    "California_update = np.vstack([California_raw.columns, California_raw])\n",
    "California_update = pd.DataFrame(California_update)\n",
    "California_update.head()"
   ]
  },
  {
   "cell_type": "code",
   "execution_count": 9,
   "metadata": {},
   "outputs": [],
   "source": [
    "California_update.sort_values([2, 0]).head()\n",
    "California_update.columns = ['Name', \n",
    "                             'Type', \n",
    "                             'County', \n",
    "                             'Population(2010)', \n",
    "                             'Land area (sq mi)', \n",
    "                             'Land area (km^2)', \n",
    "                             'Incorporated']"
   ]
  },
  {
   "cell_type": "code",
   "execution_count": 10,
   "metadata": {},
   "outputs": [
    {
     "data": {
      "text/html": [
       "<div>\n",
       "<style scoped>\n",
       "    .dataframe tbody tr th:only-of-type {\n",
       "        vertical-align: middle;\n",
       "    }\n",
       "\n",
       "    .dataframe tbody tr th {\n",
       "        vertical-align: top;\n",
       "    }\n",
       "\n",
       "    .dataframe thead th {\n",
       "        text-align: right;\n",
       "    }\n",
       "</style>\n",
       "<table border=\"1\" class=\"dataframe\">\n",
       "  <thead>\n",
       "    <tr style=\"text-align: right;\">\n",
       "      <th></th>\n",
       "      <th>Name</th>\n",
       "      <th>Type</th>\n",
       "      <th>County</th>\n",
       "      <th>Population(2010)</th>\n",
       "      <th>Land area (sq mi)</th>\n",
       "      <th>Land area (km^2)</th>\n",
       "      <th>Incorporated</th>\n",
       "    </tr>\n",
       "  </thead>\n",
       "  <tbody>\n",
       "    <tr>\n",
       "      <th>0</th>\n",
       "      <td>Adelanto</td>\n",
       "      <td>City</td>\n",
       "      <td>San Bernardino</td>\n",
       "      <td>31,765</td>\n",
       "      <td>56.01</td>\n",
       "      <td>145.1</td>\n",
       "      <td>December 22, 1970</td>\n",
       "    </tr>\n",
       "    <tr>\n",
       "      <th>1</th>\n",
       "      <td>Agoura Hills</td>\n",
       "      <td>City</td>\n",
       "      <td>Los Angeles</td>\n",
       "      <td>20,330</td>\n",
       "      <td>7.79</td>\n",
       "      <td>20.2</td>\n",
       "      <td>December 8, 1982</td>\n",
       "    </tr>\n",
       "    <tr>\n",
       "      <th>2</th>\n",
       "      <td>Alameda</td>\n",
       "      <td>City</td>\n",
       "      <td>Alameda</td>\n",
       "      <td>73,812</td>\n",
       "      <td>10.61</td>\n",
       "      <td>27.5</td>\n",
       "      <td>April 19, 1854</td>\n",
       "    </tr>\n",
       "    <tr>\n",
       "      <th>3</th>\n",
       "      <td>Albany</td>\n",
       "      <td>City</td>\n",
       "      <td>Alameda</td>\n",
       "      <td>18,539</td>\n",
       "      <td>1.79</td>\n",
       "      <td>4.6</td>\n",
       "      <td>September 22, 1908</td>\n",
       "    </tr>\n",
       "    <tr>\n",
       "      <th>4</th>\n",
       "      <td>Alhambra</td>\n",
       "      <td>City</td>\n",
       "      <td>Los Angeles</td>\n",
       "      <td>83,089</td>\n",
       "      <td>7.63</td>\n",
       "      <td>19.8</td>\n",
       "      <td>July 11, 1903</td>\n",
       "    </tr>\n",
       "  </tbody>\n",
       "</table>\n",
       "</div>"
      ],
      "text/plain": [
       "           Name  Type          County Population(2010) Land area (sq mi)  \\\n",
       "0      Adelanto  City  San Bernardino           31,765             56.01   \n",
       "1  Agoura Hills  City     Los Angeles           20,330              7.79   \n",
       "2       Alameda  City         Alameda           73,812             10.61   \n",
       "3        Albany  City         Alameda           18,539              1.79   \n",
       "4      Alhambra  City     Los Angeles           83,089              7.63   \n",
       "\n",
       "  Land area (km^2)        Incorporated  \n",
       "0            145.1   December 22, 1970  \n",
       "1             20.2    December 8, 1982  \n",
       "2             27.5      April 19, 1854  \n",
       "3              4.6  September 22, 1908  \n",
       "4             19.8       July 11, 1903  "
      ]
     },
     "execution_count": 10,
     "metadata": {},
     "output_type": "execute_result"
    }
   ],
   "source": [
    "California_update.head()"
   ]
  },
  {
   "cell_type": "markdown",
   "metadata": {},
   "source": [
    "Get the total number of counties and their cororesponding number of cities (or towns) within them."
   ]
  },
  {
   "cell_type": "code",
   "execution_count": 11,
   "metadata": {},
   "outputs": [
    {
     "data": {
      "text/plain": [
       "55"
      ]
     },
     "execution_count": 11,
     "metadata": {},
     "output_type": "execute_result"
    }
   ],
   "source": [
    "total_counties = California_update['County'].value_counts()\n",
    "len(total_counties)"
   ]
  },
  {
   "cell_type": "markdown",
   "metadata": {},
   "source": [
    "There are a total of 55 counties, and 481 cities in California. Instead of focusing on all of the 481 cities from all the 55 counties, I will only focus on Log Angeles, which is famous for its diversity. I am interested to explore how many venues categories are there, what are these categories, and how they are distributed."
   ]
  },
  {
   "cell_type": "markdown",
   "metadata": {},
   "source": [
    "Get the cities is Los Angeles."
   ]
  },
  {
   "cell_type": "code",
   "execution_count": 190,
   "metadata": {},
   "outputs": [],
   "source": [
    "# Notes: create a dataframe for the top 5 counties, where the cities are not index\n",
    "\n",
    "#df1 = pd.DataFrame(data = top_5_counties.index, columns = ['County'])\n",
    "#df2 = pd.DataFrame(data = top_5_counties.values, columns = ['Number of Cities'])\n",
    "#top_5_counties = pd.concat([df1, df2], axis = 1)\n",
    "\n",
    "# Notes: get the cities (or towns) when county is in ['Los Angeles', 'Orange']\n",
    "# California_update[California_update['County'].isin(['Los Angeles', 'Orange'])]\n",
    "\n",
    "# California_df = California_update[California_update['County'].isin(top_5_counties.index)]\n",
    "# California_df.head()"
   ]
  },
  {
   "cell_type": "code",
   "execution_count": 12,
   "metadata": {},
   "outputs": [],
   "source": [
    "# get the cities (or towns) when county = 'Log Angeles'\n",
    "Los_Angeles_df = California_update[California_update['County'] == 'Los Angeles']"
   ]
  },
  {
   "cell_type": "code",
   "execution_count": 13,
   "metadata": {},
   "outputs": [
    {
     "data": {
      "text/html": [
       "<div>\n",
       "<style scoped>\n",
       "    .dataframe tbody tr th:only-of-type {\n",
       "        vertical-align: middle;\n",
       "    }\n",
       "\n",
       "    .dataframe tbody tr th {\n",
       "        vertical-align: top;\n",
       "    }\n",
       "\n",
       "    .dataframe thead th {\n",
       "        text-align: right;\n",
       "    }\n",
       "</style>\n",
       "<table border=\"1\" class=\"dataframe\">\n",
       "  <thead>\n",
       "    <tr style=\"text-align: right;\">\n",
       "      <th></th>\n",
       "      <th>Name</th>\n",
       "      <th>Type</th>\n",
       "      <th>County</th>\n",
       "      <th>Population(2010)</th>\n",
       "      <th>Land area (sq mi)</th>\n",
       "      <th>Land area (km^2)</th>\n",
       "      <th>Incorporated</th>\n",
       "    </tr>\n",
       "  </thead>\n",
       "  <tbody>\n",
       "    <tr>\n",
       "      <th>1</th>\n",
       "      <td>Agoura Hills</td>\n",
       "      <td>City</td>\n",
       "      <td>Los Angeles</td>\n",
       "      <td>20,330</td>\n",
       "      <td>7.79</td>\n",
       "      <td>20.2</td>\n",
       "      <td>December 8, 1982</td>\n",
       "    </tr>\n",
       "    <tr>\n",
       "      <th>4</th>\n",
       "      <td>Alhambra</td>\n",
       "      <td>City</td>\n",
       "      <td>Los Angeles</td>\n",
       "      <td>83,089</td>\n",
       "      <td>7.63</td>\n",
       "      <td>19.8</td>\n",
       "      <td>July 11, 1903</td>\n",
       "    </tr>\n",
       "    <tr>\n",
       "      <th>14</th>\n",
       "      <td>Arcadia</td>\n",
       "      <td>City</td>\n",
       "      <td>Los Angeles</td>\n",
       "      <td>56,364</td>\n",
       "      <td>10.93</td>\n",
       "      <td>28.3</td>\n",
       "      <td>August 5, 1903</td>\n",
       "    </tr>\n",
       "    <tr>\n",
       "      <th>17</th>\n",
       "      <td>Artesia</td>\n",
       "      <td>City</td>\n",
       "      <td>Los Angeles</td>\n",
       "      <td>16,522</td>\n",
       "      <td>1.62</td>\n",
       "      <td>4.2</td>\n",
       "      <td>May 29, 1959</td>\n",
       "    </tr>\n",
       "    <tr>\n",
       "      <th>23</th>\n",
       "      <td>Avalon</td>\n",
       "      <td>City</td>\n",
       "      <td>Los Angeles</td>\n",
       "      <td>3,728</td>\n",
       "      <td>2.94</td>\n",
       "      <td>7.6</td>\n",
       "      <td>June 26, 1913</td>\n",
       "    </tr>\n",
       "  </tbody>\n",
       "</table>\n",
       "</div>"
      ],
      "text/plain": [
       "            Name  Type       County Population(2010) Land area (sq mi)  \\\n",
       "1   Agoura Hills  City  Los Angeles           20,330              7.79   \n",
       "4       Alhambra  City  Los Angeles           83,089              7.63   \n",
       "14       Arcadia  City  Los Angeles           56,364             10.93   \n",
       "17       Artesia  City  Los Angeles           16,522              1.62   \n",
       "23        Avalon  City  Los Angeles            3,728              2.94   \n",
       "\n",
       "   Land area (km^2)      Incorporated  \n",
       "1              20.2  December 8, 1982  \n",
       "4              19.8     July 11, 1903  \n",
       "14             28.3    August 5, 1903  \n",
       "17              4.2      May 29, 1959  \n",
       "23              7.6     June 26, 1913  "
      ]
     },
     "execution_count": 13,
     "metadata": {},
     "output_type": "execute_result"
    }
   ],
   "source": [
    "Los_Angeles_df.head()"
   ]
  },
  {
   "cell_type": "code",
   "execution_count": 15,
   "metadata": {},
   "outputs": [
    {
     "data": {
      "text/plain": [
       "88"
      ]
     },
     "execution_count": 15,
     "metadata": {},
     "output_type": "execute_result"
    }
   ],
   "source": [
    "len(Los_Angeles_df)"
   ]
  },
  {
   "cell_type": "markdown",
   "metadata": {},
   "source": [
    "There are 88 cities in Log Angeles."
   ]
  },
  {
   "cell_type": "code",
   "execution_count": null,
   "metadata": {},
   "outputs": [],
   "source": []
  }
 ],
 "metadata": {
  "kernelspec": {
   "display_name": "Python 3",
   "language": "python",
   "name": "python3"
  },
  "language_info": {
   "codemirror_mode": {
    "name": "ipython",
    "version": 3
   },
   "file_extension": ".py",
   "mimetype": "text/x-python",
   "name": "python",
   "nbconvert_exporter": "python",
   "pygments_lexer": "ipython3",
   "version": "3.6.7"
  }
 },
 "nbformat": 4,
 "nbformat_minor": 2
}
