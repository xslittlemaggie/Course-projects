{
  "nbformat": 4,
  "nbformat_minor": 0,
  "metadata": {
    "colab": {
      "name": "CNN_Mnist_LH.ipynb",
      "version": "0.3.2",
      "provenance": [],
      "collapsed_sections": [],
      "toc_visible": true,
      "include_colab_link": true
    },
    "kernelspec": {
      "name": "python3",
      "display_name": "Python 3"
    },
    "accelerator": "GPU"
  },
  "cells": [
    {
      "cell_type": "markdown",
      "metadata": {
        "id": "view-in-github",
        "colab_type": "text"
      },
      "source": [
        "<a href=\"https://colab.research.google.com/github/xslittlemaggie/Coursera_Capstone/blob/master/CNN_Mnist_LH.ipynb\" target=\"_parent\"><img src=\"https://colab.research.google.com/assets/colab-badge.svg\" alt=\"Open In Colab\"/></a>"
      ]
    },
    {
      "cell_type": "markdown",
      "metadata": {
        "id": "-IdKbNDks5sy",
        "colab_type": "text"
      },
      "source": [
        "## Step 1: Import librarious"
      ]
    },
    {
      "cell_type": "code",
      "metadata": {
        "id": "Cbi4948Ys3bY",
        "colab_type": "code",
        "colab": {}
      },
      "source": [
        "import numpy as np\n",
        "from keras.models import Sequential\n",
        "from keras.layers.core import Dense, Dropout, Activation\n",
        "from keras.layers import Conv2D, MaxPooling2D, Flatten\n",
        "from keras.optimizers import SGD, Adam, Adadelta\n",
        "from keras.utils import np_utils\n",
        "from keras.datasets import mnist\n",
        "from keras import backend as K"
      ],
      "execution_count": 0,
      "outputs": []
    },
    {
      "cell_type": "markdown",
      "metadata": {
        "id": "x9604MxXtDt4",
        "colab_type": "text"
      },
      "source": [
        "## Step 2: Load mnist data"
      ]
    },
    {
      "cell_type": "code",
      "metadata": {
        "id": "KmTJ3YZWqO2j",
        "colab_type": "code",
        "outputId": "cf1ab7ff-5bb2-4b64-e99c-6e1318d58858",
        "colab": {
          "base_uri": "https://localhost:8080/",
          "height": 55
        }
      },
      "source": [
        "# the data, split between train and test sets\n",
        "(x_train, y_train), (x_test, y_test) = mnist.load_data()\n",
        "\n",
        "if K.image_data_format() == \"channels_first\":\n",
        "  x_train = x_train.reshape(x_train.shape[0], 1, 28, 28)\n",
        "  x_test = x_test.reshape(x_test.shape[0], 1, 28, 28)\n",
        "  input_shape = (1, 28, 28)\n",
        "else:\n",
        "  x_train = x_train.reshape(x_train.shape[0], 28, 28, 1)\n",
        "  x_test = x_test.reshape(x_test.shape[0], 28, 28, 1)\n",
        "  input_shape = (28, 28, 1)\n",
        "\n",
        "x_train = x_train.astype('float32')\n",
        "x_test = x_test.astype('float32')\n",
        "x_train = x_train/255\n",
        "x_test = x_test/255\n",
        "\n",
        "# convert class vectors to binary class matrics\n",
        "y_train = np_utils.to_categorical(y_train, 10)\n",
        "y_test = np_utils.to_categorical(y_test, 10)\n",
        "\n",
        "\n",
        "\"\"\"\n",
        "# load_data for DNN, 1 dimension\n",
        "def load_data():\n",
        "  (x_train, y_train), (x_test, y_test) = mnist.load_data()\n",
        "  number = 10000\n",
        "  x_train = x_train[:number]\n",
        "  y_train = y_train[:number]\n",
        "  x_train = x_train.reshape(number, 28 * 28)\n",
        "  x_test = x_test.reshape(x_test.shape[0], 28 * 28)\n",
        "  x_train = x_train.astype('float32')\n",
        "  x_test = x_test.astype('float32')\n",
        "  # convert class vectors to binary class matrices\n",
        "  y_train = np_utils.to_categorical(y_train, 10)\n",
        "  y_test = np_utils.to_categorical(y_test, 10)\n",
        "  x_train = x_train\n",
        "  x_test = x_test\n",
        "  \n",
        "  x_train = x_train/255   # normalize the input, if not normalized, the accuracy decreases significantly\n",
        "  x_test = x_test/255\n",
        "  #x_test = np.random.normal(x_test)  # add random noise to testing data, this would decrease the test accuracy\n",
        "  \n",
        "  return (x_train, y_train), (x_test, y_test)\n",
        "  \"\"\""
      ],
      "execution_count": 0,
      "outputs": [
        {
          "output_type": "execute_result",
          "data": {
            "text/plain": [
              "\"\\n# load_data for DNN, 1D\\ndef load_data():\\n  (x_train, y_train), (x_test, y_test) = mnist.load_data()\\n  number = 10000\\n  x_train = x_train[:number]\\n  y_train = y_train[:number]\\n  x_train = x_train.reshape(number, 28 * 28)\\n  x_test = x_test.reshape(x_test.shape[0], 28 * 28)\\n  x_train = x_train.astype('float32')\\n  x_test = x_test.astype('float32')\\n  # convert class vectors to binary class matrices\\n  y_train = np_utils.to_categorical(y_train, 10)\\n  y_test = np_utils.to_categorical(y_test, 10)\\n  x_train = x_train\\n  x_test = x_test\\n  \\n  x_train = x_train/255   # normalize the input, if not normalized, the accuracy decreases significantly\\n  x_test = x_test/255\\n  #x_test = np.random.normal(x_test)  # add random noise to testing data, this would decrease the test accuracy\\n  \\n  return (x_train, y_train), (x_test, y_test)\\n  \""
            ]
          },
          "metadata": {
            "tags": []
          },
          "execution_count": 67
        }
      ]
    },
    {
      "cell_type": "markdown",
      "metadata": {
        "id": "vUSQTE4DtJXw",
        "colab_type": "text"
      },
      "source": [
        "## Step 3: Get familiar with the data"
      ]
    },
    {
      "cell_type": "code",
      "metadata": {
        "id": "hjjaYXfzqrx7",
        "colab_type": "code",
        "outputId": "5ba87c4d-ac65-460f-8aa2-30943d4b7dbf",
        "colab": {
          "base_uri": "https://localhost:8080/",
          "height": 87
        }
      },
      "source": [
        "print(\"x_train shape:\", x_train.shape)\n",
        "print(\"y_train shape:\", y_train.shape)\n",
        "print(\"x_test shape:\", x_test.shape)\n",
        "print(\"y_test shape:\", y_test.shape)"
      ],
      "execution_count": 0,
      "outputs": [
        {
          "output_type": "stream",
          "text": [
            "x_train shape: (60000, 28, 28, 1)\n",
            "y_train shape: (60000, 10)\n",
            "x_test shape: (10000, 28, 28, 1)\n",
            "y_test shape: (10000, 10)\n"
          ],
          "name": "stdout"
        }
      ]
    },
    {
      "cell_type": "code",
      "metadata": {
        "id": "_lWNp13nqyeI",
        "colab_type": "code",
        "outputId": "5c3a12ee-abf0-4742-8559-5c0e3e8e7565",
        "colab": {
          "base_uri": "https://localhost:8080/",
          "height": 35
        }
      },
      "source": [
        "print(y_train[0]) # the first value is 5"
      ],
      "execution_count": 0,
      "outputs": [
        {
          "output_type": "stream",
          "text": [
            "[0. 0. 0. 0. 0. 1. 0. 0. 0. 0.]\n"
          ],
          "name": "stdout"
        }
      ]
    },
    {
      "cell_type": "markdown",
      "metadata": {
        "id": "e40ewWHUuN57",
        "colab_type": "text"
      },
      "source": [
        "## Step 4: Create the CNN model"
      ]
    },
    {
      "cell_type": "markdown",
      "metadata": {
        "id": "bHp3YTBgzV1x",
        "colab_type": "text"
      },
      "source": [
        "Models:\n",
        "  \n",
        "  1). **Dense -> fully connected** NN\n",
        "  2). **MaxPooling** \n",
        "  3). **Conv2D -> CNN**      4). **Flatten**\n",
        "\n",
        "Parameters:\n",
        "1. Activation functions: \n",
        "    **1). relu** (more efficient)\n",
        "    **2). sigmoid**\n",
        "    **3). tanh**\n",
        "    **4). softmax** (usually the last layer)\n",
        "      \n",
        "2. Loss functions: \n",
        "    **1). mse** (not good for classification)\n",
        "    **2). categorical_crossentropy**\n",
        "      \n",
        "3. Optimizers: \n",
        "    **1). SGD(lr = 0.01)**\n",
        "    **2). Adam**\n",
        "    **3). Adadelta\n",
        "      \n",
        "  "
      ]
    },
    {
      "cell_type": "code",
      "metadata": {
        "id": "Wm0gF8PWsvy9",
        "colab_type": "code",
        "outputId": "3b1183c9-d129-4a63-bc7c-112e1a6ea273",
        "colab": {
          "base_uri": "https://localhost:8080/",
          "height": 783
        }
      },
      "source": [
        "model = Sequential()\n",
        "\n",
        "model.add(Conv2D(32, kernel_size = (3, 3), activation = 'relu', input_shape = (28, 28, 1)))\n",
        "\n",
        "model.add(Conv2D(64, (3, 3), activation = 'relu'))\n",
        "model.add(MaxPooling2D((2, 2)))\n",
        "# model.add(Dropout(0.25))  # one solution for overfitting, dropout\n",
        "\n",
        "model.add(Flatten())\n",
        "\n",
        "model.add(Dense(128, activation = 'relu'))\n",
        "# model.add(Dropout(0.5))\n",
        "\n",
        "model.add(Dense(10, activation ='softmax'))\n",
        "\n",
        "model.compile(loss = \"categorical_crossentropy\", optimizer = Adadelta(), metrics = ['accuracy'])\n",
        "\n",
        "model.fit(x_train, y_train,\n",
        "         batch_size = 128, \n",
        "         epochs = 20,\n",
        "         verbose = 1,\n",
        "         validation_data = (x_test, y_test))\n",
        "\n",
        "score = model.evaluate(x_test, y_test, verbose = 0) \n",
        "\n",
        "print(\"Test Acc:\", score[1])\n",
        "print(\"Test Loss\", score[0])"
      ],
      "execution_count": 0,
      "outputs": [
        {
          "output_type": "stream",
          "text": [
            "Train on 60000 samples, validate on 10000 samples\n",
            "Epoch 1/20\n",
            "60000/60000 [==============================] - 6s 100us/step - loss: 0.1971 - acc: 0.9404 - val_loss: 0.0584 - val_acc: 0.9802\n",
            "Epoch 2/20\n",
            "60000/60000 [==============================] - 4s 74us/step - loss: 0.0473 - acc: 0.9855 - val_loss: 0.0394 - val_acc: 0.9871\n",
            "Epoch 3/20\n",
            "60000/60000 [==============================] - 4s 75us/step - loss: 0.0293 - acc: 0.9906 - val_loss: 0.0336 - val_acc: 0.9885\n",
            "Epoch 4/20\n",
            "60000/60000 [==============================] - 4s 74us/step - loss: 0.0200 - acc: 0.9937 - val_loss: 0.0346 - val_acc: 0.9885\n",
            "Epoch 5/20\n",
            "60000/60000 [==============================] - 4s 74us/step - loss: 0.0139 - acc: 0.9958 - val_loss: 0.0315 - val_acc: 0.9898\n",
            "Epoch 6/20\n",
            "60000/60000 [==============================] - 4s 75us/step - loss: 0.0089 - acc: 0.9974 - val_loss: 0.0317 - val_acc: 0.9904\n",
            "Epoch 7/20\n",
            "60000/60000 [==============================] - 4s 75us/step - loss: 0.0062 - acc: 0.9980 - val_loss: 0.0340 - val_acc: 0.9895\n",
            "Epoch 8/20\n",
            "60000/60000 [==============================] - 4s 75us/step - loss: 0.0038 - acc: 0.9989 - val_loss: 0.0355 - val_acc: 0.9900\n",
            "Epoch 9/20\n",
            "60000/60000 [==============================] - 4s 74us/step - loss: 0.0026 - acc: 0.9992 - val_loss: 0.0447 - val_acc: 0.9895\n",
            "Epoch 10/20\n",
            "60000/60000 [==============================] - 4s 73us/step - loss: 0.0021 - acc: 0.9995 - val_loss: 0.0364 - val_acc: 0.9902\n",
            "Epoch 11/20\n",
            "60000/60000 [==============================] - 4s 74us/step - loss: 0.0010 - acc: 0.9998 - val_loss: 0.0405 - val_acc: 0.9908\n",
            "Epoch 12/20\n",
            "60000/60000 [==============================] - 4s 75us/step - loss: 7.0391e-04 - acc: 0.9999 - val_loss: 0.0415 - val_acc: 0.9910\n",
            "Epoch 13/20\n",
            "60000/60000 [==============================] - 4s 74us/step - loss: 4.7235e-04 - acc: 1.0000 - val_loss: 0.0438 - val_acc: 0.9906\n",
            "Epoch 14/20\n",
            "60000/60000 [==============================] - 4s 74us/step - loss: 3.4817e-04 - acc: 1.0000 - val_loss: 0.0451 - val_acc: 0.9909\n",
            "Epoch 15/20\n",
            "60000/60000 [==============================] - 4s 73us/step - loss: 3.1043e-04 - acc: 1.0000 - val_loss: 0.0449 - val_acc: 0.9909\n",
            "Epoch 16/20\n",
            "60000/60000 [==============================] - 4s 73us/step - loss: 2.9658e-04 - acc: 1.0000 - val_loss: 0.0460 - val_acc: 0.9909\n",
            "Epoch 17/20\n",
            "60000/60000 [==============================] - 4s 73us/step - loss: 2.9020e-04 - acc: 1.0000 - val_loss: 0.0467 - val_acc: 0.9908\n",
            "Epoch 18/20\n",
            "60000/60000 [==============================] - 4s 73us/step - loss: 2.8682e-04 - acc: 1.0000 - val_loss: 0.0470 - val_acc: 0.9906\n",
            "Epoch 19/20\n",
            "60000/60000 [==============================] - 4s 74us/step - loss: 2.8492e-04 - acc: 1.0000 - val_loss: 0.0477 - val_acc: 0.9907\n",
            "Epoch 20/20\n",
            "60000/60000 [==============================] - 4s 73us/step - loss: 2.8305e-04 - acc: 1.0000 - val_loss: 0.0484 - val_acc: 0.9909\n",
            "Test Acc: 0.9909\n",
            "Test Loss 0.04835522706399486\n"
          ],
          "name": "stdout"
        }
      ]
    },
    {
      "cell_type": "code",
      "metadata": {
        "id": "nc1Ll3fvB-lM",
        "colab_type": "code",
        "colab": {}
      },
      "source": [
        ""
      ],
      "execution_count": 0,
      "outputs": []
    }
  ]
}